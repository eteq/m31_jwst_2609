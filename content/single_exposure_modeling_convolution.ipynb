{
 "cells": [
  {
   "cell_type": "markdown",
   "id": "53dfb5f4-fa26-480d-9e57-f37d099605ff",
   "metadata": {},
   "source": [
    "Follows from [single_exposure_modeling_wcython](single_exposure_modeling_wcython.ipynb) - see that and previous notebooks for more data exploration.\n",
    "\n",
    "This notebook is a re-think of how to do the modeling.  Instead of summing along the PSF/LSF, try building a \"model image\" and then convolve that with the PSF/LSF. "
   ]
  },
  {
   "cell_type": "code",
   "execution_count": 1,
   "id": "ff6451f5-65f5-451c-a4f5-69b6cb89c0b9",
   "metadata": {
    "tags": []
   },
   "outputs": [],
   "source": [
    "import os\n",
    "import json\n",
    "import collections\n",
    "from pathlib import Path\n",
    "from multiprocessing import Pool\n",
    "\n",
    "import numpy as np\n",
    "from scipy import interpolate, integrate, signal\n",
    "\n",
    "from tqdm.notebook import tqdm\n",
    "\n",
    "from astropy.coordinates import SkyCoord\n",
    "from astropy import table\n",
    "from astropy import convolution\n",
    "from astropy import visualization\n",
    "visualization.quantity_support()\n",
    "from astropy import units as u\n",
    "from astropy import constants\n",
    "from astropy.stats import sigma_clip\n",
    "from astropy.io import fits\n",
    "from astropy.nddata import StdDevUncertainty\n",
    "\n",
    "import specutils\n",
    "from specutils import manipulation as specman\n",
    "from specutils import analysis as specan\n",
    "\n",
    "from jwst import datamodels\n",
    "\n",
    "import webbpsf\n",
    "\n",
    "%matplotlib inline\n",
    "from matplotlib import pyplot as plt"
   ]
  },
  {
   "cell_type": "code",
   "execution_count": 2,
   "id": "2cd7988a-e58d-435a-9520-d530abe4b1d1",
   "metadata": {
    "tags": []
   },
   "outputs": [],
   "source": [
    "%load_ext Cython"
   ]
  },
  {
   "cell_type": "code",
   "execution_count": 3,
   "id": "329dfae6-bfdd-4a63-9d1a-dee7531be9aa",
   "metadata": {
    "tags": []
   },
   "outputs": [],
   "source": [
    "data_dir = Path('widened_2')\n",
    "\n",
    "test_path = list(data_dir.glob('*04101_00001_nrs2_cal.fits'))\n",
    "assert len(test_path) == 1\n",
    "test_path = test_path[0]\n",
    "\n",
    "test_dm = datamodels.open(test_path)\n",
    "\n",
    "example_slit = test_dm.slits[50]"
   ]
  },
  {
   "cell_type": "markdown",
   "id": "128cad4a-42bd-41f0-bd20-7bdc9fae298a",
   "metadata": {},
   "source": [
    "## Load spectral model"
   ]
  },
  {
   "cell_type": "code",
   "execution_count": 4,
   "id": "5c7a61ea-f4b9-41c5-9aca-d63f37f271f3",
   "metadata": {
    "tags": []
   },
   "outputs": [
    {
     "name": "stderr",
     "output_type": "stream",
     "text": [
      "2023-03-17 02:17:05,624 - stpipe - WARNING - /usr/local/lib/python3.11/site-packages/astropy/units/format/generic.py:604: UnitsWarning: 'erg/s/cm^2/cm' contains multiple slashes, which is discouraged by the FITS standard\n",
      "  warnings.warn(\n",
      "\n"
     ]
    }
   ],
   "source": [
    "phoenix_model = fits.open('lte03300-0.00-0.0.PHOENIX-ACES-AGSS-COND-2011-HiRes.fits')\n",
    "#phoenix_model = fits.open('ftp://phoenix.astro.physik.uni-goettingen.de/HiResFITS/PHOENIX-ACES-AGSS-COND-2011/Z-0.0/lte03300-0.00-0.0.PHOENIX-ACES-AGSS-COND-2011-HiRes.fits', cache=True)\n",
    "phoenix_wave = fits.getdata('WAVE_PHOENIX-ACES-AGSS-COND-2011.fits')*u.angstrom\n",
    "#phoenix_wave = fits.getdata('ftp://phoenix.astro.physik.uni-goettingen.de/HiResFITS//WAVE_PHOENIX-ACES-AGSS-COND-2011.fits', cache=True)*u.angstrom\n",
    "phoenix_spec = specutils.Spectrum1D(spectral_axis=phoenix_wave, flux=phoenix_model[0].data*u.Unit(phoenix_model[0].header['BUNIT']))"
   ]
  },
  {
   "cell_type": "code",
   "execution_count": 5,
   "id": "82a0435b-4f22-42c5-a005-801c3c9aea5a",
   "metadata": {
    "tags": []
   },
   "outputs": [
    {
     "data": {
      "text/plain": [
       "18691"
      ]
     },
     "execution_count": 5,
     "metadata": {},
     "output_type": "execute_result"
    }
   ],
   "source": [
    "xg, yg = np.meshgrid(*[np.arange(s) for s in example_slit.data.shape[::-1]])\n",
    "\n",
    "data_coo_mid, data_wl_mid = example_slit.meta.wcs.pixel_to_world(xg, yg)\n",
    "data_coo_edges, data_wl_edges = example_slit.meta.wcs.pixel_to_world([xg-.5, xg-.5, xg+.5, xg+.5], \n",
    "                                                                     [yg-.5, yg+.5, yg+.5, yg-.5])\n",
    "nanless_msk = np.all(np.isfinite(data_wl_edges), axis=0) & np.isfinite(data_wl_mid)\n",
    "np.sum(nanless_msk)"
   ]
  },
  {
   "cell_type": "markdown",
   "id": "bd93b724-3eac-49db-834b-ecd1c70766b1",
   "metadata": {},
   "source": [
    "Lets make sure we understand the order of the arrays here:"
   ]
  },
  {
   "cell_type": "code",
   "execution_count": 6,
   "id": "735e51d7-2bb5-4fcd-bcc2-6d4c90bd85c2",
   "metadata": {
    "tags": []
   },
   "outputs": [
    {
     "data": {
      "text/latex": [
       "[$0^\\circ00{}^\\prime00.10333245{}^{\\prime\\prime}$\n",
       " $0^\\circ00{}^\\prime00.10333244{}^{\\prime\\prime}$\n",
       " $0^\\circ00{}^\\prime00.10333243{}^{\\prime\\prime}$\n",
       " $0^\\circ00{}^\\prime00.10333242{}^{\\prime\\prime}$\n",
       " $0^\\circ00{}^\\prime00.10333241{}^{\\prime\\prime}$]"
      ],
      "text/plain": [
       "<Angle [2.87034583e-05, 2.87034557e-05, 2.87034530e-05, 2.87034504e-05,\n",
       "        2.87034477e-05] deg>"
      ]
     },
     "execution_count": 6,
     "metadata": {},
     "output_type": "execute_result"
    }
   ],
   "source": [
    "data_coo_edges[0][nanless_msk].separation(data_coo_edges[1][nanless_msk])[:5]"
   ]
  },
  {
   "cell_type": "code",
   "execution_count": 7,
   "id": "761103b9-87d1-47ea-ab7b-7ea605f63d7f",
   "metadata": {
    "tags": []
   },
   "outputs": [
    {
     "data": {
      "text/latex": [
       "[$0^\\circ00{}^\\prime00.00002623{}^{\\prime\\prime}$\n",
       " $0^\\circ00{}^\\prime00.00002689{}^{\\prime\\prime}$\n",
       " $0^\\circ00{}^\\prime00.00002756{}^{\\prime\\prime}$\n",
       " $0^\\circ00{}^\\prime00.00002822{}^{\\prime\\prime}$\n",
       " $0^\\circ00{}^\\prime00.00002888{}^{\\prime\\prime}$]"
      ],
      "text/plain": [
       "<Angle [7.28557665e-09, 7.47007245e-09, 7.65454808e-09, 7.83902389e-09,\n",
       "        8.02349935e-09] deg>"
      ]
     },
     "execution_count": 7,
     "metadata": {},
     "output_type": "execute_result"
    }
   ],
   "source": [
    "data_coo_edges[1][nanless_msk].separation(data_coo_edges[2][nanless_msk])[:5]"
   ]
  },
  {
   "cell_type": "code",
   "execution_count": 8,
   "id": "ddecb51f-7ea8-42e7-a3f5-2ebaf3b69b19",
   "metadata": {
    "tags": []
   },
   "outputs": [
    {
     "data": {
      "text/latex": [
       "[$0^\\circ00{}^\\prime00.10333244{}^{\\prime\\prime}$\n",
       " $0^\\circ00{}^\\prime00.10333243{}^{\\prime\\prime}$\n",
       " $0^\\circ00{}^\\prime00.10333242{}^{\\prime\\prime}$\n",
       " $0^\\circ00{}^\\prime00.10333241{}^{\\prime\\prime}$\n",
       " $0^\\circ00{}^\\prime00.1033324{}^{\\prime\\prime}$]"
      ],
      "text/plain": [
       "<Angle [2.87034557e-05, 2.87034530e-05, 2.87034504e-05, 2.87034477e-05,\n",
       "        2.87034449e-05] deg>"
      ]
     },
     "execution_count": 8,
     "metadata": {},
     "output_type": "execute_result"
    }
   ],
   "source": [
    "data_coo_edges[2][nanless_msk].separation(data_coo_edges[3][nanless_msk])[:5]"
   ]
  },
  {
   "cell_type": "code",
   "execution_count": 9,
   "id": "919f7ef5-2ca9-4aa6-a7fb-51380579435b",
   "metadata": {
    "tags": []
   },
   "outputs": [
    {
     "data": {
      "text/latex": [
       "[$0^\\circ00{}^\\prime00.00002622{}^{\\prime\\prime}$\n",
       " $0^\\circ00{}^\\prime00.00002688{}^{\\prime\\prime}$\n",
       " $0^\\circ00{}^\\prime00.00002755{}^{\\prime\\prime}$\n",
       " $0^\\circ00{}^\\prime00.00002821{}^{\\prime\\prime}$\n",
       " $0^\\circ00{}^\\prime00.00002887{}^{\\prime\\prime}$]"
      ],
      "text/plain": [
       "<Angle [7.28297084e-09, 7.46743506e-09, 7.65186783e-09, 7.83631010e-09,\n",
       "        8.02075548e-09] deg>"
      ]
     },
     "execution_count": 9,
     "metadata": {},
     "output_type": "execute_result"
    }
   ],
   "source": [
    "data_coo_edges[3][nanless_msk].separation(data_coo_edges[0][nanless_msk])[:5]"
   ]
  },
  {
   "cell_type": "code",
   "execution_count": 10,
   "id": "433a5eac-2a04-4a22-a09a-a84bf7954df8",
   "metadata": {
    "tags": []
   },
   "outputs": [
    {
     "data": {
      "text/latex": [
       "[$0^\\circ00{}^\\prime00.10330622{}^{\\prime\\prime}$\n",
       " $0^\\circ00{}^\\prime00.10330555{}^{\\prime\\prime}$\n",
       " $0^\\circ00{}^\\prime00.10330487{}^{\\prime\\prime}$\n",
       " $0^\\circ00{}^\\prime00.1033042{}^{\\prime\\prime}$\n",
       " $0^\\circ00{}^\\prime00.10330353{}^{\\prime\\prime}$]"
      ],
      "text/plain": [
       "<Angle [2.86961727e-05, 2.86959856e-05, 2.86957985e-05, 2.86956113e-05,\n",
       "        2.86954242e-05] deg>"
      ]
     },
     "execution_count": 10,
     "metadata": {},
     "output_type": "execute_result"
    }
   ],
   "source": [
    "data_coo_edges[0][nanless_msk].separation(data_coo_edges[2][nanless_msk])[:5]"
   ]
  },
  {
   "cell_type": "code",
   "execution_count": 11,
   "id": "43a5f1d6-cc50-409e-bc80-dd96172abcba",
   "metadata": {
    "tags": []
   },
   "outputs": [
    {
     "data": {
      "text/latex": [
       "[$0^\\circ00{}^\\prime00.10335867{}^{\\prime\\prime}$\n",
       " $0^\\circ00{}^\\prime00.10335932{}^{\\prime\\prime}$\n",
       " $0^\\circ00{}^\\prime00.10335998{}^{\\prime\\prime}$\n",
       " $0^\\circ00{}^\\prime00.10336063{}^{\\prime\\prime}$\n",
       " $0^\\circ00{}^\\prime00.10336129{}^{\\prime\\prime}$]"
      ],
      "text/plain": [
       "<Angle [2.87107413e-05, 2.87109231e-05, 2.87111049e-05, 2.87112867e-05,\n",
       "        2.87114684e-05] deg>"
      ]
     },
     "execution_count": 11,
     "metadata": {},
     "output_type": "execute_result"
    }
   ],
   "source": [
    "data_coo_edges[1][nanless_msk].separation(data_coo_edges[3][nanless_msk])[:5]"
   ]
  },
  {
   "cell_type": "markdown",
   "id": "a9e5a88b-4514-497e-a127-9331aa33ac69",
   "metadata": {},
   "source": [
    "So 1/2 and 0/3 are much closer than the other combinations. So x is indeed the dispersion direction"
   ]
  },
  {
   "cell_type": "code",
   "execution_count": 12,
   "id": "7f209141-3a9a-4b6c-a52b-32173e3b5550",
   "metadata": {
    "tags": []
   },
   "outputs": [
    {
     "data": {
      "image/png": "[encoded data removed]",
      "text/plain": [
       "<Figure size 1000x400 with 2 Axes>"
      ]
     },
     "metadata": {},
     "output_type": "display_data"
    },
    {
     "data": {
      "image/png": "[encoded data removed]",
      "text/plain": [
       "<Figure size 1000x400 with 2 Axes>"
      ]
     },
     "metadata": {},
     "output_type": "display_data"
    },
    {
     "data": {
      "image/png": "[encoded data removed]",
      "text/plain": [
       "<Figure size 1000x400 with 2 Axes>"
      ]
     },
     "metadata": {},
     "output_type": "display_data"
    }
   ],
   "source": [
    "plt.figure(figsize=(10, 4))\n",
    "plt.imshow(data_wl_mid.value, aspect='auto', interpolation='nearest')\n",
    "plt.colorbar().set_label('wl (micron)')\n",
    "\n",
    "plt.figure(figsize=(10, 4))\n",
    "plt.imshow(np.abs(data_coo_mid.ra - example_slit.source_ra*u.deg).to(u.arcsec).value, aspect='auto', interpolation='nearest')\n",
    "plt.colorbar().set_label('dRA (abs asec)')\n",
    "\n",
    "plt.figure(figsize=(10, 4))\n",
    "plt.imshow(np.abs(data_coo_mid.dec - example_slit.source_dec*u.deg).to(u.arcsec).value, aspect='auto', interpolation='nearest')\n",
    "plt.colorbar().set_label('dDec (abs asec)')"
   ]
  },
  {
   "cell_type": "markdown",
   "id": "48d44a89-e7b0-444d-aa1c-edc1ac6d9d10",
   "metadata": {},
   "source": [
    "The RA/Dec tracks are notably different.  Clearly showing the target is a bit off from expectations. So can we find the ra/dec locus that matches?"
   ]
  },
  {
   "cell_type": "code",
   "execution_count": 13,
   "id": "33dfab1c-9ee1-4527-953c-96588ceef381",
   "metadata": {
    "tags": []
   },
   "outputs": [
    {
     "data": {
      "image/png": "[encoded data removed]",
      "text/plain": [
       "<Figure size 1000x400 with 2 Axes>"
      ]
     },
     "metadata": {},
     "output_type": "display_data"
    }
   ],
   "source": [
    "wls = np.linspace(np.nanmin(data_wl_mid)-.1*u.micron, np.nanmax(data_wl_mid)+.1*u.micron, 1024)\n",
    "scs =  SkyCoord(example_slit.source_ra*np.ones(len(wls))*u.deg + 0.0*u.arcsec,  \n",
    "                example_slit.source_dec*np.ones(len(wls))*u.deg + 0.0*u.arcsec)\n",
    "\n",
    "x, y = example_slit.meta.wcs.world_to_pixel(scs, wls)\n",
    "msk = ~(np.isnan(x)|np.isnan(y))\n",
    "\n",
    "\n",
    "\n",
    "plt.figure(figsize=(10, 4))\n",
    "plt.imshow(data_wl_mid.value, aspect='auto', interpolation='nearest')\n",
    "plt.colorbar().set_label('wl (micron)')\n",
    "\n",
    "plt.scatter(x[msk], y[msk], c='k');"
   ]
  },
  {
   "cell_type": "markdown",
   "id": "286c80de-e395-4142-aebc-d6bdae2f5302",
   "metadata": {},
   "source": [
    "So WCS will happily interpolate outside the range, but it also gives a nice locus. This suggests the following approach:\n",
    "\n",
    "1. At each point on the locus using the model wavelength grid, drop a transpose of the PSF\n",
    "2. Compute the overlap % of each PSF pixel to each image pixel\n",
    "3. Multiply the % by the PSF\n",
    "4. multiply by the model flux and add that into the sim image\n",
    "\n",
    "Key question: can this be done fast enough? It needs to be recalculated every iteration because wl (i.e. redshift), or source position might change.  First test the spped of a single iteration of 2/3:"
   ]
  },
  {
   "cell_type": "code",
   "execution_count": 14,
   "id": "940406e8-8d8c-4fa9-aca9-94c728752e9c",
   "metadata": {
    "tags": []
   },
   "outputs": [
    {
     "data": {
      "text/html": [
       "<!DOCTYPE html>\n",
       "<!-- Generated by Cython 0.29.33 -->\n",
       "<html>\n",
       "<head>\n",
       "    <meta http-equiv=\"Content-Type\" content=\"text/html; charset=utf-8\" />\n",
       "    <title>Cython: _cython_magic_2e5be3242725fb6920f7b79f5d31d180.pyx</title>\n",
       "    <style type=\"text/css\">\n",
       "    \n",
       "body.cython { font-family: courier; font-size: 12; }\n",
       "\n",
       ".cython.tag  {  }\n",
       ".cython.line { margin: 0em }\n",
       ".cython.code { font-size: 9; color: #444444; display: none; margin: 0px 0px 0px 8px; border-left: 8px none; }\n",
       "\n",
       ".cython.line .run { background-color: #B0FFB0; }\n",
       ".cython.line .mis { background-color: #FFB0B0; }\n",
       ".cython.code.run  { border-left: 8px solid #B0FFB0; }\n",
       ".cython.code.mis  { border-left: 8px solid #FFB0B0; }\n",
       "\n",
       ".cython.code .py_c_api  { color: red; }\n",
       ".cython.code .py_macro_api  { color: #FF7000; }\n",
       ".cython.code .pyx_c_api  { color: #FF3000; }\n",
       ".cython.code .pyx_macro_api  { color: #FF7000; }\n",
       ".cython.code .refnanny  { color: #FFA000; }\n",
       ".cython.code .trace  { color: #FFA000; }\n",
       ".cython.code .error_goto  { color: #FFA000; }\n",
       "\n",
       ".cython.code .coerce  { color: #008000; border: 1px dotted #008000 }\n",
       ".cython.code .py_attr { color: #FF0000; font-weight: bold; }\n",
       ".cython.code .c_attr  { color: #0000FF; }\n",
       ".cython.code .py_call { color: #FF0000; font-weight: bold; }\n",
       ".cython.code .c_call  { color: #0000FF; }\n",
       "\n",
       ".cython.score-0 {background-color: #FFFFff;}\n",
       ".cython.score-1 {background-color: #FFFFe7;}\n",
       ".cython.score-2 {background-color: #FFFFd4;}\n",
       ".cython.score-3 {background-color: #FFFFc4;}\n",
       ".cython.score-4 {background-color: #FFFFb6;}\n",
       ".cython.score-5 {background-color: #FFFFaa;}\n",
       ".cython.score-6 {background-color: #FFFF9f;}\n",
       ".cython.score-7 {background-color: #FFFF96;}\n",
       ".cython.score-8 {background-color: #FFFF8d;}\n",
       ".cython.score-9 {background-color: #FFFF86;}\n",
       ".cython.score-10 {background-color: #FFFF7f;}\n",
       ".cython.score-11 {background-color: #FFFF79;}\n",
       ".cython.score-12 {background-color: #FFFF73;}\n",
       ".cython.score-13 {background-color: #FFFF6e;}\n",
       ".cython.score-14 {background-color: #FFFF6a;}\n",
       ".cython.score-15 {background-color: #FFFF66;}\n",
       ".cython.score-16 {background-color: #FFFF62;}\n",
       ".cython.score-17 {background-color: #FFFF5e;}\n",
       ".cython.score-18 {background-color: #FFFF5b;}\n",
       ".cython.score-19 {background-color: #FFFF57;}\n",
       ".cython.score-20 {background-color: #FFFF55;}\n",
       ".cython.score-21 {background-color: #FFFF52;}\n",
       ".cython.score-22 {background-color: #FFFF4f;}\n",
       ".cython.score-23 {background-color: #FFFF4d;}\n",
       ".cython.score-24 {background-color: #FFFF4b;}\n",
       ".cython.score-25 {background-color: #FFFF48;}\n",
       ".cython.score-26 {background-color: #FFFF46;}\n",
       ".cython.score-27 {background-color: #FFFF44;}\n",
       ".cython.score-28 {background-color: #FFFF43;}\n",
       ".cython.score-29 {background-color: #FFFF41;}\n",
       ".cython.score-30 {background-color: #FFFF3f;}\n",
       ".cython.score-31 {background-color: #FFFF3e;}\n",
       ".cython.score-32 {background-color: #FFFF3c;}\n",
       ".cython.score-33 {background-color: #FFFF3b;}\n",
       ".cython.score-34 {background-color: #FFFF39;}\n",
       ".cython.score-35 {background-color: #FFFF38;}\n",
       ".cython.score-36 {background-color: #FFFF37;}\n",
       ".cython.score-37 {background-color: #FFFF36;}\n",
       ".cython.score-38 {background-color: #FFFF35;}\n",
       ".cython.score-39 {background-color: #FFFF34;}\n",
       ".cython.score-40 {background-color: #FFFF33;}\n",
       ".cython.score-41 {background-color: #FFFF32;}\n",
       ".cython.score-42 {background-color: #FFFF31;}\n",
       ".cython.score-43 {background-color: #FFFF30;}\n",
       ".cython.score-44 {background-color: #FFFF2f;}\n",
       ".cython.score-45 {background-color: #FFFF2e;}\n",
       ".cython.score-46 {background-color: #FFFF2d;}\n",
       ".cython.score-47 {background-color: #FFFF2c;}\n",
       ".cython.score-48 {background-color: #FFFF2b;}\n",
       ".cython.score-49 {background-color: #FFFF2b;}\n",
       ".cython.score-50 {background-color: #FFFF2a;}\n",
       ".cython.score-51 {background-color: #FFFF29;}\n",
       ".cython.score-52 {background-color: #FFFF29;}\n",
       ".cython.score-53 {background-color: #FFFF28;}\n",
       ".cython.score-54 {background-color: #FFFF27;}\n",
       ".cython.score-55 {background-color: #FFFF27;}\n",
       ".cython.score-56 {background-color: #FFFF26;}\n",
       ".cython.score-57 {background-color: #FFFF26;}\n",
       ".cython.score-58 {background-color: #FFFF25;}\n",
       ".cython.score-59 {background-color: #FFFF24;}\n",
       ".cython.score-60 {background-color: #FFFF24;}\n",
       ".cython.score-61 {background-color: #FFFF23;}\n",
       ".cython.score-62 {background-color: #FFFF23;}\n",
       ".cython.score-63 {background-color: #FFFF22;}\n",
       ".cython.score-64 {background-color: #FFFF22;}\n",
       ".cython.score-65 {background-color: #FFFF22;}\n",
       ".cython.score-66 {background-color: #FFFF21;}\n",
       ".cython.score-67 {background-color: #FFFF21;}\n",
       ".cython.score-68 {background-color: #FFFF20;}\n",
       ".cython.score-69 {background-color: #FFFF20;}\n",
       ".cython.score-70 {background-color: #FFFF1f;}\n",
       ".cython.score-71 {background-color: #FFFF1f;}\n",
       ".cython.score-72 {background-color: #FFFF1f;}\n",
       ".cython.score-73 {background-color: #FFFF1e;}\n",
       ".cython.score-74 {background-color: #FFFF1e;}\n",
       ".cython.score-75 {background-color: #FFFF1e;}\n",
       ".cython.score-76 {background-color: #FFFF1d;}\n",
       ".cython.score-77 {background-color: #FFFF1d;}\n",
       ".cython.score-78 {background-color: #FFFF1c;}\n",
       ".cython.score-79 {background-color: #FFFF1c;}\n",
       ".cython.score-80 {background-color: #FFFF1c;}\n",
       ".cython.score-81 {background-color: #FFFF1c;}\n",
       ".cython.score-82 {background-color: #FFFF1b;}\n",
       ".cython.score-83 {background-color: #FFFF1b;}\n",
       ".cython.score-84 {background-color: #FFFF1b;}\n",
       ".cython.score-85 {background-color: #FFFF1a;}\n",
       ".cython.score-86 {background-color: #FFFF1a;}\n",
       ".cython.score-87 {background-color: #FFFF1a;}\n",
       ".cython.score-88 {background-color: #FFFF1a;}\n",
       ".cython.score-89 {background-color: #FFFF19;}\n",
       ".cython.score-90 {background-color: #FFFF19;}\n",
       ".cython.score-91 {background-color: #FFFF19;}\n",
       ".cython.score-92 {background-color: #FFFF19;}\n",
       ".cython.score-93 {background-color: #FFFF18;}\n",
       ".cython.score-94 {background-color: #FFFF18;}\n",
       ".cython.score-95 {background-color: #FFFF18;}\n",
       ".cython.score-96 {background-color: #FFFF18;}\n",
       ".cython.score-97 {background-color: #FFFF17;}\n",
       ".cython.score-98 {background-color: #FFFF17;}\n",
       ".cython.score-99 {background-color: #FFFF17;}\n",
       ".cython.score-100 {background-color: #FFFF17;}\n",
       ".cython.score-101 {background-color: #FFFF16;}\n",
       ".cython.score-102 {background-color: #FFFF16;}\n",
       ".cython.score-103 {background-color: #FFFF16;}\n",
       ".cython.score-104 {background-color: #FFFF16;}\n",
       ".cython.score-105 {background-color: #FFFF16;}\n",
       ".cython.score-106 {background-color: #FFFF15;}\n",
       ".cython.score-107 {background-color: #FFFF15;}\n",
       ".cython.score-108 {background-color: #FFFF15;}\n",
       ".cython.score-109 {background-color: #FFFF15;}\n",
       ".cython.score-110 {background-color: #FFFF15;}\n",
       ".cython.score-111 {background-color: #FFFF15;}\n",
       ".cython.score-112 {background-color: #FFFF14;}\n",
       ".cython.score-113 {background-color: #FFFF14;}\n",
       ".cython.score-114 {background-color: #FFFF14;}\n",
       ".cython.score-115 {background-color: #FFFF14;}\n",
       ".cython.score-116 {background-color: #FFFF14;}\n",
       ".cython.score-117 {background-color: #FFFF14;}\n",
       ".cython.score-118 {background-color: #FFFF13;}\n",
       ".cython.score-119 {background-color: #FFFF13;}\n",
       ".cython.score-120 {background-color: #FFFF13;}\n",
       ".cython.score-121 {background-color: #FFFF13;}\n",
       ".cython.score-122 {background-color: #FFFF13;}\n",
       ".cython.score-123 {background-color: #FFFF13;}\n",
       ".cython.score-124 {background-color: #FFFF13;}\n",
       ".cython.score-125 {background-color: #FFFF12;}\n",
       ".cython.score-126 {background-color: #FFFF12;}\n",
       ".cython.score-127 {background-color: #FFFF12;}\n",
       ".cython.score-128 {background-color: #FFFF12;}\n",
       ".cython.score-129 {background-color: #FFFF12;}\n",
       ".cython.score-130 {background-color: #FFFF12;}\n",
       ".cython.score-131 {background-color: #FFFF12;}\n",
       ".cython.score-132 {background-color: #FFFF11;}\n",
       ".cython.score-133 {background-color: #FFFF11;}\n",
       ".cython.score-134 {background-color: #FFFF11;}\n",
       ".cython.score-135 {background-color: #FFFF11;}\n",
       ".cython.score-136 {background-color: #FFFF11;}\n",
       ".cython.score-137 {background-color: #FFFF11;}\n",
       ".cython.score-138 {background-color: #FFFF11;}\n",
       ".cython.score-139 {background-color: #FFFF11;}\n",
       ".cython.score-140 {background-color: #FFFF11;}\n",
       ".cython.score-141 {background-color: #FFFF10;}\n",
       ".cython.score-142 {background-color: #FFFF10;}\n",
       ".cython.score-143 {background-color: #FFFF10;}\n",
       ".cython.score-144 {background-color: #FFFF10;}\n",
       ".cython.score-145 {background-color: #FFFF10;}\n",
       ".cython.score-146 {background-color: #FFFF10;}\n",
       ".cython.score-147 {background-color: #FFFF10;}\n",
       ".cython.score-148 {background-color: #FFFF10;}\n",
       ".cython.score-149 {background-color: #FFFF10;}\n",
       ".cython.score-150 {background-color: #FFFF0f;}\n",
       ".cython.score-151 {background-color: #FFFF0f;}\n",
       ".cython.score-152 {background-color: #FFFF0f;}\n",
       ".cython.score-153 {background-color: #FFFF0f;}\n",
       ".cython.score-154 {background-color: #FFFF0f;}\n",
       ".cython.score-155 {background-color: #FFFF0f;}\n",
       ".cython.score-156 {background-color: #FFFF0f;}\n",
       ".cython.score-157 {background-color: #FFFF0f;}\n",
       ".cython.score-158 {background-color: #FFFF0f;}\n",
       ".cython.score-159 {background-color: #FFFF0f;}\n",
       ".cython.score-160 {background-color: #FFFF0f;}\n",
       ".cython.score-161 {background-color: #FFFF0e;}\n",
       ".cython.score-162 {background-color: #FFFF0e;}\n",
       ".cython.score-163 {background-color: #FFFF0e;}\n",
       ".cython.score-164 {background-color: #FFFF0e;}\n",
       ".cython.score-165 {background-color: #FFFF0e;}\n",
       ".cython.score-166 {background-color: #FFFF0e;}\n",
       ".cython.score-167 {background-color: #FFFF0e;}\n",
       ".cython.score-168 {background-color: #FFFF0e;}\n",
       ".cython.score-169 {background-color: #FFFF0e;}\n",
       ".cython.score-170 {background-color: #FFFF0e;}\n",
       ".cython.score-171 {background-color: #FFFF0e;}\n",
       ".cython.score-172 {background-color: #FFFF0e;}\n",
       ".cython.score-173 {background-color: #FFFF0d;}\n",
       ".cython.score-174 {background-color: #FFFF0d;}\n",
       ".cython.score-175 {background-color: #FFFF0d;}\n",
       ".cython.score-176 {background-color: #FFFF0d;}\n",
       ".cython.score-177 {background-color: #FFFF0d;}\n",
       ".cython.score-178 {background-color: #FFFF0d;}\n",
       ".cython.score-179 {background-color: #FFFF0d;}\n",
       ".cython.score-180 {background-color: #FFFF0d;}\n",
       ".cython.score-181 {background-color: #FFFF0d;}\n",
       ".cython.score-182 {background-color: #FFFF0d;}\n",
       ".cython.score-183 {background-color: #FFFF0d;}\n",
       ".cython.score-184 {background-color: #FFFF0d;}\n",
       ".cython.score-185 {background-color: #FFFF0d;}\n",
       ".cython.score-186 {background-color: #FFFF0d;}\n",
       ".cython.score-187 {background-color: #FFFF0c;}\n",
       ".cython.score-188 {background-color: #FFFF0c;}\n",
       ".cython.score-189 {background-color: #FFFF0c;}\n",
       ".cython.score-190 {background-color: #FFFF0c;}\n",
       ".cython.score-191 {background-color: #FFFF0c;}\n",
       ".cython.score-192 {background-color: #FFFF0c;}\n",
       ".cython.score-193 {background-color: #FFFF0c;}\n",
       ".cython.score-194 {background-color: #FFFF0c;}\n",
       ".cython.score-195 {background-color: #FFFF0c;}\n",
       ".cython.score-196 {background-color: #FFFF0c;}\n",
       ".cython.score-197 {background-color: #FFFF0c;}\n",
       ".cython.score-198 {background-color: #FFFF0c;}\n",
       ".cython.score-199 {background-color: #FFFF0c;}\n",
       ".cython.score-200 {background-color: #FFFF0c;}\n",
       ".cython.score-201 {background-color: #FFFF0c;}\n",
       ".cython.score-202 {background-color: #FFFF0c;}\n",
       ".cython.score-203 {background-color: #FFFF0b;}\n",
       ".cython.score-204 {background-color: #FFFF0b;}\n",
       ".cython.score-205 {background-color: #FFFF0b;}\n",
       ".cython.score-206 {background-color: #FFFF0b;}\n",
       ".cython.score-207 {background-color: #FFFF0b;}\n",
       ".cython.score-208 {background-color: #FFFF0b;}\n",
       ".cython.score-209 {background-color: #FFFF0b;}\n",
       ".cython.score-210 {background-color: #FFFF0b;}\n",
       ".cython.score-211 {background-color: #FFFF0b;}\n",
       ".cython.score-212 {background-color: #FFFF0b;}\n",
       ".cython.score-213 {background-color: #FFFF0b;}\n",
       ".cython.score-214 {background-color: #FFFF0b;}\n",
       ".cython.score-215 {background-color: #FFFF0b;}\n",
       ".cython.score-216 {background-color: #FFFF0b;}\n",
       ".cython.score-217 {background-color: #FFFF0b;}\n",
       ".cython.score-218 {background-color: #FFFF0b;}\n",
       ".cython.score-219 {background-color: #FFFF0b;}\n",
       ".cython.score-220 {background-color: #FFFF0b;}\n",
       ".cython.score-221 {background-color: #FFFF0b;}\n",
       ".cython.score-222 {background-color: #FFFF0a;}\n",
       ".cython.score-223 {background-color: #FFFF0a;}\n",
       ".cython.score-224 {background-color: #FFFF0a;}\n",
       ".cython.score-225 {background-color: #FFFF0a;}\n",
       ".cython.score-226 {background-color: #FFFF0a;}\n",
       ".cython.score-227 {background-color: #FFFF0a;}\n",
       ".cython.score-228 {background-color: #FFFF0a;}\n",
       ".cython.score-229 {background-color: #FFFF0a;}\n",
       ".cython.score-230 {background-color: #FFFF0a;}\n",
       ".cython.score-231 {background-color: #FFFF0a;}\n",
       ".cython.score-232 {background-color: #FFFF0a;}\n",
       ".cython.score-233 {background-color: #FFFF0a;}\n",
       ".cython.score-234 {background-color: #FFFF0a;}\n",
       ".cython.score-235 {background-color: #FFFF0a;}\n",
       ".cython.score-236 {background-color: #FFFF0a;}\n",
       ".cython.score-237 {background-color: #FFFF0a;}\n",
       ".cython.score-238 {background-color: #FFFF0a;}\n",
       ".cython.score-239 {background-color: #FFFF0a;}\n",
       ".cython.score-240 {background-color: #FFFF0a;}\n",
       ".cython.score-241 {background-color: #FFFF0a;}\n",
       ".cython.score-242 {background-color: #FFFF0a;}\n",
       ".cython.score-243 {background-color: #FFFF0a;}\n",
       ".cython.score-244 {background-color: #FFFF0a;}\n",
       ".cython.score-245 {background-color: #FFFF0a;}\n",
       ".cython.score-246 {background-color: #FFFF09;}\n",
       ".cython.score-247 {background-color: #FFFF09;}\n",
       ".cython.score-248 {background-color: #FFFF09;}\n",
       ".cython.score-249 {background-color: #FFFF09;}\n",
       ".cython.score-250 {background-color: #FFFF09;}\n",
       ".cython.score-251 {background-color: #FFFF09;}\n",
       ".cython.score-252 {background-color: #FFFF09;}\n",
       ".cython.score-253 {background-color: #FFFF09;}\n",
       ".cython.score-254 {background-color: #FFFF09;}\n",
       "pre { line-height: 125%; }\n",
       "td.linenos .normal { color: inherit; background-color: transparent; padding-left: 5px; padding-right: 5px; }\n",
       "span.linenos { color: inherit; background-color: transparent; padding-left: 5px; padding-right: 5px; }\n",
       "td.linenos .special { color: #000000; background-color: #ffffc0; padding-left: 5px; padding-right: 5px; }\n",
       "span.linenos.special { color: #000000; background-color: #ffffc0; padding-left: 5px; padding-right: 5px; }\n",
       ".cython .hll { background-color: #ffffcc }\n",
       ".cython { background: #f8f8f8; }\n",
       ".cython .c { color: #3D7B7B; font-style: italic } /* Comment */\n",
       ".cython .err { border: 1px solid #FF0000 } /* Error */\n",
       ".cython .k { color: #008000; font-weight: bold } /* Keyword */\n",
       ".cython .o { color: #666666 } /* Operator */\n",
       ".cython .ch { color: #3D7B7B; font-style: italic } /* Comment.Hashbang */\n",
       ".cython .cm { color: #3D7B7B; font-style: italic } /* Comment.Multiline */\n",
       ".cython .cp { color: #9C6500 } /* Comment.Preproc */\n",
       ".cython .cpf { color: #3D7B7B; font-style: italic } /* Comment.PreprocFile */\n",
       ".cython .c1 { color: #3D7B7B; font-style: italic } /* Comment.Single */\n",
       ".cython .cs { color: #3D7B7B; font-style: italic } /* Comment.Special */\n",
       ".cython .gd { color: #A00000 } /* Generic.Deleted */\n",
       ".cython .ge { font-style: italic } /* Generic.Emph */\n",
       ".cython .gr { color: #E40000 } /* Generic.Error */\n",
       ".cython .gh { color: #000080; font-weight: bold } /* Generic.Heading */\n",
       ".cython .gi { color: #008400 } /* Generic.Inserted */\n",
       ".cython .go { color: #717171 } /* Generic.Output */\n",
       ".cython .gp { color: #000080; font-weight: bold } /* Generic.Prompt */\n",
       ".cython .gs { font-weight: bold } /* Generic.Strong */\n",
       ".cython .gu { color: #800080; font-weight: bold } /* Generic.Subheading */\n",
       ".cython .gt { color: #0044DD } /* Generic.Traceback */\n",
       ".cython .kc { color: #008000; font-weight: bold } /* Keyword.Constant */\n",
       ".cython .kd { color: #008000; font-weight: bold } /* Keyword.Declaration */\n",
       ".cython .kn { color: #008000; font-weight: bold } /* Keyword.Namespace */\n",
       ".cython .kp { color: #008000 } /* Keyword.Pseudo */\n",
       ".cython .kr { color: #008000; font-weight: bold } /* Keyword.Reserved */\n",
       ".cython .kt { color: #B00040 } /* Keyword.Type */\n",
       ".cython .m { color: #666666 } /* Literal.Number */\n",
       ".cython .s { color: #BA2121 } /* Literal.String */\n",
       ".cython .na { color: #687822 } /* Name.Attribute */\n",
       ".cython .nb { color: #008000 } /* Name.Builtin */\n",
       ".cython .nc { color: #0000FF; font-weight: bold } /* Name.Class */\n",
       ".cython .no { color: #880000 } /* Name.Constant */\n",
       ".cython .nd { color: #AA22FF } /* Name.Decorator */\n",
       ".cython .ni { color: #717171; font-weight: bold } /* Name.Entity */\n",
       ".cython .ne { color: #CB3F38; font-weight: bold } /* Name.Exception */\n",
       ".cython .nf { color: #0000FF } /* Name.Function */\n",
       ".cython .nl { color: #767600 } /* Name.Label */\n",
       ".cython .nn { color: #0000FF; font-weight: bold } /* Name.Namespace */\n",
       ".cython .nt { color: #008000; font-weight: bold } /* Name.Tag */\n",
       ".cython .nv { color: #19177C } /* Name.Variable */\n",
       ".cython .ow { color: #AA22FF; font-weight: bold } /* Operator.Word */\n",
       ".cython .w { color: #bbbbbb } /* Text.Whitespace */\n",
       ".cython .mb { color: #666666 } /* Literal.Number.Bin */\n",
       ".cython .mf { color: #666666 } /* Literal.Number.Float */\n",
       ".cython .mh { color: #666666 } /* Literal.Number.Hex */\n",
       ".cython .mi { color: #666666 } /* Literal.Number.Integer */\n",
       ".cython .mo { color: #666666 } /* Literal.Number.Oct */\n",
       ".cython .sa { color: #BA2121 } /* Literal.String.Affix */\n",
       ".cython .sb { color: #BA2121 } /* Literal.String.Backtick */\n",
       ".cython .sc { color: #BA2121 } /* Literal.String.Char */\n",
       ".cython .dl { color: #BA2121 } /* Literal.String.Delimiter */\n",
       ".cython .sd { color: #BA2121; font-style: italic } /* Literal.String.Doc */\n",
       ".cython .s2 { color: #BA2121 } /* Literal.String.Double */\n",
       ".cython .se { color: #AA5D1F; font-weight: bold } /* Literal.String.Escape */\n",
       ".cython .sh { color: #BA2121 } /* Literal.String.Heredoc */\n",
       ".cython .si { color: #A45A77; font-weight: bold } /* Literal.String.Interpol */\n",
       ".cython .sx { color: #008000 } /* Literal.String.Other */\n",
       ".cython .sr { color: #A45A77 } /* Literal.String.Regex */\n",
       ".cython .s1 { color: #BA2121 } /* Literal.String.Single */\n",
       ".cython .ss { color: #19177C } /* Literal.String.Symbol */\n",
       ".cython .bp { color: #008000 } /* Name.Builtin.Pseudo */\n",
       ".cython .fm { color: #0000FF } /* Name.Function.Magic */\n",
       ".cython .vc { color: #19177C } /* Name.Variable.Class */\n",
       ".cython .vg { color: #19177C } /* Name.Variable.Global */\n",
       ".cython .vi { color: #19177C } /* Name.Variable.Instance */\n",
       ".cython .vm { color: #19177C } /* Name.Variable.Magic */\n",
       ".cython .il { color: #666666 } /* Literal.Number.Integer.Long */\n",
       "    </style>\n",
       "</head>\n",
       "<body class=\"cython\">\n",
       "<p><span style=\"border-bottom: solid 1px grey;\">Generated by Cython 0.29.33</span></p>\n",
       "<p>\n",
       "    <span style=\"background-color: #FFFF00\">Yellow lines</span> hint at Python interaction.<br />\n",
       "    Click on a line that starts with a \"<code>+</code>\" to see the C code that Cython generated for it.\n",
       "</p>\n",
       "<div class=\"cython\"><pre class=\"cython line score-0\">&#xA0;<span class=\"\">01</span>: </pre>\n",
       "<pre class=\"cython line score-16\" onclick=\"(function(s){s.display=s.display==='block'?'none':'block'})(this.nextElementSibling.style)\">+<span class=\"\">02</span>: <span class=\"k\">import</span> <span class=\"nn\">numpy</span> <span class=\"k\">as</span> <span class=\"nn\">np</span></pre>\n",
       "<pre class='cython code score-16 '>  __pyx_t_1 = <span class='pyx_c_api'>__Pyx_Import</span>(__pyx_n_s_numpy, 0, 0);<span class='error_goto'> if (unlikely(!__pyx_t_1)) __PYX_ERR(0, 2, __pyx_L1_error)</span>\n",
       "  <span class='refnanny'>__Pyx_GOTREF</span>(__pyx_t_1);\n",
       "  if (<span class='py_c_api'>PyDict_SetItem</span>(__pyx_d, __pyx_n_s_np, __pyx_t_1) &lt; 0) <span class='error_goto'>__PYX_ERR(0, 2, __pyx_L1_error)</span>\n",
       "  <span class='pyx_macro_api'>__Pyx_DECREF</span>(__pyx_t_1); __pyx_t_1 = 0;\n",
       "/* … */\n",
       "  __pyx_t_2 = <span class='pyx_c_api'>__Pyx_PyDict_NewPresized</span>(0);<span class='error_goto'> if (unlikely(!__pyx_t_2)) __PYX_ERR(0, 2, __pyx_L1_error)</span>\n",
       "  <span class='refnanny'>__Pyx_GOTREF</span>(__pyx_t_2);\n",
       "  if (<span class='py_c_api'>PyDict_SetItem</span>(__pyx_d, __pyx_n_s_test, __pyx_t_2) &lt; 0) <span class='error_goto'>__PYX_ERR(0, 2, __pyx_L1_error)</span>\n",
       "  <span class='pyx_macro_api'>__Pyx_DECREF</span>(__pyx_t_2); __pyx_t_2 = 0;\n",
       "</pre><pre class=\"cython line score-0\">&#xA0;<span class=\"\">03</span>: <span class=\"k\">cimport</span> <span class=\"nn\">cython</span></pre>\n",
       "<pre class=\"cython line score-0\">&#xA0;<span class=\"\">04</span>: </pre>\n",
       "<pre class=\"cython line score-16\" onclick=\"(function(s){s.display=s.display==='block'?'none':'block'})(this.nextElementSibling.style)\">+<span class=\"\">05</span>: <span class=\"k\">cdef</span> <span class=\"kt\">double</span> <span class=\"nf\">NaN</span> <span class=\"o\">=</span> <span class=\"n\">np</span><span class=\"o\">.</span><span class=\"n\">nan</span></pre>\n",
       "<pre class='cython code score-16 '>  <span class='pyx_c_api'>__Pyx_GetModuleGlobalName</span>(__pyx_t_1, __pyx_n_s_np);<span class='error_goto'> if (unlikely(!__pyx_t_1)) __PYX_ERR(0, 5, __pyx_L1_error)</span>\n",
       "  <span class='refnanny'>__Pyx_GOTREF</span>(__pyx_t_1);\n",
       "  __pyx_t_2 = <span class='pyx_c_api'>__Pyx_PyObject_GetAttrStr</span>(__pyx_t_1, __pyx_n_s_nan);<span class='error_goto'> if (unlikely(!__pyx_t_2)) __PYX_ERR(0, 5, __pyx_L1_error)</span>\n",
       "  <span class='refnanny'>__Pyx_GOTREF</span>(__pyx_t_2);\n",
       "  <span class='pyx_macro_api'>__Pyx_DECREF</span>(__pyx_t_1); __pyx_t_1 = 0;\n",
       "  __pyx_t_3 = __pyx_<span class='py_c_api'>PyFloat_AsDouble</span>(__pyx_t_2); if (unlikely((__pyx_t_3 == (double)-1) &amp;&amp; <span class='py_c_api'>PyErr_Occurred</span>())) <span class='error_goto'>__PYX_ERR(0, 5, __pyx_L1_error)</span>\n",
       "  <span class='pyx_macro_api'>__Pyx_DECREF</span>(__pyx_t_2); __pyx_t_2 = 0;\n",
       "  __pyx_v_46_cython_magic_2e5be3242725fb6920f7b79f5d31d180_NaN = __pyx_t_3;\n",
       "</pre><pre class=\"cython line score-0\">&#xA0;<span class=\"\">06</span>: </pre>\n",
       "<pre class=\"cython line score-0\">&#xA0;<span class=\"\">07</span>: <span class=\"nd\">@cython</span><span class=\"o\">.</span><span class=\"n\">boundscheck</span><span class=\"p\">(</span><span class=\"bp\">False</span><span class=\"p\">)</span>  <span class=\"c\"># Deactivate bounds checking</span></pre>\n",
       "<pre class=\"cython line score-0\">&#xA0;<span class=\"\">08</span>: <span class=\"nd\">@cython</span><span class=\"o\">.</span><span class=\"n\">wraparound</span><span class=\"p\">(</span><span class=\"bp\">False</span><span class=\"p\">)</span>   <span class=\"c\"># Deactivate negative indexing.</span></pre>\n",
       "<pre class=\"cython line score-106\" onclick=\"(function(s){s.display=s.display==='block'?'none':'block'})(this.nextElementSibling.style)\">+<span class=\"\">09</span>: <span class=\"k\">def</span> <span class=\"nf\">overlap_loop</span><span class=\"p\">(</span><span class=\"n\">double</span><span class=\"p\">[::</span><span class=\"mf\">1</span><span class=\"p\">]</span> <span class=\"n\">psf_lx</span><span class=\"p\">,</span> <span class=\"n\">double</span><span class=\"p\">[::</span><span class=\"mf\">1</span><span class=\"p\">]</span> <span class=\"n\">psf_ux</span><span class=\"p\">,</span> <span class=\"n\">double</span><span class=\"p\">[::</span><span class=\"mf\">1</span><span class=\"p\">]</span> <span class=\"n\">psf_ly</span><span class=\"p\">,</span> <span class=\"n\">double</span><span class=\"p\">[::</span><span class=\"mf\">1</span><span class=\"p\">]</span> <span class=\"n\">psf_uy</span><span class=\"p\">,</span></pre>\n",
       "<pre class='cython code score-106 '>/* Python wrapper */\n",
       "static PyObject *__pyx_pw_46_cython_magic_2e5be3242725fb6920f7b79f5d31d180_1overlap_loop(PyObject *__pyx_self, PyObject *__pyx_args, PyObject *__pyx_kwds); /*proto*/\n",
       "static char __pyx_doc_46_cython_magic_2e5be3242725fb6920f7b79f5d31d180_overlap_loop[] = \"\\n    Assumptions: psf arrays all same length, data arrays all same length. data pre-initialized as 0 or NaN\\n    Also that PSF grid is smaller than data grid (i.e., result is \\\"fraction of psf in data\\\" not other way around), \\n    data grid are size 1 - effectively the PSF is recast into \\\"data coordinates\\\".\\n    \";\n",
       "static PyMethodDef __pyx_mdef_46_cython_magic_2e5be3242725fb6920f7b79f5d31d180_1overlap_loop = {\"overlap_loop\", (PyCFunction)(void*)(PyCFunctionWithKeywords)__pyx_pw_46_cython_magic_2e5be3242725fb6920f7b79f5d31d180_1overlap_loop, METH_VARARGS|METH_KEYWORDS, __pyx_doc_46_cython_magic_2e5be3242725fb6920f7b79f5d31d180_overlap_loop};\n",
       "static PyObject *__pyx_pw_46_cython_magic_2e5be3242725fb6920f7b79f5d31d180_1overlap_loop(PyObject *__pyx_self, PyObject *__pyx_args, PyObject *__pyx_kwds) {\n",
       "  __Pyx_memviewslice __pyx_v_psf_lx = { 0, 0, { 0 }, { 0 }, { 0 } };\n",
       "  __Pyx_memviewslice __pyx_v_psf_ux = { 0, 0, { 0 }, { 0 }, { 0 } };\n",
       "  __Pyx_memviewslice __pyx_v_psf_ly = { 0, 0, { 0 }, { 0 }, { 0 } };\n",
       "  __Pyx_memviewslice __pyx_v_psf_uy = { 0, 0, { 0 }, { 0 }, { 0 } };\n",
       "  __Pyx_memviewslice __pyx_v_data_lx = { 0, 0, { 0 }, { 0 }, { 0 } };\n",
       "  __Pyx_memviewslice __pyx_v_data_ux = { 0, 0, { 0 }, { 0 }, { 0 } };\n",
       "  __Pyx_memviewslice __pyx_v_data_ly = { 0, 0, { 0 }, { 0 }, { 0 } };\n",
       "  __Pyx_memviewslice __pyx_v_data_uy = { 0, 0, { 0 }, { 0 }, { 0 } };\n",
       "  __Pyx_memviewslice __pyx_v_psf_flux = { 0, 0, { 0 }, { 0 }, { 0 } };\n",
       "  __Pyx_memviewslice __pyx_v_data = { 0, 0, { 0 }, { 0 }, { 0 } };\n",
       "  PyObject *__pyx_r = 0;\n",
       "  <span class='refnanny'>__Pyx_RefNannyDeclarations</span>\n",
       "  <span class='refnanny'>__Pyx_RefNannySetupContext</span>(\"overlap_loop (wrapper)\", 0);\n",
       "  {\n",
       "    static PyObject **__pyx_pyargnames[] = {&amp;__pyx_n_s_psf_lx,&amp;__pyx_n_s_psf_ux,&amp;__pyx_n_s_psf_ly,&amp;__pyx_n_s_psf_uy,&amp;__pyx_n_s_data_lx,&amp;__pyx_n_s_data_ux,&amp;__pyx_n_s_data_ly,&amp;__pyx_n_s_data_uy,&amp;__pyx_n_s_psf_flux,&amp;__pyx_n_s_data,0};\n",
       "    PyObject* values[10] = {0,0,0,0,0,0,0,0,0,0};\n",
       "    if (unlikely(__pyx_kwds)) {\n",
       "      Py_ssize_t kw_args;\n",
       "      const Py_ssize_t pos_args = <span class='py_macro_api'>PyTuple_GET_SIZE</span>(__pyx_args);\n",
       "      switch (pos_args) {\n",
       "        case 10: values[9] = <span class='py_macro_api'>PyTuple_GET_ITEM</span>(__pyx_args, 9);\n",
       "        CYTHON_FALLTHROUGH;\n",
       "        case  9: values[8] = <span class='py_macro_api'>PyTuple_GET_ITEM</span>(__pyx_args, 8);\n",
       "        CYTHON_FALLTHROUGH;\n",
       "        case  8: values[7] = <span class='py_macro_api'>PyTuple_GET_ITEM</span>(__pyx_args, 7);\n",
       "        CYTHON_FALLTHROUGH;\n",
       "        case  7: values[6] = <span class='py_macro_api'>PyTuple_GET_ITEM</span>(__pyx_args, 6);\n",
       "        CYTHON_FALLTHROUGH;\n",
       "        case  6: values[5] = <span class='py_macro_api'>PyTuple_GET_ITEM</span>(__pyx_args, 5);\n",
       "        CYTHON_FALLTHROUGH;\n",
       "        case  5: values[4] = <span class='py_macro_api'>PyTuple_GET_ITEM</span>(__pyx_args, 4);\n",
       "        CYTHON_FALLTHROUGH;\n",
       "        case  4: values[3] = <span class='py_macro_api'>PyTuple_GET_ITEM</span>(__pyx_args, 3);\n",
       "        CYTHON_FALLTHROUGH;\n",
       "        case  3: values[2] = <span class='py_macro_api'>PyTuple_GET_ITEM</span>(__pyx_args, 2);\n",
       "        CYTHON_FALLTHROUGH;\n",
       "        case  2: values[1] = <span class='py_macro_api'>PyTuple_GET_ITEM</span>(__pyx_args, 1);\n",
       "        CYTHON_FALLTHROUGH;\n",
       "        case  1: values[0] = <span class='py_macro_api'>PyTuple_GET_ITEM</span>(__pyx_args, 0);\n",
       "        CYTHON_FALLTHROUGH;\n",
       "        case  0: break;\n",
       "        default: goto __pyx_L5_argtuple_error;\n",
       "      }\n",
       "      kw_args = <span class='py_c_api'>PyDict_Size</span>(__pyx_kwds);\n",
       "      switch (pos_args) {\n",
       "        case  0:\n",
       "        if (likely((values[0] = <span class='pyx_c_api'>__Pyx_PyDict_GetItemStr</span>(__pyx_kwds, __pyx_n_s_psf_lx)) != 0)) kw_args--;\n",
       "        else goto __pyx_L5_argtuple_error;\n",
       "        CYTHON_FALLTHROUGH;\n",
       "        case  1:\n",
       "        if (likely((values[1] = <span class='pyx_c_api'>__Pyx_PyDict_GetItemStr</span>(__pyx_kwds, __pyx_n_s_psf_ux)) != 0)) kw_args--;\n",
       "        else {\n",
       "          <span class='pyx_c_api'>__Pyx_RaiseArgtupleInvalid</span>(\"overlap_loop\", 1, 10, 10, 1); <span class='error_goto'>__PYX_ERR(0, 9, __pyx_L3_error)</span>\n",
       "        }\n",
       "        CYTHON_FALLTHROUGH;\n",
       "        case  2:\n",
       "        if (likely((values[2] = <span class='pyx_c_api'>__Pyx_PyDict_GetItemStr</span>(__pyx_kwds, __pyx_n_s_psf_ly)) != 0)) kw_args--;\n",
       "        else {\n",
       "          <span class='pyx_c_api'>__Pyx_RaiseArgtupleInvalid</span>(\"overlap_loop\", 1, 10, 10, 2); <span class='error_goto'>__PYX_ERR(0, 9, __pyx_L3_error)</span>\n",
       "        }\n",
       "        CYTHON_FALLTHROUGH;\n",
       "        case  3:\n",
       "        if (likely((values[3] = <span class='pyx_c_api'>__Pyx_PyDict_GetItemStr</span>(__pyx_kwds, __pyx_n_s_psf_uy)) != 0)) kw_args--;\n",
       "        else {\n",
       "          <span class='pyx_c_api'>__Pyx_RaiseArgtupleInvalid</span>(\"overlap_loop\", 1, 10, 10, 3); <span class='error_goto'>__PYX_ERR(0, 9, __pyx_L3_error)</span>\n",
       "        }\n",
       "        CYTHON_FALLTHROUGH;\n",
       "        case  4:\n",
       "        if (likely((values[4] = <span class='pyx_c_api'>__Pyx_PyDict_GetItemStr</span>(__pyx_kwds, __pyx_n_s_data_lx)) != 0)) kw_args--;\n",
       "        else {\n",
       "          <span class='pyx_c_api'>__Pyx_RaiseArgtupleInvalid</span>(\"overlap_loop\", 1, 10, 10, 4); <span class='error_goto'>__PYX_ERR(0, 9, __pyx_L3_error)</span>\n",
       "        }\n",
       "        CYTHON_FALLTHROUGH;\n",
       "        case  5:\n",
       "        if (likely((values[5] = <span class='pyx_c_api'>__Pyx_PyDict_GetItemStr</span>(__pyx_kwds, __pyx_n_s_data_ux)) != 0)) kw_args--;\n",
       "        else {\n",
       "          <span class='pyx_c_api'>__Pyx_RaiseArgtupleInvalid</span>(\"overlap_loop\", 1, 10, 10, 5); <span class='error_goto'>__PYX_ERR(0, 9, __pyx_L3_error)</span>\n",
       "        }\n",
       "        CYTHON_FALLTHROUGH;\n",
       "        case  6:\n",
       "        if (likely((values[6] = <span class='pyx_c_api'>__Pyx_PyDict_GetItemStr</span>(__pyx_kwds, __pyx_n_s_data_ly)) != 0)) kw_args--;\n",
       "        else {\n",
       "          <span class='pyx_c_api'>__Pyx_RaiseArgtupleInvalid</span>(\"overlap_loop\", 1, 10, 10, 6); <span class='error_goto'>__PYX_ERR(0, 9, __pyx_L3_error)</span>\n",
       "        }\n",
       "        CYTHON_FALLTHROUGH;\n",
       "        case  7:\n",
       "        if (likely((values[7] = <span class='pyx_c_api'>__Pyx_PyDict_GetItemStr</span>(__pyx_kwds, __pyx_n_s_data_uy)) != 0)) kw_args--;\n",
       "        else {\n",
       "          <span class='pyx_c_api'>__Pyx_RaiseArgtupleInvalid</span>(\"overlap_loop\", 1, 10, 10, 7); <span class='error_goto'>__PYX_ERR(0, 9, __pyx_L3_error)</span>\n",
       "        }\n",
       "        CYTHON_FALLTHROUGH;\n",
       "        case  8:\n",
       "        if (likely((values[8] = <span class='pyx_c_api'>__Pyx_PyDict_GetItemStr</span>(__pyx_kwds, __pyx_n_s_psf_flux)) != 0)) kw_args--;\n",
       "        else {\n",
       "          <span class='pyx_c_api'>__Pyx_RaiseArgtupleInvalid</span>(\"overlap_loop\", 1, 10, 10, 8); <span class='error_goto'>__PYX_ERR(0, 9, __pyx_L3_error)</span>\n",
       "        }\n",
       "        CYTHON_FALLTHROUGH;\n",
       "        case  9:\n",
       "        if (likely((values[9] = <span class='pyx_c_api'>__Pyx_PyDict_GetItemStr</span>(__pyx_kwds, __pyx_n_s_data)) != 0)) kw_args--;\n",
       "        else {\n",
       "          <span class='pyx_c_api'>__Pyx_RaiseArgtupleInvalid</span>(\"overlap_loop\", 1, 10, 10, 9); <span class='error_goto'>__PYX_ERR(0, 9, __pyx_L3_error)</span>\n",
       "        }\n",
       "      }\n",
       "      if (unlikely(kw_args &gt; 0)) {\n",
       "        if (unlikely(<span class='pyx_c_api'>__Pyx_ParseOptionalKeywords</span>(__pyx_kwds, __pyx_pyargnames, 0, values, pos_args, \"overlap_loop\") &lt; 0)) <span class='error_goto'>__PYX_ERR(0, 9, __pyx_L3_error)</span>\n",
       "      }\n",
       "    } else if (<span class='py_macro_api'>PyTuple_GET_SIZE</span>(__pyx_args) != 10) {\n",
       "      goto __pyx_L5_argtuple_error;\n",
       "    } else {\n",
       "      values[0] = <span class='py_macro_api'>PyTuple_GET_ITEM</span>(__pyx_args, 0);\n",
       "      values[1] = <span class='py_macro_api'>PyTuple_GET_ITEM</span>(__pyx_args, 1);\n",
       "      values[2] = <span class='py_macro_api'>PyTuple_GET_ITEM</span>(__pyx_args, 2);\n",
       "      values[3] = <span class='py_macro_api'>PyTuple_GET_ITEM</span>(__pyx_args, 3);\n",
       "      values[4] = <span class='py_macro_api'>PyTuple_GET_ITEM</span>(__pyx_args, 4);\n",
       "      values[5] = <span class='py_macro_api'>PyTuple_GET_ITEM</span>(__pyx_args, 5);\n",
       "      values[6] = <span class='py_macro_api'>PyTuple_GET_ITEM</span>(__pyx_args, 6);\n",
       "      values[7] = <span class='py_macro_api'>PyTuple_GET_ITEM</span>(__pyx_args, 7);\n",
       "      values[8] = <span class='py_macro_api'>PyTuple_GET_ITEM</span>(__pyx_args, 8);\n",
       "      values[9] = <span class='py_macro_api'>PyTuple_GET_ITEM</span>(__pyx_args, 9);\n",
       "    }\n",
       "    __pyx_v_psf_lx = <span class='pyx_c_api'>__Pyx_PyObject_to_MemoryviewSlice_dc_double</span>(values[0], PyBUF_WRITABLE);<span class='error_goto'> if (unlikely(!__pyx_v_psf_lx.memview)) __PYX_ERR(0, 9, __pyx_L3_error)</span>\n",
       "    __pyx_v_psf_ux = <span class='pyx_c_api'>__Pyx_PyObject_to_MemoryviewSlice_dc_double</span>(values[1], PyBUF_WRITABLE);<span class='error_goto'> if (unlikely(!__pyx_v_psf_ux.memview)) __PYX_ERR(0, 9, __pyx_L3_error)</span>\n",
       "    __pyx_v_psf_ly = <span class='pyx_c_api'>__Pyx_PyObject_to_MemoryviewSlice_dc_double</span>(values[2], PyBUF_WRITABLE);<span class='error_goto'> if (unlikely(!__pyx_v_psf_ly.memview)) __PYX_ERR(0, 9, __pyx_L3_error)</span>\n",
       "    __pyx_v_psf_uy = <span class='pyx_c_api'>__Pyx_PyObject_to_MemoryviewSlice_dc_double</span>(values[3], PyBUF_WRITABLE);<span class='error_goto'> if (unlikely(!__pyx_v_psf_uy.memview)) __PYX_ERR(0, 9, __pyx_L3_error)</span>\n",
       "    __pyx_v_data_lx = <span class='pyx_c_api'>__Pyx_PyObject_to_MemoryviewSlice_dc_double</span>(values[4], PyBUF_WRITABLE);<span class='error_goto'> if (unlikely(!__pyx_v_data_lx.memview)) __PYX_ERR(0, 10, __pyx_L3_error)</span>\n",
       "    __pyx_v_data_ux = <span class='pyx_c_api'>__Pyx_PyObject_to_MemoryviewSlice_dc_double</span>(values[5], PyBUF_WRITABLE);<span class='error_goto'> if (unlikely(!__pyx_v_data_ux.memview)) __PYX_ERR(0, 10, __pyx_L3_error)</span>\n",
       "    __pyx_v_data_ly = <span class='pyx_c_api'>__Pyx_PyObject_to_MemoryviewSlice_dc_double</span>(values[6], PyBUF_WRITABLE);<span class='error_goto'> if (unlikely(!__pyx_v_data_ly.memview)) __PYX_ERR(0, 10, __pyx_L3_error)</span>\n",
       "    __pyx_v_data_uy = <span class='pyx_c_api'>__Pyx_PyObject_to_MemoryviewSlice_dc_double</span>(values[7], PyBUF_WRITABLE);<span class='error_goto'> if (unlikely(!__pyx_v_data_uy.memview)) __PYX_ERR(0, 10, __pyx_L3_error)</span>\n",
       "    __pyx_v_psf_flux = <span class='pyx_c_api'>__Pyx_PyObject_to_MemoryviewSlice_dc_double</span>(values[8], PyBUF_WRITABLE);<span class='error_goto'> if (unlikely(!__pyx_v_psf_flux.memview)) __PYX_ERR(0, 11, __pyx_L3_error)</span>\n",
       "    __pyx_v_data = <span class='pyx_c_api'>__Pyx_PyObject_to_MemoryviewSlice_dc_double</span>(values[9], PyBUF_WRITABLE);<span class='error_goto'> if (unlikely(!__pyx_v_data.memview)) __PYX_ERR(0, 11, __pyx_L3_error)</span>\n",
       "  }\n",
       "  goto __pyx_L4_argument_unpacking_done;\n",
       "  __pyx_L5_argtuple_error:;\n",
       "  <span class='pyx_c_api'>__Pyx_RaiseArgtupleInvalid</span>(\"overlap_loop\", 1, 10, 10, <span class='py_macro_api'>PyTuple_GET_SIZE</span>(__pyx_args)); <span class='error_goto'>__PYX_ERR(0, 9, __pyx_L3_error)</span>\n",
       "  __pyx_L3_error:;\n",
       "  <span class='pyx_c_api'>__Pyx_AddTraceback</span>(\"_cython_magic_2e5be3242725fb6920f7b79f5d31d180.overlap_loop\", __pyx_clineno, __pyx_lineno, __pyx_filename);\n",
       "  <span class='refnanny'>__Pyx_RefNannyFinishContext</span>();\n",
       "  return NULL;\n",
       "  __pyx_L4_argument_unpacking_done:;\n",
       "  __pyx_r = __pyx_pf_46_cython_magic_2e5be3242725fb6920f7b79f5d31d180_overlap_loop(__pyx_self, __pyx_v_psf_lx, __pyx_v_psf_ux, __pyx_v_psf_ly, __pyx_v_psf_uy, __pyx_v_data_lx, __pyx_v_data_ux, __pyx_v_data_ly, __pyx_v_data_uy, __pyx_v_psf_flux, __pyx_v_data);\n",
       "  int __pyx_lineno = 0;\n",
       "  const char *__pyx_filename = NULL;\n",
       "  int __pyx_clineno = 0;\n",
       "\n",
       "  /* function exit code */\n",
       "  <span class='refnanny'>__Pyx_RefNannyFinishContext</span>();\n",
       "  return __pyx_r;\n",
       "}\n",
       "\n",
       "static PyObject *__pyx_pf_46_cython_magic_2e5be3242725fb6920f7b79f5d31d180_overlap_loop(CYTHON_UNUSED PyObject *__pyx_self, __Pyx_memviewslice __pyx_v_psf_lx, __Pyx_memviewslice __pyx_v_psf_ux, __Pyx_memviewslice __pyx_v_psf_ly, __Pyx_memviewslice __pyx_v_psf_uy, __Pyx_memviewslice __pyx_v_data_lx, __Pyx_memviewslice __pyx_v_data_ux, __Pyx_memviewslice __pyx_v_data_ly, __Pyx_memviewslice __pyx_v_data_uy, __Pyx_memviewslice __pyx_v_psf_flux, __Pyx_memviewslice __pyx_v_data) {\n",
       "  int __pyx_v_n_psf;\n",
       "  int __pyx_v_n_data;\n",
       "  int __pyx_v_i;\n",
       "  int __pyx_v_j;\n",
       "  double __pyx_v_overlap_width;\n",
       "  double __pyx_v_overlap_height;\n",
       "  PyObject *__pyx_r = NULL;\n",
       "  <span class='refnanny'>__Pyx_RefNannyDeclarations</span>\n",
       "  <span class='refnanny'>__Pyx_RefNannySetupContext</span>(\"overlap_loop\", 0);\n",
       "/* … */\n",
       "  /* function exit code */\n",
       "  __pyx_r = Py_None; <span class='pyx_macro_api'>__Pyx_INCREF</span>(Py_None);\n",
       "  __PYX_XDEC_MEMVIEW(&amp;__pyx_v_psf_lx, 1);\n",
       "  __PYX_XDEC_MEMVIEW(&amp;__pyx_v_psf_ux, 1);\n",
       "  __PYX_XDEC_MEMVIEW(&amp;__pyx_v_psf_ly, 1);\n",
       "  __PYX_XDEC_MEMVIEW(&amp;__pyx_v_psf_uy, 1);\n",
       "  __PYX_XDEC_MEMVIEW(&amp;__pyx_v_data_lx, 1);\n",
       "  __PYX_XDEC_MEMVIEW(&amp;__pyx_v_data_ux, 1);\n",
       "  __PYX_XDEC_MEMVIEW(&amp;__pyx_v_data_ly, 1);\n",
       "  __PYX_XDEC_MEMVIEW(&amp;__pyx_v_data_uy, 1);\n",
       "  __PYX_XDEC_MEMVIEW(&amp;__pyx_v_psf_flux, 1);\n",
       "  __PYX_XDEC_MEMVIEW(&amp;__pyx_v_data, 1);\n",
       "  <span class='refnanny'>__Pyx_XGIVEREF</span>(__pyx_r);\n",
       "  <span class='refnanny'>__Pyx_RefNannyFinishContext</span>();\n",
       "  return __pyx_r;\n",
       "}\n",
       "/* … */\n",
       "  __pyx_tuple__20 = <span class='py_c_api'>PyTuple_Pack</span>(16, __pyx_n_s_psf_lx, __pyx_n_s_psf_ux, __pyx_n_s_psf_ly, __pyx_n_s_psf_uy, __pyx_n_s_data_lx, __pyx_n_s_data_ux, __pyx_n_s_data_ly, __pyx_n_s_data_uy, __pyx_n_s_psf_flux, __pyx_n_s_data, __pyx_n_s_n_psf, __pyx_n_s_n_data, __pyx_n_s_i, __pyx_n_s_j, __pyx_n_s_overlap_width, __pyx_n_s_overlap_height);<span class='error_goto'> if (unlikely(!__pyx_tuple__20)) __PYX_ERR(0, 9, __pyx_L1_error)</span>\n",
       "  <span class='refnanny'>__Pyx_GOTREF</span>(__pyx_tuple__20);\n",
       "  <span class='refnanny'>__Pyx_GIVEREF</span>(__pyx_tuple__20);\n",
       "/* … */\n",
       "  __pyx_t_2 = PyCFunction_NewEx(&amp;__pyx_mdef_46_cython_magic_2e5be3242725fb6920f7b79f5d31d180_1overlap_loop, NULL, __pyx_n_s_cython_magic_2e5be3242725fb6920);<span class='error_goto'> if (unlikely(!__pyx_t_2)) __PYX_ERR(0, 9, __pyx_L1_error)</span>\n",
       "  <span class='refnanny'>__Pyx_GOTREF</span>(__pyx_t_2);\n",
       "  if (<span class='py_c_api'>PyDict_SetItem</span>(__pyx_d, __pyx_n_s_overlap_loop, __pyx_t_2) &lt; 0) <span class='error_goto'>__PYX_ERR(0, 9, __pyx_L1_error)</span>\n",
       "  <span class='pyx_macro_api'>__Pyx_DECREF</span>(__pyx_t_2); __pyx_t_2 = 0;\n",
       "  __pyx_codeobj__21 = (PyObject*)<span class='pyx_c_api'>__Pyx_PyCode_New</span>(10, 0, 16, 0, CO_OPTIMIZED|CO_NEWLOCALS, __pyx_empty_bytes, __pyx_empty_tuple, __pyx_empty_tuple, __pyx_tuple__20, __pyx_empty_tuple, __pyx_empty_tuple, __pyx_kp_s_home_m31_jwst_2609er_cache_ipyt, __pyx_n_s_overlap_loop, 9, __pyx_empty_bytes);<span class='error_goto'> if (unlikely(!__pyx_codeobj__21)) __PYX_ERR(0, 9, __pyx_L1_error)</span>\n",
       "</pre><pre class=\"cython line score-0\">&#xA0;<span class=\"\">10</span>:                  <span class=\"n\">double</span><span class=\"p\">[::</span><span class=\"mf\">1</span><span class=\"p\">]</span> <span class=\"n\">data_lx</span><span class=\"p\">,</span> <span class=\"n\">double</span><span class=\"p\">[::</span><span class=\"mf\">1</span><span class=\"p\">]</span> <span class=\"n\">data_ux</span><span class=\"p\">,</span> <span class=\"n\">double</span><span class=\"p\">[::</span><span class=\"mf\">1</span><span class=\"p\">]</span> <span class=\"n\">data_ly</span><span class=\"p\">,</span> <span class=\"n\">double</span><span class=\"p\">[::</span><span class=\"mf\">1</span><span class=\"p\">]</span> <span class=\"n\">data_uy</span><span class=\"p\">,</span></pre>\n",
       "<pre class=\"cython line score-0\">&#xA0;<span class=\"\">11</span>:                  <span class=\"n\">double</span><span class=\"p\">[::</span><span class=\"mf\">1</span><span class=\"p\">]</span> <span class=\"n\">psf_flux</span><span class=\"p\">,</span> <span class=\"n\">double</span><span class=\"p\">[::</span><span class=\"mf\">1</span><span class=\"p\">]</span> <span class=\"n\">data</span><span class=\"p\">):</span></pre>\n",
       "<pre class=\"cython line score-0\">&#xA0;<span class=\"\">12</span>: <span class=\"w\">    </span><span class=\"sd\">&quot;&quot;&quot;</span></pre>\n",
       "<pre class=\"cython line score-0\">&#xA0;<span class=\"\">13</span>: <span class=\"sd\">    Assumptions: psf arrays all same length, data arrays all same length. data pre-initialized as 0 or NaN</span></pre>\n",
       "<pre class=\"cython line score-0\">&#xA0;<span class=\"\">14</span>: <span class=\"sd\">    Also that PSF grid is smaller than data grid (i.e., result is &quot;fraction of psf in data&quot; not other way around), </span></pre>\n",
       "<pre class=\"cython line score-0\">&#xA0;<span class=\"\">15</span>: <span class=\"sd\">    data grid are size 1 - effectively the PSF is recast into &quot;data coordinates&quot;.</span></pre>\n",
       "<pre class=\"cython line score-0\">&#xA0;<span class=\"\">16</span>: <span class=\"sd\">    &quot;&quot;&quot;</span></pre>\n",
       "<pre class=\"cython line score-0\">&#xA0;<span class=\"\">17</span>: </pre>\n",
       "<pre class=\"cython line score-2\" onclick=\"(function(s){s.display=s.display==='block'?'none':'block'})(this.nextElementSibling.style)\">+<span class=\"\">18</span>:     <span class=\"k\">cdef</span> <span class=\"kt\">int</span> <span class=\"nf\">n_psf</span> <span class=\"o\">=</span> <span class=\"nb\">len</span><span class=\"p\">(</span><span class=\"n\">psf_flux</span><span class=\"p\">)</span></pre>\n",
       "<pre class='cython code score-2 '>  __pyx_t_1 = <span class='pyx_c_api'>__Pyx_MemoryView_Len</span>(__pyx_v_psf_flux); \n",
       "  __pyx_v_n_psf = __pyx_t_1;\n",
       "</pre><pre class=\"cython line score-2\" onclick=\"(function(s){s.display=s.display==='block'?'none':'block'})(this.nextElementSibling.style)\">+<span class=\"\">19</span>:     <span class=\"k\">cdef</span> <span class=\"kt\">int</span> <span class=\"nf\">n_data</span> <span class=\"o\">=</span> <span class=\"nb\">len</span><span class=\"p\">(</span><span class=\"n\">data</span><span class=\"p\">)</span></pre>\n",
       "<pre class='cython code score-2 '>  __pyx_t_1 = <span class='pyx_c_api'>__Pyx_MemoryView_Len</span>(__pyx_v_data); \n",
       "  __pyx_v_n_data = __pyx_t_1;\n",
       "</pre><pre class=\"cython line score-0\">&#xA0;<span class=\"\">20</span>:     <span class=\"k\">cdef</span> <span class=\"kt\">int</span> <span class=\"nf\">i</span><span class=\"p\">,</span> <span class=\"nf\">j</span></pre>\n",
       "<pre class=\"cython line score-0\">&#xA0;<span class=\"\">21</span>:     <span class=\"k\">cdef</span> <span class=\"kt\">double</span> <span class=\"nf\">overlap_width</span><span class=\"p\">,</span> <span class=\"nf\">overlap_height</span></pre>\n",
       "<pre class=\"cython line score-0\">&#xA0;<span class=\"\">22</span>: </pre>\n",
       "<pre class=\"cython line score-0\" onclick=\"(function(s){s.display=s.display==='block'?'none':'block'})(this.nextElementSibling.style)\">+<span class=\"\">23</span>:     <span class=\"k\">for</span> <span class=\"n\">i</span> <span class=\"ow\">in</span> <span class=\"nb\">range</span><span class=\"p\">(</span><span class=\"n\">n_psf</span><span class=\"p\">):</span></pre>\n",
       "<pre class='cython code score-0 '>  __pyx_t_2 = __pyx_v_n_psf;\n",
       "  __pyx_t_3 = __pyx_t_2;\n",
       "  for (__pyx_t_4 = 0; __pyx_t_4 &lt; __pyx_t_3; __pyx_t_4+=1) {\n",
       "    __pyx_v_i = __pyx_t_4;\n",
       "</pre><pre class=\"cython line score-0\" onclick=\"(function(s){s.display=s.display==='block'?'none':'block'})(this.nextElementSibling.style)\">+<span class=\"\">24</span>:         <span class=\"k\">for</span> <span class=\"n\">j</span> <span class=\"ow\">in</span> <span class=\"nb\">range</span><span class=\"p\">(</span><span class=\"n\">n_data</span><span class=\"p\">):</span></pre>\n",
       "<pre class='cython code score-0 '>    __pyx_t_5 = __pyx_v_n_data;\n",
       "    __pyx_t_6 = __pyx_t_5;\n",
       "    for (__pyx_t_7 = 0; __pyx_t_7 &lt; __pyx_t_6; __pyx_t_7+=1) {\n",
       "      __pyx_v_j = __pyx_t_7;\n",
       "</pre><pre class=\"cython line score-0\" onclick=\"(function(s){s.display=s.display==='block'?'none':'block'})(this.nextElementSibling.style)\">+<span class=\"\">25</span>:             <span class=\"k\">if</span> <span class=\"n\">data</span><span class=\"p\">[</span><span class=\"n\">j</span><span class=\"p\">]</span> <span class=\"o\">==</span> <span class=\"n\">NaN</span><span class=\"p\">:</span></pre>\n",
       "<pre class='cython code score-0 '>      __pyx_t_8 = __pyx_v_j;\n",
       "      __pyx_t_9 = (((*((double *) ( /* dim=0 */ ((char *) (((double *) __pyx_v_data.data) + __pyx_t_8)) ))) == __pyx_v_46_cython_magic_2e5be3242725fb6920f7b79f5d31d180_NaN) != 0);\n",
       "      if (__pyx_t_9) {\n",
       "/* … */\n",
       "      }\n",
       "</pre><pre class=\"cython line score-0\" onclick=\"(function(s){s.display=s.display==='block'?'none':'block'})(this.nextElementSibling.style)\">+<span class=\"\">26</span>:                 <span class=\"k\">continue</span></pre>\n",
       "<pre class='cython code score-0 '>        goto __pyx_L5_continue;\n",
       "</pre><pre class=\"cython line score-0\" onclick=\"(function(s){s.display=s.display==='block'?'none':'block'})(this.nextElementSibling.style)\">+<span class=\"\">27</span>:             <span class=\"n\">overlap_width</span> <span class=\"o\">=</span> <span class=\"nb\">min</span><span class=\"p\">(</span><span class=\"n\">psf_ux</span><span class=\"p\">[</span><span class=\"n\">i</span><span class=\"p\">],</span> <span class=\"n\">data_ux</span><span class=\"p\">[</span><span class=\"n\">j</span><span class=\"p\">])</span> <span class=\"o\">-</span> <span class=\"nb\">max</span><span class=\"p\">(</span><span class=\"n\">psf_lx</span><span class=\"p\">[</span><span class=\"n\">i</span><span class=\"p\">],</span> <span class=\"n\">data_lx</span><span class=\"p\">[</span><span class=\"n\">j</span><span class=\"p\">])</span></pre>\n",
       "<pre class='cython code score-0 '>      __pyx_t_8 = __pyx_v_j;\n",
       "      __pyx_t_10 = (*((double *) ( /* dim=0 */ ((char *) (((double *) __pyx_v_data_ux.data) + __pyx_t_8)) )));\n",
       "      __pyx_t_8 = __pyx_v_i;\n",
       "      __pyx_t_11 = (*((double *) ( /* dim=0 */ ((char *) (((double *) __pyx_v_psf_ux.data) + __pyx_t_8)) )));\n",
       "      if (((__pyx_t_10 &lt; __pyx_t_11) != 0)) {\n",
       "        __pyx_t_12 = __pyx_t_10;\n",
       "      } else {\n",
       "        __pyx_t_12 = __pyx_t_11;\n",
       "      }\n",
       "      __pyx_t_8 = __pyx_v_j;\n",
       "      __pyx_t_10 = (*((double *) ( /* dim=0 */ ((char *) (((double *) __pyx_v_data_lx.data) + __pyx_t_8)) )));\n",
       "      __pyx_t_8 = __pyx_v_i;\n",
       "      __pyx_t_11 = (*((double *) ( /* dim=0 */ ((char *) (((double *) __pyx_v_psf_lx.data) + __pyx_t_8)) )));\n",
       "      if (((__pyx_t_10 &gt; __pyx_t_11) != 0)) {\n",
       "        __pyx_t_13 = __pyx_t_10;\n",
       "      } else {\n",
       "        __pyx_t_13 = __pyx_t_11;\n",
       "      }\n",
       "      __pyx_v_overlap_width = (__pyx_t_12 - __pyx_t_13);\n",
       "</pre><pre class=\"cython line score-0\" onclick=\"(function(s){s.display=s.display==='block'?'none':'block'})(this.nextElementSibling.style)\">+<span class=\"\">28</span>:             <span class=\"n\">overlap_height</span> <span class=\"o\">=</span> <span class=\"nb\">min</span><span class=\"p\">(</span><span class=\"n\">psf_uy</span><span class=\"p\">[</span><span class=\"n\">i</span><span class=\"p\">],</span> <span class=\"n\">data_uy</span><span class=\"p\">[</span><span class=\"n\">j</span><span class=\"p\">])</span> <span class=\"o\">-</span> <span class=\"nb\">max</span><span class=\"p\">(</span><span class=\"n\">psf_ly</span><span class=\"p\">[</span><span class=\"n\">i</span><span class=\"p\">],</span> <span class=\"n\">data_ly</span><span class=\"p\">[</span><span class=\"n\">j</span><span class=\"p\">])</span></pre>\n",
       "<pre class='cython code score-0 '>      __pyx_t_8 = __pyx_v_j;\n",
       "      __pyx_t_13 = (*((double *) ( /* dim=0 */ ((char *) (((double *) __pyx_v_data_uy.data) + __pyx_t_8)) )));\n",
       "      __pyx_t_8 = __pyx_v_i;\n",
       "      __pyx_t_12 = (*((double *) ( /* dim=0 */ ((char *) (((double *) __pyx_v_psf_uy.data) + __pyx_t_8)) )));\n",
       "      if (((__pyx_t_13 &lt; __pyx_t_12) != 0)) {\n",
       "        __pyx_t_10 = __pyx_t_13;\n",
       "      } else {\n",
       "        __pyx_t_10 = __pyx_t_12;\n",
       "      }\n",
       "      __pyx_t_8 = __pyx_v_j;\n",
       "      __pyx_t_13 = (*((double *) ( /* dim=0 */ ((char *) (((double *) __pyx_v_data_ly.data) + __pyx_t_8)) )));\n",
       "      __pyx_t_8 = __pyx_v_i;\n",
       "      __pyx_t_12 = (*((double *) ( /* dim=0 */ ((char *) (((double *) __pyx_v_psf_ly.data) + __pyx_t_8)) )));\n",
       "      if (((__pyx_t_13 &gt; __pyx_t_12) != 0)) {\n",
       "        __pyx_t_11 = __pyx_t_13;\n",
       "      } else {\n",
       "        __pyx_t_11 = __pyx_t_12;\n",
       "      }\n",
       "      __pyx_v_overlap_height = (__pyx_t_10 - __pyx_t_11);\n",
       "</pre><pre class=\"cython line score-0\" onclick=\"(function(s){s.display=s.display==='block'?'none':'block'})(this.nextElementSibling.style)\">+<span class=\"\">29</span>:             <span class=\"k\">if</span> <span class=\"n\">overlap_width</span> <span class=\"o\">&gt;</span> <span class=\"mf\">0</span> <span class=\"ow\">and</span> <span class=\"n\">overlap_height</span> <span class=\"o\">&gt;</span> <span class=\"mf\">0</span><span class=\"p\">:</span></pre>\n",
       "<pre class='cython code score-0 '>      __pyx_t_14 = ((__pyx_v_overlap_width &gt; 0.0) != 0);\n",
       "      if (__pyx_t_14) {\n",
       "      } else {\n",
       "        __pyx_t_9 = __pyx_t_14;\n",
       "        goto __pyx_L9_bool_binop_done;\n",
       "      }\n",
       "      __pyx_t_14 = ((__pyx_v_overlap_height &gt; 0.0) != 0);\n",
       "      __pyx_t_9 = __pyx_t_14;\n",
       "      __pyx_L9_bool_binop_done:;\n",
       "      if (__pyx_t_9) {\n",
       "/* … */\n",
       "      }\n",
       "      __pyx_L5_continue:;\n",
       "    }\n",
       "  }\n",
       "</pre><pre class=\"cython line score-0\" onclick=\"(function(s){s.display=s.display==='block'?'none':'block'})(this.nextElementSibling.style)\">+<span class=\"\">30</span>:                 <span class=\"n\">data</span><span class=\"p\">[</span><span class=\"n\">j</span><span class=\"p\">]</span> <span class=\"o\">+=</span> <span class=\"n\">overlap_width</span><span class=\"o\">*</span><span class=\"n\">overlap_height</span><span class=\"o\">*</span><span class=\"n\">psf_flux</span><span class=\"p\">[</span><span class=\"n\">i</span><span class=\"p\">]</span></pre>\n",
       "<pre class='cython code score-0 '>        __pyx_t_8 = __pyx_v_i;\n",
       "        __pyx_t_15 = __pyx_v_j;\n",
       "        *((double *) ( /* dim=0 */ ((char *) (((double *) __pyx_v_data.data) + __pyx_t_15)) )) += ((__pyx_v_overlap_width * __pyx_v_overlap_height) * (*((double *) ( /* dim=0 */ ((char *) (((double *) __pyx_v_psf_flux.data) + __pyx_t_8)) ))));\n",
       "</pre></div></body></html>"
      ],
      "text/plain": [
       "<IPython.core.display.HTML object>"
      ]
     },
     "execution_count": 14,
     "metadata": {},
     "output_type": "execute_result"
    }
   ],
   "source": [
    "%%cython --annotate\n",
    "\n",
    "import numpy as np\n",
    "cimport cython\n",
    "\n",
    "cdef double NaN = np.nan\n",
    "\n",
    "@cython.boundscheck(False)  # Deactivate bounds checking\n",
    "@cython.wraparound(False)   # Deactivate negative indexing.\n",
    "def overlap_loop(double[::1] psf_lx, double[::1] psf_ux, double[::1] psf_ly, double[::1] psf_uy,\n",
    "                 double[::1] data_lx, double[::1] data_ux, double[::1] data_ly, double[::1] data_uy,\n",
    "                 double[::1] psf_flux, double[::1] data):\n",
    "    \"\"\"\n",
    "    Assumptions: psf arrays all same length, data arrays all same length. data pre-initialized as 0 or NaN\n",
    "    Also that PSF grid is smaller than data grid (i.e., result is \"fraction of psf in data\" not other way around), \n",
    "    data grid are size 1 - effectively the PSF is recast into \"data coordinates\".\n",
    "    \"\"\"\n",
    "    \n",
    "    cdef int n_psf = len(psf_flux)\n",
    "    cdef int n_data = len(data)\n",
    "    cdef int i, j\n",
    "    cdef double overlap_width, overlap_height\n",
    "    \n",
    "    for i in range(n_psf):\n",
    "        for j in range(n_data):\n",
    "            if data[j] == NaN:\n",
    "                continue\n",
    "            overlap_width = min(psf_ux[i], data_ux[j]) - max(psf_lx[i], data_lx[j])\n",
    "            overlap_height = min(psf_uy[i], data_uy[j]) - max(psf_ly[i], data_ly[j])\n",
    "            if overlap_width > 0 and overlap_height > 0:\n",
    "                data[j] += overlap_width*overlap_height*psf_flux[i]"
   ]
  },
  {
   "cell_type": "markdown",
   "id": "594cb5cb-4b0c-4b23-8e58-aedbb4759dc6",
   "metadata": {},
   "source": [
    "The below are various setup steps, timed to get a sense of where bottlenecks might be in the loops"
   ]
  },
  {
   "cell_type": "code",
   "execution_count": 15,
   "id": "f8efcab1-3198-4518-a067-1853a048031f",
   "metadata": {
    "tags": []
   },
   "outputs": [
    {
     "name": "stdout",
     "output_type": "stream",
     "text": [
      "CPU times: user 880 µs, sys: 180 µs, total: 1.06 ms\n",
      "Wall time: 603 µs\n"
     ]
    }
   ],
   "source": [
    "%%time\n",
    "\n",
    "data_xedges, data_yedges = np.meshgrid(np.arange(example_slit.data.shape[1] + 1)-0.5, np.arange(example_slit.data.shape[0] + 1)-0.5)\n",
    "data_xl = np.ascontiguousarray(data_yedges[:-1, :-1].ravel())\n",
    "data_xu = np.ascontiguousarray(data_xedges[1:, 1:].ravel())\n",
    "data_yl = np.ascontiguousarray(data_yedges[:-1, :-1].ravel())\n",
    "data_yu = np.ascontiguousarray(data_xedges[1:, 1:].ravel())"
   ]
  },
  {
   "cell_type": "code",
   "execution_count": 16,
   "id": "845936c2-103b-415a-9251-736d3a12963f",
   "metadata": {
    "tags": []
   },
   "outputs": [
    {
     "name": "stdout",
     "output_type": "stream",
     "text": [
      "CPU times: user 333 µs, sys: 68 µs, total: 401 µs\n",
      "Wall time: 247 µs\n"
     ]
    }
   ],
   "source": [
    "%%time\n",
    "\n",
    "datar = np.ascontiguousarray((data_wl_mid*0).ravel()) # this keeps the nan structure but sets everything else to 0"
   ]
  },
  {
   "cell_type": "code",
   "execution_count": 17,
   "id": "74b16361-7826-40bc-9861-f27b94962913",
   "metadata": {
    "tags": []
   },
   "outputs": [
    {
     "name": "stdout",
     "output_type": "stream",
     "text": [
      "CPU times: user 6.07 s, sys: 3.92 s, total: 10 s\n",
      "Wall time: 7.87 s\n"
     ]
    },
    {
     "data": {
      "image/png": "[encoded data removed]",
      "text/plain": [
       "<Figure size 640x480 with 2 Axes>"
      ]
     },
     "metadata": {},
     "output_type": "display_data"
    }
   ],
   "source": [
    "%%time\n",
    "\n",
    "wns = webbpsf.NIRSpec()\n",
    "\n",
    "wns.detector = 'NRS2'\n",
    "wns.image_mask = 'Single MSA open shutter'\n",
    "\n",
    "psf = wns.calc_psf(monochromatic=(1.4*u.micron).to(u.meter).value)\n",
    "webbpsf.display_psf(psf)"
   ]
  },
  {
   "cell_type": "code",
   "execution_count": 41,
   "id": "2a88fc8e-5140-4df7-8525-0b5236759431",
   "metadata": {
    "tags": []
   },
   "outputs": [
    {
     "name": "stdout",
     "output_type": "stream",
     "text": [
      "CPU times: user 690 µs, sys: 220 µs, total: 910 µs\n",
      "Wall time: 911 µs\n"
     ]
    }
   ],
   "source": [
    "%%time\n",
    "\n",
    "psf_flux = psf['OVERDIST'].data\n",
    "psfx_off_1d = (np.arange(psf_flux.shape[0]) - (psf_flux.shape[0]-1)/2)/psf['OVERDIST'].header['DET_SAMP']\n",
    "psfy_off_1d = (np.arange(psf_flux.shape[1]) - (psf_flux.shape[1]-1)/2)/psf['OVERDIST'].header['DET_SAMP']\n",
    "\n",
    "psfx_off, psfy_off = np.meshgrid(psfy_off_1d, psfx_off_1d)"
   ]
  },
  {
   "cell_type": "markdown",
   "id": "4b6007b7-4c5c-4081-bb17-6b164abb59fc",
   "metadata": {},
   "source": [
    "For use below... what pixel encloses a certain fraction of the flux?"
   ]
  },
  {
   "cell_type": "code",
   "execution_count": 42,
   "id": "f8bf3c5c-26c7-4073-add2-c55f4c5a0139",
   "metadata": {
    "tags": []
   },
   "outputs": [
    {
     "data": {
      "text/plain": [
       "array([0.39528471, 0.95197164, 2.15783456, 2.48117916, 6.38601989])"
      ]
     },
     "execution_count": 42,
     "metadata": {},
     "output_type": "execute_result"
    },
    {
     "data": {
      "image/png": "[encoded data removed]",
      "text/plain": [
       "<Figure size 640x480 with 1 Axes>"
      ]
     },
     "metadata": {},
     "output_type": "display_data"
    }
   ],
   "source": [
    "psf_rad = np.hypot(psfx_off, psfy_off)\n",
    "sorti = np.argsort(psf_rad.ravel())\n",
    "psfe = np.cumsum(psf_flux.ravel()[sorti])\n",
    "\n",
    "plt.semilogy(psf_rad.ravel()[sorti], psfe/psfe[-1])\n",
    "np.interp([.5, .9, .99, .995, .999], psfe/psfe[-1], psf_rad.ravel()[sorti]) # pixel count including 99.9% of the flux"
   ]
  },
  {
   "cell_type": "code",
   "execution_count": 43,
   "id": "9fae3803-c704-4563-aac3-e9fc21ff90bf",
   "metadata": {
    "tags": []
   },
   "outputs": [
    {
     "name": "stdout",
     "output_type": "stream",
     "text": [
      "CPU times: user 58.9 ms, sys: 29.7 ms, total: 88.5 ms\n",
      "Wall time: 52.3 ms\n"
     ]
    },
    {
     "data": {
      "text/plain": [
       "(1017.7380095590206, 8.815566925552957)"
      ]
     },
     "execution_count": 43,
     "metadata": {},
     "output_type": "execute_result"
    }
   ],
   "source": [
    "%%time\n",
    "\n",
    "x0, y0 = example_slit.meta.wcs.world_to_pixel(scs[512], wls[512])\n",
    "x0, y0"
   ]
  },
  {
   "cell_type": "code",
   "execution_count": 44,
   "id": "62c3a84f-333e-43fa-90fd-6494578ed7cc",
   "metadata": {
    "tags": []
   },
   "outputs": [
    {
     "name": "stdout",
     "output_type": "stream",
     "text": [
      "CPU times: user 2.41 ms, sys: 0 ns, total: 2.41 ms\n",
      "Wall time: 1.62 ms\n"
     ]
    }
   ],
   "source": [
    "%%time\n",
    "\n",
    "psf_xl_off = psfx_off - 0.5/psf['OVERDIST'].header['DET_SAMP']\n",
    "psf_xu_off = psfx_off + 0.5/psf['OVERDIST'].header['DET_SAMP']\n",
    "\n",
    "psf_yl_off = psfy_off - 0.5/psf['OVERDIST'].header['DET_SAMP']\n",
    "psf_yu_off = psfy_off + 0.5/psf['OVERDIST'].header['DET_SAMP']"
   ]
  },
  {
   "cell_type": "code",
   "execution_count": 54,
   "id": "4293742e-dd16-476c-a03b-5121fa3dbd72",
   "metadata": {
    "tags": []
   },
   "outputs": [
    {
     "name": "stdout",
     "output_type": "stream",
     "text": [
      "CPU times: user 1.33 ms, sys: 0 ns, total: 1.33 ms\n",
      "Wall time: 1.16 ms\n"
     ]
    }
   ],
   "source": [
    "%%time \n",
    "\n",
    "psf_radius = np.hypot((psf_xl_off + psf_xu_off)/2, (psf_yl_off + psf_yu_off)/2)\n",
    "msk = psf_radius.ravel() < 3 # 99.7% or so of the flux\n",
    "\n",
    "psf_xl = np.ascontiguousarray((x0 + psf_xl_off).ravel()[msk])\n",
    "psf_xu = np.ascontiguousarray((x0 + psf_xu_off).ravel()[msk])\n",
    "psf_yl = np.ascontiguousarray((y0 + psf_yl_off).ravel()[msk])\n",
    "psf_yu = np.ascontiguousarray((y0 + psf_yu_off).ravel()[msk])\n",
    "psf_fluxr = np.ascontiguousarray(psf_flux.ravel()[msk])"
   ]
  },
  {
   "cell_type": "code",
   "execution_count": 55,
   "id": "20371d2b-006b-497a-ac41-845b880af8ab",
   "metadata": {
    "tags": []
   },
   "outputs": [
    {
     "name": "stdout",
     "output_type": "stream",
     "text": [
      "CPU times: user 34.9 ms, sys: 0 ns, total: 34.9 ms\n",
      "Wall time: 35.1 ms\n"
     ]
    }
   ],
   "source": [
    "%%time \n",
    "\n",
    "overlap_loop(psf_xl, psf_xu, psf_yl, psf_yu,\n",
    "             data_xl, data_xu, data_yl, data_yu,\n",
    "             psf_fluxr, datar)"
   ]
  },
  {
   "cell_type": "code",
   "execution_count": 56,
   "id": "ce149b4c-c3fa-4d36-83c4-f90f432ba18c",
   "metadata": {
    "tags": []
   },
   "outputs": [
    {
     "data": {
      "text/plain": [
       "<matplotlib.colorbar.Colorbar at 0x7f2b010b42d0>"
      ]
     },
     "execution_count": 56,
     "metadata": {},
     "output_type": "execute_result"
    },
    {
     "data": {
      "image/png": "[encoded data removed]",
      "text/plain": [
       "<Figure size 640x480 with 2 Axes>"
      ]
     },
     "metadata": {},
     "output_type": "display_data"
    }
   ],
   "source": [
    "plt.imshow(datar.reshape(data_wl_mid.shape), aspect='auto')\n",
    "plt.colorbar()"
   ]
  },
  {
   "cell_type": "markdown",
   "id": "f1a145af-5117-4711-8792-fcfd70a287b7",
   "metadata": {},
   "source": [
    "OK, a few ms per aint half bad at first glance, but we have to do this over the whole spectrum.  What happens if we assume we can index into the data array with some fidelity at least as good as the psf (which is conservative because the PSF is 4x oversampled)"
   ]
  },
  {
   "cell_type": "code",
   "execution_count": 57,
   "id": "ab09599c-86ed-42e4-8c1d-7cc891adb1b7",
   "metadata": {},
   "outputs": [
    {
     "name": "stdout",
     "output_type": "stream",
     "text": [
      "CPU times: user 92 µs, sys: 29 µs, total: 121 µs\n",
      "Wall time: 122 µs\n"
     ]
    }
   ],
   "source": [
    "%%time \n",
    "\n",
    "ndat = psf_fluxr.shape[0]//3 # should be 4 for oversampling, but 3 to be conservative in the indexing\n",
    "\n",
    "overlap_loop(psf_xl, psf_xu, psf_yl, psf_yu,\n",
    "             data_xl[:ndat], data_xu[:ndat], data_yl[:ndat], data_yu[:ndat],\n",
    "             psf_fluxr, datar[:ndat])"
   ]
  },
  {
   "cell_type": "code",
   "execution_count": 58,
   "id": "13ac7922-d76e-470c-944d-f9549667682d",
   "metadata": {
    "tags": []
   },
   "outputs": [
    {
     "data": {
      "text/plain": [
       "20.05462"
      ]
     },
     "execution_count": 58,
     "metadata": {},
     "output_type": "execute_result"
    }
   ],
   "source": [
    "msk = (np.nanmin(data_wl_mid) < phoenix_wave) & (phoenix_wave < np.nanmax(data_wl_mid))\n",
    "np.sum(msk) * 92e-6"
   ]
  },
  {
   "cell_type": "markdown",
   "id": "7db84ced-4594-4a4f-bf64-cdac208dc236",
   "metadata": {},
   "source": [
    "Now lets see how the model resolution compares to the data since that might let us shrink this down."
   ]
  },
  {
   "cell_type": "code",
   "execution_count": 31,
   "id": "cf5f7ec6-f6ca-44f9-8357-11b2230c5132",
   "metadata": {
    "tags": []
   },
   "outputs": [
    {
     "data": {
      "text/latex": [
       "$106.50709 \\; \\mathrm{}$"
      ],
      "text/plain": [
       "<Quantity 106.50709181>"
      ]
     },
     "execution_count": 31,
     "metadata": {},
     "output_type": "execute_result"
    }
   ],
   "source": [
    "(np.nanmean(np.diff(data_wl_mid))/np.diff(phoenix_wave[msk]).mean()).decompose()"
   ]
  },
  {
   "cell_type": "markdown",
   "id": "d52f0a5f-e2e1-4308-8cd3-60a4cc613719",
   "metadata": {},
   "source": [
    "Ok, so if we sub-sample down to 10x pixel scale in the spectrum we can get to ~2 sec per iteration.  That might do it!"
   ]
  }
 ],
 "metadata": {
  "kernelspec": {
   "display_name": "Python 3 (ipykernel)",
   "language": "python",
   "name": "python3"
  },
  "language_info": {
   "codemirror_mode": {
    "name": "ipython",
    "version": 3
   },
   "file_extension": ".py",
   "mimetype": "text/x-python",
   "name": "python",
   "nbconvert_exporter": "python",
   "pygments_lexer": "ipython3",
   "version": "3.11.1"
  }
 },
 "nbformat": 4,
 "nbformat_minor": 5
}
