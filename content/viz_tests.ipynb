{
 "cells": [
  {
   "cell_type": "code",
   "execution_count": 1,
   "id": "ad00f919-f949-4f6d-8001-7ede393f48c2",
   "metadata": {},
   "outputs": [],
   "source": [
    "import os\n",
    "import numpy as np\n",
    "\n",
    "import jdaviz\n",
    "from jwst import datamodels\n",
    "\n",
    "import specutils\n",
    "from astropy.io import fits\n",
    "from astropy import units as u\n",
    "from astropy import table\n",
    "\n",
    "from astroquery.mast import Observations"
   ]
  },
  {
   "cell_type": "code",
   "execution_count": 2,
   "id": "8291a6bc-51b3-4062-a4e5-422c1622da51",
   "metadata": {},
   "outputs": [
    {
     "name": "stdout",
     "output_type": "stream",
     "text": [
      "INFO: MAST API token accepted, welcome Erik Tollerud [astroquery.mast.auth]\n"
     ]
    }
   ],
   "source": [
    "Observations.login(open(os.path.expanduser('~/.mast_token')).read().strip())"
   ]
  },
  {
   "cell_type": "code",
   "execution_count": 3,
   "id": "9128584f-15f4-4186-a0b8-1e3e7ab0f433",
   "metadata": {},
   "outputs": [
    {
     "data": {
      "text/html": [
       "<div><i>Table masked=True length=468</i>\n",
       "<table id=\"table139755306339200\" class=\"table-striped table-bordered table-condensed\">\n",
       "<thead><tr><th>obsID</th><th>obs_collection</th><th>dataproduct_type</th><th>obs_id</th><th>description</th><th>type</th><th>dataURI</th><th>productType</th><th>productGroupDescription</th><th>productSubGroupDescription</th><th>productDocumentationURL</th><th>project</th><th>prvversion</th><th>proposal_id</th><th>productFilename</th><th>size</th><th>parent_obsid</th><th>dataRights</th><th>calib_level</th></tr></thead>\n",
       "<thead><tr><th>str8</th><th>str4</th><th>str5</th><th>str30</th><th>str64</th><th>str1</th><th>str66</th><th>str9</th><th>str28</th><th>str8</th><th>str1</th><th>str7</th><th>str5</th><th>str4</th><th>str48</th><th>int64</th><th>str8</th><th>str16</th><th>int64</th></tr></thead>\n",
       "<tr><td>98739545</td><td>JWST</td><td>image</td><td>jw02609006001_02101_00001_nrs1</td><td>FGS1 guide star acquisition</td><td>S</td><td>mast:JWST/product/jw02609006001_gs-acq1_2022298031359_cal.fits</td><td>AUXILIARY</td><td>--</td><td>GS-ACQ1</td><td>--</td><td>CALJWST</td><td>1.7.2</td><td>2609</td><td>jw02609006001_gs-acq1_2022298031359_cal.fits</td><td>1284480</td><td>98739545</td><td>EXCLUSIVE_ACCESS</td><td>2</td></tr>\n",
       "<tr><td>98739545</td><td>JWST</td><td>image</td><td>jw02609006001_02101_00001_nrs1</td><td>FGS1 guide star acquisition</td><td>S</td><td>mast:JWST/product/jw02609006001_gs-acq1_2022298031816_cal.fits</td><td>AUXILIARY</td><td>--</td><td>GS-ACQ1</td><td>--</td><td>CALJWST</td><td>1.7.2</td><td>2609</td><td>jw02609006001_gs-acq1_2022298031816_cal.fits</td><td>1284480</td><td>98739545</td><td>EXCLUSIVE_ACCESS</td><td>2</td></tr>\n",
       "<tr><td>98739545</td><td>JWST</td><td>image</td><td>jw02609006001_02101_00001_nrs1</td><td>FGS1 guide star acquisition</td><td>S</td><td>mast:JWST/product/jw02609006001_gs-acq1_2022298032354_cal.fits</td><td>AUXILIARY</td><td>--</td><td>GS-ACQ1</td><td>--</td><td>CALJWST</td><td>1.7.2</td><td>2609</td><td>jw02609006001_gs-acq1_2022298032354_cal.fits</td><td>1284480</td><td>98739545</td><td>EXCLUSIVE_ACCESS</td><td>2</td></tr>\n",
       "<tr><td>98739545</td><td>JWST</td><td>image</td><td>jw02609006001_02101_00001_nrs1</td><td>FGS1 guide star acquisition</td><td>S</td><td>mast:JWST/product/jw02609006001_gs-acq1_2022298033001_cal.fits</td><td>AUXILIARY</td><td>--</td><td>GS-ACQ1</td><td>--</td><td>CALJWST</td><td>1.7.2</td><td>2609</td><td>jw02609006001_gs-acq1_2022298033001_cal.fits</td><td>1284480</td><td>98739545</td><td>EXCLUSIVE_ACCESS</td><td>2</td></tr>\n",
       "<tr><td>98739545</td><td>JWST</td><td>image</td><td>jw02609006001_02101_00001_nrs1</td><td>FGS1 guide star acquisition</td><td>S</td><td>mast:JWST/product/jw02609006001_gs-acq1_2022298033309_cal.fits</td><td>AUXILIARY</td><td>--</td><td>GS-ACQ1</td><td>--</td><td>CALJWST</td><td>1.7.2</td><td>2609</td><td>jw02609006001_gs-acq1_2022298033309_cal.fits</td><td>1284480</td><td>98739545</td><td>EXCLUSIVE_ACCESS</td><td>2</td></tr>\n",
       "<tr><td>98739545</td><td>JWST</td><td>image</td><td>jw02609006001_02101_00001_nrs1</td><td>FGS2 guide star acquisition</td><td>S</td><td>mast:JWST/product/jw02609006001_gs-acq2_2022298031401_cal.fits</td><td>AUXILIARY</td><td>--</td><td>GS-ACQ2</td><td>--</td><td>CALJWST</td><td>1.7.2</td><td>2609</td><td>jw02609006001_gs-acq2_2022298031401_cal.fits</td><td>106560</td><td>98739545</td><td>EXCLUSIVE_ACCESS</td><td>2</td></tr>\n",
       "<tr><td>98739545</td><td>JWST</td><td>image</td><td>jw02609006001_02101_00001_nrs1</td><td>FGS2 guide star acquisition</td><td>S</td><td>mast:JWST/product/jw02609006001_gs-acq2_2022298033003_cal.fits</td><td>AUXILIARY</td><td>--</td><td>GS-ACQ2</td><td>--</td><td>CALJWST</td><td>1.7.2</td><td>2609</td><td>jw02609006001_gs-acq2_2022298033003_cal.fits</td><td>106560</td><td>98739545</td><td>EXCLUSIVE_ACCESS</td><td>2</td></tr>\n",
       "<tr><td>98739545</td><td>JWST</td><td>image</td><td>jw02609006001_02101_00001_nrs1</td><td>FGS2 guide star acquisition</td><td>S</td><td>mast:JWST/product/jw02609006001_gs-acq2_2022298033311_cal.fits</td><td>AUXILIARY</td><td>--</td><td>GS-ACQ2</td><td>--</td><td>CALJWST</td><td>1.7.2</td><td>2609</td><td>jw02609006001_gs-acq2_2022298033311_cal.fits</td><td>106560</td><td>98739545</td><td>EXCLUSIVE_ACCESS</td><td>2</td></tr>\n",
       "<tr><td>98739545</td><td>JWST</td><td>image</td><td>jw02609006001_02101_00001_nrs1</td><td>FGS guide star identification</td><td>S</td><td>mast:JWST/product/jw02609006001_gs-id_1_image_cal.fits</td><td>AUXILIARY</td><td>--</td><td>GS-ID</td><td>--</td><td>CALJWST</td><td>1.7.2</td><td>2609</td><td>jw02609006001_gs-id_1_image_cal.fits</td><td>66378240</td><td>98739545</td><td>EXCLUSIVE_ACCESS</td><td>2</td></tr>\n",
       "<tr><td>...</td><td>...</td><td>...</td><td>...</td><td>...</td><td>...</td><td>...</td><td>...</td><td>...</td><td>...</td><td>...</td><td>...</td><td>...</td><td>...</td><td>...</td><td>...</td><td>...</td><td>...</td><td>...</td></tr>\n",
       "<tr><td>89376203</td><td>JWST</td><td>image</td><td>jw02609008001_02101_00002_nrs2</td><td>FGS guide star tracking</td><td>S</td><td>mast:JWST/product/jw02609008001_gs-track_2022232154705_cal.fits</td><td>AUXILIARY</td><td>Minimum Recommended Products</td><td>GS-TRACK</td><td>--</td><td>CALJWST</td><td>1.6.2</td><td>2609</td><td>jw02609008001_gs-track_2022232154705_cal.fits</td><td>2465280</td><td>89376203</td><td>EXCLUSIVE_ACCESS</td><td>2</td></tr>\n",
       "<tr><td>89376203</td><td>JWST</td><td>image</td><td>jw02609008001_02101_00002_nrs2</td><td>FGS guide star tracking</td><td>S</td><td>mast:JWST/product/jw02609008001_gs-track_2022232160547_cal.fits</td><td>AUXILIARY</td><td>Minimum Recommended Products</td><td>GS-TRACK</td><td>--</td><td>CALJWST</td><td>1.6.2</td><td>2609</td><td>jw02609008001_gs-track_2022232160547_cal.fits</td><td>2459520</td><td>89376203</td><td>EXCLUSIVE_ACCESS</td><td>2</td></tr>\n",
       "<tr><td>89376203</td><td>JWST</td><td>image</td><td>jw02609008001_02101_00002_nrs2</td><td>source/target (L3) : association generator</td><td>S</td><td>mast:JWST/product/jw02609-o008_20221019t153819_image2_001_asn.json</td><td>INFO</td><td>Minimum Recommended Products</td><td>ASN</td><td>--</td><td>CALJWST</td><td>1.6.2</td><td>2609</td><td>jw02609-o008_20221019t153819_image2_001_asn.json</td><td>1488</td><td>89376203</td><td>EXCLUSIVE_ACCESS</td><td>2</td></tr>\n",
       "<tr><td>89376203</td><td>JWST</td><td>image</td><td>jw02609008001_02101_00002_nrs2</td><td>source/target (L3) : association pool</td><td>S</td><td>mast:JWST/product/jw02609_20221019t153819_pool.csv</td><td>INFO</td><td>Minimum Recommended Products</td><td>POOL</td><td>--</td><td>CALJWST</td><td>1.6.2</td><td>2609</td><td>jw02609_20221019t153819_pool.csv</td><td>16307</td><td>89376203</td><td>EXCLUSIVE_ACCESS</td><td>2</td></tr>\n",
       "<tr><td>89376203</td><td>JWST</td><td>image</td><td>jw02609008001_02101_00002_nrs2</td><td>Preview-Full</td><td>S</td><td>mast:JWST/product/jw02609008001_02101_00002_nrs2_cal.jpg</td><td>PREVIEW</td><td>--</td><td>--</td><td>--</td><td>CALJWST</td><td>1.6.2</td><td>2609</td><td>jw02609008001_02101_00002_nrs2_cal.jpg</td><td>1231176</td><td>89376203</td><td>EXCLUSIVE_ACCESS</td><td>2</td></tr>\n",
       "<tr><td>89376203</td><td>JWST</td><td>image</td><td>jw02609008001_02101_00002_nrs2</td><td>Preview-Full</td><td>S</td><td>mast:JWST/product/jw02609008001_02101_00002_nrs2_rate.jpg</td><td>PREVIEW</td><td>--</td><td>--</td><td>--</td><td>CALJWST</td><td>1.6.2</td><td>2609</td><td>jw02609008001_02101_00002_nrs2_rate.jpg</td><td>1232811</td><td>89376203</td><td>EXCLUSIVE_ACCESS</td><td>2</td></tr>\n",
       "<tr><td>89376203</td><td>JWST</td><td>image</td><td>jw02609008001_02101_00002_nrs2</td><td>Preview-Full</td><td>S</td><td>mast:JWST/product/jw02609008001_02101_00002_nrs2_rateints.jpg</td><td>PREVIEW</td><td>--</td><td>--</td><td>--</td><td>CALJWST</td><td>1.6.2</td><td>2609</td><td>jw02609008001_02101_00002_nrs2_rateints.jpg</td><td>1232666</td><td>89376203</td><td>EXCLUSIVE_ACCESS</td><td>2</td></tr>\n",
       "<tr><td>89376203</td><td>JWST</td><td>image</td><td>jw02609008001_02101_00002_nrs2</td><td>exposure (L2b): 2D calibrated exposure average over integrations</td><td>S</td><td>mast:JWST/product/jw02609008001_02101_00002_nrs2_cal.fits</td><td>SCIENCE</td><td>Minimum Recommended Products</td><td>CAL</td><td>--</td><td>CALJWST</td><td>1.6.2</td><td>2609</td><td>jw02609008001_02101_00002_nrs2_cal.fits</td><td>100797120</td><td>89376203</td><td>EXCLUSIVE_ACCESS</td><td>2</td></tr>\n",
       "<tr><td>89376203</td><td>JWST</td><td>image</td><td>jw02609008001_02101_00002_nrs2</td><td>exposure (L2a): 2D count rate averaged over integrations</td><td>S</td><td>mast:JWST/product/jw02609008001_02101_00002_nrs2_rate.fits</td><td>SCIENCE</td><td>Minimum Recommended Products</td><td>RATE</td><td>--</td><td>CALJWST</td><td>1.6.2</td><td>2609</td><td>jw02609008001_02101_00002_nrs2_rate.fits</td><td>83946240</td><td>89376203</td><td>EXCLUSIVE_ACCESS</td><td>2</td></tr>\n",
       "<tr><td>89376203</td><td>JWST</td><td>image</td><td>jw02609008001_02101_00002_nrs2</td><td>exposure (L2a): 3D countrate per integration</td><td>S</td><td>mast:JWST/product/jw02609008001_02101_00002_nrs2_rateints.fits</td><td>SCIENCE</td><td>Minimum Recommended Products</td><td>RATEINTS</td><td>--</td><td>CALJWST</td><td>1.6.2</td><td>2609</td><td>jw02609008001_02101_00002_nrs2_rateints.fits</td><td>83952000</td><td>89376203</td><td>EXCLUSIVE_ACCESS</td><td>2</td></tr>\n",
       "</table></div>"
      ],
      "text/plain": [
       "<Table masked=True length=468>\n",
       " obsID   obs_collection dataproduct_type ... parent_obsid    dataRights    calib_level\n",
       "  str8        str4            str5       ...     str8          str16          int64   \n",
       "-------- -------------- ---------------- ... ------------ ---------------- -----------\n",
       "98739545           JWST            image ...     98739545 EXCLUSIVE_ACCESS           2\n",
       "98739545           JWST            image ...     98739545 EXCLUSIVE_ACCESS           2\n",
       "98739545           JWST            image ...     98739545 EXCLUSIVE_ACCESS           2\n",
       "98739545           JWST            image ...     98739545 EXCLUSIVE_ACCESS           2\n",
       "98739545           JWST            image ...     98739545 EXCLUSIVE_ACCESS           2\n",
       "98739545           JWST            image ...     98739545 EXCLUSIVE_ACCESS           2\n",
       "98739545           JWST            image ...     98739545 EXCLUSIVE_ACCESS           2\n",
       "98739545           JWST            image ...     98739545 EXCLUSIVE_ACCESS           2\n",
       "98739545           JWST            image ...     98739545 EXCLUSIVE_ACCESS           2\n",
       "     ...            ...              ... ...          ...              ...         ...\n",
       "89376203           JWST            image ...     89376203 EXCLUSIVE_ACCESS           2\n",
       "89376203           JWST            image ...     89376203 EXCLUSIVE_ACCESS           2\n",
       "89376203           JWST            image ...     89376203 EXCLUSIVE_ACCESS           2\n",
       "89376203           JWST            image ...     89376203 EXCLUSIVE_ACCESS           2\n",
       "89376203           JWST            image ...     89376203 EXCLUSIVE_ACCESS           2\n",
       "89376203           JWST            image ...     89376203 EXCLUSIVE_ACCESS           2\n",
       "89376203           JWST            image ...     89376203 EXCLUSIVE_ACCESS           2\n",
       "89376203           JWST            image ...     89376203 EXCLUSIVE_ACCESS           2\n",
       "89376203           JWST            image ...     89376203 EXCLUSIVE_ACCESS           2\n",
       "89376203           JWST            image ...     89376203 EXCLUSIVE_ACCESS           2"
      ]
     },
     "execution_count": 3,
     "metadata": {},
     "output_type": "execute_result"
    }
   ],
   "source": [
    "obses = Observations.query_criteria(proposal_id=2609)\n",
    "nsobses = obses[obses['instrument_name']=='NIRSPEC']\n",
    "data_products = Observations.get_product_list(nsobses)\n",
    "data_products[data_products['calib_level']==2]"
   ]
  },
  {
   "cell_type": "code",
   "execution_count": 4,
   "id": "f0a497bf-54f3-4122-a262-13c852b1c40b",
   "metadata": {},
   "outputs": [
    {
     "data": {
      "text/html": [
       "&lt;MaskedColumn name=&apos;productSubGroupDescription&apos; dtype=&apos;str8&apos; length=15&gt;\n",
       "<table>\n",
       "<tr><td>ASN</td></tr>\n",
       "<tr><td>CAL</td></tr>\n",
       "<tr><td>GS-ACQ1</td></tr>\n",
       "<tr><td>GS-ACQ2</td></tr>\n",
       "<tr><td>GS-FG</td></tr>\n",
       "<tr><td>GS-ID</td></tr>\n",
       "<tr><td>GS-TRACK</td></tr>\n",
       "<tr><td>MSA</td></tr>\n",
       "<tr><td>--</td></tr>\n",
       "<tr><td>POOL</td></tr>\n",
       "<tr><td>RATE</td></tr>\n",
       "<tr><td>RATEINTS</td></tr>\n",
       "<tr><td>S2D</td></tr>\n",
       "<tr><td>UNCAL</td></tr>\n",
       "<tr><td>X1D</td></tr>\n",
       "</table>"
      ],
      "text/plain": [
       "<MaskedColumn name='productSubGroupDescription' dtype='str8' length=15>\n",
       "     ASN\n",
       "     CAL\n",
       " GS-ACQ1\n",
       " GS-ACQ2\n",
       "   GS-FG\n",
       "   GS-ID\n",
       "GS-TRACK\n",
       "     MSA\n",
       "      --\n",
       "    POOL\n",
       "    RATE\n",
       "RATEINTS\n",
       "     S2D\n",
       "   UNCAL\n",
       "     X1D"
      ]
     },
     "execution_count": 4,
     "metadata": {},
     "output_type": "execute_result"
    }
   ],
   "source": [
    "np.unique(data_products['productSubGroupDescription'])"
   ]
  },
  {
   "cell_type": "code",
   "execution_count": 5,
   "id": "969eb08c-dbd3-474d-8858-01cc04d8ebfb",
   "metadata": {},
   "outputs": [
    {
     "name": "stdout",
     "output_type": "stream",
     "text": [
      "INFO: Found cached file ./mastDownload/JWST/jw02609006001_03101_00002_nrs1/jw02609006001_03101_00002_nrs1_s2d.fits with expected size 31106880. [astroquery.query]\n",
      "INFO: Found cached file ./mastDownload/JWST/jw02609006001_03101_00002_nrs1/jw02609006001_03101_00002_nrs1_x1d.fits with expected size 11085120. [astroquery.query]\n",
      "INFO: Found cached file ./mastDownload/JWST/jw02609006001_03101_00002_nrs2/jw02609006001_03101_00002_nrs2_s2d.fits with expected size 65908800. [astroquery.query]\n",
      "INFO: Found cached file ./mastDownload/JWST/jw02609006001_03101_00002_nrs2/jw02609006001_03101_00002_nrs2_x1d.fits with expected size 24768000. [astroquery.query]\n",
      "INFO: Found cached file ./mastDownload/JWST/jw02609006001_03101_00003_nrs1/jw02609006001_03101_00003_nrs1_s2d.fits with expected size 31106880. [astroquery.query]\n",
      "INFO: Found cached file ./mastDownload/JWST/jw02609006001_03101_00003_nrs1/jw02609006001_03101_00003_nrs1_x1d.fits with expected size 11085120. [astroquery.query]\n",
      "INFO: Found cached file ./mastDownload/JWST/jw02609006001_03101_00003_nrs2/jw02609006001_03101_00003_nrs2_s2d.fits with expected size 65908800. [astroquery.query]\n",
      "INFO: Found cached file ./mastDownload/JWST/jw02609006001_03101_00003_nrs2/jw02609006001_03101_00003_nrs2_x1d.fits with expected size 24768000. [astroquery.query]\n"
     ]
    },
    {
     "data": {
      "text/html": [
       "<div><i>Table length=8</i>\n",
       "<table id=\"table139755306337328\" class=\"table-striped table-bordered table-condensed\">\n",
       "<thead><tr><th>Local Path</th><th>Status</th><th>Message</th><th>URL</th></tr></thead>\n",
       "<thead><tr><th>str90</th><th>str8</th><th>object</th><th>object</th></tr></thead>\n",
       "<tr><td>./mastDownload/JWST/jw02609006001_03101_00002_nrs1/jw02609006001_03101_00002_nrs1_s2d.fits</td><td>COMPLETE</td><td>None</td><td>None</td></tr>\n",
       "<tr><td>./mastDownload/JWST/jw02609006001_03101_00002_nrs1/jw02609006001_03101_00002_nrs1_x1d.fits</td><td>COMPLETE</td><td>None</td><td>None</td></tr>\n",
       "<tr><td>./mastDownload/JWST/jw02609006001_03101_00002_nrs2/jw02609006001_03101_00002_nrs2_s2d.fits</td><td>COMPLETE</td><td>None</td><td>None</td></tr>\n",
       "<tr><td>./mastDownload/JWST/jw02609006001_03101_00002_nrs2/jw02609006001_03101_00002_nrs2_x1d.fits</td><td>COMPLETE</td><td>None</td><td>None</td></tr>\n",
       "<tr><td>./mastDownload/JWST/jw02609006001_03101_00003_nrs1/jw02609006001_03101_00003_nrs1_s2d.fits</td><td>COMPLETE</td><td>None</td><td>None</td></tr>\n",
       "<tr><td>./mastDownload/JWST/jw02609006001_03101_00003_nrs1/jw02609006001_03101_00003_nrs1_x1d.fits</td><td>COMPLETE</td><td>None</td><td>None</td></tr>\n",
       "<tr><td>./mastDownload/JWST/jw02609006001_03101_00003_nrs2/jw02609006001_03101_00003_nrs2_s2d.fits</td><td>COMPLETE</td><td>None</td><td>None</td></tr>\n",
       "<tr><td>./mastDownload/JWST/jw02609006001_03101_00003_nrs2/jw02609006001_03101_00003_nrs2_x1d.fits</td><td>COMPLETE</td><td>None</td><td>None</td></tr>\n",
       "</table></div>"
      ],
      "text/plain": [
       "<Table length=8>\n",
       "                                        Local Path                                         ...  URL  \n",
       "                                          str90                                            ... object\n",
       "------------------------------------------------------------------------------------------ ... ------\n",
       "./mastDownload/JWST/jw02609006001_03101_00002_nrs1/jw02609006001_03101_00002_nrs1_s2d.fits ...   None\n",
       "./mastDownload/JWST/jw02609006001_03101_00002_nrs1/jw02609006001_03101_00002_nrs1_x1d.fits ...   None\n",
       "./mastDownload/JWST/jw02609006001_03101_00002_nrs2/jw02609006001_03101_00002_nrs2_s2d.fits ...   None\n",
       "./mastDownload/JWST/jw02609006001_03101_00002_nrs2/jw02609006001_03101_00002_nrs2_x1d.fits ...   None\n",
       "./mastDownload/JWST/jw02609006001_03101_00003_nrs1/jw02609006001_03101_00003_nrs1_s2d.fits ...   None\n",
       "./mastDownload/JWST/jw02609006001_03101_00003_nrs1/jw02609006001_03101_00003_nrs1_x1d.fits ...   None\n",
       "./mastDownload/JWST/jw02609006001_03101_00003_nrs2/jw02609006001_03101_00003_nrs2_s2d.fits ...   None\n",
       "./mastDownload/JWST/jw02609006001_03101_00003_nrs2/jw02609006001_03101_00003_nrs2_x1d.fits ...   None"
      ]
     },
     "execution_count": 5,
     "metadata": {},
     "output_type": "execute_result"
    }
   ],
   "source": [
    "results = Observations.download_products(data_products[np.in1d(data_products['productSubGroupDescription'], ['X1D', 'S2D'])])\n",
    "results"
   ]
  },
  {
   "cell_type": "code",
   "execution_count": 6,
   "id": "ac6fdcde-5cdc-427d-807d-bbb99319e118",
   "metadata": {},
   "outputs": [],
   "source": [
    "sv = jdaviz.Specviz()\n",
    "sv.show('sidecar')\n",
    "\n",
    "mv = jdaviz.Mosviz()\n",
    "mv.show('sidecar')"
   ]
  },
  {
   "cell_type": "code",
   "execution_count": 7,
   "id": "18a88ae6-e645-4fcb-938a-aadf5ce38273",
   "metadata": {},
   "outputs": [
    {
     "name": "stderr",
     "output_type": "stream",
     "text": [
      "WARNING: UnitsWarning: '(MJy/sr)^2' did not parse as fits unit: Syntax error parsing unit '(MJy/sr)^2' If this is meant to be a custom unit, define it with 'u.def_unit'. To have it recognized inside a file reader or other code, enable it with 'u.add_enabled_units'. For details, see https://docs.astropy.org/en/latest/units/combining_and_defining.html [astropy.units.core]\n"
     ]
    }
   ],
   "source": [
    "sv.load_spectrum(results['Local Path'][1])"
   ]
  },
  {
   "cell_type": "code",
   "execution_count": 8,
   "id": "ccb114a5-adae-48df-ab8b-e6f5b384a4ec",
   "metadata": {},
   "outputs": [
    {
     "ename": "IORegistryError",
     "evalue": "Format could not be identified based on the file name or contents, please provide a 'format' argument.\nThe available formats are:\n      Format      Read Write Auto-identify\n----------------- ---- ----- -------------\n      6dFGS-split  Yes    No           Yes\n    6dFGS-tabular  Yes    No           Yes\n    APOGEE apStar  Yes    No           Yes\n   APOGEE apVisit  Yes    No           Yes\nAPOGEE aspcapStar  Yes    No           Yes\n            ASCII  Yes    No           Yes\n             ECSV  Yes    No           Yes\n          HST/COS  Yes    No           Yes\n         HST/STIS  Yes    No           Yes\n             IPAC  Yes    No           Yes\n         JWST c1d  Yes    No           Yes\n         JWST s2d  Yes    No           Yes\n         JWST s3d  Yes    No           Yes\n         JWST x1d  Yes    No           Yes\n      MUSCLES SED  Yes    No           Yes\n       MaNGA cube  Yes    No           Yes\n        MaNGA rss  Yes    No           Yes\n     SDSS spPlate  Yes    No           Yes\n SDSS-I/II spSpec  Yes    No           Yes\n SDSS-III/IV spec  Yes    No           Yes\n Subaru-pfsObject  Yes    No           Yes\n             iraf  Yes    No           Yes\n     tabular-fits  Yes   Yes           Yes\n       wcs1d-fits  Yes   Yes           Yes",
     "output_type": "error",
     "traceback": [
      "\u001b[0;31m---------------------------------------------------------------------------\u001b[0m",
      "\u001b[0;31mIORegistryError\u001b[0m                           Traceback (most recent call last)",
      "Cell \u001b[0;32mIn [8], line 1\u001b[0m\n\u001b[0;32m----> 1\u001b[0m \u001b[43mmv\u001b[49m\u001b[38;5;241;43m.\u001b[39;49m\u001b[43mload_spectra\u001b[49m\u001b[43m(\u001b[49m\u001b[43mresults\u001b[49m\u001b[43m[\u001b[49m\u001b[38;5;124;43m'\u001b[39;49m\u001b[38;5;124;43mLocal Path\u001b[39;49m\u001b[38;5;124;43m'\u001b[39;49m\u001b[43m]\u001b[49m\u001b[43m[\u001b[49m\u001b[38;5;241;43m1\u001b[39;49m\u001b[43m]\u001b[49m\u001b[43m,\u001b[49m\u001b[43m \u001b[49m\n\u001b[1;32m      2\u001b[0m \u001b[43m                \u001b[49m\u001b[43mresults\u001b[49m\u001b[43m[\u001b[49m\u001b[38;5;124;43m'\u001b[39;49m\u001b[38;5;124;43mLocal Path\u001b[39;49m\u001b[38;5;124;43m'\u001b[39;49m\u001b[43m]\u001b[49m\u001b[43m[\u001b[49m\u001b[38;5;241;43m0\u001b[39;49m\u001b[43m]\u001b[49m\u001b[43m)\u001b[49m\n",
      "File \u001b[0;32m~/m31_jwst/venv/lib/python3.10/site-packages/jdaviz/configs/mosviz/helper.py:526\u001b[0m, in \u001b[0;36mMosviz.load_spectra\u001b[0;34m(self, spectra_1d, spectra_2d)\u001b[0m\n\u001b[1;32m    509\u001b[0m \u001b[38;5;28;01mdef\u001b[39;00m \u001b[38;5;21mload_spectra\u001b[39m(\u001b[38;5;28mself\u001b[39m, spectra_1d, spectra_2d):\n\u001b[1;32m    510\u001b[0m     \u001b[38;5;124;03m\"\"\"\u001b[39;00m\n\u001b[1;32m    511\u001b[0m \u001b[38;5;124;03m    Load 1D and 2D spectra using lists or strings to represent each.\u001b[39;00m\n\u001b[1;32m    512\u001b[0m \n\u001b[0;32m   (...)\u001b[0m\n\u001b[1;32m    523\u001b[0m \u001b[38;5;124;03m        can be a string file path.\u001b[39;00m\n\u001b[1;32m    524\u001b[0m \u001b[38;5;124;03m    \"\"\"\u001b[39;00m\n\u001b[0;32m--> 526\u001b[0m     \u001b[38;5;28;43mself\u001b[39;49m\u001b[38;5;241;43m.\u001b[39;49m\u001b[43mload_data\u001b[49m\u001b[43m(\u001b[49m\u001b[43mspectra_1d\u001b[49m\u001b[38;5;241;43m=\u001b[39;49m\u001b[43mspectra_1d\u001b[49m\u001b[43m,\u001b[49m\u001b[43m \u001b[49m\u001b[43mspectra_2d\u001b[49m\u001b[38;5;241;43m=\u001b[39;49m\u001b[43mspectra_2d\u001b[49m\u001b[43m)\u001b[49m\n",
      "File \u001b[0;32m~/m31_jwst/venv/lib/python3.10/site-packages/jdaviz/configs/mosviz/helper.py:461\u001b[0m, in \u001b[0;36mMosviz.load_data\u001b[0;34m(self, spectra_1d, spectra_2d, images, spectra_1d_label, spectra_2d_label, images_label, *args, **kwargs)\u001b[0m\n\u001b[1;32m    459\u001b[0m \u001b[38;5;28;01melif\u001b[39;00m spectra_1d \u001b[38;5;129;01mis\u001b[39;00m \u001b[38;5;129;01mnot\u001b[39;00m \u001b[38;5;28;01mNone\u001b[39;00m \u001b[38;5;129;01mand\u001b[39;00m spectra_2d \u001b[38;5;129;01mis\u001b[39;00m \u001b[38;5;129;01mnot\u001b[39;00m \u001b[38;5;28;01mNone\u001b[39;00m:\n\u001b[1;32m    460\u001b[0m     \u001b[38;5;28mself\u001b[39m\u001b[38;5;241m.\u001b[39mload_2d_spectra(spectra_2d, spectra_2d_label)\n\u001b[0;32m--> 461\u001b[0m     \u001b[38;5;28;43mself\u001b[39;49m\u001b[38;5;241;43m.\u001b[39;49m\u001b[43mload_1d_spectra\u001b[49m\u001b[43m(\u001b[49m\u001b[43mspectra_1d\u001b[49m\u001b[43m,\u001b[49m\u001b[43m \u001b[49m\u001b[43mspectra_1d_label\u001b[49m\u001b[43m)\u001b[49m\n\u001b[1;32m    462\u001b[0m     \u001b[38;5;28mself\u001b[39m\u001b[38;5;241m.\u001b[39mload_metadata(spectra_2d, spectra\u001b[38;5;241m=\u001b[39m\u001b[38;5;28;01mTrue\u001b[39;00m)\n\u001b[1;32m    463\u001b[0m     \u001b[38;5;28mself\u001b[39m\u001b[38;5;241m.\u001b[39mload_metadata(spectra_1d, spectra\u001b[38;5;241m=\u001b[39m\u001b[38;5;28;01mTrue\u001b[39;00m, sp1d\u001b[38;5;241m=\u001b[39m\u001b[38;5;28;01mTrue\u001b[39;00m, ids\u001b[38;5;241m=\u001b[39mspectra_1d)\n",
      "File \u001b[0;32m~/m31_jwst/venv/lib/python3.10/site-packages/jdaviz/configs/mosviz/helper.py:577\u001b[0m, in \u001b[0;36mMosviz.load_1d_spectra\u001b[0;34m(self, data_obj, data_labels)\u001b[0m\n\u001b[1;32m    562\u001b[0m \u001b[38;5;28;01mdef\u001b[39;00m \u001b[38;5;21mload_1d_spectra\u001b[39m(\u001b[38;5;28mself\u001b[39m, data_obj, data_labels\u001b[38;5;241m=\u001b[39m\u001b[38;5;28;01mNone\u001b[39;00m):\n\u001b[1;32m    563\u001b[0m     \u001b[38;5;124;03m\"\"\"\u001b[39;00m\n\u001b[1;32m    564\u001b[0m \u001b[38;5;124;03m    Load and parse a set of 1D spectra objects.\u001b[39;00m\n\u001b[1;32m    565\u001b[0m \n\u001b[0;32m   (...)\u001b[0m\n\u001b[1;32m    575\u001b[0m \u001b[38;5;124;03m        for each item in ``data_obj`` if  ``data_obj`` is a list.\u001b[39;00m\n\u001b[1;32m    576\u001b[0m \u001b[38;5;124;03m    \"\"\"\u001b[39;00m\n\u001b[0;32m--> 577\u001b[0m     \u001b[38;5;28;43msuper\u001b[39;49m\u001b[43m(\u001b[49m\u001b[43m)\u001b[49m\u001b[38;5;241;43m.\u001b[39;49m\u001b[43mload_data\u001b[49m\u001b[43m(\u001b[49m\u001b[43mdata_obj\u001b[49m\u001b[43m,\u001b[49m\u001b[43m \u001b[49m\u001b[43mparser_reference\u001b[49m\u001b[38;5;241;43m=\u001b[39;49m\u001b[38;5;124;43m\"\u001b[39;49m\u001b[38;5;124;43mmosviz-spec1d-parser\u001b[39;49m\u001b[38;5;124;43m\"\u001b[39;49m\u001b[43m,\u001b[49m\n\u001b[1;32m    578\u001b[0m \u001b[43m                      \u001b[49m\u001b[43mdata_labels\u001b[49m\u001b[38;5;241;43m=\u001b[39;49m\u001b[43mdata_labels\u001b[49m\u001b[43m)\u001b[49m\n\u001b[1;32m    579\u001b[0m     \u001b[38;5;28mself\u001b[39m\u001b[38;5;241m.\u001b[39m_add_redshift_column()\n",
      "File \u001b[0;32m~/m31_jwst/venv/lib/python3.10/site-packages/jdaviz/core/helpers.py:104\u001b[0m, in \u001b[0;36mConfigHelper.load_data\u001b[0;34m(self, data, data_label, parser_reference, **kwargs)\u001b[0m\n\u001b[1;32m    102\u001b[0m \u001b[38;5;28;01mif\u001b[39;00m data_label:\n\u001b[1;32m    103\u001b[0m     kwargs[\u001b[38;5;124m'\u001b[39m\u001b[38;5;124mdata_label\u001b[39m\u001b[38;5;124m'\u001b[39m] \u001b[38;5;241m=\u001b[39m data_label\n\u001b[0;32m--> 104\u001b[0m \u001b[38;5;28;43mself\u001b[39;49m\u001b[38;5;241;43m.\u001b[39;49m\u001b[43mapp\u001b[49m\u001b[38;5;241;43m.\u001b[39;49m\u001b[43mload_data\u001b[49m\u001b[43m(\u001b[49m\u001b[43mdata\u001b[49m\u001b[43m,\u001b[49m\u001b[43m \u001b[49m\u001b[43mparser_reference\u001b[49m\u001b[38;5;241;43m=\u001b[39;49m\u001b[43mparser_reference\u001b[49m\u001b[43m,\u001b[49m\u001b[43m \u001b[49m\u001b[38;5;241;43m*\u001b[39;49m\u001b[38;5;241;43m*\u001b[39;49m\u001b[43mkwargs\u001b[49m\u001b[43m)\u001b[49m\n",
      "File \u001b[0;32m~/m31_jwst/venv/lib/python3.10/site-packages/jdaviz/app.py:529\u001b[0m, in \u001b[0;36mApplication.load_data\u001b[0;34m(self, file_obj, parser_reference, **kwargs)\u001b[0m\n\u001b[1;32m    524\u001b[0m         parser \u001b[38;5;241m=\u001b[39m data_parser_registry\u001b[38;5;241m.\u001b[39mmembers\u001b[38;5;241m.\u001b[39mget(data_parser)\n\u001b[1;32m    526\u001b[0m \u001b[38;5;28;01mif\u001b[39;00m parser \u001b[38;5;129;01mis\u001b[39;00m \u001b[38;5;129;01mnot\u001b[39;00m \u001b[38;5;28;01mNone\u001b[39;00m:\n\u001b[1;32m    527\u001b[0m     \u001b[38;5;66;03m# If the parser returns something other than known, assume it's\u001b[39;00m\n\u001b[1;32m    528\u001b[0m     \u001b[38;5;66;03m#  a message we want to make the user aware of.\u001b[39;00m\n\u001b[0;32m--> 529\u001b[0m     msg \u001b[38;5;241m=\u001b[39m \u001b[43mparser\u001b[49m\u001b[43m(\u001b[49m\u001b[38;5;28;43mself\u001b[39;49m\u001b[43m,\u001b[49m\u001b[43m \u001b[49m\u001b[43mfile_obj\u001b[49m\u001b[43m,\u001b[49m\u001b[43m \u001b[49m\u001b[38;5;241;43m*\u001b[39;49m\u001b[38;5;241;43m*\u001b[39;49m\u001b[43mkwargs\u001b[49m\u001b[43m)\u001b[49m\n\u001b[1;32m    531\u001b[0m     \u001b[38;5;28;01mif\u001b[39;00m msg \u001b[38;5;129;01mis\u001b[39;00m \u001b[38;5;129;01mnot\u001b[39;00m \u001b[38;5;28;01mNone\u001b[39;00m:\n\u001b[1;32m    532\u001b[0m         snackbar_message \u001b[38;5;241m=\u001b[39m SnackbarMessage(\n\u001b[1;32m    533\u001b[0m             msg, color\u001b[38;5;241m=\u001b[39m\u001b[38;5;124m'\u001b[39m\u001b[38;5;124merror\u001b[39m\u001b[38;5;124m'\u001b[39m, sender\u001b[38;5;241m=\u001b[39m\u001b[38;5;28mself\u001b[39m)\n",
      "File \u001b[0;32m~/m31_jwst/venv/lib/python3.10/site-packages/jdaviz/configs/mosviz/plugins/parsers.py:217\u001b[0m, in \u001b[0;36mmos_spec1d_parser\u001b[0;34m(app, data_obj, data_labels, table_viewer_reference_name)\u001b[0m\n\u001b[1;32m    214\u001b[0m \u001b[38;5;28;01mif\u001b[39;00m \u001b[38;5;129;01mnot\u001b[39;00m \u001b[38;5;28misinstance\u001b[39m(data_obj, (\u001b[38;5;28mlist\u001b[39m, \u001b[38;5;28mtuple\u001b[39m, SpectrumCollection)):\n\u001b[1;32m    215\u001b[0m     data_obj \u001b[38;5;241m=\u001b[39m [data_obj]\n\u001b[0;32m--> 217\u001b[0m data_obj \u001b[38;5;241m=\u001b[39m [Spectrum1D\u001b[38;5;241m.\u001b[39mread(x) \u001b[38;5;28;01mif\u001b[39;00m _check_is_file(x) \u001b[38;5;28;01melse\u001b[39;00m x \u001b[38;5;28;01mfor\u001b[39;00m x \u001b[38;5;129;01min\u001b[39;00m data_obj]\n\u001b[1;32m    219\u001b[0m \u001b[38;5;28;01mif\u001b[39;00m data_labels \u001b[38;5;129;01mis\u001b[39;00m \u001b[38;5;28;01mNone\u001b[39;00m:\n\u001b[1;32m    220\u001b[0m     data_labels \u001b[38;5;241m=\u001b[39m [\u001b[38;5;124mf\u001b[39m\u001b[38;5;124m\"\u001b[39m\u001b[38;5;124m1D Spectrum \u001b[39m\u001b[38;5;132;01m{\u001b[39;00mi\u001b[38;5;132;01m}\u001b[39;00m\u001b[38;5;124m\"\u001b[39m \u001b[38;5;28;01mfor\u001b[39;00m i \u001b[38;5;129;01min\u001b[39;00m \u001b[38;5;28mrange\u001b[39m(\u001b[38;5;28mlen\u001b[39m(data_obj))]\n",
      "File \u001b[0;32m~/m31_jwst/venv/lib/python3.10/site-packages/jdaviz/configs/mosviz/plugins/parsers.py:217\u001b[0m, in \u001b[0;36m<listcomp>\u001b[0;34m(.0)\u001b[0m\n\u001b[1;32m    214\u001b[0m \u001b[38;5;28;01mif\u001b[39;00m \u001b[38;5;129;01mnot\u001b[39;00m \u001b[38;5;28misinstance\u001b[39m(data_obj, (\u001b[38;5;28mlist\u001b[39m, \u001b[38;5;28mtuple\u001b[39m, SpectrumCollection)):\n\u001b[1;32m    215\u001b[0m     data_obj \u001b[38;5;241m=\u001b[39m [data_obj]\n\u001b[0;32m--> 217\u001b[0m data_obj \u001b[38;5;241m=\u001b[39m [\u001b[43mSpectrum1D\u001b[49m\u001b[38;5;241;43m.\u001b[39;49m\u001b[43mread\u001b[49m\u001b[43m(\u001b[49m\u001b[43mx\u001b[49m\u001b[43m)\u001b[49m \u001b[38;5;28;01mif\u001b[39;00m _check_is_file(x) \u001b[38;5;28;01melse\u001b[39;00m x \u001b[38;5;28;01mfor\u001b[39;00m x \u001b[38;5;129;01min\u001b[39;00m data_obj]\n\u001b[1;32m    219\u001b[0m \u001b[38;5;28;01mif\u001b[39;00m data_labels \u001b[38;5;129;01mis\u001b[39;00m \u001b[38;5;28;01mNone\u001b[39;00m:\n\u001b[1;32m    220\u001b[0m     data_labels \u001b[38;5;241m=\u001b[39m [\u001b[38;5;124mf\u001b[39m\u001b[38;5;124m\"\u001b[39m\u001b[38;5;124m1D Spectrum \u001b[39m\u001b[38;5;132;01m{\u001b[39;00mi\u001b[38;5;132;01m}\u001b[39;00m\u001b[38;5;124m\"\u001b[39m \u001b[38;5;28;01mfor\u001b[39;00m i \u001b[38;5;129;01min\u001b[39;00m \u001b[38;5;28mrange\u001b[39m(\u001b[38;5;28mlen\u001b[39m(data_obj))]\n",
      "File \u001b[0;32m~/m31_jwst/venv/lib/python3.10/site-packages/astropy/nddata/mixins/ndio.py:59\u001b[0m, in \u001b[0;36mNDDataRead.__call__\u001b[0;34m(self, *args, **kwargs)\u001b[0m\n\u001b[1;32m     58\u001b[0m \u001b[38;5;28;01mdef\u001b[39;00m \u001b[38;5;21m__call__\u001b[39m(\u001b[38;5;28mself\u001b[39m, \u001b[38;5;241m*\u001b[39margs, \u001b[38;5;241m*\u001b[39m\u001b[38;5;241m*\u001b[39mkwargs):\n\u001b[0;32m---> 59\u001b[0m     \u001b[38;5;28;01mreturn\u001b[39;00m \u001b[38;5;28;43mself\u001b[39;49m\u001b[38;5;241;43m.\u001b[39;49m\u001b[43mregistry\u001b[49m\u001b[38;5;241;43m.\u001b[39;49m\u001b[43mread\u001b[49m\u001b[43m(\u001b[49m\u001b[38;5;28;43mself\u001b[39;49m\u001b[38;5;241;43m.\u001b[39;49m\u001b[43m_cls\u001b[49m\u001b[43m,\u001b[49m\u001b[43m \u001b[49m\u001b[38;5;241;43m*\u001b[39;49m\u001b[43margs\u001b[49m\u001b[43m,\u001b[49m\u001b[43m \u001b[49m\u001b[38;5;241;43m*\u001b[39;49m\u001b[38;5;241;43m*\u001b[39;49m\u001b[43mkwargs\u001b[49m\u001b[43m)\u001b[49m\n",
      "File \u001b[0;32m~/m31_jwst/venv/lib/python3.10/site-packages/astropy/io/registry/core.py:208\u001b[0m, in \u001b[0;36mUnifiedInputRegistry.read\u001b[0;34m(self, cls, format, cache, *args, **kwargs)\u001b[0m\n\u001b[1;32m    205\u001b[0m             path \u001b[38;5;241m=\u001b[39m \u001b[38;5;28;01mNone\u001b[39;00m\n\u001b[1;32m    206\u001b[0m             fileobj \u001b[38;5;241m=\u001b[39m args[\u001b[38;5;241m0\u001b[39m]\n\u001b[0;32m--> 208\u001b[0m     \u001b[38;5;28mformat\u001b[39m \u001b[38;5;241m=\u001b[39m \u001b[38;5;28;43mself\u001b[39;49m\u001b[38;5;241;43m.\u001b[39;49m\u001b[43m_get_valid_format\u001b[49m\u001b[43m(\u001b[49m\n\u001b[1;32m    209\u001b[0m \u001b[43m        \u001b[49m\u001b[38;5;124;43m'\u001b[39;49m\u001b[38;5;124;43mread\u001b[39;49m\u001b[38;5;124;43m'\u001b[39;49m\u001b[43m,\u001b[49m\u001b[43m \u001b[49m\u001b[38;5;28;43mcls\u001b[39;49m\u001b[43m,\u001b[49m\u001b[43m \u001b[49m\u001b[43mpath\u001b[49m\u001b[43m,\u001b[49m\u001b[43m \u001b[49m\u001b[43mfileobj\u001b[49m\u001b[43m,\u001b[49m\u001b[43m \u001b[49m\u001b[43margs\u001b[49m\u001b[43m,\u001b[49m\u001b[43m \u001b[49m\u001b[43mkwargs\u001b[49m\u001b[43m)\u001b[49m\n\u001b[1;32m    211\u001b[0m reader \u001b[38;5;241m=\u001b[39m \u001b[38;5;28mself\u001b[39m\u001b[38;5;241m.\u001b[39mget_reader(\u001b[38;5;28mformat\u001b[39m, \u001b[38;5;28mcls\u001b[39m)\n\u001b[1;32m    212\u001b[0m data \u001b[38;5;241m=\u001b[39m reader(\u001b[38;5;241m*\u001b[39margs, \u001b[38;5;241m*\u001b[39m\u001b[38;5;241m*\u001b[39mkwargs)\n",
      "File \u001b[0;32m~/m31_jwst/venv/lib/python3.10/site-packages/astropy/io/registry/base.py:337\u001b[0m, in \u001b[0;36m_UnifiedIORegistryBase._get_valid_format\u001b[0;34m(self, mode, cls, path, fileobj, args, kwargs)\u001b[0m\n\u001b[1;32m    335\u001b[0m \u001b[38;5;28;01mif\u001b[39;00m \u001b[38;5;28mlen\u001b[39m(valid_formats) \u001b[38;5;241m==\u001b[39m \u001b[38;5;241m0\u001b[39m:\n\u001b[1;32m    336\u001b[0m     format_table_str \u001b[38;5;241m=\u001b[39m \u001b[38;5;28mself\u001b[39m\u001b[38;5;241m.\u001b[39m_get_format_table_str(\u001b[38;5;28mcls\u001b[39m, mode\u001b[38;5;241m.\u001b[39mcapitalize())\n\u001b[0;32m--> 337\u001b[0m     \u001b[38;5;28;01mraise\u001b[39;00m IORegistryError(\u001b[38;5;124m\"\u001b[39m\u001b[38;5;124mFormat could not be identified based on the\u001b[39m\u001b[38;5;124m\"\u001b[39m\n\u001b[1;32m    338\u001b[0m                           \u001b[38;5;124m\"\u001b[39m\u001b[38;5;124m file name or contents, please provide a\u001b[39m\u001b[38;5;124m\"\u001b[39m\n\u001b[1;32m    339\u001b[0m                           \u001b[38;5;124m\"\u001b[39m\u001b[38;5;124m \u001b[39m\u001b[38;5;124m'\u001b[39m\u001b[38;5;124mformat\u001b[39m\u001b[38;5;124m'\u001b[39m\u001b[38;5;124m argument.\u001b[39m\u001b[38;5;130;01m\\n\u001b[39;00m\u001b[38;5;124m\"\u001b[39m\n\u001b[1;32m    340\u001b[0m                           \u001b[38;5;124m\"\u001b[39m\u001b[38;5;124mThe available formats are:\u001b[39m\u001b[38;5;130;01m\\n\u001b[39;00m\u001b[38;5;124m\"\u001b[39m\n\u001b[1;32m    341\u001b[0m                           \u001b[38;5;124m\"\u001b[39m\u001b[38;5;132;01m{}\u001b[39;00m\u001b[38;5;124m\"\u001b[39m\u001b[38;5;241m.\u001b[39mformat(format_table_str))\n\u001b[1;32m    342\u001b[0m \u001b[38;5;28;01melif\u001b[39;00m \u001b[38;5;28mlen\u001b[39m(valid_formats) \u001b[38;5;241m>\u001b[39m \u001b[38;5;241m1\u001b[39m:\n\u001b[1;32m    343\u001b[0m     \u001b[38;5;28;01mreturn\u001b[39;00m \u001b[38;5;28mself\u001b[39m\u001b[38;5;241m.\u001b[39m_get_highest_priority_format(mode, \u001b[38;5;28mcls\u001b[39m, valid_formats)\n",
      "\u001b[0;31mIORegistryError\u001b[0m: Format could not be identified based on the file name or contents, please provide a 'format' argument.\nThe available formats are:\n      Format      Read Write Auto-identify\n----------------- ---- ----- -------------\n      6dFGS-split  Yes    No           Yes\n    6dFGS-tabular  Yes    No           Yes\n    APOGEE apStar  Yes    No           Yes\n   APOGEE apVisit  Yes    No           Yes\nAPOGEE aspcapStar  Yes    No           Yes\n            ASCII  Yes    No           Yes\n             ECSV  Yes    No           Yes\n          HST/COS  Yes    No           Yes\n         HST/STIS  Yes    No           Yes\n             IPAC  Yes    No           Yes\n         JWST c1d  Yes    No           Yes\n         JWST s2d  Yes    No           Yes\n         JWST s3d  Yes    No           Yes\n         JWST x1d  Yes    No           Yes\n      MUSCLES SED  Yes    No           Yes\n       MaNGA cube  Yes    No           Yes\n        MaNGA rss  Yes    No           Yes\n     SDSS spPlate  Yes    No           Yes\n SDSS-I/II spSpec  Yes    No           Yes\n SDSS-III/IV spec  Yes    No           Yes\n Subaru-pfsObject  Yes    No           Yes\n             iraf  Yes    No           Yes\n     tabular-fits  Yes   Yes           Yes\n       wcs1d-fits  Yes   Yes           Yes"
     ]
    }
   ],
   "source": [
    "mv.load_spectra(results['Local Path'][1], \n",
    "                results['Local Path'][0])"
   ]
  },
  {
   "cell_type": "code",
   "execution_count": 9,
   "id": "ab2b2ea2-fcb7-4caa-977d-b1f3f2679ace",
   "metadata": {},
   "outputs": [
    {
     "name": "stderr",
     "output_type": "stream",
     "text": [
      "WARNING: UnitsWarning: '(MJy/sr)^2' did not parse as fits unit: Syntax error parsing unit '(MJy/sr)^2' If this is meant to be a custom unit, define it with 'u.def_unit'. To have it recognized inside a file reader or other code, enable it with 'u.add_enabled_units'. For details, see https://docs.astropy.org/en/latest/units/combining_and_defining.html [astropy.units.core]\n",
      "WARNING:astroquery:UnitsWarning: '(MJy/sr)^2' did not parse as fits unit: Syntax error parsing unit '(MJy/sr)^2' If this is meant to be a custom unit, define it with 'u.def_unit'. To have it recognized inside a file reader or other code, enable it with 'u.add_enabled_units'. For details, see https://docs.astropy.org/en/latest/units/combining_and_defining.html\n"
     ]
    },
    {
     "ename": "RuntimeError",
     "evalue": "Input data has 71 spectra. Use SpectrumList.read() instead.",
     "output_type": "error",
     "traceback": [
      "\u001b[0;31m---------------------------------------------------------------------------\u001b[0m",
      "\u001b[0;31mRuntimeError\u001b[0m                              Traceback (most recent call last)",
      "Cell \u001b[0;32mIn [9], line 1\u001b[0m\n\u001b[0;32m----> 1\u001b[0m \u001b[43mspecutils\u001b[49m\u001b[38;5;241;43m.\u001b[39;49m\u001b[43mSpectrumList\u001b[49m\u001b[38;5;241;43m.\u001b[39;49m\u001b[43mread\u001b[49m\u001b[43m(\u001b[49m\u001b[43mresults\u001b[49m\u001b[43m[\u001b[49m\u001b[38;5;124;43m'\u001b[39;49m\u001b[38;5;124;43mLocal Path\u001b[39;49m\u001b[38;5;124;43m'\u001b[39;49m\u001b[43m]\u001b[49m\u001b[43m[\u001b[49m\u001b[38;5;241;43m1\u001b[39;49m\u001b[43m]\u001b[49m\u001b[43m,\u001b[49m\u001b[43m \u001b[49m\u001b[38;5;28;43mformat\u001b[39;49m\u001b[38;5;241;43m=\u001b[39;49m\u001b[38;5;124;43m'\u001b[39;49m\u001b[38;5;124;43mJWST x1d\u001b[39;49m\u001b[38;5;124;43m'\u001b[39;49m\u001b[43m)\u001b[49m\n",
      "File \u001b[0;32m~/m31_jwst/venv/lib/python3.10/site-packages/astropy/nddata/mixins/ndio.py:59\u001b[0m, in \u001b[0;36mNDDataRead.__call__\u001b[0;34m(self, *args, **kwargs)\u001b[0m\n\u001b[1;32m     58\u001b[0m \u001b[38;5;28;01mdef\u001b[39;00m \u001b[38;5;21m__call__\u001b[39m(\u001b[38;5;28mself\u001b[39m, \u001b[38;5;241m*\u001b[39margs, \u001b[38;5;241m*\u001b[39m\u001b[38;5;241m*\u001b[39mkwargs):\n\u001b[0;32m---> 59\u001b[0m     \u001b[38;5;28;01mreturn\u001b[39;00m \u001b[38;5;28;43mself\u001b[39;49m\u001b[38;5;241;43m.\u001b[39;49m\u001b[43mregistry\u001b[49m\u001b[38;5;241;43m.\u001b[39;49m\u001b[43mread\u001b[49m\u001b[43m(\u001b[49m\u001b[38;5;28;43mself\u001b[39;49m\u001b[38;5;241;43m.\u001b[39;49m\u001b[43m_cls\u001b[49m\u001b[43m,\u001b[49m\u001b[43m \u001b[49m\u001b[38;5;241;43m*\u001b[39;49m\u001b[43margs\u001b[49m\u001b[43m,\u001b[49m\u001b[43m \u001b[49m\u001b[38;5;241;43m*\u001b[39;49m\u001b[38;5;241;43m*\u001b[39;49m\u001b[43mkwargs\u001b[49m\u001b[43m)\u001b[49m\n",
      "File \u001b[0;32m~/m31_jwst/venv/lib/python3.10/site-packages/astropy/io/registry/core.py:212\u001b[0m, in \u001b[0;36mUnifiedInputRegistry.read\u001b[0;34m(self, cls, format, cache, *args, **kwargs)\u001b[0m\n\u001b[1;32m    208\u001b[0m     \u001b[38;5;28mformat\u001b[39m \u001b[38;5;241m=\u001b[39m \u001b[38;5;28mself\u001b[39m\u001b[38;5;241m.\u001b[39m_get_valid_format(\n\u001b[1;32m    209\u001b[0m         \u001b[38;5;124m'\u001b[39m\u001b[38;5;124mread\u001b[39m\u001b[38;5;124m'\u001b[39m, \u001b[38;5;28mcls\u001b[39m, path, fileobj, args, kwargs)\n\u001b[1;32m    211\u001b[0m reader \u001b[38;5;241m=\u001b[39m \u001b[38;5;28mself\u001b[39m\u001b[38;5;241m.\u001b[39mget_reader(\u001b[38;5;28mformat\u001b[39m, \u001b[38;5;28mcls\u001b[39m)\n\u001b[0;32m--> 212\u001b[0m data \u001b[38;5;241m=\u001b[39m \u001b[43mreader\u001b[49m\u001b[43m(\u001b[49m\u001b[38;5;241;43m*\u001b[39;49m\u001b[43margs\u001b[49m\u001b[43m,\u001b[49m\u001b[43m \u001b[49m\u001b[38;5;241;43m*\u001b[39;49m\u001b[38;5;241;43m*\u001b[39;49m\u001b[43mkwargs\u001b[49m\u001b[43m)\u001b[49m\n\u001b[1;32m    214\u001b[0m \u001b[38;5;28;01mif\u001b[39;00m \u001b[38;5;129;01mnot\u001b[39;00m \u001b[38;5;28misinstance\u001b[39m(data, \u001b[38;5;28mcls\u001b[39m):\n\u001b[1;32m    215\u001b[0m     \u001b[38;5;66;03m# User has read with a subclass where only the parent class is\u001b[39;00m\n\u001b[1;32m    216\u001b[0m     \u001b[38;5;66;03m# registered.  This returns the parent class, so try coercing\u001b[39;00m\n\u001b[1;32m    217\u001b[0m     \u001b[38;5;66;03m# to desired subclass.\u001b[39;00m\n\u001b[1;32m    218\u001b[0m     \u001b[38;5;28;01mtry\u001b[39;00m:\n",
      "File \u001b[0;32m~/m31_jwst/venv/lib/python3.10/site-packages/specutils/io/registers.py:113\u001b[0m, in \u001b[0;36mdata_loader.<locals>.decorator.<locals>.load_spectrum_list\u001b[0;34m(*args, **kwargs)\u001b[0m\n\u001b[1;32m    112\u001b[0m \u001b[38;5;28;01mdef\u001b[39;00m \u001b[38;5;21mload_spectrum_list\u001b[39m(\u001b[38;5;241m*\u001b[39margs, \u001b[38;5;241m*\u001b[39m\u001b[38;5;241m*\u001b[39mkwargs):\n\u001b[0;32m--> 113\u001b[0m     \u001b[38;5;28;01mreturn\u001b[39;00m SpectrumList([ \u001b[43mfunc\u001b[49m\u001b[43m(\u001b[49m\u001b[38;5;241;43m*\u001b[39;49m\u001b[43margs\u001b[49m\u001b[43m,\u001b[49m\u001b[43m \u001b[49m\u001b[38;5;241;43m*\u001b[39;49m\u001b[38;5;241;43m*\u001b[39;49m\u001b[43mkwargs\u001b[49m\u001b[43m)\u001b[49m ])\n",
      "File \u001b[0;32m~/m31_jwst/venv/lib/python3.10/site-packages/specutils/io/default_loaders/jwst_reader.py:202\u001b[0m, in \u001b[0;36mjwst_x1d_single_loader\u001b[0;34m(file_obj, **kwargs)\u001b[0m\n\u001b[1;32m    200\u001b[0m     \u001b[38;5;28;01mreturn\u001b[39;00m spectrum_list[\u001b[38;5;241m0\u001b[39m]\n\u001b[1;32m    201\u001b[0m \u001b[38;5;28;01melse\u001b[39;00m:\n\u001b[0;32m--> 202\u001b[0m     \u001b[38;5;28;01mraise\u001b[39;00m \u001b[38;5;167;01mRuntimeError\u001b[39;00m(\u001b[38;5;124mf\u001b[39m\u001b[38;5;124m\"\u001b[39m\u001b[38;5;124mInput data has \u001b[39m\u001b[38;5;132;01m{\u001b[39;00m\u001b[38;5;28mlen\u001b[39m(spectrum_list)\u001b[38;5;132;01m}\u001b[39;00m\u001b[38;5;124m spectra. \u001b[39m\u001b[38;5;124m\"\u001b[39m\n\u001b[1;32m    203\u001b[0m                        \u001b[38;5;124m\"\u001b[39m\u001b[38;5;124mUse SpectrumList.read() instead.\u001b[39m\u001b[38;5;124m\"\u001b[39m)\n",
      "\u001b[0;31mRuntimeError\u001b[0m: Input data has 71 spectra. Use SpectrumList.read() instead."
     ]
    }
   ],
   "source": [
    "specutils.SpectrumList.read(results['Local Path'][1], format='JWST x1d')"
   ]
  },
  {
   "cell_type": "markdown",
   "id": "8de28ace-bd80-4e5b-b098-42ed52abc29a",
   "metadata": {},
   "source": [
    "Hmm... loaders don't work out of the box.  What about manual loading?"
   ]
  },
  {
   "cell_type": "code",
   "execution_count": 8,
   "id": "a2bad8a0-2b59-4407-9e9c-db95fdac44a2",
   "metadata": {},
   "outputs": [],
   "source": [
    "s2ddm = datamodels.open(results['Local Path'][0])\n",
    "x1df = fits.open(results['Local Path'][1])"
   ]
  },
  {
   "cell_type": "code",
   "execution_count": 30,
   "id": "12c67f6c-1a85-4593-ae76-f40ddc2a1a05",
   "metadata": {},
   "outputs": [
    {
     "name": "stderr",
     "output_type": "stream",
     "text": [
      "WARNING:py.warnings:/home/erik/m31_jwst/venv/lib/python3.10/site-packages/astropy/units/core.py:2042: UnitsWarning: '(MJy/sr)^2' did not parse as fits unit: Syntax error parsing unit '(MJy/sr)^2' If this is meant to be a custom unit, define it with 'u.def_unit'. To have it recognized inside a file reader or other code, enable it with 'u.add_enabled_units'. For details, see https://docs.astropy.org/en/latest/units/combining_and_defining.html\n",
      "  warnings.warn(msg, UnitsWarning)\n",
      "\n",
      "2022-10-28 17:17:01,788 - stpipe - WARNING - /home/erik/m31_jwst/venv/lib/python3.10/site-packages/astropy/units/core.py:2042: UnitsWarning: '(MJy/sr)^2' did not parse as fits unit: Syntax error parsing unit '(MJy/sr)^2' If this is meant to be a custom unit, define it with 'u.def_unit'. To have it recognized inside a file reader or other code, enable it with 'u.add_enabled_units'. For details, see https://docs.astropy.org/en/latest/units/combining_and_defining.html\n",
      "  warnings.warn(msg, UnitsWarning)\n",
      "\n",
      "WARNING:stpipe:/home/erik/m31_jwst/venv/lib/python3.10/site-packages/astropy/units/core.py:2042: UnitsWarning: '(MJy/sr)^2' did not parse as fits unit: Syntax error parsing unit '(MJy/sr)^2' If this is meant to be a custom unit, define it with 'u.def_unit'. To have it recognized inside a file reader or other code, enable it with 'u.add_enabled_units'. For details, see https://docs.astropy.org/en/latest/units/combining_and_defining.html\n",
      "  warnings.warn(msg, UnitsWarning)\n",
      "\n"
     ]
    }
   ],
   "source": [
    "specs1d = []\n",
    "for hdu in x1df[1:-1]:\n",
    "    qt = table.QTable.read(hdu)\n",
    "    spec = specutils.Spectrum1D(spectral_axis=qt['WAVELENGTH'], \n",
    "                         flux=qt['FLUX'], meta=qt.meta)\n",
    "    specs1d.append(spec)"
   ]
  },
  {
   "cell_type": "code",
   "execution_count": 11,
   "id": "440a42f6-6436-4a53-b15a-33831b21cdd6",
   "metadata": {},
   "outputs": [],
   "source": [
    "specs2d = []\n",
    "for s in s2ddm.slits:\n",
    "    sc = specutils.SpectrumCollection(flux=s.data*u.Unit(s.meta.bunit_data), \n",
    "                                      wcs=s.meta.wcs)\n",
    "    sc._meta = {}\n",
    "    specs2d.append(sc)"
   ]
  },
  {
   "cell_type": "code",
   "execution_count": 12,
   "id": "d6498204-103e-48e1-b053-b7dff2f8a5e2",
   "metadata": {},
   "outputs": [
    {
     "ename": "TypeError",
     "evalue": "Could not find a class to translate objects of type SpectrumCollection to Data",
     "output_type": "error",
     "traceback": [
      "\u001b[0;31m---------------------------------------------------------------------------\u001b[0m",
      "\u001b[0;31mTypeError\u001b[0m                                 Traceback (most recent call last)",
      "Cell \u001b[0;32mIn [12], line 1\u001b[0m\n\u001b[0;32m----> 1\u001b[0m \u001b[43mmv\u001b[49m\u001b[38;5;241;43m.\u001b[39;49m\u001b[43mload_data\u001b[49m\u001b[43m(\u001b[49m\u001b[43mspecs1d\u001b[49m\u001b[43m,\u001b[49m\u001b[43m \u001b[49m\u001b[43mspecs2d\u001b[49m\u001b[43m)\u001b[49m\n",
      "File \u001b[0;32m~/m31_jwst/venv/lib/python3.10/site-packages/jdaviz/configs/mosviz/helper.py:460\u001b[0m, in \u001b[0;36mMosviz.load_data\u001b[0;34m(self, spectra_1d, spectra_2d, images, spectra_1d_label, spectra_2d_label, images_label, *args, **kwargs)\u001b[0m\n\u001b[1;32m    457\u001b[0m     \u001b[38;5;28mself\u001b[39m\u001b[38;5;241m.\u001b[39mload_metadata(spectra_2d, spectra\u001b[38;5;241m=\u001b[39m\u001b[38;5;28;01mTrue\u001b[39;00m)\n\u001b[1;32m    459\u001b[0m \u001b[38;5;28;01melif\u001b[39;00m spectra_1d \u001b[38;5;129;01mis\u001b[39;00m \u001b[38;5;129;01mnot\u001b[39;00m \u001b[38;5;28;01mNone\u001b[39;00m \u001b[38;5;129;01mand\u001b[39;00m spectra_2d \u001b[38;5;129;01mis\u001b[39;00m \u001b[38;5;129;01mnot\u001b[39;00m \u001b[38;5;28;01mNone\u001b[39;00m:\n\u001b[0;32m--> 460\u001b[0m     \u001b[38;5;28;43mself\u001b[39;49m\u001b[38;5;241;43m.\u001b[39;49m\u001b[43mload_2d_spectra\u001b[49m\u001b[43m(\u001b[49m\u001b[43mspectra_2d\u001b[49m\u001b[43m,\u001b[49m\u001b[43m \u001b[49m\u001b[43mspectra_2d_label\u001b[49m\u001b[43m)\u001b[49m\n\u001b[1;32m    461\u001b[0m     \u001b[38;5;28mself\u001b[39m\u001b[38;5;241m.\u001b[39mload_1d_spectra(spectra_1d, spectra_1d_label)\n\u001b[1;32m    462\u001b[0m     \u001b[38;5;28mself\u001b[39m\u001b[38;5;241m.\u001b[39mload_metadata(spectra_2d, spectra\u001b[38;5;241m=\u001b[39m\u001b[38;5;28;01mTrue\u001b[39;00m)\n",
      "File \u001b[0;32m~/m31_jwst/venv/lib/python3.10/site-packages/jdaviz/configs/mosviz/helper.py:596\u001b[0m, in \u001b[0;36mMosviz.load_2d_spectra\u001b[0;34m(self, data_obj, data_labels)\u001b[0m\n\u001b[1;32m    581\u001b[0m \u001b[38;5;28;01mdef\u001b[39;00m \u001b[38;5;21mload_2d_spectra\u001b[39m(\u001b[38;5;28mself\u001b[39m, data_obj, data_labels\u001b[38;5;241m=\u001b[39m\u001b[38;5;28;01mNone\u001b[39;00m):\n\u001b[1;32m    582\u001b[0m     \u001b[38;5;124;03m\"\"\"\u001b[39;00m\n\u001b[1;32m    583\u001b[0m \u001b[38;5;124;03m    Load and parse a set of 2D spectra objects.\u001b[39;00m\n\u001b[1;32m    584\u001b[0m \n\u001b[0;32m   (...)\u001b[0m\n\u001b[1;32m    594\u001b[0m \u001b[38;5;124;03m        for each item in ``data_obj`` if  ``data_obj`` is a list.\u001b[39;00m\n\u001b[1;32m    595\u001b[0m \u001b[38;5;124;03m    \"\"\"\u001b[39;00m\n\u001b[0;32m--> 596\u001b[0m     \u001b[38;5;28;43msuper\u001b[39;49m\u001b[43m(\u001b[49m\u001b[43m)\u001b[49m\u001b[38;5;241;43m.\u001b[39;49m\u001b[43mload_data\u001b[49m\u001b[43m(\u001b[49m\u001b[43mdata_obj\u001b[49m\u001b[43m,\u001b[49m\u001b[43m \u001b[49m\u001b[43mparser_reference\u001b[49m\u001b[38;5;241;43m=\u001b[39;49m\u001b[38;5;124;43m\"\u001b[39;49m\u001b[38;5;124;43mmosviz-spec2d-parser\u001b[39;49m\u001b[38;5;124;43m\"\u001b[39;49m\u001b[43m,\u001b[49m\n\u001b[1;32m    597\u001b[0m \u001b[43m                      \u001b[49m\u001b[43mdata_labels\u001b[49m\u001b[38;5;241;43m=\u001b[39;49m\u001b[43mdata_labels\u001b[49m\u001b[43m)\u001b[49m\n\u001b[1;32m    598\u001b[0m     \u001b[38;5;28mself\u001b[39m\u001b[38;5;241m.\u001b[39m_add_redshift_column()\n",
      "File \u001b[0;32m~/m31_jwst/venv/lib/python3.10/site-packages/jdaviz/core/helpers.py:104\u001b[0m, in \u001b[0;36mConfigHelper.load_data\u001b[0;34m(self, data, data_label, parser_reference, **kwargs)\u001b[0m\n\u001b[1;32m    102\u001b[0m \u001b[38;5;28;01mif\u001b[39;00m data_label:\n\u001b[1;32m    103\u001b[0m     kwargs[\u001b[38;5;124m'\u001b[39m\u001b[38;5;124mdata_label\u001b[39m\u001b[38;5;124m'\u001b[39m] \u001b[38;5;241m=\u001b[39m data_label\n\u001b[0;32m--> 104\u001b[0m \u001b[38;5;28;43mself\u001b[39;49m\u001b[38;5;241;43m.\u001b[39;49m\u001b[43mapp\u001b[49m\u001b[38;5;241;43m.\u001b[39;49m\u001b[43mload_data\u001b[49m\u001b[43m(\u001b[49m\u001b[43mdata\u001b[49m\u001b[43m,\u001b[49m\u001b[43m \u001b[49m\u001b[43mparser_reference\u001b[49m\u001b[38;5;241;43m=\u001b[39;49m\u001b[43mparser_reference\u001b[49m\u001b[43m,\u001b[49m\u001b[43m \u001b[49m\u001b[38;5;241;43m*\u001b[39;49m\u001b[38;5;241;43m*\u001b[39;49m\u001b[43mkwargs\u001b[49m\u001b[43m)\u001b[49m\n",
      "File \u001b[0;32m~/m31_jwst/venv/lib/python3.10/site-packages/jdaviz/app.py:529\u001b[0m, in \u001b[0;36mApplication.load_data\u001b[0;34m(self, file_obj, parser_reference, **kwargs)\u001b[0m\n\u001b[1;32m    524\u001b[0m         parser \u001b[38;5;241m=\u001b[39m data_parser_registry\u001b[38;5;241m.\u001b[39mmembers\u001b[38;5;241m.\u001b[39mget(data_parser)\n\u001b[1;32m    526\u001b[0m \u001b[38;5;28;01mif\u001b[39;00m parser \u001b[38;5;129;01mis\u001b[39;00m \u001b[38;5;129;01mnot\u001b[39;00m \u001b[38;5;28;01mNone\u001b[39;00m:\n\u001b[1;32m    527\u001b[0m     \u001b[38;5;66;03m# If the parser returns something other than known, assume it's\u001b[39;00m\n\u001b[1;32m    528\u001b[0m     \u001b[38;5;66;03m#  a message we want to make the user aware of.\u001b[39;00m\n\u001b[0;32m--> 529\u001b[0m     msg \u001b[38;5;241m=\u001b[39m \u001b[43mparser\u001b[49m\u001b[43m(\u001b[49m\u001b[38;5;28;43mself\u001b[39;49m\u001b[43m,\u001b[49m\u001b[43m \u001b[49m\u001b[43mfile_obj\u001b[49m\u001b[43m,\u001b[49m\u001b[43m \u001b[49m\u001b[38;5;241;43m*\u001b[39;49m\u001b[38;5;241;43m*\u001b[39;49m\u001b[43mkwargs\u001b[49m\u001b[43m)\u001b[49m\n\u001b[1;32m    531\u001b[0m     \u001b[38;5;28;01mif\u001b[39;00m msg \u001b[38;5;129;01mis\u001b[39;00m \u001b[38;5;129;01mnot\u001b[39;00m \u001b[38;5;28;01mNone\u001b[39;00m:\n\u001b[1;32m    532\u001b[0m         snackbar_message \u001b[38;5;241m=\u001b[39m SnackbarMessage(\n\u001b[1;32m    533\u001b[0m             msg, color\u001b[38;5;241m=\u001b[39m\u001b[38;5;124m'\u001b[39m\u001b[38;5;124merror\u001b[39m\u001b[38;5;124m'\u001b[39m, sender\u001b[38;5;241m=\u001b[39m\u001b[38;5;28mself\u001b[39m)\n",
      "File \u001b[0;32m~/m31_jwst/venv/lib/python3.10/site-packages/jdaviz/configs/mosviz/plugins/parsers.py:341\u001b[0m, in \u001b[0;36mmos_spec2d_parser\u001b[0;34m(app, data_obj, data_labels, add_to_table, show_in_viewer, ext, transpose)\u001b[0m\n\u001b[1;32m    339\u001b[0m     \u001b[38;5;66;03m# Get the corresponding label for this data product\u001b[39;00m\n\u001b[1;32m    340\u001b[0m     label \u001b[38;5;241m=\u001b[39m data_labels[index]\n\u001b[0;32m--> 341\u001b[0m     \u001b[43mapp\u001b[49m\u001b[38;5;241;43m.\u001b[39;49m\u001b[43mdata_collection\u001b[49m\u001b[43m[\u001b[49m\u001b[43mlabel\u001b[49m\u001b[43m]\u001b[49m \u001b[38;5;241m=\u001b[39m data\n\u001b[1;32m    343\u001b[0m \u001b[38;5;28;01mif\u001b[39;00m add_to_table:\n\u001b[1;32m    344\u001b[0m     _add_to_table(\n\u001b[1;32m    345\u001b[0m         app, data_labels, \u001b[38;5;124m'\u001b[39m\u001b[38;5;124m2D Spectra\u001b[39m\u001b[38;5;124m'\u001b[39m,\n\u001b[1;32m    346\u001b[0m         table_viewer_reference_name\u001b[38;5;241m=\u001b[39mtable_viewer_reference_name\n\u001b[1;32m    347\u001b[0m     )\n",
      "File \u001b[0;32m~/m31_jwst/venv/lib/python3.10/site-packages/glue/core/data_collection.py:429\u001b[0m, in \u001b[0;36mDataCollection.__setitem__\u001b[0;34m(self, key, data)\u001b[0m\n\u001b[1;32m    425\u001b[0m     \u001b[38;5;28;01mraise\u001b[39;00m \u001b[38;5;167;01mTypeError\u001b[39;00m(\u001b[38;5;124m\"\u001b[39m\u001b[38;5;124mitem key should be a string, but got \u001b[39m\u001b[38;5;132;01m{0}\u001b[39;00m\u001b[38;5;124m\"\u001b[39m\u001b[38;5;241m.\u001b[39mformat(\u001b[38;5;28mtype\u001b[39m(key)))\n\u001b[1;32m    427\u001b[0m \u001b[38;5;28;01mif\u001b[39;00m \u001b[38;5;129;01mnot\u001b[39;00m \u001b[38;5;28misinstance\u001b[39m(data, Data):\n\u001b[0;32m--> 429\u001b[0m     handler, preferred \u001b[38;5;241m=\u001b[39m \u001b[43mdata_translator\u001b[49m\u001b[38;5;241;43m.\u001b[39;49m\u001b[43mget_handler_for\u001b[49m\u001b[43m(\u001b[49m\u001b[43mdata\u001b[49m\u001b[43m)\u001b[49m\n\u001b[1;32m    431\u001b[0m     data \u001b[38;5;241m=\u001b[39m handler\u001b[38;5;241m.\u001b[39mto_data(data)\n\u001b[1;32m    432\u001b[0m     data\u001b[38;5;241m.\u001b[39m_preferred_translation \u001b[38;5;241m=\u001b[39m preferred\n",
      "File \u001b[0;32m~/m31_jwst/venv/lib/python3.10/site-packages/glue/config.py:567\u001b[0m, in \u001b[0;36mDataTranslatorRegistry.get_handler_for\u001b[0;34m(self, data_or_class)\u001b[0m\n\u001b[1;32m    564\u001b[0m         \u001b[38;5;28;01mraise\u001b[39;00m \u001b[38;5;167;01mTypeError\u001b[39;00m(\u001b[38;5;124m\"\u001b[39m\u001b[38;5;124mCould not find a class to translate objects of \u001b[39m\u001b[38;5;124m\"\u001b[39m\n\u001b[1;32m    565\u001b[0m                         \u001b[38;5;124m\"\u001b[39m\u001b[38;5;124mtype Data to \u001b[39m\u001b[38;5;132;01m{0}\u001b[39;00m\u001b[38;5;124m\"\u001b[39m\u001b[38;5;241m.\u001b[39mformat(data_or_class\u001b[38;5;241m.\u001b[39m\u001b[38;5;18m__name__\u001b[39m))\n\u001b[1;32m    566\u001b[0m     \u001b[38;5;28;01melse\u001b[39;00m:\n\u001b[0;32m--> 567\u001b[0m         \u001b[38;5;28;01mraise\u001b[39;00m \u001b[38;5;167;01mTypeError\u001b[39;00m(\u001b[38;5;124m\"\u001b[39m\u001b[38;5;124mCould not find a class to translate objects of \u001b[39m\u001b[38;5;124m\"\u001b[39m\n\u001b[1;32m    568\u001b[0m                         \u001b[38;5;124m\"\u001b[39m\u001b[38;5;124mtype \u001b[39m\u001b[38;5;132;01m{0}\u001b[39;00m\u001b[38;5;124m to Data\u001b[39m\u001b[38;5;124m\"\u001b[39m\u001b[38;5;241m.\u001b[39mformat(data_or_class\u001b[38;5;241m.\u001b[39m\u001b[38;5;18m__class__\u001b[39m\u001b[38;5;241m.\u001b[39m\u001b[38;5;18m__name__\u001b[39m))\n\u001b[1;32m    569\u001b[0m \u001b[38;5;28;01mreturn\u001b[39;00m handler, preferred\n",
      "\u001b[0;31mTypeError\u001b[0m: Could not find a class to translate objects of type SpectrumCollection to Data"
     ]
    }
   ],
   "source": [
    "mv.load_data(specs1d, specs2d)"
   ]
  },
  {
   "cell_type": "markdown",
   "id": "5719b840-8adb-4678-9616-0cd92d561647",
   "metadata": {},
   "source": [
    "OK so apparently `SpectrumCollection` can't be used.  What about just the 1D part?"
   ]
  },
  {
   "cell_type": "code",
   "execution_count": 15,
   "id": "338016e2-5fe8-4549-873b-cfcc22ff2b7e",
   "metadata": {},
   "outputs": [
    {
     "ename": "ValueError",
     "evalue": "No data found with the label 'MOS Table'",
     "output_type": "error",
     "traceback": [
      "\u001b[0;31m---------------------------------------------------------------------------\u001b[0m",
      "\u001b[0;31mValueError\u001b[0m                                Traceback (most recent call last)",
      "Cell \u001b[0;32mIn [15], line 1\u001b[0m\n\u001b[0;32m----> 1\u001b[0m \u001b[43mmv\u001b[49m\u001b[38;5;241;43m.\u001b[39;49m\u001b[43mload_data\u001b[49m\u001b[43m(\u001b[49m\u001b[43mspecs1d\u001b[49m\u001b[43m)\u001b[49m\n",
      "File \u001b[0;32m~/m31_jwst/venv/lib/python3.10/site-packages/jdaviz/configs/mosviz/helper.py:472\u001b[0m, in \u001b[0;36mMosviz.load_data\u001b[0;34m(self, spectra_1d, spectra_2d, images, spectra_1d_label, spectra_2d_label, images_label, *args, **kwargs)\u001b[0m\n\u001b[1;32m    469\u001b[0m     msg \u001b[38;5;241m=\u001b[39m SnackbarMessage(msg, color\u001b[38;5;241m=\u001b[39m\u001b[38;5;124m'\u001b[39m\u001b[38;5;124mwarning\u001b[39m\u001b[38;5;124m'\u001b[39m, sender\u001b[38;5;241m=\u001b[39m\u001b[38;5;28mself\u001b[39m)\n\u001b[1;32m    470\u001b[0m     \u001b[38;5;28mself\u001b[39m\u001b[38;5;241m.\u001b[39mapp\u001b[38;5;241m.\u001b[39mhub\u001b[38;5;241m.\u001b[39mbroadcast(msg)\n\u001b[0;32m--> 472\u001b[0m \u001b[38;5;28;43mself\u001b[39;49m\u001b[38;5;241;43m.\u001b[39;49m\u001b[43mlink_table_data\u001b[49m\u001b[43m(\u001b[49m\u001b[38;5;28;43;01mNone\u001b[39;49;00m\u001b[43m)\u001b[49m\n\u001b[1;32m    474\u001b[0m \u001b[38;5;28mself\u001b[39m\u001b[38;5;241m.\u001b[39m_add_redshift_column()\n\u001b[1;32m    476\u001b[0m \u001b[38;5;66;03m# Any subsequently added data will automatically be linked\u001b[39;00m\n\u001b[1;32m    477\u001b[0m \u001b[38;5;66;03m# with data already loaded in the app\u001b[39;00m\n",
      "File \u001b[0;32m~/m31_jwst/venv/lib/python3.10/site-packages/jdaviz/configs/mosviz/helper.py:507\u001b[0m, in \u001b[0;36mMosviz.link_table_data\u001b[0;34m(self, data_obj)\u001b[0m\n\u001b[1;32m    497\u001b[0m \u001b[38;5;28;01mdef\u001b[39;00m \u001b[38;5;21mlink_table_data\u001b[39m(\u001b[38;5;28mself\u001b[39m, data_obj):\n\u001b[1;32m    498\u001b[0m     \u001b[38;5;124;03m\"\"\"\u001b[39;00m\n\u001b[1;32m    499\u001b[0m \u001b[38;5;124;03m    Batch link data in the Mosviz table rather than doing it on\u001b[39;00m\n\u001b[1;32m    500\u001b[0m \u001b[38;5;124;03m    data load.\u001b[39;00m\n\u001b[0;32m   (...)\u001b[0m\n\u001b[1;32m    505\u001b[0m \u001b[38;5;124;03m        Input for Mosviz data parsers.\u001b[39;00m\n\u001b[1;32m    506\u001b[0m \u001b[38;5;124;03m    \"\"\"\u001b[39;00m\n\u001b[0;32m--> 507\u001b[0m     \u001b[38;5;28;43msuper\u001b[39;49m\u001b[43m(\u001b[49m\u001b[43m)\u001b[49m\u001b[38;5;241;43m.\u001b[39;49m\u001b[43mload_data\u001b[49m\u001b[43m(\u001b[49m\u001b[43mdata_obj\u001b[49m\u001b[43m,\u001b[49m\u001b[43m \u001b[49m\u001b[43mparser_reference\u001b[49m\u001b[38;5;241;43m=\u001b[39;49m\u001b[38;5;124;43m\"\u001b[39;49m\u001b[38;5;124;43mmosviz-link-data\u001b[39;49m\u001b[38;5;124;43m\"\u001b[39;49m\u001b[43m)\u001b[49m\n",
      "File \u001b[0;32m~/m31_jwst/venv/lib/python3.10/site-packages/jdaviz/core/helpers.py:104\u001b[0m, in \u001b[0;36mConfigHelper.load_data\u001b[0;34m(self, data, data_label, parser_reference, **kwargs)\u001b[0m\n\u001b[1;32m    102\u001b[0m \u001b[38;5;28;01mif\u001b[39;00m data_label:\n\u001b[1;32m    103\u001b[0m     kwargs[\u001b[38;5;124m'\u001b[39m\u001b[38;5;124mdata_label\u001b[39m\u001b[38;5;124m'\u001b[39m] \u001b[38;5;241m=\u001b[39m data_label\n\u001b[0;32m--> 104\u001b[0m \u001b[38;5;28;43mself\u001b[39;49m\u001b[38;5;241;43m.\u001b[39;49m\u001b[43mapp\u001b[49m\u001b[38;5;241;43m.\u001b[39;49m\u001b[43mload_data\u001b[49m\u001b[43m(\u001b[49m\u001b[43mdata\u001b[49m\u001b[43m,\u001b[49m\u001b[43m \u001b[49m\u001b[43mparser_reference\u001b[49m\u001b[38;5;241;43m=\u001b[39;49m\u001b[43mparser_reference\u001b[49m\u001b[43m,\u001b[49m\u001b[43m \u001b[49m\u001b[38;5;241;43m*\u001b[39;49m\u001b[38;5;241;43m*\u001b[39;49m\u001b[43mkwargs\u001b[49m\u001b[43m)\u001b[49m\n",
      "File \u001b[0;32m~/m31_jwst/venv/lib/python3.10/site-packages/jdaviz/app.py:529\u001b[0m, in \u001b[0;36mApplication.load_data\u001b[0;34m(self, file_obj, parser_reference, **kwargs)\u001b[0m\n\u001b[1;32m    524\u001b[0m         parser \u001b[38;5;241m=\u001b[39m data_parser_registry\u001b[38;5;241m.\u001b[39mmembers\u001b[38;5;241m.\u001b[39mget(data_parser)\n\u001b[1;32m    526\u001b[0m \u001b[38;5;28;01mif\u001b[39;00m parser \u001b[38;5;129;01mis\u001b[39;00m \u001b[38;5;129;01mnot\u001b[39;00m \u001b[38;5;28;01mNone\u001b[39;00m:\n\u001b[1;32m    527\u001b[0m     \u001b[38;5;66;03m# If the parser returns something other than known, assume it's\u001b[39;00m\n\u001b[1;32m    528\u001b[0m     \u001b[38;5;66;03m#  a message we want to make the user aware of.\u001b[39;00m\n\u001b[0;32m--> 529\u001b[0m     msg \u001b[38;5;241m=\u001b[39m \u001b[43mparser\u001b[49m\u001b[43m(\u001b[49m\u001b[38;5;28;43mself\u001b[39;49m\u001b[43m,\u001b[49m\u001b[43m \u001b[49m\u001b[43mfile_obj\u001b[49m\u001b[43m,\u001b[49m\u001b[43m \u001b[49m\u001b[38;5;241;43m*\u001b[39;49m\u001b[38;5;241;43m*\u001b[39;49m\u001b[43mkwargs\u001b[49m\u001b[43m)\u001b[49m\n\u001b[1;32m    531\u001b[0m     \u001b[38;5;28;01mif\u001b[39;00m msg \u001b[38;5;129;01mis\u001b[39;00m \u001b[38;5;129;01mnot\u001b[39;00m \u001b[38;5;28;01mNone\u001b[39;00m:\n\u001b[1;32m    532\u001b[0m         snackbar_message \u001b[38;5;241m=\u001b[39m SnackbarMessage(\n\u001b[1;32m    533\u001b[0m             msg, color\u001b[38;5;241m=\u001b[39m\u001b[38;5;124m'\u001b[39m\u001b[38;5;124merror\u001b[39m\u001b[38;5;124m'\u001b[39m, sender\u001b[38;5;241m=\u001b[39m\u001b[38;5;28mself\u001b[39m)\n",
      "File \u001b[0;32m~/m31_jwst/venv/lib/python3.10/site-packages/jdaviz/configs/mosviz/plugins/parsers.py:114\u001b[0m, in \u001b[0;36mlink_data_in_table\u001b[0;34m(app, data_obj)\u001b[0m\n\u001b[1;32m    101\u001b[0m \u001b[38;5;129m@data_parser_registry\u001b[39m(\u001b[38;5;124m\"\u001b[39m\u001b[38;5;124mmosviz-link-data\u001b[39m\u001b[38;5;124m\"\u001b[39m)\n\u001b[1;32m    102\u001b[0m \u001b[38;5;28;01mdef\u001b[39;00m \u001b[38;5;21mlink_data_in_table\u001b[39m(app, data_obj\u001b[38;5;241m=\u001b[39m\u001b[38;5;28;01mNone\u001b[39;00m):\n\u001b[1;32m    103\u001b[0m     \u001b[38;5;124;03m\"\"\"\u001b[39;00m\n\u001b[1;32m    104\u001b[0m \u001b[38;5;124;03m    Batch links data in the mosviz table viewer.\u001b[39;00m\n\u001b[1;32m    105\u001b[0m \n\u001b[0;32m   (...)\u001b[0m\n\u001b[1;32m    112\u001b[0m \u001b[38;5;124;03m        not used.\u001b[39;00m\n\u001b[1;32m    113\u001b[0m \u001b[38;5;124;03m    \"\"\"\u001b[39;00m\n\u001b[0;32m--> 114\u001b[0m     mos_data \u001b[38;5;241m=\u001b[39m \u001b[43mapp\u001b[49m\u001b[38;5;241;43m.\u001b[39;49m\u001b[43msession\u001b[49m\u001b[38;5;241;43m.\u001b[39;49m\u001b[43mdata_collection\u001b[49m\u001b[43m[\u001b[49m\u001b[38;5;124;43m'\u001b[39;49m\u001b[38;5;124;43mMOS Table\u001b[39;49m\u001b[38;5;124;43m'\u001b[39;49m\u001b[43m]\u001b[49m\n\u001b[1;32m    115\u001b[0m     wc_spec_ids \u001b[38;5;241m=\u001b[39m []\n\u001b[1;32m    117\u001b[0m     \u001b[38;5;66;03m# Optimize linking speed through a) delaying link manager updates with a\u001b[39;00m\n\u001b[1;32m    118\u001b[0m     \u001b[38;5;66;03m# context manager, b) handling intra-row linkage of 1D and 2D spectra in a\u001b[39;00m\n\u001b[1;32m    119\u001b[0m     \u001b[38;5;66;03m# loop, and c) handling inter-row linkage after that in one fell swoop.\u001b[39;00m\n",
      "File \u001b[0;32m~/m31_jwst/venv/lib/python3.10/site-packages/glue/core/data_collection.py:406\u001b[0m, in \u001b[0;36mDataCollection.__getitem__\u001b[0;34m(self, key)\u001b[0m\n\u001b[1;32m    404\u001b[0m matches \u001b[38;5;241m=\u001b[39m [data \u001b[38;5;28;01mfor\u001b[39;00m data \u001b[38;5;129;01min\u001b[39;00m \u001b[38;5;28mself\u001b[39m\u001b[38;5;241m.\u001b[39m_data \u001b[38;5;28;01mif\u001b[39;00m data\u001b[38;5;241m.\u001b[39mlabel \u001b[38;5;241m==\u001b[39m key]\n\u001b[1;32m    405\u001b[0m \u001b[38;5;28;01mif\u001b[39;00m \u001b[38;5;28mlen\u001b[39m(matches) \u001b[38;5;241m==\u001b[39m \u001b[38;5;241m0\u001b[39m:\n\u001b[0;32m--> 406\u001b[0m     \u001b[38;5;28;01mraise\u001b[39;00m \u001b[38;5;167;01mValueError\u001b[39;00m(\u001b[38;5;124m\"\u001b[39m\u001b[38;5;124mNo data found with the label \u001b[39m\u001b[38;5;124m'\u001b[39m\u001b[38;5;132;01m{0}\u001b[39;00m\u001b[38;5;124m'\u001b[39m\u001b[38;5;124m\"\u001b[39m\u001b[38;5;241m.\u001b[39mformat(key))\n\u001b[1;32m    407\u001b[0m \u001b[38;5;28;01melif\u001b[39;00m \u001b[38;5;28mlen\u001b[39m(matches) \u001b[38;5;241m>\u001b[39m \u001b[38;5;241m1\u001b[39m:\n\u001b[1;32m    408\u001b[0m     \u001b[38;5;28;01mraise\u001b[39;00m \u001b[38;5;167;01mValueError\u001b[39;00m(\u001b[38;5;124m\"\u001b[39m\u001b[38;5;124mSeveral datasets were found with the label \u001b[39m\u001b[38;5;124m'\u001b[39m\u001b[38;5;132;01m{0}\u001b[39;00m\u001b[38;5;124m'\u001b[39m\u001b[38;5;124m\"\u001b[39m\u001b[38;5;241m.\u001b[39mformat(key))\n",
      "\u001b[0;31mValueError\u001b[0m: No data found with the label 'MOS Table'"
     ]
    }
   ],
   "source": [
    "mv.load_data(specs1d)"
   ]
  },
  {
   "cell_type": "code",
   "execution_count": 33,
   "id": "7bca358e-6cf0-44bd-83ec-84c1a758241f",
   "metadata": {},
   "outputs": [
    {
     "data": {
      "application/vnd.jupyter.widget-view+json": {
       "model_id": "65e5ddf4aa224052bc7b7b16ac72d519",
       "version_major": 2,
       "version_minor": 0
      },
      "text/plain": [
       "Application(config='mosviz', events=['call_viewer_method', 'close_snackbar_message', 'data_item_remove', 'data…"
      ]
     },
     "metadata": {},
     "output_type": "display_data"
    }
   ],
   "source": [
    "mv = jdaviz.Mosviz()\n",
    "mv.load_1d_spectra(specs1d, 'arg')\n",
    "mv.show()"
   ]
  },
  {
   "cell_type": "code",
   "execution_count": null,
   "id": "40a2a9ef-513c-487b-bf62-120b5b71049a",
   "metadata": {},
   "outputs": [],
   "source": []
  }
 ],
 "metadata": {
  "kernelspec": {
   "display_name": "Python 3 (ipykernel)",
   "language": "python",
   "name": "python3"
  },
  "language_info": {
   "codemirror_mode": {
    "name": "ipython",
    "version": 3
   },
   "file_extension": ".py",
   "mimetype": "text/x-python",
   "name": "python",
   "nbconvert_exporter": "python",
   "pygments_lexer": "ipython3",
   "version": "3.10.8"
  }
 },
 "nbformat": 4,
 "nbformat_minor": 5
}
