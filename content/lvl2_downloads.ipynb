{
 "cells": [
  {
   "cell_type": "code",
   "execution_count": 13,
   "id": "4229353c-f99a-4293-aec4-7edf11e38b6d",
   "metadata": {},
   "outputs": [],
   "source": [
    "import os\n",
    "import tarfile\n",
    "\n",
    "from astroquery.mast import Observations"
   ]
  },
  {
   "cell_type": "code",
   "execution_count": 16,
   "id": "dd34ff37-63e5-4aa2-9d01-9a4b5de049ee",
   "metadata": {},
   "outputs": [
    {
     "name": "stdout",
     "output_type": "stream",
     "text": [
      "INFO: MAST API token accepted, welcome Erik Tollerud [astroquery.mast.auth]\n"
     ]
    }
   ],
   "source": [
    "Observations.login(open(os.path.expanduser('~/.mast_token')).read().strip())"
   ]
  },
  {
   "cell_type": "code",
   "execution_count": 25,
   "id": "de418ddf-e92d-482e-91d8-935cb893f70a",
   "metadata": {},
   "outputs": [
    {
     "data": {
      "text/html": [
       "<div><i>Table masked=True length=26</i>\n",
       "<table id=\"table139652682047568\" class=\"table-striped table-bordered table-condensed\">\n",
       "<thead><tr><th>dataproduct_type</th><th>calib_level</th><th>obs_collection</th><th>obs_id</th><th>target_name</th><th>s_ra</th><th>s_dec</th><th>t_min</th><th>t_max</th><th>t_exptime</th><th>wavelength_region</th><th>filters</th><th>em_min</th><th>em_max</th><th>target_classification</th><th>obs_title</th><th>t_obs_release</th><th>instrument_name</th><th>proposal_pi</th><th>proposal_id</th><th>proposal_type</th><th>project</th><th>sequence_number</th><th>provenance_name</th><th>s_region</th><th>jpegURL</th><th>dataURL</th><th>dataRights</th><th>mtFlag</th><th>srcDen</th><th>intentType</th><th>obsid</th><th>objID</th></tr></thead>\n",
       "<thead><tr><th>str8</th><th>int64</th><th>str4</th><th>str36</th><th>str27</th><th>float64</th><th>float64</th><th>float64</th><th>float64</th><th>float64</th><th>str8</th><th>str12</th><th>float64</th><th>float64</th><th>str1</th><th>str60</th><th>float64</th><th>str12</th><th>str15</th><th>str4</th><th>str2</th><th>str4</th><th>int64</th><th>str7</th><th>str165</th><th>str62</th><th>str63</th><th>str16</th><th>bool</th><th>float64</th><th>str7</th><th>str8</th><th>str9</th></tr></thead>\n",
       "<tr><td>image</td><td>3</td><td>JWST</td><td>jw02609-o001_t006_nircam_clear-f277w</td><td>M31-NIRCAM-PREIMAGING</td><td>11.5375</td><td>42.08777777777778</td><td>59810.65694376852</td><td>59810.67705800926</td><td>1223.994</td><td>Infrared</td><td>F277W</td><td>2416.0</td><td>3127.0</td><td>--</td><td>Searching for the Alpha-Abundance Bimodality in the M31 Disk</td><td>60178.64913193</td><td>NIRCAM</td><td>Nidever, David</td><td>2609</td><td>GO</td><td>JWST</td><td>--</td><td>CALJWST</td><td>POLYGON 11.625435818 42.084031777 11.550720714 42.027443429 11.455620813 42.096521678 11.530332428 42.153171713</td><td>mast:JWST/product/jw02609-o001_t006_nircam_clear-f277w_i2d.jpg</td><td>mast:JWST/product/jw02609-o001_t006_nircam_clear-f277w_i2d.fits</td><td>EXCLUSIVE_ACCESS</td><td>False</td><td>nan</td><td>science</td><td>89383611</td><td>183417950</td></tr>\n",
       "<tr><td>image</td><td>-1</td><td>JWST</td><td>jw02609001002_xx103_00003_nircam</td><td>M31-NIRCAM-PREIMAGING</td><td>11.5375</td><td>42.08777777777778</td><td>nan</td><td>nan</td><td>193.262</td><td>INFRARED</td><td>F150W;F277W;</td><td>1331.0</td><td>1668.0000000000002</td><td>--</td><td>Searching for the Alpha-Abundance Bimodality in the M31 Disk</td><td>nan</td><td>NIRCAM/IMAGE</td><td>Nidever, David</td><td>2609</td><td>GO</td><td>JWST</td><td>--</td><td>APT</td><td>POLYGON ICRS 11.586398934985091 42.04458416532749 11.4710092195504 42.0452293523993 11.471592898217088 42.08165356299879 11.58563841062879 42.08105152246361</td><td>--</td><td>--</td><td>--</td><td>--</td><td>nan</td><td>SCIENCE</td><td>86905451</td><td>162229470</td></tr>\n",
       "<tr><td>spectrum</td><td>-1</td><td>JWST</td><td>jw02609009001_xx103_00001_nirspec</td><td>M31-B19-RGB-FIELDS1278</td><td>11.56379583333333</td><td>42.08833333333334</td><td>nan</td><td>nan</td><td>2917.778</td><td>INFRARED</td><td>F100LP;G140H</td><td>1000.0000000000001</td><td>5000.0</td><td>--</td><td>Searching for the Alpha-Abundance Bimodality in the M31 Disk</td><td>nan</td><td>NIRSPEC/MSA</td><td>Nidever, David</td><td>2609</td><td>GO</td><td>JWST</td><td>--</td><td>APT</td><td>POLYGON ICRS 11.514665681001691 42.09065917667737 11.575610882264499 42.13098538201784 11.630128566190818 42.0861769329495 11.569960375874636 42.04524388728875</td><td>--</td><td>--</td><td>--</td><td>--</td><td>nan</td><td>SCIENCE</td><td>86905460</td><td>162229479</td></tr>\n",
       "<tr><td>spectrum</td><td>-1</td><td>JWST</td><td>jw02609006001_xx103_00002_nirspec</td><td>M71-NEWCATALOG-GAIAEDR3</td><td>298.4423483333334</td><td>18.77293888888889</td><td>nan</td><td>nan</td><td>145.889</td><td>INFRARED</td><td>F100LP;G140H</td><td>1000.0000000000001</td><td>5000.0</td><td>--</td><td>Searching for the Alpha-Abundance Bimodality in the M31 Disk</td><td>nan</td><td>NIRSPEC/MSA</td><td>Nidever, David</td><td>2609</td><td>GO</td><td>JWST</td><td>--</td><td>APT</td><td>POLYGON ICRS 298.4068874554565 18.777972764464412 298.4466125446134 18.825472020145032 298.4968580320953 18.78830494665433 298.4578367948993 18.740288306601936</td><td>--</td><td>--</td><td>--</td><td>--</td><td>nan</td><td>SCIENCE</td><td>86905454</td><td>162229473</td></tr>\n",
       "<tr><td>image</td><td>2</td><td>JWST</td><td>jw02609008001_02101_00001_nrs2</td><td>UNKNOWN</td><td>290.21948</td><td>37.76622777777778</td><td>59811.66659922361</td><td>59811.6670962963</td><td>42.947</td><td>Infrared</td><td>F110W</td><td>1000.0</td><td>1300.0</td><td>--</td><td>Searching for the Alpha-Abundance Bimodality in the M31 Disk</td><td>60178.65834487</td><td>NIRSPEC</td><td>Nidever, David</td><td>2609</td><td>GO</td><td>JWST</td><td>--</td><td>CALJWST</td><td>POLYGON 290.241871997 37.737210926 290.166094036 37.739265191 290.170571465 37.798802697 290.246158947 37.795859721</td><td>mast:JWST/product/jw02609008001_02101_00001_nrs2_rate.jpg</td><td>mast:JWST/product/jw02609008001_02101_00001_nrs2_cal.fits</td><td>EXCLUSIVE_ACCESS</td><td>False</td><td>nan</td><td>science</td><td>89376208</td><td>183384421</td></tr>\n",
       "<tr><td>...</td><td>...</td><td>...</td><td>...</td><td>...</td><td>...</td><td>...</td><td>...</td><td>...</td><td>...</td><td>...</td><td>...</td><td>...</td><td>...</td><td>...</td><td>...</td><td>...</td><td>...</td><td>...</td><td>...</td><td>...</td><td>...</td><td>...</td><td>...</td><td>...</td><td>...</td><td>...</td><td>...</td><td>...</td><td>...</td><td>...</td><td>...</td><td>...</td></tr>\n",
       "<tr><td>image</td><td>2</td><td>JWST</td><td>jw02609008001_02101_00001_nrs1</td><td>UNKNOWN</td><td>290.21948</td><td>37.76622777777778</td><td>59811.66659922361</td><td>59811.6670962963</td><td>42.947</td><td>Infrared</td><td>F110W</td><td>1000.0</td><td>1300.0</td><td>--</td><td>Searching for the Alpha-Abundance Bimodality in the M31 Disk</td><td>60178.65850691</td><td>NIRSPEC</td><td>Nidever, David</td><td>2609</td><td>GO</td><td>JWST</td><td>--</td><td>CALJWST</td><td>POLYGON 290.246422498 37.800006359 290.170836212 37.803021018 290.174057231 37.862588439 290.249812825 37.858711389</td><td>mast:JWST/product/jw02609008001_02101_00001_nrs1_rate.jpg</td><td>mast:JWST/product/jw02609008001_02101_00001_nrs1_cal.fits</td><td>EXCLUSIVE_ACCESS</td><td>False</td><td>nan</td><td>science</td><td>89376205</td><td>183384396</td></tr>\n",
       "<tr><td>image</td><td>-1</td><td>JWST</td><td>jw02609001001_xx101_00001_nircam</td><td>M31-NIRCAM-PREIMAGING</td><td>11.5375</td><td>42.08777777777778</td><td>nan</td><td>nan</td><td>193.262</td><td>INFRARED</td><td>F150W;F277W;</td><td>1331.0</td><td>1668.0000000000002</td><td>--</td><td>Searching for the Alpha-Abundance Bimodality in the M31 Disk</td><td>nan</td><td>NIRCAM/IMAGE</td><td>Nidever, David</td><td>2609</td><td>GO</td><td>JWST</td><td>--</td><td>APT</td><td>POLYGON ICRS 11.586334481339925 42.087056360596655 11.470867510805268 42.087701444335565 11.471451499064957 42.124125655652584 11.585573410442676 42.123523717305254</td><td>--</td><td>--</td><td>--</td><td>--</td><td>nan</td><td>SCIENCE</td><td>86905445</td><td>162229464</td></tr>\n",
       "<tr><td>image</td><td>2</td><td>JWST</td><td>jw02609008001_02101_00002_nrs1</td><td>UNKNOWN</td><td>290.21948</td><td>37.76622777777778</td><td>59811.67119774213</td><td>59811.67169481482</td><td>42.947</td><td>Infrared</td><td>F110W</td><td>1000.0</td><td>1300.0</td><td>--</td><td>Searching for the Alpha-Abundance Bimodality in the M31 Disk</td><td>60178.65814805</td><td>NIRSPEC</td><td>Nidever, David</td><td>2609</td><td>GO</td><td>JWST</td><td>--</td><td>CALJWST</td><td>POLYGON 290.246327921 37.799973377 290.170741635 37.802987501 290.173961978 37.862554945 290.249717581 37.858678431</td><td>mast:JWST/product/jw02609008001_02101_00002_nrs1_rate.jpg</td><td>mast:JWST/product/jw02609008001_02101_00002_nrs1_cal.fits</td><td>EXCLUSIVE_ACCESS</td><td>False</td><td>nan</td><td>science</td><td>89376201</td><td>183384335</td></tr>\n",
       "<tr><td>image</td><td>-1</td><td>JWST</td><td>jw02609001001_xx104_00004_nircam</td><td>M31-NIRCAM-PREIMAGING</td><td>11.5375</td><td>42.08777777777778</td><td>nan</td><td>nan</td><td>193.262</td><td>INFRARED</td><td>F150W;F277W;</td><td>1331.0</td><td>1668.0000000000002</td><td>--</td><td>Searching for the Alpha-Abundance Bimodality in the M31 Disk</td><td>nan</td><td>NIRCAM/IMAGE</td><td>Nidever, David</td><td>2609</td><td>GO</td><td>JWST</td><td>--</td><td>APT</td><td>POLYGON ICRS 11.604675211630424 42.08701468417863 11.489208489381312 42.08767815357894 11.48980301433919 42.12410227106914 11.603924690411986 42.12348216123158</td><td>--</td><td>--</td><td>--</td><td>--</td><td>nan</td><td>SCIENCE</td><td>86905448</td><td>162229467</td></tr>\n",
       "<tr><td>image</td><td>-1</td><td>JWST</td><td>jw02609001001_xx103_00003_nircam</td><td>M31-NIRCAM-PREIMAGING</td><td>11.5375</td><td>42.08777777777778</td><td>nan</td><td>nan</td><td>193.262</td><td>INFRARED</td><td>F150W;F277W;</td><td>1331.0</td><td>1668.0000000000002</td><td>--</td><td>Searching for the Alpha-Abundance Bimodality in the M31 Disk</td><td>nan</td><td>NIRCAM/IMAGE</td><td>Nidever, David</td><td>2609</td><td>GO</td><td>JWST</td><td>--</td><td>APT</td><td>POLYGON ICRS 11.604741574944509 42.09393139863668 11.489262262457498 42.09459492825192 11.489856883175696 42.13101904546437 11.603991010018843 42.130398876121745</td><td>--</td><td>--</td><td>--</td><td>--</td><td>nan</td><td>SCIENCE</td><td>86905447</td><td>162229466</td></tr>\n",
       "<tr><td>spectrum</td><td>-1</td><td>JWST</td><td>jw02609009001_xx107_00001_nirspec</td><td>M31-B19-RGB-FIELDS1278</td><td>11.56379583333333</td><td>42.08833333333334</td><td>nan</td><td>nan</td><td>2917.778</td><td>INFRARED</td><td>F100LP;G140H</td><td>1000.0000000000001</td><td>5000.0</td><td>--</td><td>Searching for the Alpha-Abundance Bimodality in the M31 Disk</td><td>nan</td><td>NIRSPEC/MSA</td><td>Nidever, David</td><td>2609</td><td>GO</td><td>JWST</td><td>--</td><td>APT</td><td>POLYGON ICRS 11.514775319891209 42.09013159646734 11.575720083601475 42.13045774382261 11.630237237017239 42.08564924341212 11.57006947680657 42.044716254456574</td><td>--</td><td>--</td><td>--</td><td>--</td><td>nan</td><td>SCIENCE</td><td>86905464</td><td>162229483</td></tr>\n",
       "</table></div>"
      ],
      "text/plain": [
       "<Table masked=True length=26>\n",
       "dataproduct_type calib_level obs_collection                obs_id                      target_name              s_ra       ... mtFlag  srcDen intentType  obsid     objID  \n",
       "      str8          int64         str4                     str36                          str27               float64      ...  bool  float64    str7      str8      str9  \n",
       "---------------- ----------- -------------- ------------------------------------ ----------------------- ----------------- ... ------ ------- ---------- -------- ---------\n",
       "           image           3           JWST jw02609-o001_t006_nircam_clear-f277w   M31-NIRCAM-PREIMAGING           11.5375 ...  False     nan    science 89383611 183417950\n",
       "           image          -1           JWST     jw02609001002_xx103_00003_nircam   M31-NIRCAM-PREIMAGING           11.5375 ...     --     nan    SCIENCE 86905451 162229470\n",
       "        spectrum          -1           JWST    jw02609009001_xx103_00001_nirspec  M31-B19-RGB-FIELDS1278 11.56379583333333 ...     --     nan    SCIENCE 86905460 162229479\n",
       "        spectrum          -1           JWST    jw02609006001_xx103_00002_nirspec M71-NEWCATALOG-GAIAEDR3 298.4423483333334 ...     --     nan    SCIENCE 86905454 162229473\n",
       "           image           2           JWST       jw02609008001_02101_00001_nrs2                 UNKNOWN         290.21948 ...  False     nan    science 89376208 183384421\n",
       "             ...         ...            ...                                  ...                     ...               ... ...    ...     ...        ...      ...       ...\n",
       "           image           2           JWST       jw02609008001_02101_00001_nrs1                 UNKNOWN         290.21948 ...  False     nan    science 89376205 183384396\n",
       "           image          -1           JWST     jw02609001001_xx101_00001_nircam   M31-NIRCAM-PREIMAGING           11.5375 ...     --     nan    SCIENCE 86905445 162229464\n",
       "           image           2           JWST       jw02609008001_02101_00002_nrs1                 UNKNOWN         290.21948 ...  False     nan    science 89376201 183384335\n",
       "           image          -1           JWST     jw02609001001_xx104_00004_nircam   M31-NIRCAM-PREIMAGING           11.5375 ...     --     nan    SCIENCE 86905448 162229467\n",
       "           image          -1           JWST     jw02609001001_xx103_00003_nircam   M31-NIRCAM-PREIMAGING           11.5375 ...     --     nan    SCIENCE 86905447 162229466\n",
       "        spectrum          -1           JWST    jw02609009001_xx107_00001_nirspec  M31-B19-RGB-FIELDS1278 11.56379583333333 ...     --     nan    SCIENCE 86905464 162229483"
      ]
     },
     "execution_count": 25,
     "metadata": {},
     "output_type": "execute_result"
    }
   ],
   "source": [
    "obses = Observations.query_criteria(proposal_id=2609)\n",
    "obses"
   ]
  },
  {
   "cell_type": "code",
   "execution_count": 27,
   "id": "2445ab34-6f0f-4773-9e24-de68c56f158e",
   "metadata": {},
   "outputs": [
    {
     "data": {
      "text/html": [
       "<div><i>Table masked=True length=2</i>\n",
       "<table id=\"table139652682275072\" class=\"table-striped table-bordered table-condensed\">\n",
       "<thead><tr><th>dataproduct_type</th><th>calib_level</th><th>obs_collection</th><th>obs_id</th><th>target_name</th><th>s_ra</th><th>s_dec</th><th>t_min</th><th>t_max</th><th>t_exptime</th><th>wavelength_region</th><th>filters</th><th>em_min</th><th>em_max</th><th>target_classification</th><th>obs_title</th><th>t_obs_release</th><th>instrument_name</th><th>proposal_pi</th><th>proposal_id</th><th>proposal_type</th><th>project</th><th>sequence_number</th><th>provenance_name</th><th>s_region</th><th>jpegURL</th><th>dataURL</th><th>dataRights</th><th>mtFlag</th><th>srcDen</th><th>intentType</th><th>obsid</th><th>objID</th></tr></thead>\n",
       "<thead><tr><th>str8</th><th>int64</th><th>str4</th><th>str36</th><th>str27</th><th>float64</th><th>float64</th><th>float64</th><th>float64</th><th>float64</th><th>str8</th><th>str12</th><th>float64</th><th>float64</th><th>str1</th><th>str60</th><th>float64</th><th>str12</th><th>str15</th><th>str4</th><th>str2</th><th>str4</th><th>int64</th><th>str7</th><th>str165</th><th>str62</th><th>str63</th><th>str16</th><th>bool</th><th>float64</th><th>str7</th><th>str8</th><th>str9</th></tr></thead>\n",
       "<tr><td>image</td><td>3</td><td>JWST</td><td>jw02609-o001_t006_nircam_clear-f277w</td><td>M31-NIRCAM-PREIMAGING</td><td>11.5375</td><td>42.08777777777778</td><td>59810.65694376852</td><td>59810.67705800926</td><td>1223.994</td><td>Infrared</td><td>F277W</td><td>2416.0</td><td>3127.0</td><td>--</td><td>Searching for the Alpha-Abundance Bimodality in the M31 Disk</td><td>60178.64913193</td><td>NIRCAM</td><td>Nidever, David</td><td>2609</td><td>GO</td><td>JWST</td><td>--</td><td>CALJWST</td><td>POLYGON 11.625435818 42.084031777 11.550720714 42.027443429 11.455620813 42.096521678 11.530332428 42.153171713</td><td>mast:JWST/product/jw02609-o001_t006_nircam_clear-f277w_i2d.jpg</td><td>mast:JWST/product/jw02609-o001_t006_nircam_clear-f277w_i2d.fits</td><td>EXCLUSIVE_ACCESS</td><td>False</td><td>nan</td><td>science</td><td>89383611</td><td>183417950</td></tr>\n",
       "<tr><td>image</td><td>3</td><td>JWST</td><td>jw02609-o001_t006_nircam_clear-f150w</td><td>M31-NIRCAM-PREIMAGING</td><td>11.5375</td><td>42.08777777777778</td><td>59810.65694302778</td><td>59810.67705800926</td><td>4895.976</td><td>Infrared</td><td>F150W</td><td>1331.0</td><td>1668.0</td><td>--</td><td>Searching for the Alpha-Abundance Bimodality in the M31 Disk</td><td>60178.64913193</td><td>NIRCAM</td><td>Nidever, David</td><td>2609</td><td>GO</td><td>JWST</td><td>--</td><td>CALJWST</td><td>POLYGON 11.626185984 42.084948201 11.551056244 42.0270668 11.454843381 42.095770429 11.529966684 42.153714584</td><td>mast:JWST/product/jw02609-o001_t006_nircam_clear-f150w_i2d.jpg</td><td>mast:JWST/product/jw02609-o001_t006_nircam_clear-f150w_i2d.fits</td><td>EXCLUSIVE_ACCESS</td><td>False</td><td>nan</td><td>science</td><td>89383635</td><td>183417946</td></tr>\n",
       "</table></div>"
      ],
      "text/plain": [
       "<Table masked=True length=2>\n",
       "dataproduct_type calib_level obs_collection                obs_id                     target_name        s_ra  ...    dataRights    mtFlag  srcDen intentType  obsid     objID  \n",
       "      str8          int64         str4                     str36                         str27         float64 ...      str16        bool  float64    str7      str8      str9  \n",
       "---------------- ----------- -------------- ------------------------------------ --------------------- ------- ... ---------------- ------ ------- ---------- -------- ---------\n",
       "           image           3           JWST jw02609-o001_t006_nircam_clear-f277w M31-NIRCAM-PREIMAGING 11.5375 ... EXCLUSIVE_ACCESS  False     nan    science 89383611 183417950\n",
       "           image           3           JWST jw02609-o001_t006_nircam_clear-f150w M31-NIRCAM-PREIMAGING 11.5375 ... EXCLUSIVE_ACCESS  False     nan    science 89383635 183417946"
      ]
     },
     "execution_count": 27,
     "metadata": {},
     "output_type": "execute_result"
    }
   ],
   "source": [
    "preim = obses[(obses['target_name']=='M31-NIRCAM-PREIMAGING') & \n",
    "              (obses['provenance_name']=='CALJWST')]\n",
    "preim"
   ]
  },
  {
   "cell_type": "code",
   "execution_count": 35,
   "id": "28529c6c-a3ec-45be-8fd9-16d1213a4849",
   "metadata": {},
   "outputs": [
    {
     "data": {
      "text/html": [
       "<div><i>Table masked=True length=30</i>\n",
       "<table id=\"table139652682285456\" class=\"table-striped table-bordered table-condensed\">\n",
       "<thead><tr><th>obsID</th><th>obs_collection</th><th>dataproduct_type</th><th>obs_id</th><th>description</th><th>type</th><th>dataURI</th><th>productType</th><th>productGroupDescription</th><th>productSubGroupDescription</th><th>productDocumentationURL</th><th>project</th><th>prvversion</th><th>proposal_id</th><th>productFilename</th><th>size</th><th>parent_obsid</th><th>dataRights</th><th>calib_level</th></tr></thead>\n",
       "<thead><tr><th>str8</th><th>str4</th><th>str5</th><th>str36</th><th>str64</th><th>str1</th><th>str69</th><th>str9</th><th>str28</th><th>str11</th><th>str1</th><th>str7</th><th>str5</th><th>str4</th><th>str51</th><th>int64</th><th>str8</th><th>str16</th><th>int64</th></tr></thead>\n",
       "<tr><td>89375663</td><td>JWST</td><td>image</td><td>jw02609001001_02101_00001_nrca1</td><td>exposure/target (L2b/L3): rectified 2D image</td><td>S</td><td>mast:JWST/product/jw02609001001_02101_00001_nrca1_i2d.fits</td><td>SCIENCE</td><td>--</td><td>I2D</td><td>--</td><td>CALJWST</td><td>1.7.2</td><td>2609</td><td>jw02609001001_02101_00001_nrca1_i2d.fits</td><td>118676160</td><td>89383635</td><td>EXCLUSIVE_ACCESS</td><td>2</td></tr>\n",
       "<tr><td>89375667</td><td>JWST</td><td>image</td><td>jw02609001001_02101_00001_nrca2</td><td>exposure/target (L2b/L3): rectified 2D image</td><td>S</td><td>mast:JWST/product/jw02609001001_02101_00001_nrca2_i2d.fits</td><td>SCIENCE</td><td>--</td><td>I2D</td><td>--</td><td>CALJWST</td><td>1.7.2</td><td>2609</td><td>jw02609001001_02101_00001_nrca2_i2d.fits</td><td>118454400</td><td>89383635</td><td>EXCLUSIVE_ACCESS</td><td>2</td></tr>\n",
       "<tr><td>89375661</td><td>JWST</td><td>image</td><td>jw02609001001_02101_00001_nrca3</td><td>exposure/target (L2b/L3): rectified 2D image</td><td>S</td><td>mast:JWST/product/jw02609001001_02101_00001_nrca3_i2d.fits</td><td>SCIENCE</td><td>--</td><td>I2D</td><td>--</td><td>CALJWST</td><td>1.7.2</td><td>2609</td><td>jw02609001001_02101_00001_nrca3_i2d.fits</td><td>119079360</td><td>89383635</td><td>EXCLUSIVE_ACCESS</td><td>2</td></tr>\n",
       "<tr><td>89375673</td><td>JWST</td><td>image</td><td>jw02609001001_02101_00001_nrca4</td><td>exposure/target (L2b/L3): rectified 2D image</td><td>S</td><td>mast:JWST/product/jw02609001001_02101_00001_nrca4_i2d.fits</td><td>SCIENCE</td><td>--</td><td>I2D</td><td>--</td><td>CALJWST</td><td>1.7.2</td><td>2609</td><td>jw02609001001_02101_00001_nrca4_i2d.fits</td><td>118676160</td><td>89383635</td><td>EXCLUSIVE_ACCESS</td><td>2</td></tr>\n",
       "<tr><td>89375670</td><td>JWST</td><td>image</td><td>jw02609001001_02101_00001_nrcalong</td><td>exposure/target (L2b/L3): rectified 2D image</td><td>S</td><td>mast:JWST/product/jw02609001001_02101_00001_nrcalong_i2d.fits</td><td>SCIENCE</td><td>--</td><td>I2D</td><td>--</td><td>CALJWST</td><td>1.7.2</td><td>2609</td><td>jw02609001001_02101_00001_nrcalong_i2d.fits</td><td>120228480</td><td>89383611</td><td>EXCLUSIVE_ACCESS</td><td>2</td></tr>\n",
       "<tr><td>...</td><td>...</td><td>...</td><td>...</td><td>...</td><td>...</td><td>...</td><td>...</td><td>...</td><td>...</td><td>...</td><td>...</td><td>...</td><td>...</td><td>...</td><td>...</td><td>...</td><td>...</td><td>...</td></tr>\n",
       "<tr><td>89375714</td><td>JWST</td><td>image</td><td>jw02609001002_02101_00002_nrcalong</td><td>exposure/target (L2b/L3): rectified 2D image</td><td>S</td><td>mast:JWST/product/jw02609001002_02101_00002_nrcalong_i2d.fits</td><td>SCIENCE</td><td>--</td><td>I2D</td><td>--</td><td>CALJWST</td><td>1.7.2</td><td>2609</td><td>jw02609001002_02101_00002_nrcalong_i2d.fits</td><td>120228480</td><td>89383611</td><td>EXCLUSIVE_ACCESS</td><td>2</td></tr>\n",
       "<tr><td>89375706</td><td>JWST</td><td>image</td><td>jw02609001002_02101_00002_nrcb1</td><td>exposure/target (L2b/L3): rectified 2D image</td><td>S</td><td>mast:JWST/product/jw02609001002_02101_00002_nrcb1_i2d.fits</td><td>SCIENCE</td><td>--</td><td>I2D</td><td>--</td><td>CALJWST</td><td>1.7.2</td><td>2609</td><td>jw02609001002_02101_00002_nrcb1_i2d.fits</td><td>118454400</td><td>89383635</td><td>EXCLUSIVE_ACCESS</td><td>2</td></tr>\n",
       "<tr><td>89375711</td><td>JWST</td><td>image</td><td>jw02609001002_02101_00002_nrcb2</td><td>exposure/target (L2b/L3): rectified 2D image</td><td>S</td><td>mast:JWST/product/jw02609001002_02101_00002_nrcb2_i2d.fits</td><td>SCIENCE</td><td>--</td><td>I2D</td><td>--</td><td>CALJWST</td><td>1.7.2</td><td>2609</td><td>jw02609001002_02101_00002_nrcb2_i2d.fits</td><td>118676160</td><td>89383635</td><td>EXCLUSIVE_ACCESS</td><td>2</td></tr>\n",
       "<tr><td>89375737</td><td>JWST</td><td>image</td><td>jw02609001002_02101_00002_nrcb3</td><td>exposure/target (L2b/L3): rectified 2D image</td><td>S</td><td>mast:JWST/product/jw02609001002_02101_00002_nrcb3_i2d.fits</td><td>SCIENCE</td><td>--</td><td>I2D</td><td>--</td><td>CALJWST</td><td>1.7.2</td><td>2609</td><td>jw02609001002_02101_00002_nrcb3_i2d.fits</td><td>118676160</td><td>89383635</td><td>EXCLUSIVE_ACCESS</td><td>2</td></tr>\n",
       "<tr><td>89375744</td><td>JWST</td><td>image</td><td>jw02609001002_02101_00002_nrcb4</td><td>exposure/target (L2b/L3): rectified 2D image</td><td>S</td><td>mast:JWST/product/jw02609001002_02101_00002_nrcb4_i2d.fits</td><td>SCIENCE</td><td>--</td><td>I2D</td><td>--</td><td>CALJWST</td><td>1.7.2</td><td>2609</td><td>jw02609001002_02101_00002_nrcb4_i2d.fits</td><td>119018880</td><td>89383635</td><td>EXCLUSIVE_ACCESS</td><td>2</td></tr>\n",
       "<tr><td>89375734</td><td>JWST</td><td>image</td><td>jw02609001002_02101_00002_nrcblong</td><td>exposure/target (L2b/L3): rectified 2D image</td><td>S</td><td>mast:JWST/product/jw02609001002_02101_00002_nrcblong_i2d.fits</td><td>SCIENCE</td><td>--</td><td>I2D</td><td>--</td><td>CALJWST</td><td>1.7.2</td><td>2609</td><td>jw02609001002_02101_00002_nrcblong_i2d.fits</td><td>120288960</td><td>89383611</td><td>EXCLUSIVE_ACCESS</td><td>2</td></tr>\n",
       "</table></div>"
      ],
      "text/plain": [
       "<Table masked=True length=30>\n",
       " obsID   obs_collection dataproduct_type               obs_id                               description                  ...    size   parent_obsid    dataRights    calib_level\n",
       "  str8        str4            str5                     str36                                   str64                     ...   int64       str8          str16          int64   \n",
       "-------- -------------- ---------------- ---------------------------------- -------------------------------------------- ... --------- ------------ ---------------- -----------\n",
       "89375663           JWST            image    jw02609001001_02101_00001_nrca1 exposure/target (L2b/L3): rectified 2D image ... 118676160     89383635 EXCLUSIVE_ACCESS           2\n",
       "89375667           JWST            image    jw02609001001_02101_00001_nrca2 exposure/target (L2b/L3): rectified 2D image ... 118454400     89383635 EXCLUSIVE_ACCESS           2\n",
       "89375661           JWST            image    jw02609001001_02101_00001_nrca3 exposure/target (L2b/L3): rectified 2D image ... 119079360     89383635 EXCLUSIVE_ACCESS           2\n",
       "89375673           JWST            image    jw02609001001_02101_00001_nrca4 exposure/target (L2b/L3): rectified 2D image ... 118676160     89383635 EXCLUSIVE_ACCESS           2\n",
       "89375670           JWST            image jw02609001001_02101_00001_nrcalong exposure/target (L2b/L3): rectified 2D image ... 120228480     89383611 EXCLUSIVE_ACCESS           2\n",
       "     ...            ...              ...                                ...                                          ... ...       ...          ...              ...         ...\n",
       "89375714           JWST            image jw02609001002_02101_00002_nrcalong exposure/target (L2b/L3): rectified 2D image ... 120228480     89383611 EXCLUSIVE_ACCESS           2\n",
       "89375706           JWST            image    jw02609001002_02101_00002_nrcb1 exposure/target (L2b/L3): rectified 2D image ... 118454400     89383635 EXCLUSIVE_ACCESS           2\n",
       "89375711           JWST            image    jw02609001002_02101_00002_nrcb2 exposure/target (L2b/L3): rectified 2D image ... 118676160     89383635 EXCLUSIVE_ACCESS           2\n",
       "89375737           JWST            image    jw02609001002_02101_00002_nrcb3 exposure/target (L2b/L3): rectified 2D image ... 118676160     89383635 EXCLUSIVE_ACCESS           2\n",
       "89375744           JWST            image    jw02609001002_02101_00002_nrcb4 exposure/target (L2b/L3): rectified 2D image ... 119018880     89383635 EXCLUSIVE_ACCESS           2\n",
       "89375734           JWST            image jw02609001002_02101_00002_nrcblong exposure/target (L2b/L3): rectified 2D image ... 120288960     89383611 EXCLUSIVE_ACCESS           2"
      ]
     },
     "execution_count": 35,
     "metadata": {},
     "output_type": "execute_result"
    }
   ],
   "source": [
    "data_products = Observations.get_product_list(preim)\n",
    "i2d_lvl2 = data_products[(data_products['calib_level']==2)\n",
    "              & (data_products['productSubGroupDescription']=='I2D')]\n",
    "i2d_lvl2"
   ]
  },
  {
   "cell_type": "code",
   "execution_count": 37,
   "id": "4055444e-42ce-41f5-aaf2-a38d57da3bcb",
   "metadata": {},
   "outputs": [
    {
     "name": "stdout",
     "output_type": "stream",
     "text": [
      "Downloading URL https://mast.stsci.edu/api/v0.1/Download/file?uri=mast:JWST/product/jw02609001001_02101_00001_nrca1_i2d.fits to ./mastDownload/JWST/jw02609001001_02101_00001_nrca1/jw02609001001_02101_00001_nrca1_i2d.fits ... [Done]\n",
      "Downloading URL https://mast.stsci.edu/api/v0.1/Download/file?uri=mast:JWST/product/jw02609001001_02101_00001_nrca2_i2d.fits to ./mastDownload/JWST/jw02609001001_02101_00001_nrca2/jw02609001001_02101_00001_nrca2_i2d.fits ... [Done]\n",
      "Downloading URL https://mast.stsci.edu/api/v0.1/Download/file?uri=mast:JWST/product/jw02609001001_02101_00001_nrca3_i2d.fits to ./mastDownload/JWST/jw02609001001_02101_00001_nrca3/jw02609001001_02101_00001_nrca3_i2d.fits ... [Done]\n",
      "Downloading URL https://mast.stsci.edu/api/v0.1/Download/file?uri=mast:JWST/product/jw02609001001_02101_00001_nrca4_i2d.fits to ./mastDownload/JWST/jw02609001001_02101_00001_nrca4/jw02609001001_02101_00001_nrca4_i2d.fits ... [Done]\n",
      "Downloading URL https://mast.stsci.edu/api/v0.1/Download/file?uri=mast:JWST/product/jw02609001001_02101_00001_nrcalong_i2d.fits to ./mastDownload/JWST/jw02609001001_02101_00001_nrcalong/jw02609001001_02101_00001_nrcalong_i2d.fits ... [Done]\n",
      "Downloading URL https://mast.stsci.edu/api/v0.1/Download/file?uri=mast:JWST/product/jw02609001001_02101_00001_nrcb1_i2d.fits to ./mastDownload/JWST/jw02609001001_02101_00001_nrcb1/jw02609001001_02101_00001_nrcb1_i2d.fits ... [Done]\n",
      "Downloading URL https://mast.stsci.edu/api/v0.1/Download/file?uri=mast:JWST/product/jw02609001001_02101_00001_nrcb2_i2d.fits to ./mastDownload/JWST/jw02609001001_02101_00001_nrcb2/jw02609001001_02101_00001_nrcb2_i2d.fits ... [Done]\n",
      "Downloading URL https://mast.stsci.edu/api/v0.1/Download/file?uri=mast:JWST/product/jw02609001001_02101_00001_nrcb3_i2d.fits to ./mastDownload/JWST/jw02609001001_02101_00001_nrcb3/jw02609001001_02101_00001_nrcb3_i2d.fits ... [Done]\n",
      "Downloading URL https://mast.stsci.edu/api/v0.1/Download/file?uri=mast:JWST/product/jw02609001001_02101_00001_nrcb4_i2d.fits to ./mastDownload/JWST/jw02609001001_02101_00001_nrcb4/jw02609001001_02101_00001_nrcb4_i2d.fits ... [Done]\n",
      "Downloading URL https://mast.stsci.edu/api/v0.1/Download/file?uri=mast:JWST/product/jw02609001001_02101_00001_nrcblong_i2d.fits to ./mastDownload/JWST/jw02609001001_02101_00001_nrcblong/jw02609001001_02101_00001_nrcblong_i2d.fits ... [Done]\n",
      "Downloading URL https://mast.stsci.edu/api/v0.1/Download/file?uri=mast:JWST/product/jw02609001002_02101_00001_nrca1_i2d.fits to ./mastDownload/JWST/jw02609001002_02101_00001_nrca1/jw02609001002_02101_00001_nrca1_i2d.fits ... [Done]\n",
      "Downloading URL https://mast.stsci.edu/api/v0.1/Download/file?uri=mast:JWST/product/jw02609001002_02101_00001_nrca2_i2d.fits to ./mastDownload/JWST/jw02609001002_02101_00001_nrca2/jw02609001002_02101_00001_nrca2_i2d.fits ... [Done]\n",
      "Downloading URL https://mast.stsci.edu/api/v0.1/Download/file?uri=mast:JWST/product/jw02609001002_02101_00001_nrca3_i2d.fits to ./mastDownload/JWST/jw02609001002_02101_00001_nrca3/jw02609001002_02101_00001_nrca3_i2d.fits ... [Done]\n",
      "Downloading URL https://mast.stsci.edu/api/v0.1/Download/file?uri=mast:JWST/product/jw02609001002_02101_00001_nrca4_i2d.fits to ./mastDownload/JWST/jw02609001002_02101_00001_nrca4/jw02609001002_02101_00001_nrca4_i2d.fits ... [Done]\n",
      "Downloading URL https://mast.stsci.edu/api/v0.1/Download/file?uri=mast:JWST/product/jw02609001002_02101_00001_nrcalong_i2d.fits to ./mastDownload/JWST/jw02609001002_02101_00001_nrcalong/jw02609001002_02101_00001_nrcalong_i2d.fits ... [Done]\n",
      "Downloading URL https://mast.stsci.edu/api/v0.1/Download/file?uri=mast:JWST/product/jw02609001002_02101_00001_nrcb1_i2d.fits to ./mastDownload/JWST/jw02609001002_02101_00001_nrcb1/jw02609001002_02101_00001_nrcb1_i2d.fits ... [Done]\n",
      "Downloading URL https://mast.stsci.edu/api/v0.1/Download/file?uri=mast:JWST/product/jw02609001002_02101_00001_nrcb2_i2d.fits to ./mastDownload/JWST/jw02609001002_02101_00001_nrcb2/jw02609001002_02101_00001_nrcb2_i2d.fits ... [Done]\n",
      "Downloading URL https://mast.stsci.edu/api/v0.1/Download/file?uri=mast:JWST/product/jw02609001002_02101_00001_nrcb3_i2d.fits to ./mastDownload/JWST/jw02609001002_02101_00001_nrcb3/jw02609001002_02101_00001_nrcb3_i2d.fits ... [Done]\n",
      "Downloading URL https://mast.stsci.edu/api/v0.1/Download/file?uri=mast:JWST/product/jw02609001002_02101_00001_nrcb4_i2d.fits to ./mastDownload/JWST/jw02609001002_02101_00001_nrcb4/jw02609001002_02101_00001_nrcb4_i2d.fits ... [Done]\n",
      "Downloading URL https://mast.stsci.edu/api/v0.1/Download/file?uri=mast:JWST/product/jw02609001002_02101_00001_nrcblong_i2d.fits to ./mastDownload/JWST/jw02609001002_02101_00001_nrcblong/jw02609001002_02101_00001_nrcblong_i2d.fits ... [Done]\n",
      "Downloading URL https://mast.stsci.edu/api/v0.1/Download/file?uri=mast:JWST/product/jw02609001002_02101_00002_nrca1_i2d.fits to ./mastDownload/JWST/jw02609001002_02101_00002_nrca1/jw02609001002_02101_00002_nrca1_i2d.fits ... [Done]\n",
      "Downloading URL https://mast.stsci.edu/api/v0.1/Download/file?uri=mast:JWST/product/jw02609001002_02101_00002_nrca2_i2d.fits to ./mastDownload/JWST/jw02609001002_02101_00002_nrca2/jw02609001002_02101_00002_nrca2_i2d.fits ... [Done]\n",
      "Downloading URL https://mast.stsci.edu/api/v0.1/Download/file?uri=mast:JWST/product/jw02609001002_02101_00002_nrca3_i2d.fits to ./mastDownload/JWST/jw02609001002_02101_00002_nrca3/jw02609001002_02101_00002_nrca3_i2d.fits ... [Done]\n",
      "Downloading URL https://mast.stsci.edu/api/v0.1/Download/file?uri=mast:JWST/product/jw02609001002_02101_00002_nrca4_i2d.fits to ./mastDownload/JWST/jw02609001002_02101_00002_nrca4/jw02609001002_02101_00002_nrca4_i2d.fits ... [Done]\n",
      "Downloading URL https://mast.stsci.edu/api/v0.1/Download/file?uri=mast:JWST/product/jw02609001002_02101_00002_nrcalong_i2d.fits to ./mastDownload/JWST/jw02609001002_02101_00002_nrcalong/jw02609001002_02101_00002_nrcalong_i2d.fits ... [Done]\n",
      "Downloading URL https://mast.stsci.edu/api/v0.1/Download/file?uri=mast:JWST/product/jw02609001002_02101_00002_nrcb1_i2d.fits to ./mastDownload/JWST/jw02609001002_02101_00002_nrcb1/jw02609001002_02101_00002_nrcb1_i2d.fits ... [Done]\n",
      "Downloading URL https://mast.stsci.edu/api/v0.1/Download/file?uri=mast:JWST/product/jw02609001002_02101_00002_nrcb2_i2d.fits to ./mastDownload/JWST/jw02609001002_02101_00002_nrcb2/jw02609001002_02101_00002_nrcb2_i2d.fits ... [Done]\n",
      "Downloading URL https://mast.stsci.edu/api/v0.1/Download/file?uri=mast:JWST/product/jw02609001002_02101_00002_nrcb3_i2d.fits to ./mastDownload/JWST/jw02609001002_02101_00002_nrcb3/jw02609001002_02101_00002_nrcb3_i2d.fits ... [Done]\n",
      "Downloading URL https://mast.stsci.edu/api/v0.1/Download/file?uri=mast:JWST/product/jw02609001002_02101_00002_nrcb4_i2d.fits to ./mastDownload/JWST/jw02609001002_02101_00002_nrcb4/jw02609001002_02101_00002_nrcb4_i2d.fits ... [Done]\n",
      "Downloading URL https://mast.stsci.edu/api/v0.1/Download/file?uri=mast:JWST/product/jw02609001002_02101_00002_nrcblong_i2d.fits to ./mastDownload/JWST/jw02609001002_02101_00002_nrcblong/jw02609001002_02101_00002_nrcblong_i2d.fits ... [Done]\n"
     ]
    },
    {
     "data": {
      "text/html": [
       "<div><i>Table length=30</i>\n",
       "<table id=\"table139652682324368\" class=\"table-striped table-bordered table-condensed\">\n",
       "<thead><tr><th>Local Path</th><th>Status</th><th>Message</th><th>URL</th></tr></thead>\n",
       "<thead><tr><th>str98</th><th>str8</th><th>object</th><th>object</th></tr></thead>\n",
       "<tr><td>./mastDownload/JWST/jw02609001001_02101_00001_nrca1/jw02609001001_02101_00001_nrca1_i2d.fits</td><td>COMPLETE</td><td>None</td><td>None</td></tr>\n",
       "<tr><td>./mastDownload/JWST/jw02609001001_02101_00001_nrca2/jw02609001001_02101_00001_nrca2_i2d.fits</td><td>COMPLETE</td><td>None</td><td>None</td></tr>\n",
       "<tr><td>./mastDownload/JWST/jw02609001001_02101_00001_nrca3/jw02609001001_02101_00001_nrca3_i2d.fits</td><td>COMPLETE</td><td>None</td><td>None</td></tr>\n",
       "<tr><td>./mastDownload/JWST/jw02609001001_02101_00001_nrca4/jw02609001001_02101_00001_nrca4_i2d.fits</td><td>COMPLETE</td><td>None</td><td>None</td></tr>\n",
       "<tr><td>./mastDownload/JWST/jw02609001001_02101_00001_nrcalong/jw02609001001_02101_00001_nrcalong_i2d.fits</td><td>COMPLETE</td><td>None</td><td>None</td></tr>\n",
       "<tr><td>...</td><td>...</td><td>...</td><td>...</td></tr>\n",
       "<tr><td>./mastDownload/JWST/jw02609001002_02101_00002_nrcalong/jw02609001002_02101_00002_nrcalong_i2d.fits</td><td>COMPLETE</td><td>None</td><td>None</td></tr>\n",
       "<tr><td>./mastDownload/JWST/jw02609001002_02101_00002_nrcb1/jw02609001002_02101_00002_nrcb1_i2d.fits</td><td>COMPLETE</td><td>None</td><td>None</td></tr>\n",
       "<tr><td>./mastDownload/JWST/jw02609001002_02101_00002_nrcb2/jw02609001002_02101_00002_nrcb2_i2d.fits</td><td>COMPLETE</td><td>None</td><td>None</td></tr>\n",
       "<tr><td>./mastDownload/JWST/jw02609001002_02101_00002_nrcb3/jw02609001002_02101_00002_nrcb3_i2d.fits</td><td>COMPLETE</td><td>None</td><td>None</td></tr>\n",
       "<tr><td>./mastDownload/JWST/jw02609001002_02101_00002_nrcb4/jw02609001002_02101_00002_nrcb4_i2d.fits</td><td>COMPLETE</td><td>None</td><td>None</td></tr>\n",
       "<tr><td>./mastDownload/JWST/jw02609001002_02101_00002_nrcblong/jw02609001002_02101_00002_nrcblong_i2d.fits</td><td>COMPLETE</td><td>None</td><td>None</td></tr>\n",
       "</table></div>"
      ],
      "text/plain": [
       "<Table length=30>\n",
       "                                            Local Path                                              Status  Message  URL  \n",
       "                                              str98                                                  str8    object object\n",
       "-------------------------------------------------------------------------------------------------- -------- ------- ------\n",
       "      ./mastDownload/JWST/jw02609001001_02101_00001_nrca1/jw02609001001_02101_00001_nrca1_i2d.fits COMPLETE    None   None\n",
       "      ./mastDownload/JWST/jw02609001001_02101_00001_nrca2/jw02609001001_02101_00001_nrca2_i2d.fits COMPLETE    None   None\n",
       "      ./mastDownload/JWST/jw02609001001_02101_00001_nrca3/jw02609001001_02101_00001_nrca3_i2d.fits COMPLETE    None   None\n",
       "      ./mastDownload/JWST/jw02609001001_02101_00001_nrca4/jw02609001001_02101_00001_nrca4_i2d.fits COMPLETE    None   None\n",
       "./mastDownload/JWST/jw02609001001_02101_00001_nrcalong/jw02609001001_02101_00001_nrcalong_i2d.fits COMPLETE    None   None\n",
       "                                                                                               ...      ...     ...    ...\n",
       "./mastDownload/JWST/jw02609001002_02101_00002_nrcalong/jw02609001002_02101_00002_nrcalong_i2d.fits COMPLETE    None   None\n",
       "      ./mastDownload/JWST/jw02609001002_02101_00002_nrcb1/jw02609001002_02101_00002_nrcb1_i2d.fits COMPLETE    None   None\n",
       "      ./mastDownload/JWST/jw02609001002_02101_00002_nrcb2/jw02609001002_02101_00002_nrcb2_i2d.fits COMPLETE    None   None\n",
       "      ./mastDownload/JWST/jw02609001002_02101_00002_nrcb3/jw02609001002_02101_00002_nrcb3_i2d.fits COMPLETE    None   None\n",
       "      ./mastDownload/JWST/jw02609001002_02101_00002_nrcb4/jw02609001002_02101_00002_nrcb4_i2d.fits COMPLETE    None   None\n",
       "./mastDownload/JWST/jw02609001002_02101_00002_nrcblong/jw02609001002_02101_00002_nrcblong_i2d.fits COMPLETE    None   None"
      ]
     },
     "execution_count": 37,
     "metadata": {},
     "output_type": "execute_result"
    }
   ],
   "source": [
    "Observations.download_products(i2d_lbl2)"
   ]
  },
  {
   "cell_type": "code",
   "execution_count": 41,
   "id": "3e5264f9-c11e-44fc-a290-92381613d911",
   "metadata": {},
   "outputs": [
    {
     "name": "stdout",
     "output_type": "stream",
     "text": [
      "?rw-r--r-- nidever/staff       2880 2022-10-20 00:43:43 jw02609001001_02101_00001_nrca1/jw02609001001_02101_00001_nrca1_i2d_phatgaiadr3wcs.fits \n",
      "?rw-r--r-- nidever/staff       2880 2022-10-20 00:45:30 jw02609001001_02101_00001_nrca2/jw02609001001_02101_00001_nrca2_i2d_phatgaiadr3wcs.fits \n",
      "?rw-r--r-- nidever/staff       2880 2022-10-20 00:47:02 jw02609001001_02101_00001_nrca3/jw02609001001_02101_00001_nrca3_i2d_phatgaiadr3wcs.fits \n",
      "?rw-r--r-- nidever/staff       2880 2022-10-20 00:49:20 jw02609001001_02101_00001_nrca4/jw02609001001_02101_00001_nrca4_i2d_phatgaiadr3wcs.fits \n",
      "?rw-r--r-- nidever/staff       2880 2022-10-20 01:18:50 jw02609001001_02101_00001_nrcalong/jw02609001001_02101_00001_nrcalong_i2d_phatgaiadr3wcs.fits \n",
      "?rw-r--r-- nidever/staff       2880 2022-10-20 00:51:48 jw02609001001_02101_00001_nrcb1/jw02609001001_02101_00001_nrcb1_i2d_phatgaiadr3wcs.fits \n",
      "?rw-r--r-- nidever/staff       2880 2022-10-20 00:53:04 jw02609001001_02101_00001_nrcb2/jw02609001001_02101_00001_nrcb2_i2d_phatgaiadr3wcs.fits \n",
      "?rw-r--r-- nidever/staff       2880 2022-10-20 00:54:13 jw02609001001_02101_00001_nrcb3/jw02609001001_02101_00001_nrcb3_i2d_phatgaiadr3wcs.fits \n",
      "?rw-r--r-- nidever/staff       2880 2022-10-20 00:55:21 jw02609001001_02101_00001_nrcb4/jw02609001001_02101_00001_nrcb4_i2d_phatgaiadr3wcs.fits \n",
      "?rw-r--r-- nidever/staff       2880 2022-10-20 01:21:56 jw02609001001_02101_00001_nrcblong/jw02609001001_02101_00001_nrcblong_i2d_phatgaiadr3wcs.fits \n",
      "?rw-r--r-- nidever/staff       2880 2022-10-20 00:56:47 jw02609001002_02101_00001_nrca1/jw02609001002_02101_00001_nrca1_i2d_phatgaiadr3wcs.fits \n",
      "?rw-r--r-- nidever/staff       2880 2022-10-20 00:58:08 jw02609001002_02101_00001_nrca2/jw02609001002_02101_00001_nrca2_i2d_phatgaiadr3wcs.fits \n",
      "?rw-r--r-- nidever/staff       2880 2022-10-20 00:59:27 jw02609001002_02101_00001_nrca3/jw02609001002_02101_00001_nrca3_i2d_phatgaiadr3wcs.fits \n",
      "?rw-r--r-- nidever/staff       2880 2022-10-20 01:00:34 jw02609001002_02101_00001_nrca4/jw02609001002_02101_00001_nrca4_i2d_phatgaiadr3wcs.fits \n",
      "?rw-r--r-- nidever/staff       2880 2022-10-20 01:23:10 jw02609001002_02101_00001_nrcalong/jw02609001002_02101_00001_nrcalong_i2d_phatgaiadr3wcs.fits \n",
      "?rw-r--r-- nidever/staff       2880 2022-10-20 01:01:50 jw02609001002_02101_00001_nrcb1/jw02609001002_02101_00001_nrcb1_i2d_phatgaiadr3wcs.fits \n",
      "?rw-r--r-- nidever/staff       2880 2022-10-20 01:03:07 jw02609001002_02101_00001_nrcb2/jw02609001002_02101_00001_nrcb2_i2d_phatgaiadr3wcs.fits \n",
      "?rw-r--r-- nidever/staff       2880 2022-10-20 01:04:20 jw02609001002_02101_00001_nrcb3/jw02609001002_02101_00001_nrcb3_i2d_phatgaiadr3wcs.fits \n",
      "?rw-r--r-- nidever/staff       2880 2022-10-20 01:05:32 jw02609001002_02101_00001_nrcb4/jw02609001002_02101_00001_nrcb4_i2d_phatgaiadr3wcs.fits \n",
      "?rw-r--r-- nidever/staff       2880 2022-10-20 01:24:27 jw02609001002_02101_00001_nrcblong/jw02609001002_02101_00001_nrcblong_i2d_phatgaiadr3wcs.fits \n",
      "?rw-r--r-- nidever/staff       2880 2022-10-20 01:06:40 jw02609001002_02101_00002_nrca1/jw02609001002_02101_00002_nrca1_i2d_phatgaiadr3wcs.fits \n",
      "?rw-r--r-- nidever/staff       2880 2022-10-20 01:07:59 jw02609001002_02101_00002_nrca2/jw02609001002_02101_00002_nrca2_i2d_phatgaiadr3wcs.fits \n",
      "?rw-r--r-- nidever/staff       2880 2022-10-20 01:09:07 jw02609001002_02101_00002_nrca3/jw02609001002_02101_00002_nrca3_i2d_phatgaiadr3wcs.fits \n",
      "?rw-r--r-- nidever/staff       2880 2022-10-20 01:10:14 jw02609001002_02101_00002_nrca4/jw02609001002_02101_00002_nrca4_i2d_phatgaiadr3wcs.fits \n",
      "?rw-r--r-- nidever/staff       2880 2022-10-20 01:25:39 jw02609001002_02101_00002_nrcalong/jw02609001002_02101_00002_nrcalong_i2d_phatgaiadr3wcs.fits \n",
      "?rw-r--r-- nidever/staff       2880 2022-10-20 01:11:15 jw02609001002_02101_00002_nrcb1/jw02609001002_02101_00002_nrcb1_i2d_phatgaiadr3wcs.fits \n",
      "?rw-r--r-- nidever/staff       2880 2022-10-20 01:13:59 jw02609001002_02101_00002_nrcb2/jw02609001002_02101_00002_nrcb2_i2d_phatgaiadr3wcs.fits \n",
      "?rw-r--r-- nidever/staff       2880 2022-10-20 01:15:45 jw02609001002_02101_00002_nrcb3/jw02609001002_02101_00002_nrcb3_i2d_phatgaiadr3wcs.fits \n",
      "?rw-r--r-- nidever/staff       2880 2022-10-20 01:17:08 jw02609001002_02101_00002_nrcb4/jw02609001002_02101_00002_nrcb4_i2d_phatgaiadr3wcs.fits \n",
      "?rw-r--r-- nidever/staff       2880 2022-10-20 01:26:56 jw02609001002_02101_00002_nrcblong/jw02609001002_02101_00002_nrcblong_i2d_phatgaiadr3wcs.fits \n",
      "None\n"
     ]
    }
   ],
   "source": [
    "with tarfile.TarFile('dnidever_wcs.tar') as tf:\n",
    "    print(tf.list())\n",
    "    tf.extractall(path='./mastDownload/JWST')"
   ]
  }
 ],
 "metadata": {
  "kernelspec": {
   "display_name": "Python 3 (ipykernel)",
   "language": "python",
   "name": "python3"
  },
  "language_info": {
   "codemirror_mode": {
    "name": "ipython",
    "version": 3
   },
   "file_extension": ".py",
   "mimetype": "text/x-python",
   "name": "python",
   "nbconvert_exporter": "python",
   "pygments_lexer": "ipython3",
   "version": "3.11.1"
  }
 },
 "nbformat": 4,
 "nbformat_minor": 5
}
