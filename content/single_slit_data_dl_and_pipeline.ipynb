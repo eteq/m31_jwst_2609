{
 "cells": [
  {
   "cell_type": "markdown",
   "id": "bec4fbe2-f3db-497e-b359-0286cf12b428",
   "metadata": {},
   "source": [
    "# Simplest single-slit download and pipeline run"
   ]
  },
  {
   "cell_type": "code",
   "execution_count": 1,
   "id": "110a1e37-bdc6-476c-aede-ec7f58869a57",
   "metadata": {},
   "outputs": [
    {
     "name": "stderr",
     "output_type": "stream",
     "text": [
      "2024-02-22 19:46:49,886 - stpipe - INFO - MAST API token accepted, welcome Erik Tollerud\n"
     ]
    },
    {
     "name": "stdout",
     "output_type": "stream",
     "text": [
      "INFO: MAST API token accepted, welcome Erik Tollerud [astroquery.mast.auth]\n"
     ]
    }
   ],
   "source": [
    "import os\n",
    "from pathlib import Path\n",
    "import json\n",
    "import re\n",
    "from copy import deepcopy\n",
    "\n",
    "import numpy as np\n",
    "\n",
    "from astroquery.mast import Observations\n",
    "\n",
    "from astropy.io import fits\n",
    "from astropy import table\n",
    "\n",
    "from jwst import datamodels\n",
    "from jwst.pipeline import Spec2Pipeline\n",
    "\n",
    "%matplotlib inline\n",
    "from matplotlib import pyplot as plt\n",
    "\n",
    "Observations.login(os.environ['MAST_TOKEN'])\n",
    "\n",
    "dl_path = Path('mastDownload/')"
   ]
  },
  {
   "cell_type": "code",
   "execution_count": 2,
   "id": "478c326a-d66e-4c7f-8f11-bd84969f99c2",
   "metadata": {},
   "outputs": [
    {
     "data": {
      "text/html": [
       "<div><i>Table masked=True length=312</i>\n",
       "<table id=\"table140023255856272\" class=\"table-striped table-bordered table-condensed\">\n",
       "<thead><tr><th>intentType</th><th>obs_collection</th><th>provenance_name</th><th>instrument_name</th><th>project</th><th>filters</th><th>wavelength_region</th><th>target_name</th><th>target_classification</th><th>obs_id</th><th>s_ra</th><th>s_dec</th><th>dataproduct_type</th><th>proposal_pi</th><th>calib_level</th><th>t_min</th><th>t_max</th><th>t_exptime</th><th>em_min</th><th>em_max</th><th>obs_title</th><th>t_obs_release</th><th>proposal_id</th><th>proposal_type</th><th>sequence_number</th><th>s_region</th><th>jpegURL</th><th>dataURL</th><th>dataRights</th><th>mtFlag</th><th>srcDen</th><th>obsid</th><th>objID</th></tr></thead>\n",
       "<thead><tr><th>str7</th><th>str4</th><th>str7</th><th>str12</th><th>str4</th><th>str12</th><th>str8</th><th>str27</th><th>str23</th><th>str40</th><th>float64</th><th>float64</th><th>str8</th><th>str14</th><th>int64</th><th>float64</th><th>float64</th><th>float64</th><th>float64</th><th>float64</th><th>str60</th><th>float64</th><th>str4</th><th>str2</th><th>int64</th><th>str115</th><th>str66</th><th>str67</th><th>str16</th><th>bool</th><th>float64</th><th>str9</th><th>str9</th></tr></thead>\n",
       "<tr><td>science</td><td>JWST</td><td>CALJWST</td><td>NIRSPEC/MSA</td><td>JWST</td><td>F110W;MIRROR</td><td>Infrared</td><td>NGC6791-NEWCATALOG-GAIAEDR3</td><td>--</td><td>jw02609008001_02101_00002_nrs1</td><td>290.21948</td><td>37.76622777777778</td><td>image</td><td>Nidever, David</td><td>2</td><td>59811.67119774213</td><td>59811.67169481482</td><td>32.21</td><td>1000.0</td><td>1300.0</td><td>Searching for the Alpha-Abundance Bimodality in the M31 Disk</td><td>59968.616192</td><td>2609</td><td>GO</td><td>--</td><td>POLYGON 290.246308674 37.799969045 290.170557371 37.802988286 290.173976128 37.862571721 290.249813433 37.858268436</td><td>mast:JWST/product/jw02609008001_02101_00002_nrs1_cal.jpg</td><td>mast:JWST/product/jw02609008001_02101_00002_nrs1_cal.fits</td><td>PUBLIC</td><td>False</td><td>nan</td><td>89376201</td><td>391056271</td></tr>\n",
       "<tr><td>science</td><td>JWST</td><td>CALJWST</td><td>NIRSPEC/MSA</td><td>JWST</td><td>F110W;MIRROR</td><td>Infrared</td><td>NGC6791-NEWCATALOG-GAIAEDR3</td><td>--</td><td>jw02609008001_02101_00002_nrs2</td><td>290.21948</td><td>37.76622777777778</td><td>image</td><td>Nidever, David</td><td>2</td><td>59811.67119774213</td><td>59811.67169481482</td><td>32.21</td><td>1000.0</td><td>1300.0</td><td>Searching for the Alpha-Abundance Bimodality in the M31 Disk</td><td>59968.616192</td><td>2609</td><td>GO</td><td>--</td><td>POLYGON 290.241878974 37.737592338 290.16595988 37.739195427 290.170290683 37.798765269 290.246045144 37.795847808</td><td>mast:JWST/product/jw02609008001_02101_00002_nrs2_cal.jpg</td><td>mast:JWST/product/jw02609008001_02101_00002_nrs2_cal.fits</td><td>PUBLIC</td><td>False</td><td>nan</td><td>89376203</td><td>391056276</td></tr>\n",
       "<tr><td>science</td><td>JWST</td><td>CALJWST</td><td>NIRSPEC/MSA</td><td>JWST</td><td>F110W;MIRROR</td><td>Infrared</td><td>NGC6791-NEWCATALOG-GAIAEDR3</td><td>--</td><td>jw02609008001_02101_00001_nrs1</td><td>290.21948</td><td>37.76622777777778</td><td>image</td><td>Nidever, David</td><td>2</td><td>59811.66659922361</td><td>59811.667096296296</td><td>32.21</td><td>1000.0</td><td>1300.0</td><td>Searching for the Alpha-Abundance Bimodality in the M31 Disk</td><td>59968.616192</td><td>2609</td><td>GO</td><td>--</td><td>POLYGON 290.246403251 37.800002027 290.170651948 37.803021804 290.174071382 37.862605215 290.249908673 37.858301394</td><td>mast:JWST/product/jw02609008001_02101_00001_nrs1_cal.jpg</td><td>mast:JWST/product/jw02609008001_02101_00001_nrs1_cal.fits</td><td>PUBLIC</td><td>False</td><td>nan</td><td>89376205</td><td>391056290</td></tr>\n",
       "<tr><td>science</td><td>JWST</td><td>CALJWST</td><td>NIRSPEC/MSA</td><td>JWST</td><td>F110W;MIRROR</td><td>Infrared</td><td>NGC6791-NEWCATALOG-GAIAEDR3</td><td>--</td><td>jw02609008001_02101_00001_nrs2</td><td>290.21948</td><td>37.76622777777778</td><td>image</td><td>Nidever, David</td><td>2</td><td>59811.66659922361</td><td>59811.667096296296</td><td>32.21</td><td>1000.0</td><td>1300.0</td><td>Searching for the Alpha-Abundance Bimodality in the M31 Disk</td><td>59968.616192</td><td>2609</td><td>GO</td><td>--</td><td>POLYGON 290.241972844 37.737625352 290.166053733 37.739228977 290.170385212 37.798798789 290.246139675 37.795880793</td><td>mast:JWST/product/jw02609008001_02101_00001_nrs2_cal.jpg</td><td>mast:JWST/product/jw02609008001_02101_00001_nrs2_cal.fits</td><td>PUBLIC</td><td>False</td><td>nan</td><td>89376208</td><td>391056298</td></tr>\n",
       "<tr><td>science</td><td>JWST</td><td>CALJWST</td><td>NIRCAM/IMAGE</td><td>JWST</td><td>F277W</td><td>Infrared</td><td>M31-NIRCAM-PREIMAGING</td><td>Galaxy; Spiral galaxies</td><td>jw02609-o001_t006_nircam_clear-f277w</td><td>11.5375</td><td>42.08777777777778</td><td>image</td><td>Nidever, David</td><td>3</td><td>59810.65694376852</td><td>59810.677058009256</td><td>579.7860000000001</td><td>2416.0</td><td>3127.0</td><td>Searching for the Alpha-Abundance Bimodality in the M31 Disk</td><td>60178.64913193</td><td>2609</td><td>GO</td><td>--</td><td>POLYGON 11.625512875 42.084228042 11.550946577 42.027425799 11.455668682 42.096235438 11.530230532 42.15309936</td><td>mast:JWST/product/jw02609-o001_t006_nircam_clear-f277w_i2d.jpg</td><td>mast:JWST/product/jw02609-o001_t006_nircam_clear-f277w_i2d.fits</td><td>PUBLIC</td><td>False</td><td>nan</td><td>89383611</td><td>390528709</td></tr>\n",
       "<tr><td>science</td><td>JWST</td><td>CALJWST</td><td>NIRCAM/IMAGE</td><td>JWST</td><td>F150W</td><td>Infrared</td><td>M31-NIRCAM-PREIMAGING</td><td>Galaxy; Spiral galaxies</td><td>jw02609-o001_t006_nircam_clear-f150w</td><td>11.5375</td><td>42.08777777777778</td><td>image</td><td>Nidever, David</td><td>3</td><td>59810.65694302778</td><td>59810.677058009256</td><td>579.7860000000001</td><td>1331.0</td><td>1668.0</td><td>Searching for the Alpha-Abundance Bimodality in the M31 Disk</td><td>60178.64913193</td><td>2609</td><td>GO</td><td>--</td><td>POLYGON 11.626294139 42.085182162 11.551206833 42.026993085 11.454809877 42.095425524 11.529889742 42.15367744</td><td>mast:JWST/product/jw02609-o001_t006_nircam_clear-f150w_i2d.jpg</td><td>mast:JWST/product/jw02609-o001_t006_nircam_clear-f150w_i2d.fits</td><td>PUBLIC</td><td>False</td><td>nan</td><td>89383635</td><td>390528671</td></tr>\n",
       "<tr><td>...</td><td>...</td><td>...</td><td>...</td><td>...</td><td>...</td><td>...</td><td>...</td><td>...</td><td>...</td><td>...</td><td>...</td><td>...</td><td>...</td><td>...</td><td>...</td><td>...</td><td>...</td><td>...</td><td>...</td><td>...</td><td>...</td><td>...</td><td>...</td><td>...</td><td>...</td><td>...</td><td>...</td><td>...</td><td>...</td><td>...</td><td>...</td><td>...</td></tr>\n",
       "<tr><td>science</td><td>JWST</td><td>CALJWST</td><td>NIRSPEC/MSA</td><td>JWST</td><td>F100LP;G140H</td><td>Infrared</td><td>NGC6791-NEWCATALOG-GAIAEDR3</td><td>--</td><td>jw02609-o010_s10108_nirspec_f100lp-g140h</td><td>290.21948</td><td>37.76622777777778</td><td>spectrum</td><td>Nidever, David</td><td>3</td><td>60136.569050925</td><td>60136.59446353009</td><td>291.778</td><td>810.0</td><td>5000.0</td><td>Searching for the Alpha-Abundance Bimodality in the M31 Disk</td><td>60503.07453698</td><td>2609</td><td>GO</td><td>--</td><td>POLYGON 290.213099416 37.763689792 290.213558023 37.763689792 290.213558023 37.763284128 290.213099416 37.763284128</td><td>mast:JWST/product/jw02609-o010_s10108_nirspec_f100lp-g140h_cal.jpg</td><td>mast:JWST/product/jw02609-o010_s10108_nirspec_f100lp-g140h_s2d.fits</td><td>EXCLUSIVE_ACCESS</td><td>False</td><td>nan</td><td>150936686</td><td>390600447</td></tr>\n",
       "<tr><td>science</td><td>JWST</td><td>CALJWST</td><td>NIRSPEC/MSA</td><td>JWST</td><td>F100LP;G140H</td><td>Infrared</td><td>NGC6791-NEWCATALOG-GAIAEDR3</td><td>--</td><td>jw02609-o010_s01663_nirspec_f100lp-g140h</td><td>290.21948</td><td>37.76622777777778</td><td>spectrum</td><td>Nidever, David</td><td>3</td><td>60136.569050925</td><td>60136.59446353009</td><td>291.778</td><td>810.0</td><td>5000.0</td><td>Searching for the Alpha-Abundance Bimodality in the M31 Disk</td><td>60503.07453698</td><td>2609</td><td>GO</td><td>--</td><td>POLYGON 290.179079791 37.766767513 290.17954786 37.766767513 290.17954786 37.766357745 290.179079791 37.766357745</td><td>mast:JWST/product/jw02609-o010_s01663_nirspec_f100lp-g140h_cal.jpg</td><td>mast:JWST/product/jw02609-o010_s01663_nirspec_f100lp-g140h_s2d.fits</td><td>EXCLUSIVE_ACCESS</td><td>False</td><td>nan</td><td>150936695</td><td>390600517</td></tr>\n",
       "<tr><td>science</td><td>JWST</td><td>CALJWST</td><td>NIRSPEC/MSA</td><td>JWST</td><td>F100LP;G140H</td><td>Infrared</td><td>NGC6791-NEWCATALOG-GAIAEDR3</td><td>--</td><td>jw02609-o010_s01535_nirspec_f100lp-g140h</td><td>290.21948</td><td>37.76622777777778</td><td>spectrum</td><td>Nidever, David</td><td>3</td><td>60136.569050925</td><td>60136.59446353009</td><td>291.778</td><td>810.0</td><td>5000.0</td><td>Searching for the Alpha-Abundance Bimodality in the M31 Disk</td><td>60503.07453698</td><td>2609</td><td>GO</td><td>--</td><td>POLYGON 290.176763859 37.7456188 290.177230182 37.7456188 290.177230182 37.74521384 290.176763859 37.74521384</td><td>mast:JWST/product/jw02609-o010_s01535_nirspec_f100lp-g140h_cal.jpg</td><td>mast:JWST/product/jw02609-o010_s01535_nirspec_f100lp-g140h_s2d.fits</td><td>EXCLUSIVE_ACCESS</td><td>False</td><td>nan</td><td>150936703</td><td>390600535</td></tr>\n",
       "<tr><td>science</td><td>JWST</td><td>CALJWST</td><td>NIRSPEC/MSA</td><td>JWST</td><td>F100LP;G140H</td><td>Infrared</td><td>NGC6791-NEWCATALOG-GAIAEDR3</td><td>--</td><td>jw02609-o010_s00021_nirspec_f100lp-g140h</td><td>290.21948</td><td>37.76622777777778</td><td>spectrum</td><td>Nidever, David</td><td>3</td><td>60136.569050925</td><td>60136.59446353009</td><td>291.778</td><td>810.0</td><td>5000.0</td><td>Searching for the Alpha-Abundance Bimodality in the M31 Disk</td><td>60503.07453698</td><td>2609</td><td>GO</td><td>--</td><td>POLYGON 290.253375214 37.759647726 290.25384697 37.759647726 290.25384697 37.759226569 290.253375214 37.759226569</td><td>mast:JWST/product/jw02609-o010_s00021_nirspec_f100lp-g140h_cal.jpg</td><td>mast:JWST/product/jw02609-o010_s00021_nirspec_f100lp-g140h_s2d.fits</td><td>EXCLUSIVE_ACCESS</td><td>False</td><td>nan</td><td>150936716</td><td>390600544</td></tr>\n",
       "<tr><td>science</td><td>JWST</td><td>CALJWST</td><td>NIRSPEC/MSA</td><td>JWST</td><td>F100LP;G140H</td><td>Infrared</td><td>NGC6791-NEWCATALOG-GAIAEDR3</td><td>--</td><td>jw02609-o010_s01386_nirspec_f100lp-g140h</td><td>290.21948</td><td>37.76622777777778</td><td>spectrum</td><td>Nidever, David</td><td>3</td><td>60136.569050925</td><td>60136.59446353009</td><td>291.778</td><td>810.0</td><td>5000.0</td><td>Searching for the Alpha-Abundance Bimodality in the M31 Disk</td><td>60503.07453698</td><td>2609</td><td>GO</td><td>--</td><td>POLYGON 290.216681749 37.720189271 290.217155289 37.720189271 290.217155289 37.719774553 290.216681749 37.719774553</td><td>mast:JWST/product/jw02609-o010_s01386_nirspec_f100lp-g140h_cal.jpg</td><td>mast:JWST/product/jw02609-o010_s01386_nirspec_f100lp-g140h_s2d.fits</td><td>EXCLUSIVE_ACCESS</td><td>False</td><td>nan</td><td>150936726</td><td>390600554</td></tr>\n",
       "<tr><td>science</td><td>JWST</td><td>CALJWST</td><td>NIRSPEC/MSA</td><td>JWST</td><td>F100LP;G140H</td><td>Infrared</td><td>NGC6791-NEWCATALOG-GAIAEDR3</td><td>--</td><td>jw02609-o010_s01765_nirspec_f100lp-g140h</td><td>290.21948</td><td>37.76622777777778</td><td>spectrum</td><td>Nidever, David</td><td>3</td><td>60136.569050925</td><td>60136.59446353009</td><td>291.778</td><td>810.0</td><td>5000.0</td><td>Searching for the Alpha-Abundance Bimodality in the M31 Disk</td><td>60503.07453698</td><td>2609</td><td>GO</td><td>--</td><td>POLYGON 290.214274703 37.735234572 290.214751504 37.735234572 290.214751504 37.734816203 290.214274703 37.734816203</td><td>mast:JWST/product/jw02609-o010_s01765_nirspec_f100lp-g140h_cal.jpg</td><td>mast:JWST/product/jw02609-o010_s01765_nirspec_f100lp-g140h_s2d.fits</td><td>EXCLUSIVE_ACCESS</td><td>False</td><td>nan</td><td>150936739</td><td>390600568</td></tr>\n",
       "<tr><td>science</td><td>JWST</td><td>CALJWST</td><td>NIRSPEC/MSA</td><td>JWST</td><td>F100LP;G140H</td><td>Infrared</td><td>NGC6791-NEWCATALOG-GAIAEDR3</td><td>--</td><td>jw02609-o010_s01342_nirspec_f100lp-g140h</td><td>290.21948</td><td>37.76622777777778</td><td>spectrum</td><td>Nidever, David</td><td>3</td><td>60136.569050925</td><td>60136.59446353009</td><td>291.778</td><td>810.0</td><td>5000.0</td><td>Searching for the Alpha-Abundance Bimodality in the M31 Disk</td><td>60503.07453698</td><td>2609</td><td>GO</td><td>--</td><td>POLYGON 290.176954079 37.755684688 290.177421583 37.755684688 290.177421583 37.755277438 290.176954079 37.755277438</td><td>mast:JWST/product/jw02609-o010_s01342_nirspec_f100lp-g140h_cal.jpg</td><td>mast:JWST/product/jw02609-o010_s01342_nirspec_f100lp-g140h_s2d.fits</td><td>EXCLUSIVE_ACCESS</td><td>False</td><td>nan</td><td>150936748</td><td>390600576</td></tr>\n",
       "</table></div>"
      ],
      "text/plain": [
       "<Table masked=True length=312>\n",
       "intentType obs_collection provenance_name ...  srcDen   obsid     objID  \n",
       "   str7         str4            str7      ... float64    str9      str9  \n",
       "---------- -------------- --------------- ... ------- --------- ---------\n",
       "   science           JWST         CALJWST ...     nan  89376201 391056271\n",
       "   science           JWST         CALJWST ...     nan  89376203 391056276\n",
       "   science           JWST         CALJWST ...     nan  89376205 391056290\n",
       "   science           JWST         CALJWST ...     nan  89376208 391056298\n",
       "   science           JWST         CALJWST ...     nan  89383611 390528709\n",
       "   science           JWST         CALJWST ...     nan  89383635 390528671\n",
       "       ...            ...             ... ...     ...       ...       ...\n",
       "   science           JWST         CALJWST ...     nan 150936686 390600447\n",
       "   science           JWST         CALJWST ...     nan 150936695 390600517\n",
       "   science           JWST         CALJWST ...     nan 150936703 390600535\n",
       "   science           JWST         CALJWST ...     nan 150936716 390600544\n",
       "   science           JWST         CALJWST ...     nan 150936726 390600554\n",
       "   science           JWST         CALJWST ...     nan 150936739 390600568\n",
       "   science           JWST         CALJWST ...     nan 150936748 390600576"
      ]
     },
     "execution_count": 2,
     "metadata": {},
     "output_type": "execute_result"
    }
   ],
   "source": [
    "obses = Observations.query_criteria(proposal_id=2609)\n",
    "obses"
   ]
  },
  {
   "cell_type": "code",
   "execution_count": 3,
   "id": "919ad280-cc54-417b-aa56-522bdae06713",
   "metadata": {},
   "outputs": [],
   "source": [
    "ims3 = obses[(obses['calib_level']==3) & (obses['dataproduct_type'] == 'image')]"
   ]
  },
  {
   "cell_type": "code",
   "execution_count": 4,
   "id": "7290d9ca-48e3-44bb-905e-463bea516f4d",
   "metadata": {},
   "outputs": [
    {
     "data": {
      "text/plain": [
       "{'IC166-NEWCATALOG-GAIAEDR3': 58,\n",
       " 'M31-FINAL-MSATA+TARGETS': 103,\n",
       " 'M71-NEWCATALOG-GAIAEDR3': 74,\n",
       " 'NGC6791-NEWCATALOG-GAIAEDR3': 69}"
      ]
     },
     "execution_count": 4,
     "metadata": {},
     "output_type": "execute_result"
    }
   ],
   "source": [
    "specs3 = obses[(obses['calib_level']==3) & (obses['dataproduct_type'] != 'image')]\n",
    "\n",
    "d = {}\n",
    "for row in specs3:\n",
    "    d.setdefault(row['target_name'], 0)\n",
    "    d[row['target_name']] += 1\n",
    "d"
   ]
  },
  {
   "cell_type": "markdown",
   "id": "b3d98507-753a-4ada-933c-ca89a38d02f8",
   "metadata": {},
   "source": [
    "So those must be the actual spectra, good!"
   ]
  },
  {
   "cell_type": "code",
   "execution_count": 5,
   "id": "26ad6125-0edb-43f1-bf13-6e5484eee596",
   "metadata": {},
   "outputs": [
    {
     "data": {
      "text/plain": [
       "'s01035'"
      ]
     },
     "execution_count": 5,
     "metadata": {},
     "output_type": "execute_result"
    }
   ],
   "source": [
    "re.match('jw.*_(s.*?)_.*', 'jw02609-o007_s01035_nirspec_f100lp-g140h\t28.09702').group(1)"
   ]
  },
  {
   "cell_type": "code",
   "execution_count": 6,
   "id": "8c640b2a-a97f-46fd-afe8-edf7789f47b5",
   "metadata": {},
   "outputs": [
    {
     "data": {
      "text/html": [
       "<div><i>Table masked=True length=1</i>\n",
       "<table id=\"table140023255683024\" class=\"table-striped table-bordered table-condensed\">\n",
       "<thead><tr><th>intentType</th><th>obs_collection</th><th>provenance_name</th><th>instrument_name</th><th>project</th><th>filters</th><th>wavelength_region</th><th>target_name</th><th>target_classification</th><th>obs_id</th><th>s_ra</th><th>s_dec</th><th>dataproduct_type</th><th>proposal_pi</th><th>calib_level</th><th>t_min</th><th>t_max</th><th>t_exptime</th><th>em_min</th><th>em_max</th><th>obs_title</th><th>t_obs_release</th><th>proposal_id</th><th>proposal_type</th><th>sequence_number</th><th>s_region</th><th>jpegURL</th><th>dataURL</th><th>dataRights</th><th>mtFlag</th><th>srcDen</th><th>obsid</th><th>objID</th></tr></thead>\n",
       "<thead><tr><th>str7</th><th>str4</th><th>str7</th><th>str12</th><th>str4</th><th>str12</th><th>str8</th><th>str27</th><th>str23</th><th>str40</th><th>float64</th><th>float64</th><th>str8</th><th>str14</th><th>int64</th><th>float64</th><th>float64</th><th>float64</th><th>float64</th><th>float64</th><th>str60</th><th>float64</th><th>str4</th><th>str2</th><th>int64</th><th>str115</th><th>str66</th><th>str67</th><th>str16</th><th>bool</th><th>float64</th><th>str9</th><th>str9</th></tr></thead>\n",
       "<tr><td>science</td><td>JWST</td><td>CALJWST</td><td>NIRSPEC/MSA</td><td>JWST</td><td>F100LP;G140H</td><td>Infrared</td><td>IC166-NEWCATALOG-GAIAEDR3</td><td>--</td><td>jw02609-o007_s01035_nirspec_f100lp-g140h</td><td>28.09702</td><td>61.86512777777778</td><td>spectrum</td><td>Nidever, David</td><td>3</td><td>59891.81792711713</td><td>59891.855679699074</td><td>291.778</td><td>810.0</td><td>5000.0</td><td>Searching for the Alpha-Abundance Bimodality in the M31 Disk</td><td>60256.96119201</td><td>2609</td><td>GO</td><td>--</td><td>POLYGON 28.074579882 61.877969446 28.075552087 61.877969446 28.075552087 61.877667174 28.074579882 61.877667174</td><td>mast:JWST/product/jw02609-o007_s01035_nirspec_f100lp-g140h_cal.jpg</td><td>mast:JWST/product/jw02609-o007_s01035_nirspec_f100lp-g140h_s2d.fits</td><td>PUBLIC</td><td>False</td><td>nan</td><td>100544641</td><td>390754414</td></tr>\n",
       "</table></div>"
      ],
      "text/plain": [
       "<Table masked=True length=1>\n",
       "intentType obs_collection provenance_name ...  srcDen   obsid     objID  \n",
       "   str7         str4            str7      ... float64    str9      str9  \n",
       "---------- -------------- --------------- ... ------- --------- ---------\n",
       "   science           JWST         CALJWST ...     nan 100544641 390754414"
      ]
     },
     "execution_count": 6,
     "metadata": {},
     "output_type": "execute_result"
    }
   ],
   "source": [
    "def filter_on_specname(name, table, target_name=None):\n",
    "    msk = []\n",
    "    for row in table:\n",
    "        m = re.match('jw.*_(s.*?)_.*', row['obs_id'])\n",
    "        match = m and m.group(1) == name\n",
    "        if target_name is not None:\n",
    "            match = match and (row['target_name']==target_name)\n",
    "        msk.append(match)\n",
    "    return table[np.array(msk)]\n",
    "\n",
    "example_spec_tab = filter_on_specname('s01035', specs3, target_name='IC166-NEWCATALOG-GAIAEDR3')\n",
    "example_spec_tab"
   ]
  },
  {
   "cell_type": "markdown",
   "id": "913e1d0b-38d7-481e-b134-58b179d77f32",
   "metadata": {},
   "source": [
    "# Try drilling straight into a *single* target"
   ]
  },
  {
   "cell_type": "code",
   "execution_count": 7,
   "id": "ba288f03-752c-4fd5-a81d-73e83dd1e735",
   "metadata": {},
   "outputs": [
    {
     "data": {
      "text/html": [
       "<div><i>Table masked=True length=1038</i>\n",
       "<table id=\"table140023255226768\" class=\"table-striped table-bordered table-condensed\">\n",
       "<thead><tr><th>obsID</th><th>obs_collection</th><th>dataproduct_type</th><th>obs_id</th><th>description</th><th>type</th><th>dataURI</th><th>productType</th><th>productGroupDescription</th><th>productSubGroupDescription</th><th>productDocumentationURL</th><th>project</th><th>prvversion</th><th>proposal_id</th><th>productFilename</th><th>size</th><th>parent_obsid</th><th>dataRights</th><th>calib_level</th></tr></thead>\n",
       "<thead><tr><th>str9</th><th>str4</th><th>str8</th><th>str40</th><th>str71</th><th>str1</th><th>str68</th><th>str9</th><th>str28</th><th>str8</th><th>str1</th><th>str7</th><th>str6</th><th>str4</th><th>str50</th><th>int64</th><th>str9</th><th>str6</th><th>int64</th></tr></thead>\n",
       "<tr><td>100544641</td><td>JWST</td><td>spectrum</td><td>jw02609-o007_s01035_nirspec_f100lp-g140h</td><td>source/target (L3) : association generator</td><td>D</td><td>mast:JWST/product/jw02609-o007_20240212t021359_spec3_00001_asn.json</td><td>INFO</td><td>Minimum Recommended Products</td><td>ASN</td><td>--</td><td>CALJWST</td><td>1.12.5</td><td>2609</td><td>jw02609-o007_20240212t021359_spec3_00001_asn.json</td><td>5091</td><td>100544641</td><td>PUBLIC</td><td>3</td></tr>\n",
       "<tr><td>100544641</td><td>JWST</td><td>spectrum</td><td>jw02609-o007_s01035_nirspec_f100lp-g140h</td><td>source/target (L3) : association pool</td><td>D</td><td>mast:JWST/product/jw02609_20240212t021359_pool.csv</td><td>INFO</td><td>Minimum Recommended Products</td><td>POOL</td><td>--</td><td>CALJWST</td><td>1.12.5</td><td>2609</td><td>jw02609_20240212t021359_pool.csv</td><td>76723</td><td>100544641</td><td>PUBLIC</td><td>3</td></tr>\n",
       "<tr><td>100544641</td><td>JWST</td><td>spectrum</td><td>jw02609-o007_s01035_nirspec_f100lp-g140h</td><td>Preview-Full</td><td>D</td><td>mast:JWST/product/jw02609-o007_s01035_nirspec_f100lp-g140h_cal.jpg</td><td>PREVIEW</td><td>--</td><td>--</td><td>--</td><td>CALJWST</td><td>1.12.5</td><td>2609</td><td>jw02609-o007_s01035_nirspec_f100lp-g140h_cal.jpg</td><td>590</td><td>100544641</td><td>PUBLIC</td><td>3</td></tr>\n",
       "<tr><td>100544641</td><td>JWST</td><td>spectrum</td><td>jw02609-o007_s01035_nirspec_f100lp-g140h</td><td>Preview-Full</td><td>D</td><td>mast:JWST/product/jw02609-o007_s01035_nirspec_f100lp-g140h_crf.jpg</td><td>PREVIEW</td><td>--</td><td>--</td><td>--</td><td>CALJWST</td><td>1.12.5</td><td>2609</td><td>jw02609-o007_s01035_nirspec_f100lp-g140h_crf.jpg</td><td>590</td><td>100544641</td><td>PUBLIC</td><td>3</td></tr>\n",
       "<tr><td>100544641</td><td>JWST</td><td>spectrum</td><td>jw02609-o007_s01035_nirspec_f100lp-g140h</td><td>Preview-Full</td><td>D</td><td>mast:JWST/product/jw02609-o007_s01035_nirspec_f100lp-g140h_s2d.jpg</td><td>PREVIEW</td><td>--</td><td>--</td><td>--</td><td>CALJWST</td><td>1.12.5</td><td>2609</td><td>jw02609-o007_s01035_nirspec_f100lp-g140h_s2d.jpg</td><td>10809</td><td>100544641</td><td>PUBLIC</td><td>3</td></tr>\n",
       "<tr><td>100544641</td><td>JWST</td><td>spectrum</td><td>jw02609-o007_s01035_nirspec_f100lp-g140h</td><td>Preview-Full</td><td>D</td><td>mast:JWST/product/jw02609-o007_s01035_nirspec_f100lp-g140h_x1d.png</td><td>PREVIEW</td><td>--</td><td>--</td><td>--</td><td>CALJWST</td><td>1.12.5</td><td>2609</td><td>jw02609-o007_s01035_nirspec_f100lp-g140h_x1d.png</td><td>141068</td><td>100544641</td><td>PUBLIC</td><td>3</td></tr>\n",
       "<tr><td>...</td><td>...</td><td>...</td><td>...</td><td>...</td><td>...</td><td>...</td><td>...</td><td>...</td><td>...</td><td>...</td><td>...</td><td>...</td><td>...</td><td>...</td><td>...</td><td>...</td><td>...</td><td>...</td></tr>\n",
       "<tr><td>100525197</td><td>JWST</td><td>spectrum</td><td>jw02609007001_03101_00003_nrs2</td><td>Preview-Full</td><td>S</td><td>mast:JWST/product/jw02609007001_03101_00003_nrs2_s2d.jpg</td><td>PREVIEW</td><td>--</td><td>--</td><td>--</td><td>CALJWST</td><td>1.7.2</td><td>2609</td><td>jw02609007001_03101_00003_nrs2_s2d.jpg</td><td>7786</td><td>100544641</td><td>PUBLIC</td><td>2</td></tr>\n",
       "<tr><td>100525197</td><td>JWST</td><td>spectrum</td><td>jw02609007001_03101_00003_nrs2</td><td>Preview-Full</td><td>S</td><td>mast:JWST/product/jw02609007001_03101_00003_nrs2_x1d.png</td><td>PREVIEW</td><td>--</td><td>--</td><td>--</td><td>CALJWST</td><td>1.7.2</td><td>2609</td><td>jw02609007001_03101_00003_nrs2_x1d.png</td><td>138378</td><td>100544641</td><td>PUBLIC</td><td>2</td></tr>\n",
       "<tr><td>100525197</td><td>JWST</td><td>spectrum</td><td>jw02609007001_03101_00003_nrs2</td><td>exposure (L2b): 2D calibrated exposure average over integrations</td><td>S</td><td>mast:JWST/product/jw02609007001_03101_00003_nrs2_cal.fits</td><td>SCIENCE</td><td>--</td><td>CAL</td><td>--</td><td>CALJWST</td><td>1.7.2</td><td>2609</td><td>jw02609007001_03101_00003_nrs2_cal.fits</td><td>142761600</td><td>100544641</td><td>PUBLIC</td><td>2</td></tr>\n",
       "<tr><td>100525197</td><td>JWST</td><td>spectrum</td><td>jw02609007001_03101_00003_nrs2</td><td>exposure (L2a): 2D count rate averaged over integrations</td><td>S</td><td>mast:JWST/product/jw02609007001_03101_00003_nrs2_rate.fits</td><td>SCIENCE</td><td>--</td><td>RATE</td><td>--</td><td>CALJWST</td><td>1.7.2</td><td>2609</td><td>jw02609007001_03101_00003_nrs2_rate.fits</td><td>83943360</td><td>100544641</td><td>PUBLIC</td><td>2</td></tr>\n",
       "<tr><td>100525197</td><td>JWST</td><td>spectrum</td><td>jw02609007001_03101_00003_nrs2</td><td>exposure (L2a): 3D countrate per integration</td><td>S</td><td>mast:JWST/product/jw02609007001_03101_00003_nrs2_rateints.fits</td><td>SCIENCE</td><td>--</td><td>RATEINTS</td><td>--</td><td>CALJWST</td><td>1.7.2</td><td>2609</td><td>jw02609007001_03101_00003_nrs2_rateints.fits</td><td>167829120</td><td>100544641</td><td>PUBLIC</td><td>2</td></tr>\n",
       "<tr><td>100525197</td><td>JWST</td><td>spectrum</td><td>jw02609007001_03101_00003_nrs2</td><td>exposure/target (L2b/L3): 2D image of spectrum avg integrations</td><td>S</td><td>mast:JWST/product/jw02609007001_03101_00003_nrs2_s2d.fits</td><td>SCIENCE</td><td>--</td><td>S2D</td><td>--</td><td>CALJWST</td><td>1.7.2</td><td>2609</td><td>jw02609007001_03101_00003_nrs2_s2d.fits</td><td>64238400</td><td>100544641</td><td>PUBLIC</td><td>2</td></tr>\n",
       "<tr><td>100525197</td><td>JWST</td><td>spectrum</td><td>jw02609007001_03101_00003_nrs2</td><td>exposure/target (L2b/L3): 1D extracted spectrum</td><td>S</td><td>mast:JWST/product/jw02609007001_03101_00003_nrs2_x1d.fits</td><td>SCIENCE</td><td>--</td><td>X1D</td><td>--</td><td>CALJWST</td><td>1.7.2</td><td>2609</td><td>jw02609007001_03101_00003_nrs2_x1d.fits</td><td>19321920</td><td>100544641</td><td>PUBLIC</td><td>2</td></tr>\n",
       "</table></div>"
      ],
      "text/plain": [
       "<Table masked=True length=1038>\n",
       "  obsID   obs_collection dataproduct_type ... dataRights calib_level\n",
       "   str9        str4            str8       ...    str6       int64   \n",
       "--------- -------------- ---------------- ... ---------- -----------\n",
       "100544641           JWST         spectrum ...     PUBLIC           3\n",
       "100544641           JWST         spectrum ...     PUBLIC           3\n",
       "100544641           JWST         spectrum ...     PUBLIC           3\n",
       "100544641           JWST         spectrum ...     PUBLIC           3\n",
       "100544641           JWST         spectrum ...     PUBLIC           3\n",
       "100544641           JWST         spectrum ...     PUBLIC           3\n",
       "      ...            ...              ... ...        ...         ...\n",
       "100525197           JWST         spectrum ...     PUBLIC           2\n",
       "100525197           JWST         spectrum ...     PUBLIC           2\n",
       "100525197           JWST         spectrum ...     PUBLIC           2\n",
       "100525197           JWST         spectrum ...     PUBLIC           2\n",
       "100525197           JWST         spectrum ...     PUBLIC           2\n",
       "100525197           JWST         spectrum ...     PUBLIC           2\n",
       "100525197           JWST         spectrum ...     PUBLIC           2"
      ]
     },
     "execution_count": 7,
     "metadata": {},
     "output_type": "execute_result"
    }
   ],
   "source": [
    "ex_prods = Observations.get_product_list(example_spec_tab)\n",
    "ex_prods"
   ]
  },
  {
   "cell_type": "markdown",
   "id": "db3c1c9d-f0ad-4cc9-aba2-fd690dcc3436",
   "metadata": {},
   "source": [
    "Lotta repeats, but still 224 unique entries"
   ]
  },
  {
   "cell_type": "code",
   "execution_count": 8,
   "id": "b53296dc-88ee-4b17-a5b1-3284934d37e5",
   "metadata": {},
   "outputs": [
    {
     "data": {
      "text/html": [
       "&lt;MaskedColumn name=&apos;productSubGroupDescription&apos; dtype=&apos;str8&apos; length=16&gt;\n",
       "<table>\n",
       "<tr><td>ASN</td></tr>\n",
       "<tr><td>CAL</td></tr>\n",
       "<tr><td>CRF</td></tr>\n",
       "<tr><td>GS-ACQ1</td></tr>\n",
       "<tr><td>GS-ACQ2</td></tr>\n",
       "<tr><td>GS-FG</td></tr>\n",
       "<tr><td>GS-ID</td></tr>\n",
       "<tr><td>GS-TRACK</td></tr>\n",
       "<tr><td>MSA</td></tr>\n",
       "<tr><td>--</td></tr>\n",
       "<tr><td>POOL</td></tr>\n",
       "<tr><td>RATE</td></tr>\n",
       "<tr><td>RATEINTS</td></tr>\n",
       "<tr><td>S2D</td></tr>\n",
       "<tr><td>UNCAL</td></tr>\n",
       "<tr><td>X1D</td></tr>\n",
       "</table>"
      ],
      "text/plain": [
       "<MaskedColumn name='productSubGroupDescription' dtype='str8' length=16>\n",
       "     ASN\n",
       "     CAL\n",
       "     CRF\n",
       " GS-ACQ1\n",
       " GS-ACQ2\n",
       "   GS-FG\n",
       "   GS-ID\n",
       "GS-TRACK\n",
       "     MSA\n",
       "      --\n",
       "    POOL\n",
       "    RATE\n",
       "RATEINTS\n",
       "     S2D\n",
       "   UNCAL\n",
       "     X1D"
      ]
     },
     "execution_count": 8,
     "metadata": {},
     "output_type": "execute_result"
    }
   ],
   "source": [
    "np.unique(ex_prods['productSubGroupDescription'])"
   ]
  },
  {
   "cell_type": "code",
   "execution_count": 59,
   "id": "72f1520e-f205-4f83-b2e0-1c9ba45793d6",
   "metadata": {},
   "outputs": [
    {
     "data": {
      "text/html": [
       "<div><i>Table masked=True length=17</i>\n",
       "<table id=\"table140022538345680\" class=\"table-striped table-bordered table-condensed\">\n",
       "<thead><tr><th>obsID</th><th>obs_collection</th><th>dataproduct_type</th><th>obs_id</th><th>description</th><th>type</th><th>dataURI</th><th>productType</th><th>productGroupDescription</th><th>productSubGroupDescription</th><th>productDocumentationURL</th><th>project</th><th>prvversion</th><th>proposal_id</th><th>productFilename</th><th>size</th><th>parent_obsid</th><th>dataRights</th><th>calib_level</th></tr></thead>\n",
       "<thead><tr><th>str9</th><th>str4</th><th>str8</th><th>str40</th><th>str71</th><th>str1</th><th>str68</th><th>str9</th><th>str28</th><th>str8</th><th>str1</th><th>str7</th><th>str6</th><th>str4</th><th>str50</th><th>int64</th><th>str9</th><th>str6</th><th>int64</th></tr></thead>\n",
       "<tr><td>100544641</td><td>JWST</td><td>spectrum</td><td>jw02609-o007_s01035_nirspec_f100lp-g140h</td><td>source/target (L3) : association generator</td><td>D</td><td>mast:JWST/product/jw02609-o007_20240212t021359_spec3_00001_asn.json</td><td>INFO</td><td>Minimum Recommended Products</td><td>ASN</td><td>--</td><td>CALJWST</td><td>1.12.5</td><td>2609</td><td>jw02609-o007_20240212t021359_spec3_00001_asn.json</td><td>5091</td><td>100544641</td><td>PUBLIC</td><td>3</td></tr>\n",
       "<tr><td>100525243</td><td>JWST</td><td>image</td><td>jw02609007001_02101_00001_nrs1</td><td>source/target (L3) : association generator</td><td>S</td><td>mast:JWST/product/jw02609-o007_20240212t021359_image2_00012_asn.json</td><td>INFO</td><td>--</td><td>ASN</td><td>--</td><td>CALJWST</td><td>1.7.2</td><td>2609</td><td>jw02609-o007_20240212t021359_image2_00012_asn.json</td><td>1418</td><td>100544641</td><td>PUBLIC</td><td>2</td></tr>\n",
       "<tr><td>100525112</td><td>JWST</td><td>image</td><td>jw02609007001_02101_00001_nrs2</td><td>source/target (L3) : association generator</td><td>S</td><td>mast:JWST/product/jw02609-o007_20240212t021359_image2_00011_asn.json</td><td>INFO</td><td>--</td><td>ASN</td><td>--</td><td>CALJWST</td><td>1.7.2</td><td>2609</td><td>jw02609-o007_20240212t021359_image2_00011_asn.json</td><td>1418</td><td>100544641</td><td>PUBLIC</td><td>2</td></tr>\n",
       "<tr><td>100525067</td><td>JWST</td><td>image</td><td>jw02609007001_02101_00002_nrs1</td><td>source/target (L3) : association generator</td><td>S</td><td>mast:JWST/product/jw02609-o007_20240212t021359_image2_00010_asn.json</td><td>INFO</td><td>--</td><td>ASN</td><td>--</td><td>CALJWST</td><td>1.7.2</td><td>2609</td><td>jw02609-o007_20240212t021359_image2_00010_asn.json</td><td>1418</td><td>100544641</td><td>PUBLIC</td><td>2</td></tr>\n",
       "<tr><td>100525054</td><td>JWST</td><td>image</td><td>jw02609007001_02101_00002_nrs2</td><td>source/target (L3) : association generator</td><td>S</td><td>mast:JWST/product/jw02609-o007_20240212t021359_image2_00009_asn.json</td><td>INFO</td><td>--</td><td>ASN</td><td>--</td><td>CALJWST</td><td>1.7.2</td><td>2609</td><td>jw02609-o007_20240212t021359_image2_00009_asn.json</td><td>1418</td><td>100544641</td><td>PUBLIC</td><td>2</td></tr>\n",
       "<tr><td>100525124</td><td>JWST</td><td>image</td><td>jw02609007001_02101_00004_nrs1</td><td>source/target (L3) : association generator</td><td>S</td><td>mast:JWST/product/jw02609-o007_20240212t021359_image2_00008_asn.json</td><td>INFO</td><td>--</td><td>ASN</td><td>--</td><td>CALJWST</td><td>1.7.2</td><td>2609</td><td>jw02609-o007_20240212t021359_image2_00008_asn.json</td><td>1418</td><td>100544641</td><td>PUBLIC</td><td>2</td></tr>\n",
       "<tr><td>...</td><td>...</td><td>...</td><td>...</td><td>...</td><td>...</td><td>...</td><td>...</td><td>...</td><td>...</td><td>...</td><td>...</td><td>...</td><td>...</td><td>...</td><td>...</td><td>...</td><td>...</td><td>...</td></tr>\n",
       "<tr><td>102420808</td><td>JWST</td><td>image</td><td>jw02609007001_02101_00006_nrs2</td><td>source/target (L3) : association generator</td><td>S</td><td>mast:JWST/product/jw02609-o007_20240212t021359_image2_00003_asn.json</td><td>INFO</td><td>--</td><td>ASN</td><td>--</td><td>CALJWST</td><td>1.7.2</td><td>2609</td><td>jw02609-o007_20240212t021359_image2_00003_asn.json</td><td>1418</td><td>100544641</td><td>PUBLIC</td><td>2</td></tr>\n",
       "<tr><td>100525136</td><td>JWST</td><td>image</td><td>jw02609007001_03101_00001_nrs1</td><td>source/target (L3) : association generator</td><td>S</td><td>mast:JWST/product/jw02609-o007_20240212t021359_image2_00002_asn.json</td><td>INFO</td><td>--</td><td>ASN</td><td>--</td><td>CALJWST</td><td>1.7.2</td><td>2609</td><td>jw02609-o007_20240212t021359_image2_00002_asn.json</td><td>1418</td><td>100544641</td><td>PUBLIC</td><td>2</td></tr>\n",
       "<tr><td>100525083</td><td>JWST</td><td>image</td><td>jw02609007001_03101_00001_nrs2</td><td>source/target (L3) : association generator</td><td>S</td><td>mast:JWST/product/jw02609-o007_20240212t021359_image2_00001_asn.json</td><td>INFO</td><td>--</td><td>ASN</td><td>--</td><td>CALJWST</td><td>1.7.2</td><td>2609</td><td>jw02609-o007_20240212t021359_image2_00001_asn.json</td><td>1418</td><td>100544641</td><td>PUBLIC</td><td>2</td></tr>\n",
       "<tr><td>100525031</td><td>JWST</td><td>spectrum</td><td>jw02609007001_03101_00002_nrs1</td><td>source/target (L3) : association generator</td><td>S</td><td>mast:JWST/product/jw02609-o007_20240212t021359_spec2_00004_asn.json</td><td>INFO</td><td>--</td><td>ASN</td><td>--</td><td>CALJWST</td><td>1.7.2</td><td>2609</td><td>jw02609-o007_20240212t021359_spec2_00004_asn.json</td><td>1986</td><td>100544641</td><td>PUBLIC</td><td>2</td></tr>\n",
       "<tr><td>100525161</td><td>JWST</td><td>spectrum</td><td>jw02609007001_03101_00002_nrs2</td><td>source/target (L3) : association generator</td><td>S</td><td>mast:JWST/product/jw02609-o007_20240212t021359_spec2_00002_asn.json</td><td>INFO</td><td>--</td><td>ASN</td><td>--</td><td>CALJWST</td><td>1.7.2</td><td>2609</td><td>jw02609-o007_20240212t021359_spec2_00002_asn.json</td><td>1986</td><td>100544641</td><td>PUBLIC</td><td>2</td></tr>\n",
       "<tr><td>100525230</td><td>JWST</td><td>spectrum</td><td>jw02609007001_03101_00003_nrs1</td><td>source/target (L3) : association generator</td><td>S</td><td>mast:JWST/product/jw02609-o007_20240212t021359_spec2_00003_asn.json</td><td>INFO</td><td>--</td><td>ASN</td><td>--</td><td>CALJWST</td><td>1.7.2</td><td>2609</td><td>jw02609-o007_20240212t021359_spec2_00003_asn.json</td><td>1986</td><td>100544641</td><td>PUBLIC</td><td>2</td></tr>\n",
       "<tr><td>100525197</td><td>JWST</td><td>spectrum</td><td>jw02609007001_03101_00003_nrs2</td><td>source/target (L3) : association generator</td><td>S</td><td>mast:JWST/product/jw02609-o007_20240212t021359_spec2_00001_asn.json</td><td>INFO</td><td>--</td><td>ASN</td><td>--</td><td>CALJWST</td><td>1.7.2</td><td>2609</td><td>jw02609-o007_20240212t021359_spec2_00001_asn.json</td><td>1986</td><td>100544641</td><td>PUBLIC</td><td>2</td></tr>\n",
       "</table></div>"
      ],
      "text/plain": [
       "<Table masked=True length=17>\n",
       "  obsID   obs_collection dataproduct_type ... dataRights calib_level\n",
       "   str9        str4            str8       ...    str6       int64   \n",
       "--------- -------------- ---------------- ... ---------- -----------\n",
       "100544641           JWST         spectrum ...     PUBLIC           3\n",
       "100525243           JWST            image ...     PUBLIC           2\n",
       "100525112           JWST            image ...     PUBLIC           2\n",
       "100525067           JWST            image ...     PUBLIC           2\n",
       "100525054           JWST            image ...     PUBLIC           2\n",
       "100525124           JWST            image ...     PUBLIC           2\n",
       "      ...            ...              ... ...        ...         ...\n",
       "102420808           JWST            image ...     PUBLIC           2\n",
       "100525136           JWST            image ...     PUBLIC           2\n",
       "100525083           JWST            image ...     PUBLIC           2\n",
       "100525031           JWST         spectrum ...     PUBLIC           2\n",
       "100525161           JWST         spectrum ...     PUBLIC           2\n",
       "100525230           JWST         spectrum ...     PUBLIC           2\n",
       "100525197           JWST         spectrum ...     PUBLIC           2"
      ]
     },
     "execution_count": 59,
     "metadata": {},
     "output_type": "execute_result"
    }
   ],
   "source": [
    "ex_prods[(ex_prods['productSubGroupDescription']=='ASN')]"
   ]
  },
  {
   "cell_type": "code",
   "execution_count": 58,
   "id": "7322b0c7-7cf4-452b-8b8c-80b30296418d",
   "metadata": {},
   "outputs": [
    {
     "data": {
      "text/html": [
       "<div><i>Table masked=True length=1</i>\n",
       "<table id=\"table140022530210192\" class=\"table-striped table-bordered table-condensed\">\n",
       "<thead><tr><th>obsID</th><th>obs_collection</th><th>dataproduct_type</th><th>obs_id</th><th>description</th><th>type</th><th>dataURI</th><th>productType</th><th>productGroupDescription</th><th>productSubGroupDescription</th><th>productDocumentationURL</th><th>project</th><th>prvversion</th><th>proposal_id</th><th>productFilename</th><th>size</th><th>parent_obsid</th><th>dataRights</th><th>calib_level</th></tr></thead>\n",
       "<thead><tr><th>str9</th><th>str4</th><th>str8</th><th>str40</th><th>str71</th><th>str1</th><th>str68</th><th>str9</th><th>str28</th><th>str8</th><th>str1</th><th>str7</th><th>str6</th><th>str4</th><th>str50</th><th>int64</th><th>str9</th><th>str6</th><th>int64</th></tr></thead>\n",
       "<tr><td>100544641</td><td>JWST</td><td>spectrum</td><td>jw02609-o007_s01035_nirspec_f100lp-g140h</td><td>source/target (L3) : association generator</td><td>D</td><td>mast:JWST/product/jw02609-o007_20240212t021359_spec3_00001_asn.json</td><td>INFO</td><td>Minimum Recommended Products</td><td>ASN</td><td>--</td><td>CALJWST</td><td>1.12.5</td><td>2609</td><td>jw02609-o007_20240212t021359_spec3_00001_asn.json</td><td>5091</td><td>100544641</td><td>PUBLIC</td><td>3</td></tr>\n",
       "</table></div>"
      ],
      "text/plain": [
       "<Table masked=True length=1>\n",
       "  obsID   obs_collection dataproduct_type ... dataRights calib_level\n",
       "   str9        str4            str8       ...    str6       int64   \n",
       "--------- -------------- ---------------- ... ---------- -----------\n",
       "100544641           JWST         spectrum ...     PUBLIC           3"
      ]
     },
     "execution_count": 58,
     "metadata": {},
     "output_type": "execute_result"
    }
   ],
   "source": [
    "ex_prods[(ex_prods['productSubGroupDescription']=='ASN') & (ex_prods['type']=='D')]"
   ]
  },
  {
   "cell_type": "code",
   "execution_count": 9,
   "id": "3a599f42-4b56-4f5e-9b69-f9461e053f6e",
   "metadata": {},
   "outputs": [
    {
     "name": "stderr",
     "output_type": "stream",
     "text": [
      "2024-02-22 19:46:51,434 - stpipe - INFO - Found cached file ./mastDownload/JWST/jw02609-o007_s01035_nirspec_f100lp-g140h/jw02609-o007_20240212t021359_spec3_00001_asn.json with expected size 6156.\n",
      "2024-02-22 19:46:51,527 - stpipe - INFO - Found cached file ./mastDownload/JWST/jw02609007001_02101_00001_nrs1/jw02609-o007_20240212t021359_image2_00012_asn.json with expected size 1418.\n"
     ]
    },
    {
     "name": "stdout",
     "output_type": "stream",
     "text": [
      "INFO: Found cached file ./mastDownload/JWST/jw02609-o007_s01035_nirspec_f100lp-g140h/jw02609-o007_20240212t021359_spec3_00001_asn.json with expected size 6156. [astroquery.query]\n",
      "INFO: Found cached file ./mastDownload/JWST/jw02609007001_02101_00001_nrs1/jw02609-o007_20240212t021359_image2_00012_asn.json with expected size 1418. [astroquery.query]\n"
     ]
    },
    {
     "name": "stderr",
     "output_type": "stream",
     "text": [
      "2024-02-22 19:46:51,664 - stpipe - INFO - Found cached file ./mastDownload/JWST/jw02609007001_02101_00001_nrs2/jw02609-o007_20240212t021359_image2_00011_asn.json with expected size 1418.\n",
      "2024-02-22 19:46:51,824 - stpipe - INFO - Found cached file ./mastDownload/JWST/jw02609007001_02101_00002_nrs1/jw02609-o007_20240212t021359_image2_00010_asn.json with expected size 1418.\n"
     ]
    },
    {
     "name": "stdout",
     "output_type": "stream",
     "text": [
      "INFO: Found cached file ./mastDownload/JWST/jw02609007001_02101_00001_nrs2/jw02609-o007_20240212t021359_image2_00011_asn.json with expected size 1418. [astroquery.query]\n",
      "INFO: Found cached file ./mastDownload/JWST/jw02609007001_02101_00002_nrs1/jw02609-o007_20240212t021359_image2_00010_asn.json with expected size 1418. [astroquery.query]\n"
     ]
    },
    {
     "name": "stderr",
     "output_type": "stream",
     "text": [
      "2024-02-22 19:46:51,960 - stpipe - INFO - Found cached file ./mastDownload/JWST/jw02609007001_02101_00002_nrs2/jw02609-o007_20240212t021359_image2_00009_asn.json with expected size 1418.\n",
      "2024-02-22 19:46:52,073 - stpipe - INFO - Found cached file ./mastDownload/JWST/jw02609007001_02101_00004_nrs1/jw02609-o007_20240212t021359_image2_00008_asn.json with expected size 1418.\n"
     ]
    },
    {
     "name": "stdout",
     "output_type": "stream",
     "text": [
      "INFO: Found cached file ./mastDownload/JWST/jw02609007001_02101_00002_nrs2/jw02609-o007_20240212t021359_image2_00009_asn.json with expected size 1418. [astroquery.query]\n",
      "INFO: Found cached file ./mastDownload/JWST/jw02609007001_02101_00004_nrs1/jw02609-o007_20240212t021359_image2_00008_asn.json with expected size 1418. [astroquery.query]\n"
     ]
    },
    {
     "name": "stderr",
     "output_type": "stream",
     "text": [
      "2024-02-22 19:46:52,180 - stpipe - INFO - Found cached file ./mastDownload/JWST/jw02609007001_02101_00004_nrs2/jw02609-o007_20240212t021359_image2_00007_asn.json with expected size 1418.\n",
      "2024-02-22 19:46:52,271 - stpipe - INFO - Found cached file ./mastDownload/JWST/jw02609007001_02101_00005_nrs1/jw02609-o007_20240212t021359_image2_00006_asn.json with expected size 1418.\n"
     ]
    },
    {
     "name": "stdout",
     "output_type": "stream",
     "text": [
      "INFO: Found cached file ./mastDownload/JWST/jw02609007001_02101_00004_nrs2/jw02609-o007_20240212t021359_image2_00007_asn.json with expected size 1418. [astroquery.query]\n",
      "INFO: Found cached file ./mastDownload/JWST/jw02609007001_02101_00005_nrs1/jw02609-o007_20240212t021359_image2_00006_asn.json with expected size 1418. [astroquery.query]\n"
     ]
    },
    {
     "name": "stderr",
     "output_type": "stream",
     "text": [
      "2024-02-22 19:46:52,385 - stpipe - INFO - Found cached file ./mastDownload/JWST/jw02609007001_02101_00005_nrs2/jw02609-o007_20240212t021359_image2_00005_asn.json with expected size 1418.\n",
      "2024-02-22 19:46:52,473 - stpipe - INFO - Found cached file ./mastDownload/JWST/jw02609007001_02101_00006_nrs1/jw02609-o007_20240212t021359_image2_00004_asn.json with expected size 1418.\n",
      "2024-02-22 19:46:52,565 - stpipe - INFO - Found cached file ./mastDownload/JWST/jw02609007001_02101_00006_nrs2/jw02609-o007_20240212t021359_image2_00003_asn.json with expected size 1418.\n"
     ]
    },
    {
     "name": "stdout",
     "output_type": "stream",
     "text": [
      "INFO: Found cached file ./mastDownload/JWST/jw02609007001_02101_00005_nrs2/jw02609-o007_20240212t021359_image2_00005_asn.json with expected size 1418. [astroquery.query]\n",
      "INFO: Found cached file ./mastDownload/JWST/jw02609007001_02101_00006_nrs1/jw02609-o007_20240212t021359_image2_00004_asn.json with expected size 1418. [astroquery.query]\n",
      "INFO: Found cached file ./mastDownload/JWST/jw02609007001_02101_00006_nrs2/jw02609-o007_20240212t021359_image2_00003_asn.json with expected size 1418. [astroquery.query]\n"
     ]
    },
    {
     "name": "stderr",
     "output_type": "stream",
     "text": [
      "2024-02-22 19:46:52,684 - stpipe - INFO - Found cached file ./mastDownload/JWST/jw02609007001_03101_00001_nrs1/jw02609-o007_20240212t021359_image2_00002_asn.json with expected size 1418.\n",
      "2024-02-22 19:46:52,793 - stpipe - INFO - Found cached file ./mastDownload/JWST/jw02609007001_03101_00001_nrs2/jw02609-o007_20240212t021359_image2_00001_asn.json with expected size 1418.\n"
     ]
    },
    {
     "name": "stdout",
     "output_type": "stream",
     "text": [
      "INFO: Found cached file ./mastDownload/JWST/jw02609007001_03101_00001_nrs1/jw02609-o007_20240212t021359_image2_00002_asn.json with expected size 1418. [astroquery.query]\n",
      "INFO: Found cached file ./mastDownload/JWST/jw02609007001_03101_00001_nrs2/jw02609-o007_20240212t021359_image2_00001_asn.json with expected size 1418. [astroquery.query]\n"
     ]
    },
    {
     "name": "stderr",
     "output_type": "stream",
     "text": [
      "2024-02-22 19:46:52,892 - stpipe - INFO - Found cached file ./mastDownload/JWST/jw02609007001_03101_00002_nrs1/jw02609-o007_20240212t021359_spec2_00004_asn.json with expected size 1986.\n",
      "2024-02-22 19:46:52,983 - stpipe - INFO - Found cached file ./mastDownload/JWST/jw02609007001_03101_00002_nrs2/jw02609-o007_20240212t021359_spec2_00002_asn.json with expected size 1986.\n"
     ]
    },
    {
     "name": "stdout",
     "output_type": "stream",
     "text": [
      "INFO: Found cached file ./mastDownload/JWST/jw02609007001_03101_00002_nrs1/jw02609-o007_20240212t021359_spec2_00004_asn.json with expected size 1986. [astroquery.query]\n",
      "INFO: Found cached file ./mastDownload/JWST/jw02609007001_03101_00002_nrs2/jw02609-o007_20240212t021359_spec2_00002_asn.json with expected size 1986. [astroquery.query]\n"
     ]
    },
    {
     "name": "stderr",
     "output_type": "stream",
     "text": [
      "2024-02-22 19:46:53,126 - stpipe - INFO - Found cached file ./mastDownload/JWST/jw02609007001_03101_00003_nrs1/jw02609-o007_20240212t021359_spec2_00003_asn.json with expected size 1986.\n",
      "2024-02-22 19:46:53,239 - stpipe - INFO - Found cached file ./mastDownload/JWST/jw02609007001_03101_00003_nrs2/jw02609-o007_20240212t021359_spec2_00001_asn.json with expected size 1986.\n"
     ]
    },
    {
     "name": "stdout",
     "output_type": "stream",
     "text": [
      "INFO: Found cached file ./mastDownload/JWST/jw02609007001_03101_00003_nrs1/jw02609-o007_20240212t021359_spec2_00003_asn.json with expected size 1986. [astroquery.query]\n",
      "INFO: Found cached file ./mastDownload/JWST/jw02609007001_03101_00003_nrs2/jw02609-o007_20240212t021359_spec2_00001_asn.json with expected size 1986. [astroquery.query]\n"
     ]
    }
   ],
   "source": [
    "asns = Observations.download_products(ex_prods[ex_prods['productSubGroupDescription']=='ASN'])"
   ]
  },
  {
   "cell_type": "code",
   "execution_count": 10,
   "id": "4b44c126-2132-468c-8f8a-83da7b5b9b54",
   "metadata": {},
   "outputs": [
    {
     "data": {
      "text/plain": [
       "{'asn_type': 'spec3',\n",
       " 'asn_rule': 'candidate_Asn_Lv3SpectralSource',\n",
       " 'version_id': '20240212t021359',\n",
       " 'code_version': '1.12.5',\n",
       " 'degraded_status': 'No known degraded exposures in association.',\n",
       " 'program': '02609',\n",
       " 'constraints': 'DMSAttrConstraint({\\'name\\': \\'program\\', \\'sources\\': [\\'program\\'], \\'value\\': \\'2609\\'})\\nDMSAttrConstraint({\\'name\\': \\'instrument\\', \\'sources\\': [\\'instrume\\'], \\'value\\': \\'nirspec\\'})\\nDMSAttrConstraint({\\'name\\': \\'opt_elem\\', \\'sources\\': [\\'filter\\'], \\'value\\': \\'f100lp\\'})\\nDMSAttrConstraint({\\'name\\': \\'opt_elem2\\', \\'sources\\': [\\'grating\\'], \\'value\\': \\'g140h\\'})\\nDMSAttrConstraint({\\'name\\': \\'fxd_slit2\\', \\'sources\\': [\\'fxd_slit\\'], \\'value\\': [\\'s200a1|s200a2\\']})\\nDMSAttrConstraint({\\'name\\': \\'fxd_slit\\', \\'sources\\': [\\'fxd_slit\\'], \\'value\\': None})\\nDMSAttrConstraint({\\'name\\': \\'subarray\\', \\'sources\\': [\\'subarray\\'], \\'value\\': \\'full\\'})\\nConstraint_Target({\\'name\\': \\'target\\', \\'sources\\': [\\'targetid\\'], \\'value\\': \\'12\\'})\\nDMSAttrConstraint({\\'name\\': \\'exp_type\\', \\'sources\\': [\\'exp_type\\'], \\'value\\': \\'nrc_wfss|nrs_autoflat|nrs_autowave\\'})\\nDMSAttrConstraint({\\'name\\': \\'exp_type\\', \\'sources\\': [\\'exp_type\\'], \\'value\\': \\'nrs_msaspec\\'})\\nDMSAttrConstraint({\\'name\\': \\'is_msa\\', \\'sources\\': [\\'msametfl\\'], \\'value\\': None})\\nConstraint_Obsnum({\\'name\\': \\'obs_num\\', \\'sources\\': [\\'obs_num\\'], \\'value\\': None})\\nConstraint_TargetAcq({\\'name\\': \\'target_acq\\', \\'value\\': \\'target_acquisition\\'})\\nDMSAttrConstraint({\\'name\\': \\'acq_obsnum\\', \\'sources\\': [\\'obs_num\\'], \\'value\\': <function AsnMixin_Science.__init__.<locals>.<lambda> at 0x2b60f3edafc0>})\\nDMSAttrConstraint({\\'name\\': \\'asn_candidate\\', \\'sources\\': [\\'asn_candidate\\'], \\'value\\': \"\\\\\\\\(\\'o007\\',\\\\\\\\ \\'observation\\'\\\\\\\\)\"})',\n",
       " 'asn_id': 'o007',\n",
       " 'target': 't012',\n",
       " 'asn_pool': 'jw02609_20240212t021359_pool.csv',\n",
       " 'products': [{'name': 'jw02609-o007_{source_id}_nirspec_f100lp-g140h',\n",
       "   'members': [{'expname': 'jw02609007001_03101_00002_nrs1_cal.fits',\n",
       "     'exptype': 'science',\n",
       "     'exposerr': 'null',\n",
       "     'asn_candidate': \"[('o007', 'observation')]\"},\n",
       "    {'expname': 'jw02609007001_03101_00002_nrs2_cal.fits',\n",
       "     'exptype': 'science',\n",
       "     'exposerr': 'null',\n",
       "     'asn_candidate': \"[('o007', 'observation')]\"},\n",
       "    {'expname': 'jw02609007001_03101_00003_nrs1_cal.fits',\n",
       "     'exptype': 'science',\n",
       "     'exposerr': 'null',\n",
       "     'asn_candidate': \"[('o007', 'observation')]\"},\n",
       "    {'expname': 'jw02609007001_03101_00003_nrs2_cal.fits',\n",
       "     'exptype': 'science',\n",
       "     'exposerr': 'null',\n",
       "     'asn_candidate': \"[('o007', 'observation')]\"},\n",
       "    {'expname': 'jw02609007001_02101_00001_nrs1_cal.fits',\n",
       "     'exptype': 'target_acquisition',\n",
       "     'exposerr': 'null',\n",
       "     'asn_candidate': \"[('o007', 'observation')]\"},\n",
       "    {'expname': 'jw02609007001_02101_00001_nrs2_cal.fits',\n",
       "     'exptype': 'target_acquisition',\n",
       "     'exposerr': 'null',\n",
       "     'asn_candidate': \"[('o007', 'observation')]\"},\n",
       "    {'expname': 'jw02609007001_02101_00002_nrs1_cal.fits',\n",
       "     'exptype': 'target_acquisition',\n",
       "     'exposerr': 'null',\n",
       "     'asn_candidate': \"[('o007', 'observation')]\"},\n",
       "    {'expname': 'jw02609007001_02101_00002_nrs2_cal.fits',\n",
       "     'exptype': 'target_acquisition',\n",
       "     'exposerr': 'null',\n",
       "     'asn_candidate': \"[('o007', 'observation')]\"},\n",
       "    {'expname': 'jw02609007001_02101_00004_nrs1_cal.fits',\n",
       "     'exptype': 'target_acquisition',\n",
       "     'exposerr': 'null',\n",
       "     'asn_candidate': \"[('o007', 'observation')]\"},\n",
       "    {'expname': 'jw02609007001_02101_00004_nrs2_cal.fits',\n",
       "     'exptype': 'target_acquisition',\n",
       "     'exposerr': 'null',\n",
       "     'asn_candidate': \"[('o007', 'observation')]\"},\n",
       "    {'expname': 'jw02609007001_02101_00005_nrs1_cal.fits',\n",
       "     'exptype': 'target_acquisition',\n",
       "     'exposerr': 'null',\n",
       "     'asn_candidate': \"[('o007', 'observation')]\"},\n",
       "    {'expname': 'jw02609007001_02101_00005_nrs2_cal.fits',\n",
       "     'exptype': 'target_acquisition',\n",
       "     'exposerr': 'null',\n",
       "     'asn_candidate': \"[('o007', 'observation')]\"},\n",
       "    {'expname': 'jw02609007001_02101_00006_nrs1_cal.fits',\n",
       "     'exptype': 'target_acquisition',\n",
       "     'exposerr': 'null',\n",
       "     'asn_candidate': \"[('o007', 'observation')]\"},\n",
       "    {'expname': 'jw02609007001_02101_00006_nrs2_cal.fits',\n",
       "     'exptype': 'target_acquisition',\n",
       "     'exposerr': 'null',\n",
       "     'asn_candidate': \"[('o007', 'observation')]\"},\n",
       "    {'expname': 'jw02609007001_03101_00001_nrs1_cal.fits',\n",
       "     'exptype': 'target_acquisition',\n",
       "     'exposerr': 'null',\n",
       "     'asn_candidate': \"[('o007', 'observation')]\"},\n",
       "    {'expname': 'jw02609007001_03101_00001_nrs2_cal.fits',\n",
       "     'exptype': 'target_acquisition',\n",
       "     'exposerr': 'null',\n",
       "     'asn_candidate': \"[('o007', 'observation')]\"}]}]}"
      ]
     },
     "execution_count": 10,
     "metadata": {},
     "output_type": "execute_result"
    }
   ],
   "source": [
    "ex_asn_main_pth = Path(asns[0]['Local Path'])\n",
    "with ex_asn_main_pth.open() as f:\n",
    "    ex_asn_main = json.load(f)\n",
    "ex_asn_main"
   ]
  },
  {
   "cell_type": "code",
   "execution_count": 11,
   "id": "62012fd1-7bde-48ce-ab0f-2682a438c62d",
   "metadata": {},
   "outputs": [
    {
     "data": {
      "text/plain": [
       "['jw02609007001_03101_00002_nrs1_cal.fits',\n",
       " 'jw02609007001_03101_00002_nrs2_cal.fits',\n",
       " 'jw02609007001_03101_00003_nrs1_cal.fits',\n",
       " 'jw02609007001_03101_00003_nrs2_cal.fits']"
      ]
     },
     "execution_count": 11,
     "metadata": {},
     "output_type": "execute_result"
    }
   ],
   "source": [
    "assert len(ex_asn_main['products'])==1\n",
    "scinames = [m['expname'] for m in ex_asn_main['products'][0]['members'] if m['exptype']=='science']\n",
    "scinames"
   ]
  },
  {
   "cell_type": "code",
   "execution_count": 12,
   "id": "071a4783-4d3d-40ac-9030-c1ba7eef1867",
   "metadata": {},
   "outputs": [
    {
     "data": {
      "text/html": [
       "<div><i>Table masked=True length=4</i>\n",
       "<table id=\"table140023256061776\" class=\"table-striped table-bordered table-condensed\">\n",
       "<thead><tr><th>obsID</th><th>obs_collection</th><th>dataproduct_type</th><th>obs_id</th><th>description</th><th>type</th><th>dataURI</th><th>productType</th><th>productGroupDescription</th><th>productSubGroupDescription</th><th>productDocumentationURL</th><th>project</th><th>prvversion</th><th>proposal_id</th><th>productFilename</th><th>size</th><th>parent_obsid</th><th>dataRights</th><th>calib_level</th></tr></thead>\n",
       "<thead><tr><th>str9</th><th>str4</th><th>str8</th><th>str40</th><th>str71</th><th>str1</th><th>str68</th><th>str9</th><th>str28</th><th>str8</th><th>str1</th><th>str7</th><th>str6</th><th>str4</th><th>str50</th><th>int64</th><th>str9</th><th>str6</th><th>int64</th></tr></thead>\n",
       "<tr><td>100525031</td><td>JWST</td><td>spectrum</td><td>jw02609007001_03101_00002_nrs1</td><td>exposure (L2b): 2D calibrated exposure average over integrations</td><td>S</td><td>mast:JWST/product/jw02609007001_03101_00002_nrs1_cal.fits</td><td>SCIENCE</td><td>--</td><td>CAL</td><td>--</td><td>CALJWST</td><td>1.7.2</td><td>2609</td><td>jw02609007001_03101_00002_nrs1_cal.fits</td><td>31080960</td><td>100544641</td><td>PUBLIC</td><td>2</td></tr>\n",
       "<tr><td>100525161</td><td>JWST</td><td>spectrum</td><td>jw02609007001_03101_00002_nrs2</td><td>exposure (L2b): 2D calibrated exposure average over integrations</td><td>S</td><td>mast:JWST/product/jw02609007001_03101_00002_nrs2_cal.fits</td><td>SCIENCE</td><td>--</td><td>CAL</td><td>--</td><td>CALJWST</td><td>1.7.2</td><td>2609</td><td>jw02609007001_03101_00002_nrs2_cal.fits</td><td>142827840</td><td>100544641</td><td>PUBLIC</td><td>2</td></tr>\n",
       "<tr><td>100525230</td><td>JWST</td><td>spectrum</td><td>jw02609007001_03101_00003_nrs1</td><td>exposure (L2b): 2D calibrated exposure average over integrations</td><td>S</td><td>mast:JWST/product/jw02609007001_03101_00003_nrs1_cal.fits</td><td>SCIENCE</td><td>--</td><td>CAL</td><td>--</td><td>CALJWST</td><td>1.7.2</td><td>2609</td><td>jw02609007001_03101_00003_nrs1_cal.fits</td><td>31034880</td><td>100544641</td><td>PUBLIC</td><td>2</td></tr>\n",
       "<tr><td>100525197</td><td>JWST</td><td>spectrum</td><td>jw02609007001_03101_00003_nrs2</td><td>exposure (L2b): 2D calibrated exposure average over integrations</td><td>S</td><td>mast:JWST/product/jw02609007001_03101_00003_nrs2_cal.fits</td><td>SCIENCE</td><td>--</td><td>CAL</td><td>--</td><td>CALJWST</td><td>1.7.2</td><td>2609</td><td>jw02609007001_03101_00003_nrs2_cal.fits</td><td>142761600</td><td>100544641</td><td>PUBLIC</td><td>2</td></tr>\n",
       "</table></div>"
      ],
      "text/plain": [
       "<Table masked=True length=4>\n",
       "  obsID   obs_collection dataproduct_type ... dataRights calib_level\n",
       "   str9        str4            str8       ...    str6       int64   \n",
       "--------- -------------- ---------------- ... ---------- -----------\n",
       "100525031           JWST         spectrum ...     PUBLIC           2\n",
       "100525161           JWST         spectrum ...     PUBLIC           2\n",
       "100525230           JWST         spectrum ...     PUBLIC           2\n",
       "100525197           JWST         spectrum ...     PUBLIC           2"
      ]
     },
     "execution_count": 12,
     "metadata": {},
     "output_type": "execute_result"
    }
   ],
   "source": [
    "ex_prods[np.in1d(ex_prods['productFilename'], scinames)]"
   ]
  },
  {
   "cell_type": "markdown",
   "id": "e63e3918-8f53-47a1-a9f0-50ac104c0e89",
   "metadata": {},
   "source": [
    "If I wanted to use the pipeline products directly, we just use these. Lets have a look-see:"
   ]
  },
  {
   "cell_type": "code",
   "execution_count": 13,
   "id": "78534f82-dc13-4c57-9159-c5d3137c338e",
   "metadata": {},
   "outputs": [
    {
     "name": "stderr",
     "output_type": "stream",
     "text": [
      "2024-02-22 19:46:53,382 - stpipe - INFO - Found cached file ./mastDownload/JWST/jw02609007001_03101_00002_nrs1/jw02609007001_03101_00002_nrs1_cal.fits with expected size 31080960.\n",
      "2024-02-22 19:46:53,489 - stpipe - INFO - Found cached file ./mastDownload/JWST/jw02609007001_03101_00002_nrs2/jw02609007001_03101_00002_nrs2_cal.fits with expected size 142827840.\n"
     ]
    },
    {
     "name": "stdout",
     "output_type": "stream",
     "text": [
      "INFO: Found cached file ./mastDownload/JWST/jw02609007001_03101_00002_nrs1/jw02609007001_03101_00002_nrs1_cal.fits with expected size 31080960. [astroquery.query]\n",
      "INFO: Found cached file ./mastDownload/JWST/jw02609007001_03101_00002_nrs2/jw02609007001_03101_00002_nrs2_cal.fits with expected size 142827840. [astroquery.query]\n"
     ]
    },
    {
     "name": "stderr",
     "output_type": "stream",
     "text": [
      "2024-02-22 19:46:53,593 - stpipe - INFO - Found cached file ./mastDownload/JWST/jw02609007001_03101_00003_nrs1/jw02609007001_03101_00003_nrs1_cal.fits with expected size 31034880.\n",
      "2024-02-22 19:46:53,686 - stpipe - INFO - Found cached file ./mastDownload/JWST/jw02609007001_03101_00003_nrs2/jw02609007001_03101_00003_nrs2_cal.fits with expected size 142761600.\n"
     ]
    },
    {
     "name": "stdout",
     "output_type": "stream",
     "text": [
      "INFO: Found cached file ./mastDownload/JWST/jw02609007001_03101_00003_nrs1/jw02609007001_03101_00003_nrs1_cal.fits with expected size 31034880. [astroquery.query]\n",
      "INFO: Found cached file ./mastDownload/JWST/jw02609007001_03101_00003_nrs2/jw02609007001_03101_00003_nrs2_cal.fits with expected size 142761600. [astroquery.query]\n"
     ]
    }
   ],
   "source": [
    "cal_dls = Observations.download_products(ex_prods[np.in1d(ex_prods['productFilename'], scinames)])"
   ]
  },
  {
   "cell_type": "code",
   "execution_count": 14,
   "id": "0abbdb23-394a-4b60-b1d7-54cd274b2900",
   "metadata": {},
   "outputs": [
    {
     "data": {
      "text/plain": [
       "<matplotlib.image.AxesImage at 0x7f59a2514b90>"
      ]
     },
     "execution_count": 14,
     "metadata": {},
     "output_type": "execute_result"
    },
    {
     "data": {
      "image/png": "[encoded data removed]",
      "text/plain": [
       "<Figure size 640x480 with 1 Axes>"
      ]
     },
     "metadata": {},
     "output_type": "display_data"
    }
   ],
   "source": [
    "cal1 = datamodels.open(cal_dls['Local Path'][1])\n",
    "plt.imshow(cal1.slits[10].data, aspect=10)"
   ]
  },
  {
   "cell_type": "markdown",
   "id": "d5a34ab7-ae16-43fb-a08f-0135cc46107c",
   "metadata": {},
   "source": [
    "Looks like it did a subtraction step that might be useful but isn't for our purposes.  So we need to run the pipeline."
   ]
  },
  {
   "cell_type": "code",
   "execution_count": 15,
   "id": "e99f7443-081f-4923-a2c4-ad209458dc52",
   "metadata": {},
   "outputs": [
    {
     "data": {
      "text/html": [
       "&lt;Column name=&apos;Local Path&apos; dtype=&apos;str110&apos; length=17&gt;\n",
       "<table>\n",
       "<tr><td>./mastDownload/JWST/jw02609-o007_s01035_nirspec_f100lp-g140h/jw02609-o007_20240212t021359_spec3_00001_asn.json</td></tr>\n",
       "<tr><td>./mastDownload/JWST/jw02609007001_02101_00001_nrs1/jw02609-o007_20240212t021359_image2_00012_asn.json</td></tr>\n",
       "<tr><td>./mastDownload/JWST/jw02609007001_02101_00001_nrs2/jw02609-o007_20240212t021359_image2_00011_asn.json</td></tr>\n",
       "<tr><td>./mastDownload/JWST/jw02609007001_02101_00002_nrs1/jw02609-o007_20240212t021359_image2_00010_asn.json</td></tr>\n",
       "<tr><td>./mastDownload/JWST/jw02609007001_02101_00002_nrs2/jw02609-o007_20240212t021359_image2_00009_asn.json</td></tr>\n",
       "<tr><td>./mastDownload/JWST/jw02609007001_02101_00004_nrs1/jw02609-o007_20240212t021359_image2_00008_asn.json</td></tr>\n",
       "<tr><td>./mastDownload/JWST/jw02609007001_02101_00004_nrs2/jw02609-o007_20240212t021359_image2_00007_asn.json</td></tr>\n",
       "<tr><td>./mastDownload/JWST/jw02609007001_02101_00005_nrs1/jw02609-o007_20240212t021359_image2_00006_asn.json</td></tr>\n",
       "<tr><td>./mastDownload/JWST/jw02609007001_02101_00005_nrs2/jw02609-o007_20240212t021359_image2_00005_asn.json</td></tr>\n",
       "<tr><td>./mastDownload/JWST/jw02609007001_02101_00006_nrs1/jw02609-o007_20240212t021359_image2_00004_asn.json</td></tr>\n",
       "<tr><td>./mastDownload/JWST/jw02609007001_02101_00006_nrs2/jw02609-o007_20240212t021359_image2_00003_asn.json</td></tr>\n",
       "<tr><td>./mastDownload/JWST/jw02609007001_03101_00001_nrs1/jw02609-o007_20240212t021359_image2_00002_asn.json</td></tr>\n",
       "<tr><td>./mastDownload/JWST/jw02609007001_03101_00001_nrs2/jw02609-o007_20240212t021359_image2_00001_asn.json</td></tr>\n",
       "<tr><td>./mastDownload/JWST/jw02609007001_03101_00002_nrs1/jw02609-o007_20240212t021359_spec2_00004_asn.json</td></tr>\n",
       "<tr><td>./mastDownload/JWST/jw02609007001_03101_00002_nrs2/jw02609-o007_20240212t021359_spec2_00002_asn.json</td></tr>\n",
       "<tr><td>./mastDownload/JWST/jw02609007001_03101_00003_nrs1/jw02609-o007_20240212t021359_spec2_00003_asn.json</td></tr>\n",
       "<tr><td>./mastDownload/JWST/jw02609007001_03101_00003_nrs2/jw02609-o007_20240212t021359_spec2_00001_asn.json</td></tr>\n",
       "</table>"
      ],
      "text/plain": [
       "<Column name='Local Path' dtype='str110' length=17>\n",
       "./mastDownload/JWST/jw02609-o007_s01035_nirspec_f100lp-g140h/jw02609-o007_20240212t021359_spec3_00001_asn.json\n",
       "         ./mastDownload/JWST/jw02609007001_02101_00001_nrs1/jw02609-o007_20240212t021359_image2_00012_asn.json\n",
       "         ./mastDownload/JWST/jw02609007001_02101_00001_nrs2/jw02609-o007_20240212t021359_image2_00011_asn.json\n",
       "         ./mastDownload/JWST/jw02609007001_02101_00002_nrs1/jw02609-o007_20240212t021359_image2_00010_asn.json\n",
       "         ./mastDownload/JWST/jw02609007001_02101_00002_nrs2/jw02609-o007_20240212t021359_image2_00009_asn.json\n",
       "         ./mastDownload/JWST/jw02609007001_02101_00004_nrs1/jw02609-o007_20240212t021359_image2_00008_asn.json\n",
       "         ./mastDownload/JWST/jw02609007001_02101_00004_nrs2/jw02609-o007_20240212t021359_image2_00007_asn.json\n",
       "         ./mastDownload/JWST/jw02609007001_02101_00005_nrs1/jw02609-o007_20240212t021359_image2_00006_asn.json\n",
       "         ./mastDownload/JWST/jw02609007001_02101_00005_nrs2/jw02609-o007_20240212t021359_image2_00005_asn.json\n",
       "         ./mastDownload/JWST/jw02609007001_02101_00006_nrs1/jw02609-o007_20240212t021359_image2_00004_asn.json\n",
       "         ./mastDownload/JWST/jw02609007001_02101_00006_nrs2/jw02609-o007_20240212t021359_image2_00003_asn.json\n",
       "         ./mastDownload/JWST/jw02609007001_03101_00001_nrs1/jw02609-o007_20240212t021359_image2_00002_asn.json\n",
       "         ./mastDownload/JWST/jw02609007001_03101_00001_nrs2/jw02609-o007_20240212t021359_image2_00001_asn.json\n",
       "          ./mastDownload/JWST/jw02609007001_03101_00002_nrs1/jw02609-o007_20240212t021359_spec2_00004_asn.json\n",
       "          ./mastDownload/JWST/jw02609007001_03101_00002_nrs2/jw02609-o007_20240212t021359_spec2_00002_asn.json\n",
       "          ./mastDownload/JWST/jw02609007001_03101_00003_nrs1/jw02609-o007_20240212t021359_spec2_00003_asn.json\n",
       "          ./mastDownload/JWST/jw02609007001_03101_00003_nrs2/jw02609-o007_20240212t021359_spec2_00001_asn.json"
      ]
     },
     "execution_count": 15,
     "metadata": {},
     "output_type": "execute_result"
    }
   ],
   "source": [
    "asns['Local Path']"
   ]
  },
  {
   "cell_type": "code",
   "execution_count": 16,
   "id": "6040128b-244e-4b92-8299-ddf25537530a",
   "metadata": {},
   "outputs": [],
   "source": [
    "spec2_asns = asns['Local Path'][np.char.find(asns['Local Path'], 'spec2')!=-1]\n",
    "spec2_asns = {fn.split('/')[-1]:json.load(open(fn)) for fn in spec2_asns}"
   ]
  },
  {
   "cell_type": "markdown",
   "id": "d0ac455c-f3b2-4a63-bbc5-39f68ff5f176",
   "metadata": {},
   "source": [
    "Use the data in the association file to download everything needed into a *flat* directory space"
   ]
  },
  {
   "cell_type": "code",
   "execution_count": 17,
   "id": "33db09a7-9ec4-4f86-9f55-25b443b95208",
   "metadata": {},
   "outputs": [],
   "source": [
    "flat_dl_root = Path('mastDownload/flat/ ')\n",
    "flat_dl_root.mkdir(parents=True, exist_ok=True)"
   ]
  },
  {
   "cell_type": "code",
   "execution_count": 18,
   "id": "4083d873-c1e4-4220-924c-4aeb4d146b56",
   "metadata": {},
   "outputs": [
    {
     "data": {
      "text/plain": [
       "['jw02609007001_03101_00002_nrs1_rate.fits',\n",
       " 'jw02609007001_03101_00003_nrs1_rate.fits',\n",
       " 'jw02609007001_03101_00002_nrs2_rate.fits',\n",
       " 'jw02609007001_03101_00003_nrs2_rate.fits',\n",
       " 'jw02609007001_03101_00003_nrs1_rate.fits',\n",
       " 'jw02609007001_03101_00002_nrs1_rate.fits',\n",
       " 'jw02609007001_03101_00003_nrs2_rate.fits',\n",
       " 'jw02609007001_03101_00002_nrs2_rate.fits']"
      ]
     },
     "execution_count": 18,
     "metadata": {},
     "output_type": "execute_result"
    }
   ],
   "source": [
    "to_dl_fns = []\n",
    "for asn in spec2_asns.values():\n",
    "    assert len(asn['products']) == 1\n",
    "    for memb in asn['products'][0]['members']:\n",
    "        if memb['exptype'] in ('science', 'background'):\n",
    "            to_dl_fns.append(memb['expname'])\n",
    "to_dl_fns"
   ]
  },
  {
   "cell_type": "code",
   "execution_count": 19,
   "id": "7a2abdc6-b80d-4128-8442-5b296710eb80",
   "metadata": {},
   "outputs": [
    {
     "data": {
      "text/plain": [
       "{'jw02609007001_03101_00002_nrs1_rate.fits': 'mast:JWST/product/jw02609007001_03101_00002_nrs1_rate.fits',\n",
       " 'jw02609007001_03101_00003_nrs1_rate.fits': 'mast:JWST/product/jw02609007001_03101_00003_nrs1_rate.fits',\n",
       " 'jw02609007001_03101_00002_nrs2_rate.fits': 'mast:JWST/product/jw02609007001_03101_00002_nrs2_rate.fits',\n",
       " 'jw02609007001_03101_00003_nrs2_rate.fits': 'mast:JWST/product/jw02609007001_03101_00003_nrs2_rate.fits'}"
      ]
     },
     "execution_count": 19,
     "metadata": {},
     "output_type": "execute_result"
    }
   ],
   "source": [
    "fn_to_uri = {}\n",
    "for fn in to_dl_fns:\n",
    "    matches = ex_prods[ex_prods['productFilename'] == fn]\n",
    "    assert len(matches)>0,f\"no files found with name {fn}!  This shouldn't happen, freaking out\"\n",
    "    assert len(np.unique(matches['dataURI'])) == 1, \"two different dataURIs match!  This shouldn't happen, freaking out\"\n",
    "    fn_to_uri[fn] = matches[0]['dataURI']\n",
    "fn_to_uri"
   ]
  },
  {
   "cell_type": "code",
   "execution_count": 20,
   "id": "eba2fd7d-2dea-4fd8-ad39-2cb40f3de8e5",
   "metadata": {},
   "outputs": [
    {
     "name": "stderr",
     "output_type": "stream",
     "text": [
      "2024-02-22 19:47:07,300 - stpipe - INFO - Found cached file mastDownload/flat/jw02609007001_03101_00002_nrs1_rate.fits with expected size 83943360.\n",
      "2024-02-22 19:47:07,384 - stpipe - INFO - Found cached file mastDownload/flat/jw02609007001_03101_00003_nrs1_rate.fits with expected size 83943360.\n",
      "2024-02-22 19:47:07,475 - stpipe - INFO - Found cached file mastDownload/flat/jw02609007001_03101_00002_nrs2_rate.fits with expected size 83943360.\n"
     ]
    },
    {
     "name": "stdout",
     "output_type": "stream",
     "text": [
      "INFO: Found cached file mastDownload/flat/jw02609007001_03101_00002_nrs1_rate.fits with expected size 83943360. [astroquery.query]\n",
      "INFO: Found cached file mastDownload/flat/jw02609007001_03101_00003_nrs1_rate.fits with expected size 83943360. [astroquery.query]\n",
      "INFO: Found cached file mastDownload/flat/jw02609007001_03101_00002_nrs2_rate.fits with expected size 83943360. [astroquery.query]\n"
     ]
    },
    {
     "name": "stderr",
     "output_type": "stream",
     "text": [
      "2024-02-22 19:47:07,566 - stpipe - INFO - Found cached file mastDownload/flat/jw02609007001_03101_00003_nrs2_rate.fits with expected size 83943360.\n"
     ]
    },
    {
     "name": "stdout",
     "output_type": "stream",
     "text": [
      "INFO: Found cached file mastDownload/flat/jw02609007001_03101_00003_nrs2_rate.fits with expected size 83943360. [astroquery.query]\n"
     ]
    },
    {
     "data": {
      "text/plain": [
       "[PosixPath('mastDownload/flat/jw02609007001_03101_00002_nrs1_rate.fits'),\n",
       " PosixPath('mastDownload/flat/jw02609007001_03101_00003_nrs1_rate.fits'),\n",
       " PosixPath('mastDownload/flat/jw02609007001_03101_00002_nrs2_rate.fits'),\n",
       " PosixPath('mastDownload/flat/jw02609007001_03101_00003_nrs2_rate.fits')]"
      ]
     },
     "execution_count": 20,
     "metadata": {},
     "output_type": "execute_result"
    }
   ],
   "source": [
    "input_paths = []\n",
    "for nm, uri in fn_to_uri.items():\n",
    "    res = Observations.download_file(uri, local_path=flat_dl_root / nm)\n",
    "    if res[0] == 'COMPLETE':\n",
    "        input_paths.append(flat_dl_root / nm)\n",
    "    else:\n",
    "        input_paths.append(None)\n",
    "        \n",
    "assert all([pth is not None for pth in input_paths])\n",
    "\n",
    "input_paths"
   ]
  },
  {
   "cell_type": "markdown",
   "id": "2e211714-2ba0-4c8c-a195-b01942b0564f",
   "metadata": {},
   "source": [
    "This might be overkill, but just assume we need all of the MSAs in the matched product set"
   ]
  },
  {
   "cell_type": "code",
   "execution_count": 21,
   "id": "a19ccb07-0c0f-47b6-8cb5-41525b593ac9",
   "metadata": {},
   "outputs": [
    {
     "name": "stderr",
     "output_type": "stream",
     "text": [
      "2024-02-22 19:47:07,714 - stpipe - INFO - Found cached file mastDownload/flat/jw02609007001_01_msa.fits with expected size 529920.\n"
     ]
    },
    {
     "name": "stdout",
     "output_type": "stream",
     "text": [
      "INFO: Found cached file mastDownload/flat/jw02609007001_01_msa.fits with expected size 529920. [astroquery.query]\n"
     ]
    },
    {
     "name": "stderr",
     "output_type": "stream",
     "text": [
      "2024-02-22 19:47:07,858 - stpipe - INFO - Found cached file mastDownload/flat/jw02609007001_01_msa.fits with expected size 529920.\n"
     ]
    },
    {
     "name": "stdout",
     "output_type": "stream",
     "text": [
      "INFO: Found cached file mastDownload/flat/jw02609007001_01_msa.fits with expected size 529920. [astroquery.query]\n"
     ]
    },
    {
     "name": "stderr",
     "output_type": "stream",
     "text": [
      "2024-02-22 19:47:07,956 - stpipe - INFO - Found cached file mastDownload/flat/jw02609007001_01_msa.fits with expected size 529920.\n",
      "2024-02-22 19:47:08,030 - stpipe - INFO - Found cached file mastDownload/flat/jw02609007001_01_msa.fits with expected size 529920.\n"
     ]
    },
    {
     "name": "stdout",
     "output_type": "stream",
     "text": [
      "INFO: Found cached file mastDownload/flat/jw02609007001_01_msa.fits with expected size 529920. [astroquery.query]\n",
      "INFO: Found cached file mastDownload/flat/jw02609007001_01_msa.fits with expected size 529920. [astroquery.query]\n"
     ]
    }
   ],
   "source": [
    "for row in ex_prods[ex_prods['productSubGroupDescription']=='MSA']:\n",
    "    Observations.download_file(row['dataURI'], local_path=flat_dl_root / row['productFilename'])"
   ]
  },
  {
   "cell_type": "markdown",
   "id": "d71d9675-04ff-4e94-a485-053487936ab5",
   "metadata": {},
   "source": [
    "Now set up the pipleline to run"
   ]
  },
  {
   "cell_type": "code",
   "execution_count": 22,
   "id": "5feeada4-a94b-458d-9161-1449d4e15032",
   "metadata": {},
   "outputs": [],
   "source": [
    "os.environ.setdefault('CRDS_PATH', '/containerapp/crds_cache')\n",
    "os.environ['CRDS_SERVER_URL'] = 'https://jwst-crds.stsci.edu'"
   ]
  },
  {
   "cell_type": "code",
   "execution_count": 23,
   "id": "f4445751-bed3-4a8e-b48b-2a0d850bd9cf",
   "metadata": {},
   "outputs": [],
   "source": [
    "asn_fn = 'jw02609-o007_20240212t021359_spec2_00004_asn.json'\n",
    "asn = spec2_asns[asn_fn]\n",
    "\n",
    "redux_path = Path('miscdata/jwst_outputs/redux_test')\n",
    "\n",
    "redux_path.mkdir(exist_ok=True)\n",
    "\n",
    "asn = deepcopy(asn)\n",
    "assert len(asn['products']) == 1\n",
    "\n",
    "msas = []\n",
    "prod = asn['products'][0]\n",
    "for member in prod['members']:\n",
    "    link = redux_path / member['expname']\n",
    "    target = flat_dl_root / member['expname']\n",
    "    if not link.is_symlink():\n",
    "        link.symlink_to(target.resolve())\n",
    "    msas.append(fits.getheader(link).get('MSAMETFL', None))\n",
    "\n",
    "for msa in msas:\n",
    "    if msa is not None:\n",
    "        link = redux_path / msa\n",
    "        target = flat_dl_root / msa\n",
    "        if not link.is_symlink():\n",
    "            link.symlink_to(target.resolve())\n",
    "            \n",
    "with (redux_path / asn_fn).open('w') as f:\n",
    "    json.dump(asn, f)"
   ]
  },
  {
   "cell_type": "code",
   "execution_count": 24,
   "id": "f02dd1b0-779a-4eb2-9b47-2308fbc0f100",
   "metadata": {},
   "outputs": [
    {
     "name": "stderr",
     "output_type": "stream",
     "text": [
      "2024-02-22 19:47:08,103 - stpipe.Spec2Pipeline - INFO - Spec2Pipeline instance created.\n",
      "2024-02-22 19:47:08,104 - stpipe.Spec2Pipeline.assign_wcs - INFO - AssignWcsStep instance created.\n",
      "2024-02-22 19:47:08,105 - stpipe.Spec2Pipeline.msa_flagging - INFO - MSAFlagOpenStep instance created.\n",
      "2024-02-22 19:47:08,106 - stpipe.Spec2Pipeline.nsclean - INFO - NSCleanStep instance created.\n",
      "2024-02-22 19:47:08,107 - stpipe.Spec2Pipeline.bkg_subtract - INFO - BackgroundStep instance created.\n",
      "2024-02-22 19:47:08,108 - stpipe.Spec2Pipeline.imprint_subtract - INFO - ImprintStep instance created.\n",
      "2024-02-22 19:47:08,109 - stpipe.Spec2Pipeline.extract_2d - INFO - Extract2dStep instance created.\n",
      "2024-02-22 19:47:08,111 - stpipe.Spec2Pipeline.master_background_mos - INFO - MasterBackgroundMosStep instance created.\n",
      "2024-02-22 19:47:08,112 - stpipe.Spec2Pipeline.master_background_mos.flat_field - INFO - FlatFieldStep instance created.\n",
      "2024-02-22 19:47:08,112 - stpipe.Spec2Pipeline.master_background_mos.pathloss - INFO - PathLossStep instance created.\n",
      "2024-02-22 19:47:08,113 - stpipe.Spec2Pipeline.master_background_mos.barshadow - INFO - BarShadowStep instance created.\n",
      "2024-02-22 19:47:08,113 - stpipe.Spec2Pipeline.master_background_mos.photom - INFO - PhotomStep instance created.\n",
      "2024-02-22 19:47:08,114 - stpipe.Spec2Pipeline.wavecorr - INFO - WavecorrStep instance created.\n",
      "2024-02-22 19:47:08,115 - stpipe.Spec2Pipeline.flat_field - INFO - FlatFieldStep instance created.\n",
      "2024-02-22 19:47:08,115 - stpipe.Spec2Pipeline.srctype - INFO - SourceTypeStep instance created.\n",
      "2024-02-22 19:47:08,116 - stpipe.Spec2Pipeline.straylight - INFO - StraylightStep instance created.\n",
      "2024-02-22 19:47:08,117 - stpipe.Spec2Pipeline.fringe - INFO - FringeStep instance created.\n",
      "2024-02-22 19:47:08,118 - stpipe.Spec2Pipeline.residual_fringe - INFO - ResidualFringeStep instance created.\n",
      "2024-02-22 19:47:08,119 - stpipe.Spec2Pipeline.pathloss - INFO - PathLossStep instance created.\n",
      "2024-02-22 19:47:08,120 - stpipe.Spec2Pipeline.barshadow - INFO - BarShadowStep instance created.\n",
      "2024-02-22 19:47:08,121 - stpipe.Spec2Pipeline.wfss_contam - INFO - WfssContamStep instance created.\n",
      "2024-02-22 19:47:08,122 - stpipe.Spec2Pipeline.photom - INFO - PhotomStep instance created.\n",
      "2024-02-22 19:47:08,123 - stpipe.Spec2Pipeline.pixel_replace - INFO - PixelReplaceStep instance created.\n",
      "2024-02-22 19:47:08,124 - stpipe.Spec2Pipeline.resample_spec - INFO - ResampleSpecStep instance created.\n",
      "2024-02-22 19:47:08,125 - stpipe.Spec2Pipeline.cube_build - INFO - CubeBuildStep instance created.\n",
      "2024-02-22 19:47:08,126 - stpipe.Spec2Pipeline.extract_1d - INFO - Extract1dStep instance created.\n",
      "2024-02-22 19:47:08,397 - stpipe.Spec2Pipeline - INFO - Step Spec2Pipeline running with args (PosixPath('miscdata/jwst_outputs/redux_test/jw02609-o007_20240212t021359_spec2_00004_asn.json'),).\n",
      "2024-02-22 19:47:08,410 - stpipe.Spec2Pipeline - INFO - Step Spec2Pipeline parameters are: {'pre_hooks': [], 'post_hooks': [], 'output_file': None, 'output_dir': 'miscdata/jwst_outputs/redux_test', 'output_ext': '.fits', 'output_use_model': False, 'output_use_index': True, 'save_results': True, 'skip': False, 'suffix': None, 'search_output_file': True, 'input_dir': '', 'save_bsub': False, 'fail_on_exception': True, 'save_wfss_esec': False, 'steps': {'assign_wcs': {'pre_hooks': [], 'post_hooks': [], 'output_file': None, 'output_dir': None, 'output_ext': '.fits', 'output_use_model': False, 'output_use_index': True, 'save_results': False, 'skip': False, 'suffix': None, 'search_output_file': True, 'input_dir': '', 'sip_approx': True, 'sip_max_pix_error': 0.1, 'sip_degree': None, 'sip_max_inv_pix_error': 0.1, 'sip_inv_degree': None, 'sip_npoints': 12, 'slit_y_low': -1.1, 'slit_y_high': 1.1}, 'msa_flagging': {'pre_hooks': [], 'post_hooks': [], 'output_file': None, 'output_dir': None, 'output_ext': '.fits', 'output_use_model': False, 'output_use_index': True, 'save_results': False, 'skip': False, 'suffix': None, 'search_output_file': True, 'input_dir': ''}, 'nsclean': {'pre_hooks': [], 'post_hooks': [], 'output_file': None, 'output_dir': None, 'output_ext': '.fits', 'output_use_model': False, 'output_use_index': True, 'save_results': False, 'skip': True, 'suffix': None, 'search_output_file': True, 'input_dir': '', 'mask_spectral_regions': True, 'n_sigma': 5.0, 'save_mask': False, 'user_mask': None}, 'bkg_subtract': {'pre_hooks': [], 'post_hooks': [], 'output_file': None, 'output_dir': None, 'output_ext': '.fits', 'output_use_model': False, 'output_use_index': True, 'save_results': False, 'skip': False, 'suffix': None, 'search_output_file': True, 'input_dir': '', 'save_combined_background': False, 'sigma': 3.0, 'maxiters': None, 'wfss_mmag_extract': None}, 'imprint_subtract': {'pre_hooks': [], 'post_hooks': [], 'output_file': None, 'output_dir': None, 'output_ext': '.fits', 'output_use_model': False, 'output_use_index': True, 'save_results': False, 'skip': False, 'suffix': None, 'search_output_file': True, 'input_dir': ''}, 'extract_2d': {'pre_hooks': [], 'post_hooks': [], 'output_file': None, 'output_dir': None, 'output_ext': '.fits', 'output_use_model': False, 'output_use_index': True, 'save_results': False, 'skip': False, 'suffix': None, 'search_output_file': True, 'input_dir': '', 'slit_name': None, 'extract_orders': None, 'grism_objects': None, 'tsgrism_extract_height': None, 'wfss_extract_half_height': 5, 'wfss_mmag_extract': None, 'wfss_nbright': 1000}, 'master_background_mos': {'pre_hooks': [], 'post_hooks': [], 'output_file': None, 'output_dir': None, 'output_ext': '.fits', 'output_use_model': True, 'output_use_index': True, 'save_results': False, 'skip': False, 'suffix': None, 'search_output_file': True, 'input_dir': '', 'force_subtract': False, 'save_background': False, 'user_background': None, 'inverse': False, 'steps': {'flat_field': {'pre_hooks': [], 'post_hooks': [], 'output_file': None, 'output_dir': None, 'output_ext': '.fits', 'output_use_model': False, 'output_use_index': True, 'save_results': False, 'skip': False, 'suffix': None, 'search_output_file': True, 'input_dir': '', 'save_interpolated_flat': False, 'user_supplied_flat': None, 'inverse': False}, 'pathloss': {'pre_hooks': [], 'post_hooks': [], 'output_file': None, 'output_dir': None, 'output_ext': '.fits', 'output_use_model': False, 'output_use_index': True, 'save_results': False, 'skip': False, 'suffix': None, 'search_output_file': True, 'input_dir': '', 'inverse': False, 'source_type': None, 'user_slit_loc': None}, 'barshadow': {'pre_hooks': [], 'post_hooks': [], 'output_file': None, 'output_dir': None, 'output_ext': '.fits', 'output_use_model': False, 'output_use_index': True, 'save_results': False, 'skip': False, 'suffix': None, 'search_output_file': True, 'input_dir': '', 'inverse': False, 'source_type': None}, 'photom': {'pre_hooks': [], 'post_hooks': [], 'output_file': None, 'output_dir': None, 'output_ext': '.fits', 'output_use_model': False, 'output_use_index': True, 'save_results': False, 'skip': False, 'suffix': None, 'search_output_file': True, 'input_dir': '', 'inverse': False, 'source_type': None, 'mrs_time_correction': True}}}, 'wavecorr': {'pre_hooks': [], 'post_hooks': [], 'output_file': None, 'output_dir': None, 'output_ext': '.fits', 'output_use_model': False, 'output_use_index': True, 'save_results': False, 'skip': False, 'suffix': None, 'search_output_file': True, 'input_dir': ''}, 'flat_field': {'pre_hooks': [], 'post_hooks': [], 'output_file': None, 'output_dir': None, 'output_ext': '.fits', 'output_use_model': False, 'output_use_index': True, 'save_results': False, 'skip': False, 'suffix': None, 'search_output_file': True, 'input_dir': '', 'save_interpolated_flat': True, 'user_supplied_flat': None, 'inverse': False}, 'srctype': {'pre_hooks': [], 'post_hooks': [], 'output_file': None, 'output_dir': None, 'output_ext': '.fits', 'output_use_model': False, 'output_use_index': True, 'save_results': False, 'skip': False, 'suffix': None, 'search_output_file': True, 'input_dir': '', 'source_type': 'POINT'}, 'straylight': {'pre_hooks': [], 'post_hooks': [], 'output_file': None, 'output_dir': None, 'output_ext': '.fits', 'output_use_model': False, 'output_use_index': True, 'save_results': False, 'skip': False, 'suffix': None, 'search_output_file': True, 'input_dir': ''}, 'fringe': {'pre_hooks': [], 'post_hooks': [], 'output_file': None, 'output_dir': None, 'output_ext': '.fits', 'output_use_model': False, 'output_use_index': True, 'save_results': False, 'skip': False, 'suffix': None, 'search_output_file': True, 'input_dir': ''}, 'residual_fringe': {'pre_hooks': [], 'post_hooks': [], 'output_file': None, 'output_dir': None, 'output_ext': '.fits', 'output_use_model': False, 'output_use_index': True, 'save_results': False, 'skip': True, 'suffix': 'residual_fringe', 'search_output_file': False, 'input_dir': '', 'save_intermediate_results': False, 'ignore_region_min': None, 'ignore_region_max': None}, 'pathloss': {'pre_hooks': [], 'post_hooks': [], 'output_file': None, 'output_dir': None, 'output_ext': '.fits', 'output_use_model': False, 'output_use_index': True, 'save_results': False, 'skip': False, 'suffix': None, 'search_output_file': True, 'input_dir': '', 'inverse': False, 'source_type': None, 'user_slit_loc': None}, 'barshadow': {'pre_hooks': [], 'post_hooks': [], 'output_file': None, 'output_dir': None, 'output_ext': '.fits', 'output_use_model': False, 'output_use_index': True, 'save_results': False, 'skip': False, 'suffix': None, 'search_output_file': True, 'input_dir': '', 'inverse': False, 'source_type': None}, 'wfss_contam': {'pre_hooks': [], 'post_hooks': [], 'output_file': None, 'output_dir': None, 'output_ext': '.fits', 'output_use_model': False, 'output_use_index': True, 'save_results': False, 'skip': True, 'suffix': None, 'search_output_file': True, 'input_dir': '', 'save_simulated_image': False, 'save_contam_images': False, 'maximum_cores': 'none'}, 'photom': {'pre_hooks': [], 'post_hooks': [], 'output_file': None, 'output_dir': None, 'output_ext': '.fits', 'output_use_model': False, 'output_use_index': True, 'save_results': False, 'skip': False, 'suffix': None, 'search_output_file': True, 'input_dir': '', 'inverse': False, 'source_type': None, 'mrs_time_correction': True}, 'pixel_replace': {'pre_hooks': [], 'post_hooks': [], 'output_file': None, 'output_dir': None, 'output_ext': '.fits', 'output_use_model': False, 'output_use_index': True, 'save_results': False, 'skip': True, 'suffix': None, 'search_output_file': True, 'input_dir': '', 'algorithm': 'fit_profile', 'n_adjacent_cols': 3}, 'resample_spec': {'pre_hooks': [], 'post_hooks': [], 'output_file': None, 'output_dir': None, 'output_ext': '.fits', 'output_use_model': False, 'output_use_index': True, 'save_results': False, 'skip': True, 'suffix': None, 'search_output_file': True, 'input_dir': '', 'pixfrac': 1.0, 'kernel': 'square', 'fillval': 'INDEF', 'weight_type': 'ivm', 'output_shape': None, 'crpix': None, 'crval': None, 'rotation': None, 'pixel_scale_ratio': 1.0, 'pixel_scale': None, 'output_wcs': '', 'single': False, 'blendheaders': True, 'allowed_memory': None, 'in_memory': True}, 'cube_build': {'pre_hooks': [], 'post_hooks': [], 'output_file': None, 'output_dir': None, 'output_ext': '.fits', 'output_use_model': True, 'output_use_index': True, 'save_results': False, 'skip': False, 'suffix': 's3d', 'search_output_file': False, 'input_dir': '', 'channel': 'all', 'band': 'all', 'grating': 'all', 'filter': 'all', 'output_type': None, 'scalexy': 0.0, 'scalew': 0.0, 'weighting': 'drizzle', 'coord_system': 'skyalign', 'ra_center': None, 'dec_center': None, 'cube_pa': None, 'nspax_x': None, 'nspax_y': None, 'rois': 0.0, 'roiw': 0.0, 'weight_power': 2.0, 'wavemin': None, 'wavemax': None, 'single': False, 'skip_dqflagging': False, 'debug_spaxel': '-1 -1 -1'}, 'extract_1d': {'pre_hooks': [], 'post_hooks': [], 'output_file': None, 'output_dir': None, 'output_ext': '.fits', 'output_use_model': False, 'output_use_index': True, 'save_results': False, 'skip': True, 'suffix': None, 'search_output_file': True, 'input_dir': '', 'smoothing_length': None, 'bkg_fit': None, 'bkg_order': None, 'bkg_sigma_clip': 3.0, 'log_increment': 50, 'subtract_background': None, 'use_source_posn': None, 'center_xy': None, 'apply_apcorr': True, 'ifu_autocen': False, 'ifu_rfcorr': False, 'ifu_set_srctype': None, 'ifu_rscale': None, 'soss_atoca': True, 'soss_threshold': 0.01, 'soss_n_os': 2, 'soss_wave_grid_in': None, 'soss_wave_grid_out': None, 'soss_estimate': None, 'soss_rtol': 0.0001, 'soss_max_grid_size': 20000, 'soss_transform': None, 'soss_tikfac': None, 'soss_width': 40.0, 'soss_bad_pix': 'masking', 'soss_modelname': None}}}\n",
      "2024-02-22 19:47:08,493 - stpipe.Spec2Pipeline - INFO - Prefetching reference files for dataset: 'jw02609007001_03101_00002_nrs1_rate.fits' reftypes = ['area', 'barshadow', 'camera', 'collimator', 'cubepar', 'dflat', 'disperser', 'distortion', 'fflat', 'filteroffset', 'flat', 'fore', 'fpa', 'fringe', 'ifufore', 'ifupost', 'ifuslicer', 'mrsxartcorr', 'msa', 'msaoper', 'ote', 'pathloss', 'photom', 'regions', 'sflat', 'specwcs', 'wavecorr', 'wavelengthrange', 'wfssbkg']\n",
      "2024-02-22 19:47:08,800 - stpipe.Spec2Pipeline - INFO - Prefetch for AREA reference file is '/containerapp/crds_cache/references/jwst/nirspec/jwst_nirspec_area_0048.fits'.\n",
      "2024-02-22 19:47:08,800 - stpipe.Spec2Pipeline - INFO - Prefetch for BARSHADOW reference file is '/containerapp/crds_cache/references/jwst/nirspec/jwst_nirspec_barshadow_0001.fits'.\n",
      "2024-02-22 19:47:08,801 - stpipe.Spec2Pipeline - INFO - Prefetch for CAMERA reference file is '/containerapp/crds_cache/references/jwst/nirspec/jwst_nirspec_camera_0008.asdf'.\n",
      "2024-02-22 19:47:08,801 - stpipe.Spec2Pipeline - INFO - Prefetch for COLLIMATOR reference file is '/containerapp/crds_cache/references/jwst/nirspec/jwst_nirspec_collimator_0008.asdf'.\n",
      "2024-02-22 19:47:08,802 - stpipe.Spec2Pipeline - INFO - Prefetch for CUBEPAR reference file is 'N/A'.\n",
      "2024-02-22 19:47:08,802 - stpipe.Spec2Pipeline - INFO - Prefetch for DFLAT reference file is '/containerapp/crds_cache/references/jwst/nirspec/jwst_nirspec_dflat_0001.fits'.\n",
      "2024-02-22 19:47:08,802 - stpipe.Spec2Pipeline - INFO - Prefetch for DISPERSER reference file is '/containerapp/crds_cache/references/jwst/nirspec/jwst_nirspec_disperser_0066.asdf'.\n",
      "2024-02-22 19:47:08,803 - stpipe.Spec2Pipeline - INFO - Prefetch for DISTORTION reference file is 'N/A'.\n",
      "2024-02-22 19:47:08,803 - stpipe.Spec2Pipeline - INFO - Prefetch for FFLAT reference file is '/containerapp/crds_cache/references/jwst/nirspec/jwst_nirspec_fflat_0067.fits'.\n",
      "2024-02-22 19:47:08,803 - stpipe.Spec2Pipeline - INFO - Prefetch for FILTEROFFSET reference file is 'N/A'.\n",
      "2024-02-22 19:47:08,804 - stpipe.Spec2Pipeline - INFO - Prefetch for FLAT reference file is 'N/A'.\n",
      "2024-02-22 19:47:08,804 - stpipe.Spec2Pipeline - INFO - Prefetch for FORE reference file is '/containerapp/crds_cache/references/jwst/nirspec/jwst_nirspec_fore_0050.asdf'.\n",
      "2024-02-22 19:47:08,805 - stpipe.Spec2Pipeline - INFO - Prefetch for FPA reference file is '/containerapp/crds_cache/references/jwst/nirspec/jwst_nirspec_fpa_0009.asdf'.\n",
      "2024-02-22 19:47:08,805 - stpipe.Spec2Pipeline - INFO - Prefetch for FRINGE reference file is 'N/A'.\n",
      "2024-02-22 19:47:08,805 - stpipe.Spec2Pipeline - INFO - Prefetch for IFUFORE reference file is 'N/A'.\n",
      "2024-02-22 19:47:08,805 - stpipe.Spec2Pipeline - INFO - Prefetch for IFUPOST reference file is 'N/A'.\n",
      "2024-02-22 19:47:08,806 - stpipe.Spec2Pipeline - INFO - Prefetch for IFUSLICER reference file is 'N/A'.\n",
      "2024-02-22 19:47:08,806 - stpipe.Spec2Pipeline - INFO - Prefetch for MRSXARTCORR reference file is 'N/A'.\n",
      "2024-02-22 19:47:08,806 - stpipe.Spec2Pipeline - INFO - Prefetch for MSA reference file is '/containerapp/crds_cache/references/jwst/nirspec/jwst_nirspec_msa_0009.asdf'.\n",
      "2024-02-22 19:47:08,807 - stpipe.Spec2Pipeline - INFO - Prefetch for MSAOPER reference file is '/containerapp/crds_cache/references/jwst/nirspec/jwst_nirspec_msaoper_0006.json'.\n",
      "2024-02-22 19:47:08,808 - stpipe.Spec2Pipeline - INFO - Prefetch for OTE reference file is '/containerapp/crds_cache/references/jwst/nirspec/jwst_nirspec_ote_0009.asdf'.\n",
      "2024-02-22 19:47:08,808 - stpipe.Spec2Pipeline - INFO - Prefetch for PATHLOSS reference file is '/containerapp/crds_cache/references/jwst/nirspec/jwst_nirspec_pathloss_0002.fits'.\n",
      "2024-02-22 19:47:08,808 - stpipe.Spec2Pipeline - INFO - Prefetch for PHOTOM reference file is '/containerapp/crds_cache/references/jwst/nirspec/jwst_nirspec_photom_0015.fits'.\n",
      "2024-02-22 19:47:08,809 - stpipe.Spec2Pipeline - INFO - Prefetch for REGIONS reference file is 'N/A'.\n",
      "2024-02-22 19:47:08,809 - stpipe.Spec2Pipeline - INFO - Prefetch for SFLAT reference file is '/containerapp/crds_cache/references/jwst/nirspec/jwst_nirspec_sflat_0173.fits'.\n",
      "2024-02-22 19:47:08,809 - stpipe.Spec2Pipeline - INFO - Prefetch for SPECWCS reference file is 'N/A'.\n",
      "2024-02-22 19:47:08,810 - stpipe.Spec2Pipeline - INFO - Prefetch for WAVECORR reference file is '/containerapp/crds_cache/references/jwst/nirspec/jwst_nirspec_wavecorr_0004.asdf'.\n",
      "2024-02-22 19:47:08,810 - stpipe.Spec2Pipeline - INFO - Prefetch for WAVELENGTHRANGE reference file is '/containerapp/crds_cache/references/jwst/nirspec/jwst_nirspec_wavelengthrange_0006.asdf'.\n",
      "2024-02-22 19:47:08,810 - stpipe.Spec2Pipeline - INFO - Prefetch for WFSSBKG reference file is 'N/A'.\n",
      "2024-02-22 19:47:08,811 - stpipe.Spec2Pipeline - INFO - Starting calwebb_spec2 ...\n",
      "2024-02-22 19:47:08,818 - stpipe.Spec2Pipeline - INFO - Processing product jw02609007001_03101_00002_nrs1\n",
      "2024-02-22 19:47:08,819 - stpipe.Spec2Pipeline - INFO - Working on input miscdata/jwst_outputs/redux_test/jw02609007001_03101_00002_nrs1_rate.fits ...\n",
      "2024-02-22 19:47:09,197 - stpipe.Spec2Pipeline.assign_wcs - INFO - Step assign_wcs running with args (<ImageModel(2048, 2048) from jw02609007001_03101_00002_nrs1_rate.fits>,).\n",
      "2024-02-22 19:47:09,199 - stpipe.Spec2Pipeline.assign_wcs - INFO - Step assign_wcs parameters are: {'pre_hooks': [], 'post_hooks': [], 'output_file': None, 'output_dir': None, 'output_ext': '.fits', 'output_use_model': False, 'output_use_index': True, 'save_results': False, 'skip': False, 'suffix': None, 'search_output_file': True, 'input_dir': 'miscdata/jwst_outputs/redux_test', 'sip_approx': True, 'sip_max_pix_error': 0.1, 'sip_degree': None, 'sip_max_inv_pix_error': 0.1, 'sip_inv_degree': None, 'sip_npoints': 12, 'slit_y_low': -1.1, 'slit_y_high': 1.1}\n",
      "2024-02-22 19:47:09,336 - stpipe.Spec2Pipeline.assign_wcs - INFO - Retrieving open MSA slitlets for msa_metadata_id = 1 and dither_index = 1\n",
      "2024-02-22 19:47:09,485 - stpipe.Spec2Pipeline.assign_wcs - INFO - gwa_ytilt is 0.1333351580000003 deg\n",
      "2024-02-22 19:47:09,485 - stpipe.Spec2Pipeline.assign_wcs - INFO - gwa_xtilt is 0.3566858169999993 deg\n",
      "2024-02-22 19:47:09,486 - stpipe.Spec2Pipeline.assign_wcs - INFO - theta_y correction: 0.005004149402708499 deg\n",
      "2024-02-22 19:47:09,487 - stpipe.Spec2Pipeline.assign_wcs - INFO - theta_x correction: 0.00013125841246112676 deg\n",
      "2024-02-22 19:47:09,658 - stpipe.Spec2Pipeline.assign_wcs - INFO - Removing slit 2 from the list of open slits because the WCS bounding_box is completely outside the detector.\n",
      "2024-02-22 19:47:09,666 - stpipe.Spec2Pipeline.assign_wcs - INFO - Removing slit 3 from the list of open slits because the WCS bounding_box is completely outside the detector.\n",
      "2024-02-22 19:47:09,675 - stpipe.Spec2Pipeline.assign_wcs - INFO - Removing slit 4 from the list of open slits because the WCS bounding_box is completely outside the detector.\n",
      "2024-02-22 19:47:09,685 - stpipe.Spec2Pipeline.assign_wcs - INFO - Removing slit 10 from the list of open slits because the WCS bounding_box is completely outside the detector.\n",
      "2024-02-22 19:47:09,694 - stpipe.Spec2Pipeline.assign_wcs - INFO - Removing slit 16 from the list of open slits because the WCS bounding_box is completely outside the detector.\n",
      "2024-02-22 19:47:09,702 - stpipe.Spec2Pipeline.assign_wcs - INFO - Removing slit 17 from the list of open slits because the WCS bounding_box is completely outside the detector.\n",
      "2024-02-22 19:47:09,711 - stpipe.Spec2Pipeline.assign_wcs - INFO - Removing slit 20 from the list of open slits because the WCS bounding_box is completely outside the detector.\n",
      "2024-02-22 19:47:09,801 - stpipe.Spec2Pipeline.assign_wcs - INFO - Removing slit 5 from the list of open slits because the WCS bounding_box is completely outside the detector.\n",
      "2024-02-22 19:47:09,809 - stpipe.Spec2Pipeline.assign_wcs - INFO - Removing slit 6 from the list of open slits because the WCS bounding_box is completely outside the detector.\n",
      "2024-02-22 19:47:09,819 - stpipe.Spec2Pipeline.assign_wcs - INFO - Removing slit 7 from the list of open slits because the WCS bounding_box is completely outside the detector.\n",
      "2024-02-22 19:47:09,829 - stpipe.Spec2Pipeline.assign_wcs - INFO - Removing slit 8 from the list of open slits because the WCS bounding_box is completely outside the detector.\n",
      "2024-02-22 19:47:09,838 - stpipe.Spec2Pipeline.assign_wcs - INFO - Removing slit 9 from the list of open slits because the WCS bounding_box is completely outside the detector.\n",
      "2024-02-22 19:47:09,847 - stpipe.Spec2Pipeline.assign_wcs - INFO - Removing slit 11 from the list of open slits because the WCS bounding_box is completely outside the detector.\n",
      "2024-02-22 19:47:09,856 - stpipe.Spec2Pipeline.assign_wcs - INFO - Removing slit 12 from the list of open slits because the WCS bounding_box is completely outside the detector.\n",
      "2024-02-22 19:47:10,127 - stpipe.Spec2Pipeline.assign_wcs - INFO - Slits projected on detector NRS1: [13, 14, 15, 18, 19, 21, 22, 23, 24, 25, 26, 27, 28, 29, 30, 31, 32, 33, 34, 35, 36, 37, 38, 39, 40, 41, 42, 43, 44, 45, 46, 47, 48, 49, 50, 51, 52, 53, 54, 55, 56, 57, 58, 59]\n",
      "2024-02-22 19:47:10,128 - stpipe.Spec2Pipeline.assign_wcs - INFO - Computing WCS for 44 open slitlets\n",
      "2024-02-22 19:47:10,151 - stpipe.Spec2Pipeline.assign_wcs - INFO - gwa_ytilt is 0.1333351580000003 deg\n",
      "2024-02-22 19:47:10,152 - stpipe.Spec2Pipeline.assign_wcs - INFO - gwa_xtilt is 0.3566858169999993 deg\n",
      "2024-02-22 19:47:10,152 - stpipe.Spec2Pipeline.assign_wcs - INFO - theta_y correction: 0.005004149402708499 deg\n",
      "2024-02-22 19:47:10,154 - stpipe.Spec2Pipeline.assign_wcs - INFO - theta_x correction: 0.00013125841246112676 deg\n",
      "2024-02-22 19:47:10,167 - stpipe.Spec2Pipeline.assign_wcs - INFO - SPORDER= -1, wrange=[9.7e-07, 1.89e-06]\n",
      "2024-02-22 19:47:10,244 - stpipe.Spec2Pipeline.assign_wcs - INFO - Applied Barycentric velocity correction : 1.0000070886208352\n",
      "2024-02-22 19:47:10,273 - stpipe.Spec2Pipeline.assign_wcs - INFO - There are 11 open slits in quadrant 1\n",
      "2024-02-22 19:47:10,331 - stpipe.Spec2Pipeline.assign_wcs - INFO - There are 15 open slits in quadrant 2\n",
      "2024-02-22 19:47:10,408 - stpipe.Spec2Pipeline.assign_wcs - INFO - There are 5 open slits in quadrant 3\n",
      "2024-02-22 19:47:10,436 - stpipe.Spec2Pipeline.assign_wcs - INFO - There are 13 open slits in quadrant 4\n",
      "2024-02-22 19:47:10,505 - stpipe.Spec2Pipeline.assign_wcs - INFO - There are 0 open slits in quadrant 5\n",
      "2024-02-22 19:47:10,627 - stpipe.Spec2Pipeline.assign_wcs - INFO - Created a NIRSPEC nrs_msaspec pipeline with references {'distortion': None, 'filteroffset': None, 'specwcs': None, 'regions': None, 'wavelengthrange': '/containerapp/crds_cache/references/jwst/nirspec/jwst_nirspec_wavelengthrange_0006.asdf', 'camera': '/containerapp/crds_cache/references/jwst/nirspec/jwst_nirspec_camera_0008.asdf', 'collimator': '/containerapp/crds_cache/references/jwst/nirspec/jwst_nirspec_collimator_0008.asdf', 'disperser': '/containerapp/crds_cache/references/jwst/nirspec/jwst_nirspec_disperser_0066.asdf', 'fore': '/containerapp/crds_cache/references/jwst/nirspec/jwst_nirspec_fore_0050.asdf', 'fpa': '/containerapp/crds_cache/references/jwst/nirspec/jwst_nirspec_fpa_0009.asdf', 'msa': '/containerapp/crds_cache/references/jwst/nirspec/jwst_nirspec_msa_0009.asdf', 'ote': '/containerapp/crds_cache/references/jwst/nirspec/jwst_nirspec_ote_0009.asdf', 'ifupost': None, 'ifufore': None, 'ifuslicer': None, 'msametafile': 'miscdata/jwst_outputs/redux_test/jw02609007001_01_msa.fits'}\n",
      "2024-02-22 19:47:11,572 - stpipe.Spec2Pipeline.assign_wcs - INFO - COMPLETED assign_wcs\n",
      "2024-02-22 19:47:11,585 - stpipe.Spec2Pipeline.assign_wcs - INFO - Step assign_wcs done\n",
      "2024-02-22 19:47:11,917 - stpipe.Spec2Pipeline.msa_flagging - INFO - Step msa_flagging running with args (<ImageModel(2048, 2048) from jw02609007001_03101_00002_nrs1_rate.fits>,).\n",
      "2024-02-22 19:47:11,918 - stpipe.Spec2Pipeline.msa_flagging - INFO - Step msa_flagging parameters are: {'pre_hooks': [], 'post_hooks': [], 'output_file': None, 'output_dir': None, 'output_ext': '.fits', 'output_use_model': False, 'output_use_index': True, 'save_results': False, 'skip': False, 'suffix': None, 'search_output_file': True, 'input_dir': 'miscdata/jwst_outputs/redux_test'}\n",
      "2024-02-22 19:47:11,930 - stpipe.Spec2Pipeline.msa_flagging - INFO - Using reference file /containerapp/crds_cache/references/jwst/nirspec/jwst_nirspec_msaoper_0006.json\n",
      "2024-02-22 19:47:11,931 - stpipe.JwstStep - INFO - JwstStep instance created.\n",
      "2024-02-22 19:47:12,045 - stpipe.Spec2Pipeline.msa_flagging - INFO - gwa_ytilt is 0.1333351580000003 deg\n",
      "2024-02-22 19:47:12,045 - stpipe.Spec2Pipeline.msa_flagging - INFO - gwa_xtilt is 0.3566858169999993 deg\n",
      "2024-02-22 19:47:12,046 - stpipe.Spec2Pipeline.msa_flagging - INFO - theta_y correction: 0.005004149402708499 deg\n",
      "2024-02-22 19:47:12,047 - stpipe.Spec2Pipeline.msa_flagging - INFO - theta_x correction: 0.00013125841246112676 deg\n",
      "2024-02-22 19:47:12,060 - stpipe.Spec2Pipeline.msa_flagging - INFO - SPORDER= -1, wrange=[9.7e-07, 1.89e-06]\n",
      "2024-02-22 19:47:12,148 - stpipe.Spec2Pipeline.msa_flagging - INFO - Applied Barycentric velocity correction : 1.0000070886208352\n",
      "2024-02-22 19:47:12,177 - stpipe.Spec2Pipeline.msa_flagging - INFO - There are 6 open slits in quadrant 1\n",
      "2024-02-22 19:47:12,211 - stpipe.Spec2Pipeline.msa_flagging - INFO - There are 3 open slits in quadrant 2\n",
      "2024-02-22 19:47:12,229 - stpipe.Spec2Pipeline.msa_flagging - INFO - There are 12 open slits in quadrant 3\n",
      "2024-02-22 19:47:12,293 - stpipe.Spec2Pipeline.msa_flagging - INFO - There are 3 open slits in quadrant 4\n",
      "2024-02-22 19:47:12,310 - stpipe.Spec2Pipeline.msa_flagging - INFO - There are 0 open slits in quadrant 5\n",
      "2024-02-22 19:47:13,832 - stpipe.Spec2Pipeline.msa_flagging - WARNING - /usr/local/lib/python3.11/site-packages/astropy/modeling/bounding_box.py:88: RuntimeWarning: Invalid interval: upper bound 2047.5 is strictly less than lower bound 2346.011539232984.\n",
      "2024-02-22 19:47:13,833 - stpipe.Spec2Pipeline.msa_flagging - WARNING -   warnings.warn(\n",
      "2024-02-22 19:47:13,834 - stpipe.Spec2Pipeline.msa_flagging - WARNING - \n",
      "2024-02-22 19:47:14,101 - stpipe.Spec2Pipeline.msa_flagging - WARNING - /usr/local/lib/python3.11/site-packages/astropy/modeling/bounding_box.py:88: RuntimeWarning: Invalid interval: upper bound 2047.5 is strictly less than lower bound 2137.9283894239334.\n",
      "2024-02-22 19:47:14,102 - stpipe.Spec2Pipeline.msa_flagging - WARNING -   warnings.warn(\n",
      "2024-02-22 19:47:14,102 - stpipe.Spec2Pipeline.msa_flagging - WARNING - \n",
      "2024-02-22 19:47:14,371 - stpipe.Spec2Pipeline.msa_flagging - WARNING - /usr/local/lib/python3.11/site-packages/astropy/modeling/bounding_box.py:88: RuntimeWarning: Invalid interval: upper bound 2047.5 is strictly less than lower bound 2061.3391842921765.\n",
      "2024-02-22 19:47:14,371 - stpipe.Spec2Pipeline.msa_flagging - WARNING -   warnings.warn(\n",
      "2024-02-22 19:47:14,372 - stpipe.Spec2Pipeline.msa_flagging - WARNING - \n",
      "2024-02-22 19:47:15,983 - stpipe.Spec2Pipeline.msa_flagging - WARNING - /usr/local/lib/python3.11/site-packages/astropy/modeling/bounding_box.py:88: RuntimeWarning: Invalid interval: upper bound 2047.5 is strictly less than lower bound 2205.0480064671683.\n",
      "2024-02-22 19:47:15,983 - stpipe.Spec2Pipeline.msa_flagging - WARNING -   warnings.warn(\n",
      "2024-02-22 19:47:15,983 - stpipe.Spec2Pipeline.msa_flagging - WARNING - \n",
      "2024-02-22 19:47:23,255 - stpipe.Spec2Pipeline.msa_flagging - INFO - Step msa_flagging done\n",
      "2024-02-22 19:47:23,636 - stpipe.Spec2Pipeline.nsclean - INFO - Step nsclean running with args (<ImageModel(2048, 2048) from jw02609007001_03101_00002_nrs1_rate.fits>,).\n",
      "2024-02-22 19:47:23,637 - stpipe.Spec2Pipeline.nsclean - INFO - Step nsclean parameters are: {'pre_hooks': [], 'post_hooks': [], 'output_file': None, 'output_dir': None, 'output_ext': '.fits', 'output_use_model': False, 'output_use_index': True, 'save_results': False, 'skip': True, 'suffix': None, 'search_output_file': True, 'input_dir': 'miscdata/jwst_outputs/redux_test', 'mask_spectral_regions': True, 'n_sigma': 5.0, 'save_mask': False, 'user_mask': None}\n",
      "2024-02-22 19:47:23,637 - stpipe.Spec2Pipeline.nsclean - INFO - Step skipped.\n",
      "2024-02-22 19:47:23,641 - stpipe.Spec2Pipeline.nsclean - INFO - Step nsclean done\n",
      "2024-02-22 19:47:23,970 - stpipe.Spec2Pipeline.imprint_subtract - INFO - Step imprint_subtract running with args (<ImageModel(2048, 2048) from jw02609007001_03101_00002_nrs1_rate.fits>, []).\n",
      "2024-02-22 19:47:23,970 - stpipe.Spec2Pipeline.imprint_subtract - INFO - Step imprint_subtract parameters are: {'pre_hooks': [], 'post_hooks': [], 'output_file': None, 'output_dir': None, 'output_ext': '.fits', 'output_use_model': False, 'output_use_index': True, 'save_results': False, 'skip': True, 'suffix': None, 'search_output_file': True, 'input_dir': 'miscdata/jwst_outputs/redux_test'}\n",
      "2024-02-22 19:47:23,971 - stpipe.Spec2Pipeline.imprint_subtract - INFO - Step skipped.\n",
      "2024-02-22 19:47:23,973 - stpipe.Spec2Pipeline.imprint_subtract - INFO - Step imprint_subtract done\n",
      "2024-02-22 19:47:24,299 - stpipe.Spec2Pipeline.imprint_subtract - INFO - Step imprint_subtract running with args ('miscdata/jwst_outputs/redux_test/jw02609007001_03101_00003_nrs1_rate.fits', []).\n",
      "2024-02-22 19:47:24,300 - stpipe.Spec2Pipeline.imprint_subtract - INFO - Step imprint_subtract parameters are: {'pre_hooks': [], 'post_hooks': [], 'output_file': None, 'output_dir': None, 'output_ext': '.fits', 'output_use_model': False, 'output_use_index': True, 'save_results': False, 'skip': True, 'suffix': 'imprint_subtract', 'search_output_file': True, 'input_dir': 'miscdata/jwst_outputs/redux_test'}\n",
      "2024-02-22 19:47:24,301 - stpipe.Spec2Pipeline.imprint_subtract - INFO - Step skipped.\n",
      "2024-02-22 19:47:24,301 - stpipe.Spec2Pipeline.imprint_subtract - INFO - Step imprint_subtract done\n",
      "2024-02-22 19:47:24,628 - stpipe.Spec2Pipeline.bkg_subtract - INFO - Step bkg_subtract running with args (<ImageModel(2048, 2048) from jw02609007001_03101_00002_nrs1_rate.fits>, ['miscdata/jwst_outputs/redux_test/jw02609007001_03101_00003_nrs1_rate.fits']).\n",
      "2024-02-22 19:47:24,629 - stpipe.Spec2Pipeline.bkg_subtract - INFO - Step bkg_subtract parameters are: {'pre_hooks': [], 'post_hooks': [], 'output_file': None, 'output_dir': None, 'output_ext': '.fits', 'output_use_model': False, 'output_use_index': True, 'save_results': False, 'skip': False, 'suffix': 'bsub', 'search_output_file': True, 'input_dir': 'miscdata/jwst_outputs/redux_test', 'save_combined_background': False, 'sigma': 3.0, 'maxiters': None, 'wfss_mmag_extract': None}\n",
      "2024-02-22 19:47:24,709 - stpipe.Spec2Pipeline.bkg_subtract - INFO - Accumulate bkg from miscdata/jwst_outputs/redux_test/jw02609007001_03101_00003_nrs1_rate.fits\n",
      "2024-02-22 19:47:24,820 - stpipe.Spec2Pipeline.bkg_subtract - WARNING - /usr/local/lib/python3.11/site-packages/astropy/stats/sigma_clipping.py:368: AstropyUserWarning: Input data contains invalid values (NaNs or infs), which were automatically clipped.\n",
      "2024-02-22 19:47:24,820 - stpipe.Spec2Pipeline.bkg_subtract - WARNING -   warnings.warn(\n",
      "2024-02-22 19:47:24,820 - stpipe.Spec2Pipeline.bkg_subtract - WARNING - \n",
      "2024-02-22 19:47:25,560 - stpipe.Spec2Pipeline.bkg_subtract - INFO - Step bkg_subtract done\n",
      "2024-02-22 19:47:25,972 - stpipe.Spec2Pipeline.extract_2d - INFO - Step extract_2d running with args (<ImageModel(2048, 2048) from jw02609007001_03101_00002_nrs1_rate.fits>,).\n",
      "2024-02-22 19:47:25,973 - stpipe.Spec2Pipeline.extract_2d - INFO - Step extract_2d parameters are: {'pre_hooks': [], 'post_hooks': [], 'output_file': None, 'output_dir': None, 'output_ext': '.fits', 'output_use_model': False, 'output_use_index': True, 'save_results': False, 'skip': False, 'suffix': None, 'search_output_file': True, 'input_dir': 'miscdata/jwst_outputs/redux_test', 'slit_name': None, 'extract_orders': None, 'grism_objects': None, 'tsgrism_extract_height': None, 'wfss_extract_half_height': 5, 'wfss_mmag_extract': None, 'wfss_nbright': 1000}\n",
      "2024-02-22 19:47:25,984 - stpipe.Spec2Pipeline.extract_2d - INFO - EXP_TYPE is NRS_MSASPEC\n",
      "2024-02-22 19:47:26,446 - stpipe.Spec2Pipeline.extract_2d - INFO - Name of subarray extracted: 24\n",
      "2024-02-22 19:47:26,447 - stpipe.Spec2Pipeline.extract_2d - INFO - Subarray x-extents are: 1968 2048\n",
      "2024-02-22 19:47:26,447 - stpipe.Spec2Pipeline.extract_2d - INFO - Subarray y-extents are: 1643 1666\n",
      "2024-02-22 19:47:26,582 - stpipe.Spec2Pipeline.extract_2d - INFO - set slit_attributes completed\n",
      "2024-02-22 19:47:26,588 - stpipe.Spec2Pipeline.extract_2d - INFO - Update S_REGION to POLYGON ICRS  28.074760993 61.877883720 28.075755752 61.877572905 28.075821627 61.877618965 28.074826875 61.877929784\n",
      "2024-02-22 19:47:26,589 - stpipe.Spec2Pipeline.extract_2d - INFO - Updated S_REGION to POLYGON ICRS  28.074760993 61.877883720 28.075755752 61.877572905 28.075821627 61.877618965 28.074826875 61.877929784\n",
      "2024-02-22 19:47:27,488 - stpipe.Spec2Pipeline.extract_2d - INFO - Name of subarray extracted: 25\n",
      "2024-02-22 19:47:27,489 - stpipe.Spec2Pipeline.extract_2d - INFO - Subarray x-extents are: 1913 2048\n",
      "2024-02-22 19:47:27,489 - stpipe.Spec2Pipeline.extract_2d - INFO - Subarray y-extents are: 1343 1366\n",
      "2024-02-22 19:47:27,611 - stpipe.Spec2Pipeline.extract_2d - INFO - set slit_attributes completed\n",
      "2024-02-22 19:47:27,618 - stpipe.Spec2Pipeline.extract_2d - INFO - Update S_REGION to POLYGON ICRS  28.091391888 61.873670068 28.092382196 61.873360176 28.092447947 61.873406178 28.091457644 61.873716074\n",
      "2024-02-22 19:47:27,619 - stpipe.Spec2Pipeline.extract_2d - INFO - Updated S_REGION to POLYGON ICRS  28.091391888 61.873670068 28.092382196 61.873360176 28.092447947 61.873406178 28.091457644 61.873716074\n",
      "2024-02-22 19:47:28,075 - stpipe.Spec2Pipeline.extract_2d - INFO - Name of subarray extracted: 28\n",
      "2024-02-22 19:47:28,075 - stpipe.Spec2Pipeline.extract_2d - INFO - Subarray x-extents are: 1856 2048\n",
      "2024-02-22 19:47:28,076 - stpipe.Spec2Pipeline.extract_2d - INFO - Subarray y-extents are: 1609 1632\n",
      "2024-02-22 19:47:28,203 - stpipe.Spec2Pipeline.extract_2d - INFO - set slit_attributes completed\n",
      "2024-02-22 19:47:28,209 - stpipe.Spec2Pipeline.extract_2d - INFO - Update S_REGION to POLYGON ICRS  28.080312126 61.879915624 28.081306018 61.879604711 28.081371779 61.879650768 28.080377894 61.879961685\n",
      "2024-02-22 19:47:28,211 - stpipe.Spec2Pipeline.extract_2d - INFO - Updated S_REGION to POLYGON ICRS  28.080312126 61.879915624 28.081306018 61.879604711 28.081371779 61.879650768 28.080377894 61.879961685\n",
      "2024-02-22 19:47:29,106 - stpipe.Spec2Pipeline.extract_2d - INFO - Name of subarray extracted: 29\n",
      "2024-02-22 19:47:29,107 - stpipe.Spec2Pipeline.extract_2d - INFO - Subarray x-extents are: 1810 2048\n",
      "2024-02-22 19:47:29,107 - stpipe.Spec2Pipeline.extract_2d - INFO - Subarray y-extents are: 1669 1692\n",
      "2024-02-22 19:47:29,252 - stpipe.Spec2Pipeline.extract_2d - INFO - set slit_attributes completed\n",
      "2024-02-22 19:47:29,259 - stpipe.Spec2Pipeline.extract_2d - INFO - Update S_REGION to POLYGON ICRS  28.078945557 61.882137193 28.079940154 61.881825955 28.080005888 61.881872029 28.079011297 61.882183272\n",
      "2024-02-22 19:47:29,260 - stpipe.Spec2Pipeline.extract_2d - INFO - Updated S_REGION to POLYGON ICRS  28.078945557 61.882137193 28.079940154 61.881825955 28.080005888 61.881872029 28.079011297 61.882183272\n",
      "2024-02-22 19:47:29,723 - stpipe.Spec2Pipeline.extract_2d - INFO - Name of subarray extracted: 31\n",
      "2024-02-22 19:47:29,724 - stpipe.Spec2Pipeline.extract_2d - INFO - Subarray x-extents are: 1779 2048\n",
      "2024-02-22 19:47:29,724 - stpipe.Spec2Pipeline.extract_2d - INFO - Subarray y-extents are: 1559 1583\n",
      "2024-02-22 19:47:29,850 - stpipe.Spec2Pipeline.extract_2d - INFO - set slit_attributes completed\n",
      "2024-02-22 19:47:29,856 - stpipe.Spec2Pipeline.extract_2d - INFO - Update S_REGION to POLYGON ICRS  28.085400982 61.880834153 28.086393917 61.880523267 28.086459597 61.880569320 28.085466668 61.880880210\n",
      "2024-02-22 19:47:29,858 - stpipe.Spec2Pipeline.extract_2d - INFO - Updated S_REGION to POLYGON ICRS  28.085400982 61.880834153 28.086393917 61.880523267 28.086459597 61.880569320 28.085466668 61.880880210\n",
      "2024-02-22 19:47:30,303 - stpipe.Spec2Pipeline.extract_2d - INFO - Name of subarray extracted: 32\n",
      "2024-02-22 19:47:30,304 - stpipe.Spec2Pipeline.extract_2d - INFO - Subarray x-extents are: 1769 2048\n",
      "2024-02-22 19:47:30,304 - stpipe.Spec2Pipeline.extract_2d - INFO - Subarray y-extents are: 1459 1482\n",
      "2024-02-22 19:47:30,431 - stpipe.Spec2Pipeline.extract_2d - INFO - set slit_attributes completed\n",
      "2024-02-22 19:47:30,437 - stpipe.Spec2Pipeline.extract_2d - INFO - Update S_REGION to POLYGON ICRS  28.090618111 61.879200449 28.091609601 61.878889904 28.091675250 61.878935937 28.090683766 61.879246486\n",
      "2024-02-22 19:47:30,439 - stpipe.Spec2Pipeline.extract_2d - INFO - Updated S_REGION to POLYGON ICRS  28.090618111 61.879200449 28.091609601 61.878889904 28.091675250 61.878935937 28.090683766 61.879246486\n",
      "2024-02-22 19:47:31,414 - stpipe.Spec2Pipeline.extract_2d - INFO - Name of subarray extracted: 33\n",
      "2024-02-22 19:47:31,414 - stpipe.Spec2Pipeline.extract_2d - INFO - Subarray x-extents are: 1777 2048\n",
      "2024-02-22 19:47:31,415 - stpipe.Spec2Pipeline.extract_2d - INFO - Subarray y-extents are: 1924 1947\n",
      "2024-02-22 19:47:31,542 - stpipe.Spec2Pipeline.extract_2d - INFO - set slit_attributes completed\n",
      "2024-02-22 19:47:31,549 - stpipe.Spec2Pipeline.extract_2d - INFO - Update S_REGION to POLYGON ICRS  28.067533571 61.887683251 28.068531661 61.887370839 28.068597426 61.887416977 28.067599342 61.887729394\n",
      "2024-02-22 19:47:31,550 - stpipe.Spec2Pipeline.extract_2d - INFO - Updated S_REGION to POLYGON ICRS  28.067533571 61.887683251 28.068531661 61.887370839 28.068597426 61.887416977 28.067599342 61.887729394\n",
      "2024-02-22 19:47:32,003 - stpipe.Spec2Pipeline.extract_2d - INFO - Name of subarray extracted: 34\n",
      "2024-02-22 19:47:32,003 - stpipe.Spec2Pipeline.extract_2d - INFO - Subarray x-extents are: 1734 2048\n",
      "2024-02-22 19:47:32,004 - stpipe.Spec2Pipeline.extract_2d - INFO - Subarray y-extents are: 1779 1803\n",
      "2024-02-22 19:47:32,130 - stpipe.Spec2Pipeline.extract_2d - INFO - set slit_attributes completed\n",
      "2024-02-22 19:47:32,136 - stpipe.Spec2Pipeline.extract_2d - INFO - Update S_REGION to POLYGON ICRS  28.076108226 61.885986509 28.077104143 61.885674658 28.077169836 61.885720766 28.076173925 61.886032622\n",
      "2024-02-22 19:47:32,138 - stpipe.Spec2Pipeline.extract_2d - INFO - Updated S_REGION to POLYGON ICRS  28.076108226 61.885986509 28.077104143 61.885674658 28.077169836 61.885720766 28.076173925 61.886032622\n",
      "2024-02-22 19:47:33,239 - stpipe.Spec2Pipeline.extract_2d - INFO - Name of subarray extracted: 35\n",
      "2024-02-22 19:47:33,239 - stpipe.Spec2Pipeline.extract_2d - INFO - Subarray x-extents are: 1661 2048\n",
      "2024-02-22 19:47:33,240 - stpipe.Spec2Pipeline.extract_2d - INFO - Subarray y-extents are: 1404 1428\n",
      "2024-02-22 19:47:33,408 - stpipe.Spec2Pipeline.extract_2d - INFO - set slit_attributes completed\n",
      "2024-02-22 19:47:33,417 - stpipe.Spec2Pipeline.extract_2d - INFO - Update S_REGION to POLYGON ICRS  28.097015882 61.880780978 28.098006275 61.880470411 28.098071819 61.880516445 28.097081431 61.880827015\n",
      "2024-02-22 19:47:33,418 - stpipe.Spec2Pipeline.extract_2d - INFO - Updated S_REGION to POLYGON ICRS  28.097015882 61.880780978 28.098006275 61.880470411 28.098071819 61.880516445 28.097081431 61.880827015\n",
      "2024-02-22 19:47:34,047 - stpipe.Spec2Pipeline.extract_2d - INFO - Name of subarray extracted: 37\n",
      "2024-02-22 19:47:34,047 - stpipe.Spec2Pipeline.extract_2d - INFO - Subarray x-extents are: 1627 2048\n",
      "2024-02-22 19:47:34,047 - stpipe.Spec2Pipeline.extract_2d - INFO - Subarray y-extents are: 1544 1569\n",
      "2024-02-22 19:47:34,219 - stpipe.Spec2Pipeline.extract_2d - INFO - set slit_attributes completed\n",
      "2024-02-22 19:47:34,228 - stpipe.Spec2Pipeline.extract_2d - INFO - Update S_REGION to POLYGON ICRS  28.091306525 61.884184955 28.092298789 61.883873810 28.092364336 61.883919879 28.091372078 61.884231029\n",
      "2024-02-22 19:47:34,229 - stpipe.Spec2Pipeline.extract_2d - INFO - Updated S_REGION to POLYGON ICRS  28.091306525 61.884184955 28.092298789 61.883873810 28.092364336 61.883919879 28.091372078 61.884231029\n",
      "2024-02-22 19:47:35,472 - stpipe.Spec2Pipeline.extract_2d - INFO - Name of subarray extracted: 40\n",
      "2024-02-22 19:47:35,473 - stpipe.Spec2Pipeline.extract_2d - INFO - Subarray x-extents are: 1527 2048\n",
      "2024-02-22 19:47:35,473 - stpipe.Spec2Pipeline.extract_2d - INFO - Subarray y-extents are: 1959 1984\n",
      "2024-02-22 19:47:35,642 - stpipe.Spec2Pipeline.extract_2d - INFO - set slit_attributes completed\n",
      "2024-02-22 19:47:35,651 - stpipe.Spec2Pipeline.extract_2d - INFO - Update S_REGION to POLYGON ICRS  28.074358690 61.894348626 28.075356495 61.894035451 28.075422050 61.894081643 28.074424250 61.894394822\n",
      "2024-02-22 19:47:35,652 - stpipe.Spec2Pipeline.extract_2d - INFO - Updated S_REGION to POLYGON ICRS  28.074358690 61.894348626 28.075356495 61.894035451 28.075422050 61.894081643 28.074424250 61.894394822\n",
      "2024-02-22 19:47:36,280 - stpipe.Spec2Pipeline.extract_2d - INFO - Name of subarray extracted: 13\n",
      "2024-02-22 19:47:36,281 - stpipe.Spec2Pipeline.extract_2d - INFO - Subarray x-extents are: 2036 2048\n",
      "2024-02-22 19:47:36,281 - stpipe.Spec2Pipeline.extract_2d - INFO - Subarray y-extents are: 418 441\n",
      "2024-02-22 19:47:36,444 - stpipe.Spec2Pipeline.extract_2d - INFO - set slit_attributes completed\n",
      "2024-02-22 19:47:36,453 - stpipe.Spec2Pipeline.extract_2d - INFO - Update S_REGION to POLYGON ICRS  28.132313661 61.854099416 28.133286653 61.853793798 28.133351500 61.853839102 28.132378512 61.854144722\n",
      "2024-02-22 19:47:36,455 - stpipe.Spec2Pipeline.extract_2d - INFO - Updated S_REGION to POLYGON ICRS  28.132313661 61.854099416 28.133286653 61.853793798 28.133351500 61.853839102 28.132378512 61.854144722\n",
      "2024-02-22 19:47:37,684 - stpipe.Spec2Pipeline.extract_2d - INFO - Name of subarray extracted: 14\n",
      "2024-02-22 19:47:37,685 - stpipe.Spec2Pipeline.extract_2d - INFO - Subarray x-extents are: 2020 2048\n",
      "2024-02-22 19:47:37,685 - stpipe.Spec2Pipeline.extract_2d - INFO - Subarray y-extents are: 186 209\n",
      "2024-02-22 19:47:37,848 - stpipe.Spec2Pipeline.extract_2d - INFO - set slit_attributes completed\n",
      "2024-02-22 19:47:37,859 - stpipe.Spec2Pipeline.extract_2d - INFO - Update S_REGION to POLYGON ICRS  28.144128010 61.850386019 28.145098305 61.850080784 28.145163096 61.850126077 28.144192806 61.850431312\n",
      "2024-02-22 19:47:37,861 - stpipe.Spec2Pipeline.extract_2d - INFO - Updated S_REGION to POLYGON ICRS  28.144128010 61.850386019 28.145098305 61.850080784 28.145163096 61.850126077 28.144192806 61.850431312\n",
      "2024-02-22 19:47:38,404 - stpipe.Spec2Pipeline.extract_2d - INFO - Name of subarray extracted: 15\n",
      "2024-02-22 19:47:38,405 - stpipe.Spec2Pipeline.extract_2d - INFO - Subarray x-extents are: 2006 2048\n",
      "2024-02-22 19:47:38,405 - stpipe.Spec2Pipeline.extract_2d - INFO - Subarray y-extents are: 322 345\n",
      "2024-02-22 19:47:38,530 - stpipe.Spec2Pipeline.extract_2d - INFO - set slit_attributes completed\n",
      "2024-02-22 19:47:38,536 - stpipe.Spec2Pipeline.extract_2d - INFO - Update S_REGION to POLYGON ICRS  28.137992856 61.853120888 28.138964660 61.852815432 28.139029461 61.852860728 28.138057661 61.853166185\n",
      "2024-02-22 19:47:38,537 - stpipe.Spec2Pipeline.extract_2d - INFO - Updated S_REGION to POLYGON ICRS  28.137992856 61.853120888 28.138964660 61.852815432 28.139029461 61.852860728 28.138057661 61.853166185\n",
      "2024-02-22 19:47:38,983 - stpipe.Spec2Pipeline.extract_2d - INFO - Name of subarray extracted: 18\n",
      "2024-02-22 19:47:38,984 - stpipe.Spec2Pipeline.extract_2d - INFO - Subarray x-extents are: 1990 2048\n",
      "2024-02-22 19:47:38,984 - stpipe.Spec2Pipeline.extract_2d - INFO - Subarray y-extents are: 474 497\n",
      "2024-02-22 19:47:39,125 - stpipe.Spec2Pipeline.extract_2d - INFO - set slit_attributes completed\n",
      "2024-02-22 19:47:39,134 - stpipe.Spec2Pipeline.extract_2d - INFO - Update S_REGION to POLYGON ICRS  28.131163295 61.856161837 28.132136831 61.855856072 28.132201644 61.855901375 28.131228114 61.856207142\n",
      "2024-02-22 19:47:39,135 - stpipe.Spec2Pipeline.extract_2d - INFO - Updated S_REGION to POLYGON ICRS  28.131163295 61.856161837 28.132136831 61.855856072 28.132201644 61.855901375 28.131228114 61.856207142\n",
      "2024-02-22 19:47:40,407 - stpipe.Spec2Pipeline.extract_2d - INFO - Name of subarray extracted: 19\n",
      "2024-02-22 19:47:40,408 - stpipe.Spec2Pipeline.extract_2d - INFO - Subarray x-extents are: 1978 2048\n",
      "2024-02-22 19:47:40,408 - stpipe.Spec2Pipeline.extract_2d - INFO - Subarray y-extents are: 368 391\n",
      "2024-02-22 19:47:40,583 - stpipe.Spec2Pipeline.extract_2d - INFO - set slit_attributes completed\n",
      "2024-02-22 19:47:40,593 - stpipe.Spec2Pipeline.extract_2d - INFO - Update S_REGION to POLYGON ICRS  28.136740542 61.854588741 28.137712802 61.854283184 28.137777585 61.854328479 28.136805329 61.854634038\n",
      "2024-02-22 19:47:40,595 - stpipe.Spec2Pipeline.extract_2d - INFO - Updated S_REGION to POLYGON ICRS  28.136740542 61.854588741 28.137712802 61.854283184 28.137777585 61.854328479 28.136805329 61.854634038\n",
      "2024-02-22 19:47:41,226 - stpipe.Spec2Pipeline.extract_2d - INFO - Name of subarray extracted: 21\n",
      "2024-02-22 19:47:41,227 - stpipe.Spec2Pipeline.extract_2d - INFO - Subarray x-extents are: 1963 2048\n",
      "2024-02-22 19:47:41,227 - stpipe.Spec2Pipeline.extract_2d - INFO - Subarray y-extents are: 348 371\n",
      "2024-02-22 19:47:41,392 - stpipe.Spec2Pipeline.extract_2d - INFO - set slit_attributes completed\n",
      "2024-02-22 19:47:41,401 - stpipe.Spec2Pipeline.extract_2d - INFO - Update S_REGION to POLYGON ICRS  28.138210009 61.854574480 28.139182002 61.854268952 28.139246768 61.854314244 28.138274780 61.854619774\n",
      "2024-02-22 19:47:41,403 - stpipe.Spec2Pipeline.extract_2d - INFO - Updated S_REGION to POLYGON ICRS  28.138210009 61.854574480 28.139182002 61.854268952 28.139246768 61.854314244 28.138274780 61.854619774\n",
      "2024-02-22 19:47:42,661 - stpipe.Spec2Pipeline.extract_2d - INFO - Name of subarray extracted: 22\n",
      "2024-02-22 19:47:42,662 - stpipe.Spec2Pipeline.extract_2d - INFO - Subarray x-extents are: 1885 2048\n",
      "2024-02-22 19:47:42,662 - stpipe.Spec2Pipeline.extract_2d - INFO - Subarray y-extents are: 45 68\n",
      "2024-02-22 19:47:42,835 - stpipe.Spec2Pipeline.extract_2d - INFO - set slit_attributes completed\n",
      "2024-02-22 19:47:42,844 - stpipe.Spec2Pipeline.extract_2d - INFO - Update S_REGION to POLYGON ICRS  28.155538210 61.851090998 28.156506651 61.850785880 28.156571299 61.850831153 28.155602862 61.851136271\n",
      "2024-02-22 19:47:42,846 - stpipe.Spec2Pipeline.extract_2d - INFO - Updated S_REGION to POLYGON ICRS  28.155538210 61.851090998 28.156506651 61.850785880 28.156571299 61.850831153 28.155602862 61.851136271\n",
      "2024-02-22 19:47:43,473 - stpipe.Spec2Pipeline.extract_2d - INFO - Name of subarray extracted: 23\n",
      "2024-02-22 19:47:43,474 - stpipe.Spec2Pipeline.extract_2d - INFO - Subarray x-extents are: 1918 2048\n",
      "2024-02-22 19:47:43,474 - stpipe.Spec2Pipeline.extract_2d - INFO - Subarray y-extents are: 701 724\n",
      "2024-02-22 19:47:43,637 - stpipe.Spec2Pipeline.extract_2d - INFO - set slit_attributes completed\n",
      "2024-02-22 19:47:43,646 - stpipe.Spec2Pipeline.extract_2d - INFO - Update S_REGION to POLYGON ICRS  28.122571986 61.861902623 28.123548104 61.861596256 28.123612894 61.861641574 28.122636781 61.861947942\n",
      "2024-02-22 19:47:43,648 - stpipe.Spec2Pipeline.extract_2d - INFO - Updated S_REGION to POLYGON ICRS  28.122571986 61.861902623 28.123548104 61.861596256 28.123612894 61.861641574 28.122636781 61.861947942\n",
      "2024-02-22 19:47:44,892 - stpipe.Spec2Pipeline.extract_2d - INFO - Name of subarray extracted: 26\n",
      "2024-02-22 19:47:44,892 - stpipe.Spec2Pipeline.extract_2d - INFO - Subarray x-extents are: 1845 2048\n",
      "2024-02-22 19:47:44,893 - stpipe.Spec2Pipeline.extract_2d - INFO - Subarray y-extents are: 736 760\n",
      "2024-02-22 19:47:45,068 - stpipe.Spec2Pipeline.extract_2d - INFO - set slit_attributes completed\n",
      "2024-02-22 19:47:45,076 - stpipe.Spec2Pipeline.extract_2d - INFO - Update S_REGION to POLYGON ICRS  28.123326431 61.864261558 28.124302803 61.863955018 28.124367536 61.864000337 28.123391169 61.864306880\n",
      "2024-02-22 19:47:45,078 - stpipe.Spec2Pipeline.extract_2d - INFO - Updated S_REGION to POLYGON ICRS  28.123326431 61.864261558 28.124302803 61.863955018 28.124367536 61.864000337 28.123391169 61.864306880\n",
      "2024-02-22 19:47:45,702 - stpipe.Spec2Pipeline.extract_2d - INFO - Name of subarray extracted: 27\n",
      "2024-02-22 19:47:45,702 - stpipe.Spec2Pipeline.extract_2d - INFO - Subarray x-extents are: 1769 2048\n",
      "2024-02-22 19:47:45,703 - stpipe.Spec2Pipeline.extract_2d - INFO - Subarray y-extents are: 495 518\n",
      "2024-02-22 19:47:45,879 - stpipe.Spec2Pipeline.extract_2d - INFO - set slit_attributes completed\n",
      "2024-02-22 19:47:45,889 - stpipe.Spec2Pipeline.extract_2d - INFO - Update S_REGION to POLYGON ICRS  28.137634911 61.861734837 28.138608161 61.861428839 28.138672790 61.861474132 28.137699544 61.861780132\n",
      "2024-02-22 19:47:45,891 - stpipe.Spec2Pipeline.extract_2d - INFO - Updated S_REGION to POLYGON ICRS  28.137634911 61.861734837 28.138608161 61.861428839 28.138672790 61.861474132 28.137699544 61.861780132\n",
      "2024-02-22 19:47:46,520 - stpipe.Spec2Pipeline.extract_2d - INFO - Name of subarray extracted: 30\n",
      "2024-02-22 19:47:46,521 - stpipe.Spec2Pipeline.extract_2d - INFO - Subarray x-extents are: 1685 2048\n",
      "2024-02-22 19:47:46,521 - stpipe.Spec2Pipeline.extract_2d - INFO - Subarray y-extents are: 303 327\n",
      "2024-02-22 19:47:46,686 - stpipe.Spec2Pipeline.extract_2d - INFO - set slit_attributes completed\n",
      "2024-02-22 19:47:46,694 - stpipe.Spec2Pipeline.extract_2d - INFO - Update S_REGION to POLYGON ICRS  28.149776359 61.860330321 28.150747228 61.860024689 28.150811764 61.860069966 28.149840899 61.860375600\n",
      "2024-02-22 19:47:46,696 - stpipe.Spec2Pipeline.extract_2d - INFO - Updated S_REGION to POLYGON ICRS  28.149776359 61.860330321 28.150747228 61.860024689 28.150811764 61.860069966 28.149840899 61.860375600\n",
      "2024-02-22 19:47:48,024 - stpipe.Spec2Pipeline.extract_2d - INFO - Name of subarray extracted: 36\n",
      "2024-02-22 19:47:48,025 - stpipe.Spec2Pipeline.extract_2d - INFO - Subarray x-extents are: 1588 2048\n",
      "2024-02-22 19:47:48,025 - stpipe.Spec2Pipeline.extract_2d - INFO - Subarray y-extents are: 611 635\n",
      "2024-02-22 19:47:48,203 - stpipe.Spec2Pipeline.extract_2d - INFO - set slit_attributes completed\n",
      "2024-02-22 19:47:48,212 - stpipe.Spec2Pipeline.extract_2d - INFO - Update S_REGION to POLYGON ICRS  28.138142037 61.868105632 28.139116271 61.867799133 28.139180785 61.867844445 28.138206556 61.868150947\n",
      "2024-02-22 19:47:48,213 - stpipe.Spec2Pipeline.extract_2d - INFO - Updated S_REGION to POLYGON ICRS  28.138142037 61.868105632 28.139116271 61.867799133 28.139180785 61.867844445 28.138206556 61.868150947\n",
      "2024-02-22 19:47:48,843 - stpipe.Spec2Pipeline.extract_2d - INFO - Name of subarray extracted: 38\n",
      "2024-02-22 19:47:48,844 - stpipe.Spec2Pipeline.extract_2d - INFO - Subarray x-extents are: 1434 2048\n",
      "2024-02-22 19:47:48,844 - stpipe.Spec2Pipeline.extract_2d - INFO - Subarray y-extents are: 61 86\n",
      "2024-02-22 19:47:49,010 - stpipe.Spec2Pipeline.extract_2d - INFO - set slit_attributes completed\n",
      "2024-02-22 19:47:49,019 - stpipe.Spec2Pipeline.extract_2d - INFO - Update S_REGION to POLYGON ICRS  28.169982675 61.862009561 28.170950510 61.861704184 28.171014866 61.861749450 28.170047033 61.862054828\n",
      "2024-02-22 19:47:49,020 - stpipe.Spec2Pipeline.extract_2d - INFO - Updated S_REGION to POLYGON ICRS  28.169982675 61.862009561 28.170950510 61.861704184 28.171014866 61.861749450 28.170047033 61.862054828\n",
      "2024-02-22 19:47:50,324 - stpipe.Spec2Pipeline.extract_2d - INFO - Name of subarray extracted: 39\n",
      "2024-02-22 19:47:50,324 - stpipe.Spec2Pipeline.extract_2d - INFO - Subarray x-extents are: 1415 2048\n",
      "2024-02-22 19:47:50,325 - stpipe.Spec2Pipeline.extract_2d - INFO - Subarray y-extents are: 561 586\n",
      "2024-02-22 19:47:50,491 - stpipe.Spec2Pipeline.extract_2d - INFO - set slit_attributes completed\n",
      "2024-02-22 19:47:50,499 - stpipe.Spec2Pipeline.extract_2d - INFO - Update S_REGION to POLYGON ICRS  28.146428361 61.871311588 28.147401674 61.871005013 28.147466071 61.871050335 28.146492760 61.871356913\n",
      "2024-02-22 19:47:50,501 - stpipe.Spec2Pipeline.extract_2d - INFO - Updated S_REGION to POLYGON ICRS  28.146428361 61.871311588 28.147401674 61.871005013 28.147466071 61.871050335 28.146492760 61.871356913\n",
      "2024-02-22 19:47:51,135 - stpipe.Spec2Pipeline.extract_2d - INFO - Name of subarray extracted: 41\n",
      "2024-02-22 19:47:51,136 - stpipe.Spec2Pipeline.extract_2d - INFO - Subarray x-extents are: 1354 2048\n",
      "2024-02-22 19:47:51,136 - stpipe.Spec2Pipeline.extract_2d - INFO - Subarray y-extents are: 76 102\n",
      "2024-02-22 19:47:51,305 - stpipe.Spec2Pipeline.extract_2d - INFO - set slit_attributes completed\n",
      "2024-02-22 19:47:51,314 - stpipe.Spec2Pipeline.extract_2d - INFO - Update S_REGION to POLYGON ICRS  28.171934518 61.864165146 28.172902424 61.863859681 28.172966742 61.863904954 28.171998838 61.864210421\n",
      "2024-02-22 19:47:51,315 - stpipe.Spec2Pipeline.extract_2d - INFO - Updated S_REGION to POLYGON ICRS  28.171934518 61.864165146 28.172902424 61.863859681 28.172966742 61.863904954 28.171998838 61.864210421\n",
      "2024-02-22 19:47:51,943 - stpipe.Spec2Pipeline.extract_2d - INFO - Name of subarray extracted: 42\n",
      "2024-02-22 19:47:51,944 - stpipe.Spec2Pipeline.extract_2d - INFO - Subarray x-extents are: 1246 2048\n",
      "2024-02-22 19:47:51,944 - stpipe.Spec2Pipeline.extract_2d - INFO - Subarray y-extents are: 1834 1861\n",
      "2024-02-22 19:47:52,123 - stpipe.Spec2Pipeline.extract_2d - INFO - set slit_attributes completed\n",
      "2024-02-22 19:47:52,131 - stpipe.Spec2Pipeline.extract_2d - INFO - Update S_REGION to POLYGON ICRS  28.090124709 61.898775887 28.091114283 61.898464303 28.091179616 61.898510527 28.090190047 61.898822116\n",
      "2024-02-22 19:47:52,133 - stpipe.Spec2Pipeline.extract_2d - INFO - Updated S_REGION to POLYGON ICRS  28.090124709 61.898775887 28.091114283 61.898464303 28.091179616 61.898510527 28.090190047 61.898822116\n",
      "2024-02-22 19:47:53,494 - stpipe.Spec2Pipeline.extract_2d - INFO - Name of subarray extracted: 45\n",
      "2024-02-22 19:47:53,494 - stpipe.Spec2Pipeline.extract_2d - INFO - Subarray x-extents are: 1123 2048\n",
      "2024-02-22 19:47:53,495 - stpipe.Spec2Pipeline.extract_2d - INFO - Subarray y-extents are: 1759 1787\n",
      "2024-02-22 19:47:53,671 - stpipe.Spec2Pipeline.extract_2d - INFO - set slit_attributes completed\n",
      "2024-02-22 19:47:53,679 - stpipe.Spec2Pipeline.extract_2d - INFO - Update S_REGION to POLYGON ICRS  28.098001068 61.900340676 28.098989306 61.900029132 28.099054543 61.900075375 28.098066309 61.900386924\n",
      "2024-02-22 19:47:53,681 - stpipe.Spec2Pipeline.extract_2d - INFO - Updated S_REGION to POLYGON ICRS  28.098001068 61.900340676 28.098989306 61.900029132 28.099054543 61.900075375 28.098066309 61.900386924\n",
      "2024-02-22 19:47:54,318 - stpipe.Spec2Pipeline.extract_2d - INFO - Name of subarray extracted: 46\n",
      "2024-02-22 19:47:54,318 - stpipe.Spec2Pipeline.extract_2d - INFO - Subarray x-extents are: 1061 2048\n",
      "2024-02-22 19:47:54,319 - stpipe.Spec2Pipeline.extract_2d - INFO - Subarray y-extents are: 1269 1296\n",
      "2024-02-22 19:47:54,492 - stpipe.Spec2Pipeline.extract_2d - INFO - set slit_attributes completed\n",
      "2024-02-22 19:47:54,501 - stpipe.Spec2Pipeline.extract_2d - INFO - Update S_REGION to POLYGON ICRS  28.124045232 61.892666009 28.125026667 61.892356327 28.125091791 61.892402457 28.124110360 61.892712144\n",
      "2024-02-22 19:47:54,502 - stpipe.Spec2Pipeline.extract_2d - INFO - Updated S_REGION to POLYGON ICRS  28.124045232 61.892666009 28.125026667 61.892356327 28.125091791 61.892402457 28.124110360 61.892712144\n",
      "2024-02-22 19:47:55,137 - stpipe.Spec2Pipeline.extract_2d - INFO - Name of subarray extracted: 48\n",
      "2024-02-22 19:47:55,138 - stpipe.Spec2Pipeline.extract_2d - INFO - Subarray x-extents are: 934 2048\n",
      "2024-02-22 19:47:55,138 - stpipe.Spec2Pipeline.extract_2d - INFO - Subarray y-extents are: 1423 1453\n",
      "2024-02-22 19:47:55,312 - stpipe.Spec2Pipeline.extract_2d - INFO - set slit_attributes completed\n",
      "2024-02-22 19:47:55,321 - stpipe.Spec2Pipeline.extract_2d - INFO - Update S_REGION to POLYGON ICRS  28.120812859 61.898626158 28.121796125 61.898315572 28.121861202 61.898361787 28.120877940 61.898672378\n",
      "2024-02-22 19:47:55,322 - stpipe.Spec2Pipeline.extract_2d - INFO - Updated S_REGION to POLYGON ICRS  28.120812859 61.898626158 28.121796125 61.898315572 28.121861202 61.898361787 28.120877940 61.898672378\n",
      "2024-02-22 19:47:56,692 - stpipe.Spec2Pipeline.extract_2d - INFO - Name of subarray extracted: 49\n",
      "2024-02-22 19:47:56,692 - stpipe.Spec2Pipeline.extract_2d - INFO - Subarray x-extents are: 952 2048\n",
      "2024-02-22 19:47:56,693 - stpipe.Spec2Pipeline.extract_2d - INFO - Subarray y-extents are: 1943 1973\n",
      "2024-02-22 19:47:56,867 - stpipe.Spec2Pipeline.extract_2d - INFO - set slit_attributes completed\n",
      "2024-02-22 19:47:56,875 - stpipe.Spec2Pipeline.extract_2d - INFO - Update S_REGION to POLYGON ICRS  28.094816620 61.908006678 28.095807046 61.907693808 28.095872209 61.907740166 28.094881786 61.908053042\n",
      "2024-02-22 19:47:56,877 - stpipe.Spec2Pipeline.extract_2d - INFO - Updated S_REGION to POLYGON ICRS  28.094816620 61.908006678 28.095807046 61.907693808 28.095872209 61.907740166 28.094881786 61.908053042\n",
      "2024-02-22 19:47:57,518 - stpipe.Spec2Pipeline.extract_2d - INFO - Name of subarray extracted: 43\n",
      "2024-02-22 19:47:57,518 - stpipe.Spec2Pipeline.extract_2d - INFO - Subarray x-extents are: 1002 2048\n",
      "2024-02-22 19:47:57,518 - stpipe.Spec2Pipeline.extract_2d - INFO - Subarray y-extents are: 142 169\n",
      "2024-02-22 19:47:57,691 - stpipe.Spec2Pipeline.extract_2d - INFO - set slit_attributes completed\n",
      "2024-02-22 19:47:57,699 - stpipe.Spec2Pipeline.extract_2d - INFO - Update S_REGION to POLYGON ICRS  28.180659053 61.873713753 28.181632868 61.873406026 28.181697895 61.873451948 28.180724080 61.873759677\n",
      "2024-02-22 19:47:57,700 - stpipe.Spec2Pipeline.extract_2d - INFO - Updated S_REGION to POLYGON ICRS  28.180659053 61.873713753 28.181632868 61.873406026 28.181697895 61.873451948 28.180724080 61.873759677\n",
      "2024-02-22 19:47:59,054 - stpipe.Spec2Pipeline.extract_2d - INFO - Name of subarray extracted: 44\n",
      "2024-02-22 19:47:59,055 - stpipe.Spec2Pipeline.extract_2d - INFO - Subarray x-extents are: 984 2048\n",
      "2024-02-22 19:47:59,055 - stpipe.Spec2Pipeline.extract_2d - INFO - Subarray y-extents are: 30 58\n",
      "2024-02-22 19:47:59,230 - stpipe.Spec2Pipeline.extract_2d - INFO - set slit_attributes completed\n",
      "2024-02-22 19:47:59,238 - stpipe.Spec2Pipeline.extract_2d - INFO - Update S_REGION to POLYGON ICRS  28.186636748 61.872182294 28.187609445 61.871874782 28.187674470 61.871920694 28.186701773 61.872228207\n",
      "2024-02-22 19:47:59,240 - stpipe.Spec2Pipeline.extract_2d - INFO - Updated S_REGION to POLYGON ICRS  28.186636748 61.872182294 28.187609445 61.871874782 28.187674470 61.871920694 28.186701773 61.872228207\n",
      "2024-02-22 19:47:59,895 - stpipe.Spec2Pipeline.extract_2d - INFO - Name of subarray extracted: 47\n",
      "2024-02-22 19:47:59,895 - stpipe.Spec2Pipeline.extract_2d - INFO - Subarray x-extents are: 944 2048\n",
      "2024-02-22 19:47:59,895 - stpipe.Spec2Pipeline.extract_2d - INFO - Subarray y-extents are: 263 291\n",
      "2024-02-22 19:48:00,079 - stpipe.Spec2Pipeline.extract_2d - INFO - set slit_attributes completed\n",
      "2024-02-22 19:48:00,088 - stpipe.Spec2Pipeline.extract_2d - INFO - Update S_REGION to POLYGON ICRS  28.176787487 61.877263598 28.177762536 61.876955481 28.177827543 61.877001436 28.176852494 61.877309556\n",
      "2024-02-22 19:48:00,089 - stpipe.Spec2Pipeline.extract_2d - INFO - Updated S_REGION to POLYGON ICRS  28.176787487 61.877263598 28.177762536 61.876955481 28.177827543 61.877001436 28.176852494 61.877309556\n",
      "2024-02-22 19:48:00,718 - stpipe.Spec2Pipeline.extract_2d - INFO - Name of subarray extracted: 50\n",
      "2024-02-22 19:48:00,719 - stpipe.Spec2Pipeline.extract_2d - INFO - Subarray x-extents are: 792 2048\n",
      "2024-02-22 19:48:00,719 - stpipe.Spec2Pipeline.extract_2d - INFO - Subarray y-extents are: 121 150\n",
      "2024-02-22 19:48:00,893 - stpipe.Spec2Pipeline.extract_2d - INFO - set slit_attributes completed\n",
      "2024-02-22 19:48:00,902 - stpipe.Spec2Pipeline.extract_2d - INFO - Update S_REGION to POLYGON ICRS  28.188768558 61.878399384 28.189742226 61.878091429 28.189807202 61.878137407 28.188833532 61.878445364\n",
      "2024-02-22 19:48:00,904 - stpipe.Spec2Pipeline.extract_2d - INFO - Updated S_REGION to POLYGON ICRS  28.188768558 61.878399384 28.189742226 61.878091429 28.189807202 61.878137407 28.188833532 61.878445364\n",
      "2024-02-22 19:48:02,298 - stpipe.Spec2Pipeline.extract_2d - INFO - Name of subarray extracted: 51\n",
      "2024-02-22 19:48:02,299 - stpipe.Spec2Pipeline.extract_2d - INFO - Subarray x-extents are: 720 2048\n",
      "2024-02-22 19:48:02,299 - stpipe.Spec2Pipeline.extract_2d - INFO - Subarray y-extents are: 434 464\n",
      "2024-02-22 19:48:02,473 - stpipe.Spec2Pipeline.extract_2d - INFO - set slit_attributes completed\n",
      "2024-02-22 19:48:02,482 - stpipe.Spec2Pipeline.extract_2d - INFO - Update S_REGION to POLYGON ICRS  28.176111232 61.885717418 28.177088058 61.885408408 28.177153001 61.885454468 28.176176174 61.885763481\n",
      "2024-02-22 19:48:02,483 - stpipe.Spec2Pipeline.extract_2d - INFO - Updated S_REGION to POLYGON ICRS  28.176111232 61.885717418 28.177088058 61.885408408 28.177153001 61.885454468 28.176176174 61.885763481\n",
      "2024-02-22 19:48:03,122 - stpipe.Spec2Pipeline.extract_2d - INFO - Name of subarray extracted: 52\n",
      "2024-02-22 19:48:03,122 - stpipe.Spec2Pipeline.extract_2d - INFO - Subarray x-extents are: 494 2048\n",
      "2024-02-22 19:48:03,123 - stpipe.Spec2Pipeline.extract_2d - INFO - Subarray y-extents are: 594 627\n",
      "2024-02-22 19:48:03,264 - stpipe.Spec2Pipeline.extract_2d - INFO - set slit_attributes completed\n",
      "2024-02-22 19:48:03,271 - stpipe.Spec2Pipeline.extract_2d - INFO - Update S_REGION to POLYGON ICRS  28.176013507 61.894094276 28.176992057 61.893784261 28.177056952 61.893830460 28.176078401 61.894140478\n",
      "2024-02-22 19:48:03,272 - stpipe.Spec2Pipeline.extract_2d - INFO - Updated S_REGION to POLYGON ICRS  28.176013507 61.894094276 28.176992057 61.893784261 28.177056952 61.893830460 28.176078401 61.894140478\n",
      "2024-02-22 19:48:03,781 - stpipe.Spec2Pipeline.extract_2d - INFO - Name of subarray extracted: 53\n",
      "2024-02-22 19:48:03,781 - stpipe.Spec2Pipeline.extract_2d - INFO - Subarray x-extents are: 450 2048\n",
      "2024-02-22 19:48:03,782 - stpipe.Spec2Pipeline.extract_2d - INFO - Subarray y-extents are: 392 425\n",
      "2024-02-22 19:48:03,962 - stpipe.Spec2Pipeline.extract_2d - INFO - set slit_attributes completed\n",
      "2024-02-22 19:48:03,971 - stpipe.Spec2Pipeline.extract_2d - INFO - Update S_REGION to POLYGON ICRS  28.187251533 61.891522405 28.188228114 61.891213068 28.188293021 61.891259245 28.187316437 61.891568586\n",
      "2024-02-22 19:48:03,972 - stpipe.Spec2Pipeline.extract_2d - INFO - Updated S_REGION to POLYGON ICRS  28.187251533 61.891522405 28.188228114 61.891213068 28.188293021 61.891259245 28.187316437 61.891568586\n",
      "2024-02-22 19:48:05,383 - stpipe.Spec2Pipeline.extract_2d - INFO - Name of subarray extracted: 54\n",
      "2024-02-22 19:48:05,383 - stpipe.Spec2Pipeline.extract_2d - INFO - Subarray x-extents are: 396 2048\n",
      "2024-02-22 19:48:05,384 - stpipe.Spec2Pipeline.extract_2d - INFO - Subarray y-extents are: 447 481\n",
      "2024-02-22 19:48:05,566 - stpipe.Spec2Pipeline.extract_2d - INFO - set slit_attributes completed\n",
      "2024-02-22 19:48:05,575 - stpipe.Spec2Pipeline.extract_2d - INFO - Update S_REGION to POLYGON ICRS  28.186436244 61.893847331 28.187413409 61.893537693 28.187478308 61.893583913 28.186501141 61.893893554\n",
      "2024-02-22 19:48:05,576 - stpipe.Spec2Pipeline.extract_2d - INFO - Updated S_REGION to POLYGON ICRS  28.186436244 61.893847331 28.187413409 61.893537693 28.187478308 61.893583913 28.186501141 61.893893554\n",
      "2024-02-22 19:48:06,215 - stpipe.Spec2Pipeline.extract_2d - INFO - Name of subarray extracted: 55\n",
      "2024-02-22 19:48:06,216 - stpipe.Spec2Pipeline.extract_2d - INFO - Subarray x-extents are: 344 2048\n",
      "2024-02-22 19:48:06,216 - stpipe.Spec2Pipeline.extract_2d - INFO - Subarray y-extents are: 98 132\n",
      "2024-02-22 19:48:06,399 - stpipe.Spec2Pipeline.extract_2d - INFO - set slit_attributes completed\n",
      "2024-02-22 19:48:06,408 - stpipe.Spec2Pipeline.extract_2d - INFO - Update S_REGION to POLYGON ICRS  28.205002383 61.888863977 28.205976455 61.888555421 28.206041406 61.888601601 28.205067330 61.888910159\n",
      "2024-02-22 19:48:06,410 - stpipe.Spec2Pipeline.extract_2d - INFO - Updated S_REGION to POLYGON ICRS  28.205002383 61.888863977 28.205976455 61.888555421 28.206041406 61.888601601 28.205067330 61.888910159\n",
      "2024-02-22 19:48:07,032 - stpipe.Spec2Pipeline.extract_2d - INFO - Name of subarray extracted: 56\n",
      "2024-02-22 19:48:07,032 - stpipe.Spec2Pipeline.extract_2d - INFO - Subarray x-extents are: 350 2048\n",
      "2024-02-22 19:48:07,033 - stpipe.Spec2Pipeline.extract_2d - INFO - Subarray y-extents are: 799 834\n",
      "2024-02-22 19:48:07,216 - stpipe.Spec2Pipeline.extract_2d - INFO - set slit_attributes completed\n",
      "2024-02-22 19:48:07,225 - stpipe.Spec2Pipeline.extract_2d - INFO - Update S_REGION to POLYGON ICRS  28.170958151 61.901363958 28.171938892 61.901052827 28.172003768 61.901099159 28.171023026 61.901410294\n",
      "2024-02-22 19:48:07,226 - stpipe.Spec2Pipeline.extract_2d - INFO - Updated S_REGION to POLYGON ICRS  28.170958151 61.901363958 28.171938892 61.901052827 28.172003768 61.901099159 28.171023026 61.901410294\n",
      "2024-02-22 19:48:08,649 - stpipe.Spec2Pipeline.extract_2d - INFO - Name of subarray extracted: 57\n",
      "2024-02-22 19:48:08,650 - stpipe.Spec2Pipeline.extract_2d - INFO - Subarray x-extents are: 332 2048\n",
      "2024-02-22 19:48:08,650 - stpipe.Spec2Pipeline.extract_2d - INFO - Subarray y-extents are: 577 613\n",
      "2024-02-22 19:48:08,833 - stpipe.Spec2Pipeline.extract_2d - INFO - set slit_attributes completed\n",
      "2024-02-22 19:48:08,842 - stpipe.Spec2Pipeline.extract_2d - INFO - Update S_REGION to POLYGON ICRS  28.182286823 61.897770822 28.183265313 61.897460559 28.183330200 61.897506849 28.182351708 61.897817115\n",
      "2024-02-22 19:48:08,843 - stpipe.Spec2Pipeline.extract_2d - INFO - Updated S_REGION to POLYGON ICRS  28.182286823 61.897770822 28.183265313 61.897460559 28.183330200 61.897506849 28.182351708 61.897817115\n",
      "2024-02-22 19:48:09,480 - stpipe.Spec2Pipeline.extract_2d - INFO - Name of subarray extracted: 58\n",
      "2024-02-22 19:48:09,481 - stpipe.Spec2Pipeline.extract_2d - INFO - Subarray x-extents are: 295 2048\n",
      "2024-02-22 19:48:09,481 - stpipe.Spec2Pipeline.extract_2d - INFO - Subarray y-extents are: 658 694\n",
      "2024-02-22 19:48:09,668 - stpipe.Spec2Pipeline.extract_2d - INFO - set slit_attributes completed\n",
      "2024-02-22 19:48:09,677 - stpipe.Spec2Pipeline.extract_2d - INFO - Update S_REGION to POLYGON ICRS  28.179654742 61.900136071 28.180634054 61.899825412 28.180698935 61.899871744 28.179719622 61.900182407\n",
      "2024-02-22 19:48:09,678 - stpipe.Spec2Pipeline.extract_2d - INFO - Updated S_REGION to POLYGON ICRS  28.179654742 61.900136071 28.180634054 61.899825412 28.180698935 61.899871744 28.179719622 61.900182407\n",
      "2024-02-22 19:48:10,309 - stpipe.Spec2Pipeline.extract_2d - INFO - Name of subarray extracted: 59\n",
      "2024-02-22 19:48:10,309 - stpipe.Spec2Pipeline.extract_2d - INFO - Subarray x-extents are: 270 2048\n",
      "2024-02-22 19:48:10,310 - stpipe.Spec2Pipeline.extract_2d - INFO - Subarray y-extents are: 501 537\n",
      "2024-02-22 19:48:11,317 - stpipe.Spec2Pipeline.extract_2d - INFO - set slit_attributes completed\n",
      "2024-02-22 19:48:11,325 - stpipe.Spec2Pipeline.extract_2d - INFO - Update S_REGION to POLYGON ICRS  28.188064410 61.897918964 28.189042229 61.897608886 28.189107124 61.897655199 28.188129303 61.897965280\n",
      "2024-02-22 19:48:11,326 - stpipe.Spec2Pipeline.extract_2d - INFO - Updated S_REGION to POLYGON ICRS  28.188064410 61.897918964 28.189042229 61.897608886 28.189107124 61.897655199 28.188129303 61.897965280\n",
      "2024-02-22 19:48:12,603 - stpipe.Spec2Pipeline.extract_2d - INFO - Step extract_2d done\n",
      "2024-02-22 19:48:13,123 - stpipe.Spec2Pipeline.srctype - INFO - Step srctype running with args (<MultiSlitModel from jw02609007001_03101_00002_nrs1_rate.fits>,).\n",
      "2024-02-22 19:48:13,124 - stpipe.Spec2Pipeline.srctype - INFO - Step srctype parameters are: {'pre_hooks': [], 'post_hooks': [], 'output_file': None, 'output_dir': None, 'output_ext': '.fits', 'output_use_model': False, 'output_use_index': True, 'save_results': False, 'skip': False, 'suffix': None, 'search_output_file': True, 'input_dir': 'miscdata/jwst_outputs/redux_test', 'source_type': 'POINT'}\n",
      "2024-02-22 19:48:13,129 - stpipe.Spec2Pipeline.srctype - INFO - Input EXP_TYPE is NRS_MSASPEC\n",
      "2024-02-22 19:48:13,131 - stpipe.Spec2Pipeline.srctype - INFO - source_id=1035, stellarity=1.0000, type=POINT\n",
      "2024-02-22 19:48:13,132 - stpipe.Spec2Pipeline.srctype - INFO - source_id=1046, stellarity=1.0000, type=POINT\n",
      "2024-02-22 19:48:13,133 - stpipe.Spec2Pipeline.srctype - INFO - source_id=1026, stellarity=1.0000, type=POINT\n",
      "2024-02-22 19:48:13,134 - stpipe.Spec2Pipeline.srctype - INFO - source_id=1027, stellarity=1.0000, type=POINT\n",
      "2024-02-22 19:48:13,135 - stpipe.Spec2Pipeline.srctype - INFO - source_id=1008, stellarity=1.0000, type=POINT\n",
      "2024-02-22 19:48:13,135 - stpipe.Spec2Pipeline.srctype - INFO - source_id=140, stellarity=1.0000, type=POINT\n",
      "2024-02-22 19:48:13,136 - stpipe.Spec2Pipeline.srctype - INFO - source_id=970, stellarity=1.0000, type=POINT\n",
      "2024-02-22 19:48:13,137 - stpipe.Spec2Pipeline.srctype - INFO - source_id=972, stellarity=1.0000, type=POINT\n",
      "2024-02-22 19:48:13,138 - stpipe.Spec2Pipeline.srctype - INFO - source_id=143, stellarity=1.0000, type=POINT\n",
      "2024-02-22 19:48:13,139 - stpipe.Spec2Pipeline.srctype - INFO - source_id=4790, stellarity=1.0000, type=POINT\n",
      "2024-02-22 19:48:13,140 - stpipe.Spec2Pipeline.srctype - INFO - source_id=1004, stellarity=1.0000, type=POINT\n",
      "2024-02-22 19:48:13,142 - stpipe.Spec2Pipeline.srctype - INFO - source_id=81, stellarity=1.0000, type=POINT\n",
      "2024-02-22 19:48:13,143 - stpipe.Spec2Pipeline.srctype - INFO - source_id=4670, stellarity=1.0000, type=POINT\n",
      "2024-02-22 19:48:13,144 - stpipe.Spec2Pipeline.srctype - INFO - source_id=4655, stellarity=1.0000, type=POINT\n",
      "2024-02-22 19:48:13,145 - stpipe.Spec2Pipeline.srctype - INFO - source_id=4660, stellarity=1.0000, type=POINT\n",
      "2024-02-22 19:48:13,146 - stpipe.Spec2Pipeline.srctype - INFO - source_id=4662, stellarity=1.0000, type=POINT\n",
      "2024-02-22 19:48:13,147 - stpipe.Spec2Pipeline.srctype - INFO - source_id=4664, stellarity=1.0000, type=POINT\n",
      "2024-02-22 19:48:13,148 - stpipe.Spec2Pipeline.srctype - INFO - source_id=98, stellarity=1.0000, type=POINT\n",
      "2024-02-22 19:48:13,149 - stpipe.Spec2Pipeline.srctype - INFO - source_id=10, stellarity=1.0000, type=POINT\n",
      "2024-02-22 19:48:13,150 - stpipe.Spec2Pipeline.srctype - INFO - source_id=5674, stellarity=1.0000, type=POINT\n",
      "2024-02-22 19:48:13,151 - stpipe.Spec2Pipeline.srctype - INFO - source_id=5596, stellarity=1.0000, type=POINT\n",
      "2024-02-22 19:48:13,152 - stpipe.Spec2Pipeline.srctype - INFO - source_id=5630, stellarity=1.0000, type=POINT\n",
      "2024-02-22 19:48:13,152 - stpipe.Spec2Pipeline.srctype - INFO - source_id=6, stellarity=1.0000, type=POINT\n",
      "2024-02-22 19:48:13,153 - stpipe.Spec2Pipeline.srctype - INFO - source_id=5185, stellarity=1.0000, type=POINT\n",
      "2024-02-22 19:48:13,154 - stpipe.Spec2Pipeline.srctype - INFO - source_id=139, stellarity=1.0000, type=POINT\n",
      "2024-02-22 19:48:13,155 - stpipe.Spec2Pipeline.srctype - INFO - source_id=14, stellarity=1.0000, type=POINT\n",
      "2024-02-22 19:48:13,156 - stpipe.Spec2Pipeline.srctype - INFO - source_id=4736, stellarity=1.0000, type=POINT\n",
      "2024-02-22 19:48:13,157 - stpipe.Spec2Pipeline.srctype - INFO - source_id=12, stellarity=1.0000, type=POINT\n",
      "2024-02-22 19:48:13,158 - stpipe.Spec2Pipeline.srctype - INFO - source_id=4999, stellarity=1.0000, type=POINT\n",
      "2024-02-22 19:48:13,159 - stpipe.Spec2Pipeline.srctype - INFO - source_id=46, stellarity=1.0000, type=POINT\n",
      "2024-02-22 19:48:13,160 - stpipe.Spec2Pipeline.srctype - INFO - source_id=4770, stellarity=1.0000, type=POINT\n",
      "2024-02-22 19:48:13,161 - stpipe.Spec2Pipeline.srctype - INFO - source_id=5338, stellarity=1.0000, type=POINT\n",
      "2024-02-22 19:48:13,162 - stpipe.Spec2Pipeline.srctype - INFO - source_id=5339, stellarity=1.0000, type=POINT\n",
      "2024-02-22 19:48:13,163 - stpipe.Spec2Pipeline.srctype - INFO - source_id=5102, stellarity=1.0000, type=POINT\n",
      "2024-02-22 19:48:13,163 - stpipe.Spec2Pipeline.srctype - INFO - source_id=6046, stellarity=1.0000, type=POINT\n",
      "2024-02-22 19:48:13,164 - stpipe.Spec2Pipeline.srctype - INFO - source_id=5112, stellarity=1.0000, type=POINT\n",
      "2024-02-22 19:48:13,165 - stpipe.Spec2Pipeline.srctype - INFO - source_id=5359, stellarity=1.0000, type=POINT\n",
      "2024-02-22 19:48:13,166 - stpipe.Spec2Pipeline.srctype - INFO - source_id=5325, stellarity=1.0000, type=POINT\n",
      "2024-02-22 19:48:13,167 - stpipe.Spec2Pipeline.srctype - INFO - source_id=5330, stellarity=1.0000, type=POINT\n",
      "2024-02-22 19:48:13,168 - stpipe.Spec2Pipeline.srctype - INFO - source_id=5379, stellarity=1.0000, type=POINT\n",
      "2024-02-22 19:48:13,169 - stpipe.Spec2Pipeline.srctype - INFO - source_id=4256, stellarity=1.0000, type=POINT\n",
      "2024-02-22 19:48:13,169 - stpipe.Spec2Pipeline.srctype - INFO - source_id=4276, stellarity=1.0000, type=POINT\n",
      "2024-02-22 19:48:13,170 - stpipe.Spec2Pipeline.srctype - INFO - source_id=4259, stellarity=1.0000, type=POINT\n",
      "2024-02-22 19:48:13,171 - stpipe.Spec2Pipeline.srctype - INFO - source_id=4320, stellarity=1.0000, type=POINT\n",
      "2024-02-22 19:48:13,174 - stpipe.Spec2Pipeline.srctype - INFO - Step srctype done\n",
      "2024-02-22 19:48:13,713 - stpipe.Spec2Pipeline.master_background_mos - INFO - Step master_background_mos running with args (<MultiSlitModel from jw02609007001_03101_00002_nrs1_rate.fits>,).\n",
      "2024-02-22 19:48:13,717 - stpipe.Spec2Pipeline.master_background_mos - INFO - Step master_background_mos parameters are: {'pre_hooks': [], 'post_hooks': [], 'output_file': None, 'output_dir': None, 'output_ext': '.fits', 'output_use_model': True, 'output_use_index': True, 'save_results': False, 'skip': False, 'suffix': None, 'search_output_file': True, 'input_dir': 'miscdata/jwst_outputs/redux_test', 'force_subtract': False, 'save_background': False, 'user_background': None, 'inverse': False, 'steps': {'flat_field': {'pre_hooks': [], 'post_hooks': [], 'output_file': None, 'output_dir': None, 'output_ext': '.fits', 'output_use_model': False, 'output_use_index': True, 'save_results': False, 'skip': False, 'suffix': None, 'search_output_file': True, 'input_dir': 'miscdata/jwst_outputs/redux_test', 'save_interpolated_flat': False, 'user_supplied_flat': None, 'inverse': False}, 'pathloss': {'pre_hooks': [], 'post_hooks': [], 'output_file': None, 'output_dir': None, 'output_ext': '.fits', 'output_use_model': False, 'output_use_index': True, 'save_results': False, 'skip': False, 'suffix': None, 'search_output_file': True, 'input_dir': 'miscdata/jwst_outputs/redux_test', 'inverse': False, 'source_type': None, 'user_slit_loc': None}, 'barshadow': {'pre_hooks': [], 'post_hooks': [], 'output_file': None, 'output_dir': None, 'output_ext': '.fits', 'output_use_model': False, 'output_use_index': True, 'save_results': False, 'skip': False, 'suffix': None, 'search_output_file': True, 'input_dir': 'miscdata/jwst_outputs/redux_test', 'inverse': False, 'source_type': None}, 'photom': {'pre_hooks': [], 'post_hooks': [], 'output_file': None, 'output_dir': None, 'output_ext': '.fits', 'output_use_model': False, 'output_use_index': True, 'save_results': False, 'skip': False, 'suffix': None, 'search_output_file': True, 'input_dir': 'miscdata/jwst_outputs/redux_test', 'inverse': False, 'source_type': None, 'mrs_time_correction': True}}}\n",
      "2024-02-22 19:48:13,722 - stpipe.Spec2Pipeline.master_background_mos - INFO - Background subtraction has already occurred. Skipping.\n",
      "2024-02-22 19:48:13,723 - stpipe.Spec2Pipeline.master_background_mos - INFO - Results used CRDS context: jwst_1041.pmap\n",
      "2024-02-22 19:48:13,723 - stpipe.Spec2Pipeline.master_background_mos - INFO - Step master_background_mos done\n",
      "2024-02-22 19:48:14,237 - stpipe.Spec2Pipeline.wavecorr - INFO - Step wavecorr running with args (<MultiSlitModel from jw02609007001_03101_00002_nrs1_rate.fits>,).\n",
      "2024-02-22 19:48:14,238 - stpipe.Spec2Pipeline.wavecorr - INFO - Step wavecorr parameters are: {'pre_hooks': [], 'post_hooks': [], 'output_file': None, 'output_dir': None, 'output_ext': '.fits', 'output_use_model': False, 'output_use_index': True, 'save_results': False, 'skip': False, 'suffix': None, 'search_output_file': True, 'input_dir': 'miscdata/jwst_outputs/redux_test'}\n",
      "2024-02-22 19:48:19,049 - stpipe.Spec2Pipeline.wavecorr - INFO - Using WAVECORR reference file /containerapp/crds_cache/references/jwst/nirspec/jwst_nirspec_wavecorr_0004.asdf\n",
      "2024-02-22 19:48:22,358 - stpipe.Spec2Pipeline.wavecorr - INFO - Detected a POINT source type in slit 24\n",
      "2024-02-22 19:48:22,359 - stpipe.Spec2Pipeline.wavecorr - INFO - slit name 24\n",
      "2024-02-22 19:48:22,425 - stpipe.Spec2Pipeline.wavecorr - INFO - Using wavelength zero-point correction for aperture MOS\n",
      "2024-02-22 19:48:22,428 - stpipe.Spec2Pipeline.wavecorr - INFO - Detected a POINT source type in slit 25\n",
      "2024-02-22 19:48:22,428 - stpipe.Spec2Pipeline.wavecorr - INFO - slit name 25\n",
      "2024-02-22 19:48:22,487 - stpipe.Spec2Pipeline.wavecorr - INFO - Using wavelength zero-point correction for aperture MOS\n",
      "2024-02-22 19:48:22,491 - stpipe.Spec2Pipeline.wavecorr - INFO - Detected a POINT source type in slit 28\n",
      "2024-02-22 19:48:22,491 - stpipe.Spec2Pipeline.wavecorr - INFO - slit name 28\n",
      "2024-02-22 19:48:22,562 - stpipe.Spec2Pipeline.wavecorr - INFO - Using wavelength zero-point correction for aperture MOS\n",
      "2024-02-22 19:48:22,566 - stpipe.Spec2Pipeline.wavecorr - INFO - Detected a POINT source type in slit 29\n",
      "2024-02-22 19:48:22,566 - stpipe.Spec2Pipeline.wavecorr - INFO - slit name 29\n",
      "2024-02-22 19:48:22,636 - stpipe.Spec2Pipeline.wavecorr - INFO - Using wavelength zero-point correction for aperture MOS\n",
      "2024-02-22 19:48:22,640 - stpipe.Spec2Pipeline.wavecorr - INFO - Detected a POINT source type in slit 31\n",
      "2024-02-22 19:48:22,640 - stpipe.Spec2Pipeline.wavecorr - INFO - slit name 31\n",
      "2024-02-22 19:48:22,702 - stpipe.Spec2Pipeline.wavecorr - INFO - Using wavelength zero-point correction for aperture MOS\n",
      "2024-02-22 19:48:22,706 - stpipe.Spec2Pipeline.wavecorr - INFO - Detected a POINT source type in slit 32\n",
      "2024-02-22 19:48:22,706 - stpipe.Spec2Pipeline.wavecorr - INFO - slit name 32\n",
      "2024-02-22 19:48:22,766 - stpipe.Spec2Pipeline.wavecorr - INFO - Using wavelength zero-point correction for aperture MOS\n",
      "2024-02-22 19:48:22,770 - stpipe.Spec2Pipeline.wavecorr - INFO - Detected a POINT source type in slit 33\n",
      "2024-02-22 19:48:22,771 - stpipe.Spec2Pipeline.wavecorr - INFO - slit name 33\n",
      "2024-02-22 19:48:22,831 - stpipe.Spec2Pipeline.wavecorr - INFO - Using wavelength zero-point correction for aperture MOS\n",
      "2024-02-22 19:48:22,835 - stpipe.Spec2Pipeline.wavecorr - INFO - Detected a POINT source type in slit 34\n",
      "2024-02-22 19:48:22,835 - stpipe.Spec2Pipeline.wavecorr - INFO - slit name 34\n",
      "2024-02-22 19:48:22,896 - stpipe.Spec2Pipeline.wavecorr - INFO - Using wavelength zero-point correction for aperture MOS\n",
      "2024-02-22 19:48:22,900 - stpipe.Spec2Pipeline.wavecorr - INFO - Detected a POINT source type in slit 35\n",
      "2024-02-22 19:48:22,901 - stpipe.Spec2Pipeline.wavecorr - INFO - slit name 35\n",
      "2024-02-22 19:48:22,963 - stpipe.Spec2Pipeline.wavecorr - INFO - Using wavelength zero-point correction for aperture MOS\n",
      "2024-02-22 19:48:22,967 - stpipe.Spec2Pipeline.wavecorr - INFO - Detected a POINT source type in slit 37\n",
      "2024-02-22 19:48:22,968 - stpipe.Spec2Pipeline.wavecorr - INFO - slit name 37\n",
      "2024-02-22 19:48:23,030 - stpipe.Spec2Pipeline.wavecorr - INFO - Using wavelength zero-point correction for aperture MOS\n",
      "2024-02-22 19:48:23,034 - stpipe.Spec2Pipeline.wavecorr - INFO - Detected a POINT source type in slit 40\n",
      "2024-02-22 19:48:23,034 - stpipe.Spec2Pipeline.wavecorr - INFO - slit name 40\n",
      "2024-02-22 19:48:23,098 - stpipe.Spec2Pipeline.wavecorr - INFO - Using wavelength zero-point correction for aperture MOS\n",
      "2024-02-22 19:48:23,102 - stpipe.Spec2Pipeline.wavecorr - INFO - Detected a POINT source type in slit 13\n",
      "2024-02-22 19:48:23,103 - stpipe.Spec2Pipeline.wavecorr - INFO - slit name 13\n",
      "2024-02-22 19:48:23,157 - stpipe.Spec2Pipeline.wavecorr - INFO - Using wavelength zero-point correction for aperture MOS\n",
      "2024-02-22 19:48:23,161 - stpipe.Spec2Pipeline.wavecorr - INFO - Detected a POINT source type in slit 14\n",
      "2024-02-22 19:48:23,162 - stpipe.Spec2Pipeline.wavecorr - INFO - slit name 14\n",
      "2024-02-22 19:48:23,216 - stpipe.Spec2Pipeline.wavecorr - INFO - Using wavelength zero-point correction for aperture MOS\n",
      "2024-02-22 19:48:23,220 - stpipe.Spec2Pipeline.wavecorr - INFO - Detected a POINT source type in slit 15\n",
      "2024-02-22 19:48:23,220 - stpipe.Spec2Pipeline.wavecorr - INFO - slit name 15\n",
      "2024-02-22 19:48:23,275 - stpipe.Spec2Pipeline.wavecorr - INFO - Using wavelength zero-point correction for aperture MOS\n",
      "2024-02-22 19:48:23,278 - stpipe.Spec2Pipeline.wavecorr - INFO - Detected a POINT source type in slit 18\n",
      "2024-02-22 19:48:23,278 - stpipe.Spec2Pipeline.wavecorr - INFO - slit name 18\n",
      "2024-02-22 19:48:23,334 - stpipe.Spec2Pipeline.wavecorr - INFO - Using wavelength zero-point correction for aperture MOS\n",
      "2024-02-22 19:48:23,337 - stpipe.Spec2Pipeline.wavecorr - INFO - Detected a POINT source type in slit 19\n",
      "2024-02-22 19:48:23,338 - stpipe.Spec2Pipeline.wavecorr - INFO - slit name 19\n",
      "2024-02-22 19:48:23,392 - stpipe.Spec2Pipeline.wavecorr - INFO - Using wavelength zero-point correction for aperture MOS\n",
      "2024-02-22 19:48:23,395 - stpipe.Spec2Pipeline.wavecorr - INFO - Detected a POINT source type in slit 21\n",
      "2024-02-22 19:48:23,396 - stpipe.Spec2Pipeline.wavecorr - INFO - slit name 21\n",
      "2024-02-22 19:48:23,451 - stpipe.Spec2Pipeline.wavecorr - INFO - Using wavelength zero-point correction for aperture MOS\n",
      "2024-02-22 19:48:23,454 - stpipe.Spec2Pipeline.wavecorr - INFO - Detected a POINT source type in slit 22\n",
      "2024-02-22 19:48:23,454 - stpipe.Spec2Pipeline.wavecorr - INFO - slit name 22\n",
      "2024-02-22 19:48:23,510 - stpipe.Spec2Pipeline.wavecorr - INFO - Using wavelength zero-point correction for aperture MOS\n",
      "2024-02-22 19:48:23,514 - stpipe.Spec2Pipeline.wavecorr - INFO - Detected a POINT source type in slit 23\n",
      "2024-02-22 19:48:23,514 - stpipe.Spec2Pipeline.wavecorr - INFO - slit name 23\n",
      "2024-02-22 19:48:23,571 - stpipe.Spec2Pipeline.wavecorr - INFO - Using wavelength zero-point correction for aperture MOS\n",
      "2024-02-22 19:48:23,574 - stpipe.Spec2Pipeline.wavecorr - INFO - Detected a POINT source type in slit 26\n",
      "2024-02-22 19:48:23,575 - stpipe.Spec2Pipeline.wavecorr - INFO - slit name 26\n",
      "2024-02-22 19:48:23,632 - stpipe.Spec2Pipeline.wavecorr - INFO - Using wavelength zero-point correction for aperture MOS\n",
      "2024-02-22 19:48:23,636 - stpipe.Spec2Pipeline.wavecorr - INFO - Detected a POINT source type in slit 27\n",
      "2024-02-22 19:48:23,637 - stpipe.Spec2Pipeline.wavecorr - INFO - slit name 27\n",
      "2024-02-22 19:48:23,695 - stpipe.Spec2Pipeline.wavecorr - INFO - Using wavelength zero-point correction for aperture MOS\n",
      "2024-02-22 19:48:23,699 - stpipe.Spec2Pipeline.wavecorr - INFO - Detected a POINT source type in slit 30\n",
      "2024-02-22 19:48:23,700 - stpipe.Spec2Pipeline.wavecorr - INFO - slit name 30\n",
      "2024-02-22 19:48:23,760 - stpipe.Spec2Pipeline.wavecorr - INFO - Using wavelength zero-point correction for aperture MOS\n",
      "2024-02-22 19:48:23,764 - stpipe.Spec2Pipeline.wavecorr - INFO - Detected a POINT source type in slit 36\n",
      "2024-02-22 19:48:23,764 - stpipe.Spec2Pipeline.wavecorr - INFO - slit name 36\n",
      "2024-02-22 19:48:23,825 - stpipe.Spec2Pipeline.wavecorr - INFO - Using wavelength zero-point correction for aperture MOS\n",
      "2024-02-22 19:48:23,829 - stpipe.Spec2Pipeline.wavecorr - INFO - Detected a POINT source type in slit 38\n",
      "2024-02-22 19:48:23,830 - stpipe.Spec2Pipeline.wavecorr - INFO - slit name 38\n",
      "2024-02-22 19:48:23,893 - stpipe.Spec2Pipeline.wavecorr - INFO - Using wavelength zero-point correction for aperture MOS\n",
      "2024-02-22 19:48:23,898 - stpipe.Spec2Pipeline.wavecorr - INFO - Detected a POINT source type in slit 39\n",
      "2024-02-22 19:48:23,899 - stpipe.Spec2Pipeline.wavecorr - INFO - slit name 39\n",
      "2024-02-22 19:48:23,966 - stpipe.Spec2Pipeline.wavecorr - INFO - Using wavelength zero-point correction for aperture MOS\n",
      "2024-02-22 19:48:23,970 - stpipe.Spec2Pipeline.wavecorr - INFO - Detected a POINT source type in slit 41\n",
      "2024-02-22 19:48:23,970 - stpipe.Spec2Pipeline.wavecorr - INFO - slit name 41\n",
      "2024-02-22 19:48:24,038 - stpipe.Spec2Pipeline.wavecorr - INFO - Using wavelength zero-point correction for aperture MOS\n",
      "2024-02-22 19:48:24,043 - stpipe.Spec2Pipeline.wavecorr - INFO - Detected a POINT source type in slit 42\n",
      "2024-02-22 19:48:24,043 - stpipe.Spec2Pipeline.wavecorr - INFO - slit name 42\n",
      "2024-02-22 19:48:24,117 - stpipe.Spec2Pipeline.wavecorr - INFO - Using wavelength zero-point correction for aperture MOS\n",
      "2024-02-22 19:48:24,122 - stpipe.Spec2Pipeline.wavecorr - INFO - Detected a POINT source type in slit 45\n",
      "2024-02-22 19:48:24,122 - stpipe.Spec2Pipeline.wavecorr - INFO - slit name 45\n",
      "2024-02-22 19:48:24,198 - stpipe.Spec2Pipeline.wavecorr - INFO - Using wavelength zero-point correction for aperture MOS\n",
      "2024-02-22 19:48:24,203 - stpipe.Spec2Pipeline.wavecorr - INFO - Detected a POINT source type in slit 46\n",
      "2024-02-22 19:48:24,203 - stpipe.Spec2Pipeline.wavecorr - INFO - slit name 46\n",
      "2024-02-22 19:48:24,279 - stpipe.Spec2Pipeline.wavecorr - INFO - Using wavelength zero-point correction for aperture MOS\n",
      "2024-02-22 19:48:24,284 - stpipe.Spec2Pipeline.wavecorr - INFO - Detected a POINT source type in slit 48\n",
      "2024-02-22 19:48:24,284 - stpipe.Spec2Pipeline.wavecorr - INFO - slit name 48\n",
      "2024-02-22 19:48:24,361 - stpipe.Spec2Pipeline.wavecorr - INFO - Using wavelength zero-point correction for aperture MOS\n",
      "2024-02-22 19:48:24,366 - stpipe.Spec2Pipeline.wavecorr - INFO - Detected a POINT source type in slit 49\n",
      "2024-02-22 19:48:24,366 - stpipe.Spec2Pipeline.wavecorr - INFO - slit name 49\n",
      "2024-02-22 19:48:24,442 - stpipe.Spec2Pipeline.wavecorr - INFO - Using wavelength zero-point correction for aperture MOS\n",
      "2024-02-22 19:48:24,448 - stpipe.Spec2Pipeline.wavecorr - INFO - Detected a POINT source type in slit 43\n",
      "2024-02-22 19:48:24,448 - stpipe.Spec2Pipeline.wavecorr - INFO - slit name 43\n",
      "2024-02-22 19:48:24,525 - stpipe.Spec2Pipeline.wavecorr - INFO - Using wavelength zero-point correction for aperture MOS\n",
      "2024-02-22 19:48:24,530 - stpipe.Spec2Pipeline.wavecorr - INFO - Detected a POINT source type in slit 44\n",
      "2024-02-22 19:48:24,530 - stpipe.Spec2Pipeline.wavecorr - INFO - slit name 44\n",
      "2024-02-22 19:48:24,610 - stpipe.Spec2Pipeline.wavecorr - INFO - Using wavelength zero-point correction for aperture MOS\n",
      "2024-02-22 19:48:24,616 - stpipe.Spec2Pipeline.wavecorr - INFO - Detected a POINT source type in slit 47\n",
      "2024-02-22 19:48:24,616 - stpipe.Spec2Pipeline.wavecorr - INFO - slit name 47\n",
      "2024-02-22 19:48:24,698 - stpipe.Spec2Pipeline.wavecorr - INFO - Using wavelength zero-point correction for aperture MOS\n",
      "2024-02-22 19:48:24,704 - stpipe.Spec2Pipeline.wavecorr - INFO - Detected a POINT source type in slit 50\n",
      "2024-02-22 19:48:24,704 - stpipe.Spec2Pipeline.wavecorr - INFO - slit name 50\n",
      "2024-02-22 19:48:24,782 - stpipe.Spec2Pipeline.wavecorr - INFO - Using wavelength zero-point correction for aperture MOS\n",
      "2024-02-22 19:48:24,788 - stpipe.Spec2Pipeline.wavecorr - INFO - Detected a POINT source type in slit 51\n",
      "2024-02-22 19:48:24,788 - stpipe.Spec2Pipeline.wavecorr - INFO - slit name 51\n",
      "2024-02-22 19:48:24,870 - stpipe.Spec2Pipeline.wavecorr - INFO - Using wavelength zero-point correction for aperture MOS\n",
      "2024-02-22 19:48:24,876 - stpipe.Spec2Pipeline.wavecorr - INFO - Detected a POINT source type in slit 52\n",
      "2024-02-22 19:48:24,877 - stpipe.Spec2Pipeline.wavecorr - INFO - slit name 52\n",
      "2024-02-22 19:48:24,970 - stpipe.Spec2Pipeline.wavecorr - INFO - Using wavelength zero-point correction for aperture MOS\n",
      "2024-02-22 19:48:24,976 - stpipe.Spec2Pipeline.wavecorr - INFO - Detected a POINT source type in slit 53\n",
      "2024-02-22 19:48:24,977 - stpipe.Spec2Pipeline.wavecorr - INFO - slit name 53\n",
      "2024-02-22 19:48:25,070 - stpipe.Spec2Pipeline.wavecorr - INFO - Using wavelength zero-point correction for aperture MOS\n",
      "2024-02-22 19:48:25,076 - stpipe.Spec2Pipeline.wavecorr - INFO - Detected a POINT source type in slit 54\n",
      "2024-02-22 19:48:25,076 - stpipe.Spec2Pipeline.wavecorr - INFO - slit name 54\n",
      "2024-02-22 19:48:25,171 - stpipe.Spec2Pipeline.wavecorr - INFO - Using wavelength zero-point correction for aperture MOS\n",
      "2024-02-22 19:48:25,177 - stpipe.Spec2Pipeline.wavecorr - INFO - Detected a POINT source type in slit 55\n",
      "2024-02-22 19:48:25,178 - stpipe.Spec2Pipeline.wavecorr - INFO - slit name 55\n",
      "2024-02-22 19:48:25,274 - stpipe.Spec2Pipeline.wavecorr - INFO - Using wavelength zero-point correction for aperture MOS\n",
      "2024-02-22 19:48:25,281 - stpipe.Spec2Pipeline.wavecorr - INFO - Detected a POINT source type in slit 56\n",
      "2024-02-22 19:48:25,281 - stpipe.Spec2Pipeline.wavecorr - INFO - slit name 56\n",
      "2024-02-22 19:48:25,370 - stpipe.Spec2Pipeline.wavecorr - INFO - Using wavelength zero-point correction for aperture MOS\n",
      "2024-02-22 19:48:25,375 - stpipe.Spec2Pipeline.wavecorr - INFO - Detected a POINT source type in slit 57\n",
      "2024-02-22 19:48:25,376 - stpipe.Spec2Pipeline.wavecorr - INFO - slit name 57\n",
      "2024-02-22 19:48:25,453 - stpipe.Spec2Pipeline.wavecorr - INFO - Using wavelength zero-point correction for aperture MOS\n",
      "2024-02-22 19:48:25,458 - stpipe.Spec2Pipeline.wavecorr - INFO - Detected a POINT source type in slit 58\n",
      "2024-02-22 19:48:25,458 - stpipe.Spec2Pipeline.wavecorr - INFO - slit name 58\n",
      "2024-02-22 19:48:25,534 - stpipe.Spec2Pipeline.wavecorr - INFO - Using wavelength zero-point correction for aperture MOS\n",
      "2024-02-22 19:48:25,540 - stpipe.Spec2Pipeline.wavecorr - INFO - Detected a POINT source type in slit 59\n",
      "2024-02-22 19:48:25,540 - stpipe.Spec2Pipeline.wavecorr - INFO - slit name 59\n",
      "2024-02-22 19:48:25,617 - stpipe.Spec2Pipeline.wavecorr - INFO - Using wavelength zero-point correction for aperture MOS\n",
      "2024-02-22 19:48:25,626 - stpipe.Spec2Pipeline.wavecorr - INFO - Step wavecorr done\n",
      "2024-02-22 19:48:26,601 - stpipe.Spec2Pipeline.flat_field - INFO - Step flat_field running with args (<MultiSlitModel from jw02609007001_03101_00002_nrs1_rate.fits>,).\n",
      "2024-02-22 19:48:26,603 - stpipe.Spec2Pipeline.flat_field - INFO - Step flat_field parameters are: {'pre_hooks': [], 'post_hooks': [], 'output_file': None, 'output_dir': None, 'output_ext': '.fits', 'output_use_model': False, 'output_use_index': True, 'save_results': False, 'skip': False, 'suffix': None, 'search_output_file': True, 'input_dir': 'miscdata/jwst_outputs/redux_test', 'save_interpolated_flat': True, 'user_supplied_flat': None, 'inverse': False}\n",
      "2024-02-22 19:48:26,869 - stpipe.Spec2Pipeline.flat_field - INFO - No reference found for type FLAT\n",
      "2024-02-22 19:48:26,954 - stpipe.Spec2Pipeline.flat_field - INFO - Using FFLAT reference file: /containerapp/crds_cache/references/jwst/nirspec/jwst_nirspec_fflat_0067.fits\n",
      "2024-02-22 19:48:27,273 - stpipe.Spec2Pipeline.flat_field - INFO - Using SFLAT reference file: /containerapp/crds_cache/references/jwst/nirspec/jwst_nirspec_sflat_0173.fits\n",
      "2024-02-22 19:48:27,601 - stpipe.Spec2Pipeline.flat_field - INFO - Using DFLAT reference file: /containerapp/crds_cache/references/jwst/nirspec/jwst_nirspec_dflat_0001.fits\n",
      "2024-02-22 19:48:30,763 - stpipe.Spec2Pipeline.flat_field - INFO - Working on slit 24\n",
      "2024-02-22 19:48:30,898 - stpipe.Spec2Pipeline.flat_field - INFO - Working on slit 25\n",
      "2024-02-22 19:48:31,036 - stpipe.Spec2Pipeline.flat_field - INFO - Working on slit 28\n",
      "2024-02-22 19:48:31,182 - stpipe.Spec2Pipeline.flat_field - INFO - Working on slit 29\n",
      "2024-02-22 19:48:31,332 - stpipe.Spec2Pipeline.flat_field - INFO - Working on slit 31\n",
      "2024-02-22 19:48:31,481 - stpipe.Spec2Pipeline.flat_field - INFO - Working on slit 32\n",
      "2024-02-22 19:48:31,621 - stpipe.Spec2Pipeline.flat_field - INFO - Working on slit 33\n",
      "2024-02-22 19:48:31,777 - stpipe.Spec2Pipeline.flat_field - INFO - Working on slit 34\n",
      "2024-02-22 19:48:31,927 - stpipe.Spec2Pipeline.flat_field - INFO - Working on slit 35\n",
      "2024-02-22 19:48:32,084 - stpipe.Spec2Pipeline.flat_field - INFO - Working on slit 37\n",
      "2024-02-22 19:48:32,244 - stpipe.Spec2Pipeline.flat_field - INFO - Working on slit 40\n",
      "2024-02-22 19:48:32,411 - stpipe.Spec2Pipeline.flat_field - INFO - Working on slit 13\n",
      "2024-02-22 19:48:32,537 - stpipe.Spec2Pipeline.flat_field - INFO - Working on slit 14\n",
      "2024-02-22 19:48:32,688 - stpipe.Spec2Pipeline.flat_field - INFO - Working on slit 15\n",
      "2024-02-22 19:48:32,814 - stpipe.Spec2Pipeline.flat_field - INFO - Working on slit 18\n",
      "2024-02-22 19:48:32,920 - stpipe.Spec2Pipeline.flat_field - INFO - Working on slit 19\n",
      "2024-02-22 19:48:33,024 - stpipe.Spec2Pipeline.flat_field - INFO - Working on slit 21\n",
      "2024-02-22 19:48:33,132 - stpipe.Spec2Pipeline.flat_field - INFO - Working on slit 22\n",
      "2024-02-22 19:48:33,245 - stpipe.Spec2Pipeline.flat_field - INFO - Working on slit 23\n",
      "2024-02-22 19:48:33,354 - stpipe.Spec2Pipeline.flat_field - INFO - Working on slit 26\n",
      "2024-02-22 19:48:33,466 - stpipe.Spec2Pipeline.flat_field - INFO - Working on slit 27\n",
      "2024-02-22 19:48:33,583 - stpipe.Spec2Pipeline.flat_field - INFO - Working on slit 30\n",
      "2024-02-22 19:48:33,705 - stpipe.Spec2Pipeline.flat_field - INFO - Working on slit 36\n",
      "2024-02-22 19:48:33,839 - stpipe.Spec2Pipeline.flat_field - INFO - Working on slit 38\n",
      "2024-02-22 19:48:34,010 - stpipe.Spec2Pipeline.flat_field - INFO - Working on slit 39\n",
      "2024-02-22 19:48:34,192 - stpipe.Spec2Pipeline.flat_field - INFO - Working on slit 41\n",
      "2024-02-22 19:48:34,410 - stpipe.Spec2Pipeline.flat_field - INFO - Working on slit 42\n",
      "2024-02-22 19:48:34,634 - stpipe.Spec2Pipeline.flat_field - INFO - Working on slit 45\n",
      "2024-02-22 19:48:34,842 - stpipe.Spec2Pipeline.flat_field - INFO - Working on slit 46\n",
      "2024-02-22 19:48:35,052 - stpipe.Spec2Pipeline.flat_field - INFO - Working on slit 48\n",
      "2024-02-22 19:48:35,223 - stpipe.Spec2Pipeline.flat_field - INFO - Working on slit 49\n",
      "2024-02-22 19:48:35,388 - stpipe.Spec2Pipeline.flat_field - INFO - Working on slit 43\n",
      "2024-02-22 19:48:35,560 - stpipe.Spec2Pipeline.flat_field - INFO - Working on slit 44\n",
      "2024-02-22 19:48:35,719 - stpipe.Spec2Pipeline.flat_field - INFO - Working on slit 47\n",
      "2024-02-22 19:48:35,880 - stpipe.Spec2Pipeline.flat_field - INFO - Working on slit 50\n",
      "2024-02-22 19:48:36,047 - stpipe.Spec2Pipeline.flat_field - INFO - Working on slit 51\n",
      "2024-02-22 19:48:36,219 - stpipe.Spec2Pipeline.flat_field - INFO - Working on slit 52\n",
      "2024-02-22 19:48:36,396 - stpipe.Spec2Pipeline.flat_field - INFO - Working on slit 53\n",
      "2024-02-22 19:48:36,576 - stpipe.Spec2Pipeline.flat_field - INFO - Working on slit 54\n",
      "2024-02-22 19:48:36,777 - stpipe.Spec2Pipeline.flat_field - INFO - Working on slit 55\n",
      "2024-02-22 19:48:36,964 - stpipe.Spec2Pipeline.flat_field - INFO - Working on slit 56\n",
      "2024-02-22 19:48:37,153 - stpipe.Spec2Pipeline.flat_field - INFO - Working on slit 57\n",
      "2024-02-22 19:48:37,343 - stpipe.Spec2Pipeline.flat_field - INFO - Working on slit 58\n",
      "2024-02-22 19:48:37,538 - stpipe.Spec2Pipeline.flat_field - INFO - Working on slit 59\n",
      "2024-02-22 19:48:47,426 - stpipe.Spec2Pipeline.flat_field - INFO - Saved model in miscdata/jwst_outputs/redux_test/jw02609007001_03101_00002_nrs1_interpolatedflat.fits\n",
      "2024-02-22 19:48:47,427 - stpipe.Spec2Pipeline.flat_field - INFO - Interpolated flat written to \"miscdata/jwst_outputs/redux_test/jw02609007001_03101_00002_nrs1_interpolatedflat.fits\".\n",
      "2024-02-22 19:48:47,436 - stpipe.Spec2Pipeline.flat_field - INFO - Step flat_field done\n",
      "2024-02-22 19:48:48,334 - stpipe.Spec2Pipeline.pathloss - INFO - Step pathloss running with args (<MultiSlitModel from jw02609007001_03101_00002_nrs1_rate.fits>,).\n",
      "2024-02-22 19:48:48,336 - stpipe.Spec2Pipeline.pathloss - INFO - Step pathloss parameters are: {'pre_hooks': [], 'post_hooks': [], 'output_file': None, 'output_dir': None, 'output_ext': '.fits', 'output_use_model': False, 'output_use_index': True, 'save_results': False, 'skip': False, 'suffix': None, 'search_output_file': True, 'input_dir': 'miscdata/jwst_outputs/redux_test', 'inverse': False, 'source_type': None, 'user_slit_loc': None}\n",
      "2024-02-22 19:48:48,438 - stpipe.Spec2Pipeline.pathloss - INFO - Using PATHLOSS reference file /containerapp/crds_cache/references/jwst/nirspec/jwst_nirspec_pathloss_0002.fits\n",
      "2024-02-22 19:48:48,505 - stpipe.Spec2Pipeline.pathloss - INFO - Input exposure type is NRS_MSASPEC\n",
      "2024-02-22 19:48:51,211 - stpipe.Spec2Pipeline.pathloss - INFO - Working on slit 0\n",
      "2024-02-22 19:48:51,211 - stpipe.Spec2Pipeline.pathloss - INFO - Shutter state = x1, using MOS1x3 entry in ref file\n",
      "2024-02-22 19:48:51,211 - stpipe.Spec2Pipeline.pathloss - INFO - Shutter below fiducial is closed, using lower region of pathloss array\n",
      "2024-02-22 19:48:51,212 - stpipe.Spec2Pipeline.pathloss - INFO - 2 shutter slit: Uniform correction averages corrections for 1x1 and 1x3 apertures\n",
      "2024-02-22 19:48:51,242 - stpipe.Spec2Pipeline.pathloss - INFO - Working on slit 1\n",
      "2024-02-22 19:48:51,242 - stpipe.Spec2Pipeline.pathloss - INFO - Shutter state = x1, using MOS1x3 entry in ref file\n",
      "2024-02-22 19:48:51,243 - stpipe.Spec2Pipeline.pathloss - INFO - Shutter below fiducial is closed, using lower region of pathloss array\n",
      "2024-02-22 19:48:51,243 - stpipe.Spec2Pipeline.pathloss - INFO - 2 shutter slit: Uniform correction averages corrections for 1x1 and 1x3 apertures\n",
      "2024-02-22 19:48:51,268 - stpipe.Spec2Pipeline.pathloss - INFO - Working on slit 2\n",
      "2024-02-22 19:48:51,268 - stpipe.Spec2Pipeline.pathloss - INFO - Shutter state = x1, using MOS1x3 entry in ref file\n",
      "2024-02-22 19:48:51,268 - stpipe.Spec2Pipeline.pathloss - INFO - Shutter below fiducial is closed, using lower region of pathloss array\n",
      "2024-02-22 19:48:51,269 - stpipe.Spec2Pipeline.pathloss - INFO - 2 shutter slit: Uniform correction averages corrections for 1x1 and 1x3 apertures\n",
      "2024-02-22 19:48:51,288 - stpipe.Spec2Pipeline.pathloss - INFO - Working on slit 3\n",
      "2024-02-22 19:48:51,288 - stpipe.Spec2Pipeline.pathloss - INFO - Shutter state = x1, using MOS1x3 entry in ref file\n",
      "2024-02-22 19:48:51,289 - stpipe.Spec2Pipeline.pathloss - INFO - Shutter below fiducial is closed, using lower region of pathloss array\n",
      "2024-02-22 19:48:51,289 - stpipe.Spec2Pipeline.pathloss - INFO - 2 shutter slit: Uniform correction averages corrections for 1x1 and 1x3 apertures\n",
      "2024-02-22 19:48:51,309 - stpipe.Spec2Pipeline.pathloss - INFO - Working on slit 4\n",
      "2024-02-22 19:48:51,309 - stpipe.Spec2Pipeline.pathloss - INFO - Shutter state = x1, using MOS1x3 entry in ref file\n",
      "2024-02-22 19:48:51,309 - stpipe.Spec2Pipeline.pathloss - INFO - Shutter below fiducial is closed, using lower region of pathloss array\n",
      "2024-02-22 19:48:51,310 - stpipe.Spec2Pipeline.pathloss - INFO - 2 shutter slit: Uniform correction averages corrections for 1x1 and 1x3 apertures\n",
      "2024-02-22 19:48:51,329 - stpipe.Spec2Pipeline.pathloss - INFO - Working on slit 5\n",
      "2024-02-22 19:48:51,329 - stpipe.Spec2Pipeline.pathloss - INFO - Shutter state = x1, using MOS1x3 entry in ref file\n",
      "2024-02-22 19:48:51,330 - stpipe.Spec2Pipeline.pathloss - INFO - Shutter below fiducial is closed, using lower region of pathloss array\n",
      "2024-02-22 19:48:51,330 - stpipe.Spec2Pipeline.pathloss - INFO - 2 shutter slit: Uniform correction averages corrections for 1x1 and 1x3 apertures\n",
      "2024-02-22 19:48:51,349 - stpipe.Spec2Pipeline.pathloss - INFO - Working on slit 6\n",
      "2024-02-22 19:48:51,349 - stpipe.Spec2Pipeline.pathloss - INFO - Shutter state = x1, using MOS1x3 entry in ref file\n",
      "2024-02-22 19:48:51,349 - stpipe.Spec2Pipeline.pathloss - INFO - Shutter below fiducial is closed, using lower region of pathloss array\n",
      "2024-02-22 19:48:51,350 - stpipe.Spec2Pipeline.pathloss - INFO - 2 shutter slit: Uniform correction averages corrections for 1x1 and 1x3 apertures\n",
      "2024-02-22 19:48:51,368 - stpipe.Spec2Pipeline.pathloss - INFO - Working on slit 7\n",
      "2024-02-22 19:48:51,369 - stpipe.Spec2Pipeline.pathloss - INFO - Shutter state = x1, using MOS1x3 entry in ref file\n",
      "2024-02-22 19:48:51,369 - stpipe.Spec2Pipeline.pathloss - INFO - Shutter below fiducial is closed, using lower region of pathloss array\n",
      "2024-02-22 19:48:51,369 - stpipe.Spec2Pipeline.pathloss - INFO - 2 shutter slit: Uniform correction averages corrections for 1x1 and 1x3 apertures\n",
      "2024-02-22 19:48:51,389 - stpipe.Spec2Pipeline.pathloss - INFO - Working on slit 8\n",
      "2024-02-22 19:48:51,389 - stpipe.Spec2Pipeline.pathloss - INFO - Shutter state = x1, using MOS1x3 entry in ref file\n",
      "2024-02-22 19:48:51,390 - stpipe.Spec2Pipeline.pathloss - INFO - Shutter below fiducial is closed, using lower region of pathloss array\n",
      "2024-02-22 19:48:51,390 - stpipe.Spec2Pipeline.pathloss - INFO - 2 shutter slit: Uniform correction averages corrections for 1x1 and 1x3 apertures\n",
      "2024-02-22 19:48:51,412 - stpipe.Spec2Pipeline.pathloss - INFO - Working on slit 9\n",
      "2024-02-22 19:48:51,412 - stpipe.Spec2Pipeline.pathloss - INFO - Shutter state = x1, using MOS1x3 entry in ref file\n",
      "2024-02-22 19:48:51,413 - stpipe.Spec2Pipeline.pathloss - INFO - Shutter below fiducial is closed, using lower region of pathloss array\n",
      "2024-02-22 19:48:51,413 - stpipe.Spec2Pipeline.pathloss - INFO - 2 shutter slit: Uniform correction averages corrections for 1x1 and 1x3 apertures\n",
      "2024-02-22 19:48:51,433 - stpipe.Spec2Pipeline.pathloss - INFO - Working on slit 10\n",
      "2024-02-22 19:48:51,434 - stpipe.Spec2Pipeline.pathloss - INFO - Shutter state = x1, using MOS1x3 entry in ref file\n",
      "2024-02-22 19:48:51,434 - stpipe.Spec2Pipeline.pathloss - INFO - Shutter below fiducial is closed, using lower region of pathloss array\n",
      "2024-02-22 19:48:51,434 - stpipe.Spec2Pipeline.pathloss - INFO - 2 shutter slit: Uniform correction averages corrections for 1x1 and 1x3 apertures\n",
      "2024-02-22 19:48:51,457 - stpipe.Spec2Pipeline.pathloss - INFO - Working on slit 11\n",
      "2024-02-22 19:48:51,458 - stpipe.Spec2Pipeline.pathloss - INFO - Shutter state = x1, using MOS1x3 entry in ref file\n",
      "2024-02-22 19:48:51,458 - stpipe.Spec2Pipeline.pathloss - INFO - Shutter below fiducial is closed, using lower region of pathloss array\n",
      "2024-02-22 19:48:51,459 - stpipe.Spec2Pipeline.pathloss - INFO - 2 shutter slit: Uniform correction averages corrections for 1x1 and 1x3 apertures\n",
      "2024-02-22 19:48:51,477 - stpipe.Spec2Pipeline.pathloss - INFO - Working on slit 12\n",
      "2024-02-22 19:48:51,477 - stpipe.Spec2Pipeline.pathloss - INFO - Shutter state = x1, using MOS1x3 entry in ref file\n",
      "2024-02-22 19:48:51,477 - stpipe.Spec2Pipeline.pathloss - INFO - Shutter below fiducial is closed, using lower region of pathloss array\n",
      "2024-02-22 19:48:51,478 - stpipe.Spec2Pipeline.pathloss - INFO - 2 shutter slit: Uniform correction averages corrections for 1x1 and 1x3 apertures\n",
      "2024-02-22 19:48:51,496 - stpipe.Spec2Pipeline.pathloss - INFO - Working on slit 13\n",
      "2024-02-22 19:48:51,497 - stpipe.Spec2Pipeline.pathloss - INFO - Shutter state = x1, using MOS1x3 entry in ref file\n",
      "2024-02-22 19:48:51,497 - stpipe.Spec2Pipeline.pathloss - INFO - Shutter below fiducial is closed, using lower region of pathloss array\n",
      "2024-02-22 19:48:51,498 - stpipe.Spec2Pipeline.pathloss - INFO - 2 shutter slit: Uniform correction averages corrections for 1x1 and 1x3 apertures\n",
      "2024-02-22 19:48:51,516 - stpipe.Spec2Pipeline.pathloss - INFO - Working on slit 14\n",
      "2024-02-22 19:48:51,517 - stpipe.Spec2Pipeline.pathloss - INFO - Shutter state = x1, using MOS1x3 entry in ref file\n",
      "2024-02-22 19:48:51,517 - stpipe.Spec2Pipeline.pathloss - INFO - Shutter below fiducial is closed, using lower region of pathloss array\n",
      "2024-02-22 19:48:51,518 - stpipe.Spec2Pipeline.pathloss - INFO - 2 shutter slit: Uniform correction averages corrections for 1x1 and 1x3 apertures\n",
      "2024-02-22 19:48:51,537 - stpipe.Spec2Pipeline.pathloss - INFO - Working on slit 15\n",
      "2024-02-22 19:48:51,538 - stpipe.Spec2Pipeline.pathloss - INFO - Shutter state = x1, using MOS1x3 entry in ref file\n",
      "2024-02-22 19:48:51,538 - stpipe.Spec2Pipeline.pathloss - INFO - Shutter below fiducial is closed, using lower region of pathloss array\n",
      "2024-02-22 19:48:51,538 - stpipe.Spec2Pipeline.pathloss - INFO - 2 shutter slit: Uniform correction averages corrections for 1x1 and 1x3 apertures\n",
      "2024-02-22 19:48:51,558 - stpipe.Spec2Pipeline.pathloss - INFO - Working on slit 16\n",
      "2024-02-22 19:48:51,558 - stpipe.Spec2Pipeline.pathloss - INFO - Shutter state = x1, using MOS1x3 entry in ref file\n",
      "2024-02-22 19:48:51,558 - stpipe.Spec2Pipeline.pathloss - INFO - Shutter below fiducial is closed, using lower region of pathloss array\n",
      "2024-02-22 19:48:51,559 - stpipe.Spec2Pipeline.pathloss - INFO - 2 shutter slit: Uniform correction averages corrections for 1x1 and 1x3 apertures\n",
      "2024-02-22 19:48:51,578 - stpipe.Spec2Pipeline.pathloss - INFO - Working on slit 17\n",
      "2024-02-22 19:48:51,578 - stpipe.Spec2Pipeline.pathloss - INFO - Shutter state = x1, using MOS1x3 entry in ref file\n",
      "2024-02-22 19:48:51,579 - stpipe.Spec2Pipeline.pathloss - INFO - Shutter below fiducial is closed, using lower region of pathloss array\n",
      "2024-02-22 19:48:51,579 - stpipe.Spec2Pipeline.pathloss - INFO - 2 shutter slit: Uniform correction averages corrections for 1x1 and 1x3 apertures\n",
      "2024-02-22 19:48:51,602 - stpipe.Spec2Pipeline.pathloss - INFO - Working on slit 18\n",
      "2024-02-22 19:48:51,602 - stpipe.Spec2Pipeline.pathloss - INFO - Shutter state = x1, using MOS1x3 entry in ref file\n",
      "2024-02-22 19:48:51,603 - stpipe.Spec2Pipeline.pathloss - INFO - Shutter below fiducial is closed, using lower region of pathloss array\n",
      "2024-02-22 19:48:51,603 - stpipe.Spec2Pipeline.pathloss - INFO - 2 shutter slit: Uniform correction averages corrections for 1x1 and 1x3 apertures\n",
      "2024-02-22 19:48:51,624 - stpipe.Spec2Pipeline.pathloss - INFO - Working on slit 19\n",
      "2024-02-22 19:48:51,624 - stpipe.Spec2Pipeline.pathloss - INFO - Shutter state = x1, using MOS1x3 entry in ref file\n",
      "2024-02-22 19:48:51,624 - stpipe.Spec2Pipeline.pathloss - INFO - Shutter below fiducial is closed, using lower region of pathloss array\n",
      "2024-02-22 19:48:51,625 - stpipe.Spec2Pipeline.pathloss - INFO - 2 shutter slit: Uniform correction averages corrections for 1x1 and 1x3 apertures\n",
      "2024-02-22 19:48:51,645 - stpipe.Spec2Pipeline.pathloss - INFO - Working on slit 20\n",
      "2024-02-22 19:48:51,645 - stpipe.Spec2Pipeline.pathloss - INFO - Shutter state = x1, using MOS1x3 entry in ref file\n",
      "2024-02-22 19:48:51,645 - stpipe.Spec2Pipeline.pathloss - INFO - Shutter below fiducial is closed, using lower region of pathloss array\n",
      "2024-02-22 19:48:51,646 - stpipe.Spec2Pipeline.pathloss - INFO - 2 shutter slit: Uniform correction averages corrections for 1x1 and 1x3 apertures\n",
      "2024-02-22 19:48:51,664 - stpipe.Spec2Pipeline.pathloss - INFO - Working on slit 21\n",
      "2024-02-22 19:48:51,665 - stpipe.Spec2Pipeline.pathloss - INFO - Shutter state = x1, using MOS1x3 entry in ref file\n",
      "2024-02-22 19:48:51,665 - stpipe.Spec2Pipeline.pathloss - INFO - Shutter below fiducial is closed, using lower region of pathloss array\n",
      "2024-02-22 19:48:51,666 - stpipe.Spec2Pipeline.pathloss - INFO - 2 shutter slit: Uniform correction averages corrections for 1x1 and 1x3 apertures\n",
      "2024-02-22 19:48:51,684 - stpipe.Spec2Pipeline.pathloss - INFO - Working on slit 22\n",
      "2024-02-22 19:48:51,685 - stpipe.Spec2Pipeline.pathloss - INFO - Shutter state = x1, using MOS1x3 entry in ref file\n",
      "2024-02-22 19:48:51,685 - stpipe.Spec2Pipeline.pathloss - INFO - Shutter below fiducial is closed, using lower region of pathloss array\n",
      "2024-02-22 19:48:51,686 - stpipe.Spec2Pipeline.pathloss - INFO - 2 shutter slit: Uniform correction averages corrections for 1x1 and 1x3 apertures\n",
      "2024-02-22 19:48:51,706 - stpipe.Spec2Pipeline.pathloss - INFO - Working on slit 23\n",
      "2024-02-22 19:48:51,706 - stpipe.Spec2Pipeline.pathloss - INFO - Shutter state = x1, using MOS1x3 entry in ref file\n",
      "2024-02-22 19:48:51,706 - stpipe.Spec2Pipeline.pathloss - INFO - Shutter below fiducial is closed, using lower region of pathloss array\n",
      "2024-02-22 19:48:51,707 - stpipe.Spec2Pipeline.pathloss - INFO - 2 shutter slit: Uniform correction averages corrections for 1x1 and 1x3 apertures\n",
      "2024-02-22 19:48:51,726 - stpipe.Spec2Pipeline.pathloss - INFO - Working on slit 24\n",
      "2024-02-22 19:48:51,727 - stpipe.Spec2Pipeline.pathloss - INFO - Shutter state = x1, using MOS1x3 entry in ref file\n",
      "2024-02-22 19:48:51,727 - stpipe.Spec2Pipeline.pathloss - INFO - Shutter below fiducial is closed, using lower region of pathloss array\n",
      "2024-02-22 19:48:51,728 - stpipe.Spec2Pipeline.pathloss - INFO - 2 shutter slit: Uniform correction averages corrections for 1x1 and 1x3 apertures\n",
      "2024-02-22 19:48:51,749 - stpipe.Spec2Pipeline.pathloss - INFO - Working on slit 25\n",
      "2024-02-22 19:48:51,750 - stpipe.Spec2Pipeline.pathloss - INFO - Shutter state = x1, using MOS1x3 entry in ref file\n",
      "2024-02-22 19:48:51,750 - stpipe.Spec2Pipeline.pathloss - INFO - Shutter below fiducial is closed, using lower region of pathloss array\n",
      "2024-02-22 19:48:51,751 - stpipe.Spec2Pipeline.pathloss - INFO - 2 shutter slit: Uniform correction averages corrections for 1x1 and 1x3 apertures\n",
      "2024-02-22 19:48:51,774 - stpipe.Spec2Pipeline.pathloss - INFO - Working on slit 26\n",
      "2024-02-22 19:48:51,774 - stpipe.Spec2Pipeline.pathloss - INFO - Shutter state = x1, using MOS1x3 entry in ref file\n",
      "2024-02-22 19:48:51,775 - stpipe.Spec2Pipeline.pathloss - INFO - Shutter below fiducial is closed, using lower region of pathloss array\n",
      "2024-02-22 19:48:51,775 - stpipe.Spec2Pipeline.pathloss - INFO - 2 shutter slit: Uniform correction averages corrections for 1x1 and 1x3 apertures\n",
      "2024-02-22 19:48:51,796 - stpipe.Spec2Pipeline.pathloss - INFO - Working on slit 27\n",
      "2024-02-22 19:48:51,797 - stpipe.Spec2Pipeline.pathloss - INFO - Shutter state = x1, using MOS1x3 entry in ref file\n",
      "2024-02-22 19:48:51,797 - stpipe.Spec2Pipeline.pathloss - INFO - Shutter below fiducial is closed, using lower region of pathloss array\n",
      "2024-02-22 19:48:51,798 - stpipe.Spec2Pipeline.pathloss - INFO - 2 shutter slit: Uniform correction averages corrections for 1x1 and 1x3 apertures\n",
      "2024-02-22 19:48:51,817 - stpipe.Spec2Pipeline.pathloss - INFO - Working on slit 28\n",
      "2024-02-22 19:48:51,817 - stpipe.Spec2Pipeline.pathloss - INFO - Shutter state = x1, using MOS1x3 entry in ref file\n",
      "2024-02-22 19:48:51,818 - stpipe.Spec2Pipeline.pathloss - INFO - Shutter below fiducial is closed, using lower region of pathloss array\n",
      "2024-02-22 19:48:51,818 - stpipe.Spec2Pipeline.pathloss - INFO - 2 shutter slit: Uniform correction averages corrections for 1x1 and 1x3 apertures\n",
      "2024-02-22 19:48:51,838 - stpipe.Spec2Pipeline.pathloss - INFO - Working on slit 29\n",
      "2024-02-22 19:48:51,838 - stpipe.Spec2Pipeline.pathloss - INFO - Shutter state = x1, using MOS1x3 entry in ref file\n",
      "2024-02-22 19:48:51,839 - stpipe.Spec2Pipeline.pathloss - INFO - Shutter below fiducial is closed, using lower region of pathloss array\n",
      "2024-02-22 19:48:51,839 - stpipe.Spec2Pipeline.pathloss - INFO - 2 shutter slit: Uniform correction averages corrections for 1x1 and 1x3 apertures\n",
      "2024-02-22 19:48:51,858 - stpipe.Spec2Pipeline.pathloss - INFO - Working on slit 30\n",
      "2024-02-22 19:48:51,859 - stpipe.Spec2Pipeline.pathloss - INFO - Shutter state = x1, using MOS1x3 entry in ref file\n",
      "2024-02-22 19:48:51,859 - stpipe.Spec2Pipeline.pathloss - INFO - Shutter below fiducial is closed, using lower region of pathloss array\n",
      "2024-02-22 19:48:51,860 - stpipe.Spec2Pipeline.pathloss - INFO - 2 shutter slit: Uniform correction averages corrections for 1x1 and 1x3 apertures\n",
      "2024-02-22 19:48:51,879 - stpipe.Spec2Pipeline.pathloss - INFO - Working on slit 31\n",
      "2024-02-22 19:48:51,880 - stpipe.Spec2Pipeline.pathloss - INFO - Shutter state = x1, using MOS1x3 entry in ref file\n",
      "2024-02-22 19:48:51,880 - stpipe.Spec2Pipeline.pathloss - INFO - Shutter below fiducial is closed, using lower region of pathloss array\n",
      "2024-02-22 19:48:51,880 - stpipe.Spec2Pipeline.pathloss - INFO - 2 shutter slit: Uniform correction averages corrections for 1x1 and 1x3 apertures\n",
      "2024-02-22 19:48:51,902 - stpipe.Spec2Pipeline.pathloss - INFO - Working on slit 32\n",
      "2024-02-22 19:48:51,903 - stpipe.Spec2Pipeline.pathloss - INFO - Shutter state = x1, using MOS1x3 entry in ref file\n",
      "2024-02-22 19:48:51,903 - stpipe.Spec2Pipeline.pathloss - INFO - Shutter below fiducial is closed, using lower region of pathloss array\n",
      "2024-02-22 19:48:51,904 - stpipe.Spec2Pipeline.pathloss - INFO - 2 shutter slit: Uniform correction averages corrections for 1x1 and 1x3 apertures\n",
      "2024-02-22 19:48:51,927 - stpipe.Spec2Pipeline.pathloss - INFO - Working on slit 33\n",
      "2024-02-22 19:48:51,928 - stpipe.Spec2Pipeline.pathloss - INFO - Shutter state = x1, using MOS1x3 entry in ref file\n",
      "2024-02-22 19:48:51,928 - stpipe.Spec2Pipeline.pathloss - INFO - Shutter below fiducial is closed, using lower region of pathloss array\n",
      "2024-02-22 19:48:51,929 - stpipe.Spec2Pipeline.pathloss - INFO - 2 shutter slit: Uniform correction averages corrections for 1x1 and 1x3 apertures\n",
      "2024-02-22 19:48:51,949 - stpipe.Spec2Pipeline.pathloss - INFO - Working on slit 34\n",
      "2024-02-22 19:48:51,949 - stpipe.Spec2Pipeline.pathloss - INFO - Shutter state = x1, using MOS1x3 entry in ref file\n",
      "2024-02-22 19:48:51,950 - stpipe.Spec2Pipeline.pathloss - INFO - Shutter below fiducial is closed, using lower region of pathloss array\n",
      "2024-02-22 19:48:51,950 - stpipe.Spec2Pipeline.pathloss - INFO - 2 shutter slit: Uniform correction averages corrections for 1x1 and 1x3 apertures\n",
      "2024-02-22 19:48:51,970 - stpipe.Spec2Pipeline.pathloss - INFO - Working on slit 35\n",
      "2024-02-22 19:48:51,971 - stpipe.Spec2Pipeline.pathloss - INFO - Shutter state = x1, using MOS1x3 entry in ref file\n",
      "2024-02-22 19:48:51,971 - stpipe.Spec2Pipeline.pathloss - INFO - Shutter below fiducial is closed, using lower region of pathloss array\n",
      "2024-02-22 19:48:51,972 - stpipe.Spec2Pipeline.pathloss - INFO - 2 shutter slit: Uniform correction averages corrections for 1x1 and 1x3 apertures\n",
      "2024-02-22 19:48:51,992 - stpipe.Spec2Pipeline.pathloss - INFO - Working on slit 36\n",
      "2024-02-22 19:48:51,992 - stpipe.Spec2Pipeline.pathloss - INFO - Shutter state = x1, using MOS1x3 entry in ref file\n",
      "2024-02-22 19:48:51,993 - stpipe.Spec2Pipeline.pathloss - INFO - Shutter below fiducial is closed, using lower region of pathloss array\n",
      "2024-02-22 19:48:51,993 - stpipe.Spec2Pipeline.pathloss - INFO - 2 shutter slit: Uniform correction averages corrections for 1x1 and 1x3 apertures\n",
      "2024-02-22 19:48:52,013 - stpipe.Spec2Pipeline.pathloss - INFO - Working on slit 37\n",
      "2024-02-22 19:48:52,013 - stpipe.Spec2Pipeline.pathloss - INFO - Shutter state = x1, using MOS1x3 entry in ref file\n",
      "2024-02-22 19:48:52,014 - stpipe.Spec2Pipeline.pathloss - INFO - Shutter below fiducial is closed, using lower region of pathloss array\n",
      "2024-02-22 19:48:52,014 - stpipe.Spec2Pipeline.pathloss - INFO - 2 shutter slit: Uniform correction averages corrections for 1x1 and 1x3 apertures\n",
      "2024-02-22 19:48:52,035 - stpipe.Spec2Pipeline.pathloss - INFO - Working on slit 38\n",
      "2024-02-22 19:48:52,035 - stpipe.Spec2Pipeline.pathloss - INFO - Shutter state = x1, using MOS1x3 entry in ref file\n",
      "2024-02-22 19:48:52,036 - stpipe.Spec2Pipeline.pathloss - INFO - Shutter below fiducial is closed, using lower region of pathloss array\n",
      "2024-02-22 19:48:52,036 - stpipe.Spec2Pipeline.pathloss - INFO - 2 shutter slit: Uniform correction averages corrections for 1x1 and 1x3 apertures\n",
      "2024-02-22 19:48:52,057 - stpipe.Spec2Pipeline.pathloss - INFO - Working on slit 39\n",
      "2024-02-22 19:48:52,058 - stpipe.Spec2Pipeline.pathloss - INFO - Shutter state = x1, using MOS1x3 entry in ref file\n",
      "2024-02-22 19:48:52,058 - stpipe.Spec2Pipeline.pathloss - INFO - Shutter below fiducial is closed, using lower region of pathloss array\n",
      "2024-02-22 19:48:52,059 - stpipe.Spec2Pipeline.pathloss - INFO - 2 shutter slit: Uniform correction averages corrections for 1x1 and 1x3 apertures\n",
      "2024-02-22 19:48:52,084 - stpipe.Spec2Pipeline.pathloss - INFO - Working on slit 40\n",
      "2024-02-22 19:48:52,085 - stpipe.Spec2Pipeline.pathloss - INFO - Shutter state = x1, using MOS1x3 entry in ref file\n",
      "2024-02-22 19:48:52,085 - stpipe.Spec2Pipeline.pathloss - INFO - Shutter below fiducial is closed, using lower region of pathloss array\n",
      "2024-02-22 19:48:52,085 - stpipe.Spec2Pipeline.pathloss - INFO - 2 shutter slit: Uniform correction averages corrections for 1x1 and 1x3 apertures\n",
      "2024-02-22 19:48:52,110 - stpipe.Spec2Pipeline.pathloss - INFO - Working on slit 41\n",
      "2024-02-22 19:48:52,110 - stpipe.Spec2Pipeline.pathloss - INFO - Shutter state = x1, using MOS1x3 entry in ref file\n",
      "2024-02-22 19:48:52,110 - stpipe.Spec2Pipeline.pathloss - INFO - Shutter below fiducial is closed, using lower region of pathloss array\n",
      "2024-02-22 19:48:52,111 - stpipe.Spec2Pipeline.pathloss - INFO - 2 shutter slit: Uniform correction averages corrections for 1x1 and 1x3 apertures\n",
      "2024-02-22 19:48:52,131 - stpipe.Spec2Pipeline.pathloss - INFO - Working on slit 42\n",
      "2024-02-22 19:48:52,132 - stpipe.Spec2Pipeline.pathloss - INFO - Shutter state = x1, using MOS1x3 entry in ref file\n",
      "2024-02-22 19:48:52,132 - stpipe.Spec2Pipeline.pathloss - INFO - Shutter below fiducial is closed, using lower region of pathloss array\n",
      "2024-02-22 19:48:52,132 - stpipe.Spec2Pipeline.pathloss - INFO - 2 shutter slit: Uniform correction averages corrections for 1x1 and 1x3 apertures\n",
      "2024-02-22 19:48:52,153 - stpipe.Spec2Pipeline.pathloss - INFO - Working on slit 43\n",
      "2024-02-22 19:48:52,153 - stpipe.Spec2Pipeline.pathloss - INFO - Shutter state = x1, using MOS1x3 entry in ref file\n",
      "2024-02-22 19:48:52,154 - stpipe.Spec2Pipeline.pathloss - INFO - Shutter below fiducial is closed, using lower region of pathloss array\n",
      "2024-02-22 19:48:52,154 - stpipe.Spec2Pipeline.pathloss - INFO - 2 shutter slit: Uniform correction averages corrections for 1x1 and 1x3 apertures\n",
      "2024-02-22 19:48:52,180 - stpipe.Spec2Pipeline.pathloss - INFO - Step pathloss done\n",
      "2024-02-22 19:48:52,962 - stpipe.Spec2Pipeline.barshadow - INFO - Step barshadow running with args (<MultiSlitModel from jw02609007001_03101_00002_nrs1_rate.fits>,).\n",
      "2024-02-22 19:48:52,963 - stpipe.Spec2Pipeline.barshadow - INFO - Step barshadow parameters are: {'pre_hooks': [], 'post_hooks': [], 'output_file': None, 'output_dir': None, 'output_ext': '.fits', 'output_use_model': False, 'output_use_index': True, 'save_results': False, 'skip': False, 'suffix': None, 'search_output_file': True, 'input_dir': 'miscdata/jwst_outputs/redux_test', 'inverse': False, 'source_type': None}\n",
      "2024-02-22 19:48:53,036 - stpipe.Spec2Pipeline.barshadow - INFO - Using BARSHADOW reference file /containerapp/crds_cache/references/jwst/nirspec/jwst_nirspec_barshadow_0001.fits\n",
      "2024-02-22 19:48:55,080 - stpipe.Spec2Pipeline.barshadow - INFO - Working on slitlet 24\n",
      "2024-02-22 19:48:55,090 - stpipe.Spec2Pipeline.barshadow - INFO - Bar shadow correction skipped for slitlet 24 (source not uniform)\n",
      "2024-02-22 19:48:55,096 - stpipe.Spec2Pipeline.barshadow - INFO - Working on slitlet 25\n",
      "2024-02-22 19:48:55,107 - stpipe.Spec2Pipeline.barshadow - INFO - Bar shadow correction skipped for slitlet 25 (source not uniform)\n",
      "2024-02-22 19:48:55,113 - stpipe.Spec2Pipeline.barshadow - INFO - Working on slitlet 28\n",
      "2024-02-22 19:48:55,123 - stpipe.Spec2Pipeline.barshadow - INFO - Bar shadow correction skipped for slitlet 28 (source not uniform)\n",
      "2024-02-22 19:48:55,129 - stpipe.Spec2Pipeline.barshadow - INFO - Working on slitlet 29\n",
      "2024-02-22 19:48:55,139 - stpipe.Spec2Pipeline.barshadow - INFO - Bar shadow correction skipped for slitlet 29 (source not uniform)\n",
      "2024-02-22 19:48:55,146 - stpipe.Spec2Pipeline.barshadow - INFO - Working on slitlet 31\n",
      "2024-02-22 19:48:55,164 - stpipe.Spec2Pipeline.barshadow - INFO - Bar shadow correction skipped for slitlet 31 (source not uniform)\n",
      "2024-02-22 19:48:55,176 - stpipe.Spec2Pipeline.barshadow - INFO - Working on slitlet 32\n",
      "2024-02-22 19:48:55,191 - stpipe.Spec2Pipeline.barshadow - INFO - Bar shadow correction skipped for slitlet 32 (source not uniform)\n",
      "2024-02-22 19:48:55,198 - stpipe.Spec2Pipeline.barshadow - INFO - Working on slitlet 33\n",
      "2024-02-22 19:48:55,208 - stpipe.Spec2Pipeline.barshadow - INFO - Bar shadow correction skipped for slitlet 33 (source not uniform)\n",
      "2024-02-22 19:48:55,215 - stpipe.Spec2Pipeline.barshadow - INFO - Working on slitlet 34\n",
      "2024-02-22 19:48:55,225 - stpipe.Spec2Pipeline.barshadow - INFO - Bar shadow correction skipped for slitlet 34 (source not uniform)\n",
      "2024-02-22 19:48:55,231 - stpipe.Spec2Pipeline.barshadow - INFO - Working on slitlet 35\n",
      "2024-02-22 19:48:55,242 - stpipe.Spec2Pipeline.barshadow - INFO - Bar shadow correction skipped for slitlet 35 (source not uniform)\n",
      "2024-02-22 19:48:55,248 - stpipe.Spec2Pipeline.barshadow - INFO - Working on slitlet 37\n",
      "2024-02-22 19:48:55,258 - stpipe.Spec2Pipeline.barshadow - INFO - Bar shadow correction skipped for slitlet 37 (source not uniform)\n",
      "2024-02-22 19:48:55,264 - stpipe.Spec2Pipeline.barshadow - INFO - Working on slitlet 40\n",
      "2024-02-22 19:48:55,275 - stpipe.Spec2Pipeline.barshadow - INFO - Bar shadow correction skipped for slitlet 40 (source not uniform)\n",
      "2024-02-22 19:48:55,281 - stpipe.Spec2Pipeline.barshadow - INFO - Working on slitlet 13\n",
      "2024-02-22 19:48:55,291 - stpipe.Spec2Pipeline.barshadow - INFO - Bar shadow correction skipped for slitlet 13 (source not uniform)\n",
      "2024-02-22 19:48:55,297 - stpipe.Spec2Pipeline.barshadow - INFO - Working on slitlet 14\n",
      "2024-02-22 19:48:55,307 - stpipe.Spec2Pipeline.barshadow - INFO - Bar shadow correction skipped for slitlet 14 (source not uniform)\n",
      "2024-02-22 19:48:55,313 - stpipe.Spec2Pipeline.barshadow - INFO - Working on slitlet 15\n",
      "2024-02-22 19:48:56,246 - stpipe.Spec2Pipeline.barshadow - INFO - Bar shadow correction skipped for slitlet 15 (source not uniform)\n",
      "2024-02-22 19:48:56,252 - stpipe.Spec2Pipeline.barshadow - INFO - Working on slitlet 18\n",
      "2024-02-22 19:48:56,262 - stpipe.Spec2Pipeline.barshadow - INFO - Bar shadow correction skipped for slitlet 18 (source not uniform)\n",
      "2024-02-22 19:48:56,268 - stpipe.Spec2Pipeline.barshadow - INFO - Working on slitlet 19\n",
      "2024-02-22 19:48:56,284 - stpipe.Spec2Pipeline.barshadow - INFO - Bar shadow correction skipped for slitlet 19 (source not uniform)\n",
      "2024-02-22 19:48:56,296 - stpipe.Spec2Pipeline.barshadow - INFO - Working on slitlet 21\n",
      "2024-02-22 19:48:56,310 - stpipe.Spec2Pipeline.barshadow - INFO - Bar shadow correction skipped for slitlet 21 (source not uniform)\n",
      "2024-02-22 19:48:56,317 - stpipe.Spec2Pipeline.barshadow - INFO - Working on slitlet 22\n",
      "2024-02-22 19:48:56,330 - stpipe.Spec2Pipeline.barshadow - INFO - Bar shadow correction skipped for slitlet 22 (source not uniform)\n",
      "2024-02-22 19:48:56,337 - stpipe.Spec2Pipeline.barshadow - INFO - Working on slitlet 23\n",
      "2024-02-22 19:48:56,346 - stpipe.Spec2Pipeline.barshadow - INFO - Bar shadow correction skipped for slitlet 23 (source not uniform)\n",
      "2024-02-22 19:48:56,353 - stpipe.Spec2Pipeline.barshadow - INFO - Working on slitlet 26\n",
      "2024-02-22 19:48:56,364 - stpipe.Spec2Pipeline.barshadow - INFO - Bar shadow correction skipped for slitlet 26 (source not uniform)\n",
      "2024-02-22 19:48:56,370 - stpipe.Spec2Pipeline.barshadow - INFO - Working on slitlet 27\n",
      "2024-02-22 19:48:56,380 - stpipe.Spec2Pipeline.barshadow - INFO - Bar shadow correction skipped for slitlet 27 (source not uniform)\n",
      "2024-02-22 19:48:56,386 - stpipe.Spec2Pipeline.barshadow - INFO - Working on slitlet 30\n",
      "2024-02-22 19:48:56,396 - stpipe.Spec2Pipeline.barshadow - INFO - Bar shadow correction skipped for slitlet 30 (source not uniform)\n",
      "2024-02-22 19:48:56,402 - stpipe.Spec2Pipeline.barshadow - INFO - Working on slitlet 36\n",
      "2024-02-22 19:48:56,412 - stpipe.Spec2Pipeline.barshadow - INFO - Bar shadow correction skipped for slitlet 36 (source not uniform)\n",
      "2024-02-22 19:48:56,418 - stpipe.Spec2Pipeline.barshadow - INFO - Working on slitlet 38\n",
      "2024-02-22 19:48:56,431 - stpipe.Spec2Pipeline.barshadow - INFO - Bar shadow correction skipped for slitlet 38 (source not uniform)\n",
      "2024-02-22 19:48:56,443 - stpipe.Spec2Pipeline.barshadow - INFO - Working on slitlet 39\n",
      "2024-02-22 19:48:56,459 - stpipe.Spec2Pipeline.barshadow - INFO - Bar shadow correction skipped for slitlet 39 (source not uniform)\n",
      "2024-02-22 19:48:56,467 - stpipe.Spec2Pipeline.barshadow - INFO - Working on slitlet 41\n",
      "2024-02-22 19:48:56,484 - stpipe.Spec2Pipeline.barshadow - INFO - Bar shadow correction skipped for slitlet 41 (source not uniform)\n",
      "2024-02-22 19:48:56,490 - stpipe.Spec2Pipeline.barshadow - INFO - Working on slitlet 42\n",
      "2024-02-22 19:48:56,500 - stpipe.Spec2Pipeline.barshadow - INFO - Bar shadow correction skipped for slitlet 42 (source not uniform)\n",
      "2024-02-22 19:48:56,507 - stpipe.Spec2Pipeline.barshadow - INFO - Working on slitlet 45\n",
      "2024-02-22 19:48:56,516 - stpipe.Spec2Pipeline.barshadow - INFO - Bar shadow correction skipped for slitlet 45 (source not uniform)\n",
      "2024-02-22 19:48:56,523 - stpipe.Spec2Pipeline.barshadow - INFO - Working on slitlet 46\n",
      "2024-02-22 19:48:56,533 - stpipe.Spec2Pipeline.barshadow - INFO - Bar shadow correction skipped for slitlet 46 (source not uniform)\n",
      "2024-02-22 19:48:56,539 - stpipe.Spec2Pipeline.barshadow - INFO - Working on slitlet 48\n",
      "2024-02-22 19:48:56,549 - stpipe.Spec2Pipeline.barshadow - INFO - Bar shadow correction skipped for slitlet 48 (source not uniform)\n",
      "2024-02-22 19:48:56,556 - stpipe.Spec2Pipeline.barshadow - INFO - Working on slitlet 49\n",
      "2024-02-22 19:48:56,567 - stpipe.Spec2Pipeline.barshadow - INFO - Bar shadow correction skipped for slitlet 49 (source not uniform)\n",
      "2024-02-22 19:48:56,574 - stpipe.Spec2Pipeline.barshadow - INFO - Working on slitlet 43\n",
      "2024-02-22 19:48:56,587 - stpipe.Spec2Pipeline.barshadow - INFO - Bar shadow correction skipped for slitlet 43 (source not uniform)\n",
      "2024-02-22 19:48:56,595 - stpipe.Spec2Pipeline.barshadow - INFO - Working on slitlet 44\n",
      "2024-02-22 19:48:56,607 - stpipe.Spec2Pipeline.barshadow - INFO - Bar shadow correction skipped for slitlet 44 (source not uniform)\n",
      "2024-02-22 19:48:56,615 - stpipe.Spec2Pipeline.barshadow - INFO - Working on slitlet 47\n",
      "2024-02-22 19:48:56,628 - stpipe.Spec2Pipeline.barshadow - INFO - Bar shadow correction skipped for slitlet 47 (source not uniform)\n",
      "2024-02-22 19:48:56,635 - stpipe.Spec2Pipeline.barshadow - INFO - Working on slitlet 50\n",
      "2024-02-22 19:48:56,646 - stpipe.Spec2Pipeline.barshadow - INFO - Bar shadow correction skipped for slitlet 50 (source not uniform)\n",
      "2024-02-22 19:48:56,652 - stpipe.Spec2Pipeline.barshadow - INFO - Working on slitlet 51\n",
      "2024-02-22 19:48:56,662 - stpipe.Spec2Pipeline.barshadow - INFO - Bar shadow correction skipped for slitlet 51 (source not uniform)\n",
      "2024-02-22 19:48:56,668 - stpipe.Spec2Pipeline.barshadow - INFO - Working on slitlet 52\n",
      "2024-02-22 19:48:56,679 - stpipe.Spec2Pipeline.barshadow - INFO - Bar shadow correction skipped for slitlet 52 (source not uniform)\n",
      "2024-02-22 19:48:56,686 - stpipe.Spec2Pipeline.barshadow - INFO - Working on slitlet 53\n",
      "2024-02-22 19:48:56,696 - stpipe.Spec2Pipeline.barshadow - INFO - Bar shadow correction skipped for slitlet 53 (source not uniform)\n",
      "2024-02-22 19:48:56,702 - stpipe.Spec2Pipeline.barshadow - INFO - Working on slitlet 54\n",
      "2024-02-22 19:48:56,713 - stpipe.Spec2Pipeline.barshadow - INFO - Bar shadow correction skipped for slitlet 54 (source not uniform)\n",
      "2024-02-22 19:48:56,719 - stpipe.Spec2Pipeline.barshadow - INFO - Working on slitlet 55\n",
      "2024-02-22 19:48:56,730 - stpipe.Spec2Pipeline.barshadow - INFO - Bar shadow correction skipped for slitlet 55 (source not uniform)\n",
      "2024-02-22 19:48:56,737 - stpipe.Spec2Pipeline.barshadow - INFO - Working on slitlet 56\n",
      "2024-02-22 19:48:56,752 - stpipe.Spec2Pipeline.barshadow - INFO - Bar shadow correction skipped for slitlet 56 (source not uniform)\n",
      "2024-02-22 19:48:56,764 - stpipe.Spec2Pipeline.barshadow - INFO - Working on slitlet 57\n",
      "2024-02-22 19:48:56,776 - stpipe.Spec2Pipeline.barshadow - INFO - Bar shadow correction skipped for slitlet 57 (source not uniform)\n",
      "2024-02-22 19:48:56,786 - stpipe.Spec2Pipeline.barshadow - INFO - Working on slitlet 58\n",
      "2024-02-22 19:48:56,802 - stpipe.Spec2Pipeline.barshadow - INFO - Bar shadow correction skipped for slitlet 58 (source not uniform)\n",
      "2024-02-22 19:48:56,811 - stpipe.Spec2Pipeline.barshadow - INFO - Working on slitlet 59\n",
      "2024-02-22 19:48:56,827 - stpipe.Spec2Pipeline.barshadow - INFO - Bar shadow correction skipped for slitlet 59 (source not uniform)\n",
      "2024-02-22 19:48:56,838 - stpipe.Spec2Pipeline.barshadow - INFO - Step barshadow done\n",
      "2024-02-22 19:48:58,045 - stpipe.Spec2Pipeline.photom - INFO - Step photom running with args (<MultiSlitModel from jw02609007001_03101_00002_nrs1_rate.fits>,).\n",
      "2024-02-22 19:48:58,047 - stpipe.Spec2Pipeline.photom - INFO - Step photom parameters are: {'pre_hooks': [], 'post_hooks': [], 'output_file': None, 'output_dir': None, 'output_ext': '.fits', 'output_use_model': False, 'output_use_index': True, 'save_results': False, 'skip': False, 'suffix': None, 'search_output_file': True, 'input_dir': 'miscdata/jwst_outputs/redux_test', 'inverse': False, 'source_type': None, 'mrs_time_correction': True}\n",
      "2024-02-22 19:48:58,244 - stpipe.Spec2Pipeline.photom - INFO - Using photom reference file: /containerapp/crds_cache/references/jwst/nirspec/jwst_nirspec_photom_0015.fits\n",
      "2024-02-22 19:48:58,244 - stpipe.Spec2Pipeline.photom - INFO - Using area reference file: /containerapp/crds_cache/references/jwst/nirspec/jwst_nirspec_area_0048.fits\n",
      "2024-02-22 19:49:00,600 - stpipe.Spec2Pipeline.photom - INFO - Using instrument: NIRSPEC\n",
      "2024-02-22 19:49:00,600 - stpipe.Spec2Pipeline.photom - INFO -  detector: NRS1\n",
      "2024-02-22 19:49:00,601 - stpipe.Spec2Pipeline.photom - INFO -  exp_type: NRS_MSASPEC\n",
      "2024-02-22 19:49:00,601 - stpipe.Spec2Pipeline.photom - INFO -  filter: F100LP\n",
      "2024-02-22 19:49:00,601 - stpipe.Spec2Pipeline.photom - INFO -  grating: G140H\n",
      "2024-02-22 19:49:00,752 - stpipe.Spec2Pipeline.photom - INFO - Working on slit 24\n",
      "2024-02-22 19:49:00,752 - stpipe.Spec2Pipeline.photom - INFO - PHOTMJSR value: 1\n",
      "2024-02-22 19:49:00,760 - stpipe.Spec2Pipeline.photom - INFO - Working on slit 25\n",
      "2024-02-22 19:49:00,761 - stpipe.Spec2Pipeline.photom - INFO - PHOTMJSR value: 1\n",
      "2024-02-22 19:49:00,770 - stpipe.Spec2Pipeline.photom - INFO - Working on slit 28\n",
      "2024-02-22 19:49:00,770 - stpipe.Spec2Pipeline.photom - INFO - PHOTMJSR value: 1\n",
      "2024-02-22 19:49:00,778 - stpipe.Spec2Pipeline.photom - INFO - Working on slit 29\n",
      "2024-02-22 19:49:00,778 - stpipe.Spec2Pipeline.photom - INFO - PHOTMJSR value: 1\n",
      "2024-02-22 19:49:00,787 - stpipe.Spec2Pipeline.photom - INFO - Working on slit 31\n",
      "2024-02-22 19:49:00,787 - stpipe.Spec2Pipeline.photom - INFO - PHOTMJSR value: 1\n",
      "2024-02-22 19:49:00,795 - stpipe.Spec2Pipeline.photom - INFO - Working on slit 32\n",
      "2024-02-22 19:49:00,796 - stpipe.Spec2Pipeline.photom - INFO - PHOTMJSR value: 1\n",
      "2024-02-22 19:49:00,804 - stpipe.Spec2Pipeline.photom - INFO - Working on slit 33\n",
      "2024-02-22 19:49:00,805 - stpipe.Spec2Pipeline.photom - INFO - PHOTMJSR value: 1\n",
      "2024-02-22 19:49:00,813 - stpipe.Spec2Pipeline.photom - INFO - Working on slit 34\n",
      "2024-02-22 19:49:00,813 - stpipe.Spec2Pipeline.photom - INFO - PHOTMJSR value: 1\n",
      "2024-02-22 19:49:00,821 - stpipe.Spec2Pipeline.photom - INFO - Working on slit 35\n",
      "2024-02-22 19:49:00,821 - stpipe.Spec2Pipeline.photom - INFO - PHOTMJSR value: 1\n",
      "2024-02-22 19:49:00,829 - stpipe.Spec2Pipeline.photom - INFO - Working on slit 37\n",
      "2024-02-22 19:49:00,829 - stpipe.Spec2Pipeline.photom - INFO - PHOTMJSR value: 1\n",
      "2024-02-22 19:49:00,838 - stpipe.Spec2Pipeline.photom - INFO - Working on slit 40\n",
      "2024-02-22 19:49:00,838 - stpipe.Spec2Pipeline.photom - INFO - PHOTMJSR value: 1\n",
      "2024-02-22 19:49:00,847 - stpipe.Spec2Pipeline.photom - INFO - Working on slit 13\n",
      "2024-02-22 19:49:00,847 - stpipe.Spec2Pipeline.photom - INFO - PHOTMJSR value: 1\n",
      "2024-02-22 19:49:00,854 - stpipe.Spec2Pipeline.photom - INFO - Working on slit 14\n",
      "2024-02-22 19:49:00,855 - stpipe.Spec2Pipeline.photom - INFO - PHOTMJSR value: 1\n",
      "2024-02-22 19:49:00,862 - stpipe.Spec2Pipeline.photom - INFO - Working on slit 15\n",
      "2024-02-22 19:49:00,863 - stpipe.Spec2Pipeline.photom - INFO - PHOTMJSR value: 1\n",
      "2024-02-22 19:49:00,870 - stpipe.Spec2Pipeline.photom - INFO - Working on slit 18\n",
      "2024-02-22 19:49:00,871 - stpipe.Spec2Pipeline.photom - INFO - PHOTMJSR value: 1\n",
      "2024-02-22 19:49:00,878 - stpipe.Spec2Pipeline.photom - INFO - Working on slit 19\n",
      "2024-02-22 19:49:00,879 - stpipe.Spec2Pipeline.photom - INFO - PHOTMJSR value: 1\n",
      "2024-02-22 19:49:00,886 - stpipe.Spec2Pipeline.photom - INFO - Working on slit 21\n",
      "2024-02-22 19:49:00,886 - stpipe.Spec2Pipeline.photom - INFO - PHOTMJSR value: 1\n",
      "2024-02-22 19:49:00,894 - stpipe.Spec2Pipeline.photom - INFO - Working on slit 22\n",
      "2024-02-22 19:49:00,894 - stpipe.Spec2Pipeline.photom - INFO - PHOTMJSR value: 1\n",
      "2024-02-22 19:49:00,902 - stpipe.Spec2Pipeline.photom - INFO - Working on slit 23\n",
      "2024-02-22 19:49:00,902 - stpipe.Spec2Pipeline.photom - INFO - PHOTMJSR value: 1\n",
      "2024-02-22 19:49:00,910 - stpipe.Spec2Pipeline.photom - INFO - Working on slit 26\n",
      "2024-02-22 19:49:00,911 - stpipe.Spec2Pipeline.photom - INFO - PHOTMJSR value: 1\n",
      "2024-02-22 19:49:00,923 - stpipe.Spec2Pipeline.photom - INFO - Working on slit 27\n",
      "2024-02-22 19:49:00,924 - stpipe.Spec2Pipeline.photom - INFO - PHOTMJSR value: 1\n",
      "2024-02-22 19:49:00,939 - stpipe.Spec2Pipeline.photom - INFO - Working on slit 30\n",
      "2024-02-22 19:49:00,940 - stpipe.Spec2Pipeline.photom - INFO - PHOTMJSR value: 1\n",
      "2024-02-22 19:49:00,952 - stpipe.Spec2Pipeline.photom - INFO - Working on slit 36\n",
      "2024-02-22 19:49:00,952 - stpipe.Spec2Pipeline.photom - INFO - PHOTMJSR value: 1\n",
      "2024-02-22 19:49:00,960 - stpipe.Spec2Pipeline.photom - INFO - Working on slit 38\n",
      "2024-02-22 19:49:00,960 - stpipe.Spec2Pipeline.photom - INFO - PHOTMJSR value: 1\n",
      "2024-02-22 19:49:00,968 - stpipe.Spec2Pipeline.photom - INFO - Working on slit 39\n",
      "2024-02-22 19:49:00,969 - stpipe.Spec2Pipeline.photom - INFO - PHOTMJSR value: 1\n",
      "2024-02-22 19:49:00,980 - stpipe.Spec2Pipeline.photom - INFO - Working on slit 41\n",
      "2024-02-22 19:49:00,981 - stpipe.Spec2Pipeline.photom - INFO - PHOTMJSR value: 1\n",
      "2024-02-22 19:49:00,989 - stpipe.Spec2Pipeline.photom - INFO - Working on slit 42\n",
      "2024-02-22 19:49:00,989 - stpipe.Spec2Pipeline.photom - INFO - PHOTMJSR value: 1\n",
      "2024-02-22 19:49:00,998 - stpipe.Spec2Pipeline.photom - INFO - Working on slit 45\n",
      "2024-02-22 19:49:00,998 - stpipe.Spec2Pipeline.photom - INFO - PHOTMJSR value: 1\n",
      "2024-02-22 19:49:01,006 - stpipe.Spec2Pipeline.photom - INFO - Working on slit 46\n",
      "2024-02-22 19:49:01,007 - stpipe.Spec2Pipeline.photom - INFO - PHOTMJSR value: 1\n",
      "2024-02-22 19:49:01,014 - stpipe.Spec2Pipeline.photom - INFO - Working on slit 48\n",
      "2024-02-22 19:49:01,015 - stpipe.Spec2Pipeline.photom - INFO - PHOTMJSR value: 1\n",
      "2024-02-22 19:49:01,023 - stpipe.Spec2Pipeline.photom - INFO - Working on slit 49\n",
      "2024-02-22 19:49:01,024 - stpipe.Spec2Pipeline.photom - INFO - PHOTMJSR value: 1\n",
      "2024-02-22 19:49:01,031 - stpipe.Spec2Pipeline.photom - INFO - Working on slit 43\n",
      "2024-02-22 19:49:01,032 - stpipe.Spec2Pipeline.photom - INFO - PHOTMJSR value: 1\n",
      "2024-02-22 19:49:01,040 - stpipe.Spec2Pipeline.photom - INFO - Working on slit 44\n",
      "2024-02-22 19:49:01,041 - stpipe.Spec2Pipeline.photom - INFO - PHOTMJSR value: 1\n",
      "2024-02-22 19:49:01,048 - stpipe.Spec2Pipeline.photom - INFO - Working on slit 47\n",
      "2024-02-22 19:49:01,048 - stpipe.Spec2Pipeline.photom - INFO - PHOTMJSR value: 1\n",
      "2024-02-22 19:49:01,060 - stpipe.Spec2Pipeline.photom - INFO - Working on slit 50\n",
      "2024-02-22 19:49:01,061 - stpipe.Spec2Pipeline.photom - INFO - PHOTMJSR value: 1\n",
      "2024-02-22 19:49:01,074 - stpipe.Spec2Pipeline.photom - INFO - Working on slit 51\n",
      "2024-02-22 19:49:01,074 - stpipe.Spec2Pipeline.photom - INFO - PHOTMJSR value: 1\n",
      "2024-02-22 19:49:01,087 - stpipe.Spec2Pipeline.photom - INFO - Working on slit 52\n",
      "2024-02-22 19:49:01,088 - stpipe.Spec2Pipeline.photom - INFO - PHOTMJSR value: 1\n",
      "2024-02-22 19:49:01,101 - stpipe.Spec2Pipeline.photom - INFO - Working on slit 53\n",
      "2024-02-22 19:49:01,102 - stpipe.Spec2Pipeline.photom - INFO - PHOTMJSR value: 1\n",
      "2024-02-22 19:49:01,117 - stpipe.Spec2Pipeline.photom - INFO - Working on slit 54\n",
      "2024-02-22 19:49:01,117 - stpipe.Spec2Pipeline.photom - INFO - PHOTMJSR value: 1\n",
      "2024-02-22 19:49:01,132 - stpipe.Spec2Pipeline.photom - INFO - Working on slit 55\n",
      "2024-02-22 19:49:01,134 - stpipe.Spec2Pipeline.photom - INFO - PHOTMJSR value: 1\n",
      "2024-02-22 19:49:01,153 - stpipe.Spec2Pipeline.photom - INFO - Working on slit 56\n",
      "2024-02-22 19:49:01,154 - stpipe.Spec2Pipeline.photom - INFO - PHOTMJSR value: 1\n",
      "2024-02-22 19:49:01,172 - stpipe.Spec2Pipeline.photom - INFO - Working on slit 57\n",
      "2024-02-22 19:49:01,172 - stpipe.Spec2Pipeline.photom - INFO - PHOTMJSR value: 1\n",
      "2024-02-22 19:49:01,182 - stpipe.Spec2Pipeline.photom - INFO - Working on slit 58\n",
      "2024-02-22 19:49:01,183 - stpipe.Spec2Pipeline.photom - INFO - PHOTMJSR value: 1\n",
      "2024-02-22 19:49:01,194 - stpipe.Spec2Pipeline.photom - INFO - Working on slit 59\n",
      "2024-02-22 19:49:01,195 - stpipe.Spec2Pipeline.photom - INFO - PHOTMJSR value: 1\n",
      "2024-02-22 19:49:01,217 - stpipe.Spec2Pipeline.photom - INFO - Step photom done\n",
      "2024-02-22 19:49:02,517 - stpipe.Spec2Pipeline.pixel_replace - INFO - Step pixel_replace running with args (<MultiSlitModel from jw02609007001_03101_00002_nrs1_rate.fits>,).\n",
      "2024-02-22 19:49:02,519 - stpipe.Spec2Pipeline.pixel_replace - INFO - Step pixel_replace parameters are: {'pre_hooks': [], 'post_hooks': [], 'output_file': None, 'output_dir': None, 'output_ext': '.fits', 'output_use_model': False, 'output_use_index': True, 'save_results': False, 'skip': True, 'suffix': None, 'search_output_file': True, 'input_dir': 'miscdata/jwst_outputs/redux_test', 'algorithm': 'fit_profile', 'n_adjacent_cols': 3}\n",
      "2024-02-22 19:49:02,520 - stpipe.Spec2Pipeline.pixel_replace - INFO - Step skipped.\n",
      "2024-02-22 19:49:02,524 - stpipe.Spec2Pipeline.pixel_replace - INFO - Step pixel_replace done\n",
      "2024-02-22 19:49:06,174 - stpipe.Spec2Pipeline.resample_spec - INFO - Step resample_spec running with args (<MultiSlitModel from miscdata/jwst_outputs/redux_test/jw02609007001_03101_00002_nrs1_cal.fits>,).\n",
      "2024-02-22 19:49:06,177 - stpipe.Spec2Pipeline.resample_spec - INFO - Step resample_spec parameters are: {'pre_hooks': [], 'post_hooks': [], 'output_file': None, 'output_dir': None, 'output_ext': '.fits', 'output_use_model': False, 'output_use_index': True, 'save_results': True, 'skip': True, 'suffix': 's2d', 'search_output_file': True, 'input_dir': 'miscdata/jwst_outputs/redux_test', 'pixfrac': 1.0, 'kernel': 'square', 'fillval': 'INDEF', 'weight_type': 'ivm', 'output_shape': None, 'crpix': None, 'crval': None, 'rotation': None, 'pixel_scale_ratio': 1.0, 'pixel_scale': None, 'output_wcs': '', 'single': False, 'blendheaders': True, 'allowed_memory': None, 'in_memory': True}\n",
      "2024-02-22 19:49:06,177 - stpipe.Spec2Pipeline.resample_spec - INFO - Step skipped.\n",
      "2024-02-22 19:49:06,180 - stpipe.Spec2Pipeline.resample_spec - INFO - Step resample_spec done\n",
      "2024-02-22 19:49:09,677 - stpipe.Spec2Pipeline.extract_1d - INFO - Step extract_1d running with args (<MultiSlitModel from miscdata/jwst_outputs/redux_test/jw02609007001_03101_00002_nrs1_cal.fits>,).\n",
      "2024-02-22 19:49:09,679 - stpipe.Spec2Pipeline.extract_1d - INFO - Step extract_1d parameters are: {'pre_hooks': [], 'post_hooks': [], 'output_file': None, 'output_dir': None, 'output_ext': '.fits', 'output_use_model': False, 'output_use_index': True, 'save_results': True, 'skip': True, 'suffix': 'x1d', 'search_output_file': True, 'input_dir': 'miscdata/jwst_outputs/redux_test', 'smoothing_length': None, 'bkg_fit': None, 'bkg_order': None, 'bkg_sigma_clip': 3.0, 'log_increment': 50, 'subtract_background': None, 'use_source_posn': None, 'center_xy': None, 'apply_apcorr': True, 'ifu_autocen': False, 'ifu_rfcorr': False, 'ifu_set_srctype': None, 'ifu_rscale': None, 'soss_atoca': True, 'soss_threshold': 0.01, 'soss_n_os': 2, 'soss_wave_grid_in': None, 'soss_wave_grid_out': None, 'soss_estimate': None, 'soss_rtol': 0.0001, 'soss_max_grid_size': 20000, 'soss_transform': None, 'soss_tikfac': None, 'soss_width': 40.0, 'soss_bad_pix': 'masking', 'soss_modelname': None}\n",
      "2024-02-22 19:49:09,679 - stpipe.Spec2Pipeline.extract_1d - INFO - Step skipped.\n",
      "2024-02-22 19:49:09,682 - stpipe.Spec2Pipeline.extract_1d - INFO - Step extract_1d done\n",
      "2024-02-22 19:49:09,683 - stpipe.Spec2Pipeline - INFO - Finished processing product jw02609007001_03101_00002_nrs1\n",
      "2024-02-22 19:49:09,689 - stpipe.Spec2Pipeline - INFO - Ending calwebb_spec2\n",
      "2024-02-22 19:49:09,689 - stpipe.Spec2Pipeline - INFO - Results used CRDS context: jwst_1041.pmap\n",
      "2024-02-22 19:49:12,878 - stpipe.Spec2Pipeline - WARNING - /usr/local/lib/python3.11/site-packages/asdf/yamlutil.py:282: AsdfConversionWarning: A ndarray subclass (<class 'astropy.io.fits.fitsrec.FITS_rec'>) was converted as a ndarray. This behavior will be removed from a future version of ASDF. See https://asdf.readthedocs.io/en/latest/asdf/config.html#convert-unknown-ndarray-subclasses\n",
      "2024-02-22 19:49:12,879 - stpipe.Spec2Pipeline - WARNING -   warnings.warn(\n",
      "2024-02-22 19:49:12,879 - stpipe.Spec2Pipeline - WARNING - \n",
      "2024-02-22 19:49:15,438 - stpipe.Spec2Pipeline - WARNING - /usr/local/lib/python3.11/site-packages/asdf/yamlutil.py:282: AsdfConversionWarning: A ndarray subclass (<class 'astropy.io.fits.fitsrec.FITS_rec'>) was converted as a ndarray. This behavior will be removed from a future version of ASDF. See https://asdf.readthedocs.io/en/latest/asdf/config.html#convert-unknown-ndarray-subclasses\n",
      "2024-02-22 19:49:15,439 - stpipe.Spec2Pipeline - WARNING -   warnings.warn(\n",
      "2024-02-22 19:49:15,439 - stpipe.Spec2Pipeline - WARNING - \n",
      "2024-02-22 19:49:21,173 - stpipe.Spec2Pipeline - INFO - Saved model in miscdata/jwst_outputs/redux_test/jw02609007001_03101_00002_nrs1_cal.fits\n",
      "2024-02-22 19:49:21,173 - stpipe.Spec2Pipeline - INFO - Step Spec2Pipeline done\n"
     ]
    }
   ],
   "source": [
    "spec2 = Spec2Pipeline()\n",
    "spec2.save_results = True\n",
    "spec2.output_dir = str(redux_path)\n",
    "\n",
    "spec2.srctype.source_type = 'POINT'\n",
    "spec2.flat_field.save_interpolated_flat = True\n",
    "\n",
    "spec2.bkg_subtract.skip = False\n",
    "spec2.resample_spec.skip = True\n",
    "spec2.extract_1d.skip = True\n",
    "\n",
    "spec2.assign_wcs.slit_y_high *= 2\n",
    "spec2.assign_wcs.slit_y_low *= 2\n",
    "\n",
    "result = spec2(redux_path / asn_fn)"
   ]
  },
  {
   "cell_type": "code",
   "execution_count": 25,
   "id": "97605d7b-d737-44bb-a4be-eb90f039ab67",
   "metadata": {},
   "outputs": [
    {
     "name": "stdout",
     "output_type": "stream",
     "text": [
      "jw02609-o007_20240212t021359_spec2_00004_asn.json\n",
      "\u001b[0m\u001b[01;36mjw02609007001_01_msa.fits\u001b[0m@\n",
      "jw02609007001_03101_00002_nrs1_cal.fits\n",
      "jw02609007001_03101_00002_nrs1_interpolatedflat.fits\n",
      "\u001b[01;36mjw02609007001_03101_00002_nrs1_rate.fits\u001b[0m@\n",
      "\u001b[01;36mjw02609007001_03101_00003_nrs1_rate.fits\u001b[0m@\n"
     ]
    }
   ],
   "source": [
    "ls miscdata/jwst_outputs/redux_test"
   ]
  },
  {
   "cell_type": "code",
   "execution_count": 39,
   "id": "659d44d1-b89d-46f2-9d5f-314f0f8787d6",
   "metadata": {},
   "outputs": [
    {
     "data": {
      "text/plain": [
       "44"
      ]
     },
     "execution_count": 39,
     "metadata": {},
     "output_type": "execute_result"
    }
   ],
   "source": [
    "len(result[0].slits)"
   ]
  },
  {
   "cell_type": "code",
   "execution_count": 42,
   "id": "f40d4b07-8566-4d9a-a722-30ba0844f6b2",
   "metadata": {},
   "outputs": [
    {
     "data": {
      "text/plain": [
       "<matplotlib.image.AxesImage at 0x7f5997fdbc10>"
      ]
     },
     "execution_count": 42,
     "metadata": {},
     "output_type": "execute_result"
    },
    {
     "data": {
      "image/png": "[encoded data removed]",
      "text/plain": [
       "<Figure size 640x480 with 1 Axes>"
      ]
     },
     "metadata": {},
     "output_type": "display_data"
    }
   ],
   "source": [
    "plt.imshow(result[0].slits[0].data)"
   ]
  },
  {
   "cell_type": "markdown",
   "id": "f2b2d59a-8fcb-4537-83a3-674967bf0b7e",
   "metadata": {},
   "source": [
    "Alright, this is all good.  Just need to put it in template form now."
   ]
  },
  {
   "cell_type": "markdown",
   "id": "93ebfaa1-6ea2-4a71-9d79-a846e31d858e",
   "metadata": {},
   "source": [
    "# Try target-level from the program"
   ]
  },
  {
   "cell_type": "code",
   "execution_count": 63,
   "id": "764e5cca-5514-4342-9870-2a0fb14f8fc3",
   "metadata": {},
   "outputs": [
    {
     "data": {
      "text/html": [
       "<div><i>Table length=332872</i>\n",
       "<table id=\"table140548644739792\" class=\"table-striped table-bordered table-condensed\">\n",
       "<thead><tr><th>obsID</th><th>obs_collection</th><th>dataproduct_type</th><th>obs_id</th><th>description</th><th>type</th><th>dataURI</th><th>productType</th><th>productGroupDescription</th><th>productSubGroupDescription</th><th>productDocumentationURL</th><th>project</th><th>prvversion</th><th>proposal_id</th><th>productFilename</th><th>size</th><th>parent_obsid</th><th>dataRights</th><th>calib_level</th></tr></thead>\n",
       "<thead><tr><th>str9</th><th>str4</th><th>str8</th><th>str40</th><th>str71</th><th>str1</th><th>str70</th><th>str9</th><th>str28</th><th>str11</th><th>str1</th><th>str7</th><th>str6</th><th>str4</th><th>str52</th><th>int64</th><th>str9</th><th>str16</th><th>int64</th></tr></thead>\n",
       "<tr><td>89383635</td><td>JWST</td><td>image</td><td>jw02609-o001_t006_nircam_clear-f150w</td><td>target   (L3) : segmentation map</td><td>D</td><td>mast:JWST/product/jw02609-o001_t006_nircam_clear-f150w_segm.fits</td><td>AUXILIARY</td><td>Minimum Recommended Products</td><td>SEGM</td><td>--</td><td>CALJWST</td><td>1.12.5</td><td>2609</td><td>jw02609-o001_t006_nircam_clear-f150w_segm.fits</td><td>424235520</td><td>89383635</td><td>PUBLIC</td><td>3</td></tr>\n",
       "<tr><td>89383635</td><td>JWST</td><td>image</td><td>jw02609-o001_t006_nircam_clear-f150w</td><td>source/target (L3) : association generator</td><td>D</td><td>mast:JWST/product/jw02609-o001_20240212t021359_image3_00002_asn.json</td><td>INFO</td><td>Minimum Recommended Products</td><td>ASN</td><td>--</td><td>CALJWST</td><td>1.12.5</td><td>2609</td><td>jw02609-o001_20240212t021359_image3_00002_asn.json</td><td>8671</td><td>89383635</td><td>PUBLIC</td><td>3</td></tr>\n",
       "<tr><td>89383635</td><td>JWST</td><td>image</td><td>jw02609-o001_t006_nircam_clear-f150w</td><td>source/target (L3) : association pool</td><td>D</td><td>mast:JWST/product/jw02609_20240212t021359_pool.csv</td><td>INFO</td><td>Minimum Recommended Products</td><td>POOL</td><td>--</td><td>CALJWST</td><td>1.12.5</td><td>2609</td><td>jw02609_20240212t021359_pool.csv</td><td>76723</td><td>89383635</td><td>PUBLIC</td><td>3</td></tr>\n",
       "<tr><td>89383635</td><td>JWST</td><td>image</td><td>jw02609-o001_t006_nircam_clear-f150w</td><td>Preview-Full</td><td>D</td><td>mast:JWST/product/jw02609-o001_t006_nircam_clear-f150w_i2d.jpg</td><td>PREVIEW</td><td>--</td><td>--</td><td>--</td><td>CALJWST</td><td>1.12.5</td><td>2609</td><td>jw02609-o001_t006_nircam_clear-f150w_i2d.jpg</td><td>26592488</td><td>89383635</td><td>PUBLIC</td><td>3</td></tr>\n",
       "<tr><td>89383635</td><td>JWST</td><td>image</td><td>jw02609-o001_t006_nircam_clear-f150w</td><td>target   (L3) : source catalog</td><td>D</td><td>mast:JWST/product/jw02609-o001_t006_nircam_clear-f150w_cat.ecsv</td><td>SCIENCE</td><td>Minimum Recommended Products</td><td>CAT</td><td>--</td><td>CALJWST</td><td>1.12.5</td><td>2609</td><td>jw02609-o001_t006_nircam_clear-f150w_cat.ecsv</td><td>56937997</td><td>89383635</td><td>PUBLIC</td><td>3</td></tr>\n",
       "<tr><td>89383635</td><td>JWST</td><td>image</td><td>jw02609-o001_t006_nircam_clear-f150w</td><td>exposure/target (L2b/L3): rectified 2D image</td><td>D</td><td>mast:JWST/product/jw02609-o001_t006_nircam_clear-f150w_i2d.fits</td><td>SCIENCE</td><td>Minimum Recommended Products</td><td>I2D</td><td>--</td><td>CALJWST</td><td>1.12.5</td><td>2609</td><td>jw02609-o001_t006_nircam_clear-f150w_i2d.fits</td><td>2969553600</td><td>89383635</td><td>PUBLIC</td><td>3</td></tr>\n",
       "<tr><td>...</td><td>...</td><td>...</td><td>...</td><td>...</td><td>...</td><td>...</td><td>...</td><td>...</td><td>...</td><td>...</td><td>...</td><td>...</td><td>...</td><td>...</td><td>...</td><td>...</td><td>...</td><td>...</td></tr>\n",
       "<tr><td>108153644</td><td>JWST</td><td>image</td><td>jw02609011002_02101_00004_nrcblong</td><td>Preview-Full</td><td>S</td><td>mast:JWST/product/jw02609011002_02101_00004_nrcblong_trapsfilled.jpg</td><td>PREVIEW</td><td>--</td><td>--</td><td>--</td><td>CALJWST</td><td>1.12.5</td><td>2609</td><td>jw02609011002_02101_00004_nrcblong_trapsfilled.jpg</td><td>49533</td><td>108153699</td><td>PUBLIC</td><td>2</td></tr>\n",
       "<tr><td>108153644</td><td>JWST</td><td>image</td><td>jw02609011002_02101_00004_nrcblong</td><td>exposure (L2c): 2D Calibrated data averaged over integrations</td><td>S</td><td>mast:JWST/product/jw02609011002_02101_00004_nrcblong_o011_crf.fits</td><td>SCIENCE</td><td>--</td><td>ANNNN_CRF</td><td>--</td><td>CALJWST</td><td>1.12.5</td><td>2609</td><td>jw02609011002_02101_00004_nrcblong_o011_crf.fits</td><td>117541440</td><td>108153699</td><td>PUBLIC</td><td>2</td></tr>\n",
       "<tr><td>108153644</td><td>JWST</td><td>image</td><td>jw02609011002_02101_00004_nrcblong</td><td>exposure (L2b): 2D calibrated exposure average over integrations</td><td>S</td><td>mast:JWST/product/jw02609011002_02101_00004_nrcblong_cal.fits</td><td>SCIENCE</td><td>--</td><td>CAL</td><td>--</td><td>CALJWST</td><td>1.12.5</td><td>2609</td><td>jw02609011002_02101_00004_nrcblong_cal.fits</td><td>117538560</td><td>108153699</td><td>PUBLIC</td><td>2</td></tr>\n",
       "<tr><td>108153644</td><td>JWST</td><td>image</td><td>jw02609011002_02101_00004_nrcblong</td><td>exposure/target (L2b/L3): rectified 2D image</td><td>S</td><td>mast:JWST/product/jw02609011002_02101_00004_nrcblong_i2d.fits</td><td>SCIENCE</td><td>--</td><td>I2D</td><td>--</td><td>CALJWST</td><td>1.12.5</td><td>2609</td><td>jw02609011002_02101_00004_nrcblong_i2d.fits</td><td>120288960</td><td>108153699</td><td>PUBLIC</td><td>2</td></tr>\n",
       "<tr><td>108153644</td><td>JWST</td><td>image</td><td>jw02609011002_02101_00004_nrcblong</td><td>exposure (L2a): 2D count rate averaged over integrations</td><td>S</td><td>mast:JWST/product/jw02609011002_02101_00004_nrcblong_rate.fits</td><td>SCIENCE</td><td>--</td><td>RATE</td><td>--</td><td>CALJWST</td><td>1.12.5</td><td>2609</td><td>jw02609011002_02101_00004_nrcblong_rate.fits</td><td>83949120</td><td>108153699</td><td>PUBLIC</td><td>2</td></tr>\n",
       "<tr><td>108153644</td><td>JWST</td><td>image</td><td>jw02609011002_02101_00004_nrcblong</td><td>exposure (L2a): 3D countrate per integration</td><td>S</td><td>mast:JWST/product/jw02609011002_02101_00004_nrcblong_rateints.fits</td><td>SCIENCE</td><td>--</td><td>RATEINTS</td><td>--</td><td>CALJWST</td><td>1.12.5</td><td>2609</td><td>jw02609011002_02101_00004_nrcblong_rateints.fits</td><td>167834880</td><td>108153699</td><td>PUBLIC</td><td>2</td></tr>\n",
       "<tr><td>108153644</td><td>JWST</td><td>image</td><td>jw02609011002_02101_00004_nrcblong</td><td>exposure (L1b): Uncalibrated 4D exposure data</td><td>S</td><td>mast:JWST/product/jw02609011002_02101_00004_nrcblong_uncal.fits</td><td>SCIENCE</td><td>--</td><td>UNCAL</td><td>--</td><td>CALJWST</td><td>--</td><td>2609</td><td>jw02609011002_02101_00004_nrcblong_uncal.fits</td><td>83940480</td><td>108153699</td><td>PUBLIC</td><td>1</td></tr>\n",
       "</table></div>"
      ],
      "text/plain": [
       "<Table length=332872>\n",
       "  obsID   obs_collection dataproduct_type ... dataRights calib_level\n",
       "   str9        str4            str8       ...   str16       int64   \n",
       "--------- -------------- ---------------- ... ---------- -----------\n",
       " 89383635           JWST            image ...     PUBLIC           3\n",
       " 89383635           JWST            image ...     PUBLIC           3\n",
       " 89383635           JWST            image ...     PUBLIC           3\n",
       " 89383635           JWST            image ...     PUBLIC           3\n",
       " 89383635           JWST            image ...     PUBLIC           3\n",
       " 89383635           JWST            image ...     PUBLIC           3\n",
       "      ...            ...              ... ...        ...         ...\n",
       "108153644           JWST            image ...     PUBLIC           2\n",
       "108153644           JWST            image ...     PUBLIC           2\n",
       "108153644           JWST            image ...     PUBLIC           2\n",
       "108153644           JWST            image ...     PUBLIC           2\n",
       "108153644           JWST            image ...     PUBLIC           2\n",
       "108153644           JWST            image ...     PUBLIC           2\n",
       "108153644           JWST            image ...     PUBLIC           1"
      ]
     },
     "execution_count": 63,
     "metadata": {},
     "output_type": "execute_result"
    }
   ],
   "source": [
    "all_prods = Observations.get_product_list(obses)\n",
    "all_prods"
   ]
  },
  {
   "cell_type": "code",
   "execution_count": 66,
   "id": "936de3c6-5214-49bd-8290-cb9b3663cb7b",
   "metadata": {},
   "outputs": [
    {
     "data": {
      "text/html": [
       "<div><i>Table length=2040</i>\n",
       "<table id=\"table140548473935696\" class=\"table-striped table-bordered table-condensed\">\n",
       "<thead><tr><th>obsID</th><th>obs_collection</th><th>dataproduct_type</th><th>obs_id</th><th>description</th><th>type</th><th>dataURI</th><th>productType</th><th>productGroupDescription</th><th>productSubGroupDescription</th><th>productDocumentationURL</th><th>project</th><th>prvversion</th><th>proposal_id</th><th>productFilename</th><th>size</th><th>parent_obsid</th><th>dataRights</th><th>calib_level</th></tr></thead>\n",
       "<thead><tr><th>str9</th><th>str4</th><th>str8</th><th>str40</th><th>str71</th><th>str1</th><th>str70</th><th>str9</th><th>str28</th><th>str11</th><th>str1</th><th>str7</th><th>str6</th><th>str4</th><th>str52</th><th>int64</th><th>str9</th><th>str16</th><th>int64</th></tr></thead>\n",
       "<tr><td>98739647</td><td>JWST</td><td>image</td><td>jw02609006001_03101_00002_nrs1</td><td>MSA metadata</td><td>S</td><td>mast:JWST/product/jw02609006001_01_msa.fits</td><td>AUXILIARY</td><td>--</td><td>MSA</td><td>--</td><td>CALJWST</td><td>--</td><td>2609</td><td>jw02609006001_01_msa.fits</td><td>532800</td><td>127980833</td><td>PUBLIC</td><td>1</td></tr>\n",
       "<tr><td>98739647</td><td>JWST</td><td>image</td><td>jw02609006001_03101_00002_nrs1</td><td>MSA metadata</td><td>S</td><td>mast:JWST/product/jw02609006001_01_msa.fits</td><td>AUXILIARY</td><td>--</td><td>MSA</td><td>--</td><td>CALJWST</td><td>--</td><td>2609</td><td>jw02609006001_01_msa.fits</td><td>532800</td><td>127980862</td><td>PUBLIC</td><td>1</td></tr>\n",
       "<tr><td>98739647</td><td>JWST</td><td>image</td><td>jw02609006001_03101_00002_nrs1</td><td>MSA metadata</td><td>S</td><td>mast:JWST/product/jw02609006001_01_msa.fits</td><td>AUXILIARY</td><td>--</td><td>MSA</td><td>--</td><td>CALJWST</td><td>--</td><td>2609</td><td>jw02609006001_01_msa.fits</td><td>532800</td><td>127980891</td><td>PUBLIC</td><td>1</td></tr>\n",
       "<tr><td>98739647</td><td>JWST</td><td>image</td><td>jw02609006001_03101_00002_nrs1</td><td>MSA metadata</td><td>S</td><td>mast:JWST/product/jw02609006001_01_msa.fits</td><td>AUXILIARY</td><td>--</td><td>MSA</td><td>--</td><td>CALJWST</td><td>--</td><td>2609</td><td>jw02609006001_01_msa.fits</td><td>532800</td><td>127980927</td><td>PUBLIC</td><td>1</td></tr>\n",
       "<tr><td>98739647</td><td>JWST</td><td>image</td><td>jw02609006001_03101_00002_nrs1</td><td>MSA metadata</td><td>S</td><td>mast:JWST/product/jw02609006001_01_msa.fits</td><td>AUXILIARY</td><td>--</td><td>MSA</td><td>--</td><td>CALJWST</td><td>--</td><td>2609</td><td>jw02609006001_01_msa.fits</td><td>532800</td><td>127980957</td><td>PUBLIC</td><td>1</td></tr>\n",
       "<tr><td>98739647</td><td>JWST</td><td>image</td><td>jw02609006001_03101_00002_nrs1</td><td>MSA metadata</td><td>S</td><td>mast:JWST/product/jw02609006001_01_msa.fits</td><td>AUXILIARY</td><td>--</td><td>MSA</td><td>--</td><td>CALJWST</td><td>--</td><td>2609</td><td>jw02609006001_01_msa.fits</td><td>532800</td><td>127980995</td><td>PUBLIC</td><td>1</td></tr>\n",
       "<tr><td>...</td><td>...</td><td>...</td><td>...</td><td>...</td><td>...</td><td>...</td><td>...</td><td>...</td><td>...</td><td>...</td><td>...</td><td>...</td><td>...</td><td>...</td><td>...</td><td>...</td><td>...</td><td>...</td></tr>\n",
       "<tr><td>150909879</td><td>JWST</td><td>image</td><td>jw02609010001_03101_00002_nrs2</td><td>MSA metadata</td><td>S</td><td>mast:JWST/product/jw02609010001_01_msa.fits</td><td>AUXILIARY</td><td>--</td><td>MSA</td><td>--</td><td>CALJWST</td><td>--</td><td>2609</td><td>jw02609010001_01_msa.fits</td><td>532800</td><td>150936686</td><td>EXCLUSIVE_ACCESS</td><td>1</td></tr>\n",
       "<tr><td>150909879</td><td>JWST</td><td>image</td><td>jw02609010001_03101_00002_nrs2</td><td>MSA metadata</td><td>S</td><td>mast:JWST/product/jw02609010001_01_msa.fits</td><td>AUXILIARY</td><td>--</td><td>MSA</td><td>--</td><td>CALJWST</td><td>--</td><td>2609</td><td>jw02609010001_01_msa.fits</td><td>532800</td><td>150936695</td><td>EXCLUSIVE_ACCESS</td><td>1</td></tr>\n",
       "<tr><td>150909879</td><td>JWST</td><td>image</td><td>jw02609010001_03101_00002_nrs2</td><td>MSA metadata</td><td>S</td><td>mast:JWST/product/jw02609010001_01_msa.fits</td><td>AUXILIARY</td><td>--</td><td>MSA</td><td>--</td><td>CALJWST</td><td>--</td><td>2609</td><td>jw02609010001_01_msa.fits</td><td>532800</td><td>150936703</td><td>EXCLUSIVE_ACCESS</td><td>1</td></tr>\n",
       "<tr><td>150909879</td><td>JWST</td><td>image</td><td>jw02609010001_03101_00002_nrs2</td><td>MSA metadata</td><td>S</td><td>mast:JWST/product/jw02609010001_01_msa.fits</td><td>AUXILIARY</td><td>--</td><td>MSA</td><td>--</td><td>CALJWST</td><td>--</td><td>2609</td><td>jw02609010001_01_msa.fits</td><td>532800</td><td>150936716</td><td>EXCLUSIVE_ACCESS</td><td>1</td></tr>\n",
       "<tr><td>150909879</td><td>JWST</td><td>image</td><td>jw02609010001_03101_00002_nrs2</td><td>MSA metadata</td><td>S</td><td>mast:JWST/product/jw02609010001_01_msa.fits</td><td>AUXILIARY</td><td>--</td><td>MSA</td><td>--</td><td>CALJWST</td><td>--</td><td>2609</td><td>jw02609010001_01_msa.fits</td><td>532800</td><td>150936726</td><td>EXCLUSIVE_ACCESS</td><td>1</td></tr>\n",
       "<tr><td>150909879</td><td>JWST</td><td>image</td><td>jw02609010001_03101_00002_nrs2</td><td>MSA metadata</td><td>S</td><td>mast:JWST/product/jw02609010001_01_msa.fits</td><td>AUXILIARY</td><td>--</td><td>MSA</td><td>--</td><td>CALJWST</td><td>--</td><td>2609</td><td>jw02609010001_01_msa.fits</td><td>532800</td><td>150936739</td><td>EXCLUSIVE_ACCESS</td><td>1</td></tr>\n",
       "<tr><td>150909879</td><td>JWST</td><td>image</td><td>jw02609010001_03101_00002_nrs2</td><td>MSA metadata</td><td>S</td><td>mast:JWST/product/jw02609010001_01_msa.fits</td><td>AUXILIARY</td><td>--</td><td>MSA</td><td>--</td><td>CALJWST</td><td>--</td><td>2609</td><td>jw02609010001_01_msa.fits</td><td>532800</td><td>150936748</td><td>EXCLUSIVE_ACCESS</td><td>1</td></tr>\n",
       "</table></div>"
      ],
      "text/plain": [
       "<Table length=2040>\n",
       "  obsID   obs_collection dataproduct_type ...    dataRights    calib_level\n",
       "   str9        str4            str8       ...      str16          int64   \n",
       "--------- -------------- ---------------- ... ---------------- -----------\n",
       " 98739647           JWST            image ...           PUBLIC           1\n",
       " 98739647           JWST            image ...           PUBLIC           1\n",
       " 98739647           JWST            image ...           PUBLIC           1\n",
       " 98739647           JWST            image ...           PUBLIC           1\n",
       " 98739647           JWST            image ...           PUBLIC           1\n",
       " 98739647           JWST            image ...           PUBLIC           1\n",
       "      ...            ...              ... ...              ...         ...\n",
       "150909879           JWST            image ... EXCLUSIVE_ACCESS           1\n",
       "150909879           JWST            image ... EXCLUSIVE_ACCESS           1\n",
       "150909879           JWST            image ... EXCLUSIVE_ACCESS           1\n",
       "150909879           JWST            image ... EXCLUSIVE_ACCESS           1\n",
       "150909879           JWST            image ... EXCLUSIVE_ACCESS           1\n",
       "150909879           JWST            image ... EXCLUSIVE_ACCESS           1\n",
       "150909879           JWST            image ... EXCLUSIVE_ACCESS           1"
      ]
     },
     "execution_count": 66,
     "metadata": {},
     "output_type": "execute_result"
    }
   ],
   "source": [
    "all_msas = all_prods[all_prods['productSubGroupDescription']=='MSA']\n",
    "all_msas"
   ]
  },
  {
   "cell_type": "code",
   "execution_count": 76,
   "id": "5b115a8f-7c67-4fa9-a66f-1f79b4c85aa7",
   "metadata": {},
   "outputs": [
    {
     "data": {
      "text/plain": [
       "(9, 24)"
      ]
     },
     "execution_count": 76,
     "metadata": {},
     "output_type": "execute_result"
    }
   ],
   "source": [
    "len(np.unique(all_msas['productFilename'])), len(np.unique(all_msas['obsID']))"
   ]
  },
  {
   "cell_type": "markdown",
   "id": "1799718b-4a18-4d3c-8924-8aaa1c972e77",
   "metadata": {},
   "source": [
    "2040 condense to... 9 🤷"
   ]
  },
  {
   "cell_type": "code",
   "execution_count": 86,
   "id": "c9e4e2fd-2908-4d83-a545-5df8665649a2",
   "metadata": {},
   "outputs": [
    {
     "name": "stdout",
     "output_type": "stream",
     "text": [
      "INFO: Found cached file ./mastDownload/JWST/jw02609006001_03101_00002_nrs1/jw02609006001_01_msa.fits with expected size 532800. [astroquery.query]\n",
      "INFO: Found cached file ./mastDownload/JWST/jw02609007001_03101_00002_nrs1/jw02609007001_01_msa.fits with expected size 529920. [astroquery.query]\n",
      "INFO: Found cached file ./mastDownload/JWST/jw02609009001_04101_00001_nrs1/jw02609009001_01_msa.fits with expected size 547200. [astroquery.query]\n",
      "INFO: Found cached file ./mastDownload/JWST/jw02609009001_04103_00001_nrs1/jw02609009001_02_msa.fits with expected size 547200. [astroquery.query]\n",
      "INFO: Found cached file ./mastDownload/JWST/jw02609009001_04105_00001_nrs1/jw02609009001_03_msa.fits with expected size 547200. [astroquery.query]\n",
      "INFO: Found cached file ./mastDownload/JWST/jw02609009001_04107_00001_nrs1/jw02609009001_04_msa.fits with expected size 547200. [astroquery.query]\n",
      "INFO: Found cached file ./mastDownload/JWST/jw02609009001_04109_00001_nrs1/jw02609009001_05_msa.fits with expected size 547200. [astroquery.query]\n",
      "INFO: Found cached file ./mastDownload/JWST/jw02609009001_0410b_00001_nrs1/jw02609009001_06_msa.fits with expected size 547200. [astroquery.query]\n",
      "INFO: Found cached file ./mastDownload/JWST/jw02609010001_03101_00001_nrs1/jw02609010001_01_msa.fits with expected size 532800. [astroquery.query]\n"
     ]
    }
   ],
   "source": [
    "already = set()\n",
    "msk = []\n",
    "for row in all_msas:\n",
    "    key = row['productFilename']\n",
    "    if key not in already:\n",
    "        msk.append(True)\n",
    "        already.add(key)\n",
    "    else:\n",
    "        msk.append(False)\n",
    "msk = np.array(msk)\n",
    "\n",
    "all_msas_dl = Observations.download_products(all_msas[msk])"
   ]
  },
  {
   "cell_type": "code",
   "execution_count": 93,
   "id": "eb342ce1-8cf3-4544-a39d-bcfac81f713c",
   "metadata": {},
   "outputs": [],
   "source": [
    "msa_shutter_infos = {pth.split('/')[-1]: table.Table.read(pth, hdu='SHUTTER_INFO') for pth in all_msas_dl['Local Path']}\n",
    "msa_source_infos = {pth.split('/')[-1]: table.Table.read(pth, hdu='SOURCE_INFO') for pth in all_msas_dl['Local Path']}"
   ]
  },
  {
   "cell_type": "code",
   "execution_count": 96,
   "id": "ede7a9fd-0007-4b4b-bc19-60dcaf50088c",
   "metadata": {},
   "outputs": [
    {
     "data": {
      "text/html": [
       "<div><i>Table length=76</i>\n",
       "<table id=\"table140548550088528\" class=\"table-striped table-bordered table-condensed\">\n",
       "<thead><tr><th>program</th><th>source_id</th><th>source_name</th><th>alias</th><th>ra</th><th>dec</th><th>preimage_id</th><th>stellarity</th></tr></thead>\n",
       "<thead><tr><th>int32</th><th>int32</th><th>bytes20</th><th>bytes31</th><th>float64</th><th>float64</th><th>bytes30</th><th>float64</th></tr></thead>\n",
       "<tr><td>2609</td><td>3</td><td>2609_3</td><td>3</td><td>298.457514919769</td><td>18.7497862580305</td><td>None</td><td>1.0</td></tr>\n",
       "<tr><td>2609</td><td>7</td><td>2609_7</td><td>7</td><td>298.43853829457</td><td>18.7820519414859</td><td>None</td><td>1.0</td></tr>\n",
       "<tr><td>2609</td><td>9</td><td>2609_9</td><td>9</td><td>298.44794595758</td><td>18.7713820491861</td><td>None</td><td>1.0</td></tr>\n",
       "<tr><td>2609</td><td>11</td><td>2609_11</td><td>11</td><td>298.468179889577</td><td>18.7483742358947</td><td>None</td><td>1.0</td></tr>\n",
       "<tr><td>2609</td><td>12</td><td>2609_12</td><td>12</td><td>298.41610677197</td><td>18.7313767580844</td><td>None</td><td>1.0</td></tr>\n",
       "<tr><td>2609</td><td>19</td><td>2609_19</td><td>19</td><td>298.437395725539</td><td>18.7292034769328</td><td>None</td><td>1.0</td></tr>\n",
       "<tr><td>...</td><td>...</td><td>...</td><td>...</td><td>...</td><td>...</td><td>...</td><td>...</td></tr>\n",
       "<tr><td>2609</td><td>4455</td><td>2609_4455</td><td>4455</td><td>298.44531364653</td><td>18.7310029442722</td><td>None</td><td>1.0</td></tr>\n",
       "<tr><td>2609</td><td>4500</td><td>2609_4500</td><td>4500</td><td>298.4384018987591</td><td>18.7278992263709</td><td>None</td><td>1.0</td></tr>\n",
       "<tr><td>2609</td><td>4636</td><td>2609_4636</td><td>4636</td><td>298.427797786622</td><td>18.7290050739376</td><td>None</td><td>1.0</td></tr>\n",
       "<tr><td>2609</td><td>4666</td><td>2609_4666</td><td>4666</td><td>298.419573949543</td><td>18.7396322291866</td><td>None</td><td>1.0</td></tr>\n",
       "<tr><td>2609</td><td>4961</td><td>2609_4961</td><td>4961</td><td>298.413468691529</td><td>18.7521565799762</td><td>None</td><td>1.0</td></tr>\n",
       "<tr><td>2609</td><td>5079</td><td>2609_5079</td><td>5079</td><td>298.413547632775</td><td>18.7625527482896</td><td>None</td><td>1.0</td></tr>\n",
       "<tr><td>2609</td><td>11198</td><td>2609_11198</td><td>11198</td><td>298.4220236760363</td><td>18.75477369038818</td><td>None</td><td>1.0</td></tr>\n",
       "</table></div>"
      ],
      "text/plain": [
       "<Table length=76>\n",
       "program source_id source_name ...        dec        preimage_id stellarity\n",
       " int32    int32     bytes20   ...      float64        bytes30    float64  \n",
       "------- --------- ----------- ... ----------------- ----------- ----------\n",
       "   2609         3      2609_3 ...  18.7497862580305        None        1.0\n",
       "   2609         7      2609_7 ...  18.7820519414859        None        1.0\n",
       "   2609         9      2609_9 ...  18.7713820491861        None        1.0\n",
       "   2609        11     2609_11 ...  18.7483742358947        None        1.0\n",
       "   2609        12     2609_12 ...  18.7313767580844        None        1.0\n",
       "   2609        19     2609_19 ...  18.7292034769328        None        1.0\n",
       "    ...       ...         ... ...               ...         ...        ...\n",
       "   2609      4455   2609_4455 ...  18.7310029442722        None        1.0\n",
       "   2609      4500   2609_4500 ...  18.7278992263709        None        1.0\n",
       "   2609      4636   2609_4636 ...  18.7290050739376        None        1.0\n",
       "   2609      4666   2609_4666 ...  18.7396322291866        None        1.0\n",
       "   2609      4961   2609_4961 ...  18.7521565799762        None        1.0\n",
       "   2609      5079   2609_5079 ...  18.7625527482896        None        1.0\n",
       "   2609     11198  2609_11198 ... 18.75477369038818        None        1.0"
      ]
     },
     "execution_count": 96,
     "metadata": {},
     "output_type": "execute_result"
    }
   ],
   "source": [
    "msa_source_infos['jw02609006001_01_msa.fits']"
   ]
  },
  {
   "cell_type": "code",
   "execution_count": 97,
   "id": "04425959-0cbc-47e7-87e1-3fc22c07d12b",
   "metadata": {},
   "outputs": [
    {
     "data": {
      "text/html": [
       "<div><i>Table length=296</i>\n",
       "<table id=\"table140548550091280\" class=\"table-striped table-bordered table-condensed\">\n",
       "<thead><tr><th>slitlet_id</th><th>msa_metadata_id</th><th>shutter_quadrant</th><th>shutter_row</th><th>shutter_column</th><th>source_id</th><th>background</th><th>shutter_state</th><th>estimated_source_in_shutter_x</th><th>estimated_source_in_shutter_y</th><th>dither_point_index</th><th>primary_source</th></tr></thead>\n",
       "<thead><tr><th>int16</th><th>int16</th><th>int16</th><th>int16</th><th>int16</th><th>int32</th><th>bytes1</th><th>bytes6</th><th>float32</th><th>float32</th><th>int16</th><th>bytes1</th></tr></thead>\n",
       "<tr><td>2</td><td>1</td><td>2</td><td>55</td><td>74</td><td>1781</td><td>N</td><td>OPEN</td><td>0.471</td><td>0.871</td><td>1</td><td>Y</td></tr>\n",
       "<tr><td>2</td><td>1</td><td>2</td><td>55</td><td>74</td><td>1781</td><td>Y</td><td>OPEN</td><td>--</td><td>--</td><td>2</td><td>N</td></tr>\n",
       "<tr><td>2</td><td>1</td><td>2</td><td>55</td><td>75</td><td>1781</td><td>Y</td><td>OPEN</td><td>--</td><td>--</td><td>1</td><td>N</td></tr>\n",
       "<tr><td>2</td><td>1</td><td>2</td><td>55</td><td>75</td><td>1781</td><td>N</td><td>OPEN</td><td>0.459</td><td>0.88</td><td>2</td><td>Y</td></tr>\n",
       "<tr><td>3</td><td>1</td><td>2</td><td>81</td><td>80</td><td>54</td><td>N</td><td>OPEN</td><td>0.211</td><td>0.168</td><td>1</td><td>Y</td></tr>\n",
       "<tr><td>3</td><td>1</td><td>2</td><td>81</td><td>80</td><td>54</td><td>Y</td><td>OPEN</td><td>--</td><td>--</td><td>2</td><td>N</td></tr>\n",
       "<tr><td>...</td><td>...</td><td>...</td><td>...</td><td>...</td><td>...</td><td>...</td><td>...</td><td>...</td><td>...</td><td>...</td><td>...</td></tr>\n",
       "<tr><td>74</td><td>1</td><td>3</td><td>342</td><td>27</td><td>3127</td><td>Y</td><td>OPEN</td><td>--</td><td>--</td><td>2</td><td>N</td></tr>\n",
       "<tr><td>74</td><td>1</td><td>3</td><td>342</td><td>28</td><td>3127</td><td>Y</td><td>OPEN</td><td>--</td><td>--</td><td>1</td><td>N</td></tr>\n",
       "<tr><td>74</td><td>1</td><td>3</td><td>342</td><td>28</td><td>3127</td><td>N</td><td>OPEN</td><td>0.427</td><td>0.221</td><td>2</td><td>Y</td></tr>\n",
       "<tr><td>75</td><td>1</td><td>4</td><td>344</td><td>86</td><td>27</td><td>N</td><td>OPEN</td><td>0.174</td><td>0.124</td><td>1</td><td>Y</td></tr>\n",
       "<tr><td>75</td><td>1</td><td>4</td><td>344</td><td>86</td><td>27</td><td>Y</td><td>OPEN</td><td>--</td><td>--</td><td>2</td><td>N</td></tr>\n",
       "<tr><td>75</td><td>1</td><td>4</td><td>344</td><td>87</td><td>27</td><td>Y</td><td>OPEN</td><td>--</td><td>--</td><td>1</td><td>N</td></tr>\n",
       "<tr><td>75</td><td>1</td><td>4</td><td>344</td><td>87</td><td>27</td><td>N</td><td>OPEN</td><td>0.185</td><td>0.133</td><td>2</td><td>Y</td></tr>\n",
       "</table></div>"
      ],
      "text/plain": [
       "<Table length=296>\n",
       "slitlet_id msa_metadata_id ... dither_point_index primary_source\n",
       "  int16         int16      ...       int16            bytes1    \n",
       "---------- --------------- ... ------------------ --------------\n",
       "         2               1 ...                  1              Y\n",
       "         2               1 ...                  2              N\n",
       "         2               1 ...                  1              N\n",
       "         2               1 ...                  2              Y\n",
       "         3               1 ...                  1              Y\n",
       "         3               1 ...                  2              N\n",
       "       ...             ... ...                ...            ...\n",
       "        74               1 ...                  2              N\n",
       "        74               1 ...                  1              N\n",
       "        74               1 ...                  2              Y\n",
       "        75               1 ...                  1              Y\n",
       "        75               1 ...                  2              N\n",
       "        75               1 ...                  1              N\n",
       "        75               1 ...                  2              Y"
      ]
     },
     "execution_count": 97,
     "metadata": {},
     "output_type": "execute_result"
    }
   ],
   "source": [
    "msa_shutter_infos['jw02609006001_01_msa.fits']"
   ]
  },
  {
   "cell_type": "markdown",
   "id": "ba2b1dd1-28b7-4858-8a9e-e5400dd8d756",
   "metadata": {},
   "source": [
    "Hmm, turns out there's no straightforward way to connect these back to the relevant cal/etc files. Implies the other approach is better."
   ]
  }
 ],
 "metadata": {
  "kernelspec": {
   "display_name": "Python 3 (ipykernel)",
   "language": "python",
   "name": "python3"
  },
  "language_info": {
   "codemirror_mode": {
    "name": "ipython",
    "version": 3
   },
   "file_extension": ".py",
   "mimetype": "text/x-python",
   "name": "python",
   "nbconvert_exporter": "python",
   "pygments_lexer": "ipython3",
   "version": "3.11.8"
  }
 },
 "nbformat": 4,
 "nbformat_minor": 5
}
