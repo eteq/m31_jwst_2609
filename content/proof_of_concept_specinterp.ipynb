{
 "cells": [
  {
   "cell_type": "markdown",
   "id": "0f56dacd-4f2a-49ab-ae19-f127d3470542",
   "metadata": {},
   "source": [
    "See [wavelength_ranges.ipynb](wavelength_ranges.ipynb) for a derivation of the wavelength ranges used here."
   ]
  },
  {
   "cell_type": "code",
   "execution_count": 1,
   "id": "4052b5bd-9484-4cd6-9b6a-0ec1aeea83e9",
   "metadata": {},
   "outputs": [],
   "source": [
    "import re\n",
    "import collections\n",
    "from pathlib import Path\n",
    "\n",
    "import multiprocess\n",
    "from tqdm.notebook import tqdm\n",
    "\n",
    "import numpy as np\n",
    "\n",
    "from astropy.io import fits\n",
    "from astropy import units as u\n",
    "from astropy import table\n",
    "\n",
    "from specutils import Spectrum1D\n",
    "from specutils.manipulation import FluxConservingResampler"
   ]
  },
  {
   "cell_type": "code",
   "execution_count": 2,
   "id": "feb9a8ca-8987-4097-b77b-fdd76edd4f53",
   "metadata": {},
   "outputs": [
    {
     "data": {
      "text/plain": [
       "47827"
      ]
     },
     "execution_count": 2,
     "metadata": {},
     "output_type": "execute_result"
    }
   ],
   "source": [
    "wl_bins = np.arange(9000., 20000., .23) << u.angstrom\n",
    "len(wl_bins)"
   ]
  },
  {
   "cell_type": "code",
   "execution_count": 3,
   "id": "a559ddaf-3b9c-455b-b028-a76ec28a3edc",
   "metadata": {},
   "outputs": [
    {
     "data": {
      "text/plain": [
       "PosixPath('phoenix')"
      ]
     },
     "execution_count": 3,
     "metadata": {},
     "output_type": "execute_result"
    }
   ],
   "source": [
    "phoenix_data = Path('phoenix/subgrid')\n",
    "while not phoenix_data.is_dir():\n",
    "    phoenix_data = phoenix_data.parent\n",
    "assert phoenix_data != Path(), 'no part of this path is present!'\n",
    "phoenix_data"
   ]
  },
  {
   "cell_type": "code",
   "execution_count": 4,
   "id": "93d4e7a7-d6ce-44df-ad29-d98e7739ef32",
   "metadata": {},
   "outputs": [],
   "source": [
    "wavepth = list(phoenix_data.glob('*WAVE*'))\n",
    "assert len(wavepth) == 1\n",
    "wavepth = wavepth[0]"
   ]
  },
  {
   "cell_type": "code",
   "execution_count": 5,
   "id": "84f2a78b-3e09-4f8d-9f82-c1f6565b6cb0",
   "metadata": {},
   "outputs": [
    {
     "data": {
      "text/plain": [
       "PhoenixFiles(pth=PosixPath('phoenix/lte08400-4.50-0.5.PHOENIX-ACES-AGSS-COND-2011-HiRes.fits'), teff=8400, logg=-4.5, fehish=-0.5)"
      ]
     },
     "execution_count": 5,
     "metadata": {},
     "output_type": "execute_result"
    }
   ],
   "source": [
    "pattern = re.compile('lte(\\d{5})([+-][0-9.]{4})([+-][0-9.]{3}).PHOENIX-ACES-AGSS-COND-2011-HiRes.fits')\n",
    "\n",
    "PhoenixFiles = collections.namedtuple('PhoenixFiles', 'pth, teff, logg, fehish'.split(', '))\n",
    "\n",
    "matches = []\n",
    "for p in phoenix_data.iterdir():\n",
    "    if m := pattern.match(p.name):\n",
    "        matches.append(PhoenixFiles(p, int(m.group(1)), float(m.group(2)), float(m.group(3))))\n",
    "    \n",
    "matches[0]"
   ]
  },
  {
   "cell_type": "code",
   "execution_count": 6,
   "id": "0c9ac7cd-e4f1-4931-8cad-4879d32613b6",
   "metadata": {},
   "outputs": [
    {
     "data": {
      "text/latex": [
       "$[500,~500.1,~500.2,~\\dots,~54999.25,~54999.5,~54999.75] \\; \\mathrm{\\mathring{A}}$"
      ],
      "text/plain": [
       "<Quantity [  500.  ,   500.1 ,   500.2 , ..., 54999.25, 54999.5 , 54999.75] Angstrom>"
      ]
     },
     "execution_count": 6,
     "metadata": {},
     "output_type": "execute_result"
    }
   ],
   "source": [
    "with fits.open(wavepth) as f:\n",
    "    phoenix_wave = f[0].data << u.Unit(f[0].header['UNIT'])\n",
    "phoenix_wave"
   ]
  },
  {
   "cell_type": "markdown",
   "id": "4ee78928-1b98-4ff4-9550-b55f569e8c22",
   "metadata": {},
   "source": [
    "# Some timing tests to see what's feasible"
   ]
  },
  {
   "cell_type": "code",
   "execution_count": 7,
   "id": "301be975-0208-42ea-bd0d-234b3caa1952",
   "metadata": {},
   "outputs": [
    {
     "name": "stderr",
     "output_type": "stream",
     "text": [
      "WARNING: UnitsWarning: 'erg/s/cm^2/cm' contains multiple slashes, which is discouraged by the FITS standard [astropy.units.format.generic]\n"
     ]
    },
    {
     "name": "stdout",
     "output_type": "stream",
     "text": [
      "28.3 ms ± 386 µs per loop (mean ± std. dev. of 7 runs, 1 loop each)\n"
     ]
    }
   ],
   "source": [
    "%%timeit\n",
    "with fits.open(matches[42][0]) as f:\n",
    "    phoenix_spec = Spectrum1D(spectral_axis=phoenix_wave, flux=f[0].data*u.Unit(f[0].header['BUNIT']))"
   ]
  },
  {
   "cell_type": "markdown",
   "id": "3735fc36-b5ec-4bdc-a852-1b5d44d86ab7",
   "metadata": {},
   "source": [
    "There may be some caching there but it seems on the order of 20 ms."
   ]
  },
  {
   "cell_type": "code",
   "execution_count": 8,
   "id": "73ecfc17-e974-492f-b8e3-9220b8b2e60f",
   "metadata": {},
   "outputs": [],
   "source": [
    "with fits.open(matches[42][0]) as f:\n",
    "    phoenix_spec = Spectrum1D(spectral_axis=phoenix_wave, flux=f[0].data*u.Unit(f[0].header['BUNIT']))"
   ]
  },
  {
   "cell_type": "code",
   "execution_count": 9,
   "id": "dde7dea6-da51-4959-a814-74937fab214b",
   "metadata": {},
   "outputs": [],
   "source": [
    "_resampler= FluxConservingResampler()\n",
    "def resample_to_bins(wlbins, model_spec, resampler_func=_resampler.resample1d):\n",
    "    msk = (wlbins[0] <= model_spec.spectral_axis) & (model_spec.spectral_axis<=wlbins[-1])\n",
    "\n",
    "    phoenix_sub_spec = Spectrum1D(spectral_axis=model_spec.spectral_axis[msk], \n",
    "                                            flux=model_spec.flux[msk])\n",
    "\n",
    "    return resampler_func(phoenix_sub_spec, (wlbins[:-1] + wlbins[1:])/2)"
   ]
  },
  {
   "cell_type": "code",
   "execution_count": 10,
   "id": "a131749f-1f79-416b-8b3c-00862f85a466",
   "metadata": {},
   "outputs": [
    {
     "name": "stdout",
     "output_type": "stream",
     "text": [
      "3.93 s ± 76 ms per loop (mean ± std. dev. of 7 runs, 1 loop each)\n"
     ]
    }
   ],
   "source": [
    "%%timeit\n",
    "\n",
    "phoenix_lowres = resample_to_bins(wl_bins, phoenix_spec)\n",
    "phoenix_lowres.write('test.out', format='tabular-fits', overwrite=True)"
   ]
  },
  {
   "cell_type": "code",
   "execution_count": 11,
   "id": "d56bf421-07ac-4bfd-a48e-0ecfe34e2250",
   "metadata": {},
   "outputs": [],
   "source": [
    "!rm test.out"
   ]
  },
  {
   "cell_type": "code",
   "execution_count": 12,
   "id": "bf41ccae-43be-4032-ad94-57ba28c2cf3b",
   "metadata": {},
   "outputs": [
    {
     "data": {
      "text/plain": [
       "491.335"
      ]
     },
     "execution_count": 12,
     "metadata": {},
     "output_type": "execute_result"
    }
   ],
   "source": [
    "3.9*len(matches)/60 # min"
   ]
  },
  {
   "cell_type": "markdown",
   "id": "97537745-a72b-48cc-804a-310c07b94f74",
   "metadata": {},
   "source": [
    "Worth parallelizing...\n",
    "\n",
    "# Resample the model spectra"
   ]
  },
  {
   "cell_type": "code",
   "execution_count": 13,
   "id": "831e673a-8715-4101-8e41-7697ea25471c",
   "metadata": {},
   "outputs": [],
   "source": [
    "resampler = FluxConservingResampler()\n",
    "wl_mid = (wl_bins[:-1] + wl_bins[1:])/2\n",
    "def do_resample(in_path, overwrite=False, prefilter=False):\n",
    "    out_path = in_path.parent / (f'subsampled_{len(wl_bins)}_' + in_path.stem.split('.PHOENIX')[0] + '.fits')\n",
    "    if out_path.is_file():\n",
    "        if not overwrite:\n",
    "            return (out_path, 'exists')\n",
    "    try:\n",
    "        msg = ''\n",
    "        with fits.open(in_path) as f:\n",
    "            if 'BUNIT' in f[0].header:\n",
    "                unit = u.Unit(f[0].header['BUNIT'])\n",
    "            else:\n",
    "                unit = u.erg/u.s * u.cm**-2 / u.cm\n",
    "                \n",
    "            model_spec = Spectrum1D(spectral_axis=phoenix_wave, flux=f[0].data << unit)\n",
    "\n",
    "        if prefilter:\n",
    "            msk = (wl_bins[0] <= model_spec.spectral_axis) & (model_spec.spectral_axis<=wl_bins[-1])\n",
    "            sub_spec = Spectrum1D(spectral_axis=model_spec.spectral_axis[msk], \n",
    "                                                    flux=model_spec.flux[msk])\n",
    "        else:\n",
    "            sub_spec = Spectrum1D(spectral_axis=model_spec.spectral_axis, \n",
    "                                                    flux=model_spec.flux)\n",
    "            \n",
    "        \n",
    "        resampled = resampler.resample1d(sub_spec, wl_mid)\n",
    "        resampled.write(out_path, format='tabular-fits', overwrite=True)\n",
    "    \n",
    "        return (out_path, msg) # means success\n",
    "    except Exception as e:\n",
    "        return (None, str(e)) # failed"
   ]
  },
  {
   "cell_type": "code",
   "execution_count": 14,
   "id": "9316cd9b-1337-49a3-bc49-795b213f814b",
   "metadata": {},
   "outputs": [
    {
     "data": {
      "application/vnd.jupyter.widget-view+json": {
       "model_id": "92457b7e534e49608162557b7f0ee828",
       "version_major": 2,
       "version_minor": 0
      },
      "text/plain": [
       "  0%|          | 0/7559 [00:00<?, ?it/s]"
      ]
     },
     "metadata": {},
     "output_type": "display_data"
    },
    {
     "data": {
      "text/plain": [
       "[]"
      ]
     },
     "execution_count": 14,
     "metadata": {},
     "output_type": "execute_result"
    }
   ],
   "source": [
    "pool = multiprocess.Pool()\n",
    "res = list(tqdm(pool.imap(lambda x:do_resample(x, overwrite=False, prefilter=False), (m[0] for m in matches)), total=len(matches)))\n",
    "\n",
    "failures = [(msg, matches[i][0]) for i, (fn, msg) in enumerate(res) if fn is None]\n",
    "assert len(failures)<1, str(failures)\n",
    "\n",
    "[(msg, matches[i][0]) for i, (fn, msg) in enumerate(res) if msg != '' and msg != 'exists']"
   ]
  },
  {
   "cell_type": "code",
   "execution_count": 15,
   "id": "479be346-3619-449d-ba3f-78cb325d757a",
   "metadata": {},
   "outputs": [],
   "source": [
    "subsampled_matches = [PhoenixFiles(r[0], *m[1:]) for r, m in zip(res, matches)]"
   ]
  },
  {
   "cell_type": "code",
   "execution_count": 16,
   "id": "44b7a094-5642-4a5a-b949-ffed8b70819c",
   "metadata": {},
   "outputs": [
    {
     "data": {
      "text/plain": [
       "(382608, 382608)"
      ]
     },
     "execution_count": 16,
     "metadata": {},
     "output_type": "execute_result"
    }
   ],
   "source": [
    "with fits.open(subsampled_matches[0].pth) as f:\n",
    "    d = f[1].data['flux']\n",
    "    wl = f[1].data['wavelength']\n",
    "d.size*d.dtype.itemsize, wl.size*wl.dtype.itemsize"
   ]
  },
  {
   "cell_type": "markdown",
   "id": "57753736-6112-4ad2-8e7c-7929237db0d9",
   "metadata": {},
   "source": [
    "We really only need the wl once, it's already above. How much memory will this take?"
   ]
  },
  {
   "cell_type": "code",
   "execution_count": 17,
   "id": "1adff043-4fd8-4466-842d-8d92403e9da4",
   "metadata": {},
   "outputs": [
    {
     "data": {
      "text/plain": [
       "2758.153793334961"
      ]
     },
     "execution_count": 17,
     "metadata": {},
     "output_type": "execute_result"
    }
   ],
   "source": [
    "len(subsampled_matches)*d.size*d.dtype.itemsize/1024/1024 #MB"
   ]
  },
  {
   "cell_type": "markdown",
   "id": "683d1c99-8e4e-4494-b812-c0c0ee0bb39b",
   "metadata": {},
   "source": [
    "Ah so not a problem at all to keep in memory at this size."
   ]
  },
  {
   "cell_type": "code",
   "execution_count": null,
   "id": "b937fbf7-3f82-4d61-ba9a-d6a8d09d4f50",
   "metadata": {},
   "outputs": [
    {
     "data": {
      "application/vnd.jupyter.widget-view+json": {
       "model_id": "bdb9bd6bce4745d98f222ca5583f8fb4",
       "version_major": 2,
       "version_minor": 0
      },
      "text/plain": [
       "  0%|          | 0/7559 [00:00<?, ?it/s]"
      ]
     },
     "metadata": {},
     "output_type": "display_data"
    }
   ],
   "source": [
    "fluxes = []\n",
    "for sm in tqdm(subsampled_matches):\n",
    "    spec = Spectrum1D.read(sm.pth)\n",
    "    fluxes.append(spec.flux)\n",
    "fluxes = u.Quantity(fluxes)\n",
    "fluxes.shape"
   ]
  },
  {
   "cell_type": "code",
   "execution_count": null,
   "id": "657ae7a3-081e-4ce3-9976-750161f40a47",
   "metadata": {},
   "outputs": [],
   "source": [
    "perspec_features = {}\n",
    "for fnm in sm._fields[1:]:\n",
    "    flst = []\n",
    "    for sm in subsampled_matches:\n",
    "        flst.append(getattr(sm, fnm))\n",
    "    perspec_features[fnm + 's'] = np.array(flst, dtype=float)\n",
    "perspec_features.keys()"
   ]
  },
  {
   "cell_type": "markdown",
   "id": "8d246d92-5376-4b57-b13f-1393f94df5f0",
   "metadata": {},
   "source": [
    "We will also need photometry estimates. Check out [proof_of_concept_specphot](proof_of_concept_specphot.ipynb) for that."
   ]
  },
  {
   "cell_type": "code",
   "execution_count": null,
   "id": "9070ea87-7fc5-4960-ab17-226260b40bd2",
   "metadata": {},
   "outputs": [],
   "source": []
  },
  {
   "cell_type": "code",
   "execution_count": null,
   "id": "df6585e2-eeee-4199-ae37-b0add5568d5c",
   "metadata": {},
   "outputs": [],
   "source": []
  }
 ],
 "metadata": {
  "kernelspec": {
   "display_name": "Python 3 (ipykernel)",
   "language": "python",
   "name": "python3"
  },
  "language_info": {
   "codemirror_mode": {
    "name": "ipython",
    "version": 3
   },
   "file_extension": ".py",
   "mimetype": "text/x-python",
   "name": "python",
   "nbconvert_exporter": "python",
   "pygments_lexer": "ipython3",
   "version": "3.11.9"
  }
 },
 "nbformat": 4,
 "nbformat_minor": 5
}
