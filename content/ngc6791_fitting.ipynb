{
 "cells": [
  {
   "cell_type": "code",
   "execution_count": null,
   "id": "2dc02adc-cbe5-42c4-90d0-48f2404971df",
   "metadata": {},
   "outputs": [],
   "source": [
    "from ipylab import JupyterFrontEnd\n",
    "\n",
    "app = JupyterFrontEnd()\n",
    "app.commands.execute('docmanager:save')"
   ]
  }
 ],
 "metadata": {
  "kernelspec": {
   "display_name": "Python 3 (ipykernel)",
   "language": "python",
   "name": "python3"
  },
  "language_info": {
   "codemirror_mode": {
    "name": "ipython",
    "version": 3
   },
   "file_extension": ".py",
   "mimetype": "text/x-python",
   "name": "python",
   "nbconvert_exporter": "python",
   "pygments_lexer": "ipython3",
   "version": "3.11.1"
  }
 },
 "nbformat": 4,
 "nbformat_minor": 5
}
