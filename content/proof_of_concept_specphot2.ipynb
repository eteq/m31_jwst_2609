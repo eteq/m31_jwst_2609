{
 "cells": [
  {
   "cell_type": "code",
   "execution_count": null,
   "id": "eb9df65b-097d-4519-8654-c895923a05e3",
   "metadata": {},
   "outputs": [],
   "source": [
    "import pickle\n",
    "from pathlib import Path\n",
    "\n",
    "from tqdm.notebook import tqdm\n",
    "\n",
    "import numpy as np"
   ]
  },
  {
   "cell_type": "code",
   "execution_count": null,
   "id": "d0fbdc1e-f6ea-4769-9fbc-b0126681651f",
   "metadata": {},
   "outputs": [],
   "source": [
    "from matplotlib import pyplot as plt\n",
    "%matplotlib inline"
   ]
  },
  {
   "cell_type": "code",
   "execution_count": null,
   "id": "c1643db6-b4ee-4320-9a10-f0d9baf827e6",
   "metadata": {},
   "outputs": [],
   "source": [
    "ls *pickle"
   ]
  },
  {
   "cell_type": "code",
   "execution_count": null,
   "id": "3b932b56-48f2-40fa-8909-7f336d46324d",
   "metadata": {},
   "outputs": [],
   "source": [
    "with open('specphot_phoenix.pickle', 'rb') as f:\n",
    "    dct = pickle.load(f)\n",
    "dct.keys()"
   ]
  },
  {
   "cell_type": "code",
   "execution_count": null,
   "id": "6d4b005f-26f5-4a53-bd5d-059146ec0c10",
   "metadata": {},
   "outputs": [],
   "source": [
    "for k, v in dct.items():\n",
    "    globals()[k] = v"
   ]
  },
  {
   "cell_type": "code",
   "execution_count": null,
   "id": "3d3ef514-45e0-46b2-85ec-bc7d932820d8",
   "metadata": {},
   "outputs": [],
   "source": [
    "absmags.keys()0"
   ]
  },
  {
   "cell_type": "code",
   "execution_count": null,
   "id": "8a1bbd62-9576-4e1d-afaa-8505ad2e9809",
   "metadata": {},
   "outputs": [],
   "source": [
    "featuresl = features.copy()\n",
    "featuresl['logteff'] = np.log10(featuresl.pop('teff'))\n",
    "featuresl"
   ]
  },
  {
   "cell_type": "code",
   "execution_count": null,
   "id": "7df41dfe-250f-4fb0-a38f-356a62bb4b88",
   "metadata": {},
   "outputs": [],
   "source": [
    "next(iter(featuresl.values())).shape, next(iter(absmags.values())).shape"
   ]
  },
  {
   "cell_type": "code",
   "execution_count": null,
   "id": "5a672f17-a32b-4c53-8761-ce667b1ae1e7",
   "metadata": {},
   "outputs": [],
   "source": [
    "test_absmags = {k:v for k,v in absmags.items() if ('F814W' in k or 'F606W' in k)}\n",
    "test_absmags.keys()"
   ]
  },
  {
   "cell_type": "markdown",
   "id": "f5f10cfd-4b46-4601-8959-c0ed01e806eb",
   "metadata": {},
   "source": [
    "# SVMs? "
   ]
  },
  {
   "cell_type": "code",
   "execution_count": null,
   "id": "e979cb5f-d389-4f0e-accb-693b60642022",
   "metadata": {},
   "outputs": [],
   "source": [
    "from sklearn import svm"
   ]
  },
  {
   "cell_type": "code",
   "execution_count": null,
   "id": "19518163-89ed-402c-af1a-d8ac87d57899",
   "metadata": {},
   "outputs": [],
   "source": [
    "X = np.array(list(test_absmags.values()))\n",
    "y = featuresl['logg']\n",
    "\n",
    "plt.scatter(X[0], X[1], c=y, s= 2, alpha=.5)\n",
    "plt.colorbar()"
   ]
  },
  {
   "cell_type": "code",
   "execution_count": null,
   "id": "5e89e442-ca87-4206-8d1c-3d2efbacf345",
   "metadata": {},
   "outputs": [],
   "source": [
    "regr = svm.SVR()\n",
    "regr.fit(X.T, y)"
   ]
  },
  {
   "cell_type": "code",
   "execution_count": null,
   "id": "ce6d41e3-32e9-4257-9a27-f774f679b926",
   "metadata": {},
   "outputs": [],
   "source": [
    "plt.scatter(X[0], X[1], c=regr.predict(X.T), s= 2, alpha=.5)"
   ]
  },
  {
   "cell_type": "markdown",
   "id": "cc5e351b-8cdc-436a-83cf-c61923e41177",
   "metadata": {},
   "source": [
    "Hmm.  Simple enough it might work?"
   ]
  },
  {
   "cell_type": "code",
   "execution_count": null,
   "id": "dbc99085-bbb1-4eab-80f1-aaab2b851a4f",
   "metadata": {},
   "outputs": [],
   "source": [
    "svms = {}\n",
    "\n",
    "# this is the default, and it doesn't seem to do much better even trying the others...\n",
    "kernel = 'rbf' # 'linear', 'poly', 'rbf', 'sigmoid'\n",
    "degree = 3\n",
    "\n",
    "for fnm, y in featuresl.items():\n",
    "    svms[fnm] = regr = svm.SVR(kernel=kernel, degree=degree)\n",
    "    regr.fit(X.T, y)"
   ]
  },
  {
   "cell_type": "code",
   "execution_count": null,
   "id": "6725573f-1b01-4b99-818e-1458ce424862",
   "metadata": {},
   "outputs": [],
   "source": [
    "fig, axs = plt.subplots(len(svms), 3, figsize=(15, 15))\n",
    "\n",
    "for (ax1, ax2, ax3), (fnm, regr) in zip(axs, svms.items()):\n",
    "    y = featuresl[fnm]\n",
    "    yp = regr.predict(X.T)\n",
    "\n",
    "    mi = np.min(np.concatenate([y, yp]))\n",
    "    mx = np.max(np.concatenate([y, yp]))\n",
    "\n",
    "    sc1 = ax1.scatter(X[0], X[1], c=y, s=2, alpha=.5, vmin=mi, vmax=mx)\n",
    "    sc2 = ax2.scatter(X[0], X[1], c=yp, s=2, alpha=.5, vmin=mi, vmax=mx)\n",
    "    plt.colorbar(sc1).set_label(fnm)\n",
    "\n",
    "    sc3 = ax3.scatter(X[0], y-yp, c=X[1], s=2, alpha=.5)\n",
    "    plt.colorbar(sc3).set_label('mag2')"
   ]
  },
  {
   "cell_type": "markdown",
   "id": "896a226f-4948-4dd4-b071-1651352e3609",
   "metadata": {},
   "source": [
    "With any choice of kernel we still have this (unsurprising) problem that the Fe/H dependence is hard to capture."
   ]
  },
  {
   "cell_type": "markdown",
   "id": "5b7c555b-4083-4e6f-b8b9-ed22c42145d3",
   "metadata": {},
   "source": [
    "## Gaussian Process?"
   ]
  },
  {
   "cell_type": "code",
   "execution_count": null,
   "id": "24fe09a0-744b-49ca-a6d1-e22e2d53fdd2",
   "metadata": {},
   "outputs": [],
   "source": [
    "from sklearn.gaussian_process import GaussianProcessRegressor\n",
    "from sklearn.gaussian_process.kernels import *\n",
    "from sklearn.pipeline import make_pipeline\n",
    "from sklearn.preprocessing import StandardScaler\n",
    "\n",
    "X = np.array(list(test_absmags.values()))\n",
    "y = featuresl['logg']\n",
    "\n",
    "\n",
    "kernel = 1.0 * ExpSineSquared(1.0, 5.0, periodicity_bounds=(1e-2, 1e1))\n",
    "kernel = 1 * RBF(length_scale=.1, length_scale_bounds=(1e-2, 1e2))\n",
    "kernel = 1 * Matern(length_scale=.1, nu=1.5)\n",
    "\n",
    "gaussian_process = GaussianProcessRegressor(kernel=kernel, n_restarts_optimizer=9)\n",
    "\n",
    "pl = make_pipeline(StandardScaler(), gaussian_process)\n",
    "pl = gaussian_process\n",
    "\n",
    "sub = np.random.permutation(y.size)[:100]\n",
    "pl.fit(X.T[sub], y[sub])"
   ]
  },
  {
   "cell_type": "code",
   "execution_count": null,
   "id": "f4a798d9-f6d1-495e-adee-703070edfe92",
   "metadata": {},
   "outputs": [],
   "source": [
    "yp = pl.predict(X.T)\n",
    "\n",
    "mi = np.min(np.concatenate([y, yp]))\n",
    "mx = np.max(np.concatenate([y, yp]))\n",
    "\n",
    "plt.scatter(X[0], X[1], c=y, s=2, alpha=.5, vmin=mi, vmax=mx)\n",
    "plt.figure()\n",
    "plt.scatter(X[0], X[1], c=yp, s=2, alpha=.5, vmin=mi, vmax=mx)"
   ]
  },
  {
   "cell_type": "markdown",
   "id": "a89d1ee6-f191-4dd8-ae4e-1aab458c81f7",
   "metadata": {},
   "source": [
    "Hmm, it works but doesn't converge sometimes?"
   ]
  },
  {
   "cell_type": "markdown",
   "id": "a9c1fc2f-dc67-418d-aba2-f3330f9b048a",
   "metadata": {},
   "source": [
    "## Decision trees"
   ]
  },
  {
   "cell_type": "code",
   "execution_count": null,
   "id": "f5105da4-35ed-45d4-a2c7-48682fb12622",
   "metadata": {},
   "outputs": [],
   "source": [
    "from sklearn import tree\n",
    "\n",
    "\n",
    "X = np.array(list(test_absmags.values()))\n",
    "y = featuresl['logg']\n"
   ]
  },
  {
   "cell_type": "code",
   "execution_count": null,
   "id": "2cab93a8-5b31-43cb-ad06-9ca2cd579843",
   "metadata": {},
   "outputs": [],
   "source": [
    "dtree = tree.DecisionTreeRegressor(max_depth=None)\n",
    "\n",
    "\n",
    "training_sub = np.random.permutation(y.size)[:100000]\n",
    "\n",
    "dtree.fit(X.T[training_sub], y[training_sub])"
   ]
  },
  {
   "cell_type": "code",
   "execution_count": null,
   "id": "14f72491-77fc-4598-aa0e-99dd3c30040c",
   "metadata": {},
   "outputs": [],
   "source": [
    "yp = dtree.predict(X.T)\n",
    "\n",
    "mi = np.min(np.concatenate([y, yp]))\n",
    "mx = np.max(np.concatenate([y, yp]))\n",
    "\n",
    "plt.scatter(X[0], X[1], c=y, s=2, alpha=.5, vmin=mi, vmax=mx)\n",
    "plt.figure()\n",
    "plt.scatter(X[0], X[1], c=yp, s=2, alpha=.5, vmin=mi, vmax=mx)"
   ]
  },
  {
   "cell_type": "markdown",
   "id": "dd29ff5a-961b-43e9-9854-f28558e42984",
   "metadata": {},
   "source": [
    "multioutput?"
   ]
  },
  {
   "cell_type": "code",
   "execution_count": null,
   "id": "d7edf7d9-387d-413e-9780-38453a8c0deb",
   "metadata": {},
   "outputs": [],
   "source": [
    "yall = np.array(list(featuresl.values()))"
   ]
  },
  {
   "cell_type": "code",
   "execution_count": null,
   "id": "2762baf3-859f-4300-abcf-36143b97b065",
   "metadata": {},
   "outputs": [],
   "source": [
    "mtree = tree.DecisionTreeRegressor(max_depth=None)\n",
    "\n",
    "training_sub = np.random.permutation(y.size)[:500]\n",
    "\n",
    "mtree.fit(X.T[training_sub], yall.T[training_sub])"
   ]
  },
  {
   "cell_type": "code",
   "execution_count": null,
   "id": "c9f61550-f549-4251-9458-ab6774db4910",
   "metadata": {},
   "outputs": [],
   "source": [
    "yp = mtree.predict(X.T)\n",
    "\n",
    "fig, axs = plt.subplots(len(svms), 3, figsize=(15, 15))\n",
    "\n",
    "for (ax1, ax2, ax3), (fnm, f), fyp in zip(axs, featuresl.items(), yp.T):\n",
    "    y = featuresl[fnm]\n",
    "\n",
    "    mi = np.min(np.concatenate([y, fyp]))\n",
    "    mx = np.max(np.concatenate([y, fyp]))\n",
    "\n",
    "    sc1 = ax1.scatter(X[0], X[1], c=y, s=2, alpha=.5, vmin=mi, vmax=mx)\n",
    "    sc2 = ax2.scatter(X[0], X[1], c=fyp, s=2, alpha=.5, vmin=mi, vmax=mx)\n",
    "    plt.colorbar(sc1).set_label(fnm)\n",
    "\n",
    "    sc3 = ax3.scatter(X[0], y-fyp, c=X[1], s=2, alpha=.5)\n",
    "    plt.colorbar(sc3).set_label('mag2')"
   ]
  },
  {
   "cell_type": "code",
   "execution_count": null,
   "id": "f21271f0-6c3e-4f0d-b078-1ba124cf60b8",
   "metadata": {},
   "outputs": [],
   "source": [
    "from sklearn import ensemble"
   ]
  },
  {
   "cell_type": "code",
   "execution_count": null,
   "id": "cdd9b60a-a71b-412b-802d-9b9f374084af",
   "metadata": {},
   "outputs": [],
   "source": [
    "forest = ensemble.RandomForestRegressor()\n",
    "\n",
    "training_sub = np.random.permutation(y.size)[:250000]\n",
    "\n",
    "forest.fit(X.T[training_sub], yall.T[training_sub])"
   ]
  },
  {
   "cell_type": "code",
   "execution_count": null,
   "id": "497b1552-c956-4f37-a527-021dc9c1501d",
   "metadata": {},
   "outputs": [],
   "source": [
    "yp = forest.predict(X.T)\n",
    "\n",
    "fig, axs = plt.subplots(len(svms), 3, figsize=(15, 15))\n",
    "\n",
    "for (ax1, ax2, ax3), (fnm, f), fyp in zip(axs, featuresl.items(), yp.T):\n",
    "    y = featuresl[fnm]\n",
    "\n",
    "    mi = np.min(np.concatenate([y, fyp]))\n",
    "    mx = np.max(np.concatenate([y, fyp]))\n",
    "\n",
    "    sc1 = ax1.scatter(X[0], X[1], c=y, s=2, alpha=.5, vmin=mi, vmax=mx)\n",
    "    sc2 = ax2.scatter(X[0], X[1], c=fyp, s=2, alpha=.5, vmin=mi, vmax=mx)\n",
    "    plt.colorbar(sc1).set_label(fnm)\n",
    "\n",
    "    sc3 = ax3.scatter(X[0], y-fyp, c=X[1], s=2, alpha=.5)\n",
    "    plt.colorbar(sc3).set_label('mag2')"
   ]
  },
  {
   "cell_type": "markdown",
   "id": "25b5fdfe-0f3b-49bd-8e00-5b7aecc467b0",
   "metadata": {},
   "source": [
    "Kinda works but still really fails to handle metalicity well."
   ]
  },
  {
   "cell_type": "code",
   "execution_count": null,
   "id": "905f2776-a7a5-4bc7-8795-40e9524cc759",
   "metadata": {},
   "outputs": [],
   "source": []
  }
 ],
 "metadata": {
  "kernelspec": {
   "display_name": "Python 3 (ipykernel)",
   "language": "python",
   "name": "python3"
  },
  "language_info": {
   "codemirror_mode": {
    "name": "ipython",
    "version": 3
   },
   "file_extension": ".py",
   "mimetype": "text/x-python",
   "name": "python",
   "nbconvert_exporter": "python",
   "pygments_lexer": "ipython3",
   "version": "3.12.3"
  }
 },
 "nbformat": 4,
 "nbformat_minor": 5
}
