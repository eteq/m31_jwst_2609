{
 "cells": [
  {
   "cell_type": "code",
   "execution_count": 1,
   "id": "eb9df65b-097d-4519-8654-c895923a05e3",
   "metadata": {},
   "outputs": [],
   "source": [
    "import pickle\n",
    "from pathlib import Path\n",
    "\n",
    "from tqdm.notebook import tqdm\n",
    "\n",
    "import numpy as np"
   ]
  },
  {
   "cell_type": "code",
   "execution_count": 2,
   "id": "d0fbdc1e-f6ea-4769-9fbc-b0126681651f",
   "metadata": {},
   "outputs": [],
   "source": [
    "from matplotlib import pyplot as plt\n",
    "%matplotlib inline"
   ]
  },
  {
   "cell_type": "code",
   "execution_count": 3,
   "id": "c1643db6-b4ee-4320-9a10-f0d9baf827e6",
   "metadata": {},
   "outputs": [
    {
     "name": "stdout",
     "output_type": "stream",
     "text": [
      "specphot_phoenix.pickle\n"
     ]
    }
   ],
   "source": [
    "ls *pickle"
   ]
  },
  {
   "cell_type": "code",
   "execution_count": 4,
   "id": "3b932b56-48f2-40fa-8909-7f336d46324d",
   "metadata": {},
   "outputs": [
    {
     "data": {
      "text/plain": [
       "dict_keys(['features', 'absmags'])"
      ]
     },
     "execution_count": 4,
     "metadata": {},
     "output_type": "execute_result"
    }
   ],
   "source": [
    "with open('specphot_phoenix.pickle', 'rb') as f:\n",
    "    dct = pickle.load(f)\n",
    "dct.keys()"
   ]
  },
  {
   "cell_type": "code",
   "execution_count": 5,
   "id": "6d4b005f-26f5-4a53-bd5d-059146ec0c10",
   "metadata": {},
   "outputs": [],
   "source": [
    "for k, v in dct.items():\n",
    "    globals()[k] = v"
   ]
  },
  {
   "cell_type": "code",
   "execution_count": 6,
   "id": "8a1bbd62-9576-4e1d-afaa-8505ad2e9809",
   "metadata": {},
   "outputs": [
    {
     "data": {
      "text/plain": [
       "{'logg': array([4.5, 2.5, 2. , ..., 3.5, 5. , 3. ]),\n",
       " 'fehish': array([-0.5,  1. ,  1. , ..., -1. , -1. , -0. ]),\n",
       " 'logteff': array([3.92427929, 4.04921802, 3.73239376, ..., 3.94448267, 3.47712125,\n",
       "        3.38021124])}"
      ]
     },
     "execution_count": 6,
     "metadata": {},
     "output_type": "execute_result"
    }
   ],
   "source": [
    "featuresl = features.copy()\n",
    "featuresl['logteff'] = np.log10(featuresl.pop('teff'))\n",
    "featuresl"
   ]
  },
  {
   "cell_type": "code",
   "execution_count": null,
   "id": "20334ad3-52d0-451a-8699-b90ecd967592",
   "metadata": {},
   "outputs": [],
   "source": []
  }
 ],
 "metadata": {
  "kernelspec": {
   "display_name": "Python 3 (ipykernel)",
   "language": "python",
   "name": "python3"
  },
  "language_info": {
   "codemirror_mode": {
    "name": "ipython",
    "version": 3
   },
   "file_extension": ".py",
   "mimetype": "text/x-python",
   "name": "python",
   "nbconvert_exporter": "python",
   "pygments_lexer": "ipython3",
   "version": "3.11.9"
  }
 },
 "nbformat": 4,
 "nbformat_minor": 5
}
