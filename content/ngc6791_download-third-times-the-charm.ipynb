{
 "cells": [
  {
   "cell_type": "markdown",
   "id": "b09ca03b-a4dc-4fb1-b7f1-377b8ef0138a",
   "metadata": {},
   "source": [
    "Exporation in the portal shows that, paradoxically, one should pick the products from *one* level 3 object... And maybe also the MSA? TBD."
   ]
  },
  {
   "cell_type": "code",
   "execution_count": 61,
   "id": "b26d9f75-de51-4a9d-b673-74d1198837e7",
   "metadata": {},
   "outputs": [
    {
     "name": "stdout",
     "output_type": "stream",
     "text": [
      "INFO: MAST API token accepted, welcome Erik Tollerud [astroquery.mast.auth]\n"
     ]
    }
   ],
   "source": [
    "import os\n",
    "from pathlib import Path\n",
    "import json\n",
    "\n",
    "import numpy as np\n",
    "\n",
    "from astroquery.mast import Observations\n",
    "\n",
    "Observations.login(os.environ['MAST_TOKEN'])"
   ]
  },
  {
   "cell_type": "code",
   "execution_count": 53,
   "id": "bab21a16-43cf-4363-bc3c-57891947a655",
   "metadata": {},
   "outputs": [],
   "source": [
    "dl_dir = Path('./redux_test')\n",
    "dl_dir.mkdir(exist_ok=True)"
   ]
  },
  {
   "cell_type": "code",
   "execution_count": 2,
   "id": "41a8bc09-c96a-43ca-b94b-060e513072a8",
   "metadata": {},
   "outputs": [
    {
     "data": {
      "text/html": [
       "<div><i>Table masked=True length=312</i>\n",
       "<table id=\"table139874154673424\" class=\"table-striped table-bordered table-condensed\">\n",
       "<thead><tr><th>intentType</th><th>obs_collection</th><th>provenance_name</th><th>instrument_name</th><th>project</th><th>filters</th><th>wavelength_region</th><th>target_name</th><th>target_classification</th><th>obs_id</th><th>s_ra</th><th>s_dec</th><th>dataproduct_type</th><th>proposal_pi</th><th>calib_level</th><th>t_min</th><th>t_max</th><th>t_exptime</th><th>em_min</th><th>em_max</th><th>obs_title</th><th>t_obs_release</th><th>proposal_id</th><th>proposal_type</th><th>sequence_number</th><th>s_region</th><th>jpegURL</th><th>dataURL</th><th>dataRights</th><th>mtFlag</th><th>srcDen</th><th>obsid</th><th>objID</th></tr></thead>\n",
       "<thead><tr><th>str7</th><th>str4</th><th>str7</th><th>str12</th><th>str4</th><th>str12</th><th>str8</th><th>str27</th><th>str23</th><th>str40</th><th>float64</th><th>float64</th><th>str8</th><th>str14</th><th>int64</th><th>float64</th><th>float64</th><th>float64</th><th>float64</th><th>float64</th><th>str60</th><th>float64</th><th>str4</th><th>str2</th><th>int64</th><th>str115</th><th>str66</th><th>str67</th><th>str16</th><th>bool</th><th>float64</th><th>str9</th><th>str9</th></tr></thead>\n",
       "<tr><td>science</td><td>JWST</td><td>CALJWST</td><td>NIRCAM/IMAGE</td><td>JWST</td><td>F150W</td><td>Infrared</td><td>M31-NIRCAM-PREIMAGING</td><td>Galaxy; Spiral galaxies</td><td>jw02609-o001_t006_nircam_clear-f150w</td><td>11.5375</td><td>42.08777777777778</td><td>image</td><td>Nidever, David</td><td>3</td><td>59810.65694302778</td><td>59810.67705800926</td><td>579.7860000000001</td><td>1331.0</td><td>1668.0</td><td>Searching for the Alpha-Abundance Bimodality in the M31 Disk</td><td>60178.64913193</td><td>2609</td><td>GO</td><td>--</td><td>POLYGON 11.626294139 42.085182162 11.551206832 42.026993085 11.454809877 42.095425524 11.529889742 42.15367744</td><td>mast:JWST/product/jw02609-o001_t006_nircam_clear-f150w_i2d.jpg</td><td>mast:JWST/product/jw02609-o001_t006_nircam_clear-f150w_i2d.fits</td><td>PUBLIC</td><td>False</td><td>nan</td><td>89383635</td><td>302391138</td></tr>\n",
       "<tr><td>science</td><td>JWST</td><td>CALJWST</td><td>NIRCAM/IMAGE</td><td>JWST</td><td>F277W</td><td>Infrared</td><td>M31-NIRCAM-PREIMAGING</td><td>Galaxy; Spiral galaxies</td><td>jw02609-o001_t006_nircam_clear-f277w</td><td>11.5375</td><td>42.08777777777778</td><td>image</td><td>Nidever, David</td><td>3</td><td>59810.65694376852</td><td>59810.67705800926</td><td>579.7860000000001</td><td>2416.0</td><td>3127.0</td><td>Searching for the Alpha-Abundance Bimodality in the M31 Disk</td><td>60178.64913193</td><td>2609</td><td>GO</td><td>--</td><td>POLYGON 11.625512875 42.084228042 11.550946577 42.027425799 11.455668682 42.096235438 11.530230532 42.15309936</td><td>mast:JWST/product/jw02609-o001_t006_nircam_clear-f277w_i2d.jpg</td><td>mast:JWST/product/jw02609-o001_t006_nircam_clear-f277w_i2d.fits</td><td>PUBLIC</td><td>False</td><td>nan</td><td>89383611</td><td>302391142</td></tr>\n",
       "<tr><td>science</td><td>JWST</td><td>CALJWST</td><td>NIRCAM/IMAGE</td><td>JWST</td><td>F277W</td><td>Infrared</td><td>M31-NIRCAM-PREIMAGING</td><td>Galaxy; Spiral galaxies</td><td>jw02609-o011_t006_nircam_clear-f277w</td><td>11.5375</td><td>42.08777777777778</td><td>image</td><td>Nidever, David</td><td>3</td><td>59950.47621005324</td><td>59953.01311548611</td><td>1546.0959999999998</td><td>2416.0</td><td>3127.0</td><td>Searching for the Alpha-Abundance Bimodality in the M31 Disk</td><td>60318.45665509</td><td>2609</td><td>GO</td><td>--</td><td>POLYGON 11.461288934 42.120741732 11.571466639 42.148301488 11.613865355 42.054764153 11.503831525 42.027244994</td><td>mast:JWST/product/jw02609-o011_t006_nircam_clear-f277w_i2d.jpg</td><td>mast:JWST/product/jw02609-o011_t006_nircam_clear-f277w_i2d.fits</td><td>EXCLUSIVE_ACCESS</td><td>False</td><td>nan</td><td>108153699</td><td>302401580</td></tr>\n",
       "<tr><td>science</td><td>JWST</td><td>CALJWST</td><td>NIRCAM/IMAGE</td><td>JWST</td><td>F150W</td><td>Infrared</td><td>M31-NIRCAM-PREIMAGING</td><td>Galaxy; Spiral galaxies</td><td>jw02609-o011_t006_nircam_clear-f150w</td><td>11.5375</td><td>42.08777777777778</td><td>image</td><td>Nidever, David</td><td>3</td><td>59950.4762093125</td><td>59953.01311548611</td><td>1546.0959999999998</td><td>1331.0</td><td>1668.0</td><td>Searching for the Alpha-Abundance Bimodality in the M31 Disk</td><td>60318.45665509</td><td>2609</td><td>GO</td><td>--</td><td>POLYGON 11.459863007 42.120481283 11.571274346 42.149150666 11.615210567 42.054932094 11.503944676 42.026305249</td><td>mast:JWST/product/jw02609-o011_t006_nircam_clear-f150w_i2d.jpg</td><td>mast:JWST/product/jw02609-o011_t006_nircam_clear-f150w_i2d.fits</td><td>EXCLUSIVE_ACCESS</td><td>False</td><td>nan</td><td>108153810</td><td>302401588</td></tr>\n",
       "<tr><td>science</td><td>JWST</td><td>CALJWST</td><td>NIRSPEC/MSA</td><td>JWST</td><td>F100LP;G140H</td><td>Infrared</td><td>M31-FINAL-MSATA+TARGETS</td><td>--</td><td>jw02609-o009_s00025_nirspec_f100lp-g140h</td><td>11.54042916666667</td><td>42.09025277777778</td><td>spectrum</td><td>Nidever, David</td><td>3</td><td>59920.11351762639</td><td>59920.36037075231</td><td>17506.667999999998</td><td>810.0</td><td>5000.0</td><td>Searching for the Alpha-Abundance Bimodality in the M31 Disk</td><td>60285.5394212</td><td>2609</td><td>GO</td><td>--</td><td>POLYGON 11.569943392 42.099595845 11.570087855 42.099595845 11.570087855 42.099498575 11.569943392 42.099498575</td><td>mast:JWST/product/jw02609-o009_s00025_nirspec_f100lp-g140h_cal.jpg</td><td>mast:JWST/product/jw02609-o009_s00025_nirspec_f100lp-g140h_s2d.fits</td><td>EXCLUSIVE_ACCESS</td><td>False</td><td>nan</td><td>103277123</td><td>302440437</td></tr>\n",
       "<tr><td>science</td><td>JWST</td><td>CALJWST</td><td>NIRSPEC/MSA</td><td>JWST</td><td>F100LP;G140H</td><td>Infrared</td><td>M31-FINAL-MSATA+TARGETS</td><td>--</td><td>jw02609-o009_s00074_nirspec_f100lp-g140h</td><td>11.54042916666667</td><td>42.09025277777778</td><td>spectrum</td><td>Nidever, David</td><td>3</td><td>59920.11351762639</td><td>59920.36037075231</td><td>17506.667999999998</td><td>810.0</td><td>5000.0</td><td>Searching for the Alpha-Abundance Bimodality in the M31 Disk</td><td>60285.5394212</td><td>2609</td><td>GO</td><td>--</td><td>POLYGON 11.590893743 42.085767506 11.591037715 42.085767506 11.591037715 42.085669782 11.590893743 42.085669782</td><td>mast:JWST/product/jw02609-o009_s00074_nirspec_f100lp-g140h_cal.jpg</td><td>mast:JWST/product/jw02609-o009_s00074_nirspec_f100lp-g140h_s2d.fits</td><td>EXCLUSIVE_ACCESS</td><td>False</td><td>nan</td><td>103277124</td><td>302440438</td></tr>\n",
       "<tr><td>...</td><td>...</td><td>...</td><td>...</td><td>...</td><td>...</td><td>...</td><td>...</td><td>...</td><td>...</td><td>...</td><td>...</td><td>...</td><td>...</td><td>...</td><td>...</td><td>...</td><td>...</td><td>...</td><td>...</td><td>...</td><td>...</td><td>...</td><td>...</td><td>...</td><td>...</td><td>...</td><td>...</td><td>...</td><td>...</td><td>...</td><td>...</td><td>...</td></tr>\n",
       "<tr><td>science</td><td>JWST</td><td>CALJWST</td><td>NIRSPEC/MSA</td><td>JWST</td><td>F100LP;G140H</td><td>Infrared</td><td>IC166-NEWCATALOG-GAIAEDR3</td><td>--</td><td>jw02609-o007_s01004_nirspec_f100lp-g140h</td><td>28.09702</td><td>61.86512777777778</td><td>spectrum</td><td>Nidever, David</td><td>3</td><td>59891.81792711713</td><td>59891.85567969907</td><td>291.778</td><td>810.0</td><td>5000.0</td><td>Searching for the Alpha-Abundance Bimodality in the M31 Disk</td><td>60256.96119201</td><td>2609</td><td>GO</td><td>--</td><td>POLYGON 28.07416215 61.89442883 28.074923369 61.89442883 28.074923369 61.894190287 28.07416215 61.894190287</td><td>mast:JWST/product/jw02609-o007_s01004_nirspec_f100lp-g140h_cal.jpg</td><td>mast:JWST/product/jw02609-o007_s01004_nirspec_f100lp-g140h_s2d.fits</td><td>EXCLUSIVE_ACCESS</td><td>False</td><td>nan</td><td>100545223</td><td>304161373</td></tr>\n",
       "<tr><td>science</td><td>JWST</td><td>CALJWST</td><td>NIRSPEC/MSA</td><td>JWST</td><td>F100LP;G140H</td><td>Infrared</td><td>IC166-NEWCATALOG-GAIAEDR3</td><td>--</td><td>jw02609-o007_s01114_nirspec_f100lp-g140h</td><td>28.09702</td><td>61.86512777777778</td><td>spectrum</td><td>Nidever, David</td><td>3</td><td>59891.81792711713</td><td>59891.85567969907</td><td>291.778</td><td>810.0</td><td>5000.0</td><td>Searching for the Alpha-Abundance Bimodality in the M31 Disk</td><td>60256.96119201</td><td>2609</td><td>GO</td><td>--</td><td>POLYGON 28.061811791 61.877454194 28.062573987 61.877454194 28.062573987 61.877217827 28.061811791 61.877217827</td><td>mast:JWST/product/jw02609-o007_s01114_nirspec_f100lp-g140h_cal.jpg</td><td>mast:JWST/product/jw02609-o007_s01114_nirspec_f100lp-g140h_s2d.fits</td><td>EXCLUSIVE_ACCESS</td><td>False</td><td>nan</td><td>100545236</td><td>304161378</td></tr>\n",
       "<tr><td>science</td><td>JWST</td><td>CALJWST</td><td>NIRSPEC/MSA</td><td>JWST</td><td>F100LP;G140H</td><td>Infrared</td><td>IC166-NEWCATALOG-GAIAEDR3</td><td>--</td><td>jw02609-o007_s00081_nirspec_f100lp-g140h</td><td>28.09702</td><td>61.86512777777778</td><td>spectrum</td><td>Nidever, David</td><td>3</td><td>59891.81792711713</td><td>59891.85567969907</td><td>291.778</td><td>810.0</td><td>5000.0</td><td>Searching for the Alpha-Abundance Bimodality in the M31 Disk</td><td>60256.96119201</td><td>2609</td><td>GO</td><td>--</td><td>POLYGON 28.132755263 61.85411945 28.133263552 61.85411945 28.133263552 61.853960871 28.132755263 61.853960871</td><td>mast:JWST/product/jw02609-o007_s00081_nirspec_f100lp-g140h_cal.jpg</td><td>mast:JWST/product/jw02609-o007_s00081_nirspec_f100lp-g140h_s2d.fits</td><td>EXCLUSIVE_ACCESS</td><td>False</td><td>nan</td><td>100545243</td><td>304161386</td></tr>\n",
       "<tr><td>science</td><td>JWST</td><td>CALJWST</td><td>NIRSPEC/MSA</td><td>JWST</td><td>F110W;MIRROR</td><td>Infrared</td><td>NGC6791-NEWCATALOG-GAIAEDR3</td><td>--</td><td>jw02609008001_02101_00002_nrs1</td><td>290.21948</td><td>37.76622777777778</td><td>image</td><td>Nidever, David</td><td>2</td><td>59811.67119774213</td><td>59811.67169481482</td><td>32.21</td><td>1000.0</td><td>1300.0</td><td>Searching for the Alpha-Abundance Bimodality in the M31 Disk</td><td>59968.616192</td><td>2609</td><td>GO</td><td>--</td><td>POLYGON 290.246308674 37.799969045 290.170557371 37.802988286 290.173976128 37.862571721 290.249813433 37.858268436</td><td>mast:JWST/product/jw02609008001_02101_00002_nrs1_cal.jpg</td><td>mast:JWST/product/jw02609008001_02101_00002_nrs1_cal.fits</td><td>PUBLIC</td><td>False</td><td>nan</td><td>89376201</td><td>323865353</td></tr>\n",
       "<tr><td>science</td><td>JWST</td><td>CALJWST</td><td>NIRSPEC/MSA</td><td>JWST</td><td>F110W;MIRROR</td><td>Infrared</td><td>NGC6791-NEWCATALOG-GAIAEDR3</td><td>--</td><td>jw02609008001_02101_00002_nrs2</td><td>290.21948</td><td>37.76622777777778</td><td>image</td><td>Nidever, David</td><td>2</td><td>59811.67119774213</td><td>59811.67169481482</td><td>32.21</td><td>1000.0</td><td>1300.0</td><td>Searching for the Alpha-Abundance Bimodality in the M31 Disk</td><td>59968.616192</td><td>2609</td><td>GO</td><td>--</td><td>POLYGON 290.241878974 37.737592338 290.16595988 37.739195427 290.170290683 37.798765269 290.246045144 37.795847808</td><td>mast:JWST/product/jw02609008001_02101_00002_nrs2_cal.jpg</td><td>mast:JWST/product/jw02609008001_02101_00002_nrs2_cal.fits</td><td>PUBLIC</td><td>False</td><td>nan</td><td>89376203</td><td>323865417</td></tr>\n",
       "<tr><td>science</td><td>JWST</td><td>CALJWST</td><td>NIRSPEC/MSA</td><td>JWST</td><td>F110W;MIRROR</td><td>Infrared</td><td>NGC6791-NEWCATALOG-GAIAEDR3</td><td>--</td><td>jw02609008001_02101_00001_nrs1</td><td>290.21948</td><td>37.76622777777778</td><td>image</td><td>Nidever, David</td><td>2</td><td>59811.66659922361</td><td>59811.6670962963</td><td>32.21</td><td>1000.0</td><td>1300.0</td><td>Searching for the Alpha-Abundance Bimodality in the M31 Disk</td><td>59968.616192</td><td>2609</td><td>GO</td><td>--</td><td>POLYGON 290.246403251 37.800002027 290.170651948 37.803021804 290.174071382 37.862605215 290.249908673 37.858301394</td><td>mast:JWST/product/jw02609008001_02101_00001_nrs1_cal.jpg</td><td>mast:JWST/product/jw02609008001_02101_00001_nrs1_cal.fits</td><td>PUBLIC</td><td>False</td><td>nan</td><td>89376205</td><td>323865477</td></tr>\n",
       "<tr><td>science</td><td>JWST</td><td>CALJWST</td><td>NIRSPEC/MSA</td><td>JWST</td><td>F110W;MIRROR</td><td>Infrared</td><td>NGC6791-NEWCATALOG-GAIAEDR3</td><td>--</td><td>jw02609008001_02101_00001_nrs2</td><td>290.21948</td><td>37.76622777777778</td><td>image</td><td>Nidever, David</td><td>2</td><td>59811.66659922361</td><td>59811.6670962963</td><td>32.21</td><td>1000.0</td><td>1300.0</td><td>Searching for the Alpha-Abundance Bimodality in the M31 Disk</td><td>59968.616192</td><td>2609</td><td>GO</td><td>--</td><td>POLYGON 290.241972844 37.737625352 290.166053733 37.739228977 290.170385212 37.798798789 290.246139675 37.795880793</td><td>mast:JWST/product/jw02609008001_02101_00001_nrs2_cal.jpg</td><td>mast:JWST/product/jw02609008001_02101_00001_nrs2_cal.fits</td><td>PUBLIC</td><td>False</td><td>nan</td><td>89376208</td><td>323865539</td></tr>\n",
       "</table></div>"
      ],
      "text/plain": [
       "<Table masked=True length=312>\n",
       "intentType obs_collection provenance_name ...  srcDen   obsid     objID  \n",
       "   str7         str4            str7      ... float64    str9      str9  \n",
       "---------- -------------- --------------- ... ------- --------- ---------\n",
       "   science           JWST         CALJWST ...     nan  89383635 302391138\n",
       "   science           JWST         CALJWST ...     nan  89383611 302391142\n",
       "   science           JWST         CALJWST ...     nan 108153699 302401580\n",
       "   science           JWST         CALJWST ...     nan 108153810 302401588\n",
       "   science           JWST         CALJWST ...     nan 103277123 302440437\n",
       "   science           JWST         CALJWST ...     nan 103277124 302440438\n",
       "       ...            ...             ... ...     ...       ...       ...\n",
       "   science           JWST         CALJWST ...     nan 100545223 304161373\n",
       "   science           JWST         CALJWST ...     nan 100545236 304161378\n",
       "   science           JWST         CALJWST ...     nan 100545243 304161386\n",
       "   science           JWST         CALJWST ...     nan  89376201 323865353\n",
       "   science           JWST         CALJWST ...     nan  89376203 323865417\n",
       "   science           JWST         CALJWST ...     nan  89376205 323865477\n",
       "   science           JWST         CALJWST ...     nan  89376208 323865539"
      ]
     },
     "execution_count": 2,
     "metadata": {},
     "output_type": "execute_result"
    }
   ],
   "source": [
    "obses = Observations.query_criteria(proposal_id=2609, project='JWST')\n",
    "obses"
   ]
  },
  {
   "cell_type": "code",
   "execution_count": 3,
   "id": "1ba4c7c0-8380-4186-98f0-795b7946d191",
   "metadata": {},
   "outputs": [
    {
     "data": {
      "text/html": [
       "<div><i>Table masked=True length=73</i>\n",
       "<table id=\"table139874154029072\" class=\"table-striped table-bordered table-condensed\">\n",
       "<thead><tr><th>intentType</th><th>obs_collection</th><th>provenance_name</th><th>instrument_name</th><th>project</th><th>filters</th><th>wavelength_region</th><th>target_name</th><th>target_classification</th><th>obs_id</th><th>s_ra</th><th>s_dec</th><th>dataproduct_type</th><th>proposal_pi</th><th>calib_level</th><th>t_min</th><th>t_max</th><th>t_exptime</th><th>em_min</th><th>em_max</th><th>obs_title</th><th>t_obs_release</th><th>proposal_id</th><th>proposal_type</th><th>sequence_number</th><th>s_region</th><th>jpegURL</th><th>dataURL</th><th>dataRights</th><th>mtFlag</th><th>srcDen</th><th>obsid</th><th>objID</th></tr></thead>\n",
       "<thead><tr><th>str7</th><th>str4</th><th>str7</th><th>str12</th><th>str4</th><th>str12</th><th>str8</th><th>str27</th><th>str23</th><th>str40</th><th>float64</th><th>float64</th><th>str8</th><th>str14</th><th>int64</th><th>float64</th><th>float64</th><th>float64</th><th>float64</th><th>float64</th><th>str60</th><th>float64</th><th>str4</th><th>str2</th><th>int64</th><th>str115</th><th>str66</th><th>str67</th><th>str16</th><th>bool</th><th>float64</th><th>str9</th><th>str9</th></tr></thead>\n",
       "<tr><td>science</td><td>JWST</td><td>CALJWST</td><td>NIRSPEC/MSA</td><td>JWST</td><td>F100LP;G140H</td><td>Infrared</td><td>NGC6791-NEWCATALOG-GAIAEDR3</td><td>--</td><td>jw02609-o010_s00066_nirspec_f100lp-g140h</td><td>290.21948</td><td>37.76622777777778</td><td>spectrum</td><td>Nidever, David</td><td>3</td><td>60136.569050925</td><td>60136.59446353009</td><td>291.778</td><td>810.0</td><td>5000.0</td><td>Searching for the Alpha-Abundance Bimodality in the M31 Disk</td><td>60503.07453698</td><td>2609</td><td>GO</td><td>--</td><td>POLYGON 290.213883652 37.775318651 290.214242736 37.775318651 290.214242736 37.774999661 290.213883652 37.774999661</td><td>mast:JWST/product/jw02609-o010_s00066_nirspec_f100lp-g140h_cal.jpg</td><td>mast:JWST/product/jw02609-o010_s00066_nirspec_f100lp-g140h_s2d.fits</td><td>EXCLUSIVE_ACCESS</td><td>False</td><td>nan</td><td>150936060</td><td>302560936</td></tr>\n",
       "<tr><td>science</td><td>JWST</td><td>CALJWST</td><td>NIRSPEC/MSA</td><td>JWST</td><td>F100LP;G140H</td><td>Infrared</td><td>NGC6791-NEWCATALOG-GAIAEDR3</td><td>--</td><td>jw02609-o010_s07401_nirspec_f100lp-g140h</td><td>290.21948</td><td>37.76622777777778</td><td>spectrum</td><td>Nidever, David</td><td>3</td><td>60136.569050925</td><td>60136.59446353009</td><td>291.778</td><td>810.0</td><td>5000.0</td><td>Searching for the Alpha-Abundance Bimodality in the M31 Disk</td><td>60503.07453698</td><td>2609</td><td>GO</td><td>--</td><td>POLYGON 290.23076538 37.776589126 290.231121565 37.776589126 290.231121565 37.776270923 290.23076538 37.776270923</td><td>mast:JWST/product/jw02609-o010_s07401_nirspec_f100lp-g140h_cal.jpg</td><td>mast:JWST/product/jw02609-o010_s07401_nirspec_f100lp-g140h_s2d.fits</td><td>EXCLUSIVE_ACCESS</td><td>False</td><td>nan</td><td>150936070</td><td>302560977</td></tr>\n",
       "<tr><td>science</td><td>JWST</td><td>CALJWST</td><td>NIRSPEC/MSA</td><td>JWST</td><td>F100LP;G140H</td><td>Infrared</td><td>NGC6791-NEWCATALOG-GAIAEDR3</td><td>--</td><td>jw02609-o010_s01449_nirspec_f100lp-g140h</td><td>290.21948</td><td>37.76622777777778</td><td>spectrum</td><td>Nidever, David</td><td>3</td><td>60136.569050925</td><td>60136.59446353009</td><td>291.778</td><td>810.0</td><td>5000.0</td><td>Searching for the Alpha-Abundance Bimodality in the M31 Disk</td><td>60503.07453698</td><td>2609</td><td>GO</td><td>--</td><td>POLYGON 290.195213274 37.729762629 290.1955935 37.729762629 290.1955935 37.72943138 290.195213274 37.72943138</td><td>mast:JWST/product/jw02609-o010_s01449_nirspec_f100lp-g140h_cal.jpg</td><td>mast:JWST/product/jw02609-o010_s01449_nirspec_f100lp-g140h_s2d.fits</td><td>EXCLUSIVE_ACCESS</td><td>False</td><td>nan</td><td>150936080</td><td>302561020</td></tr>\n",
       "<tr><td>science</td><td>JWST</td><td>CALJWST</td><td>NIRSPEC/MSA</td><td>JWST</td><td>F100LP;G140H</td><td>Infrared</td><td>NGC6791-NEWCATALOG-GAIAEDR3</td><td>--</td><td>jw02609-o010_s01782_nirspec_f100lp-g140h</td><td>290.21948</td><td>37.76622777777778</td><td>spectrum</td><td>Nidever, David</td><td>3</td><td>60136.569050925</td><td>60136.59446353009</td><td>291.778</td><td>810.0</td><td>5000.0</td><td>Searching for the Alpha-Abundance Bimodality in the M31 Disk</td><td>60503.07453698</td><td>2609</td><td>GO</td><td>--</td><td>POLYGON 290.219890719 37.733845701 290.220265945 37.733845701 290.220265945 37.733516017 290.219890719 37.733516017</td><td>mast:JWST/product/jw02609-o010_s01782_nirspec_f100lp-g140h_cal.jpg</td><td>mast:JWST/product/jw02609-o010_s01782_nirspec_f100lp-g140h_s2d.fits</td><td>EXCLUSIVE_ACCESS</td><td>False</td><td>nan</td><td>150936090</td><td>302561051</td></tr>\n",
       "<tr><td>science</td><td>JWST</td><td>CALJWST</td><td>NIRSPEC/MSA</td><td>JWST</td><td>F100LP;G140H</td><td>Infrared</td><td>NGC6791-NEWCATALOG-GAIAEDR3</td><td>--</td><td>jw02609-o010_s07918_nirspec_f100lp-g140h</td><td>290.21948</td><td>37.76622777777778</td><td>spectrum</td><td>Nidever, David</td><td>3</td><td>60136.569050925</td><td>60136.59446353009</td><td>291.778</td><td>810.0</td><td>5000.0</td><td>Searching for the Alpha-Abundance Bimodality in the M31 Disk</td><td>60503.07453698</td><td>2609</td><td>GO</td><td>--</td><td>POLYGON 290.203932183 37.774040014 290.204293022 37.774040014 290.204293022 37.773720639 290.203932183 37.773720639</td><td>mast:JWST/product/jw02609-o010_s07918_nirspec_f100lp-g140h_cal.jpg</td><td>mast:JWST/product/jw02609-o010_s07918_nirspec_f100lp-g140h_s2d.fits</td><td>EXCLUSIVE_ACCESS</td><td>False</td><td>nan</td><td>150936101</td><td>302561084</td></tr>\n",
       "<tr><td>science</td><td>JWST</td><td>CALJWST</td><td>NIRSPEC/MSA</td><td>JWST</td><td>F100LP;G140H</td><td>Infrared</td><td>NGC6791-NEWCATALOG-GAIAEDR3</td><td>--</td><td>jw02609-o010_s01421_nirspec_f100lp-g140h</td><td>290.21948</td><td>37.76622777777778</td><td>spectrum</td><td>Nidever, David</td><td>3</td><td>60136.569050925</td><td>60136.59446353009</td><td>291.778</td><td>810.0</td><td>5000.0</td><td>Searching for the Alpha-Abundance Bimodality in the M31 Disk</td><td>60503.07453698</td><td>2609</td><td>GO</td><td>--</td><td>POLYGON 290.198563795 37.74959792 290.198945893 37.74959792 290.198945893 37.749263171 290.198563795 37.749263171</td><td>mast:JWST/product/jw02609-o010_s01421_nirspec_f100lp-g140h_cal.jpg</td><td>mast:JWST/product/jw02609-o010_s01421_nirspec_f100lp-g140h_s2d.fits</td><td>EXCLUSIVE_ACCESS</td><td>False</td><td>nan</td><td>150936112</td><td>302561128</td></tr>\n",
       "<tr><td>...</td><td>...</td><td>...</td><td>...</td><td>...</td><td>...</td><td>...</td><td>...</td><td>...</td><td>...</td><td>...</td><td>...</td><td>...</td><td>...</td><td>...</td><td>...</td><td>...</td><td>...</td><td>...</td><td>...</td><td>...</td><td>...</td><td>...</td><td>...</td><td>...</td><td>...</td><td>...</td><td>...</td><td>...</td><td>...</td><td>...</td><td>...</td><td>...</td></tr>\n",
       "<tr><td>science</td><td>JWST</td><td>CALJWST</td><td>NIRSPEC/MSA</td><td>JWST</td><td>F100LP;G140H</td><td>Infrared</td><td>NGC6791-NEWCATALOG-GAIAEDR3</td><td>--</td><td>jw02609-o010_s01386_nirspec_f100lp-g140h</td><td>290.21948</td><td>37.76622777777778</td><td>spectrum</td><td>Nidever, David</td><td>3</td><td>60136.569050925</td><td>60136.59446353009</td><td>291.778</td><td>810.0</td><td>5000.0</td><td>Searching for the Alpha-Abundance Bimodality in the M31 Disk</td><td>60503.07453698</td><td>2609</td><td>GO</td><td>--</td><td>POLYGON 290.216732663 37.720144683 290.217106697 37.720144683 290.217106697 37.719817111 290.216732663 37.719817111</td><td>mast:JWST/product/jw02609-o010_s01386_nirspec_f100lp-g140h_cal.jpg</td><td>mast:JWST/product/jw02609-o010_s01386_nirspec_f100lp-g140h_s2d.fits</td><td>EXCLUSIVE_ACCESS</td><td>False</td><td>nan</td><td>150936726</td><td>302562766</td></tr>\n",
       "<tr><td>science</td><td>JWST</td><td>CALJWST</td><td>NIRSPEC/MSA</td><td>JWST</td><td>F100LP;G140H</td><td>Infrared</td><td>NGC6791-NEWCATALOG-GAIAEDR3</td><td>--</td><td>jw02609-o010_s01765_nirspec_f100lp-g140h</td><td>290.21948</td><td>37.76622777777778</td><td>spectrum</td><td>Nidever, David</td><td>3</td><td>60136.569050925</td><td>60136.59446353009</td><td>291.778</td><td>810.0</td><td>5000.0</td><td>Searching for the Alpha-Abundance Bimodality in the M31 Disk</td><td>60503.07453698</td><td>2609</td><td>GO</td><td>--</td><td>POLYGON 290.214325951 37.735189605 290.214702547 37.735189605 290.214702547 37.734859161 290.214325951 37.734859161</td><td>mast:JWST/product/jw02609-o010_s01765_nirspec_f100lp-g140h_cal.jpg</td><td>mast:JWST/product/jw02609-o010_s01765_nirspec_f100lp-g140h_s2d.fits</td><td>EXCLUSIVE_ACCESS</td><td>False</td><td>nan</td><td>150936739</td><td>302562785</td></tr>\n",
       "<tr><td>science</td><td>JWST</td><td>CALJWST</td><td>NIRSPEC/MSA</td><td>JWST</td><td>F100LP;G140H</td><td>Infrared</td><td>NGC6791-NEWCATALOG-GAIAEDR3</td><td>--</td><td>jw02609-o010_s01342_nirspec_f100lp-g140h</td><td>290.21948</td><td>37.76622777777778</td><td>spectrum</td><td>Nidever, David</td><td>3</td><td>60136.569050925</td><td>60136.59446353009</td><td>291.778</td><td>810.0</td><td>5000.0</td><td>Searching for the Alpha-Abundance Bimodality in the M31 Disk</td><td>60503.07453698</td><td>2609</td><td>GO</td><td>--</td><td>POLYGON 290.177006501 37.755639023 290.177371423 37.755639023 290.177371423 37.755321133 290.177006501 37.755321133</td><td>mast:JWST/product/jw02609-o010_s01342_nirspec_f100lp-g140h_cal.jpg</td><td>mast:JWST/product/jw02609-o010_s01342_nirspec_f100lp-g140h_s2d.fits</td><td>EXCLUSIVE_ACCESS</td><td>False</td><td>nan</td><td>150936748</td><td>302562803</td></tr>\n",
       "<tr><td>science</td><td>JWST</td><td>CALJWST</td><td>NIRSPEC/MSA</td><td>JWST</td><td>F110W;MIRROR</td><td>Infrared</td><td>NGC6791-NEWCATALOG-GAIAEDR3</td><td>--</td><td>jw02609008001_02101_00002_nrs1</td><td>290.21948</td><td>37.76622777777778</td><td>image</td><td>Nidever, David</td><td>2</td><td>59811.67119774213</td><td>59811.67169481482</td><td>32.21</td><td>1000.0</td><td>1300.0</td><td>Searching for the Alpha-Abundance Bimodality in the M31 Disk</td><td>59968.616192</td><td>2609</td><td>GO</td><td>--</td><td>POLYGON 290.246308674 37.799969045 290.170557371 37.802988286 290.173976128 37.862571721 290.249813433 37.858268436</td><td>mast:JWST/product/jw02609008001_02101_00002_nrs1_cal.jpg</td><td>mast:JWST/product/jw02609008001_02101_00002_nrs1_cal.fits</td><td>PUBLIC</td><td>False</td><td>nan</td><td>89376201</td><td>323865353</td></tr>\n",
       "<tr><td>science</td><td>JWST</td><td>CALJWST</td><td>NIRSPEC/MSA</td><td>JWST</td><td>F110W;MIRROR</td><td>Infrared</td><td>NGC6791-NEWCATALOG-GAIAEDR3</td><td>--</td><td>jw02609008001_02101_00002_nrs2</td><td>290.21948</td><td>37.76622777777778</td><td>image</td><td>Nidever, David</td><td>2</td><td>59811.67119774213</td><td>59811.67169481482</td><td>32.21</td><td>1000.0</td><td>1300.0</td><td>Searching for the Alpha-Abundance Bimodality in the M31 Disk</td><td>59968.616192</td><td>2609</td><td>GO</td><td>--</td><td>POLYGON 290.241878974 37.737592338 290.16595988 37.739195427 290.170290683 37.798765269 290.246045144 37.795847808</td><td>mast:JWST/product/jw02609008001_02101_00002_nrs2_cal.jpg</td><td>mast:JWST/product/jw02609008001_02101_00002_nrs2_cal.fits</td><td>PUBLIC</td><td>False</td><td>nan</td><td>89376203</td><td>323865417</td></tr>\n",
       "<tr><td>science</td><td>JWST</td><td>CALJWST</td><td>NIRSPEC/MSA</td><td>JWST</td><td>F110W;MIRROR</td><td>Infrared</td><td>NGC6791-NEWCATALOG-GAIAEDR3</td><td>--</td><td>jw02609008001_02101_00001_nrs1</td><td>290.21948</td><td>37.76622777777778</td><td>image</td><td>Nidever, David</td><td>2</td><td>59811.66659922361</td><td>59811.6670962963</td><td>32.21</td><td>1000.0</td><td>1300.0</td><td>Searching for the Alpha-Abundance Bimodality in the M31 Disk</td><td>59968.616192</td><td>2609</td><td>GO</td><td>--</td><td>POLYGON 290.246403251 37.800002027 290.170651948 37.803021804 290.174071382 37.862605215 290.249908673 37.858301394</td><td>mast:JWST/product/jw02609008001_02101_00001_nrs1_cal.jpg</td><td>mast:JWST/product/jw02609008001_02101_00001_nrs1_cal.fits</td><td>PUBLIC</td><td>False</td><td>nan</td><td>89376205</td><td>323865477</td></tr>\n",
       "<tr><td>science</td><td>JWST</td><td>CALJWST</td><td>NIRSPEC/MSA</td><td>JWST</td><td>F110W;MIRROR</td><td>Infrared</td><td>NGC6791-NEWCATALOG-GAIAEDR3</td><td>--</td><td>jw02609008001_02101_00001_nrs2</td><td>290.21948</td><td>37.76622777777778</td><td>image</td><td>Nidever, David</td><td>2</td><td>59811.66659922361</td><td>59811.6670962963</td><td>32.21</td><td>1000.0</td><td>1300.0</td><td>Searching for the Alpha-Abundance Bimodality in the M31 Disk</td><td>59968.616192</td><td>2609</td><td>GO</td><td>--</td><td>POLYGON 290.241972844 37.737625352 290.166053733 37.739228977 290.170385212 37.798798789 290.246139675 37.795880793</td><td>mast:JWST/product/jw02609008001_02101_00001_nrs2_cal.jpg</td><td>mast:JWST/product/jw02609008001_02101_00001_nrs2_cal.fits</td><td>PUBLIC</td><td>False</td><td>nan</td><td>89376208</td><td>323865539</td></tr>\n",
       "</table></div>"
      ],
      "text/plain": [
       "<Table masked=True length=73>\n",
       "intentType obs_collection provenance_name ...  srcDen   obsid     objID  \n",
       "   str7         str4            str7      ... float64    str9      str9  \n",
       "---------- -------------- --------------- ... ------- --------- ---------\n",
       "   science           JWST         CALJWST ...     nan 150936060 302560936\n",
       "   science           JWST         CALJWST ...     nan 150936070 302560977\n",
       "   science           JWST         CALJWST ...     nan 150936080 302561020\n",
       "   science           JWST         CALJWST ...     nan 150936090 302561051\n",
       "   science           JWST         CALJWST ...     nan 150936101 302561084\n",
       "   science           JWST         CALJWST ...     nan 150936112 302561128\n",
       "       ...            ...             ... ...     ...       ...       ...\n",
       "   science           JWST         CALJWST ...     nan 150936726 302562766\n",
       "   science           JWST         CALJWST ...     nan 150936739 302562785\n",
       "   science           JWST         CALJWST ...     nan 150936748 302562803\n",
       "   science           JWST         CALJWST ...     nan  89376201 323865353\n",
       "   science           JWST         CALJWST ...     nan  89376203 323865417\n",
       "   science           JWST         CALJWST ...     nan  89376205 323865477\n",
       "   science           JWST         CALJWST ...     nan  89376208 323865539"
      ]
     },
     "execution_count": 3,
     "metadata": {},
     "output_type": "execute_result"
    }
   ],
   "source": [
    "msk = np.array(['NGC6791' in row['target_name'].upper() for row in obses])\n",
    "n6791_obses = obses[msk]\n",
    "n6791_obses"
   ]
  },
  {
   "cell_type": "code",
   "execution_count": 4,
   "id": "256f5d51-9c7e-445d-91ba-07f3a1eb4e57",
   "metadata": {},
   "outputs": [
    {
     "data": {
      "text/html": [
       "<div><i>Table masked=True length=1</i>\n",
       "<table id=\"table139874154443728\" class=\"table-striped table-bordered table-condensed\">\n",
       "<thead><tr><th>intentType</th><th>obs_collection</th><th>provenance_name</th><th>instrument_name</th><th>project</th><th>filters</th><th>wavelength_region</th><th>target_name</th><th>target_classification</th><th>obs_id</th><th>s_ra</th><th>s_dec</th><th>dataproduct_type</th><th>proposal_pi</th><th>calib_level</th><th>t_min</th><th>t_max</th><th>t_exptime</th><th>em_min</th><th>em_max</th><th>obs_title</th><th>t_obs_release</th><th>proposal_id</th><th>proposal_type</th><th>sequence_number</th><th>s_region</th><th>jpegURL</th><th>dataURL</th><th>dataRights</th><th>mtFlag</th><th>srcDen</th><th>obsid</th><th>objID</th></tr></thead>\n",
       "<thead><tr><th>str7</th><th>str4</th><th>str7</th><th>str12</th><th>str4</th><th>str12</th><th>str8</th><th>str27</th><th>str23</th><th>str40</th><th>float64</th><th>float64</th><th>str8</th><th>str14</th><th>int64</th><th>float64</th><th>float64</th><th>float64</th><th>float64</th><th>float64</th><th>str60</th><th>float64</th><th>str4</th><th>str2</th><th>int64</th><th>str115</th><th>str66</th><th>str67</th><th>str16</th><th>bool</th><th>float64</th><th>str9</th><th>str9</th></tr></thead>\n",
       "<tr><td>science</td><td>JWST</td><td>CALJWST</td><td>NIRSPEC/MSA</td><td>JWST</td><td>F100LP;G140H</td><td>Infrared</td><td>NGC6791-NEWCATALOG-GAIAEDR3</td><td>--</td><td>jw02609-o010_s00066_nirspec_f100lp-g140h</td><td>290.21948</td><td>37.76622777777778</td><td>spectrum</td><td>Nidever, David</td><td>3</td><td>60136.569050925</td><td>60136.59446353009</td><td>291.778</td><td>810.0</td><td>5000.0</td><td>Searching for the Alpha-Abundance Bimodality in the M31 Disk</td><td>60503.07453698</td><td>2609</td><td>GO</td><td>--</td><td>POLYGON 290.213883652 37.775318651 290.214242736 37.775318651 290.214242736 37.774999661 290.213883652 37.774999661</td><td>mast:JWST/product/jw02609-o010_s00066_nirspec_f100lp-g140h_cal.jpg</td><td>mast:JWST/product/jw02609-o010_s00066_nirspec_f100lp-g140h_s2d.fits</td><td>EXCLUSIVE_ACCESS</td><td>False</td><td>nan</td><td>150936060</td><td>302560936</td></tr>\n",
       "</table></div>"
      ],
      "text/plain": [
       "<Table masked=True length=1>\n",
       "intentType obs_collection provenance_name ...  srcDen   obsid     objID  \n",
       "   str7         str4            str7      ... float64    str9      str9  \n",
       "---------- -------------- --------------- ... ------- --------- ---------\n",
       "   science           JWST         CALJWST ...     nan 150936060 302560936"
      ]
     },
     "execution_count": 4,
     "metadata": {},
     "output_type": "execute_result"
    }
   ],
   "source": [
    "single_spec_obs = n6791_obses[(n6791_obses['calib_level']==3)&(n6791_obses['dataproduct_type'] == 'spectrum')][:1]\n",
    "single_spec_obs"
   ]
  },
  {
   "cell_type": "code",
   "execution_count": 5,
   "id": "62f49e15-2a39-4e96-a278-9969ab262c68",
   "metadata": {},
   "outputs": [
    {
     "data": {
      "text/html": [
       "<div><i>Table masked=True length=535</i>\n",
       "<table id=\"table139874153110864\" class=\"table-striped table-bordered table-condensed\">\n",
       "<thead><tr><th>obsID</th><th>obs_collection</th><th>dataproduct_type</th><th>obs_id</th><th>description</th><th>type</th><th>dataURI</th><th>productType</th><th>productGroupDescription</th><th>productSubGroupDescription</th><th>productDocumentationURL</th><th>project</th><th>prvversion</th><th>proposal_id</th><th>productFilename</th><th>size</th><th>parent_obsid</th><th>dataRights</th><th>calib_level</th></tr></thead>\n",
       "<thead><tr><th>str9</th><th>str4</th><th>str8</th><th>str40</th><th>str71</th><th>str1</th><th>str68</th><th>str9</th><th>str28</th><th>str8</th><th>str1</th><th>str7</th><th>str6</th><th>str4</th><th>str50</th><th>int64</th><th>str9</th><th>str16</th><th>int64</th></tr></thead>\n",
       "<tr><td>150936060</td><td>JWST</td><td>spectrum</td><td>jw02609-o010_s00066_nirspec_f100lp-g140h</td><td>source/target (L3) : association generator</td><td>D</td><td>mast:JWST/product/jw02609-o010_20230829t055528_spec3_00001_asn.json</td><td>INFO</td><td>Minimum Recommended Products</td><td>ASN</td><td>--</td><td>CALJWST</td><td>1.11.4</td><td>2609</td><td>jw02609-o010_20230829t055528_spec3_00001_asn.json</td><td>4448</td><td>150936060</td><td>EXCLUSIVE_ACCESS</td><td>3</td></tr>\n",
       "<tr><td>150936060</td><td>JWST</td><td>spectrum</td><td>jw02609-o010_s00066_nirspec_f100lp-g140h</td><td>source/target (L3) : association pool</td><td>D</td><td>mast:JWST/product/jw02609_20230829t055528_pool.csv</td><td>INFO</td><td>Minimum Recommended Products</td><td>POOL</td><td>--</td><td>CALJWST</td><td>1.11.4</td><td>2609</td><td>jw02609_20230829t055528_pool.csv</td><td>76603</td><td>150936060</td><td>EXCLUSIVE_ACCESS</td><td>3</td></tr>\n",
       "<tr><td>150936060</td><td>JWST</td><td>spectrum</td><td>jw02609-o010_s00066_nirspec_f100lp-g140h</td><td>Preview-Full</td><td>D</td><td>mast:JWST/product/jw02609-o010_s00066_nirspec_f100lp-g140h_cal.jpg</td><td>PREVIEW</td><td>--</td><td>--</td><td>--</td><td>CALJWST</td><td>1.11.4</td><td>2609</td><td>jw02609-o010_s00066_nirspec_f100lp-g140h_cal.jpg</td><td>5676</td><td>150936060</td><td>EXCLUSIVE_ACCESS</td><td>3</td></tr>\n",
       "<tr><td>150936060</td><td>JWST</td><td>spectrum</td><td>jw02609-o010_s00066_nirspec_f100lp-g140h</td><td>Preview-Full</td><td>D</td><td>mast:JWST/product/jw02609-o010_s00066_nirspec_f100lp-g140h_crf.jpg</td><td>PREVIEW</td><td>--</td><td>--</td><td>--</td><td>CALJWST</td><td>1.11.4</td><td>2609</td><td>jw02609-o010_s00066_nirspec_f100lp-g140h_crf.jpg</td><td>5707</td><td>150936060</td><td>EXCLUSIVE_ACCESS</td><td>3</td></tr>\n",
       "<tr><td>150936060</td><td>JWST</td><td>spectrum</td><td>jw02609-o010_s00066_nirspec_f100lp-g140h</td><td>Preview-Full</td><td>D</td><td>mast:JWST/product/jw02609-o010_s00066_nirspec_f100lp-g140h_s2d.jpg</td><td>PREVIEW</td><td>--</td><td>--</td><td>--</td><td>CALJWST</td><td>1.11.4</td><td>2609</td><td>jw02609-o010_s00066_nirspec_f100lp-g140h_s2d.jpg</td><td>10391</td><td>150936060</td><td>EXCLUSIVE_ACCESS</td><td>3</td></tr>\n",
       "<tr><td>150936060</td><td>JWST</td><td>spectrum</td><td>jw02609-o010_s00066_nirspec_f100lp-g140h</td><td>exposure (L2b): 2D calibrated exposure average over integrations</td><td>D</td><td>mast:JWST/product/jw02609-o010_s00066_nirspec_f100lp-g140h_cal.fits</td><td>SCIENCE</td><td>Minimum Recommended Products</td><td>CAL</td><td>--</td><td>CALJWST</td><td>1.11.4</td><td>2609</td><td>jw02609-o010_s00066_nirspec_f100lp-g140h_cal.fits</td><td>6785280</td><td>150936060</td><td>EXCLUSIVE_ACCESS</td><td>3</td></tr>\n",
       "<tr><td>...</td><td>...</td><td>...</td><td>...</td><td>...</td><td>...</td><td>...</td><td>...</td><td>...</td><td>...</td><td>...</td><td>...</td><td>...</td><td>...</td><td>...</td><td>...</td><td>...</td><td>...</td><td>...</td></tr>\n",
       "<tr><td>150909879</td><td>JWST</td><td>spectrum</td><td>jw02609010001_03101_00002_nrs2</td><td>Preview-Full</td><td>S</td><td>mast:JWST/product/jw02609010001_03101_00002_nrs2_rateints.jpg</td><td>PREVIEW</td><td>--</td><td>--</td><td>--</td><td>CALJWST</td><td>1.10.1</td><td>2609</td><td>jw02609010001_03101_00002_nrs2_rateints.jpg</td><td>369949</td><td>150936060</td><td>EXCLUSIVE_ACCESS</td><td>2</td></tr>\n",
       "<tr><td>150909879</td><td>JWST</td><td>spectrum</td><td>jw02609010001_03101_00002_nrs2</td><td>Preview-Full</td><td>S</td><td>mast:JWST/product/jw02609010001_03101_00002_nrs2_s2d.jpg</td><td>PREVIEW</td><td>--</td><td>--</td><td>--</td><td>CALJWST</td><td>1.10.1</td><td>2609</td><td>jw02609010001_03101_00002_nrs2_s2d.jpg</td><td>8046</td><td>150936060</td><td>EXCLUSIVE_ACCESS</td><td>2</td></tr>\n",
       "<tr><td>150909879</td><td>JWST</td><td>spectrum</td><td>jw02609010001_03101_00002_nrs2</td><td>exposure (L2b): 2D calibrated exposure average over integrations</td><td>S</td><td>mast:JWST/product/jw02609010001_03101_00002_nrs2_cal.fits</td><td>SCIENCE</td><td>--</td><td>CAL</td><td>--</td><td>CALJWST</td><td>1.10.1</td><td>2609</td><td>jw02609010001_03101_00002_nrs2_cal.fits</td><td>154019520</td><td>150936060</td><td>EXCLUSIVE_ACCESS</td><td>2</td></tr>\n",
       "<tr><td>150909879</td><td>JWST</td><td>spectrum</td><td>jw02609010001_03101_00002_nrs2</td><td>exposure (L2a): 2D count rate averaged over integrations</td><td>S</td><td>mast:JWST/product/jw02609010001_03101_00002_nrs2_rate.fits</td><td>SCIENCE</td><td>--</td><td>RATE</td><td>--</td><td>CALJWST</td><td>1.10.1</td><td>2609</td><td>jw02609010001_03101_00002_nrs2_rate.fits</td><td>83943360</td><td>150936060</td><td>EXCLUSIVE_ACCESS</td><td>2</td></tr>\n",
       "<tr><td>150909879</td><td>JWST</td><td>spectrum</td><td>jw02609010001_03101_00002_nrs2</td><td>exposure (L2a): 3D countrate per integration</td><td>S</td><td>mast:JWST/product/jw02609010001_03101_00002_nrs2_rateints.fits</td><td>SCIENCE</td><td>--</td><td>RATEINTS</td><td>--</td><td>CALJWST</td><td>1.10.1</td><td>2609</td><td>jw02609010001_03101_00002_nrs2_rateints.fits</td><td>167829120</td><td>150936060</td><td>EXCLUSIVE_ACCESS</td><td>2</td></tr>\n",
       "<tr><td>150909879</td><td>JWST</td><td>spectrum</td><td>jw02609010001_03101_00002_nrs2</td><td>exposure/target (L2b/L3): 2D image of spectrum avg integrations</td><td>S</td><td>mast:JWST/product/jw02609010001_03101_00002_nrs2_s2d.fits</td><td>SCIENCE</td><td>--</td><td>S2D</td><td>--</td><td>CALJWST</td><td>1.10.1</td><td>2609</td><td>jw02609010001_03101_00002_nrs2_s2d.fits</td><td>61202880</td><td>150936060</td><td>EXCLUSIVE_ACCESS</td><td>2</td></tr>\n",
       "<tr><td>150909879</td><td>JWST</td><td>spectrum</td><td>jw02609010001_03101_00002_nrs2</td><td>exposure/target (L2b/L3): 1D extracted spectrum</td><td>S</td><td>mast:JWST/product/jw02609010001_03101_00002_nrs2_x1d.fits</td><td>SCIENCE</td><td>--</td><td>X1D</td><td>--</td><td>CALJWST</td><td>1.10.1</td><td>2609</td><td>jw02609010001_03101_00002_nrs2_x1d.fits</td><td>23014080</td><td>150936060</td><td>EXCLUSIVE_ACCESS</td><td>2</td></tr>\n",
       "</table></div>"
      ],
      "text/plain": [
       "<Table masked=True length=535>\n",
       "  obsID   obs_collection dataproduct_type ...    dataRights    calib_level\n",
       "   str9        str4            str8       ...      str16          int64   \n",
       "--------- -------------- ---------------- ... ---------------- -----------\n",
       "150936060           JWST         spectrum ... EXCLUSIVE_ACCESS           3\n",
       "150936060           JWST         spectrum ... EXCLUSIVE_ACCESS           3\n",
       "150936060           JWST         spectrum ... EXCLUSIVE_ACCESS           3\n",
       "150936060           JWST         spectrum ... EXCLUSIVE_ACCESS           3\n",
       "150936060           JWST         spectrum ... EXCLUSIVE_ACCESS           3\n",
       "150936060           JWST         spectrum ... EXCLUSIVE_ACCESS           3\n",
       "      ...            ...              ... ...              ...         ...\n",
       "150909879           JWST         spectrum ... EXCLUSIVE_ACCESS           2\n",
       "150909879           JWST         spectrum ... EXCLUSIVE_ACCESS           2\n",
       "150909879           JWST         spectrum ... EXCLUSIVE_ACCESS           2\n",
       "150909879           JWST         spectrum ... EXCLUSIVE_ACCESS           2\n",
       "150909879           JWST         spectrum ... EXCLUSIVE_ACCESS           2\n",
       "150909879           JWST         spectrum ... EXCLUSIVE_ACCESS           2\n",
       "150909879           JWST         spectrum ... EXCLUSIVE_ACCESS           2"
      ]
     },
     "execution_count": 5,
     "metadata": {},
     "output_type": "execute_result"
    }
   ],
   "source": [
    "single_prods = Observations.get_product_list(single_spec_obs)\n",
    "single_prods"
   ]
  },
  {
   "cell_type": "code",
   "execution_count": 6,
   "id": "f57b3eaa-001b-4067-ba4a-15a69ea17a7b",
   "metadata": {},
   "outputs": [
    {
     "data": {
      "text/html": [
       "<div><i>Table masked=True length=10</i>\n",
       "<table id=\"table139874154528336\" class=\"table-striped table-bordered table-condensed\">\n",
       "<thead><tr><th>obsID</th><th>obs_collection</th><th>dataproduct_type</th><th>obs_id</th><th>description</th><th>type</th><th>dataURI</th><th>productType</th><th>productGroupDescription</th><th>productSubGroupDescription</th><th>productDocumentationURL</th><th>project</th><th>prvversion</th><th>proposal_id</th><th>productFilename</th><th>size</th><th>parent_obsid</th><th>dataRights</th><th>calib_level</th></tr></thead>\n",
       "<thead><tr><th>str9</th><th>str4</th><th>str8</th><th>str40</th><th>str71</th><th>str1</th><th>str68</th><th>str9</th><th>str28</th><th>str8</th><th>str1</th><th>str7</th><th>str6</th><th>str4</th><th>str50</th><th>int64</th><th>str9</th><th>str16</th><th>int64</th></tr></thead>\n",
       "<tr><td>150910381</td><td>JWST</td><td>image</td><td>jw02609010001_02101_00001_nrs1</td><td>exposure (L2a): 2D count rate averaged over integrations</td><td>S</td><td>mast:JWST/product/jw02609010001_02101_00001_nrs1_rate.fits</td><td>SCIENCE</td><td>--</td><td>RATE</td><td>--</td><td>CALJWST</td><td>1.10.1</td><td>2609</td><td>jw02609010001_02101_00001_nrs1_rate.fits</td><td>83946240</td><td>150936060</td><td>EXCLUSIVE_ACCESS</td><td>2</td></tr>\n",
       "<tr><td>150910382</td><td>JWST</td><td>image</td><td>jw02609010001_02101_00001_nrs2</td><td>exposure (L2a): 2D count rate averaged over integrations</td><td>S</td><td>mast:JWST/product/jw02609010001_02101_00001_nrs2_rate.fits</td><td>SCIENCE</td><td>--</td><td>RATE</td><td>--</td><td>CALJWST</td><td>1.10.1</td><td>2609</td><td>jw02609010001_02101_00001_nrs2_rate.fits</td><td>83946240</td><td>150936060</td><td>EXCLUSIVE_ACCESS</td><td>2</td></tr>\n",
       "<tr><td>150910384</td><td>JWST</td><td>image</td><td>jw02609010001_02101_00002_nrs1</td><td>exposure (L2a): 2D count rate averaged over integrations</td><td>S</td><td>mast:JWST/product/jw02609010001_02101_00002_nrs1_rate.fits</td><td>SCIENCE</td><td>--</td><td>RATE</td><td>--</td><td>CALJWST</td><td>1.10.1</td><td>2609</td><td>jw02609010001_02101_00002_nrs1_rate.fits</td><td>83946240</td><td>150936060</td><td>EXCLUSIVE_ACCESS</td><td>2</td></tr>\n",
       "<tr><td>150910383</td><td>JWST</td><td>image</td><td>jw02609010001_02101_00002_nrs2</td><td>exposure (L2a): 2D count rate averaged over integrations</td><td>S</td><td>mast:JWST/product/jw02609010001_02101_00002_nrs2_rate.fits</td><td>SCIENCE</td><td>--</td><td>RATE</td><td>--</td><td>CALJWST</td><td>1.10.1</td><td>2609</td><td>jw02609010001_02101_00002_nrs2_rate.fits</td><td>83946240</td><td>150936060</td><td>EXCLUSIVE_ACCESS</td><td>2</td></tr>\n",
       "<tr><td>150909900</td><td>JWST</td><td>image</td><td>jw02609010001_02101_00003_nrs1</td><td>exposure (L2a): 2D count rate averaged over integrations</td><td>S</td><td>mast:JWST/product/jw02609010001_02101_00003_nrs1_rate.fits</td><td>SCIENCE</td><td>--</td><td>RATE</td><td>--</td><td>CALJWST</td><td>1.10.1</td><td>2609</td><td>jw02609010001_02101_00003_nrs1_rate.fits</td><td>83946240</td><td>150936060</td><td>EXCLUSIVE_ACCESS</td><td>2</td></tr>\n",
       "<tr><td>150909867</td><td>JWST</td><td>image</td><td>jw02609010001_02101_00003_nrs2</td><td>exposure (L2a): 2D count rate averaged over integrations</td><td>S</td><td>mast:JWST/product/jw02609010001_02101_00003_nrs2_rate.fits</td><td>SCIENCE</td><td>--</td><td>RATE</td><td>--</td><td>CALJWST</td><td>1.10.1</td><td>2609</td><td>jw02609010001_02101_00003_nrs2_rate.fits</td><td>83946240</td><td>150936060</td><td>EXCLUSIVE_ACCESS</td><td>2</td></tr>\n",
       "<tr><td>150909868</td><td>JWST</td><td>spectrum</td><td>jw02609010001_03101_00001_nrs1</td><td>exposure (L2a): 2D count rate averaged over integrations</td><td>S</td><td>mast:JWST/product/jw02609010001_03101_00001_nrs1_rate.fits</td><td>SCIENCE</td><td>--</td><td>RATE</td><td>--</td><td>CALJWST</td><td>1.10.1</td><td>2609</td><td>jw02609010001_03101_00001_nrs1_rate.fits</td><td>83943360</td><td>150936060</td><td>EXCLUSIVE_ACCESS</td><td>2</td></tr>\n",
       "<tr><td>150909866</td><td>JWST</td><td>spectrum</td><td>jw02609010001_03101_00001_nrs2</td><td>exposure (L2a): 2D count rate averaged over integrations</td><td>S</td><td>mast:JWST/product/jw02609010001_03101_00001_nrs2_rate.fits</td><td>SCIENCE</td><td>--</td><td>RATE</td><td>--</td><td>CALJWST</td><td>1.10.1</td><td>2609</td><td>jw02609010001_03101_00001_nrs2_rate.fits</td><td>83943360</td><td>150936060</td><td>EXCLUSIVE_ACCESS</td><td>2</td></tr>\n",
       "<tr><td>150909892</td><td>JWST</td><td>spectrum</td><td>jw02609010001_03101_00002_nrs1</td><td>exposure (L2a): 2D count rate averaged over integrations</td><td>S</td><td>mast:JWST/product/jw02609010001_03101_00002_nrs1_rate.fits</td><td>SCIENCE</td><td>--</td><td>RATE</td><td>--</td><td>CALJWST</td><td>1.10.1</td><td>2609</td><td>jw02609010001_03101_00002_nrs1_rate.fits</td><td>83943360</td><td>150936060</td><td>EXCLUSIVE_ACCESS</td><td>2</td></tr>\n",
       "<tr><td>150909879</td><td>JWST</td><td>spectrum</td><td>jw02609010001_03101_00002_nrs2</td><td>exposure (L2a): 2D count rate averaged over integrations</td><td>S</td><td>mast:JWST/product/jw02609010001_03101_00002_nrs2_rate.fits</td><td>SCIENCE</td><td>--</td><td>RATE</td><td>--</td><td>CALJWST</td><td>1.10.1</td><td>2609</td><td>jw02609010001_03101_00002_nrs2_rate.fits</td><td>83943360</td><td>150936060</td><td>EXCLUSIVE_ACCESS</td><td>2</td></tr>\n",
       "</table></div>"
      ],
      "text/plain": [
       "<Table masked=True length=10>\n",
       "  obsID   obs_collection dataproduct_type ...    dataRights    calib_level\n",
       "   str9        str4            str8       ...      str16          int64   \n",
       "--------- -------------- ---------------- ... ---------------- -----------\n",
       "150910381           JWST            image ... EXCLUSIVE_ACCESS           2\n",
       "150910382           JWST            image ... EXCLUSIVE_ACCESS           2\n",
       "150910384           JWST            image ... EXCLUSIVE_ACCESS           2\n",
       "150910383           JWST            image ... EXCLUSIVE_ACCESS           2\n",
       "150909900           JWST            image ... EXCLUSIVE_ACCESS           2\n",
       "150909867           JWST            image ... EXCLUSIVE_ACCESS           2\n",
       "150909868           JWST         spectrum ... EXCLUSIVE_ACCESS           2\n",
       "150909866           JWST         spectrum ... EXCLUSIVE_ACCESS           2\n",
       "150909892           JWST         spectrum ... EXCLUSIVE_ACCESS           2\n",
       "150909879           JWST         spectrum ... EXCLUSIVE_ACCESS           2"
      ]
     },
     "execution_count": 6,
     "metadata": {},
     "output_type": "execute_result"
    }
   ],
   "source": [
    "single_prods[single_prods['productSubGroupDescription'] == 'RATE']"
   ]
  },
  {
   "cell_type": "code",
   "execution_count": 7,
   "id": "f8863090-81a6-44ee-8926-32aca4c9ba38",
   "metadata": {},
   "outputs": [
    {
     "data": {
      "text/html": [
       "<div><i>Table masked=True length=11</i>\n",
       "<table id=\"table139874154526544\" class=\"table-striped table-bordered table-condensed\">\n",
       "<thead><tr><th>obsID</th><th>obs_collection</th><th>dataproduct_type</th><th>obs_id</th><th>description</th><th>type</th><th>dataURI</th><th>productType</th><th>productGroupDescription</th><th>productSubGroupDescription</th><th>productDocumentationURL</th><th>project</th><th>prvversion</th><th>proposal_id</th><th>productFilename</th><th>size</th><th>parent_obsid</th><th>dataRights</th><th>calib_level</th></tr></thead>\n",
       "<thead><tr><th>str9</th><th>str4</th><th>str8</th><th>str40</th><th>str71</th><th>str1</th><th>str68</th><th>str9</th><th>str28</th><th>str8</th><th>str1</th><th>str7</th><th>str6</th><th>str4</th><th>str50</th><th>int64</th><th>str9</th><th>str16</th><th>int64</th></tr></thead>\n",
       "<tr><td>150936060</td><td>JWST</td><td>spectrum</td><td>jw02609-o010_s00066_nirspec_f100lp-g140h</td><td>source/target (L3) : association generator</td><td>D</td><td>mast:JWST/product/jw02609-o010_20230829t055528_spec3_00001_asn.json</td><td>INFO</td><td>Minimum Recommended Products</td><td>ASN</td><td>--</td><td>CALJWST</td><td>1.11.4</td><td>2609</td><td>jw02609-o010_20230829t055528_spec3_00001_asn.json</td><td>4448</td><td>150936060</td><td>EXCLUSIVE_ACCESS</td><td>3</td></tr>\n",
       "<tr><td>150910381</td><td>JWST</td><td>image</td><td>jw02609010001_02101_00001_nrs1</td><td>source/target (L3) : association generator</td><td>S</td><td>mast:JWST/product/jw02609-o010_20230829t055528_image2_00006_asn.json</td><td>INFO</td><td>--</td><td>ASN</td><td>--</td><td>CALJWST</td><td>1.10.1</td><td>2609</td><td>jw02609-o010_20230829t055528_image2_00006_asn.json</td><td>1418</td><td>150936060</td><td>EXCLUSIVE_ACCESS</td><td>2</td></tr>\n",
       "<tr><td>150910382</td><td>JWST</td><td>image</td><td>jw02609010001_02101_00001_nrs2</td><td>source/target (L3) : association generator</td><td>S</td><td>mast:JWST/product/jw02609-o010_20230829t055528_image2_00005_asn.json</td><td>INFO</td><td>--</td><td>ASN</td><td>--</td><td>CALJWST</td><td>1.10.1</td><td>2609</td><td>jw02609-o010_20230829t055528_image2_00005_asn.json</td><td>1418</td><td>150936060</td><td>EXCLUSIVE_ACCESS</td><td>2</td></tr>\n",
       "<tr><td>150910384</td><td>JWST</td><td>image</td><td>jw02609010001_02101_00002_nrs1</td><td>source/target (L3) : association generator</td><td>S</td><td>mast:JWST/product/jw02609-o010_20230829t055528_image2_00004_asn.json</td><td>INFO</td><td>--</td><td>ASN</td><td>--</td><td>CALJWST</td><td>1.10.1</td><td>2609</td><td>jw02609-o010_20230829t055528_image2_00004_asn.json</td><td>1418</td><td>150936060</td><td>EXCLUSIVE_ACCESS</td><td>2</td></tr>\n",
       "<tr><td>150910383</td><td>JWST</td><td>image</td><td>jw02609010001_02101_00002_nrs2</td><td>source/target (L3) : association generator</td><td>S</td><td>mast:JWST/product/jw02609-o010_20230829t055528_image2_00003_asn.json</td><td>INFO</td><td>--</td><td>ASN</td><td>--</td><td>CALJWST</td><td>1.10.1</td><td>2609</td><td>jw02609-o010_20230829t055528_image2_00003_asn.json</td><td>1418</td><td>150936060</td><td>EXCLUSIVE_ACCESS</td><td>2</td></tr>\n",
       "<tr><td>150909900</td><td>JWST</td><td>image</td><td>jw02609010001_02101_00003_nrs1</td><td>source/target (L3) : association generator</td><td>S</td><td>mast:JWST/product/jw02609-o010_20230829t055528_image2_00002_asn.json</td><td>INFO</td><td>--</td><td>ASN</td><td>--</td><td>CALJWST</td><td>1.10.1</td><td>2609</td><td>jw02609-o010_20230829t055528_image2_00002_asn.json</td><td>1418</td><td>150936060</td><td>EXCLUSIVE_ACCESS</td><td>2</td></tr>\n",
       "<tr><td>150909867</td><td>JWST</td><td>image</td><td>jw02609010001_02101_00003_nrs2</td><td>source/target (L3) : association generator</td><td>S</td><td>mast:JWST/product/jw02609-o010_20230829t055528_image2_00001_asn.json</td><td>INFO</td><td>--</td><td>ASN</td><td>--</td><td>CALJWST</td><td>1.10.1</td><td>2609</td><td>jw02609-o010_20230829t055528_image2_00001_asn.json</td><td>1418</td><td>150936060</td><td>EXCLUSIVE_ACCESS</td><td>2</td></tr>\n",
       "<tr><td>150909868</td><td>JWST</td><td>spectrum</td><td>jw02609010001_03101_00001_nrs1</td><td>source/target (L3) : association generator</td><td>S</td><td>mast:JWST/product/jw02609-o010_20230829t055528_spec2_00004_asn.json</td><td>INFO</td><td>--</td><td>ASN</td><td>--</td><td>CALJWST</td><td>1.10.1</td><td>2609</td><td>jw02609-o010_20230829t055528_spec2_00004_asn.json</td><td>1987</td><td>150936060</td><td>EXCLUSIVE_ACCESS</td><td>2</td></tr>\n",
       "<tr><td>150909866</td><td>JWST</td><td>spectrum</td><td>jw02609010001_03101_00001_nrs2</td><td>source/target (L3) : association generator</td><td>S</td><td>mast:JWST/product/jw02609-o010_20230829t055528_spec2_00002_asn.json</td><td>INFO</td><td>--</td><td>ASN</td><td>--</td><td>CALJWST</td><td>1.10.1</td><td>2609</td><td>jw02609-o010_20230829t055528_spec2_00002_asn.json</td><td>1987</td><td>150936060</td><td>EXCLUSIVE_ACCESS</td><td>2</td></tr>\n",
       "<tr><td>150909892</td><td>JWST</td><td>spectrum</td><td>jw02609010001_03101_00002_nrs1</td><td>source/target (L3) : association generator</td><td>S</td><td>mast:JWST/product/jw02609-o010_20230829t055528_spec2_00003_asn.json</td><td>INFO</td><td>--</td><td>ASN</td><td>--</td><td>CALJWST</td><td>1.10.1</td><td>2609</td><td>jw02609-o010_20230829t055528_spec2_00003_asn.json</td><td>1987</td><td>150936060</td><td>EXCLUSIVE_ACCESS</td><td>2</td></tr>\n",
       "<tr><td>150909879</td><td>JWST</td><td>spectrum</td><td>jw02609010001_03101_00002_nrs2</td><td>source/target (L3) : association generator</td><td>S</td><td>mast:JWST/product/jw02609-o010_20230829t055528_spec2_00001_asn.json</td><td>INFO</td><td>--</td><td>ASN</td><td>--</td><td>CALJWST</td><td>1.10.1</td><td>2609</td><td>jw02609-o010_20230829t055528_spec2_00001_asn.json</td><td>1987</td><td>150936060</td><td>EXCLUSIVE_ACCESS</td><td>2</td></tr>\n",
       "</table></div>"
      ],
      "text/plain": [
       "<Table masked=True length=11>\n",
       "  obsID   obs_collection dataproduct_type ...    dataRights    calib_level\n",
       "   str9        str4            str8       ...      str16          int64   \n",
       "--------- -------------- ---------------- ... ---------------- -----------\n",
       "150936060           JWST         spectrum ... EXCLUSIVE_ACCESS           3\n",
       "150910381           JWST            image ... EXCLUSIVE_ACCESS           2\n",
       "150910382           JWST            image ... EXCLUSIVE_ACCESS           2\n",
       "150910384           JWST            image ... EXCLUSIVE_ACCESS           2\n",
       "150910383           JWST            image ... EXCLUSIVE_ACCESS           2\n",
       "150909900           JWST            image ... EXCLUSIVE_ACCESS           2\n",
       "150909867           JWST            image ... EXCLUSIVE_ACCESS           2\n",
       "150909868           JWST         spectrum ... EXCLUSIVE_ACCESS           2\n",
       "150909866           JWST         spectrum ... EXCLUSIVE_ACCESS           2\n",
       "150909892           JWST         spectrum ... EXCLUSIVE_ACCESS           2\n",
       "150909879           JWST         spectrum ... EXCLUSIVE_ACCESS           2"
      ]
     },
     "execution_count": 7,
     "metadata": {},
     "output_type": "execute_result"
    }
   ],
   "source": [
    "single_prods[single_prods['productSubGroupDescription'] == 'ASN']"
   ]
  },
  {
   "cell_type": "code",
   "execution_count": 59,
   "id": "73676197-99db-4519-bcc8-75b42557421a",
   "metadata": {},
   "outputs": [
    {
     "name": "stdout",
     "output_type": "stream",
     "text": [
      "INFO: Found cached file redux_test/jw02609-o010_20230829t055528_spec3_00001_asn.json with expected size 4448. [astroquery.query]\n",
      "INFO: Found cached file redux_test/jw02609-o010_20230829t055528_image2_00006_asn.json with expected size 1418. [astroquery.query]\n",
      "INFO: Found cached file redux_test/jw02609-o010_20230829t055528_image2_00005_asn.json with expected size 1418. [astroquery.query]\n",
      "INFO: Found cached file redux_test/jw02609-o010_20230829t055528_image2_00004_asn.json with expected size 1418. [astroquery.query]\n",
      "INFO: Found cached file redux_test/jw02609-o010_20230829t055528_image2_00003_asn.json with expected size 1418. [astroquery.query]\n",
      "INFO: Found cached file redux_test/jw02609-o010_20230829t055528_image2_00002_asn.json with expected size 1418. [astroquery.query]\n",
      "INFO: Found cached file redux_test/jw02609-o010_20230829t055528_image2_00001_asn.json with expected size 1418. [astroquery.query]\n",
      "INFO: Found cached file redux_test/jw02609-o010_20230829t055528_spec2_00004_asn.json with expected size 1987. [astroquery.query]\n",
      "INFO: Found cached file redux_test/jw02609-o010_20230829t055528_spec2_00002_asn.json with expected size 1987. [astroquery.query]\n",
      "INFO: Found cached file redux_test/jw02609-o010_20230829t055528_spec2_00003_asn.json with expected size 1987. [astroquery.query]\n",
      "INFO: Found cached file redux_test/jw02609-o010_20230829t055528_spec2_00001_asn.json with expected size 1987. [astroquery.query]\n"
     ]
    },
    {
     "data": {
      "text/plain": [
       "[PosixPath('redux_test/jw02609-o010_20230829t055528_spec3_00001_asn.json'),\n",
       " PosixPath('redux_test/jw02609-o010_20230829t055528_image2_00006_asn.json'),\n",
       " PosixPath('redux_test/jw02609-o010_20230829t055528_image2_00005_asn.json'),\n",
       " PosixPath('redux_test/jw02609-o010_20230829t055528_image2_00004_asn.json'),\n",
       " PosixPath('redux_test/jw02609-o010_20230829t055528_image2_00003_asn.json'),\n",
       " PosixPath('redux_test/jw02609-o010_20230829t055528_image2_00002_asn.json'),\n",
       " PosixPath('redux_test/jw02609-o010_20230829t055528_image2_00001_asn.json'),\n",
       " PosixPath('redux_test/jw02609-o010_20230829t055528_spec2_00004_asn.json'),\n",
       " PosixPath('redux_test/jw02609-o010_20230829t055528_spec2_00002_asn.json'),\n",
       " PosixPath('redux_test/jw02609-o010_20230829t055528_spec2_00003_asn.json'),\n",
       " PosixPath('redux_test/jw02609-o010_20230829t055528_spec2_00001_asn.json')]"
      ]
     },
     "execution_count": 59,
     "metadata": {},
     "output_type": "execute_result"
    }
   ],
   "source": [
    "asn_paths = []\n",
    "for row in single_prods[single_prods['productSubGroupDescription'] == 'ASN']:\n",
    "    asn_paths.append(dl_dir / row['productFilename'])\n",
    "    res = Observations.download_file(row['dataURI'], local_path=asn_paths[-1])\n",
    "asn_paths"
   ]
  },
  {
   "cell_type": "code",
   "execution_count": 63,
   "id": "8d48dc71-3a2b-43d3-bfca-fe905c2af4c5",
   "metadata": {},
   "outputs": [],
   "source": [
    "#urls = [Observations._portal_api_connection.MAST_DOWNLOAD_URL + '?uri=' + row['dataURI'] for row in \n",
    "#        single_prods[single_prods['productSubGroupDescription'] == 'ASN']]\n",
    "#asn_jsons = [requests.get(url).json() for url in urls]\n",
    "\n",
    "asn_jsons = []\n",
    "for p in asn_paths:\n",
    "    with p.open() as f:\n",
    "        asn_jsons.append(json.load(f))"
   ]
  },
  {
   "cell_type": "code",
   "execution_count": 64,
   "id": "1b3bb8e9-06be-454f-b723-f7c42362eb98",
   "metadata": {},
   "outputs": [
    {
     "data": {
      "text/plain": [
       "{'jw02609010001_02101_00001_nrs1_rate.fits',\n",
       " 'jw02609010001_02101_00001_nrs2_rate.fits',\n",
       " 'jw02609010001_02101_00002_nrs1_rate.fits',\n",
       " 'jw02609010001_02101_00002_nrs2_rate.fits',\n",
       " 'jw02609010001_02101_00003_nrs1_rate.fits',\n",
       " 'jw02609010001_02101_00003_nrs2_rate.fits',\n",
       " 'jw02609010001_03101_00001_nrs1_rate.fits',\n",
       " 'jw02609010001_03101_00001_nrs2_rate.fits',\n",
       " 'jw02609010001_03101_00002_nrs1_rate.fits',\n",
       " 'jw02609010001_03101_00002_nrs2_rate.fits'}"
      ]
     },
     "execution_count": 64,
     "metadata": {},
     "output_type": "execute_result"
    }
   ],
   "source": [
    "all_rate_files = set()\n",
    "for j in asn_jsons:\n",
    "    if j['asn_type'].endswith('spec3'):  # this filters out the downstream cal files from the spec3 asn\n",
    "        continue\n",
    "    for prod in j['products']:\n",
    "        for m in prod['members']:\n",
    "            all_rate_files.add(m['expname'])\n",
    "all_rate_files"
   ]
  },
  {
   "cell_type": "code",
   "execution_count": 72,
   "id": "cbb48c91-1854-4794-886a-d6d9be98b8f7",
   "metadata": {},
   "outputs": [
    {
     "name": "stdout",
     "output_type": "stream",
     "text": [
      "INFO: Found cached file redux_test/jw02609010001_03101_00002_nrs2_rate.fits with expected size 83943360. [astroquery.query]\n",
      "Downloading URL https://mast.stsci.edu/api/v0.1/Download/file?uri=mast:JWST/product/jw02609010001_02101_00001_nrs2_rate.fits to redux_test/jw02609010001_02101_00001_nrs2_rate.fits ... [Done]\n",
      "Downloading URL https://mast.stsci.edu/api/v0.1/Download/file?uri=mast:JWST/product/jw02609010001_02101_00003_nrs2_rate.fits to redux_test/jw02609010001_02101_00003_nrs2_rate.fits ... [Done]\n",
      "Downloading URL https://mast.stsci.edu/api/v0.1/Download/file?uri=mast:JWST/product/jw02609010001_03101_00001_nrs2_rate.fits to redux_test/jw02609010001_03101_00001_nrs2_rate.fits ... [Done]\n",
      "Downloading URL https://mast.stsci.edu/api/v0.1/Download/file?uri=mast:JWST/product/jw02609010001_02101_00002_nrs2_rate.fits to redux_test/jw02609010001_02101_00002_nrs2_rate.fits ... [Done]\n",
      "Downloading URL https://mast.stsci.edu/api/v0.1/Download/file?uri=mast:JWST/product/jw02609010001_02101_00002_nrs1_rate.fits to redux_test/jw02609010001_02101_00002_nrs1_rate.fits ... [Done]\n",
      "Downloading URL https://mast.stsci.edu/api/v0.1/Download/file?uri=mast:JWST/product/jw02609010001_03101_00002_nrs1_rate.fits to redux_test/jw02609010001_03101_00002_nrs1_rate.fits ... [Done]\n",
      "Downloading URL https://mast.stsci.edu/api/v0.1/Download/file?uri=mast:JWST/product/jw02609010001_03101_00001_nrs1_rate.fits to redux_test/jw02609010001_03101_00001_nrs1_rate.fits ... [Done]\n",
      "Downloading URL https://mast.stsci.edu/api/v0.1/Download/file?uri=mast:JWST/product/jw02609010001_02101_00001_nrs1_rate.fits to redux_test/jw02609010001_02101_00001_nrs1_rate.fits ... [Done]\n",
      "Downloading URL https://mast.stsci.edu/api/v0.1/Download/file?uri=mast:JWST/product/jw02609010001_02101_00003_nrs1_rate.fits to redux_test/jw02609010001_02101_00003_nrs1_rate.fits ... [Done]\n"
     ]
    },
    {
     "data": {
      "text/plain": [
       "[PosixPath('redux_test/jw02609010001_03101_00002_nrs2_rate.fits'),\n",
       " PosixPath('redux_test/jw02609010001_02101_00001_nrs2_rate.fits'),\n",
       " PosixPath('redux_test/jw02609010001_02101_00003_nrs2_rate.fits'),\n",
       " PosixPath('redux_test/jw02609010001_03101_00001_nrs2_rate.fits'),\n",
       " PosixPath('redux_test/jw02609010001_02101_00002_nrs2_rate.fits'),\n",
       " PosixPath('redux_test/jw02609010001_02101_00002_nrs1_rate.fits'),\n",
       " PosixPath('redux_test/jw02609010001_03101_00002_nrs1_rate.fits'),\n",
       " PosixPath('redux_test/jw02609010001_03101_00001_nrs1_rate.fits'),\n",
       " PosixPath('redux_test/jw02609010001_02101_00001_nrs1_rate.fits'),\n",
       " PosixPath('redux_test/jw02609010001_02101_00003_nrs1_rate.fits')]"
      ]
     },
     "execution_count": 72,
     "metadata": {},
     "output_type": "execute_result"
    }
   ],
   "source": [
    "uris_to_dl = []\n",
    "for fn in all_rate_files:\n",
    "    for row in single_prods:\n",
    "        if row['productFilename'] == fn:\n",
    "            uris_to_dl.append(row['dataURI'])\n",
    "            break\n",
    "    else:\n",
    "        print('could not find a match for', fn)\n",
    "        uris_to_dl.append(None)\n",
    "\n",
    "local_paths = []\n",
    "for uri in uris_to_dl:\n",
    "    if uri is None:\n",
    "        local_paths.append(None)\n",
    "    else:\n",
    "        local_paths.append(dl_dir / uri.split('/')[-1])\n",
    "        Observations.download_file(uri, local_path=local_paths[-1])\n",
    "    \n",
    "local_paths "
   ]
  },
  {
   "cell_type": "code",
   "execution_count": 74,
   "id": "88e915e0-8126-4ba4-96dc-08f2c97d06c3",
   "metadata": {},
   "outputs": [
    {
     "data": {
      "text/plain": [
       "{'jw02609010001_03101_00001_nrs1_rate.fits',\n",
       " 'jw02609010001_03101_00001_nrs2_rate.fits',\n",
       " 'jw02609010001_03101_00002_nrs1_rate.fits',\n",
       " 'jw02609010001_03101_00002_nrs2_rate.fits'}"
      ]
     },
     "execution_count": 74,
     "metadata": {},
     "output_type": "execute_result"
    }
   ],
   "source": [
    "spec_rate_files = set()\n",
    "for j in asn_jsons:\n",
    "    if not j['asn_type'].endswith('spec2'):\n",
    "        continue\n",
    "    for prod in j['products']:\n",
    "        for m in prod['members']:\n",
    "            spec_rate_files.add(m['expname'])\n",
    "spec_rate_files"
   ]
  },
  {
   "cell_type": "code",
   "execution_count": 77,
   "id": "e6e6f88d-c41f-4654-bdd9-118e1f8814d0",
   "metadata": {},
   "outputs": [
    {
     "data": {
      "text/plain": [
       "{'jw02609010001_02101_00001_nrs1_rate.fits',\n",
       " 'jw02609010001_02101_00001_nrs2_rate.fits',\n",
       " 'jw02609010001_02101_00002_nrs1_rate.fits',\n",
       " 'jw02609010001_02101_00002_nrs2_rate.fits',\n",
       " 'jw02609010001_02101_00003_nrs1_rate.fits',\n",
       " 'jw02609010001_02101_00003_nrs2_rate.fits'}"
      ]
     },
     "execution_count": 77,
     "metadata": {},
     "output_type": "execute_result"
    }
   ],
   "source": [
    "image_rate_files = set()\n",
    "for j in asn_jsons:\n",
    "    if not j['asn_type'].endswith('image2'):\n",
    "        continue\n",
    "    for prod in j['products']:\n",
    "        for m in prod['members']:\n",
    "            image_rate_files.add(m['expname'])\n",
    "image_rate_files"
   ]
  },
  {
   "cell_type": "markdown",
   "id": "ec2cfa55-a782-44ec-9e36-b3aca17f8205",
   "metadata": {},
   "source": [
    "Visually inspection clearly shows that the image files are aq images, whereas the spec are actual spectroscopic files."
   ]
  }
 ],
 "metadata": {
  "kernelspec": {
   "display_name": "Python 3 (ipykernel)",
   "language": "python",
   "name": "python3"
  },
  "language_info": {
   "codemirror_mode": {
    "name": "ipython",
    "version": 3
   },
   "file_extension": ".py",
   "mimetype": "text/x-python",
   "name": "python",
   "nbconvert_exporter": "python",
   "pygments_lexer": "ipython3",
   "version": "3.11.1"
  }
 },
 "nbformat": 4,
 "nbformat_minor": 5
}
