{
 "cells": [
  {
   "cell_type": "markdown",
   "id": "b8a8803d-6507-4764-a1f8-b4890d50ab45",
   "metadata": {},
   "source": [
    "This notebook is a \"meta-notebook\" in that it generates other notebooks to actually get run.\n",
    "\n",
    "The substitution rules for template notebooks are:\n",
    "\n",
    "* The template must start with \"TEMPLATE\", which will be removed in the output name.\n",
    "* The template should follow papermill's parametrization rules\n",
    "* TARGETNAME and SLITNAME will be changed if they appear in the template's name"
   ]
  },
  {
   "cell_type": "code",
   "execution_count": 1,
   "id": "62ce5cc9-1515-430a-9b0b-c2680a5ced25",
   "metadata": {
    "editable": true,
    "slideshow": {
     "slide_type": ""
    },
    "tags": []
   },
   "outputs": [],
   "source": [
    "import re\n",
    "from pathlib import Path\n",
    "\n",
    "import yaml\n",
    "\n",
    "import papermill\n",
    "\n",
    "from astroquery.mast import Observations"
   ]
  },
  {
   "cell_type": "code",
   "execution_count": 2,
   "id": "07ed6676-862a-4cef-a103-b68f5c4dc660",
   "metadata": {},
   "outputs": [],
   "source": [
    "PROPOSAL_ID = 2609"
   ]
  },
  {
   "cell_type": "code",
   "execution_count": 3,
   "id": "33384085-581e-4544-a296-42d9d3f7c916",
   "metadata": {},
   "outputs": [
    {
     "data": {
      "text/plain": [
       "[PosixPath('TEMPLATETARGETNAME_SLITNAME_slit_dl_and_pipeline.ipynb')]"
      ]
     },
     "execution_count": 3,
     "metadata": {},
     "output_type": "execute_result"
    }
   ],
   "source": [
    "template_paths = list(Path('.').glob('TEMPLATE*.ipynb'))\n",
    "template_paths"
   ]
  },
  {
   "cell_type": "code",
   "execution_count": 4,
   "id": "8f556453-5266-4132-ac0e-09782619f911",
   "metadata": {},
   "outputs": [
    {
     "name": "stdout",
     "output_type": "stream",
     "text": [
      "TEMPLATETARGETNAME_SLITNAME_slit_dl_and_pipeline.ipynb\n",
      "{'DL_PATH_NAME': {'name': 'DL_PATH_NAME', 'inferred_type_name': 'None', 'default': \"'mastDownload/flat/'\", 'help': ''}, 'SLIT_NAME': {'name': 'SLIT_NAME', 'inferred_type_name': 'None', 'default': \"'s00066'\", 'help': ''}, 'PROPOSAL_ID': {'name': 'PROPOSAL_ID', 'inferred_type_name': 'None', 'default': '2609', 'help': ''}, 'REDUX_BASE_NAME': {'name': 'REDUX_BASE_NAME', 'inferred_type_name': 'None', 'default': \"'miscdata/jwst_outputs/'\", 'help': ''}, 'TARGET_NAME': {'name': 'TARGET_NAME', 'inferred_type_name': 'None', 'default': \"'NGC6791-NEWCATALOG-GAIAEDR3'\", 'help': 'If None, matches against the whole program'}, 'CONTENT_DIR': {'name': 'CONTENT_DIR', 'inferred_type_name': 'None', 'default': \"'/containerapp/content'\", 'help': ''}}\n"
     ]
    }
   ],
   "source": [
    "for path in template_paths:\n",
    "    params = papermill.inspect_notebook(template_paths[0])\n",
    "    assert 'PROPOSAL_ID' in params\n",
    "    assert 'TARGET_NAME' in params\n",
    "    assert 'SLIT_NAME' in params\n",
    "\n",
    "    print(path)\n",
    "    print(params)"
   ]
  },
  {
   "cell_type": "markdown",
   "id": "eddeaddf-db19-41dd-955d-8dbbf4702d81",
   "metadata": {},
   "source": [
    "# Select the slits to run"
   ]
  },
  {
   "cell_type": "code",
   "execution_count": 5,
   "id": "0412fd0b-8386-49e9-8cc5-279bcf4324f1",
   "metadata": {},
   "outputs": [
    {
     "data": {
      "text/html": [
       "<div><i>Table masked=True length=304</i>\n",
       "<table id=\"table140536537829968\" class=\"table-striped table-bordered table-condensed\">\n",
       "<thead><tr><th>intentType</th><th>obs_collection</th><th>provenance_name</th><th>instrument_name</th><th>project</th><th>filters</th><th>wavelength_region</th><th>target_name</th><th>target_classification</th><th>obs_id</th><th>s_ra</th><th>s_dec</th><th>dataproduct_type</th><th>proposal_pi</th><th>calib_level</th><th>t_min</th><th>t_max</th><th>t_exptime</th><th>em_min</th><th>em_max</th><th>obs_title</th><th>t_obs_release</th><th>proposal_id</th><th>proposal_type</th><th>sequence_number</th><th>s_region</th><th>jpegURL</th><th>dataURL</th><th>dataRights</th><th>mtFlag</th><th>srcDen</th><th>obsid</th><th>objID</th></tr></thead>\n",
       "<thead><tr><th>str7</th><th>str4</th><th>str7</th><th>str12</th><th>str4</th><th>str12</th><th>str8</th><th>str27</th><th>str23</th><th>str40</th><th>float64</th><th>float64</th><th>str8</th><th>str14</th><th>int64</th><th>float64</th><th>float64</th><th>float64</th><th>float64</th><th>float64</th><th>str60</th><th>float64</th><th>str4</th><th>str2</th><th>int64</th><th>str115</th><th>str66</th><th>str67</th><th>str16</th><th>bool</th><th>float64</th><th>str9</th><th>str9</th></tr></thead>\n",
       "<tr><td>science</td><td>JWST</td><td>CALJWST</td><td>NIRSPEC/MSA</td><td>JWST</td><td>F100LP;G140H</td><td>Infrared</td><td>IC166-NEWCATALOG-GAIAEDR3</td><td>--</td><td>jw02609-o007_s01035_nirspec_f100lp-g140h</td><td>28.09702</td><td>61.86512777777778</td><td>spectrum</td><td>Nidever, David</td><td>3</td><td>59891.81792711713</td><td>59891.855679699074</td><td>291.778</td><td>810.0</td><td>5000.0</td><td>Searching for the Alpha-Abundance Bimodality in the M31 Disk</td><td>60256.96119201</td><td>2609</td><td>GO</td><td>--</td><td>POLYGON 28.074579882 61.877969446 28.075552087 61.877969446 28.075552087 61.877667174 28.074579882 61.877667174</td><td>mast:JWST/product/jw02609-o007_s01035_nirspec_f100lp-g140h_cal.jpg</td><td>mast:JWST/product/jw02609-o007_s01035_nirspec_f100lp-g140h_s2d.fits</td><td>PUBLIC</td><td>False</td><td>nan</td><td>100544641</td><td>390754414</td></tr>\n",
       "<tr><td>science</td><td>JWST</td><td>CALJWST</td><td>NIRSPEC/MSA</td><td>JWST</td><td>F100LP;G140H</td><td>Infrared</td><td>IC166-NEWCATALOG-GAIAEDR3</td><td>--</td><td>jw02609-o007_s00970_nirspec_f100lp-g140h</td><td>28.09702</td><td>61.86512777777778</td><td>spectrum</td><td>Nidever, David</td><td>3</td><td>59891.81792711713</td><td>59891.855679699074</td><td>291.778</td><td>810.0</td><td>5000.0</td><td>Searching for the Alpha-Abundance Bimodality in the M31 Disk</td><td>60256.96119201</td><td>2609</td><td>GO</td><td>--</td><td>POLYGON 28.067236965 61.887788335 28.068213199 61.887788335 28.068213199 61.887483777 28.067236965 61.887483777</td><td>mast:JWST/product/jw02609-o007_s00970_nirspec_f100lp-g140h_cal.jpg</td><td>mast:JWST/product/jw02609-o007_s00970_nirspec_f100lp-g140h_s2d.fits</td><td>PUBLIC</td><td>False</td><td>nan</td><td>100544655</td><td>390754416</td></tr>\n",
       "<tr><td>science</td><td>JWST</td><td>CALJWST</td><td>NIRSPEC/MSA</td><td>JWST</td><td>F100LP;G140H</td><td>Infrared</td><td>IC166-NEWCATALOG-GAIAEDR3</td><td>--</td><td>jw02609-o007_s06046_nirspec_f100lp-g140h</td><td>28.09702</td><td>61.86512777777778</td><td>spectrum</td><td>Nidever, David</td><td>3</td><td>59891.81792711713</td><td>59891.855679699074</td><td>291.778</td><td>810.0</td><td>5000.0</td><td>Searching for the Alpha-Abundance Bimodality in the M31 Disk</td><td>60256.96119201</td><td>2609</td><td>GO</td><td>--</td><td>POLYGON 28.188633601 61.87839925 28.189616714 61.87839925 28.189616714 61.87808739 28.188633601 61.87808739</td><td>mast:JWST/product/jw02609-o007_s06046_nirspec_f100lp-g140h_cal.jpg</td><td>mast:JWST/product/jw02609-o007_s06046_nirspec_f100lp-g140h_s2d.fits</td><td>PUBLIC</td><td>False</td><td>nan</td><td>100544665</td><td>390754417</td></tr>\n",
       "<tr><td>science</td><td>JWST</td><td>CALJWST</td><td>NIRSPEC/MSA</td><td>JWST</td><td>F100LP;G140H</td><td>Infrared</td><td>IC166-NEWCATALOG-GAIAEDR3</td><td>--</td><td>jw02609-o007_s01040_nirspec_f100lp-g140h</td><td>28.09702</td><td>61.86512777777778</td><td>spectrum</td><td>Nidever, David</td><td>3</td><td>59891.81792711713</td><td>59891.855679699074</td><td>291.778</td><td>810.0</td><td>5000.0</td><td>Searching for the Alpha-Abundance Bimodality in the M31 Disk</td><td>60256.96119201</td><td>2609</td><td>GO</td><td>--</td><td>POLYGON 28.080246846 61.872897263 28.081216217 61.872897263 28.081216217 61.872596172 28.080246846 61.872596172</td><td>mast:JWST/product/jw02609-o007_s01040_nirspec_f100lp-g140h_cal.jpg</td><td>mast:JWST/product/jw02609-o007_s01040_nirspec_f100lp-g140h_s2d.fits</td><td>PUBLIC</td><td>False</td><td>nan</td><td>100544677</td><td>390754418</td></tr>\n",
       "<tr><td>science</td><td>JWST</td><td>CALJWST</td><td>NIRSPEC/MSA</td><td>JWST</td><td>F100LP;G140H</td><td>Infrared</td><td>IC166-NEWCATALOG-GAIAEDR3</td><td>--</td><td>jw02609-o007_s05379_nirspec_f100lp-g140h</td><td>28.09702</td><td>61.86512777777778</td><td>spectrum</td><td>Nidever, David</td><td>3</td><td>59891.81792711713</td><td>59891.855679699074</td><td>291.778</td><td>810.0</td><td>5000.0</td><td>Searching for the Alpha-Abundance Bimodality in the M31 Disk</td><td>60256.96119201</td><td>2609</td><td>GO</td><td>--</td><td>POLYGON 28.204804994 61.888792613 28.205787251 61.888792613 28.205787251 61.888479405 28.204804994 61.888479405</td><td>mast:JWST/product/jw02609-o007_s05379_nirspec_f100lp-g140h_cal.jpg</td><td>mast:JWST/product/jw02609-o007_s05379_nirspec_f100lp-g140h_s2d.fits</td><td>PUBLIC</td><td>False</td><td>nan</td><td>100544688</td><td>390754420</td></tr>\n",
       "<tr><td>science</td><td>JWST</td><td>CALJWST</td><td>NIRSPEC/MSA</td><td>JWST</td><td>F100LP;G140H</td><td>Infrared</td><td>IC166-NEWCATALOG-GAIAEDR3</td><td>--</td><td>jw02609-o007_s05185_nirspec_f100lp-g140h</td><td>28.09702</td><td>61.86512777777778</td><td>spectrum</td><td>Nidever, David</td><td>3</td><td>59891.81792711713</td><td>59891.855679699074</td><td>291.778</td><td>810.0</td><td>5000.0</td><td>Searching for the Alpha-Abundance Bimodality in the M31 Disk</td><td>60256.96119201</td><td>2609</td><td>GO</td><td>--</td><td>POLYGON 28.169943836 61.862103826 28.170927537 61.862103826 28.170927537 61.861794153 28.169943836 61.861794153</td><td>mast:JWST/product/jw02609-o007_s05185_nirspec_f100lp-g140h_cal.jpg</td><td>mast:JWST/product/jw02609-o007_s05185_nirspec_f100lp-g140h_s2d.fits</td><td>PUBLIC</td><td>False</td><td>nan</td><td>100544699</td><td>390754422</td></tr>\n",
       "<tr><td>science</td><td>JWST</td><td>CALJWST</td><td>NIRSPEC/MSA</td><td>JWST</td><td>F100LP;G140H</td><td>Infrared</td><td>IC166-NEWCATALOG-GAIAEDR3</td><td>--</td><td>jw02609-o007_s04615_nirspec_f100lp-g140h</td><td>28.09702</td><td>61.86512777777778</td><td>spectrum</td><td>Nidever, David</td><td>3</td><td>59891.81792711713</td><td>59891.855679699074</td><td>291.778</td><td>810.0</td><td>5000.0</td><td>Searching for the Alpha-Abundance Bimodality in the M31 Disk</td><td>60256.96119201</td><td>2609</td><td>GO</td><td>--</td><td>POLYGON 28.121982709 61.852137457 28.122933068 61.852137457 28.122933068 61.851841717 28.121982709 61.851841717</td><td>mast:JWST/product/jw02609-o007_s04615_nirspec_f100lp-g140h_cal.jpg</td><td>mast:JWST/product/jw02609-o007_s04615_nirspec_f100lp-g140h_s2d.fits</td><td>PUBLIC</td><td>False</td><td>nan</td><td>100544712</td><td>390754423</td></tr>\n",
       "<tr><td>science</td><td>JWST</td><td>CALJWST</td><td>NIRSPEC/MSA</td><td>JWST</td><td>F100LP;G140H</td><td>Infrared</td><td>IC166-NEWCATALOG-GAIAEDR3</td><td>--</td><td>jw02609-o007_s01031_nirspec_f100lp-g140h</td><td>28.09702</td><td>61.86512777777778</td><td>spectrum</td><td>Nidever, David</td><td>3</td><td>59891.81792711713</td><td>59891.855679699074</td><td>291.778</td><td>810.0</td><td>5000.0</td><td>Searching for the Alpha-Abundance Bimodality in the M31 Disk</td><td>60256.96119201</td><td>2609</td><td>GO</td><td>--</td><td>POLYGON 28.066725434 61.876467806 28.067700035 61.876467806 28.067700035 61.876165437 28.066725434 61.876165437</td><td>mast:JWST/product/jw02609-o007_s01031_nirspec_f100lp-g140h_cal.jpg</td><td>mast:JWST/product/jw02609-o007_s01031_nirspec_f100lp-g140h_s2d.fits</td><td>PUBLIC</td><td>False</td><td>nan</td><td>100544720</td><td>390754426</td></tr>\n",
       "<tr><td>science</td><td>JWST</td><td>CALJWST</td><td>NIRSPEC/MSA</td><td>JWST</td><td>F100LP;G140H</td><td>Infrared</td><td>IC166-NEWCATALOG-GAIAEDR3</td><td>--</td><td>jw02609-o007_s04651_nirspec_f100lp-g140h</td><td>28.09702</td><td>61.86512777777778</td><td>spectrum</td><td>Nidever, David</td><td>3</td><td>59891.81792711713</td><td>59891.855679699074</td><td>291.778</td><td>810.0</td><td>5000.0</td><td>Searching for the Alpha-Abundance Bimodality in the M31 Disk</td><td>60256.96119201</td><td>2609</td><td>GO</td><td>--</td><td>POLYGON 28.110224547 61.854368194 28.111179459 61.854368194 28.111179459 61.854071542 28.110224547 61.854071542</td><td>mast:JWST/product/jw02609-o007_s04651_nirspec_f100lp-g140h_cal.jpg</td><td>mast:JWST/product/jw02609-o007_s04651_nirspec_f100lp-g140h_s2d.fits</td><td>PUBLIC</td><td>False</td><td>nan</td><td>100544732</td><td>390754427</td></tr>\n",
       "<tr><td>science</td><td>JWST</td><td>CALJWST</td><td>NIRSPEC/MSA</td><td>JWST</td><td>F100LP;G140H</td><td>Infrared</td><td>IC166-NEWCATALOG-GAIAEDR3</td><td>--</td><td>jw02609-o007_s01027_nirspec_f100lp-g140h</td><td>28.09702</td><td>61.86512777777778</td><td>spectrum</td><td>Nidever, David</td><td>3</td><td>59891.81792711713</td><td>59891.855679699074</td><td>291.778</td><td>810.0</td><td>5000.0</td><td>Searching for the Alpha-Abundance Bimodality in the M31 Disk</td><td>60256.96119201</td><td>2609</td><td>GO</td><td>--</td><td>POLYGON 28.078748713 61.882225251 28.079720284 61.882225251 28.079720284 61.881922369 28.078748713 61.881922369</td><td>mast:JWST/product/jw02609-o007_s01027_nirspec_f100lp-g140h_cal.jpg</td><td>mast:JWST/product/jw02609-o007_s01027_nirspec_f100lp-g140h_s2d.fits</td><td>PUBLIC</td><td>False</td><td>nan</td><td>100544743</td><td>390754430</td></tr>\n",
       "<tr><td>science</td><td>JWST</td><td>CALJWST</td><td>NIRSPEC/MSA</td><td>JWST</td><td>F100LP;G140H</td><td>Infrared</td><td>IC166-NEWCATALOG-GAIAEDR3</td><td>--</td><td>jw02609-o007_s04664_nirspec_f100lp-g140h</td><td>28.09702</td><td>61.86512777777778</td><td>spectrum</td><td>Nidever, David</td><td>3</td><td>59891.81792711713</td><td>59891.855679699074</td><td>291.778</td><td>810.0</td><td>5000.0</td><td>Searching for the Alpha-Abundance Bimodality in the M31 Disk</td><td>60256.96119201</td><td>2609</td><td>GO</td><td>--</td><td>POLYGON 28.138282286 61.854706049 28.139274901 61.854706049 28.139274901 61.854395989 28.138282286 61.854395989</td><td>mast:JWST/product/jw02609-o007_s04664_nirspec_f100lp-g140h_cal.jpg</td><td>mast:JWST/product/jw02609-o007_s04664_nirspec_f100lp-g140h_s2d.fits</td><td>PUBLIC</td><td>False</td><td>nan</td><td>100544751</td><td>390754433</td></tr>\n",
       "<tr><td>science</td><td>JWST</td><td>CALJWST</td><td>NIRSPEC/MSA</td><td>JWST</td><td>F100LP;G140H</td><td>Infrared</td><td>IC166-NEWCATALOG-GAIAEDR3</td><td>--</td><td>jw02609-o007_s04655_nirspec_f100lp-g140h</td><td>28.09702</td><td>61.86512777777778</td><td>spectrum</td><td>Nidever, David</td><td>3</td><td>59891.81792711713</td><td>59891.855679699074</td><td>291.778</td><td>810.0</td><td>5000.0</td><td>Searching for the Alpha-Abundance Bimodality in the M31 Disk</td><td>60256.96119201</td><td>2609</td><td>GO</td><td>--</td><td>POLYGON 28.138345195 61.853175079 28.139006732 61.853175079 28.139006732 61.852968518 28.138345195 61.852968518</td><td>mast:JWST/product/jw02609-o007_s04655_nirspec_f100lp-g140h_cal.jpg</td><td>mast:JWST/product/jw02609-o007_s04655_nirspec_f100lp-g140h_s2d.fits</td><td>PUBLIC</td><td>False</td><td>nan</td><td>100544764</td><td>390754439</td></tr>\n",
       "<tr><td>science</td><td>JWST</td><td>CALJWST</td><td>NIRSPEC/MSA</td><td>JWST</td><td>F100LP;G140H</td><td>Infrared</td><td>IC166-NEWCATALOG-GAIAEDR3</td><td>--</td><td>jw02609-o007_s04620_nirspec_f100lp-g140h</td><td>28.09702</td><td>61.86512777777778</td><td>spectrum</td><td>Nidever, David</td><td>3</td><td>59891.81792711713</td><td>59891.855679699074</td><td>291.778</td><td>810.0</td><td>5000.0</td><td>Searching for the Alpha-Abundance Bimodality in the M31 Disk</td><td>60256.96119201</td><td>2609</td><td>GO</td><td>--</td><td>POLYGON 28.112932358 61.859139332 28.113887322 61.859139332 28.113887322 61.858842084 28.112932358 61.858842084</td><td>mast:JWST/product/jw02609-o007_s04620_nirspec_f100lp-g140h_cal.jpg</td><td>mast:JWST/product/jw02609-o007_s04620_nirspec_f100lp-g140h_s2d.fits</td><td>PUBLIC</td><td>False</td><td>nan</td><td>100544774</td><td>390754447</td></tr>\n",
       "<tr><td>...</td><td>...</td><td>...</td><td>...</td><td>...</td><td>...</td><td>...</td><td>...</td><td>...</td><td>...</td><td>...</td><td>...</td><td>...</td><td>...</td><td>...</td><td>...</td><td>...</td><td>...</td><td>...</td><td>...</td><td>...</td><td>...</td><td>...</td><td>...</td><td>...</td><td>...</td><td>...</td><td>...</td><td>...</td><td>...</td><td>...</td><td>...</td><td>...</td></tr>\n",
       "<tr><td>science</td><td>JWST</td><td>CALJWST</td><td>NIRSPEC/MSA</td><td>JWST</td><td>F100LP;G140H</td><td>Infrared</td><td>NGC6791-NEWCATALOG-GAIAEDR3</td><td>--</td><td>jw02609-o010_s01504_nirspec_f100lp-g140h</td><td>290.21948</td><td>37.76622777777778</td><td>spectrum</td><td>Nidever, David</td><td>3</td><td>60136.569050925</td><td>60136.59446353009</td><td>291.778</td><td>810.0</td><td>5000.0</td><td>Searching for the Alpha-Abundance Bimodality in the M31 Disk</td><td>60503.07453698</td><td>2609</td><td>GO</td><td>--</td><td>POLYGON 290.204322944 37.729008626 290.20480154 37.729008626 290.20480154 37.728590517 290.204322944 37.728590517</td><td>mast:JWST/product/jw02609-o010_s01504_nirspec_f100lp-g140h_cal.jpg</td><td>mast:JWST/product/jw02609-o010_s01504_nirspec_f100lp-g140h_s2d.fits</td><td>EXCLUSIVE_ACCESS</td><td>False</td><td>nan</td><td>150936619</td><td>390600356</td></tr>\n",
       "<tr><td>science</td><td>JWST</td><td>CALJWST</td><td>NIRSPEC/MSA</td><td>JWST</td><td>F100LP;G140H</td><td>Infrared</td><td>NGC6791-NEWCATALOG-GAIAEDR3</td><td>--</td><td>jw02609-o010_s01428_nirspec_f100lp-g140h</td><td>290.21948</td><td>37.76622777777778</td><td>spectrum</td><td>Nidever, David</td><td>3</td><td>60136.569050925</td><td>60136.59446353009</td><td>291.778</td><td>810.0</td><td>5000.0</td><td>Searching for the Alpha-Abundance Bimodality in the M31 Disk</td><td>60503.07453698</td><td>2609</td><td>GO</td><td>--</td><td>POLYGON 290.191432878 37.750392803 290.19191877 37.750392803 290.19191877 37.749968079 290.191432878 37.749968079</td><td>mast:JWST/product/jw02609-o010_s01428_nirspec_f100lp-g140h_cal.jpg</td><td>mast:JWST/product/jw02609-o010_s01428_nirspec_f100lp-g140h_s2d.fits</td><td>EXCLUSIVE_ACCESS</td><td>False</td><td>nan</td><td>150936632</td><td>390600371</td></tr>\n",
       "<tr><td>science</td><td>JWST</td><td>CALJWST</td><td>NIRSPEC/MSA</td><td>JWST</td><td>F100LP;G140H</td><td>Infrared</td><td>NGC6791-NEWCATALOG-GAIAEDR3</td><td>--</td><td>jw02609-o010_s00150_nirspec_f100lp-g140h</td><td>290.21948</td><td>37.76622777777778</td><td>spectrum</td><td>Nidever, David</td><td>3</td><td>60136.569050925</td><td>60136.59446353009</td><td>291.778</td><td>810.0</td><td>5000.0</td><td>Searching for the Alpha-Abundance Bimodality in the M31 Disk</td><td>60503.07453698</td><td>2609</td><td>GO</td><td>--</td><td>POLYGON 290.218268507 37.787754801 290.2187292 37.787754801 290.2187292 37.787343124 290.218268507 37.787343124</td><td>mast:JWST/product/jw02609-o010_s00150_nirspec_f100lp-g140h_cal.jpg</td><td>mast:JWST/product/jw02609-o010_s00150_nirspec_f100lp-g140h_s2d.fits</td><td>EXCLUSIVE_ACCESS</td><td>False</td><td>nan</td><td>150936641</td><td>390600386</td></tr>\n",
       "<tr><td>science</td><td>JWST</td><td>CALJWST</td><td>NIRSPEC/MSA</td><td>JWST</td><td>F100LP;G140H</td><td>Infrared</td><td>NGC6791-NEWCATALOG-GAIAEDR3</td><td>--</td><td>jw02609-o010_s10117_nirspec_f100lp-g140h</td><td>290.21948</td><td>37.76622777777778</td><td>spectrum</td><td>Nidever, David</td><td>3</td><td>60136.569050925</td><td>60136.59446353009</td><td>291.778</td><td>810.0</td><td>5000.0</td><td>Searching for the Alpha-Abundance Bimodality in the M31 Disk</td><td>60503.07453698</td><td>2609</td><td>GO</td><td>--</td><td>POLYGON 290.205711674 37.773586409 290.206173474 37.773586409 290.206173474 37.773177509 290.205711674 37.773177509</td><td>mast:JWST/product/jw02609-o010_s10117_nirspec_f100lp-g140h_cal.jpg</td><td>mast:JWST/product/jw02609-o010_s10117_nirspec_f100lp-g140h_s2d.fits</td><td>EXCLUSIVE_ACCESS</td><td>False</td><td>nan</td><td>150936650</td><td>390600404</td></tr>\n",
       "<tr><td>science</td><td>JWST</td><td>CALJWST</td><td>NIRSPEC/MSA</td><td>JWST</td><td>F100LP;G140H</td><td>Infrared</td><td>NGC6791-NEWCATALOG-GAIAEDR3</td><td>--</td><td>jw02609-o010_s08275_nirspec_f100lp-g140h</td><td>290.21948</td><td>37.76622777777778</td><td>spectrum</td><td>Nidever, David</td><td>3</td><td>60136.569050925</td><td>60136.59446353009</td><td>291.778</td><td>810.0</td><td>5000.0</td><td>Searching for the Alpha-Abundance Bimodality in the M31 Disk</td><td>60503.07453698</td><td>2609</td><td>GO</td><td>--</td><td>POLYGON 290.234753486 37.754434025 290.235228309 37.754434025 290.235228309 37.754012635 290.234753486 37.754012635</td><td>mast:JWST/product/jw02609-o010_s08275_nirspec_f100lp-g140h_cal.jpg</td><td>mast:JWST/product/jw02609-o010_s08275_nirspec_f100lp-g140h_s2d.fits</td><td>EXCLUSIVE_ACCESS</td><td>False</td><td>nan</td><td>150936664</td><td>390600418</td></tr>\n",
       "<tr><td>science</td><td>JWST</td><td>CALJWST</td><td>NIRSPEC/MSA</td><td>JWST</td><td>F100LP;G140H</td><td>Infrared</td><td>NGC6791-NEWCATALOG-GAIAEDR3</td><td>--</td><td>jw02609-o010_s01510_nirspec_f100lp-g140h</td><td>290.21948</td><td>37.76622777777778</td><td>spectrum</td><td>Nidever, David</td><td>3</td><td>60136.569050925</td><td>60136.59446353009</td><td>291.778</td><td>810.0</td><td>5000.0</td><td>Searching for the Alpha-Abundance Bimodality in the M31 Disk</td><td>60503.07453698</td><td>2609</td><td>GO</td><td>--</td><td>POLYGON 290.174306827 37.747863273 290.174774158 37.747863273 290.174774158 37.747457545 290.174306827 37.747457545</td><td>mast:JWST/product/jw02609-o010_s01510_nirspec_f100lp-g140h_cal.jpg</td><td>mast:JWST/product/jw02609-o010_s01510_nirspec_f100lp-g140h_s2d.fits</td><td>EXCLUSIVE_ACCESS</td><td>False</td><td>nan</td><td>150936673</td><td>390600430</td></tr>\n",
       "<tr><td>science</td><td>JWST</td><td>CALJWST</td><td>NIRSPEC/MSA</td><td>JWST</td><td>F100LP;G140H</td><td>Infrared</td><td>NGC6791-NEWCATALOG-GAIAEDR3</td><td>--</td><td>jw02609-o010_s10108_nirspec_f100lp-g140h</td><td>290.21948</td><td>37.76622777777778</td><td>spectrum</td><td>Nidever, David</td><td>3</td><td>60136.569050925</td><td>60136.59446353009</td><td>291.778</td><td>810.0</td><td>5000.0</td><td>Searching for the Alpha-Abundance Bimodality in the M31 Disk</td><td>60503.07453698</td><td>2609</td><td>GO</td><td>--</td><td>POLYGON 290.213099416 37.763689792 290.213558023 37.763689792 290.213558023 37.763284128 290.213099416 37.763284128</td><td>mast:JWST/product/jw02609-o010_s10108_nirspec_f100lp-g140h_cal.jpg</td><td>mast:JWST/product/jw02609-o010_s10108_nirspec_f100lp-g140h_s2d.fits</td><td>EXCLUSIVE_ACCESS</td><td>False</td><td>nan</td><td>150936686</td><td>390600447</td></tr>\n",
       "<tr><td>science</td><td>JWST</td><td>CALJWST</td><td>NIRSPEC/MSA</td><td>JWST</td><td>F100LP;G140H</td><td>Infrared</td><td>NGC6791-NEWCATALOG-GAIAEDR3</td><td>--</td><td>jw02609-o010_s01663_nirspec_f100lp-g140h</td><td>290.21948</td><td>37.76622777777778</td><td>spectrum</td><td>Nidever, David</td><td>3</td><td>60136.569050925</td><td>60136.59446353009</td><td>291.778</td><td>810.0</td><td>5000.0</td><td>Searching for the Alpha-Abundance Bimodality in the M31 Disk</td><td>60503.07453698</td><td>2609</td><td>GO</td><td>--</td><td>POLYGON 290.179079791 37.766767513 290.17954786 37.766767513 290.17954786 37.766357745 290.179079791 37.766357745</td><td>mast:JWST/product/jw02609-o010_s01663_nirspec_f100lp-g140h_cal.jpg</td><td>mast:JWST/product/jw02609-o010_s01663_nirspec_f100lp-g140h_s2d.fits</td><td>EXCLUSIVE_ACCESS</td><td>False</td><td>nan</td><td>150936695</td><td>390600517</td></tr>\n",
       "<tr><td>science</td><td>JWST</td><td>CALJWST</td><td>NIRSPEC/MSA</td><td>JWST</td><td>F100LP;G140H</td><td>Infrared</td><td>NGC6791-NEWCATALOG-GAIAEDR3</td><td>--</td><td>jw02609-o010_s01535_nirspec_f100lp-g140h</td><td>290.21948</td><td>37.76622777777778</td><td>spectrum</td><td>Nidever, David</td><td>3</td><td>60136.569050925</td><td>60136.59446353009</td><td>291.778</td><td>810.0</td><td>5000.0</td><td>Searching for the Alpha-Abundance Bimodality in the M31 Disk</td><td>60503.07453698</td><td>2609</td><td>GO</td><td>--</td><td>POLYGON 290.176763859 37.7456188 290.177230182 37.7456188 290.177230182 37.74521384 290.176763859 37.74521384</td><td>mast:JWST/product/jw02609-o010_s01535_nirspec_f100lp-g140h_cal.jpg</td><td>mast:JWST/product/jw02609-o010_s01535_nirspec_f100lp-g140h_s2d.fits</td><td>EXCLUSIVE_ACCESS</td><td>False</td><td>nan</td><td>150936703</td><td>390600535</td></tr>\n",
       "<tr><td>science</td><td>JWST</td><td>CALJWST</td><td>NIRSPEC/MSA</td><td>JWST</td><td>F100LP;G140H</td><td>Infrared</td><td>NGC6791-NEWCATALOG-GAIAEDR3</td><td>--</td><td>jw02609-o010_s00021_nirspec_f100lp-g140h</td><td>290.21948</td><td>37.76622777777778</td><td>spectrum</td><td>Nidever, David</td><td>3</td><td>60136.569050925</td><td>60136.59446353009</td><td>291.778</td><td>810.0</td><td>5000.0</td><td>Searching for the Alpha-Abundance Bimodality in the M31 Disk</td><td>60503.07453698</td><td>2609</td><td>GO</td><td>--</td><td>POLYGON 290.253375214 37.759647726 290.25384697 37.759647726 290.25384697 37.759226569 290.253375214 37.759226569</td><td>mast:JWST/product/jw02609-o010_s00021_nirspec_f100lp-g140h_cal.jpg</td><td>mast:JWST/product/jw02609-o010_s00021_nirspec_f100lp-g140h_s2d.fits</td><td>EXCLUSIVE_ACCESS</td><td>False</td><td>nan</td><td>150936716</td><td>390600544</td></tr>\n",
       "<tr><td>science</td><td>JWST</td><td>CALJWST</td><td>NIRSPEC/MSA</td><td>JWST</td><td>F100LP;G140H</td><td>Infrared</td><td>NGC6791-NEWCATALOG-GAIAEDR3</td><td>--</td><td>jw02609-o010_s01386_nirspec_f100lp-g140h</td><td>290.21948</td><td>37.76622777777778</td><td>spectrum</td><td>Nidever, David</td><td>3</td><td>60136.569050925</td><td>60136.59446353009</td><td>291.778</td><td>810.0</td><td>5000.0</td><td>Searching for the Alpha-Abundance Bimodality in the M31 Disk</td><td>60503.07453698</td><td>2609</td><td>GO</td><td>--</td><td>POLYGON 290.216681749 37.720189271 290.217155289 37.720189271 290.217155289 37.719774553 290.216681749 37.719774553</td><td>mast:JWST/product/jw02609-o010_s01386_nirspec_f100lp-g140h_cal.jpg</td><td>mast:JWST/product/jw02609-o010_s01386_nirspec_f100lp-g140h_s2d.fits</td><td>EXCLUSIVE_ACCESS</td><td>False</td><td>nan</td><td>150936726</td><td>390600554</td></tr>\n",
       "<tr><td>science</td><td>JWST</td><td>CALJWST</td><td>NIRSPEC/MSA</td><td>JWST</td><td>F100LP;G140H</td><td>Infrared</td><td>NGC6791-NEWCATALOG-GAIAEDR3</td><td>--</td><td>jw02609-o010_s01765_nirspec_f100lp-g140h</td><td>290.21948</td><td>37.76622777777778</td><td>spectrum</td><td>Nidever, David</td><td>3</td><td>60136.569050925</td><td>60136.59446353009</td><td>291.778</td><td>810.0</td><td>5000.0</td><td>Searching for the Alpha-Abundance Bimodality in the M31 Disk</td><td>60503.07453698</td><td>2609</td><td>GO</td><td>--</td><td>POLYGON 290.214274703 37.735234572 290.214751504 37.735234572 290.214751504 37.734816203 290.214274703 37.734816203</td><td>mast:JWST/product/jw02609-o010_s01765_nirspec_f100lp-g140h_cal.jpg</td><td>mast:JWST/product/jw02609-o010_s01765_nirspec_f100lp-g140h_s2d.fits</td><td>EXCLUSIVE_ACCESS</td><td>False</td><td>nan</td><td>150936739</td><td>390600568</td></tr>\n",
       "<tr><td>science</td><td>JWST</td><td>CALJWST</td><td>NIRSPEC/MSA</td><td>JWST</td><td>F100LP;G140H</td><td>Infrared</td><td>NGC6791-NEWCATALOG-GAIAEDR3</td><td>--</td><td>jw02609-o010_s01342_nirspec_f100lp-g140h</td><td>290.21948</td><td>37.76622777777778</td><td>spectrum</td><td>Nidever, David</td><td>3</td><td>60136.569050925</td><td>60136.59446353009</td><td>291.778</td><td>810.0</td><td>5000.0</td><td>Searching for the Alpha-Abundance Bimodality in the M31 Disk</td><td>60503.07453698</td><td>2609</td><td>GO</td><td>--</td><td>POLYGON 290.176954079 37.755684688 290.177421583 37.755684688 290.177421583 37.755277438 290.176954079 37.755277438</td><td>mast:JWST/product/jw02609-o010_s01342_nirspec_f100lp-g140h_cal.jpg</td><td>mast:JWST/product/jw02609-o010_s01342_nirspec_f100lp-g140h_s2d.fits</td><td>EXCLUSIVE_ACCESS</td><td>False</td><td>nan</td><td>150936748</td><td>390600576</td></tr>\n",
       "</table></div>"
      ],
      "text/plain": [
       "<Table masked=True length=304>\n",
       "intentType obs_collection provenance_name instrument_name project   filters    ...                               dataURL                                  dataRights    mtFlag  srcDen   obsid     objID  \n",
       "   str7         str4            str7           str12        str4     str12     ...                                str67                                     str16        bool  float64    str9      str9  \n",
       "---------- -------------- --------------- --------------- ------- ------------ ... ------------------------------------------------------------------- ---------------- ------ ------- --------- ---------\n",
       "   science           JWST         CALJWST     NIRSPEC/MSA    JWST F100LP;G140H ... mast:JWST/product/jw02609-o007_s01035_nirspec_f100lp-g140h_s2d.fits           PUBLIC  False     nan 100544641 390754414\n",
       "   science           JWST         CALJWST     NIRSPEC/MSA    JWST F100LP;G140H ... mast:JWST/product/jw02609-o007_s00970_nirspec_f100lp-g140h_s2d.fits           PUBLIC  False     nan 100544655 390754416\n",
       "   science           JWST         CALJWST     NIRSPEC/MSA    JWST F100LP;G140H ... mast:JWST/product/jw02609-o007_s06046_nirspec_f100lp-g140h_s2d.fits           PUBLIC  False     nan 100544665 390754417\n",
       "   science           JWST         CALJWST     NIRSPEC/MSA    JWST F100LP;G140H ... mast:JWST/product/jw02609-o007_s01040_nirspec_f100lp-g140h_s2d.fits           PUBLIC  False     nan 100544677 390754418\n",
       "   science           JWST         CALJWST     NIRSPEC/MSA    JWST F100LP;G140H ... mast:JWST/product/jw02609-o007_s05379_nirspec_f100lp-g140h_s2d.fits           PUBLIC  False     nan 100544688 390754420\n",
       "   science           JWST         CALJWST     NIRSPEC/MSA    JWST F100LP;G140H ... mast:JWST/product/jw02609-o007_s05185_nirspec_f100lp-g140h_s2d.fits           PUBLIC  False     nan 100544699 390754422\n",
       "   science           JWST         CALJWST     NIRSPEC/MSA    JWST F100LP;G140H ... mast:JWST/product/jw02609-o007_s04615_nirspec_f100lp-g140h_s2d.fits           PUBLIC  False     nan 100544712 390754423\n",
       "   science           JWST         CALJWST     NIRSPEC/MSA    JWST F100LP;G140H ... mast:JWST/product/jw02609-o007_s01031_nirspec_f100lp-g140h_s2d.fits           PUBLIC  False     nan 100544720 390754426\n",
       "   science           JWST         CALJWST     NIRSPEC/MSA    JWST F100LP;G140H ... mast:JWST/product/jw02609-o007_s04651_nirspec_f100lp-g140h_s2d.fits           PUBLIC  False     nan 100544732 390754427\n",
       "   science           JWST         CALJWST     NIRSPEC/MSA    JWST F100LP;G140H ... mast:JWST/product/jw02609-o007_s01027_nirspec_f100lp-g140h_s2d.fits           PUBLIC  False     nan 100544743 390754430\n",
       "   science           JWST         CALJWST     NIRSPEC/MSA    JWST F100LP;G140H ... mast:JWST/product/jw02609-o007_s04664_nirspec_f100lp-g140h_s2d.fits           PUBLIC  False     nan 100544751 390754433\n",
       "   science           JWST         CALJWST     NIRSPEC/MSA    JWST F100LP;G140H ... mast:JWST/product/jw02609-o007_s04655_nirspec_f100lp-g140h_s2d.fits           PUBLIC  False     nan 100544764 390754439\n",
       "   science           JWST         CALJWST     NIRSPEC/MSA    JWST F100LP;G140H ... mast:JWST/product/jw02609-o007_s04620_nirspec_f100lp-g140h_s2d.fits           PUBLIC  False     nan 100544774 390754447\n",
       "       ...            ...             ...             ...     ...          ... ...                                                                 ...              ...    ...     ...       ...       ...\n",
       "   science           JWST         CALJWST     NIRSPEC/MSA    JWST F100LP;G140H ... mast:JWST/product/jw02609-o010_s01504_nirspec_f100lp-g140h_s2d.fits EXCLUSIVE_ACCESS  False     nan 150936619 390600356\n",
       "   science           JWST         CALJWST     NIRSPEC/MSA    JWST F100LP;G140H ... mast:JWST/product/jw02609-o010_s01428_nirspec_f100lp-g140h_s2d.fits EXCLUSIVE_ACCESS  False     nan 150936632 390600371\n",
       "   science           JWST         CALJWST     NIRSPEC/MSA    JWST F100LP;G140H ... mast:JWST/product/jw02609-o010_s00150_nirspec_f100lp-g140h_s2d.fits EXCLUSIVE_ACCESS  False     nan 150936641 390600386\n",
       "   science           JWST         CALJWST     NIRSPEC/MSA    JWST F100LP;G140H ... mast:JWST/product/jw02609-o010_s10117_nirspec_f100lp-g140h_s2d.fits EXCLUSIVE_ACCESS  False     nan 150936650 390600404\n",
       "   science           JWST         CALJWST     NIRSPEC/MSA    JWST F100LP;G140H ... mast:JWST/product/jw02609-o010_s08275_nirspec_f100lp-g140h_s2d.fits EXCLUSIVE_ACCESS  False     nan 150936664 390600418\n",
       "   science           JWST         CALJWST     NIRSPEC/MSA    JWST F100LP;G140H ... mast:JWST/product/jw02609-o010_s01510_nirspec_f100lp-g140h_s2d.fits EXCLUSIVE_ACCESS  False     nan 150936673 390600430\n",
       "   science           JWST         CALJWST     NIRSPEC/MSA    JWST F100LP;G140H ... mast:JWST/product/jw02609-o010_s10108_nirspec_f100lp-g140h_s2d.fits EXCLUSIVE_ACCESS  False     nan 150936686 390600447\n",
       "   science           JWST         CALJWST     NIRSPEC/MSA    JWST F100LP;G140H ... mast:JWST/product/jw02609-o010_s01663_nirspec_f100lp-g140h_s2d.fits EXCLUSIVE_ACCESS  False     nan 150936695 390600517\n",
       "   science           JWST         CALJWST     NIRSPEC/MSA    JWST F100LP;G140H ... mast:JWST/product/jw02609-o010_s01535_nirspec_f100lp-g140h_s2d.fits EXCLUSIVE_ACCESS  False     nan 150936703 390600535\n",
       "   science           JWST         CALJWST     NIRSPEC/MSA    JWST F100LP;G140H ... mast:JWST/product/jw02609-o010_s00021_nirspec_f100lp-g140h_s2d.fits EXCLUSIVE_ACCESS  False     nan 150936716 390600544\n",
       "   science           JWST         CALJWST     NIRSPEC/MSA    JWST F100LP;G140H ... mast:JWST/product/jw02609-o010_s01386_nirspec_f100lp-g140h_s2d.fits EXCLUSIVE_ACCESS  False     nan 150936726 390600554\n",
       "   science           JWST         CALJWST     NIRSPEC/MSA    JWST F100LP;G140H ... mast:JWST/product/jw02609-o010_s01765_nirspec_f100lp-g140h_s2d.fits EXCLUSIVE_ACCESS  False     nan 150936739 390600568\n",
       "   science           JWST         CALJWST     NIRSPEC/MSA    JWST F100LP;G140H ... mast:JWST/product/jw02609-o010_s01342_nirspec_f100lp-g140h_s2d.fits EXCLUSIVE_ACCESS  False     nan 150936748 390600576"
      ]
     },
     "execution_count": 5,
     "metadata": {},
     "output_type": "execute_result"
    }
   ],
   "source": [
    "obses = Observations.query_criteria(proposal_id=PROPOSAL_ID)\n",
    "specobses = obses[(obses['calib_level']==3)&(obses['dataproduct_type'] == 'spectrum')]\n",
    "specobses"
   ]
  },
  {
   "cell_type": "code",
   "execution_count": 6,
   "id": "4ea278f9-483e-43bd-8da0-3ac76e0653c7",
   "metadata": {},
   "outputs": [],
   "source": [
    "target_name = 'NGC6791-NEWCATALOG-GAIAEDR3'\n",
    "specnames = []\n",
    "for row in specobses[specobses['target_name'] == target_name]:\n",
    "    m = re.match('jw.*_(s.*?)_.*', row['obs_id'])\n",
    "    if m is not None:\n",
    "        specnames.append((target_name, m.group(1)))"
   ]
  },
  {
   "cell_type": "markdown",
   "id": "be14da9a-81a6-4e18-a13b-9be8284d7c9d",
   "metadata": {},
   "source": [
    "# Generate the parametrization notebook files"
   ]
  },
  {
   "cell_type": "code",
   "execution_count": 7,
   "id": "1c612b23-f167-444d-a9d3-4b648fcfb900",
   "metadata": {},
   "outputs": [
    {
     "name": "stdout",
     "output_type": "stream",
     "text": [
      "Writing miscdata/jwst_outputs/NGC6791-NEWCATALOG-GAIAEDR3_s00066_slit_dl_and_pipeline.yaml\n",
      "Writing miscdata/jwst_outputs/NGC6791-NEWCATALOG-GAIAEDR3_s07401_slit_dl_and_pipeline.yaml\n",
      "Writing miscdata/jwst_outputs/NGC6791-NEWCATALOG-GAIAEDR3_s01449_slit_dl_and_pipeline.yaml\n",
      "Writing miscdata/jwst_outputs/NGC6791-NEWCATALOG-GAIAEDR3_s01782_slit_dl_and_pipeline.yaml\n",
      "Writing miscdata/jwst_outputs/NGC6791-NEWCATALOG-GAIAEDR3_s07918_slit_dl_and_pipeline.yaml\n",
      "Writing miscdata/jwst_outputs/NGC6791-NEWCATALOG-GAIAEDR3_s01421_slit_dl_and_pipeline.yaml\n",
      "Writing miscdata/jwst_outputs/NGC6791-NEWCATALOG-GAIAEDR3_s01451_slit_dl_and_pipeline.yaml\n",
      "Writing miscdata/jwst_outputs/NGC6791-NEWCATALOG-GAIAEDR3_s01462_slit_dl_and_pipeline.yaml\n",
      "Writing miscdata/jwst_outputs/NGC6791-NEWCATALOG-GAIAEDR3_s08149_slit_dl_and_pipeline.yaml\n",
      "Writing miscdata/jwst_outputs/NGC6791-NEWCATALOG-GAIAEDR3_s01742_slit_dl_and_pipeline.yaml\n",
      "Writing miscdata/jwst_outputs/NGC6791-NEWCATALOG-GAIAEDR3_s01327_slit_dl_and_pipeline.yaml\n",
      "Writing miscdata/jwst_outputs/NGC6791-NEWCATALOG-GAIAEDR3_s07399_slit_dl_and_pipeline.yaml\n",
      "Writing miscdata/jwst_outputs/NGC6791-NEWCATALOG-GAIAEDR3_s00593_slit_dl_and_pipeline.yaml\n",
      "Writing miscdata/jwst_outputs/NGC6791-NEWCATALOG-GAIAEDR3_s01312_slit_dl_and_pipeline.yaml\n",
      "Writing miscdata/jwst_outputs/NGC6791-NEWCATALOG-GAIAEDR3_s00010_slit_dl_and_pipeline.yaml\n",
      "Writing miscdata/jwst_outputs/NGC6791-NEWCATALOG-GAIAEDR3_s01328_slit_dl_and_pipeline.yaml\n",
      "Writing miscdata/jwst_outputs/NGC6791-NEWCATALOG-GAIAEDR3_s01402_slit_dl_and_pipeline.yaml\n",
      "Writing miscdata/jwst_outputs/NGC6791-NEWCATALOG-GAIAEDR3_s00456_slit_dl_and_pipeline.yaml\n",
      "Writing miscdata/jwst_outputs/NGC6791-NEWCATALOG-GAIAEDR3_s00040_slit_dl_and_pipeline.yaml\n",
      "Writing miscdata/jwst_outputs/NGC6791-NEWCATALOG-GAIAEDR3_s01563_slit_dl_and_pipeline.yaml\n",
      "Writing miscdata/jwst_outputs/NGC6791-NEWCATALOG-GAIAEDR3_s00154_slit_dl_and_pipeline.yaml\n",
      "Writing miscdata/jwst_outputs/NGC6791-NEWCATALOG-GAIAEDR3_s01859_slit_dl_and_pipeline.yaml\n",
      "Writing miscdata/jwst_outputs/NGC6791-NEWCATALOG-GAIAEDR3_s00038_slit_dl_and_pipeline.yaml\n",
      "Writing miscdata/jwst_outputs/NGC6791-NEWCATALOG-GAIAEDR3_s01661_slit_dl_and_pipeline.yaml\n",
      "Writing miscdata/jwst_outputs/NGC6791-NEWCATALOG-GAIAEDR3_s08197_slit_dl_and_pipeline.yaml\n",
      "Writing miscdata/jwst_outputs/NGC6791-NEWCATALOG-GAIAEDR3_s01534_slit_dl_and_pipeline.yaml\n",
      "Writing miscdata/jwst_outputs/NGC6791-NEWCATALOG-GAIAEDR3_s01516_slit_dl_and_pipeline.yaml\n",
      "Writing miscdata/jwst_outputs/NGC6791-NEWCATALOG-GAIAEDR3_s07420_slit_dl_and_pipeline.yaml\n",
      "Writing miscdata/jwst_outputs/NGC6791-NEWCATALOG-GAIAEDR3_s00153_slit_dl_and_pipeline.yaml\n",
      "Writing miscdata/jwst_outputs/NGC6791-NEWCATALOG-GAIAEDR3_s01352_slit_dl_and_pipeline.yaml\n",
      "Writing miscdata/jwst_outputs/NGC6791-NEWCATALOG-GAIAEDR3_s00138_slit_dl_and_pipeline.yaml\n",
      "Writing miscdata/jwst_outputs/NGC6791-NEWCATALOG-GAIAEDR3_s01383_slit_dl_and_pipeline.yaml\n",
      "Writing miscdata/jwst_outputs/NGC6791-NEWCATALOG-GAIAEDR3_s00595_slit_dl_and_pipeline.yaml\n",
      "Writing miscdata/jwst_outputs/NGC6791-NEWCATALOG-GAIAEDR3_s01704_slit_dl_and_pipeline.yaml\n",
      "Writing miscdata/jwst_outputs/NGC6791-NEWCATALOG-GAIAEDR3_s01334_slit_dl_and_pipeline.yaml\n",
      "Writing miscdata/jwst_outputs/NGC6791-NEWCATALOG-GAIAEDR3_s01468_slit_dl_and_pipeline.yaml\n",
      "Writing miscdata/jwst_outputs/NGC6791-NEWCATALOG-GAIAEDR3_s01817_slit_dl_and_pipeline.yaml\n",
      "Writing miscdata/jwst_outputs/NGC6791-NEWCATALOG-GAIAEDR3_s00462_slit_dl_and_pipeline.yaml\n",
      "Writing miscdata/jwst_outputs/NGC6791-NEWCATALOG-GAIAEDR3_s07372_slit_dl_and_pipeline.yaml\n",
      "Writing miscdata/jwst_outputs/NGC6791-NEWCATALOG-GAIAEDR3_s01454_slit_dl_and_pipeline.yaml\n",
      "Writing miscdata/jwst_outputs/NGC6791-NEWCATALOG-GAIAEDR3_s08114_slit_dl_and_pipeline.yaml\n",
      "Writing miscdata/jwst_outputs/NGC6791-NEWCATALOG-GAIAEDR3_s01296_slit_dl_and_pipeline.yaml\n",
      "Writing miscdata/jwst_outputs/NGC6791-NEWCATALOG-GAIAEDR3_s01712_slit_dl_and_pipeline.yaml\n",
      "Writing miscdata/jwst_outputs/NGC6791-NEWCATALOG-GAIAEDR3_s01604_slit_dl_and_pipeline.yaml\n",
      "Writing miscdata/jwst_outputs/NGC6791-NEWCATALOG-GAIAEDR3_s08255_slit_dl_and_pipeline.yaml\n",
      "Writing miscdata/jwst_outputs/NGC6791-NEWCATALOG-GAIAEDR3_s00075_slit_dl_and_pipeline.yaml\n",
      "Writing miscdata/jwst_outputs/NGC6791-NEWCATALOG-GAIAEDR3_s01313_slit_dl_and_pipeline.yaml\n",
      "Writing miscdata/jwst_outputs/NGC6791-NEWCATALOG-GAIAEDR3_s00042_slit_dl_and_pipeline.yaml\n",
      "Writing miscdata/jwst_outputs/NGC6791-NEWCATALOG-GAIAEDR3_s01599_slit_dl_and_pipeline.yaml\n",
      "Writing miscdata/jwst_outputs/NGC6791-NEWCATALOG-GAIAEDR3_s01603_slit_dl_and_pipeline.yaml\n",
      "Writing miscdata/jwst_outputs/NGC6791-NEWCATALOG-GAIAEDR3_s00181_slit_dl_and_pipeline.yaml\n",
      "Writing miscdata/jwst_outputs/NGC6791-NEWCATALOG-GAIAEDR3_s01345_slit_dl_and_pipeline.yaml\n",
      "Writing miscdata/jwst_outputs/NGC6791-NEWCATALOG-GAIAEDR3_s01429_slit_dl_and_pipeline.yaml\n",
      "Writing miscdata/jwst_outputs/NGC6791-NEWCATALOG-GAIAEDR3_s08037_slit_dl_and_pipeline.yaml\n",
      "Writing miscdata/jwst_outputs/NGC6791-NEWCATALOG-GAIAEDR3_s01855_slit_dl_and_pipeline.yaml\n",
      "Writing miscdata/jwst_outputs/NGC6791-NEWCATALOG-GAIAEDR3_s00085_slit_dl_and_pipeline.yaml\n",
      "Writing miscdata/jwst_outputs/NGC6791-NEWCATALOG-GAIAEDR3_s01504_slit_dl_and_pipeline.yaml\n",
      "Writing miscdata/jwst_outputs/NGC6791-NEWCATALOG-GAIAEDR3_s01428_slit_dl_and_pipeline.yaml\n",
      "Writing miscdata/jwst_outputs/NGC6791-NEWCATALOG-GAIAEDR3_s00150_slit_dl_and_pipeline.yaml\n",
      "Writing miscdata/jwst_outputs/NGC6791-NEWCATALOG-GAIAEDR3_s10117_slit_dl_and_pipeline.yaml\n",
      "Writing miscdata/jwst_outputs/NGC6791-NEWCATALOG-GAIAEDR3_s08275_slit_dl_and_pipeline.yaml\n",
      "Writing miscdata/jwst_outputs/NGC6791-NEWCATALOG-GAIAEDR3_s01510_slit_dl_and_pipeline.yaml\n",
      "Writing miscdata/jwst_outputs/NGC6791-NEWCATALOG-GAIAEDR3_s10108_slit_dl_and_pipeline.yaml\n",
      "Writing miscdata/jwst_outputs/NGC6791-NEWCATALOG-GAIAEDR3_s01663_slit_dl_and_pipeline.yaml\n",
      "Writing miscdata/jwst_outputs/NGC6791-NEWCATALOG-GAIAEDR3_s01535_slit_dl_and_pipeline.yaml\n",
      "Writing miscdata/jwst_outputs/NGC6791-NEWCATALOG-GAIAEDR3_s00021_slit_dl_and_pipeline.yaml\n",
      "Writing miscdata/jwst_outputs/NGC6791-NEWCATALOG-GAIAEDR3_s01386_slit_dl_and_pipeline.yaml\n",
      "Writing miscdata/jwst_outputs/NGC6791-NEWCATALOG-GAIAEDR3_s01765_slit_dl_and_pipeline.yaml\n",
      "Writing miscdata/jwst_outputs/NGC6791-NEWCATALOG-GAIAEDR3_s01342_slit_dl_and_pipeline.yaml\n"
     ]
    }
   ],
   "source": [
    "outbase = Path('miscdata/jwst_outputs') \n",
    "outbase.mkdir(exist_ok=True)\n",
    "\n",
    "outputs = []\n",
    "for targetname, slitname in specnames:\n",
    "    for tpath in template_paths:\n",
    "        targetpath = outbase / tpath.with_suffix('.yaml').name.removeprefix('TEMPLATE').replace('SLITNAME', slitname).replace('TARGETNAME', targetname)\n",
    "        print('Writing', targetpath)\n",
    "        with targetpath.open('w') as f:\n",
    "            yaml.dump({'DL_PATH_NAME': 'mastDownload/flat/',\n",
    "                        'REDUX_BASE_NAME': 'miscdata/jwst_outputs/',\n",
    "                        'PROPOSAL_ID': str(PROPOSAL_ID),\n",
    "                        'SLIT_NAME': slitname,\n",
    "                        'TARGET_NAME': targetname,\n",
    "                       }, f)\n",
    "        outpath = targetpath.with_suffix('.ipynb')\n",
    "        outputs.append((tpath, targetpath, outpath))"
   ]
  },
  {
   "cell_type": "markdown",
   "id": "a77bf425-6afd-4e86-a468-73aab24fbc50",
   "metadata": {},
   "source": [
    "# Commands to execute the notebooks"
   ]
  },
  {
   "cell_type": "code",
   "execution_count": 8,
   "id": "f1f0a80b-4b4e-4b3f-8958-508f6b18e632",
   "metadata": {
    "editable": true,
    "scrolled": true,
    "slideshow": {
     "slide_type": ""
    },
    "tags": []
   },
   "outputs": [
    {
     "name": "stdout",
     "output_type": "stream",
     "text": [
      "papermill TEMPLATETARGETNAME_SLITNAME_slit_dl_and_pipeline.ipynb miscdata/jwst_outputs/NGC6791-NEWCATALOG-GAIAEDR3_s00066_slit_dl_and_pipeline.ipynb -f miscdata/jwst_outputs/NGC6791-NEWCATALOG-GAIAEDR3_s00066_slit_dl_and_pipeline.yaml\n",
      "papermill TEMPLATETARGETNAME_SLITNAME_slit_dl_and_pipeline.ipynb miscdata/jwst_outputs/NGC6791-NEWCATALOG-GAIAEDR3_s07401_slit_dl_and_pipeline.ipynb -f miscdata/jwst_outputs/NGC6791-NEWCATALOG-GAIAEDR3_s07401_slit_dl_and_pipeline.yaml\n",
      "papermill TEMPLATETARGETNAME_SLITNAME_slit_dl_and_pipeline.ipynb miscdata/jwst_outputs/NGC6791-NEWCATALOG-GAIAEDR3_s01449_slit_dl_and_pipeline.ipynb -f miscdata/jwst_outputs/NGC6791-NEWCATALOG-GAIAEDR3_s01449_slit_dl_and_pipeline.yaml\n",
      "papermill TEMPLATETARGETNAME_SLITNAME_slit_dl_and_pipeline.ipynb miscdata/jwst_outputs/NGC6791-NEWCATALOG-GAIAEDR3_s01782_slit_dl_and_pipeline.ipynb -f miscdata/jwst_outputs/NGC6791-NEWCATALOG-GAIAEDR3_s01782_slit_dl_and_pipeline.yaml\n",
      "papermill TEMPLATETARGETNAME_SLITNAME_slit_dl_and_pipeline.ipynb miscdata/jwst_outputs/NGC6791-NEWCATALOG-GAIAEDR3_s07918_slit_dl_and_pipeline.ipynb -f miscdata/jwst_outputs/NGC6791-NEWCATALOG-GAIAEDR3_s07918_slit_dl_and_pipeline.yaml\n",
      "papermill TEMPLATETARGETNAME_SLITNAME_slit_dl_and_pipeline.ipynb miscdata/jwst_outputs/NGC6791-NEWCATALOG-GAIAEDR3_s01421_slit_dl_and_pipeline.ipynb -f miscdata/jwst_outputs/NGC6791-NEWCATALOG-GAIAEDR3_s01421_slit_dl_and_pipeline.yaml\n",
      "papermill TEMPLATETARGETNAME_SLITNAME_slit_dl_and_pipeline.ipynb miscdata/jwst_outputs/NGC6791-NEWCATALOG-GAIAEDR3_s01451_slit_dl_and_pipeline.ipynb -f miscdata/jwst_outputs/NGC6791-NEWCATALOG-GAIAEDR3_s01451_slit_dl_and_pipeline.yaml\n",
      "papermill TEMPLATETARGETNAME_SLITNAME_slit_dl_and_pipeline.ipynb miscdata/jwst_outputs/NGC6791-NEWCATALOG-GAIAEDR3_s01462_slit_dl_and_pipeline.ipynb -f miscdata/jwst_outputs/NGC6791-NEWCATALOG-GAIAEDR3_s01462_slit_dl_and_pipeline.yaml\n",
      "papermill TEMPLATETARGETNAME_SLITNAME_slit_dl_and_pipeline.ipynb miscdata/jwst_outputs/NGC6791-NEWCATALOG-GAIAEDR3_s08149_slit_dl_and_pipeline.ipynb -f miscdata/jwst_outputs/NGC6791-NEWCATALOG-GAIAEDR3_s08149_slit_dl_and_pipeline.yaml\n",
      "papermill TEMPLATETARGETNAME_SLITNAME_slit_dl_and_pipeline.ipynb miscdata/jwst_outputs/NGC6791-NEWCATALOG-GAIAEDR3_s01742_slit_dl_and_pipeline.ipynb -f miscdata/jwst_outputs/NGC6791-NEWCATALOG-GAIAEDR3_s01742_slit_dl_and_pipeline.yaml\n",
      "papermill TEMPLATETARGETNAME_SLITNAME_slit_dl_and_pipeline.ipynb miscdata/jwst_outputs/NGC6791-NEWCATALOG-GAIAEDR3_s01327_slit_dl_and_pipeline.ipynb -f miscdata/jwst_outputs/NGC6791-NEWCATALOG-GAIAEDR3_s01327_slit_dl_and_pipeline.yaml\n",
      "papermill TEMPLATETARGETNAME_SLITNAME_slit_dl_and_pipeline.ipynb miscdata/jwst_outputs/NGC6791-NEWCATALOG-GAIAEDR3_s07399_slit_dl_and_pipeline.ipynb -f miscdata/jwst_outputs/NGC6791-NEWCATALOG-GAIAEDR3_s07399_slit_dl_and_pipeline.yaml\n",
      "papermill TEMPLATETARGETNAME_SLITNAME_slit_dl_and_pipeline.ipynb miscdata/jwst_outputs/NGC6791-NEWCATALOG-GAIAEDR3_s00593_slit_dl_and_pipeline.ipynb -f miscdata/jwst_outputs/NGC6791-NEWCATALOG-GAIAEDR3_s00593_slit_dl_and_pipeline.yaml\n",
      "papermill TEMPLATETARGETNAME_SLITNAME_slit_dl_and_pipeline.ipynb miscdata/jwst_outputs/NGC6791-NEWCATALOG-GAIAEDR3_s01312_slit_dl_and_pipeline.ipynb -f miscdata/jwst_outputs/NGC6791-NEWCATALOG-GAIAEDR3_s01312_slit_dl_and_pipeline.yaml\n",
      "papermill TEMPLATETARGETNAME_SLITNAME_slit_dl_and_pipeline.ipynb miscdata/jwst_outputs/NGC6791-NEWCATALOG-GAIAEDR3_s00010_slit_dl_and_pipeline.ipynb -f miscdata/jwst_outputs/NGC6791-NEWCATALOG-GAIAEDR3_s00010_slit_dl_and_pipeline.yaml\n",
      "papermill TEMPLATETARGETNAME_SLITNAME_slit_dl_and_pipeline.ipynb miscdata/jwst_outputs/NGC6791-NEWCATALOG-GAIAEDR3_s01328_slit_dl_and_pipeline.ipynb -f miscdata/jwst_outputs/NGC6791-NEWCATALOG-GAIAEDR3_s01328_slit_dl_and_pipeline.yaml\n",
      "papermill TEMPLATETARGETNAME_SLITNAME_slit_dl_and_pipeline.ipynb miscdata/jwst_outputs/NGC6791-NEWCATALOG-GAIAEDR3_s01402_slit_dl_and_pipeline.ipynb -f miscdata/jwst_outputs/NGC6791-NEWCATALOG-GAIAEDR3_s01402_slit_dl_and_pipeline.yaml\n",
      "papermill TEMPLATETARGETNAME_SLITNAME_slit_dl_and_pipeline.ipynb miscdata/jwst_outputs/NGC6791-NEWCATALOG-GAIAEDR3_s00456_slit_dl_and_pipeline.ipynb -f miscdata/jwst_outputs/NGC6791-NEWCATALOG-GAIAEDR3_s00456_slit_dl_and_pipeline.yaml\n",
      "papermill TEMPLATETARGETNAME_SLITNAME_slit_dl_and_pipeline.ipynb miscdata/jwst_outputs/NGC6791-NEWCATALOG-GAIAEDR3_s00040_slit_dl_and_pipeline.ipynb -f miscdata/jwst_outputs/NGC6791-NEWCATALOG-GAIAEDR3_s00040_slit_dl_and_pipeline.yaml\n",
      "papermill TEMPLATETARGETNAME_SLITNAME_slit_dl_and_pipeline.ipynb miscdata/jwst_outputs/NGC6791-NEWCATALOG-GAIAEDR3_s01563_slit_dl_and_pipeline.ipynb -f miscdata/jwst_outputs/NGC6791-NEWCATALOG-GAIAEDR3_s01563_slit_dl_and_pipeline.yaml\n",
      "papermill TEMPLATETARGETNAME_SLITNAME_slit_dl_and_pipeline.ipynb miscdata/jwst_outputs/NGC6791-NEWCATALOG-GAIAEDR3_s00154_slit_dl_and_pipeline.ipynb -f miscdata/jwst_outputs/NGC6791-NEWCATALOG-GAIAEDR3_s00154_slit_dl_and_pipeline.yaml\n",
      "papermill TEMPLATETARGETNAME_SLITNAME_slit_dl_and_pipeline.ipynb miscdata/jwst_outputs/NGC6791-NEWCATALOG-GAIAEDR3_s01859_slit_dl_and_pipeline.ipynb -f miscdata/jwst_outputs/NGC6791-NEWCATALOG-GAIAEDR3_s01859_slit_dl_and_pipeline.yaml\n",
      "papermill TEMPLATETARGETNAME_SLITNAME_slit_dl_and_pipeline.ipynb miscdata/jwst_outputs/NGC6791-NEWCATALOG-GAIAEDR3_s00038_slit_dl_and_pipeline.ipynb -f miscdata/jwst_outputs/NGC6791-NEWCATALOG-GAIAEDR3_s00038_slit_dl_and_pipeline.yaml\n",
      "papermill TEMPLATETARGETNAME_SLITNAME_slit_dl_and_pipeline.ipynb miscdata/jwst_outputs/NGC6791-NEWCATALOG-GAIAEDR3_s01661_slit_dl_and_pipeline.ipynb -f miscdata/jwst_outputs/NGC6791-NEWCATALOG-GAIAEDR3_s01661_slit_dl_and_pipeline.yaml\n",
      "papermill TEMPLATETARGETNAME_SLITNAME_slit_dl_and_pipeline.ipynb miscdata/jwst_outputs/NGC6791-NEWCATALOG-GAIAEDR3_s08197_slit_dl_and_pipeline.ipynb -f miscdata/jwst_outputs/NGC6791-NEWCATALOG-GAIAEDR3_s08197_slit_dl_and_pipeline.yaml\n",
      "papermill TEMPLATETARGETNAME_SLITNAME_slit_dl_and_pipeline.ipynb miscdata/jwst_outputs/NGC6791-NEWCATALOG-GAIAEDR3_s01534_slit_dl_and_pipeline.ipynb -f miscdata/jwst_outputs/NGC6791-NEWCATALOG-GAIAEDR3_s01534_slit_dl_and_pipeline.yaml\n",
      "papermill TEMPLATETARGETNAME_SLITNAME_slit_dl_and_pipeline.ipynb miscdata/jwst_outputs/NGC6791-NEWCATALOG-GAIAEDR3_s01516_slit_dl_and_pipeline.ipynb -f miscdata/jwst_outputs/NGC6791-NEWCATALOG-GAIAEDR3_s01516_slit_dl_and_pipeline.yaml\n",
      "papermill TEMPLATETARGETNAME_SLITNAME_slit_dl_and_pipeline.ipynb miscdata/jwst_outputs/NGC6791-NEWCATALOG-GAIAEDR3_s07420_slit_dl_and_pipeline.ipynb -f miscdata/jwst_outputs/NGC6791-NEWCATALOG-GAIAEDR3_s07420_slit_dl_and_pipeline.yaml\n",
      "papermill TEMPLATETARGETNAME_SLITNAME_slit_dl_and_pipeline.ipynb miscdata/jwst_outputs/NGC6791-NEWCATALOG-GAIAEDR3_s00153_slit_dl_and_pipeline.ipynb -f miscdata/jwst_outputs/NGC6791-NEWCATALOG-GAIAEDR3_s00153_slit_dl_and_pipeline.yaml\n",
      "papermill TEMPLATETARGETNAME_SLITNAME_slit_dl_and_pipeline.ipynb miscdata/jwst_outputs/NGC6791-NEWCATALOG-GAIAEDR3_s01352_slit_dl_and_pipeline.ipynb -f miscdata/jwst_outputs/NGC6791-NEWCATALOG-GAIAEDR3_s01352_slit_dl_and_pipeline.yaml\n",
      "papermill TEMPLATETARGETNAME_SLITNAME_slit_dl_and_pipeline.ipynb miscdata/jwst_outputs/NGC6791-NEWCATALOG-GAIAEDR3_s00138_slit_dl_and_pipeline.ipynb -f miscdata/jwst_outputs/NGC6791-NEWCATALOG-GAIAEDR3_s00138_slit_dl_and_pipeline.yaml\n",
      "papermill TEMPLATETARGETNAME_SLITNAME_slit_dl_and_pipeline.ipynb miscdata/jwst_outputs/NGC6791-NEWCATALOG-GAIAEDR3_s01383_slit_dl_and_pipeline.ipynb -f miscdata/jwst_outputs/NGC6791-NEWCATALOG-GAIAEDR3_s01383_slit_dl_and_pipeline.yaml\n",
      "papermill TEMPLATETARGETNAME_SLITNAME_slit_dl_and_pipeline.ipynb miscdata/jwst_outputs/NGC6791-NEWCATALOG-GAIAEDR3_s00595_slit_dl_and_pipeline.ipynb -f miscdata/jwst_outputs/NGC6791-NEWCATALOG-GAIAEDR3_s00595_slit_dl_and_pipeline.yaml\n",
      "papermill TEMPLATETARGETNAME_SLITNAME_slit_dl_and_pipeline.ipynb miscdata/jwst_outputs/NGC6791-NEWCATALOG-GAIAEDR3_s01704_slit_dl_and_pipeline.ipynb -f miscdata/jwst_outputs/NGC6791-NEWCATALOG-GAIAEDR3_s01704_slit_dl_and_pipeline.yaml\n",
      "papermill TEMPLATETARGETNAME_SLITNAME_slit_dl_and_pipeline.ipynb miscdata/jwst_outputs/NGC6791-NEWCATALOG-GAIAEDR3_s01334_slit_dl_and_pipeline.ipynb -f miscdata/jwst_outputs/NGC6791-NEWCATALOG-GAIAEDR3_s01334_slit_dl_and_pipeline.yaml\n",
      "papermill TEMPLATETARGETNAME_SLITNAME_slit_dl_and_pipeline.ipynb miscdata/jwst_outputs/NGC6791-NEWCATALOG-GAIAEDR3_s01468_slit_dl_and_pipeline.ipynb -f miscdata/jwst_outputs/NGC6791-NEWCATALOG-GAIAEDR3_s01468_slit_dl_and_pipeline.yaml\n",
      "papermill TEMPLATETARGETNAME_SLITNAME_slit_dl_and_pipeline.ipynb miscdata/jwst_outputs/NGC6791-NEWCATALOG-GAIAEDR3_s01817_slit_dl_and_pipeline.ipynb -f miscdata/jwst_outputs/NGC6791-NEWCATALOG-GAIAEDR3_s01817_slit_dl_and_pipeline.yaml\n",
      "papermill TEMPLATETARGETNAME_SLITNAME_slit_dl_and_pipeline.ipynb miscdata/jwst_outputs/NGC6791-NEWCATALOG-GAIAEDR3_s00462_slit_dl_and_pipeline.ipynb -f miscdata/jwst_outputs/NGC6791-NEWCATALOG-GAIAEDR3_s00462_slit_dl_and_pipeline.yaml\n",
      "papermill TEMPLATETARGETNAME_SLITNAME_slit_dl_and_pipeline.ipynb miscdata/jwst_outputs/NGC6791-NEWCATALOG-GAIAEDR3_s07372_slit_dl_and_pipeline.ipynb -f miscdata/jwst_outputs/NGC6791-NEWCATALOG-GAIAEDR3_s07372_slit_dl_and_pipeline.yaml\n",
      "papermill TEMPLATETARGETNAME_SLITNAME_slit_dl_and_pipeline.ipynb miscdata/jwst_outputs/NGC6791-NEWCATALOG-GAIAEDR3_s01454_slit_dl_and_pipeline.ipynb -f miscdata/jwst_outputs/NGC6791-NEWCATALOG-GAIAEDR3_s01454_slit_dl_and_pipeline.yaml\n",
      "papermill TEMPLATETARGETNAME_SLITNAME_slit_dl_and_pipeline.ipynb miscdata/jwst_outputs/NGC6791-NEWCATALOG-GAIAEDR3_s08114_slit_dl_and_pipeline.ipynb -f miscdata/jwst_outputs/NGC6791-NEWCATALOG-GAIAEDR3_s08114_slit_dl_and_pipeline.yaml\n",
      "papermill TEMPLATETARGETNAME_SLITNAME_slit_dl_and_pipeline.ipynb miscdata/jwst_outputs/NGC6791-NEWCATALOG-GAIAEDR3_s01296_slit_dl_and_pipeline.ipynb -f miscdata/jwst_outputs/NGC6791-NEWCATALOG-GAIAEDR3_s01296_slit_dl_and_pipeline.yaml\n",
      "papermill TEMPLATETARGETNAME_SLITNAME_slit_dl_and_pipeline.ipynb miscdata/jwst_outputs/NGC6791-NEWCATALOG-GAIAEDR3_s01712_slit_dl_and_pipeline.ipynb -f miscdata/jwst_outputs/NGC6791-NEWCATALOG-GAIAEDR3_s01712_slit_dl_and_pipeline.yaml\n",
      "papermill TEMPLATETARGETNAME_SLITNAME_slit_dl_and_pipeline.ipynb miscdata/jwst_outputs/NGC6791-NEWCATALOG-GAIAEDR3_s01604_slit_dl_and_pipeline.ipynb -f miscdata/jwst_outputs/NGC6791-NEWCATALOG-GAIAEDR3_s01604_slit_dl_and_pipeline.yaml\n",
      "papermill TEMPLATETARGETNAME_SLITNAME_slit_dl_and_pipeline.ipynb miscdata/jwst_outputs/NGC6791-NEWCATALOG-GAIAEDR3_s08255_slit_dl_and_pipeline.ipynb -f miscdata/jwst_outputs/NGC6791-NEWCATALOG-GAIAEDR3_s08255_slit_dl_and_pipeline.yaml\n",
      "papermill TEMPLATETARGETNAME_SLITNAME_slit_dl_and_pipeline.ipynb miscdata/jwst_outputs/NGC6791-NEWCATALOG-GAIAEDR3_s00075_slit_dl_and_pipeline.ipynb -f miscdata/jwst_outputs/NGC6791-NEWCATALOG-GAIAEDR3_s00075_slit_dl_and_pipeline.yaml\n",
      "papermill TEMPLATETARGETNAME_SLITNAME_slit_dl_and_pipeline.ipynb miscdata/jwst_outputs/NGC6791-NEWCATALOG-GAIAEDR3_s01313_slit_dl_and_pipeline.ipynb -f miscdata/jwst_outputs/NGC6791-NEWCATALOG-GAIAEDR3_s01313_slit_dl_and_pipeline.yaml\n",
      "papermill TEMPLATETARGETNAME_SLITNAME_slit_dl_and_pipeline.ipynb miscdata/jwst_outputs/NGC6791-NEWCATALOG-GAIAEDR3_s00042_slit_dl_and_pipeline.ipynb -f miscdata/jwst_outputs/NGC6791-NEWCATALOG-GAIAEDR3_s00042_slit_dl_and_pipeline.yaml\n",
      "papermill TEMPLATETARGETNAME_SLITNAME_slit_dl_and_pipeline.ipynb miscdata/jwst_outputs/NGC6791-NEWCATALOG-GAIAEDR3_s01599_slit_dl_and_pipeline.ipynb -f miscdata/jwst_outputs/NGC6791-NEWCATALOG-GAIAEDR3_s01599_slit_dl_and_pipeline.yaml\n",
      "papermill TEMPLATETARGETNAME_SLITNAME_slit_dl_and_pipeline.ipynb miscdata/jwst_outputs/NGC6791-NEWCATALOG-GAIAEDR3_s01603_slit_dl_and_pipeline.ipynb -f miscdata/jwst_outputs/NGC6791-NEWCATALOG-GAIAEDR3_s01603_slit_dl_and_pipeline.yaml\n",
      "papermill TEMPLATETARGETNAME_SLITNAME_slit_dl_and_pipeline.ipynb miscdata/jwst_outputs/NGC6791-NEWCATALOG-GAIAEDR3_s00181_slit_dl_and_pipeline.ipynb -f miscdata/jwst_outputs/NGC6791-NEWCATALOG-GAIAEDR3_s00181_slit_dl_and_pipeline.yaml\n",
      "papermill TEMPLATETARGETNAME_SLITNAME_slit_dl_and_pipeline.ipynb miscdata/jwst_outputs/NGC6791-NEWCATALOG-GAIAEDR3_s01345_slit_dl_and_pipeline.ipynb -f miscdata/jwst_outputs/NGC6791-NEWCATALOG-GAIAEDR3_s01345_slit_dl_and_pipeline.yaml\n",
      "papermill TEMPLATETARGETNAME_SLITNAME_slit_dl_and_pipeline.ipynb miscdata/jwst_outputs/NGC6791-NEWCATALOG-GAIAEDR3_s01429_slit_dl_and_pipeline.ipynb -f miscdata/jwst_outputs/NGC6791-NEWCATALOG-GAIAEDR3_s01429_slit_dl_and_pipeline.yaml\n",
      "papermill TEMPLATETARGETNAME_SLITNAME_slit_dl_and_pipeline.ipynb miscdata/jwst_outputs/NGC6791-NEWCATALOG-GAIAEDR3_s08037_slit_dl_and_pipeline.ipynb -f miscdata/jwst_outputs/NGC6791-NEWCATALOG-GAIAEDR3_s08037_slit_dl_and_pipeline.yaml\n",
      "papermill TEMPLATETARGETNAME_SLITNAME_slit_dl_and_pipeline.ipynb miscdata/jwst_outputs/NGC6791-NEWCATALOG-GAIAEDR3_s01855_slit_dl_and_pipeline.ipynb -f miscdata/jwst_outputs/NGC6791-NEWCATALOG-GAIAEDR3_s01855_slit_dl_and_pipeline.yaml\n",
      "papermill TEMPLATETARGETNAME_SLITNAME_slit_dl_and_pipeline.ipynb miscdata/jwst_outputs/NGC6791-NEWCATALOG-GAIAEDR3_s00085_slit_dl_and_pipeline.ipynb -f miscdata/jwst_outputs/NGC6791-NEWCATALOG-GAIAEDR3_s00085_slit_dl_and_pipeline.yaml\n",
      "papermill TEMPLATETARGETNAME_SLITNAME_slit_dl_and_pipeline.ipynb miscdata/jwst_outputs/NGC6791-NEWCATALOG-GAIAEDR3_s01504_slit_dl_and_pipeline.ipynb -f miscdata/jwst_outputs/NGC6791-NEWCATALOG-GAIAEDR3_s01504_slit_dl_and_pipeline.yaml\n",
      "papermill TEMPLATETARGETNAME_SLITNAME_slit_dl_and_pipeline.ipynb miscdata/jwst_outputs/NGC6791-NEWCATALOG-GAIAEDR3_s01428_slit_dl_and_pipeline.ipynb -f miscdata/jwst_outputs/NGC6791-NEWCATALOG-GAIAEDR3_s01428_slit_dl_and_pipeline.yaml\n",
      "papermill TEMPLATETARGETNAME_SLITNAME_slit_dl_and_pipeline.ipynb miscdata/jwst_outputs/NGC6791-NEWCATALOG-GAIAEDR3_s00150_slit_dl_and_pipeline.ipynb -f miscdata/jwst_outputs/NGC6791-NEWCATALOG-GAIAEDR3_s00150_slit_dl_and_pipeline.yaml\n",
      "papermill TEMPLATETARGETNAME_SLITNAME_slit_dl_and_pipeline.ipynb miscdata/jwst_outputs/NGC6791-NEWCATALOG-GAIAEDR3_s10117_slit_dl_and_pipeline.ipynb -f miscdata/jwst_outputs/NGC6791-NEWCATALOG-GAIAEDR3_s10117_slit_dl_and_pipeline.yaml\n",
      "papermill TEMPLATETARGETNAME_SLITNAME_slit_dl_and_pipeline.ipynb miscdata/jwst_outputs/NGC6791-NEWCATALOG-GAIAEDR3_s08275_slit_dl_and_pipeline.ipynb -f miscdata/jwst_outputs/NGC6791-NEWCATALOG-GAIAEDR3_s08275_slit_dl_and_pipeline.yaml\n",
      "papermill TEMPLATETARGETNAME_SLITNAME_slit_dl_and_pipeline.ipynb miscdata/jwst_outputs/NGC6791-NEWCATALOG-GAIAEDR3_s01510_slit_dl_and_pipeline.ipynb -f miscdata/jwst_outputs/NGC6791-NEWCATALOG-GAIAEDR3_s01510_slit_dl_and_pipeline.yaml\n",
      "papermill TEMPLATETARGETNAME_SLITNAME_slit_dl_and_pipeline.ipynb miscdata/jwst_outputs/NGC6791-NEWCATALOG-GAIAEDR3_s10108_slit_dl_and_pipeline.ipynb -f miscdata/jwst_outputs/NGC6791-NEWCATALOG-GAIAEDR3_s10108_slit_dl_and_pipeline.yaml\n",
      "papermill TEMPLATETARGETNAME_SLITNAME_slit_dl_and_pipeline.ipynb miscdata/jwst_outputs/NGC6791-NEWCATALOG-GAIAEDR3_s01663_slit_dl_and_pipeline.ipynb -f miscdata/jwst_outputs/NGC6791-NEWCATALOG-GAIAEDR3_s01663_slit_dl_and_pipeline.yaml\n",
      "papermill TEMPLATETARGETNAME_SLITNAME_slit_dl_and_pipeline.ipynb miscdata/jwst_outputs/NGC6791-NEWCATALOG-GAIAEDR3_s01535_slit_dl_and_pipeline.ipynb -f miscdata/jwst_outputs/NGC6791-NEWCATALOG-GAIAEDR3_s01535_slit_dl_and_pipeline.yaml\n",
      "papermill TEMPLATETARGETNAME_SLITNAME_slit_dl_and_pipeline.ipynb miscdata/jwst_outputs/NGC6791-NEWCATALOG-GAIAEDR3_s00021_slit_dl_and_pipeline.ipynb -f miscdata/jwst_outputs/NGC6791-NEWCATALOG-GAIAEDR3_s00021_slit_dl_and_pipeline.yaml\n",
      "papermill TEMPLATETARGETNAME_SLITNAME_slit_dl_and_pipeline.ipynb miscdata/jwst_outputs/NGC6791-NEWCATALOG-GAIAEDR3_s01386_slit_dl_and_pipeline.ipynb -f miscdata/jwst_outputs/NGC6791-NEWCATALOG-GAIAEDR3_s01386_slit_dl_and_pipeline.yaml\n",
      "papermill TEMPLATETARGETNAME_SLITNAME_slit_dl_and_pipeline.ipynb miscdata/jwst_outputs/NGC6791-NEWCATALOG-GAIAEDR3_s01765_slit_dl_and_pipeline.ipynb -f miscdata/jwst_outputs/NGC6791-NEWCATALOG-GAIAEDR3_s01765_slit_dl_and_pipeline.yaml\n",
      "papermill TEMPLATETARGETNAME_SLITNAME_slit_dl_and_pipeline.ipynb miscdata/jwst_outputs/NGC6791-NEWCATALOG-GAIAEDR3_s01342_slit_dl_and_pipeline.ipynb -f miscdata/jwst_outputs/NGC6791-NEWCATALOG-GAIAEDR3_s01342_slit_dl_and_pipeline.yaml\n"
     ]
    }
   ],
   "source": [
    "for tpath, yamlpath, outpath in outputs:\n",
    "    print(f'papermill {tpath} {outpath} -f {yamlpath}')"
   ]
  },
  {
   "cell_type": "markdown",
   "id": "9ef7a7cc-7e37-4804-b21f-be9c92a823ed",
   "metadata": {},
   "source": [
    "## Generate runner scripts"
   ]
  },
  {
   "cell_type": "code",
   "execution_count": 9,
   "id": "7f4dd29a-db48-4ba8-b656-d72d6a45d69c",
   "metadata": {
    "scrolled": true
   },
   "outputs": [
    {
     "name": "stdout",
     "output_type": "stream",
     "text": [
      "miscdata/jwst_outputs/template_runner_pipeline.py\n",
      "miscdata/jwst_outputs/template_runner_other.py\n"
     ]
    }
   ],
   "source": [
    "runner_template = \"\"\"\n",
    "import os\n",
    "import sys\n",
    "import tqdm\n",
    "import yaml\n",
    "import papermill\n",
    "from multiprocessing import Pool\n",
    "\n",
    "\n",
    "def f(ops):\n",
    "    tpath, yamlpath, outpath = ops\n",
    "    if os.path.exists(outpath):\n",
    "        print('skipping', outpath, 'because it already exists')\n",
    "    else:\n",
    "        params = yaml.load(open(yamlpath), yaml.CLoader)\n",
    "        papermill.execute_notebook(tpath, outpath, params, progress_bar=False)\n",
    "\n",
    "if __name__ == '__main__':\n",
    "    outputs = {SOUTPUTS}\n",
    "\n",
    "    npool = 1\n",
    "    if len(sys.argv) > 1:\n",
    "        npool = int(sys.argv[1])\n",
    "\n",
    "    with Pool(npool) as p:\n",
    "        res = list(tqdm.tqdm(p.imap(f, outputs), total=len(outputs)))\n",
    "\"\"\"[1:-1]\n",
    "\n",
    "with (outbase / 'template_runner_pipeline.py').open('w') as f:\n",
    "    f.write(runner_template\n",
    "              .replace('{SOUTPUTS}', repr([tuple([str(o) for o in ops]) for ops in outputs if 'pipeline' in str(ops[0])]))\n",
    "           )\n",
    "    print(f.name) \n",
    "\n",
    "with (outbase / 'template_runner_other.py').open('w') as f:\n",
    "    f.write(runner_template\n",
    "              .replace('{SOUTPUTS}', repr([tuple([str(o) for o in ops]) for ops in outputs if 'pipeline' not in str(ops[0])]))\n",
    "           )\n",
    "    print(f.name) "
   ]
  }
 ],
 "metadata": {
  "kernelspec": {
   "display_name": "Python 3 (ipykernel)",
   "language": "python",
   "name": "python3"
  },
  "language_info": {
   "codemirror_mode": {
    "name": "ipython",
    "version": 3
   },
   "file_extension": ".py",
   "mimetype": "text/x-python",
   "name": "python",
   "nbconvert_exporter": "python",
   "pygments_lexer": "ipython3",
   "version": "3.11.8"
  }
 },
 "nbformat": 4,
 "nbformat_minor": 5
}
