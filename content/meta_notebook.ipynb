{
 "cells": [
  {
   "cell_type": "markdown",
   "id": "b8a8803d-6507-4764-a1f8-b4890d50ab45",
   "metadata": {},
   "source": [
    "This notebook is a \"meta-notebook\" in that it generates other notebooks to actually get run.\n",
    "\n",
    "The substitution rules for template notebooks are:\n",
    "\n",
    "* The template must start with \"TEMPLATE\", which will be removed in the output name.\n",
    "* All outputs in the templates are removed\n",
    "* Any text in the *first* code cell that is of the pattern \"{T{SOMETHING}\" will be replaced by whatever the tempate has for the key SOMETHING.\n",
    "* Any text in the notebook filename that matches a key will be replaced"
   ]
  },
  {
   "cell_type": "code",
   "execution_count": null,
   "id": "62ce5cc9-1515-430a-9b0b-c2680a5ced25",
   "metadata": {},
   "outputs": [],
   "source": [
    "import re\n",
    "from pathlib import Path\n",
    "\n",
    "import nbformat\n",
    "\n",
    "from astroquery.mast import Observations"
   ]
  },
  {
   "cell_type": "code",
   "execution_count": null,
   "id": "f3c5b265-dee7-4681-8531-03fa42f940b4",
   "metadata": {},
   "outputs": [],
   "source": [
    "PROPOSAL_ID = 2609"
   ]
  },
  {
   "cell_type": "code",
   "execution_count": null,
   "id": "9ef4ccc5-36ea-493f-a3c2-885d419e690b",
   "metadata": {},
   "outputs": [],
   "source": [
    "def apply_to_templates(templates, template_mapping):\n",
    "    outputs = {}\n",
    "    for tname, template in templates.items():\n",
    "        if not (tname.startswith('TEMPLATE') and tname.endswith('.ipynb')):\n",
    "            raise ValueError('not a TEMPLATE notebook!')\n",
    "            \n",
    "        nb = nbformat.NotebookNode(template)  # copy to not overwrite the template\n",
    "\n",
    "        cells = nb['cells']\n",
    "        for cell in cells:\n",
    "            cell['outputs'] = []\n",
    "        src = cells[0]['source']\n",
    "        for k, v in template_mapping.items():\n",
    "            src = src.replace(\"{T{\"+k+\"}\", v)\n",
    "        cells[0]['source'] = src\n",
    "\n",
    "        nbname = tname.removeprefix('TEMPLATE')\n",
    "        for k, v in template_mapping.items(): \n",
    "            nbname = nbname.replace(k, v)\n",
    "            \n",
    "        outputs[nbname] = nb\n",
    "    return outputs"
   ]
  },
  {
   "cell_type": "code",
   "execution_count": null,
   "id": "fe5e7344-6eb5-46c0-9a15-5139d6a1a76d",
   "metadata": {},
   "outputs": [],
   "source": [
    "templates = {templatepath.name:nbformat.read(templatepath.open(), 4)\n",
    "             for templatepath in list(Path('.').glob('TEMPLATE*.ipynb'))}"
   ]
  },
  {
   "cell_type": "markdown",
   "id": "eddeaddf-db19-41dd-955d-8dbbf4702d81",
   "metadata": {},
   "source": [
    "# Select the slits to run"
   ]
  },
  {
   "cell_type": "code",
   "execution_count": null,
   "id": "0412fd0b-8386-49e9-8cc5-279bcf4324f1",
   "metadata": {},
   "outputs": [],
   "source": [
    "obses = Observations.query_criteria(proposal_id=PROPOSAL_ID)\n",
    "specobses = obses[(obses['calib_level']==3)&(obses['dataproduct_type'] == 'spectrum')]\n",
    "specobses"
   ]
  },
  {
   "cell_type": "code",
   "execution_count": null,
   "id": "4ea278f9-483e-43bd-8da0-3ac76e0653c7",
   "metadata": {},
   "outputs": [],
   "source": [
    "target_name = 'NGC6791-NEWCATALOG-GAIAEDR3'\n",
    "specnames = []\n",
    "for row in specobses[specobses['target_name'] == target_name]:\n",
    "    m = re.match('jw.*_(s.*?)_.*', row['obs_id'])\n",
    "    if m is not None:\n",
    "        specnames.append((target_name, m.group(1)))"
   ]
  },
  {
   "cell_type": "markdown",
   "id": "be14da9a-81a6-4e18-a13b-9be8284d7c9d",
   "metadata": {},
   "source": [
    "# Generate the notebooks"
   ]
  },
  {
   "cell_type": "code",
   "execution_count": null,
   "id": "1cc9989b-a0c5-4c2c-8134-312b516f0787",
   "metadata": {},
   "outputs": [],
   "source": [
    "nbpaths_to_exec = []\n",
    "for targetname, slitname in specnames:\n",
    "    outputs = apply_to_templates(templates,\n",
    "                                   {'DLPATHNAME': 'mastDownload/flat/',\n",
    "                                    'REDUXBASENAME': 'miscdata/jwst_outputs/',\n",
    "                                    'PROPOSALID': str(PROPOSAL_ID),\n",
    "                                    'SLITNAME': slitname,\n",
    "                                    'TARGETNAME': targetname,\n",
    "                                   })\n",
    "    for k,v in outputs.items():\n",
    "        outfn = Path('miscdata/jwst_outputs') / k\n",
    "        print('writing to', outfn)\n",
    "        nbformat.write(v, outfn)\n",
    "        nbpaths_to_exec.append(outfn)"
   ]
  },
  {
   "cell_type": "markdown",
   "id": "a77bf425-6afd-4e86-a468-73aab24fbc50",
   "metadata": {},
   "source": [
    "# Commands to execute the notebooks"
   ]
  },
  {
   "cell_type": "code",
   "execution_count": null,
   "id": "f1f0a80b-4b4e-4b3f-8958-508f6b18e632",
   "metadata": {
    "scrolled": true
   },
   "outputs": [],
   "source": [
    "for nbp in nbpaths_to_exec:\n",
    "    print(f'jupyter nbconvert --to notebook --execute {nbp}')"
   ]
  },
  {
   "cell_type": "markdown",
   "id": "9ef7a7cc-7e37-4804-b21f-be9c92a823ed",
   "metadata": {},
   "source": [
    "Or for split into pipeline and non-pipeline ones:"
   ]
  },
  {
   "cell_type": "code",
   "execution_count": null,
   "id": "5386d354-fc83-4913-a19c-99e287cbc1c7",
   "metadata": {},
   "outputs": [],
   "source": [
    "for nbp in nbpaths_to_exec:\n",
    "    if 'pipeline' in str(nbp):\n",
    "        print(f'jupyter nbconvert --to notebook --execute {nbp}')"
   ]
  },
  {
   "cell_type": "code",
   "execution_count": null,
   "id": "1eee66b1-7668-467f-94b8-ec548f9c24f3",
   "metadata": {},
   "outputs": [],
   "source": [
    "for nbp in nbpaths_to_exec:\n",
    "    if 'pipeline' not in str(nbp):\n",
    "        print(f'jupyter nbconvert --to notebook --execute {nbp}')"
   ]
  }
 ],
 "metadata": {
  "kernelspec": {
   "display_name": "Python 3 (ipykernel)",
   "language": "python",
   "name": "python3"
  },
  "language_info": {
   "codemirror_mode": {
    "name": "ipython",
    "version": 3
   },
   "file_extension": ".py",
   "mimetype": "text/x-python",
   "name": "python",
   "nbconvert_exporter": "python",
   "pygments_lexer": "ipython3",
   "version": "3.11.8"
  }
 },
 "nbformat": 4,
 "nbformat_minor": 5
}
