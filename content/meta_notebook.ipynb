{
 "cells": [
  {
   "cell_type": "markdown",
   "id": "b8a8803d-6507-4764-a1f8-b4890d50ab45",
   "metadata": {},
   "source": [
    "This notebook is a \"meta-notebook\" in that it generates other notebooks to actually get run.\n",
    "\n",
    "The substitution rules for template notebooks are:\n",
    "\n",
    "* The template must start with \"TEMPLATE\", which will be removed in the output name.\n",
    "* All outputs in the templates are removed\n",
    "* Any text in the *first* code cell that is of the pattern \"{T{SOMETHING}\" will be replaced by whatever the tempate has for the key SOMETHING.\n",
    "* Any text in the notebook filename that matches a key will be replaced"
   ]
  },
  {
   "cell_type": "code",
   "execution_count": 1,
   "id": "62ce5cc9-1515-430a-9b0b-c2680a5ced25",
   "metadata": {},
   "outputs": [],
   "source": [
    "import re\n",
    "from pathlib import Path\n",
    "\n",
    "import nbformat\n",
    "\n",
    "from astroquery.mast import Observations"
   ]
  },
  {
   "cell_type": "code",
   "execution_count": 2,
   "id": "f3c5b265-dee7-4681-8531-03fa42f940b4",
   "metadata": {},
   "outputs": [],
   "source": [
    "PROPOSAL_ID = 2609"
   ]
  },
  {
   "cell_type": "code",
   "execution_count": 3,
   "id": "9ef4ccc5-36ea-493f-a3c2-885d419e690b",
   "metadata": {
    "editable": true,
    "slideshow": {
     "slide_type": ""
    },
    "tags": []
   },
   "outputs": [],
   "source": [
    "def apply_to_templates(templates, template_mapping):\n",
    "    outputs = {}\n",
    "    for tname, template in templates.items():\n",
    "        if not (tname.startswith('TEMPLATE') and tname.endswith('.ipynb')):\n",
    "            raise ValueError('not a TEMPLATE notebook!')\n",
    "            \n",
    "        nb = nbformat.NotebookNode(template)  # copy to not overwrite the template\n",
    "\n",
    "        cells = nb['cells']\n",
    "        for cell in cells:\n",
    "            if 'outputs' in cell:\n",
    "                cell['outputs'] = []\n",
    "        src = cells[0]['source']\n",
    "        for k, v in template_mapping.items():\n",
    "            src = src.replace(\"{T{\"+k+\"}\", v)\n",
    "        cells[0]['source'] = src\n",
    "\n",
    "        nbname = tname.removeprefix('TEMPLATE')\n",
    "        for k, v in template_mapping.items(): \n",
    "            nbname = nbname.replace(k, v)\n",
    "            \n",
    "        outputs[nbname] = nb\n",
    "    return outputs"
   ]
  },
  {
   "cell_type": "code",
   "execution_count": 4,
   "id": "fe5e7344-6eb5-46c0-9a15-5139d6a1a76d",
   "metadata": {},
   "outputs": [],
   "source": [
    "templates = {templatepath.name:nbformat.read(templatepath.open(), 4)\n",
    "             for templatepath in list(Path('.').glob('TEMPLATE*.ipynb'))}"
   ]
  },
  {
   "cell_type": "markdown",
   "id": "eddeaddf-db19-41dd-955d-8dbbf4702d81",
   "metadata": {},
   "source": [
    "# Select the slits to run"
   ]
  },
  {
   "cell_type": "code",
   "execution_count": 5,
   "id": "0412fd0b-8386-49e9-8cc5-279bcf4324f1",
   "metadata": {},
   "outputs": [
    {
     "data": {
      "text/html": [
       "<div><i>Table masked=True length=304</i>\n",
       "<table id=\"table140536150772112\" class=\"table-striped table-bordered table-condensed\">\n",
       "<thead><tr><th>intentType</th><th>obs_collection</th><th>provenance_name</th><th>instrument_name</th><th>project</th><th>filters</th><th>wavelength_region</th><th>target_name</th><th>target_classification</th><th>obs_id</th><th>s_ra</th><th>s_dec</th><th>dataproduct_type</th><th>proposal_pi</th><th>calib_level</th><th>t_min</th><th>t_max</th><th>t_exptime</th><th>em_min</th><th>em_max</th><th>obs_title</th><th>t_obs_release</th><th>proposal_id</th><th>proposal_type</th><th>sequence_number</th><th>s_region</th><th>jpegURL</th><th>dataURL</th><th>dataRights</th><th>mtFlag</th><th>srcDen</th><th>obsid</th><th>objID</th></tr></thead>\n",
       "<thead><tr><th>str7</th><th>str4</th><th>str7</th><th>str12</th><th>str4</th><th>str12</th><th>str8</th><th>str27</th><th>str23</th><th>str40</th><th>float64</th><th>float64</th><th>str8</th><th>str14</th><th>int64</th><th>float64</th><th>float64</th><th>float64</th><th>float64</th><th>float64</th><th>str60</th><th>float64</th><th>str4</th><th>str2</th><th>int64</th><th>str115</th><th>str66</th><th>str67</th><th>str16</th><th>bool</th><th>float64</th><th>str9</th><th>str9</th></tr></thead>\n",
       "<tr><td>science</td><td>JWST</td><td>CALJWST</td><td>NIRSPEC/MSA</td><td>JWST</td><td>F100LP;G140H</td><td>Infrared</td><td>IC166-NEWCATALOG-GAIAEDR3</td><td>--</td><td>jw02609-o007_s01035_nirspec_f100lp-g140h</td><td>28.09702</td><td>61.86512777777778</td><td>spectrum</td><td>Nidever, David</td><td>3</td><td>59891.81792711713</td><td>59891.855679699074</td><td>291.778</td><td>810.0</td><td>5000.0</td><td>Searching for the Alpha-Abundance Bimodality in the M31 Disk</td><td>60256.96119201</td><td>2609</td><td>GO</td><td>--</td><td>POLYGON 28.074579882 61.877969446 28.075552087 61.877969446 28.075552087 61.877667174 28.074579882 61.877667174</td><td>mast:JWST/product/jw02609-o007_s01035_nirspec_f100lp-g140h_cal.jpg</td><td>mast:JWST/product/jw02609-o007_s01035_nirspec_f100lp-g140h_s2d.fits</td><td>PUBLIC</td><td>False</td><td>nan</td><td>100544641</td><td>390754414</td></tr>\n",
       "<tr><td>science</td><td>JWST</td><td>CALJWST</td><td>NIRSPEC/MSA</td><td>JWST</td><td>F100LP;G140H</td><td>Infrared</td><td>IC166-NEWCATALOG-GAIAEDR3</td><td>--</td><td>jw02609-o007_s00970_nirspec_f100lp-g140h</td><td>28.09702</td><td>61.86512777777778</td><td>spectrum</td><td>Nidever, David</td><td>3</td><td>59891.81792711713</td><td>59891.855679699074</td><td>291.778</td><td>810.0</td><td>5000.0</td><td>Searching for the Alpha-Abundance Bimodality in the M31 Disk</td><td>60256.96119201</td><td>2609</td><td>GO</td><td>--</td><td>POLYGON 28.067236965 61.887788335 28.068213199 61.887788335 28.068213199 61.887483777 28.067236965 61.887483777</td><td>mast:JWST/product/jw02609-o007_s00970_nirspec_f100lp-g140h_cal.jpg</td><td>mast:JWST/product/jw02609-o007_s00970_nirspec_f100lp-g140h_s2d.fits</td><td>PUBLIC</td><td>False</td><td>nan</td><td>100544655</td><td>390754416</td></tr>\n",
       "<tr><td>science</td><td>JWST</td><td>CALJWST</td><td>NIRSPEC/MSA</td><td>JWST</td><td>F100LP;G140H</td><td>Infrared</td><td>IC166-NEWCATALOG-GAIAEDR3</td><td>--</td><td>jw02609-o007_s06046_nirspec_f100lp-g140h</td><td>28.09702</td><td>61.86512777777778</td><td>spectrum</td><td>Nidever, David</td><td>3</td><td>59891.81792711713</td><td>59891.855679699074</td><td>291.778</td><td>810.0</td><td>5000.0</td><td>Searching for the Alpha-Abundance Bimodality in the M31 Disk</td><td>60256.96119201</td><td>2609</td><td>GO</td><td>--</td><td>POLYGON 28.188633601 61.87839925 28.189616714 61.87839925 28.189616714 61.87808739 28.188633601 61.87808739</td><td>mast:JWST/product/jw02609-o007_s06046_nirspec_f100lp-g140h_cal.jpg</td><td>mast:JWST/product/jw02609-o007_s06046_nirspec_f100lp-g140h_s2d.fits</td><td>PUBLIC</td><td>False</td><td>nan</td><td>100544665</td><td>390754417</td></tr>\n",
       "<tr><td>science</td><td>JWST</td><td>CALJWST</td><td>NIRSPEC/MSA</td><td>JWST</td><td>F100LP;G140H</td><td>Infrared</td><td>IC166-NEWCATALOG-GAIAEDR3</td><td>--</td><td>jw02609-o007_s01040_nirspec_f100lp-g140h</td><td>28.09702</td><td>61.86512777777778</td><td>spectrum</td><td>Nidever, David</td><td>3</td><td>59891.81792711713</td><td>59891.855679699074</td><td>291.778</td><td>810.0</td><td>5000.0</td><td>Searching for the Alpha-Abundance Bimodality in the M31 Disk</td><td>60256.96119201</td><td>2609</td><td>GO</td><td>--</td><td>POLYGON 28.080246846 61.872897263 28.081216217 61.872897263 28.081216217 61.872596172 28.080246846 61.872596172</td><td>mast:JWST/product/jw02609-o007_s01040_nirspec_f100lp-g140h_cal.jpg</td><td>mast:JWST/product/jw02609-o007_s01040_nirspec_f100lp-g140h_s2d.fits</td><td>PUBLIC</td><td>False</td><td>nan</td><td>100544677</td><td>390754418</td></tr>\n",
       "<tr><td>science</td><td>JWST</td><td>CALJWST</td><td>NIRSPEC/MSA</td><td>JWST</td><td>F100LP;G140H</td><td>Infrared</td><td>IC166-NEWCATALOG-GAIAEDR3</td><td>--</td><td>jw02609-o007_s05379_nirspec_f100lp-g140h</td><td>28.09702</td><td>61.86512777777778</td><td>spectrum</td><td>Nidever, David</td><td>3</td><td>59891.81792711713</td><td>59891.855679699074</td><td>291.778</td><td>810.0</td><td>5000.0</td><td>Searching for the Alpha-Abundance Bimodality in the M31 Disk</td><td>60256.96119201</td><td>2609</td><td>GO</td><td>--</td><td>POLYGON 28.204804994 61.888792613 28.205787251 61.888792613 28.205787251 61.888479405 28.204804994 61.888479405</td><td>mast:JWST/product/jw02609-o007_s05379_nirspec_f100lp-g140h_cal.jpg</td><td>mast:JWST/product/jw02609-o007_s05379_nirspec_f100lp-g140h_s2d.fits</td><td>PUBLIC</td><td>False</td><td>nan</td><td>100544688</td><td>390754420</td></tr>\n",
       "<tr><td>science</td><td>JWST</td><td>CALJWST</td><td>NIRSPEC/MSA</td><td>JWST</td><td>F100LP;G140H</td><td>Infrared</td><td>IC166-NEWCATALOG-GAIAEDR3</td><td>--</td><td>jw02609-o007_s05185_nirspec_f100lp-g140h</td><td>28.09702</td><td>61.86512777777778</td><td>spectrum</td><td>Nidever, David</td><td>3</td><td>59891.81792711713</td><td>59891.855679699074</td><td>291.778</td><td>810.0</td><td>5000.0</td><td>Searching for the Alpha-Abundance Bimodality in the M31 Disk</td><td>60256.96119201</td><td>2609</td><td>GO</td><td>--</td><td>POLYGON 28.169943836 61.862103826 28.170927537 61.862103826 28.170927537 61.861794153 28.169943836 61.861794153</td><td>mast:JWST/product/jw02609-o007_s05185_nirspec_f100lp-g140h_cal.jpg</td><td>mast:JWST/product/jw02609-o007_s05185_nirspec_f100lp-g140h_s2d.fits</td><td>PUBLIC</td><td>False</td><td>nan</td><td>100544699</td><td>390754422</td></tr>\n",
       "<tr><td>...</td><td>...</td><td>...</td><td>...</td><td>...</td><td>...</td><td>...</td><td>...</td><td>...</td><td>...</td><td>...</td><td>...</td><td>...</td><td>...</td><td>...</td><td>...</td><td>...</td><td>...</td><td>...</td><td>...</td><td>...</td><td>...</td><td>...</td><td>...</td><td>...</td><td>...</td><td>...</td><td>...</td><td>...</td><td>...</td><td>...</td><td>...</td><td>...</td></tr>\n",
       "<tr><td>science</td><td>JWST</td><td>CALJWST</td><td>NIRSPEC/MSA</td><td>JWST</td><td>F100LP;G140H</td><td>Infrared</td><td>NGC6791-NEWCATALOG-GAIAEDR3</td><td>--</td><td>jw02609-o010_s10108_nirspec_f100lp-g140h</td><td>290.21948</td><td>37.76622777777778</td><td>spectrum</td><td>Nidever, David</td><td>3</td><td>60136.569050925</td><td>60136.59446353009</td><td>291.778</td><td>810.0</td><td>5000.0</td><td>Searching for the Alpha-Abundance Bimodality in the M31 Disk</td><td>60503.07453698</td><td>2609</td><td>GO</td><td>--</td><td>POLYGON 290.213099416 37.763689792 290.213558023 37.763689792 290.213558023 37.763284128 290.213099416 37.763284128</td><td>mast:JWST/product/jw02609-o010_s10108_nirspec_f100lp-g140h_cal.jpg</td><td>mast:JWST/product/jw02609-o010_s10108_nirspec_f100lp-g140h_s2d.fits</td><td>EXCLUSIVE_ACCESS</td><td>False</td><td>nan</td><td>150936686</td><td>390600447</td></tr>\n",
       "<tr><td>science</td><td>JWST</td><td>CALJWST</td><td>NIRSPEC/MSA</td><td>JWST</td><td>F100LP;G140H</td><td>Infrared</td><td>NGC6791-NEWCATALOG-GAIAEDR3</td><td>--</td><td>jw02609-o010_s01663_nirspec_f100lp-g140h</td><td>290.21948</td><td>37.76622777777778</td><td>spectrum</td><td>Nidever, David</td><td>3</td><td>60136.569050925</td><td>60136.59446353009</td><td>291.778</td><td>810.0</td><td>5000.0</td><td>Searching for the Alpha-Abundance Bimodality in the M31 Disk</td><td>60503.07453698</td><td>2609</td><td>GO</td><td>--</td><td>POLYGON 290.179079791 37.766767513 290.17954786 37.766767513 290.17954786 37.766357745 290.179079791 37.766357745</td><td>mast:JWST/product/jw02609-o010_s01663_nirspec_f100lp-g140h_cal.jpg</td><td>mast:JWST/product/jw02609-o010_s01663_nirspec_f100lp-g140h_s2d.fits</td><td>EXCLUSIVE_ACCESS</td><td>False</td><td>nan</td><td>150936695</td><td>390600517</td></tr>\n",
       "<tr><td>science</td><td>JWST</td><td>CALJWST</td><td>NIRSPEC/MSA</td><td>JWST</td><td>F100LP;G140H</td><td>Infrared</td><td>NGC6791-NEWCATALOG-GAIAEDR3</td><td>--</td><td>jw02609-o010_s01535_nirspec_f100lp-g140h</td><td>290.21948</td><td>37.76622777777778</td><td>spectrum</td><td>Nidever, David</td><td>3</td><td>60136.569050925</td><td>60136.59446353009</td><td>291.778</td><td>810.0</td><td>5000.0</td><td>Searching for the Alpha-Abundance Bimodality in the M31 Disk</td><td>60503.07453698</td><td>2609</td><td>GO</td><td>--</td><td>POLYGON 290.176763859 37.7456188 290.177230182 37.7456188 290.177230182 37.74521384 290.176763859 37.74521384</td><td>mast:JWST/product/jw02609-o010_s01535_nirspec_f100lp-g140h_cal.jpg</td><td>mast:JWST/product/jw02609-o010_s01535_nirspec_f100lp-g140h_s2d.fits</td><td>EXCLUSIVE_ACCESS</td><td>False</td><td>nan</td><td>150936703</td><td>390600535</td></tr>\n",
       "<tr><td>science</td><td>JWST</td><td>CALJWST</td><td>NIRSPEC/MSA</td><td>JWST</td><td>F100LP;G140H</td><td>Infrared</td><td>NGC6791-NEWCATALOG-GAIAEDR3</td><td>--</td><td>jw02609-o010_s00021_nirspec_f100lp-g140h</td><td>290.21948</td><td>37.76622777777778</td><td>spectrum</td><td>Nidever, David</td><td>3</td><td>60136.569050925</td><td>60136.59446353009</td><td>291.778</td><td>810.0</td><td>5000.0</td><td>Searching for the Alpha-Abundance Bimodality in the M31 Disk</td><td>60503.07453698</td><td>2609</td><td>GO</td><td>--</td><td>POLYGON 290.253375214 37.759647726 290.25384697 37.759647726 290.25384697 37.759226569 290.253375214 37.759226569</td><td>mast:JWST/product/jw02609-o010_s00021_nirspec_f100lp-g140h_cal.jpg</td><td>mast:JWST/product/jw02609-o010_s00021_nirspec_f100lp-g140h_s2d.fits</td><td>EXCLUSIVE_ACCESS</td><td>False</td><td>nan</td><td>150936716</td><td>390600544</td></tr>\n",
       "<tr><td>science</td><td>JWST</td><td>CALJWST</td><td>NIRSPEC/MSA</td><td>JWST</td><td>F100LP;G140H</td><td>Infrared</td><td>NGC6791-NEWCATALOG-GAIAEDR3</td><td>--</td><td>jw02609-o010_s01386_nirspec_f100lp-g140h</td><td>290.21948</td><td>37.76622777777778</td><td>spectrum</td><td>Nidever, David</td><td>3</td><td>60136.569050925</td><td>60136.59446353009</td><td>291.778</td><td>810.0</td><td>5000.0</td><td>Searching for the Alpha-Abundance Bimodality in the M31 Disk</td><td>60503.07453698</td><td>2609</td><td>GO</td><td>--</td><td>POLYGON 290.216681749 37.720189271 290.217155289 37.720189271 290.217155289 37.719774553 290.216681749 37.719774553</td><td>mast:JWST/product/jw02609-o010_s01386_nirspec_f100lp-g140h_cal.jpg</td><td>mast:JWST/product/jw02609-o010_s01386_nirspec_f100lp-g140h_s2d.fits</td><td>EXCLUSIVE_ACCESS</td><td>False</td><td>nan</td><td>150936726</td><td>390600554</td></tr>\n",
       "<tr><td>science</td><td>JWST</td><td>CALJWST</td><td>NIRSPEC/MSA</td><td>JWST</td><td>F100LP;G140H</td><td>Infrared</td><td>NGC6791-NEWCATALOG-GAIAEDR3</td><td>--</td><td>jw02609-o010_s01765_nirspec_f100lp-g140h</td><td>290.21948</td><td>37.76622777777778</td><td>spectrum</td><td>Nidever, David</td><td>3</td><td>60136.569050925</td><td>60136.59446353009</td><td>291.778</td><td>810.0</td><td>5000.0</td><td>Searching for the Alpha-Abundance Bimodality in the M31 Disk</td><td>60503.07453698</td><td>2609</td><td>GO</td><td>--</td><td>POLYGON 290.214274703 37.735234572 290.214751504 37.735234572 290.214751504 37.734816203 290.214274703 37.734816203</td><td>mast:JWST/product/jw02609-o010_s01765_nirspec_f100lp-g140h_cal.jpg</td><td>mast:JWST/product/jw02609-o010_s01765_nirspec_f100lp-g140h_s2d.fits</td><td>EXCLUSIVE_ACCESS</td><td>False</td><td>nan</td><td>150936739</td><td>390600568</td></tr>\n",
       "<tr><td>science</td><td>JWST</td><td>CALJWST</td><td>NIRSPEC/MSA</td><td>JWST</td><td>F100LP;G140H</td><td>Infrared</td><td>NGC6791-NEWCATALOG-GAIAEDR3</td><td>--</td><td>jw02609-o010_s01342_nirspec_f100lp-g140h</td><td>290.21948</td><td>37.76622777777778</td><td>spectrum</td><td>Nidever, David</td><td>3</td><td>60136.569050925</td><td>60136.59446353009</td><td>291.778</td><td>810.0</td><td>5000.0</td><td>Searching for the Alpha-Abundance Bimodality in the M31 Disk</td><td>60503.07453698</td><td>2609</td><td>GO</td><td>--</td><td>POLYGON 290.176954079 37.755684688 290.177421583 37.755684688 290.177421583 37.755277438 290.176954079 37.755277438</td><td>mast:JWST/product/jw02609-o010_s01342_nirspec_f100lp-g140h_cal.jpg</td><td>mast:JWST/product/jw02609-o010_s01342_nirspec_f100lp-g140h_s2d.fits</td><td>EXCLUSIVE_ACCESS</td><td>False</td><td>nan</td><td>150936748</td><td>390600576</td></tr>\n",
       "</table></div>"
      ],
      "text/plain": [
       "<Table masked=True length=304>\n",
       "intentType obs_collection provenance_name ...  srcDen   obsid     objID  \n",
       "   str7         str4            str7      ... float64    str9      str9  \n",
       "---------- -------------- --------------- ... ------- --------- ---------\n",
       "   science           JWST         CALJWST ...     nan 100544641 390754414\n",
       "   science           JWST         CALJWST ...     nan 100544655 390754416\n",
       "   science           JWST         CALJWST ...     nan 100544665 390754417\n",
       "   science           JWST         CALJWST ...     nan 100544677 390754418\n",
       "   science           JWST         CALJWST ...     nan 100544688 390754420\n",
       "   science           JWST         CALJWST ...     nan 100544699 390754422\n",
       "       ...            ...             ... ...     ...       ...       ...\n",
       "   science           JWST         CALJWST ...     nan 150936686 390600447\n",
       "   science           JWST         CALJWST ...     nan 150936695 390600517\n",
       "   science           JWST         CALJWST ...     nan 150936703 390600535\n",
       "   science           JWST         CALJWST ...     nan 150936716 390600544\n",
       "   science           JWST         CALJWST ...     nan 150936726 390600554\n",
       "   science           JWST         CALJWST ...     nan 150936739 390600568\n",
       "   science           JWST         CALJWST ...     nan 150936748 390600576"
      ]
     },
     "execution_count": 5,
     "metadata": {},
     "output_type": "execute_result"
    }
   ],
   "source": [
    "obses = Observations.query_criteria(proposal_id=PROPOSAL_ID)\n",
    "specobses = obses[(obses['calib_level']==3)&(obses['dataproduct_type'] == 'spectrum')]\n",
    "specobses"
   ]
  },
  {
   "cell_type": "code",
   "execution_count": 6,
   "id": "4ea278f9-483e-43bd-8da0-3ac76e0653c7",
   "metadata": {},
   "outputs": [],
   "source": [
    "target_name = 'NGC6791-NEWCATALOG-GAIAEDR3'\n",
    "specnames = []\n",
    "for row in specobses[specobses['target_name'] == target_name]:\n",
    "    m = re.match('jw.*_(s.*?)_.*', row['obs_id'])\n",
    "    if m is not None:\n",
    "        specnames.append((target_name, m.group(1)))"
   ]
  },
  {
   "cell_type": "markdown",
   "id": "be14da9a-81a6-4e18-a13b-9be8284d7c9d",
   "metadata": {},
   "source": [
    "# Generate the notebooks"
   ]
  },
  {
   "cell_type": "code",
   "execution_count": 7,
   "id": "1cc9989b-a0c5-4c2c-8134-312b516f0787",
   "metadata": {},
   "outputs": [
    {
     "name": "stdout",
     "output_type": "stream",
     "text": [
      "writing to miscdata/jwst_outputs/NGC6791-NEWCATALOG-GAIAEDR3_s00066_slit_dl_and_pipeline.ipynb\n"
     ]
    }
   ],
   "source": [
    "nbpaths_to_exec = []\n",
    "for targetname, slitname in specnames:\n",
    "    outputs = apply_to_templates(templates,\n",
    "                                   {'DLPATHNAME': 'mastDownload/flat/',\n",
    "                                    'REDUXBASENAME': 'miscdata/jwst_outputs/',\n",
    "                                    'PROPOSALID': str(PROPOSAL_ID),\n",
    "                                    'SLITNAME': slitname,\n",
    "                                    'TARGETNAME': targetname,\n",
    "                                   })\n",
    "    for k,v in outputs.items():\n",
    "        outfn = Path('miscdata/jwst_outputs') / k\n",
    "        print('writing to', outfn)\n",
    "        nbformat.write(v, outfn)\n",
    "        nbpaths_to_exec.append(outfn)\n",
    "    break  # REMOVE WHEN DONE TESTING"
   ]
  },
  {
   "cell_type": "markdown",
   "id": "a77bf425-6afd-4e86-a468-73aab24fbc50",
   "metadata": {},
   "source": [
    "# Commands to execute the notebooks"
   ]
  },
  {
   "cell_type": "code",
   "execution_count": 8,
   "id": "f1f0a80b-4b4e-4b3f-8958-508f6b18e632",
   "metadata": {
    "editable": true,
    "scrolled": true,
    "slideshow": {
     "slide_type": ""
    },
    "tags": []
   },
   "outputs": [
    {
     "name": "stdout",
     "output_type": "stream",
     "text": [
      "jupyter nbconvert --to notebook --execute miscdata/jwst_outputs/NGC6791-NEWCATALOG-GAIAEDR3_s00066_slit_dl_and_pipeline.ipynb\n"
     ]
    }
   ],
   "source": [
    "for nbp in nbpaths_to_exec:\n",
    "    print(f'jupyter nbconvert --to notebook --execute {nbp}')"
   ]
  },
  {
   "cell_type": "markdown",
   "id": "9ef7a7cc-7e37-4804-b21f-be9c92a823ed",
   "metadata": {},
   "source": [
    "Or for split into pipeline and non-pipeline ones:"
   ]
  },
  {
   "cell_type": "code",
   "execution_count": 9,
   "id": "5386d354-fc83-4913-a19c-99e287cbc1c7",
   "metadata": {},
   "outputs": [
    {
     "name": "stdout",
     "output_type": "stream",
     "text": [
      "jupyter nbconvert --to notebook --execute miscdata/jwst_outputs/NGC6791-NEWCATALOG-GAIAEDR3_s00066_slit_dl_and_pipeline.ipynb\n"
     ]
    }
   ],
   "source": [
    "for nbp in nbpaths_to_exec:\n",
    "    if 'pipeline' in str(nbp):\n",
    "        print(f'jupyter nbconvert --to notebook --execute {nbp}')"
   ]
  },
  {
   "cell_type": "code",
   "execution_count": 10,
   "id": "1eee66b1-7668-467f-94b8-ec548f9c24f3",
   "metadata": {},
   "outputs": [],
   "source": [
    "for nbp in nbpaths_to_exec:\n",
    "    if 'pipeline' not in str(nbp):\n",
    "        print(f'jupyter nbconvert --to notebook --execute {nbp}')"
   ]
  }
 ],
 "metadata": {
  "kernelspec": {
   "display_name": "Python 3 (ipykernel)",
   "language": "python",
   "name": "python3"
  },
  "language_info": {
   "codemirror_mode": {
    "name": "ipython",
    "version": 3
   },
   "file_extension": ".py",
   "mimetype": "text/x-python",
   "name": "python",
   "nbconvert_exporter": "python",
   "pygments_lexer": "ipython3",
   "version": "3.11.8"
  }
 },
 "nbformat": 4,
 "nbformat_minor": 5
}
