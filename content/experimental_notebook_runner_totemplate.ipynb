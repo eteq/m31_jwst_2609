{
 "cells": [
  {
   "cell_type": "code",
   "execution_count": 1,
   "id": "fa1e97e8-0b74-4745-892d-66ee6c240ee6",
   "metadata": {},
   "outputs": [],
   "source": [
    "import os\n",
    "from pathlib import Path\n",
    "\n",
    "from astropy import units as u\n",
    "\n",
    "import numpy as np\n",
    "import cupy as cp"
   ]
  },
  {
   "cell_type": "code",
   "execution_count": 2,
   "id": "dbae667a-0899-450e-bb04-0b7bc7944273",
   "metadata": {},
   "outputs": [],
   "source": [
    "%matplotlib inline\n",
    "\n",
    "from astropy import visualization\n",
    "visualization.quantity_support()\n",
    "\n",
    "from matplotlib import pyplot as plt"
   ]
  },
  {
   "cell_type": "markdown",
   "id": "3a1064d1-cf39-4e71-ad75-c24bf6d6b81d",
   "metadata": {},
   "source": [
    "# Run the pipeline with consistent widening parameters"
   ]
  },
  {
   "cell_type": "code",
   "execution_count": 3,
   "id": "047c1ef0-95a3-4134-8763-d383a146676f",
   "metadata": {},
   "outputs": [],
   "source": [
    "# ..."
   ]
  },
  {
   "cell_type": "markdown",
   "id": "9fa05aa1-4d46-40a4-a16a-599c2d1c870e",
   "metadata": {},
   "source": [
    "# Create the PSF"
   ]
  },
  {
   "cell_type": "code",
   "execution_count": 4,
   "id": "5d91f409-2374-40a8-bfcf-068cde0a48d3",
   "metadata": {},
   "outputs": [
    {
     "name": "stderr",
     "output_type": "stream",
     "text": [
      "/usr/local/lib/python3.11/site-packages/cupyx/jit/_interface.py:173: FutureWarning: cupyx.jit.rawkernel is experimental. The interface can change in the future.\n",
      "  cupy._util.experimental('cupyx.jit.rawkernel')\n"
     ]
    }
   ],
   "source": [
    "import webbpsf"
   ]
  },
  {
   "cell_type": "code",
   "execution_count": 5,
   "id": "cc388b69-bc51-4457-a1d8-93adbbbf8fb2",
   "metadata": {},
   "outputs": [
    {
     "name": "stdout",
     "output_type": "stream",
     "text": [
      "CPU times: user 8.78 s, sys: 3.31 s, total: 12.1 s\n",
      "Wall time: 9.21 s\n",
      "CPU times: user 19.5 s, sys: 6 s, total: 25.5 s\n",
      "Wall time: 22.8 s\n"
     ]
    }
   ],
   "source": [
    "wns = webbpsf.NIRSpec()\n",
    "\n",
    "wns.detector = 'NRS2'\n",
    "wns.image_mask = 'Single MSA open shutter'\n",
    "\n",
    "%time psf = wns.calc_psf(monochromatic=(1.4*u.micron).to(u.meter).value)\n",
    "%time psf = wns.calc_psf(monochromatic=(1.4*u.micron).to(u.meter).value, oversample=10, fov_arcsec=1)"
   ]
  },
  {
   "cell_type": "code",
   "execution_count": 5,
   "id": "74b0787b-ba74-41fd-b427-244d03fb0f61",
   "metadata": {},
   "outputs": [
    {
     "name": "stdout",
     "output_type": "stream",
     "text": [
      "CPU times: user 8.68 s, sys: 3.45 s, total: 12.1 s\n",
      "Wall time: 9.29 s\n",
      "CPU times: user 19.5 s, sys: 6.49 s, total: 26 s\n",
      "Wall time: 23.3 s\n"
     ]
    }
   ],
   "source": [
    "#CPU"
   ]
  },
  {
   "cell_type": "code",
   "execution_count": null,
   "id": "7ac8c113-dfee-4e65-9a1f-c88f161832cd",
   "metadata": {},
   "outputs": [],
   "source": []
  }
 ],
 "metadata": {
  "kernelspec": {
   "display_name": "Python 3 (ipykernel)",
   "language": "python",
   "name": "python3"
  },
  "language_info": {
   "codemirror_mode": {
    "name": "ipython",
    "version": 3
   },
   "file_extension": ".py",
   "mimetype": "text/x-python",
   "name": "python",
   "nbconvert_exporter": "python",
   "pygments_lexer": "ipython3",
   "version": "3.11.8"
  }
 },
 "nbformat": 4,
 "nbformat_minor": 5
}
