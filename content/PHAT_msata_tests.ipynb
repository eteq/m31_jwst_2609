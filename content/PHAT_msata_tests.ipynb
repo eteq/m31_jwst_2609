{
 "cells": [
  {
   "cell_type": "markdown",
   "metadata": {},
   "source": [
    "FROM KARRIE and DAVID"
   ]
  },
  {
   "cell_type": "code",
   "execution_count": 3,
   "metadata": {},
   "outputs": [],
   "source": [
    "from astroquery.mast import Observations\n",
    "from astrowidgets import ImageWidget\n",
    "\n",
    "from astropy import units as u\n",
    "from astropy.io import fits\n",
    "from astropy import table\n",
    "from astropy.coordinates import SkyCoord\n",
    "\n",
    "import numpy as np\n",
    "\n",
    "%matplotlib inline\n",
    "from matplotlib import pyplot as plt"
   ]
  },
  {
   "cell_type": "markdown",
   "metadata": {},
   "source": [
    "# For M31: PHAT Catalogs"
   ]
  },
  {
   "cell_type": "code",
   "execution_count": 435,
   "metadata": {},
   "outputs": [],
   "source": [
    "# Read in the brick-wide st catalog of your choice\n",
    "# st catalog is best case scenario in terms of crowding, since some detected sources not included\n",
    "\n",
    "# files downloaded from MAST \n",
    "# https://archive.stsci.edu/prepds/phat/datalist.html\n",
    "\n",
    "# *.st.fits: Star files: these files contain the photometry of all\n",
    "# objects classified as stars (object type <= 2 and sharp_filter^2 <\n",
    "# 0.1) with S/N > 4 in at least one band and data flag < 8.  All objects\n",
    "# with S/N > 4 in both filters are also included in these files.  These\n",
    "# files will contain more objects but will have less clean CMD features.\n",
    "\n",
    "# Brick 19: approximately the equivalent of the solar neighborhood, adjusting for relative scale lengths\n",
    "phat_cat = 'hlsp_phat_hst_wfc3-uvis-acs-wfc-wfc3-ir_12110-m31-b19_f275w-f336w-f475w-f814w-f110w-f160w_v2_st.fits'\n",
    "phat_ref_img = 'hlsp_phat_hst_wfc3-ir_12110-m31-b19_f110w_v1_drz.fits'\n",
    "\n",
    "# Brick 23: most conservative option\n",
    "phat_cat = 'hlsp_phat_hst_wfc3-uvis-acs-wfc-wfc3-ir_12070-m31-b23_f275w-f336w-f475w-f814w-f110w-f160w_v2_st.fits'\n",
    "phat_ref_img = 'hlsp_phat_hst_wfc3-ir_12070-m31-b23_f110w_v1_drz.fits'\n",
    "\n",
    "# Brick 11\n",
    "#phat_cat = 'hlsp_phat_hst_wfc3-uvis-acs-wfc-wfc3-ir_12115-m31-b11_f275w-f336w-f475w-f814w-f110w-f160w_v2_st.fits'\n",
    "\n",
    "hdu_list = fits.open(phat_cat, memmap=True) # memmap helps prevent RAM issues for big files"
   ]
  },
  {
   "cell_type": "code",
   "execution_count": 436,
   "metadata": {
    "scrolled": true
   },
   "outputs": [
    {
     "name": "stdout",
     "output_type": "stream",
     "text": [
      "Filename: hlsp_phat_hst_wfc3-uvis-acs-wfc-wfc3-ir_12070-m31-b23_f275w-f336w-f475w-f814w-f110w-f160w_v2_st.fits\n",
      "No.    Name      Ver    Type      Cards   Dimensions   Format\n",
      "  0  PRIMARY       1 PrimaryHDU       6   ()      \n",
      "  1                1 BinTableHDU    162   2756854R x 77C   [E, E, D, D, E, E, E, E, E, E, E, E, E, I, E, E, E, E, E, E, E, E, E, I, E, E, E, E, E, E, E, E, E, I, E, E, E, E, E, E, E, E, E, I, E, E, E, E, E, E, E, E, E, I, E, E, E, E, E, E, E, E, E, I, L, L, L, L, L, L, K, E, E, L, L, L, L]   \n",
      "ColDefs(\n",
      "    name = 'x'; format = 'E'\n",
      "    name = 'y'; format = 'E'\n",
      "    name = 'ra'; format = 'D'\n",
      "    name = 'dec'; format = 'D'\n",
      "    name = 'f110w_rate'; format = 'E'\n",
      "    name = 'f110w_raterr'; format = 'E'\n",
      "    name = 'f110w_vega'; format = 'E'\n",
      "    name = 'f110w_err'; format = 'E'\n",
      "    name = 'f110w_chi'; format = 'E'\n",
      "    name = 'f110w_snr'; format = 'E'\n",
      "    name = 'f110w_sharp'; format = 'E'\n",
      "    name = 'f110w_round'; format = 'E'\n",
      "    name = 'f110w_crowd'; format = 'E'\n",
      "    name = 'f110w_flag'; format = 'I'\n",
      "    name = 'f160w_rate'; format = 'E'\n",
      "    name = 'f160w_raterr'; format = 'E'\n",
      "    name = 'f160w_vega'; format = 'E'\n",
      "    name = 'f160w_err'; format = 'E'\n",
      "    name = 'f160w_chi'; format = 'E'\n",
      "    name = 'f160w_snr'; format = 'E'\n",
      "    name = 'f160w_sharp'; format = 'E'\n",
      "    name = 'f160w_round'; format = 'E'\n",
      "    name = 'f160w_crowd'; format = 'E'\n",
      "    name = 'f160w_flag'; format = 'I'\n",
      "    name = 'f275w_rate'; format = 'E'\n",
      "    name = 'f275w_raterr'; format = 'E'\n",
      "    name = 'f275w_vega'; format = 'E'\n",
      "    name = 'f275w_err'; format = 'E'\n",
      "    name = 'f275w_chi'; format = 'E'\n",
      "    name = 'f275w_snr'; format = 'E'\n",
      "    name = 'f275w_sharp'; format = 'E'\n",
      "    name = 'f275w_round'; format = 'E'\n",
      "    name = 'f275w_crowd'; format = 'E'\n",
      "    name = 'f275w_flag'; format = 'I'\n",
      "    name = 'f336w_rate'; format = 'E'\n",
      "    name = 'f336w_raterr'; format = 'E'\n",
      "    name = 'f336w_vega'; format = 'E'\n",
      "    name = 'f336w_err'; format = 'E'\n",
      "    name = 'f336w_chi'; format = 'E'\n",
      "    name = 'f336w_snr'; format = 'E'\n",
      "    name = 'f336w_sharp'; format = 'E'\n",
      "    name = 'f336w_round'; format = 'E'\n",
      "    name = 'f336w_crowd'; format = 'E'\n",
      "    name = 'f336w_flag'; format = 'I'\n",
      "    name = 'f475w_rate'; format = 'E'\n",
      "    name = 'f475w_raterr'; format = 'E'\n",
      "    name = 'f475w_vega'; format = 'E'\n",
      "    name = 'f475w_err'; format = 'E'\n",
      "    name = 'f475w_chi'; format = 'E'\n",
      "    name = 'f475w_snr'; format = 'E'\n",
      "    name = 'f475w_sharp'; format = 'E'\n",
      "    name = 'f475w_round'; format = 'E'\n",
      "    name = 'f475w_crowd'; format = 'E'\n",
      "    name = 'f475w_flag'; format = 'I'\n",
      "    name = 'f814w_rate'; format = 'E'\n",
      "    name = 'f814w_raterr'; format = 'E'\n",
      "    name = 'f814w_vega'; format = 'E'\n",
      "    name = 'f814w_err'; format = 'E'\n",
      "    name = 'f814w_chi'; format = 'E'\n",
      "    name = 'f814w_snr'; format = 'E'\n",
      "    name = 'f814w_sharp'; format = 'E'\n",
      "    name = 'f814w_round'; format = 'E'\n",
      "    name = 'f814w_crowd'; format = 'E'\n",
      "    name = 'f814w_flag'; format = 'I'\n",
      "    name = 'f275w_gst'; format = 'L'\n",
      "    name = 'f336w_gst'; format = 'L'\n",
      "    name = 'f475w_gst'; format = 'L'\n",
      "    name = 'f814w_gst'; format = 'L'\n",
      "    name = 'f110w_gst'; format = 'L'\n",
      "    name = 'f160w_gst'; format = 'L'\n",
      "    name = 'field'; format = 'K'\n",
      "    name = 'ir_x'; format = 'E'\n",
      "    name = 'ir_y'; format = 'E'\n",
      "    name = 'inside_ir'; format = 'L'\n",
      "    name = 'inside_brick'; format = 'L'\n",
      "    name = 'inside_chipgap'; format = 'L'\n",
      "    name = 'inside_other_chipgap'; format = 'L'\n",
      ")\n"
     ]
    }
   ],
   "source": [
    "hdu_list.info()\n",
    "print(hdu_list[1].columns)"
   ]
  },
  {
   "cell_type": "code",
   "execution_count": 437,
   "metadata": {},
   "outputs": [],
   "source": [
    "phat_data = table.Table(hdu_list[1].data)"
   ]
  },
  {
   "cell_type": "code",
   "execution_count": 438,
   "metadata": {},
   "outputs": [
    {
     "data": {
      "text/html": [
       "<i>Table length=2756854</i>\n",
       "<table id=\"table140606700565112\" class=\"table-striped table-bordered table-condensed\">\n",
       "<thead><tr><th>x</th><th>y</th><th>ra</th><th>dec</th><th>f110w_rate</th><th>f110w_raterr</th><th>f110w_vega</th><th>f110w_err</th><th>f110w_chi</th><th>f110w_snr</th><th>f110w_sharp</th><th>f110w_round</th><th>f110w_crowd</th><th>f110w_flag</th><th>f160w_rate</th><th>f160w_raterr</th><th>f160w_vega</th><th>f160w_err</th><th>f160w_chi</th><th>f160w_snr</th><th>f160w_sharp</th><th>f160w_round</th><th>f160w_crowd</th><th>f160w_flag</th><th>f275w_rate</th><th>f275w_raterr</th><th>f275w_vega</th><th>f275w_err</th><th>f275w_chi</th><th>f275w_snr</th><th>f275w_sharp</th><th>f275w_round</th><th>f275w_crowd</th><th>f275w_flag</th><th>f336w_rate</th><th>f336w_raterr</th><th>f336w_vega</th><th>f336w_err</th><th>f336w_chi</th><th>f336w_snr</th><th>f336w_sharp</th><th>f336w_round</th><th>f336w_crowd</th><th>f336w_flag</th><th>f475w_rate</th><th>f475w_raterr</th><th>f475w_vega</th><th>f475w_err</th><th>f475w_chi</th><th>f475w_snr</th><th>f475w_sharp</th><th>f475w_round</th><th>f475w_crowd</th><th>f475w_flag</th><th>f814w_rate</th><th>f814w_raterr</th><th>f814w_vega</th><th>f814w_err</th><th>f814w_chi</th><th>f814w_snr</th><th>f814w_sharp</th><th>f814w_round</th><th>f814w_crowd</th><th>f814w_flag</th><th>f275w_gst</th><th>f336w_gst</th><th>f475w_gst</th><th>f814w_gst</th><th>f110w_gst</th><th>f160w_gst</th><th>field</th><th>ir_x</th><th>ir_y</th><th>inside_ir</th><th>inside_brick</th><th>inside_chipgap</th><th>inside_other_chipgap</th></tr></thead>\n",
       "<thead><tr><th>float32</th><th>float32</th><th>float64</th><th>float64</th><th>float32</th><th>float32</th><th>float32</th><th>float32</th><th>float32</th><th>float32</th><th>float32</th><th>float32</th><th>float32</th><th>int16</th><th>float32</th><th>float32</th><th>float32</th><th>float32</th><th>float32</th><th>float32</th><th>float32</th><th>float32</th><th>float32</th><th>int16</th><th>float32</th><th>float32</th><th>float32</th><th>float32</th><th>float32</th><th>float32</th><th>float32</th><th>float32</th><th>float32</th><th>int16</th><th>float32</th><th>float32</th><th>float32</th><th>float32</th><th>float32</th><th>float32</th><th>float32</th><th>float32</th><th>float32</th><th>int16</th><th>float32</th><th>float32</th><th>float32</th><th>float32</th><th>float32</th><th>float32</th><th>float32</th><th>float32</th><th>float32</th><th>int16</th><th>float32</th><th>float32</th><th>float32</th><th>float32</th><th>float32</th><th>float32</th><th>float32</th><th>float32</th><th>float32</th><th>int16</th><th>bool</th><th>bool</th><th>bool</th><th>bool</th><th>bool</th><th>bool</th><th>int64</th><th>float32</th><th>float32</th><th>bool</th><th>bool</th><th>bool</th><th>bool</th></tr></thead>\n",
       "<tr><td>3177.67</td><td>2512.01</td><td>11.840254697</td><td>42.2849569026</td><td>1.82e-06</td><td>3.41e-10</td><td>14.35</td><td>0.0</td><td>1.01</td><td>5331.1</td><td>-0.017</td><td>0.006</td><td>0.062</td><td>0</td><td>2.7e-06</td><td>5.56e-10</td><td>13.92</td><td>0.0</td><td>1.48</td><td>4859.6</td><td>0.021</td><td>0.012</td><td>0.076</td><td>0</td><td>3.31e-08</td><td>2.05e-10</td><td>18.699</td><td>0.007</td><td>2.95</td><td>161.9</td><td>0.022</td><td>0.068</td><td>0.003</td><td>0</td><td>2.25e-07</td><td>3.24e-10</td><td>16.618</td><td>0.002</td><td>3.12</td><td>695.5</td><td>0.034</td><td>0.061</td><td>0.008</td><td>0</td><td>2.92e-07</td><td>1.14e-09</td><td>16.337</td><td>0.004</td><td>8.91</td><td>256.2</td><td>-0.149</td><td>0.038</td><td>0.015</td><td>0</td><td>1.34e-06</td><td>2.81e-09</td><td>14.686</td><td>0.002</td><td>2.68</td><td>475.4</td><td>0.027</td><td>-0.052</td><td>0.0</td><td>0</td><td>True</td><td>True</td><td>True</td><td>True</td><td>True</td><td>True</td><td>1</td><td>932.9</td><td>290.586</td><td>True</td><td>True</td><td>False</td><td>False</td></tr>\n",
       "<tr><td>2870.29</td><td>2914.33</td><td>11.8307509203</td><td>42.285140768</td><td>3.45e-07</td><td>1.45e-10</td><td>16.154</td><td>0.0</td><td>0.88</td><td>2386.8</td><td>-0.016</td><td>-0.017</td><td>0.0</td><td>0</td><td>5.78e-07</td><td>2.49e-10</td><td>15.596</td><td>0.0</td><td>1.32</td><td>2317.5</td><td>0.004</td><td>0.003</td><td>0.0</td><td>0</td><td>3.84e-09</td><td>7.4e-11</td><td>21.038</td><td>0.021</td><td>2.91</td><td>52.0</td><td>0.092</td><td>0.037</td><td>0.0</td><td>0</td><td>2.89e-08</td><td>1.16e-10</td><td>18.847</td><td>0.004</td><td>3.82</td><td>249.0</td><td>-0.011</td><td>0.071</td><td>0.0</td><td>0</td><td>5.38e-08</td><td>7.84e-11</td><td>18.173</td><td>0.002</td><td>2.16</td><td>686.6</td><td>-0.003</td><td>0.051</td><td>0.0</td><td>0</td><td>2.22e-07</td><td>1.16e-09</td><td>16.634</td><td>0.006</td><td>1.84</td><td>192.1</td><td>0.053</td><td>0.012</td><td>0.0</td><td>0</td><td>True</td><td>True</td><td>True</td><td>True</td><td>True</td><td>True</td><td>1</td><td>955.849</td><td>498.257</td><td>True</td><td>True</td><td>False</td><td>False</td></tr>\n",
       "<tr><td>2521.57</td><td>2350.79</td><td>11.8354850854</td><td>42.2936515958</td><td>2.59e-07</td><td>1.26e-10</td><td>16.468</td><td>0.001</td><td>1.57</td><td>2058.7</td><td>-0.017</td><td>0.067</td><td>0.0</td><td>0</td><td>5.09e-07</td><td>2.34e-10</td><td>15.732</td><td>0.0</td><td>1.26</td><td>2176.6</td><td>-0.003</td><td>0.001</td><td>0.0</td><td>0</td><td>-1e-12</td><td>1.81e-11</td><td>99.999</td><td>9.999</td><td>1.17</td><td>-0.1</td><td>3.901</td><td>-0.305</td><td>0.0</td><td>0</td><td>1.18e-09</td><td>2.55e-11</td><td>22.321</td><td>0.023</td><td>3.08</td><td>46.3</td><td>0.06</td><td>0.122</td><td>0.0</td><td>0</td><td>8.25e-09</td><td>1.48e-11</td><td>20.209</td><td>0.002</td><td>1.3</td><td>558.9</td><td>0.042</td><td>0.002</td><td>0.0</td><td>0</td><td>1.23e-07</td><td>8.74e-10</td><td>17.272</td><td>0.008</td><td>1.23</td><td>141.2</td><td>-0.003</td><td>-0.055</td><td>0.0</td><td>0</td><td>True</td><td>True</td><td>True</td><td>True</td><td>True</td><td>True</td><td>1</td><td>718.266</td><td>433.712</td><td>True</td><td>True</td><td>False</td><td>False</td></tr>\n",
       "<tr><td>1322.63</td><td>3754.0</td><td>11.800935575</td><td>42.2957151044</td><td>3.18e-07</td><td>1.42e-10</td><td>16.245</td><td>0.0</td><td>0.8</td><td>2237.1</td><td>0.0</td><td>-0.017</td><td>0.058</td><td>0</td><td>5e-07</td><td>2.38e-10</td><td>15.753</td><td>0.001</td><td>0.77</td><td>2098.0</td><td>0.022</td><td>0.023</td><td>0.07</td><td>0</td><td>8.13e-09</td><td>1.04e-10</td><td>20.225</td><td>0.014</td><td>2.27</td><td>78.4</td><td>0.046</td><td>-0.068</td><td>0.0</td><td>0</td><td>4.53e-08</td><td>1.45e-10</td><td>18.359</td><td>0.003</td><td>3.1</td><td>312.5</td><td>0.031</td><td>0.062</td><td>0.002</td><td>0</td><td>5.89e-08</td><td>5.94e-11</td><td>18.074</td><td>0.001</td><td>3.8</td><td>992.1</td><td>-0.052</td><td>-0.016</td><td>0.028</td><td>0</td><td>2.15e-07</td><td>1.16e-09</td><td>16.67</td><td>0.006</td><td>2.42</td><td>184.8</td><td>0.007</td><td>0.12</td><td>0.058</td><td>0</td><td>True</td><td>True</td><td>True</td><td>True</td><td>True</td><td>True</td><td>1</td><td>771.864</td><td>212.909</td><td>False</td><td>True</td><td>False</td><td>True</td></tr>\n",
       "<tr><td>3177.56</td><td>2509.94</td><td>11.8402849744</td><td>42.284974996</td><td>1.26e-07</td><td>2.17e-10</td><td>17.252</td><td>0.002</td><td>17.27</td><td>580.5</td><td>-0.082</td><td>0.118</td><td>1.976</td><td>0</td><td>2.17e-07</td><td>3.82e-10</td><td>16.656</td><td>0.002</td><td>22.35</td><td>569.1</td><td>0.305</td><td>0.165</td><td>2.033</td><td>0</td><td>1.65e-10</td><td>5.44e-11</td><td>24.453</td><td>0.358</td><td>4.22</td><td>3.0</td><td>-1.27</td><td>1.446</td><td>2.925</td><td>0</td><td>3.22e-09</td><td>8.41e-11</td><td>21.232</td><td>0.029</td><td>15.36</td><td>38.1</td><td>-0.727</td><td>1.287</td><td>1.706</td><td>0</td><td>7.03e-09</td><td>3.75e-10</td><td>20.383</td><td>0.058</td><td>13.01</td><td>18.8</td><td>-0.817</td><td>0.218</td><td>1.505</td><td>0</td><td>-7.6e-08</td><td>9.18e-10</td><td>99.999</td><td>0.009</td><td>14.64</td><td>-83.3</td><td>0.0</td><td>0.0</td><td>9.999</td><td>0</td><td>False</td><td>False</td><td>False</td><td>True</td><td>True</td><td>True</td><td>1</td><td>932.336</td><td>290.009</td><td>True</td><td>True</td><td>False</td><td>False</td></tr>\n",
       "<tr><td>851.23</td><td>2162.69</td><td>11.8199528171</td><td>42.3139759662</td><td>1.33e-07</td><td>9.14e-11</td><td>17.192</td><td>0.001</td><td>1.21</td><td>1452.1</td><td>-0.024</td><td>0.022</td><td>0.017</td><td>0</td><td>2.09e-07</td><td>1.56e-10</td><td>16.698</td><td>0.001</td><td>1.3</td><td>1344.7</td><td>-0.002</td><td>0.013</td><td>0.03</td><td>0</td><td>4.03e-09</td><td>7.53e-11</td><td>20.988</td><td>0.02</td><td>3.87</td><td>53.5</td><td>-0.039</td><td>-0.035</td><td>0.0</td><td>0</td><td>2.13e-08</td><td>1e-10</td><td>19.177</td><td>0.005</td><td>4.76</td><td>213.1</td><td>0.054</td><td>0.082</td><td>0.0</td><td>0</td><td>2.71e-08</td><td>2.69e-11</td><td>18.916</td><td>0.001</td><td>2.28</td><td>1008.9</td><td>0.05</td><td>0.016</td><td>0.032</td><td>0</td><td>8.56e-08</td><td>9.34e-11</td><td>17.669</td><td>0.001</td><td>2.62</td><td>917.0</td><td>0.025</td><td>-0.027</td><td>0.037</td><td>0</td><td>True</td><td>True</td><td>True</td><td>True</td><td>True</td><td>True</td><td>1</td><td>229.304</td><td>863.519</td><td>True</td><td>True</td><td>False</td><td>False</td></tr>\n",
       "<tr><td>2229.87</td><td>3626.12</td><td>11.8128728487</td><td>42.2865508618</td><td>7.19e-08</td><td>6.69e-11</td><td>17.858</td><td>0.001</td><td>1.34</td><td>1074.4</td><td>0.043</td><td>-0.023</td><td>0.008</td><td>0</td><td>2.03e-07</td><td>1.49e-10</td><td>16.733</td><td>0.001</td><td>0.94</td><td>1361.7</td><td>0.008</td><td>0.011</td><td>0.005</td><td>0</td><td>7.33e-12</td><td>1.86e-11</td><td>27.838</td><td>2.779</td><td>1.05</td><td>0.4</td><td>-0.69</td><td>9.806</td><td>0.017</td><td>0</td><td>-5.9e-12</td><td>7e-12</td><td>99.999</td><td>0.193</td><td>0.95</td><td>-0.8</td><td>0.0</td><td>0.0</td><td>0.0</td><td>0</td><td>-1.1e-12</td><td>1.08e-12</td><td>99.999</td><td>0.45</td><td>1.0</td><td>-1.1</td><td>-0.881</td><td>-0.695</td><td>0.032</td><td>0</td><td>1.09e-09</td><td>8.45e-12</td><td>22.408</td><td>0.008</td><td>1.34</td><td>128.9</td><td>-0.028</td><td>-0.001</td><td>0.001</td><td>0</td><td>False</td><td>True</td><td>True</td><td>True</td><td>True</td><td>True</td><td>1</td><td>970.982</td><td>893.73</td><td>True</td><td>True</td><td>False</td><td>False</td></tr>\n",
       "<tr><td>2111.17</td><td>3554.69</td><td>11.8126521523</td><td>42.2884678174</td><td>6.35e-08</td><td>6.49e-11</td><td>17.993</td><td>0.001</td><td>1.72</td><td>978.5</td><td>0.015</td><td>0.047</td><td>0.081</td><td>0</td><td>1.58e-07</td><td>1.39e-10</td><td>17.004</td><td>0.001</td><td>0.93</td><td>1137.0</td><td>0.017</td><td>0.048</td><td>0.117</td><td>0</td><td>6.01e-13</td><td>2e-11</td><td>30.553</td><td>9.999</td><td>0.85</td><td>0.0</td><td>4.591</td><td>-0.405</td><td>0.378</td><td>0</td><td>1.42e-11</td><td>7.69e-12</td><td>27.122</td><td>0.585</td><td>0.88</td><td>1.9</td><td>-0.009</td><td>-0.282</td><td>0.007</td><td>0</td><td>-1.1e-13</td><td>1.06e-12</td><td>99.999</td><td>0.001</td><td>1.28</td><td>-0.2</td><td>-0.508</td><td>1.085</td><td>0.004</td><td>0</td><td>4.86e-10</td><td>6.33e-12</td><td>23.282</td><td>0.014</td><td>1.06</td><td>76.9</td><td>-0.043</td><td>0.497</td><td>0.114</td><td>0</td><td>False</td><td>False</td><td>True</td><td>True</td><td>True</td><td>True</td><td>1</td><td>921.228</td><td>907.187</td><td>True</td><td>True</td><td>False</td><td>False</td></tr>\n",
       "<tr><td>1598.79</td><td>1424.62</td><td>11.8394182865</td><td>42.3115731309</td><td>6.7e-08</td><td>6.44e-11</td><td>17.936</td><td>0.001</td><td>1.32</td><td>1040.0</td><td>0.003</td><td>-0.004</td><td>0.0</td><td>0</td><td>1.88e-07</td><td>1.43e-10</td><td>16.815</td><td>0.001</td><td>1.1</td><td>1312.6</td><td>-0.015</td><td>0.0</td><td>0.0</td><td>0</td><td>-2.4e-11</td><td>1.71e-11</td><td>99.999</td><td>9.999</td><td>0.78</td><td>-1.4</td><td>0.0</td><td>0.0</td><td>0.0</td><td>0</td><td>-4.4e-12</td><td>7.38e-12</td><td>99.999</td><td>0.585</td><td>0.84</td><td>-0.6</td><td>0.424</td><td>1.564</td><td>0.0</td><td>0</td><td>1.32e-11</td><td>1.53e-12</td><td>27.196</td><td>0.125</td><td>1.34</td><td>8.7</td><td>-0.064</td><td>0.206</td><td>0.002</td><td>2</td><td>5.75e-09</td><td>1.79e-11</td><td>20.601</td><td>0.003</td><td>0.92</td><td>320.5</td><td>-0.008</td><td>0.011</td><td>0.0</td><td>0</td><td>True</td><td>True</td><td>True</td><td>True</td><td>True</td><td>True</td><td>1</td><td>235.623</td><td>429.194</td><td>True</td><td>True</td><td>False</td><td>False</td></tr>\n",
       "<tr><td>3415.17</td><td>1832.75</td><td>11.8532029388</td><td>42.2878122302</td><td>6.21e-08</td><td>6.25e-11</td><td>18.018</td><td>0.001</td><td>1.3</td><td>993.1</td><td>0.026</td><td>0.045</td><td>0.017</td><td>0</td><td>1.74e-07</td><td>1.41e-10</td><td>16.898</td><td>0.001</td><td>1.31</td><td>1235.9</td><td>0.025</td><td>0.001</td><td>0.026</td><td>0</td><td>-1.4e-11</td><td>1.71e-11</td><td>99.999</td><td>9.999</td><td>0.95</td><td>-0.8</td><td>0.0</td><td>0.0</td><td>0.0</td><td>0</td><td>-4.7e-12</td><td>7.48e-12</td><td>99.999</td><td>9.999</td><td>0.93</td><td>-0.6</td><td>-1.983</td><td>0.005</td><td>0.0</td><td>0</td><td>9.74e-12</td><td>1.64e-12</td><td>27.528</td><td>0.18</td><td>1.16</td><td>6.0</td><td>0.019</td><td>0.971</td><td>0.002</td><td>2</td><td>6.21e-09</td><td>1.87e-11</td><td>20.518</td><td>0.003</td><td>0.8</td><td>332.9</td><td>-0.004</td><td>0.019</td><td>0.0</td><td>0</td><td>True</td><td>True</td><td>True</td><td>True</td><td>True</td><td>True</td><td>1</td><td>819.953</td><td>21.7172</td><td>True</td><td>True</td><td>False</td><td>False</td></tr>\n",
       "<tr><td>...</td><td>...</td><td>...</td><td>...</td><td>...</td><td>...</td><td>...</td><td>...</td><td>...</td><td>...</td><td>...</td><td>...</td><td>...</td><td>...</td><td>...</td><td>...</td><td>...</td><td>...</td><td>...</td><td>...</td><td>...</td><td>...</td><td>...</td><td>...</td><td>...</td><td>...</td><td>...</td><td>...</td><td>...</td><td>...</td><td>...</td><td>...</td><td>...</td><td>...</td><td>...</td><td>...</td><td>...</td><td>...</td><td>...</td><td>...</td><td>...</td><td>...</td><td>...</td><td>...</td><td>...</td><td>...</td><td>...</td><td>...</td><td>...</td><td>...</td><td>...</td><td>...</td><td>...</td><td>...</td><td>...</td><td>...</td><td>...</td><td>...</td><td>...</td><td>...</td><td>...</td><td>...</td><td>...</td><td>...</td><td>...</td><td>...</td><td>...</td><td>...</td><td>...</td><td>...</td><td>...</td><td>...</td><td>...</td><td>...</td><td>...</td><td>...</td><td>...</td></tr>\n",
       "<tr><td>2135.32</td><td>3663.15</td><td>11.6195433629</td><td>42.2687009063</td><td>1.9e-11</td><td>5.54e-12</td><td>26.805</td><td>0.317</td><td>1.36</td><td>3.4</td><td>0.169</td><td>0.777</td><td>1.138</td><td>0</td><td>2.33e-11</td><td>1.42e-11</td><td>26.58</td><td>0.662</td><td>1.1</td><td>1.6</td><td>-0.008</td><td>3.176</td><td>4.354</td><td>0</td><td>4.07e-12</td><td>2.15e-11</td><td>28.475</td><td>5.87</td><td>1.02</td><td>0.2</td><td>-0.258</td><td>0.285</td><td>0.031</td><td>0</td><td>-3.5e-11</td><td>7.5e-12</td><td>99.999</td><td>0.691</td><td>1.57</td><td>-4.6</td><td>0.0</td><td>0.0</td><td>5.428</td><td>0</td><td>4.52e-12</td><td>1.18e-12</td><td>28.363</td><td>0.286</td><td>0.87</td><td>3.8</td><td>0.225</td><td>-0.084</td><td>2.159</td><td>0</td><td>1.46e-11</td><td>2.78e-12</td><td>27.091</td><td>0.206</td><td>1.09</td><td>5.3</td><td>-0.098</td><td>1.34</td><td>0.135</td><td>0</td><td>False</td><td>True</td><td>False</td><td>True</td><td>False</td><td>False</td><td>18</td><td>952.519</td><td>933.559</td><td>True</td><td>True</td><td>False</td><td>False</td></tr>\n",
       "<tr><td>2896.1</td><td>1953.76</td><td>11.5852126215</td><td>42.2632545925</td><td>1.66e-11</td><td>6.27e-12</td><td>26.947</td><td>0.409</td><td>0.72</td><td>2.7</td><td>0.237</td><td>0.269</td><td>1.79</td><td>0</td><td>1.35e-11</td><td>1.45e-11</td><td>27.175</td><td>1.169</td><td>0.83</td><td>0.9</td><td>0.021</td><td>-0.313</td><td>3.982</td><td>0</td><td>-3.7e-11</td><td>1.84e-11</td><td>99.999</td><td>0.28</td><td>0.87</td><td>-2.0</td><td>0.0</td><td>0.0</td><td>0.0</td><td>0</td><td>-2.1e-11</td><td>6.82e-12</td><td>99.999</td><td>0.691</td><td>0.79</td><td>-3.0</td><td>0.0</td><td>0.0</td><td>0.0</td><td>0</td><td>6.12e-12</td><td>1.51e-12</td><td>28.033</td><td>0.255</td><td>0.96</td><td>4.3</td><td>0.129</td><td>0.657</td><td>0.166</td><td>0</td><td>1.11e-11</td><td>3.35e-12</td><td>27.387</td><td>0.328</td><td>1.16</td><td>3.3</td><td>0.441</td><td>1.964</td><td>0.548</td><td>0</td><td>True</td><td>True</td><td>True</td><td>False</td><td>False</td><td>False</td><td>18</td><td>708.962</td><td>210.917</td><td>True</td><td>True</td><td>False</td><td>False</td></tr>\n",
       "<tr><td>1172.93</td><td>1530.28</td><td>11.5978423392</td><td>42.2404556554</td><td>1.41e-11</td><td>5.66e-12</td><td>27.131</td><td>0.438</td><td>1.05</td><td>2.5</td><td>-0.559</td><td>0.142</td><td>1.326</td><td>0</td><td>8.48e-12</td><td>1.41e-11</td><td>27.679</td><td>1.814</td><td>0.98</td><td>0.6</td><td>-0.018</td><td>0.345</td><td>6.223</td><td>0</td><td>-4.7e-11</td><td>1.95e-11</td><td>99.999</td><td>0.28</td><td>0.87</td><td>-2.4</td><td>0.0</td><td>0.0</td><td>0.0</td><td>0</td><td>-1.9e-11</td><td>7.1e-12</td><td>99.999</td><td>0.691</td><td>0.8</td><td>-2.7</td><td>0.0</td><td>0.0</td><td>0.0</td><td>0</td><td>3.18e-12</td><td>1.34e-12</td><td>28.743</td><td>0.483</td><td>0.94</td><td>2.2</td><td>-0.193</td><td>0.162</td><td>2.223</td><td>0</td><td>1.42e-11</td><td>3.18e-12</td><td>27.123</td><td>0.239</td><td>0.98</td><td>4.5</td><td>-0.101</td><td>0.619</td><td>0.369</td><td>0</td><td>True</td><td>True</td><td>False</td><td>True</td><td>False</td><td>False</td><td>18</td><td>146.588</td><td>588.926</td><td>True</td><td>True</td><td>False</td><td>False</td></tr>\n",
       "<tr><td>2567.51</td><td>1482.34</td><td>11.581699552</td><td>42.2557105441</td><td>7.62e-12</td><td>5.48e-12</td><td>27.795</td><td>0.781</td><td>1.13</td><td>1.4</td><td>-0.975</td><td>-0.08</td><td>2.028</td><td>0</td><td>1.81e-11</td><td>1.46e-11</td><td>26.854</td><td>0.875</td><td>1.07</td><td>1.2</td><td>-0.03</td><td>-0.604</td><td>4.664</td><td>0</td><td>-4.4e-11</td><td>1.98e-11</td><td>99.999</td><td>0.28</td><td>0.92</td><td>-2.2</td><td>-0.123</td><td>1.696</td><td>0.012</td><td>0</td><td>1.15e-11</td><td>7.49e-12</td><td>27.351</td><td>0.711</td><td>0.8</td><td>1.5</td><td>-0.699</td><td>0.251</td><td>0.028</td><td>0</td><td>6.44e-12</td><td>1.44e-12</td><td>27.977</td><td>0.242</td><td>0.92</td><td>4.5</td><td>-0.215</td><td>1.338</td><td>0.256</td><td>0</td><td>1.55e-12</td><td>3.09e-12</td><td>29.524</td><td>2.687</td><td>1.03</td><td>0.4</td><td>-0.903</td><td>0.807</td><td>4.51</td><td>0</td><td>True</td><td>False</td><td>True</td><td>False</td><td>False</td><td>False</td><td>18</td><td>500.399</td><td>168.509</td><td>True</td><td>True</td><td>False</td><td>False</td></tr>\n",
       "<tr><td>1743.7</td><td>3818.77</td><td>11.6262316427</td><td>42.26557829</td><td>0.0</td><td>4.28e-07</td><td>99.999</td><td>9.999</td><td>0.0</td><td>0.0</td><td>0.0</td><td>0.0</td><td>0.0</td><td>9</td><td>0.0</td><td>9999.0</td><td>99.999</td><td>9.999</td><td>0.0</td><td>0.0</td><td>0.0</td><td>0.0</td><td>0.0</td><td>0</td><td>9.95e-11</td><td>2.46e-11</td><td>25.006</td><td>0.268</td><td>0.78</td><td>4.0</td><td>-0.036</td><td>0.034</td><td>0.012</td><td>0</td><td>-2.5e-12</td><td>6.7e-12</td><td>99.999</td><td>0.595</td><td>0.86</td><td>-0.3</td><td>-1.002</td><td>0.216</td><td>0.012</td><td>0</td><td>8.01e-13</td><td>1.11e-12</td><td>30.241</td><td>1.57</td><td>0.94</td><td>0.7</td><td>0.729</td><td>4.788</td><td>0.286</td><td>0</td><td>1.66e-12</td><td>2.6e-12</td><td>29.447</td><td>1.749</td><td>1.18</td><td>0.6</td><td>0.238</td><td>2.036</td><td>4.059</td><td>0</td><td>True</td><td>True</td><td>False</td><td>False</td><td>True</td><td>True</td><td>18</td><td>890.035</td><td>1093.28</td><td>False</td><td>True</td><td>False</td><td>True</td></tr>\n",
       "<tr><td>2606.67</td><td>3229.88</td><td>11.6077622829</td><td>42.2704469253</td><td>-2.4e-12</td><td>4.94e-12</td><td>99.999</td><td>9.999</td><td>0.67</td><td>-0.5</td><td>-9.999</td><td>0.0</td><td>9.999</td><td>0</td><td>-6.9e-12</td><td>1.41e-11</td><td>99.999</td><td>9.999</td><td>0.95</td><td>-0.5</td><td>0.279</td><td>-0.645</td><td>6.49</td><td>0</td><td>-3e-11</td><td>2e-11</td><td>99.999</td><td>0.295</td><td>0.78</td><td>-1.5</td><td>0.0</td><td>0.0</td><td>0.0</td><td>0</td><td>4.51e-11</td><td>9.3e-12</td><td>25.864</td><td>0.222</td><td>0.85</td><td>4.9</td><td>-0.185</td><td>1.169</td><td>0.118</td><td>2</td><td>2.71e-13</td><td>1.17e-12</td><td>31.416</td><td>9.999</td><td>0.99</td><td>0.1</td><td>-0.163</td><td>0.061</td><td>4.245</td><td>0</td><td>3.78e-12</td><td>3.14e-12</td><td>28.555</td><td>0.884</td><td>0.79</td><td>1.2</td><td>-0.733</td><td>0.225</td><td>1.82</td><td>0</td><td>True</td><td>True</td><td>False</td><td>False</td><td>True</td><td>True</td><td>18</td><td>963.931</td><td>669.237</td><td>True</td><td>True</td><td>False</td><td>False</td></tr>\n",
       "<tr><td>1702.63</td><td>1648.79</td><td>11.5937841043</td><td>42.2473687143</td><td>6.18e-12</td><td>5.55e-12</td><td>28.022</td><td>0.974</td><td>1.06</td><td>1.1</td><td>0.374</td><td>-0.661</td><td>1.719</td><td>0</td><td>1.16e-11</td><td>1.41e-11</td><td>27.34</td><td>1.323</td><td>0.73</td><td>0.8</td><td>0.026</td><td>-0.915</td><td>3.782</td><td>0</td><td>-4.9e-11</td><td>1.91e-11</td><td>99.999</td><td>0.312</td><td>1.01</td><td>-2.6</td><td>0.0</td><td>0.0</td><td>0.0</td><td>0</td><td>3.78e-11</td><td>9.31e-12</td><td>26.056</td><td>0.269</td><td>0.91</td><td>4.0</td><td>0.228</td><td>0.033</td><td>0.011</td><td>0</td><td>2.27e-12</td><td>1.55e-12</td><td>29.108</td><td>0.739</td><td>0.97</td><td>1.5</td><td>1.251</td><td>1.91</td><td>0.19</td><td>0</td><td>6.76e-12</td><td>3e-12</td><td>27.925</td><td>0.496</td><td>1.14</td><td>2.2</td><td>0.553</td><td>2.125</td><td>3.936</td><td>2</td><td>True</td><td>True</td><td>False</td><td>False</td><td>False</td><td>False</td><td>18</td><td>316.435</td><td>469.307</td><td>True</td><td>True</td><td>False</td><td>False</td></tr>\n",
       "<tr><td>1471.36</td><td>2249.83</td><td>11.6054513189</td><td>42.2496905042</td><td>-8.1e-14</td><td>5.38e-12</td><td>99.999</td><td>9.999</td><td>1.12</td><td>-0.0</td><td>-9.999</td><td>-0.0</td><td>9.999</td><td>0</td><td>3.94e-12</td><td>1.42e-11</td><td>28.51</td><td>3.891</td><td>0.87</td><td>0.3</td><td>-0.152</td><td>2.683</td><td>7.546</td><td>0</td><td>-4.3e-11</td><td>1.99e-11</td><td>99.999</td><td>0.54</td><td>0.82</td><td>-2.2</td><td>0.0</td><td>0.0</td><td>0.0</td><td>0</td><td>-5.1e-12</td><td>7.61e-12</td><td>99.999</td><td>0.523</td><td>1.1</td><td>-0.6</td><td>-0.752</td><td>-0.06</td><td>0.012</td><td>0</td><td>-7.2e-13</td><td>1.32e-12</td><td>99.999</td><td>0.436</td><td>1.21</td><td>-0.9</td><td>-0.264</td><td>0.224</td><td>0.043</td><td>0</td><td>2.05e-11</td><td>3.72e-12</td><td>26.719</td><td>0.197</td><td>1.08</td><td>5.5</td><td>-0.247</td><td>0.344</td><td>0.504</td><td>0</td><td>True</td><td>True</td><td>True</td><td>True</td><td>True</td><td>False</td><td>18</td><td>411.587</td><td>712.839</td><td>True</td><td>True</td><td>False</td><td>False</td></tr>\n",
       "<tr><td>1948.74</td><td>1221.42</td><td>11.5845858453</td><td>42.2466333273</td><td>2.34e-12</td><td>5.15e-12</td><td>29.078</td><td>2.393</td><td>1.06</td><td>0.5</td><td>-0.404</td><td>9.999</td><td>2.313</td><td>0</td><td>1.41e-11</td><td>1.39e-11</td><td>27.125</td><td>1.069</td><td>0.8</td><td>1.0</td><td>0.464</td><td>1.196</td><td>2.201</td><td>0</td><td>-3.7e-11</td><td>1.92e-11</td><td>99.999</td><td>0.472</td><td>0.83</td><td>-1.9</td><td>0.0</td><td>0.0</td><td>0.0</td><td>0</td><td>-1.5e-11</td><td>7.08e-12</td><td>99.999</td><td>0.248</td><td>1.01</td><td>-2.1</td><td>0.0</td><td>0.0</td><td>0.0</td><td>0</td><td>6.46e-12</td><td>1.39e-12</td><td>27.975</td><td>0.23</td><td>1.11</td><td>4.7</td><td>0.075</td><td>1.713</td><td>0.063</td><td>0</td><td>6.4e-12</td><td>2.97e-12</td><td>27.984</td><td>0.508</td><td>0.94</td><td>2.1</td><td>0.335</td><td>1.008</td><td>0.263</td><td>2</td><td>True</td><td>True</td><td>True</td><td>False</td><td>False</td><td>False</td><td>18</td><td>270.224</td><td>272.347</td><td>True</td><td>True</td><td>False</td><td>False</td></tr>\n",
       "<tr><td>3074.74</td><td>2677.43</td><td>11.5942095864</td><td>42.2711799028</td><td>6.73e-12</td><td>6.91e-12</td><td>27.93</td><td>1.115</td><td>1.54</td><td>1.0</td><td>1.764</td><td>-0.802</td><td>4.024</td><td>0</td><td>8.05e-11</td><td>2.08e-11</td><td>25.236</td><td>0.281</td><td>1.72</td><td>3.9</td><td>-0.238</td><td>1.445</td><td>3.041</td><td>2</td><td>1.1e-10</td><td>2.36e-11</td><td>24.897</td><td>0.233</td><td>0.8</td><td>4.7</td><td>-0.146</td><td>0.774</td><td>0.031</td><td>0</td><td>-1.4e-11</td><td>6.9e-12</td><td>99.999</td><td>0.412</td><td>0.76</td><td>-1.9</td><td>9.999</td><td>0.671</td><td>0.7</td><td>0</td><td>-1.3e-13</td><td>1.23e-12</td><td>99.999</td><td>0.686</td><td>0.9</td><td>-0.5</td><td>0.356</td><td>-0.2</td><td>0.121</td><td>0</td><td>-5.9e-12</td><td>2.8e-12</td><td>99.999</td><td>0.353</td><td>0.9</td><td>-2.1</td><td>0.0</td><td>0.0</td><td>9.984</td><td>0</td><td>True</td><td>True</td><td>True</td><td>True</td><td>False</td><td>False</td><td>18</td><td>943.57</td><td>370.943</td><td>True</td><td>True</td><td>False</td><td>False</td></tr>\n",
       "</table>"
      ],
      "text/plain": [
       "<Table length=2756854>\n",
       "   x       y          ra      ... inside_chipgap inside_other_chipgap\n",
       "float32 float32    float64    ...      bool              bool        \n",
       "------- ------- ------------- ... -------------- --------------------\n",
       "3177.67 2512.01  11.840254697 ...          False                False\n",
       "2870.29 2914.33 11.8307509203 ...          False                False\n",
       "2521.57 2350.79 11.8354850854 ...          False                False\n",
       "1322.63  3754.0  11.800935575 ...          False                 True\n",
       "3177.56 2509.94 11.8402849744 ...          False                False\n",
       " 851.23 2162.69 11.8199528171 ...          False                False\n",
       "2229.87 3626.12 11.8128728487 ...          False                False\n",
       "2111.17 3554.69 11.8126521523 ...          False                False\n",
       "1598.79 1424.62 11.8394182865 ...          False                False\n",
       "3415.17 1832.75 11.8532029388 ...          False                False\n",
       "    ...     ...           ... ...            ...                  ...\n",
       "2135.32 3663.15 11.6195433629 ...          False                False\n",
       " 2896.1 1953.76 11.5852126215 ...          False                False\n",
       "1172.93 1530.28 11.5978423392 ...          False                False\n",
       "2567.51 1482.34  11.581699552 ...          False                False\n",
       " 1743.7 3818.77 11.6262316427 ...          False                 True\n",
       "2606.67 3229.88 11.6077622829 ...          False                False\n",
       "1702.63 1648.79 11.5937841043 ...          False                False\n",
       "1471.36 2249.83 11.6054513189 ...          False                False\n",
       "1948.74 1221.42 11.5845858453 ...          False                False\n",
       "3074.74 2677.43 11.5942095864 ...          False                False"
      ]
     },
     "execution_count": 438,
     "metadata": {},
     "output_type": "execute_result"
    }
   ],
   "source": [
    "phat_data"
   ]
  },
  {
   "cell_type": "markdown",
   "metadata": {},
   "source": [
    "# Check if star is acceptable"
   ]
  },
  {
   "cell_type": "code",
   "execution_count": 439,
   "metadata": {},
   "outputs": [],
   "source": [
    "## E's values from running ETC for M32 catalog (optical filters)\n",
    "#saturation_limit = 19.2 # according to ETC in F110W with NSRAPID  #vegamag is 19.2 abmag is 19.5\n",
    "#faint_limit = 23.2 # S/N > 20 in F110W with NSRAPID # vegamag is 23.2 abmag is 23.5\n",
    "#companion_mag_cutoff = 26\n",
    "\n",
    "# K's values from running ETC for PHAT catalog\n",
    "saturation_limit = 19.0 # according to ETC - source mag in vegamag F110W WFC3/IR, strategy: with NSRAPID in F110W\n",
    "# using JDOX table - this is a more conservative choice\n",
    "saturation_limit = 19.5 \n",
    "\n",
    "faint_limit = 22.1 # S/N > 20 according to ETC; vegamag F110W WFC3/IR, with NSRAPID in F110W\n",
    "# unlike saturation limit, above is approx. the same as the JDOX table, which is 22.0 in F110W NIRSpec\n",
    "faint_limit_for_mag_contrast = faint_limit + 2  # this *must* be fainter than faint_limit for the code below to work right\n",
    "companion_mag_cutoff = faint_limit + 10.  # this is for determining what counts when looking for companions within 0.3 arcsec"
   ]
  },
  {
   "cell_type": "code",
   "execution_count": 440,
   "metadata": {},
   "outputs": [
    {
     "data": {
      "text/plain": [
       "45864"
      ]
     },
     "execution_count": 440,
     "metadata": {},
     "output_type": "execute_result"
    }
   ],
   "source": [
    "#msata_stars = t814[(t814['MagAp2'] < faint_limit)&(t814['Flags'] == 0)]\n",
    "#len(msata_stars)\n",
    "\n",
    "# Is the star bright enough to use for TA, and is it well measured? (passes gst cuts)\n",
    "msata_stars = phat_data[(phat_data['f110w_vega'] < faint_limit)&(phat_data['f110w_gst'] == True)]\n",
    "# could also try without enforcing 'gst' cut- \n",
    "# but that makes an insignificant difference in total available # of stars, at least for Brick 23\n",
    "msata_stars = phat_data[(phat_data['f110w_vega'] < faint_limit)]\n",
    "len(msata_stars)"
   ]
  },
  {
   "cell_type": "code",
   "execution_count": 441,
   "metadata": {},
   "outputs": [],
   "source": [
    "starcoos = SkyCoord.guess_from_table(msata_stars, unit=u.deg)"
   ]
  },
  {
   "cell_type": "markdown",
   "metadata": {},
   "source": [
    "## Density "
   ]
  },
  {
   "cell_type": "code",
   "execution_count": 442,
   "metadata": {},
   "outputs": [
    {
     "data": {
      "text/plain": [
       "<matplotlib.lines.Line2D at 0x7fe19fe07550>"
      ]
     },
     "execution_count": 442,
     "metadata": {},
     "output_type": "execute_result"
    },
    {
     "data": {
      "image/png": "[encoded data removed]",
      "text/plain": [
       "<Figure size 432x288 with 1 Axes>"
      ]
     },
     "metadata": {
      "needs_background": "light"
     },
     "output_type": "display_data"
    }
   ],
   "source": [
    "searchsep = 2*u.arcsec\n",
    "idx1 = starcoos.search_around_sky(starcoos, searchsep)[0]\n",
    "unique, counts = np.unique(idx1, return_counts=True)\n",
    "\n",
    "assert np.all(np.arange(len(unique))==unique) # sanity check that the unique is in order\n",
    "density = counts/(np.pi*searchsep**2)\n",
    "\n",
    "plt.hist(density.value, density=True)\n",
    "plt.axvline(1, c='k')"
   ]
  },
  {
   "cell_type": "code",
   "execution_count": 443,
   "metadata": {},
   "outputs": [
    {
     "data": {
      "text/plain": [
       "0.88930315716030006"
      ]
     },
     "execution_count": 443,
     "metadata": {},
     "output_type": "execute_result"
    }
   ],
   "source": [
    "densityok = density<(1*u.arcsec**-2)\n",
    "np.sum(densityok)/len(densityok)"
   ]
  },
  {
   "cell_type": "markdown",
   "metadata": {},
   "source": [
    "## Saturation"
   ]
  },
  {
   "cell_type": "code",
   "execution_count": 444,
   "metadata": {},
   "outputs": [
    {
     "data": {
      "text/plain": [
       "0.92937816152101871"
      ]
     },
     "execution_count": 444,
     "metadata": {},
     "output_type": "execute_result"
    }
   ],
   "source": [
    "unsaturated = msata_stars['f110w_vega'] > saturation_limit\n",
    "np.sum(unsaturated)/len(unsaturated)"
   ]
  },
  {
   "cell_type": "markdown",
   "metadata": {},
   "source": [
    "## Mag contrast"
   ]
  },
  {
   "cell_type": "markdown",
   "metadata": {},
   "source": [
    "This is to be thought of as \"the brightest star within the 2\" around me is at least X mags fainter.  \n",
    "\n",
    "This also should take care of the criterion that it has to be the brightest object within the 3.2 arcsec TA box. (Which really needs to be a bigger to deal with pointing not being perfect.... so if pointing off by 0.5 arcsec, it is still the brightest thing in the 3.2 arcsec box used for MSATA.)"
   ]
  },
  {
   "cell_type": "code",
   "execution_count": 445,
   "metadata": {},
   "outputs": [
    {
     "data": {
      "text/plain": [
       "384893"
      ]
     },
     "execution_count": 445,
     "metadata": {},
     "output_type": "execute_result"
    }
   ],
   "source": [
    "mag_contrast_stars = phat_data[(phat_data['f110w_vega'] < faint_limit_for_mag_contrast)]\n",
    "mag_contrast_stars_coos = SkyCoord.guess_from_table(mag_contrast_stars, unit=u.deg)\n",
    "len(mag_contrast_stars)"
   ]
  },
  {
   "cell_type": "code",
   "execution_count": 446,
   "metadata": {},
   "outputs": [],
   "source": [
    "idx_contrast, idx_star = starcoos.search_around_sky(mag_contrast_stars_coos, 2*u.arcsec)[:2]"
   ]
  },
  {
   "cell_type": "code",
   "execution_count": 447,
   "metadata": {},
   "outputs": [
    {
     "data": {
      "text/plain": [
       "0.68568820372729977"
      ]
     },
     "execution_count": 447,
     "metadata": {},
     "output_type": "execute_result"
    }
   ],
   "source": [
    "this_star_mag = msata_stars['f110w_vega'][idx_star]\n",
    "contrast_star_mag = mag_contrast_stars['f110w_vega'][idx_contrast]\n",
    "idx1_has_bright_neighbor = contrast_star_mag  < (this_star_mag + contrast_level_needed)\n",
    "np.sum(idx1_has_bright_neighbor)/len(idx1_has_bright_neighbor)"
   ]
  },
  {
   "cell_type": "code",
   "execution_count": 448,
   "metadata": {},
   "outputs": [
    {
     "data": {
      "text/plain": [
       "3140"
      ]
     },
     "execution_count": 448,
     "metadata": {},
     "output_type": "execute_result"
    }
   ],
   "source": [
    "unique, counts = np.unique(idx_star[idx1_has_bright_neighbor], return_counts=True)\n",
    "has_no_bright_neighbors = np.zeros(len(msata_stars), dtype=bool)\n",
    "has_no_bright_neighbors[unique[counts<=1]] = True  # 1 is ok because of the self-match\n",
    "np.sum(has_no_bright_neighbors)"
   ]
  },
  {
   "cell_type": "markdown",
   "metadata": {},
   "source": [
    "## Companion"
   ]
  },
  {
   "cell_type": "code",
   "execution_count": 449,
   "metadata": {},
   "outputs": [],
   "source": [
    "companioncoos = SkyCoord.guess_from_table(phat_data[(phat_data['f110w_vega'] < companion_mag_cutoff)], unit=u.deg)\n",
    "\n",
    "_, sep, _ = starcoos.match_to_catalog_sky(companioncoos, 2)\n",
    "no_companion = sep > (0.3*u.arcsec)"
   ]
  },
  {
   "cell_type": "code",
   "execution_count": 450,
   "metadata": {},
   "outputs": [
    {
     "data": {
      "text/plain": [
       "0.11972353043781615"
      ]
     },
     "execution_count": 450,
     "metadata": {},
     "output_type": "execute_result"
    }
   ],
   "source": [
    "np.sum(no_companion)/len(no_companion)"
   ]
  },
  {
   "cell_type": "markdown",
   "metadata": {},
   "source": [
    "## Put it all together "
   ]
  },
  {
   "cell_type": "code",
   "execution_count": 451,
   "metadata": {},
   "outputs": [
    {
     "name": "stdout",
     "output_type": "stream",
     "text": [
      "Total Number of possible MSATA reference stars in brick:  341\n",
      "Average density per square arcminute:  4.37179487179\n",
      "Average number per MSA FOV:  53.5107692308\n"
     ]
    }
   ],
   "source": [
    "acceptable_msata_star_msk = densityok & unsaturated & has_no_bright_neighbors & no_companion\n",
    "print('Total Number of possible MSATA reference stars in brick: ', np.sum(acceptable_msata_star_msk))\n",
    "# for PHAT, this is a brick wide st catalog.  so divide by area of brick\n",
    "# a default area of 12' × 6.'5 corresponds to the 3 × 6 WFC3/IR footprint of a single brick\n",
    "print('Average density per square arcminute: ', np.sum(acceptable_msata_star_msk)/(12.0*6.5))\n",
    "print('Average number per MSA FOV: ', np.sum(acceptable_msata_star_msk)/(12.0*6.5)*(3.6*3.4))"
   ]
  },
  {
   "cell_type": "code",
   "execution_count": 452,
   "metadata": {},
   "outputs": [
    {
     "name": "stdout",
     "output_type": "stream",
     "text": [
      "Field  1 :  57\n",
      "Field  2 :  26\n",
      "Field  3 :  24\n",
      "Field  4 :  9\n",
      "Field  5 :  17\n",
      "Field  6 :  15\n",
      "Field  7 :  15\n",
      "Field  8 :  23\n",
      "Field  9 :  19\n",
      "Field  10 :  13\n",
      "Field  11 :  12\n",
      "Field  12 :  24\n",
      "Field  13 :  21\n",
      "Field  14 :  21\n",
      "Field  15 :  14\n",
      "Field  16 :  6\n",
      "Field  17 :  15\n",
      "Field  18 :  10\n",
      "341\n"
     ]
    }
   ],
   "source": [
    "# Check numbers for each field in the brick with valid ref stars\n",
    "sum = 0\n",
    "for f in np.unique(msata_stars['field'][acceptable_msata_star_msk]):\n",
    "    in_field = (msata_stars['field'][acceptable_msata_star_msk] == f)\n",
    "    print('Field ',f,': ', np.sum(in_field))\n",
    "    sum += np.sum(in_field)\n",
    "print(sum)"
   ]
  },
  {
   "cell_type": "markdown",
   "metadata": {},
   "source": [
    "![](apjs431025f5_lr.jpg)"
   ]
  },
  {
   "cell_type": "markdown",
   "metadata": {},
   "source": [
    "### Make sure they aren't all on the edges..."
   ]
  },
  {
   "cell_type": "code",
   "execution_count": 453,
   "metadata": {},
   "outputs": [
    {
     "data": {
      "text/plain": [
       "<matplotlib.collections.PathCollection at 0x7fe1a73886d8>"
      ]
     },
     "execution_count": 453,
     "metadata": {},
     "output_type": "execute_result"
    },
    {
     "data": {
      "image/png": "[encoded data removed]",
      "text/plain": [
       "<Figure size 432x288 with 1 Axes>"
      ]
     },
     "metadata": {
      "needs_background": "light"
     },
     "output_type": "display_data"
    }
   ],
   "source": [
    "phatcoos = SkyCoord.guess_from_table(phat_data, unit=u.deg)\n",
    "#plt.scatter(phatcoos.ra, phatcoos.dec, alpha=0.01, color='lightgrey')\n",
    "plt.scatter(starcoos[acceptable_msata_star_msk].ra, starcoos[acceptable_msata_star_msk].dec)"
   ]
  },
  {
   "cell_type": "code",
   "execution_count": 454,
   "metadata": {},
   "outputs": [
    {
     "data": {
      "application/vnd.jupyter.widget-view+json": {
       "model_id": "49a5350d0f6242f2ab7c2abedb30b644",
       "version_major": 2,
       "version_minor": 0
      },
      "text/plain": [
       "ImageWidget(children=(Image(value=b'\\xff\\xd8\\xff\\xe0\\x00\\x10JFIF\\x00\\x01\\x01\\x00\\x00\\x01\\x00\\x01\\x00\\x00\\xff\\x…"
      ]
     },
     "metadata": {},
     "output_type": "display_data"
    }
   ],
   "source": [
    "# display the brick, and lower add markers for the acceptable MSATA reference stars\n",
    "# scale will only allow a visual check that nothing is an artifact of or too near a very bright source\n",
    "img1 = ImageWidget(image_width= 1024, image_height=600)\n",
    "img1.load_fits(phat_ref_img)\n",
    "img1"
   ]
  },
  {
   "cell_type": "code",
   "execution_count": 455,
   "metadata": {},
   "outputs": [],
   "source": [
    "msata_stars.add_column(starcoos, name='SkyCoord')"
   ]
  },
  {
   "cell_type": "code",
   "execution_count": 456,
   "metadata": {},
   "outputs": [],
   "source": [
    "# haven't cracked this yet... \n",
    "img1.add_markers(msata_stars[acceptable_msata_star_msk], skycoord_colname='SkyCoord', use_skycoord = True)"
   ]
  },
  {
   "cell_type": "code",
   "execution_count": 433,
   "metadata": {},
   "outputs": [],
   "source": [
    "# use if you've already added markers\n",
    "img1.remove_markers()"
   ]
  },
  {
   "cell_type": "markdown",
   "metadata": {},
   "source": [
    "### Summary\n",
    "Brick 11 is a no-go, even under the best of conditions (can have a close companion within 0.3 arcsec as long as fainter than F110W of 25, and using the brighter saturation limit of 19.0 for F110W vegamag normalizations that I found using the ETC).\n",
    "\n",
    "Brick 19 -- marginal ~ 24 per MSA FOV with brighter saturationa limit, ~ 12 with fainter saturation limit.\n",
    "The upper edge, and upper left corner of the brick (e.g., fields 1,2,3,4,5,7,8 have the most possible reference stars.\n",
    "\n",
    "Brick 23 - looks doable ~70 per MSA FOV with brighter saturation limit, ~ 50 with fainter saturation limit\n",
    "Any fields have fine numbers of reference stars.  center right of brick has some super bright stars to avoid as much as possible ('dragon's breath'...).  upper left has lots of available references stars, but also a few bright (but not as bright) sources.  more center/lower part of left half of brick might be preferable."
   ]
  },
  {
   "cell_type": "code",
   "execution_count": null,
   "metadata": {},
   "outputs": [],
   "source": []
  }
 ],
 "metadata": {
  "kernelspec": {
   "display_name": "Python 3 (ipykernel)",
   "language": "python",
   "name": "python3"
  },
  "language_info": {
   "codemirror_mode": {
    "name": "ipython",
    "version": 3
   },
   "file_extension": ".py",
   "mimetype": "text/x-python",
   "name": "python",
   "nbconvert_exporter": "python",
   "pygments_lexer": "ipython3",
   "version": "3.10.8"
  }
 },
 "nbformat": 4,
 "nbformat_minor": 4
}
